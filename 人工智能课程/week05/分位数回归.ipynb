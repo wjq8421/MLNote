{
 "cells": [
  {
   "cell_type": "code",
   "execution_count": 1,
   "metadata": {},
   "outputs": [],
   "source": [
    "from statsmodels.api import QuantReg\n",
    "import pandas as pd\n",
    "import numpy as np"
   ]
  },
  {
   "cell_type": "code",
   "execution_count": 4,
   "metadata": {},
   "outputs": [],
   "source": [
    "train = pd.read_csv('height_train.csv')\n",
    "train['constant'] = 1"
   ]
  },
  {
   "cell_type": "code",
   "execution_count": 10,
   "metadata": {},
   "outputs": [],
   "source": [
    "# 10%分位数\n",
    "model = QuantReg(train.child_height, train.loc[:,['father_height','mother_height','boy_dummy','constant']])\n",
    "model = model.fit(q=0.1)\n",
    "train['height_quantile_10'] = model.predict(train.loc[:,['father_height','mother_height','boy_dummy','constant']])"
   ]
  },
  {
   "cell_type": "code",
   "execution_count": 11,
   "metadata": {},
   "outputs": [],
   "source": [
    "# 90%分位数\n",
    "model = QuantReg(train.child_height, train.loc[:,['father_height','mother_height','boy_dummy','constant']])\n",
    "model = model.fit(q=0.9)\n",
    "train['height_quantile_90'] = model.predict(train.loc[:,['father_height','mother_height','boy_dummy','constant']])"
   ]
  },
  {
   "cell_type": "code",
   "execution_count": 12,
   "metadata": {},
   "outputs": [],
   "source": [
    "# 中位数\n",
    "model = QuantReg(train.child_height, train.loc[:,['father_height','mother_height','boy_dummy','constant']])\n",
    "model = model.fit(q=0.5)\n",
    "train['height_median'] = model.predict(train.loc[:,['father_height','mother_height','boy_dummy','constant']])"
   ]
  },
  {
   "cell_type": "code",
   "execution_count": null,
   "metadata": {},
   "outputs": [],
   "source": []
  }
 ],
 "metadata": {
  "kernelspec": {
   "display_name": "Python 3",
   "language": "python",
   "name": "python3"
  },
  "language_info": {
   "codemirror_mode": {
    "name": "ipython",
    "version": 3
   },
   "file_extension": ".py",
   "mimetype": "text/x-python",
   "name": "python",
   "nbconvert_exporter": "python",
   "pygments_lexer": "ipython3",
   "version": "3.7.3"
  }
 },
 "nbformat": 4,
 "nbformat_minor": 2
}
