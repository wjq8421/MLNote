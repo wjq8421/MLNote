{
 "cells": [
  {
   "cell_type": "markdown",
   "metadata": {},
   "source": [
    "深度网络模型其强大的表示能力大部分是由激活函数的非线性带来的。\n",
    "\n",
    "#### Sigmoid型函数\n",
    "$$\\sigma(x)=\\frac{1}{1+exp(-x)}$$\n",
    "\n",
    "1. 对照Sigmoid型函数的梯度图，大于$5$（或小于$-5$）部分的梯度接近0，这会导致在误差反向传播过程中导数处于该区域的误差很难甚至无法传递至前层，进而导致整个网络无法正常训练。\n",
    "2. Sigmoid型激活函数值域的均值并非为0而是全为正，并不符合我们对神经网络的期望应为0的设想。\n",
    "\n",
    "#### $tanh(x)$型函数\n",
    "$$tanh(x)=2\\sigma(2x)-1$$\n",
    "1. 函数范围是$(-1,+1)$，输出响应的均值为0。\n",
    "2. 基于Sigmoid型函数，依然会发生“梯度饱和”现象。"
   ]
  },
  {
   "cell_type": "markdown",
   "metadata": {},
   "source": [
    "#### 修正线性单元（ReLU）\n",
    "$$$ReLU(x)=max\\{0,x\\}$\n",
    "1. 对$x\\geq 0$部分完全消除了Sigmoid型函数的梯度饱和效应。\n",
    "2. 有助于随机梯度下降方法收敛。\n",
    "3. 缺陷：1）在$x<0$时，梯度便为$0$，即对于小于$0$的这部分卷积结果响应，它们一旦变为负值将无法影响网络训练，称作“死区”。"
   ]
  },
  {
   "cell_type": "markdown",
   "metadata": {},
   "source": [
    "#### Leaky ReLU\n",
    "$$Leaky ReLU(x)=\\left\\{\\begin{matrix}\n",
    "x\\ \\ if\\ x\\geq 0\\\\ \n",
    "\\alpha\\cdot x\\ \\ if\\ x<0\n",
    "\\end{matrix}\\right.$$\n",
    "其中，$\\alpha$为$0.01$或$0.001$数量级的较小正数。由于$\\alpha$为超参数，合适的值较难设定且较为敏感，因此Leaky ReLU函数在实际使用中的性能并不十分稳定。\n",
    "\n",
    "#### 参数化ReLU\n",
    "1. 直接将$\\alpha$也作为一个网络中可学习的变量融入模型的整体训练过程。\n",
    "2. $\\alpha$取值呈现由浅层到深层依次递减的趋势，即网络所需的非线性能力随网络深度增加而递增。\n",
    "\n",
    "#### 随机化ReLU\n",
    "1. 超参数$\\alpha$的设定是随机的。\n",
    "\n",
    "#### 指数化线性单元（ELU）\n",
    "$$ELU(x)=\\left\\{\\begin{matrix}\n",
    "x & if\\ x\\geq 0\\\\ \n",
    "\\lambda \\cdot (exp(x)-1) & if\\ x<0 \n",
    "\\end{matrix}\\right.$$\n",
    "1. ELU函数中的指数操作稍稍增大了计算量，其超参数$\\lambda$一般设置为1。"
   ]
  },
  {
   "cell_type": "markdown",
   "metadata": {},
   "source": [
    "____\n",
    "首先使用最常用的ReLU激活函数，但需注意模型参数初始化和学习率的设置。为了进一步提高模型精度，可尝试其他激活函数。"
   ]
  },
  {
   "cell_type": "code",
   "execution_count": null,
   "metadata": {},
   "outputs": [],
   "source": []
  }
 ],
 "metadata": {
  "kernelspec": {
   "display_name": "Python 3",
   "language": "python",
   "name": "python3"
  },
  "language_info": {
   "codemirror_mode": {
    "name": "ipython",
    "version": 3
   },
   "file_extension": ".py",
   "mimetype": "text/x-python",
   "name": "python",
   "nbconvert_exporter": "python",
   "pygments_lexer": "ipython3",
   "version": "3.6.6"
  },
  "toc": {
   "base_numbering": 1,
   "nav_menu": {},
   "number_sections": true,
   "sideBar": true,
   "skip_h1_title": false,
   "title_cell": "Table of Contents",
   "title_sidebar": "Contents",
   "toc_cell": false,
   "toc_position": {},
   "toc_section_display": true,
   "toc_window_display": false
  },
  "varInspector": {
   "cols": {
    "lenName": 16,
    "lenType": 16,
    "lenVar": 40
   },
   "kernels_config": {
    "python": {
     "delete_cmd_postfix": "",
     "delete_cmd_prefix": "del ",
     "library": "var_list.py",
     "varRefreshCmd": "print(var_dic_list())"
    },
    "r": {
     "delete_cmd_postfix": ") ",
     "delete_cmd_prefix": "rm(",
     "library": "var_list.r",
     "varRefreshCmd": "cat(var_dic_list()) "
    }
   },
   "types_to_exclude": [
    "module",
    "function",
    "builtin_function_or_method",
    "instance",
    "_Feature"
   ],
   "window_display": false
  }
 },
 "nbformat": 4,
 "nbformat_minor": 2
}
