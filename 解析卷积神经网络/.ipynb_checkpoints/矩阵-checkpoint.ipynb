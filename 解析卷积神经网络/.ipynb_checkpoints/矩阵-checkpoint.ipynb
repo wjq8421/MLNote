{
 "cells": [
  {
   "cell_type": "markdown",
   "metadata": {},
   "source": [
    "1. $A$是对称矩阵，则不同特征值对应的特征向量是正交的。\n",
    "2. 矩阵$A$和它的转置$A^T$具有相同的特征值。\n",
    "3. 半正定矩阵的特征值均大于等于零。\n",
    "4. 若$A$满足$A^TA=E$，则称$A$是单位正交矩阵。\n",
    "5. 若矩阵$A$的秩为$r$，则$A^TA$和$AA^T$的秩均为$r$。"
   ]
  },
  {
   "cell_type": "markdown",
   "metadata": {},
   "source": [
    "#### 半正定矩阵\n",
    "> 设$A$是实对称矩阵，如果对任意的实非零列向量$x$有$x^TAx\\geq 0$，就称$A$为半正定矩阵。"
   ]
  },
  {
   "cell_type": "markdown",
   "metadata": {},
   "source": [
    "#### 奇异值分解\n",
    "> 设矩阵$X\\in R^{m\\times n}$，矩阵的秩为$r$，且$r\\leq min(m,n)$，则矩阵可分解为如下的形式：\n",
    "$$X=U\\sum V^T=[u_1,u_2,\\cdots,u_r]\\begin{bmatrix}\n",
    "\\lambda_1 &  &  & \\\\ \n",
    " & \\lambda_2 &  & \\\\ \n",
    " &  & \\ddots  & \\\\ \n",
    " &  &  & \\lambda_r\n",
    "\\end{bmatrix} \\begin{bmatrix}\n",
    "v_1^T\\\\ \n",
    "v_2^T\\\\ \n",
    "\\vdots \\\\ \n",
    "v_r^T\n",
    "\\end{bmatrix}$$\n",
    "其中，$\\lambda_i$从大到小排序，即$\\lambda_1 \\geq \\lambda_2 \\geq \\cdots \\geq \\lambda_r$\n",
    "\n",
    "##### 低秩矩阵近似\n",
    "- 给定一个秩为$r$的矩阵$A$，求其最优$k$秩近似矩阵$\\tilde{A}$，$k\\leq r$。\n",
    "> 对矩阵$A$进行奇异值分解后，将矩阵$\\sum$中的$r-k$个最小的奇异值置零获得矩阵$\\sum_k$，仅保留最大的$k$个奇异值，则$$A_k=U_k\\sum_kV_k^T$$\n",
    "其中，$U_k$和$V_k$分别是$U$和$V$中前$k$列组成的矩阵。"
   ]
  },
  {
   "cell_type": "code",
   "execution_count": null,
   "metadata": {},
   "outputs": [],
   "source": []
  }
 ],
 "metadata": {
  "kernelspec": {
   "display_name": "Python 3",
   "language": "python",
   "name": "python3"
  },
  "language_info": {
   "codemirror_mode": {
    "name": "ipython",
    "version": 3
   },
   "file_extension": ".py",
   "mimetype": "text/x-python",
   "name": "python",
   "nbconvert_exporter": "python",
   "pygments_lexer": "ipython3",
   "version": "3.6.6"
  },
  "toc": {
   "base_numbering": 1,
   "nav_menu": {},
   "number_sections": true,
   "sideBar": true,
   "skip_h1_title": false,
   "title_cell": "Table of Contents",
   "title_sidebar": "Contents",
   "toc_cell": false,
   "toc_position": {},
   "toc_section_display": true,
   "toc_window_display": true
  },
  "varInspector": {
   "cols": {
    "lenName": 16,
    "lenType": 16,
    "lenVar": 40
   },
   "kernels_config": {
    "python": {
     "delete_cmd_postfix": "",
     "delete_cmd_prefix": "del ",
     "library": "var_list.py",
     "varRefreshCmd": "print(var_dic_list())"
    },
    "r": {
     "delete_cmd_postfix": ") ",
     "delete_cmd_prefix": "rm(",
     "library": "var_list.r",
     "varRefreshCmd": "cat(var_dic_list()) "
    }
   },
   "types_to_exclude": [
    "module",
    "function",
    "builtin_function_or_method",
    "instance",
    "_Feature"
   ],
   "window_display": false
  }
 },
 "nbformat": 4,
 "nbformat_minor": 2
}
