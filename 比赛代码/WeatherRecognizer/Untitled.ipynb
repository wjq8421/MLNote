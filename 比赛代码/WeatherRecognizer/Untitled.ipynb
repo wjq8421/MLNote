{
 "cells": [
  {
   "cell_type": "code",
   "execution_count": 2,
   "metadata": {
    "ExecuteTime": {
     "end_time": "2019-09-16T03:26:50.835460Z",
     "start_time": "2019-09-16T03:26:50.830460Z"
    }
   },
   "outputs": [],
   "source": [
    "import matplotlib.pyplot as plt\n",
    "import pandas as pd\n",
    "import numpy as np\n",
    "import seaborn as sns\n",
    "import torch\n",
    "import cv2\n",
    "import os"
   ]
  },
  {
   "cell_type": "code",
   "execution_count": 2,
   "metadata": {
    "ExecuteTime": {
     "end_time": "2019-09-12T02:57:00.802545Z",
     "start_time": "2019-09-12T02:57:00.700539Z"
    }
   },
   "outputs": [],
   "source": [
    "train_label = pd.read_csv('E:\\\\DL_datasets\\\\DF_WeatherRecognizer\\\\Train_label.csv')"
   ]
  },
  {
   "cell_type": "code",
   "execution_count": 12,
   "metadata": {
    "ExecuteTime": {
     "end_time": "2019-09-12T03:00:49.976653Z",
     "start_time": "2019-09-12T03:00:49.966652Z"
    }
   },
   "outputs": [
    {
     "name": "stdout",
     "output_type": "stream",
     "text": [
      "(6391, 2)\n"
     ]
    },
    {
     "data": {
      "text/plain": [
       "2    1296\n",
       "8     896\n",
       "5     841\n",
       "3     815\n",
       "9     606\n",
       "6     594\n",
       "4     499\n",
       "7     471\n",
       "1     373\n",
       "Name: type, dtype: int64"
      ]
     },
     "execution_count": 12,
     "metadata": {},
     "output_type": "execute_result"
    }
   ],
   "source": [
    "print(train_label.shape)\n",
    "train_label.type.value_counts()"
   ]
  },
  {
   "cell_type": "markdown",
   "metadata": {},
   "source": [
    "#### 预处理"
   ]
  },
  {
   "cell_type": "code",
   "execution_count": null,
   "metadata": {},
   "outputs": [],
   "source": [
    "# 将png、bmp、jpeg图片保存未jpg格式\n",
    "def to_jpg(image_name):\n",
    "    pass\n",
    "\n",
    "# 将gif动态图逐帧保存为jpg格式\n",
    "def gif_to_jpg(image_name):\n",
    "    pass"
   ]
  },
  {
   "cell_type": "code",
   "execution_count": 7,
   "metadata": {
    "ExecuteTime": {
     "end_time": "2019-09-16T06:40:39.476610Z",
     "start_time": "2019-09-16T06:40:39.456108Z"
    }
   },
   "outputs": [
    {
     "name": "stdout",
     "output_type": "stream",
     "text": [
      "{'bmp': 1, 'gif': 2, 'jpeg': 645, 'jpg': 5498, 'png': 245}\n"
     ]
    }
   ],
   "source": [
    "base_train_dir = \"E:\\\\DL_datasets\\\\DF_WeatherRecognizer\\\\train\"\n",
    "images = os.listdir(base_train_dir)\n",
    "\n",
    "# 观察单张图片\n",
    "# image_0_path = os.path.join(base_train_dir, images[0])\n",
    "# image_0 = cv2.imread(image_0_path)\n",
    "# cv2.imshow(\"image_0\", image_0)\n",
    "# cv2.waitKey()\n",
    "\n",
    "# 把图片全部保存为jpg格式\n",
    "postfixs = {'bmp':0, 'gif':0, 'jpeg':0, 'jpg':0, 'png':0}\n",
    "for image_name in images:\n",
    "    postfix = image_name.split('.')[1]\n",
    "    if postfix == 'bmp':\n",
    "        postfixs['bmp'] += 1\n",
    "    elif postfix == 'gif':\n",
    "        postfixs['gif'] += 1\n",
    "    elif postfix == 'jpeg':\n",
    "        postfixs['jpeg'] += 1\n",
    "    elif postfix == 'jpg':\n",
    "        postfixs['jpg'] += 1\n",
    "    elif postfix == 'png':\n",
    "        postfixs['png'] += 1\n",
    "    else:\n",
    "        print('Not exist')\n",
    "\n",
    "print(postfixs)"
   ]
  },
  {
   "cell_type": "code",
   "execution_count": 10,
   "metadata": {
    "ExecuteTime": {
     "end_time": "2019-09-16T06:48:14.297365Z",
     "start_time": "2019-09-16T06:48:14.285864Z"
    }
   },
   "outputs": [
    {
     "data": {
      "text/plain": [
       "6391"
      ]
     },
     "execution_count": 10,
     "metadata": {},
     "output_type": "execute_result"
    }
   ],
   "source": []
  },
  {
   "cell_type": "code",
   "execution_count": null,
   "metadata": {},
   "outputs": [],
   "source": []
  }
 ],
 "metadata": {
  "kernelspec": {
   "display_name": "Python 3",
   "language": "python",
   "name": "python3"
  },
  "language_info": {
   "codemirror_mode": {
    "name": "ipython",
    "version": 3
   },
   "file_extension": ".py",
   "mimetype": "text/x-python",
   "name": "python",
   "nbconvert_exporter": "python",
   "pygments_lexer": "ipython3",
   "version": "3.6.6"
  },
  "toc": {
   "base_numbering": 1,
   "nav_menu": {},
   "number_sections": true,
   "sideBar": true,
   "skip_h1_title": false,
   "title_cell": "Table of Contents",
   "title_sidebar": "Contents",
   "toc_cell": false,
   "toc_position": {},
   "toc_section_display": true,
   "toc_window_display": false
  },
  "varInspector": {
   "cols": {
    "lenName": 16,
    "lenType": 16,
    "lenVar": 40
   },
   "kernels_config": {
    "python": {
     "delete_cmd_postfix": "",
     "delete_cmd_prefix": "del ",
     "library": "var_list.py",
     "varRefreshCmd": "print(var_dic_list())"
    },
    "r": {
     "delete_cmd_postfix": ") ",
     "delete_cmd_prefix": "rm(",
     "library": "var_list.r",
     "varRefreshCmd": "cat(var_dic_list()) "
    }
   },
   "types_to_exclude": [
    "module",
    "function",
    "builtin_function_or_method",
    "instance",
    "_Feature"
   ],
   "window_display": false
  }
 },
 "nbformat": 4,
 "nbformat_minor": 2
}
