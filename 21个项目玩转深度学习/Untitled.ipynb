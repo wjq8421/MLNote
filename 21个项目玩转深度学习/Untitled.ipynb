{
 "cells": [
  {
   "cell_type": "code",
   "execution_count": 51,
   "metadata": {
    "ExecuteTime": {
     "end_time": "2019-09-03T14:09:06.020941Z",
     "start_time": "2019-09-03T14:09:06.016979Z"
    }
   },
   "outputs": [],
   "source": [
    "from tensorflow.keras.datasets.mnist import load_data\n",
    "from sklearn.preprocessing import OneHotEncoder\n",
    "from sklearn.model_selection import train_test_split\n",
    "import tensorflow as tf\n",
    "import numpy as np\n",
    "import pandas as pd\n",
    "import warnings\n",
    "\n",
    "warnings.filterwarnings('ignore')"
   ]
  },
  {
   "cell_type": "code",
   "execution_count": 16,
   "metadata": {
    "ExecuteTime": {
     "end_time": "2019-09-03T13:04:47.968185Z",
     "start_time": "2019-09-03T13:04:47.783655Z"
    }
   },
   "outputs": [],
   "source": [
    "(x_train, y_train), (x_test, y_test) = load_data()"
   ]
  },
  {
   "cell_type": "code",
   "execution_count": 26,
   "metadata": {
    "ExecuteTime": {
     "end_time": "2019-09-03T13:08:59.902654Z",
     "start_time": "2019-09-03T13:08:59.855781Z"
    }
   },
   "outputs": [
    {
     "name": "stdout",
     "output_type": "stream",
     "text": [
      "shape of x_train: (48000, 784)\n",
      "shape of y_train: (48000, 10)\n",
      "shape of x_val: (12000, 784)\n",
      "shape of y_val: (12000, 10)\n",
      "shape of x_test: (10000, 784)\n",
      "shape of y_test: (10000, 10)\n"
     ]
    }
   ],
   "source": [
    "x_train = x_train.reshape(-1, 28 * 28)\n",
    "x_test = x_test.reshape(-1, 28 * 28)\n",
    "y_train = OneHotEncoder().fit_transform(y_train.reshape(-1, 1)).toarray()\n",
    "y_test = OneHotEncoder().fit_transform(y_test.reshape(-1, 1)).toarray()\n",
    "\n",
    "x_train, x_val, y_train, y_val = train_test_split(x_train, y_train, test_size=0.2, random_state=42)\n",
    "\n",
    "print('shape of x_train:', x_train.shape)\n",
    "print('shape of y_train:', y_train.shape)\n",
    "print('shape of x_val:', x_val.shape)\n",
    "print('shape of y_val:', y_val.shape)\n",
    "print('shape of x_test:', x_test.shape)\n",
    "print('shape of y_test:', y_test.shape)"
   ]
  },
  {
   "cell_type": "markdown",
   "metadata": {
    "ExecuteTime": {
     "end_time": "2019-09-03T13:14:26.853653Z",
     "start_time": "2019-09-03T13:14:26.848666Z"
    }
   },
   "source": [
    "### 将mnist数据集读取出来，并保存为图片文件"
   ]
  },
  {
   "cell_type": "code",
   "execution_count": 45,
   "metadata": {
    "ExecuteTime": {
     "end_time": "2019-09-03T13:42:22.536496Z",
     "start_time": "2019-09-03T13:42:22.530536Z"
    }
   },
   "outputs": [],
   "source": [
    "from PIL import Image\n",
    "import os"
   ]
  },
  {
   "cell_type": "code",
   "execution_count": 47,
   "metadata": {
    "ExecuteTime": {
     "end_time": "2019-09-03T13:43:53.909808Z",
     "start_time": "2019-09-03T13:43:53.858842Z"
    }
   },
   "outputs": [],
   "source": [
    "save_dir = 'E:\\\\DL_datasets\\\\mnist\\\\raw'\n",
    "if not os.path.exists(save_dir):\n",
    "    os.makedir(save_dir)\n",
    "    \n",
    "# 保存前n张图片\n",
    "n = 20\n",
    "for i in range(n):\n",
    "    image_array = x_train[i, :]\n",
    "    image_array = image_array.reshape(28, 28)\n",
    "    filename = os.path.join(save_dir, 'mnist_train_{}.jpg'.format(i))\n",
    "    im = Image.fromarray(image_array)\n",
    "    im.save(filename)"
   ]
  },
  {
   "cell_type": "markdown",
   "metadata": {
    "ExecuteTime": {
     "end_time": "2019-09-03T13:48:20.743859Z",
     "start_time": "2019-09-03T13:48:20.739849Z"
    }
   },
   "source": [
    "### 使用softmax模型进行分类"
   ]
  },
  {
   "cell_type": "code",
   "execution_count": 66,
   "metadata": {
    "ExecuteTime": {
     "end_time": "2019-09-03T16:15:16.860874Z",
     "start_time": "2019-09-03T16:15:16.485879Z"
    },
    "scrolled": true
   },
   "outputs": [
    {
     "name": "stdout",
     "output_type": "stream",
     "text": [
      "0\n",
      "100\n",
      "200\n",
      "300\n"
     ]
    }
   ],
   "source": [
    "x = tf.placeholder(tf.float32, [None, 784])\n",
    "W = tf.Variable(tf.zeros([784, 10]))\n",
    "b = tf.Variable(tf.zeros([10]))\n",
    "\n",
    "# 模型的输出\n",
    "y = tf.nn.softmax(tf.matmul(x, W) + b)\n",
    "\n",
    "y_ = tf.placeholder(tf.float32, [None, 10])\n",
    "\n",
    "cross_entropy = tf.reduce_mean(-tf.reduce_sum(y_  * tf.log(y)))\n",
    "train_step = tf.train.GradientDescentOptimizer(0.01).minimize(cross_entropy)\n",
    "\n",
    "sess = tf.InteractiveSession()\n",
    "tf.global_variables_initializer().run()\n",
    "\n",
    "batch_size = 128\n",
    "for i in range(48000//batch_size):\n",
    "    batch_xs = x_train[i*batch_size: (i+1)*batch_size]\n",
    "    batch_ys = y_train[i*batch_size: (i+1)*batch_size]\n",
    "    sess.run(train_step, feed_dict={x:batch_xs, y_:batch_ys})\n",
    "    if i % 100 == 0:\n",
    "        print(i)"
   ]
  },
  {
   "cell_type": "code",
   "execution_count": 65,
   "metadata": {
    "ExecuteTime": {
     "end_time": "2019-09-03T16:14:48.824319Z",
     "start_time": "2019-09-03T16:14:48.764478Z"
    }
   },
   "outputs": [
    {
     "name": "stdout",
     "output_type": "stream",
     "text": [
      "0.098\n"
     ]
    }
   ],
   "source": [
    "correct_prediction = tf.equal(tf.argmax(y, 1), tf.argmax(y_, 1))\n",
    "accuracy = tf.reduce_mean(tf.cast(correct_prediction, tf.float32))\n",
    "print(sess.run(accuracy, feed_dict={x: x_test, y_: y_test}))"
   ]
  },
  {
   "cell_type": "code",
   "execution_count": null,
   "metadata": {
    "ExecuteTime": {
     "end_time": "2019-09-03T16:20:07.934980Z",
     "start_time": "2019-09-03T16:20:07.925031Z"
    }
   },
   "outputs": [],
   "source": []
  }
 ],
 "metadata": {
  "kernelspec": {
   "display_name": "Python 3",
   "language": "python",
   "name": "python3"
  },
  "language_info": {
   "codemirror_mode": {
    "name": "ipython",
    "version": 3
   },
   "file_extension": ".py",
   "mimetype": "text/x-python",
   "name": "python",
   "nbconvert_exporter": "python",
   "pygments_lexer": "ipython3",
   "version": "3.6.7"
  },
  "toc": {
   "base_numbering": 1,
   "nav_menu": {},
   "number_sections": true,
   "sideBar": true,
   "skip_h1_title": false,
   "title_cell": "Table of Contents",
   "title_sidebar": "Contents",
   "toc_cell": false,
   "toc_position": {},
   "toc_section_display": true,
   "toc_window_display": true
  }
 },
 "nbformat": 4,
 "nbformat_minor": 2
}
