{
 "cells": [
  {
   "cell_type": "code",
   "execution_count": 1,
   "metadata": {
    "ExecuteTime": {
     "end_time": "2019-08-16T03:37:34.290046Z",
     "start_time": "2019-08-16T03:37:32.518944Z"
    }
   },
   "outputs": [],
   "source": [
    "import pandas as pd\n",
    "import numpy as np\n",
    "from sklearn.linear_model import LinearRegression\n",
    "from sklearn.ensemble import RandomForestRegressor\n",
    "from sklearn.model_selection import train_test_split\n",
    "from sklearn.model_selection import GridSearchCV\n",
    "from sklearn.preprocessing import PolynomialFeatures\n",
    "from sklearn.base import BaseEstimator, TransformerMixin\n",
    "from scipy.stats import skew\n",
    "import matplotlib.pyplot as plt"
   ]
  },
  {
   "cell_type": "code",
   "execution_count": 86,
   "metadata": {
    "ExecuteTime": {
     "end_time": "2019-08-16T07:24:02.943272Z",
     "start_time": "2019-08-16T07:24:02.906270Z"
    }
   },
   "outputs": [
    {
     "data": {
      "text/html": [
       "<div>\n",
       "<style scoped>\n",
       "    .dataframe tbody tr th:only-of-type {\n",
       "        vertical-align: middle;\n",
       "    }\n",
       "\n",
       "    .dataframe tbody tr th {\n",
       "        vertical-align: top;\n",
       "    }\n",
       "\n",
       "    .dataframe thead th {\n",
       "        text-align: right;\n",
       "    }\n",
       "</style>\n",
       "<table border=\"1\" class=\"dataframe\">\n",
       "  <thead>\n",
       "    <tr style=\"text-align: right;\">\n",
       "      <th></th>\n",
       "      <th>id</th>\n",
       "      <th>father_height</th>\n",
       "      <th>mother_height</th>\n",
       "      <th>boy_dummy</th>\n",
       "      <th>child_height</th>\n",
       "    </tr>\n",
       "  </thead>\n",
       "  <tbody>\n",
       "    <tr>\n",
       "      <th>0</th>\n",
       "      <td>0</td>\n",
       "      <td>1.76</td>\n",
       "      <td>1.60</td>\n",
       "      <td>0</td>\n",
       "      <td>1.66</td>\n",
       "    </tr>\n",
       "    <tr>\n",
       "      <th>1</th>\n",
       "      <td>1</td>\n",
       "      <td>1.71</td>\n",
       "      <td>1.63</td>\n",
       "      <td>1</td>\n",
       "      <td>1.76</td>\n",
       "    </tr>\n",
       "    <tr>\n",
       "      <th>2</th>\n",
       "      <td>2</td>\n",
       "      <td>1.70</td>\n",
       "      <td>1.66</td>\n",
       "      <td>0</td>\n",
       "      <td>1.67</td>\n",
       "    </tr>\n",
       "    <tr>\n",
       "      <th>3</th>\n",
       "      <td>3</td>\n",
       "      <td>1.68</td>\n",
       "      <td>1.61</td>\n",
       "      <td>1</td>\n",
       "      <td>1.75</td>\n",
       "    </tr>\n",
       "    <tr>\n",
       "      <th>4</th>\n",
       "      <td>4</td>\n",
       "      <td>1.72</td>\n",
       "      <td>1.70</td>\n",
       "      <td>1</td>\n",
       "      <td>1.76</td>\n",
       "    </tr>\n",
       "  </tbody>\n",
       "</table>\n",
       "</div>"
      ],
      "text/plain": [
       "   id  father_height  mother_height  boy_dummy  child_height\n",
       "0   0           1.76           1.60          0          1.66\n",
       "1   1           1.71           1.63          1          1.76\n",
       "2   2           1.70           1.66          0          1.67\n",
       "3   3           1.68           1.61          1          1.75\n",
       "4   4           1.72           1.70          1          1.76"
      ]
     },
     "execution_count": 86,
     "metadata": {},
     "output_type": "execute_result"
    }
   ],
   "source": [
    "train = pd.read_csv('height_train.csv')\n",
    "test = pd.read_csv('height_test.csv')\n",
    "train.head()"
   ]
  },
  {
   "cell_type": "code",
   "execution_count": 87,
   "metadata": {
    "ExecuteTime": {
     "end_time": "2019-08-16T07:24:04.367354Z",
     "start_time": "2019-08-16T07:24:04.332352Z"
    }
   },
   "outputs": [
    {
     "name": "stderr",
     "output_type": "stream",
     "text": [
      "d:\\python36\\deeplearning\\lib\\site-packages\\ipykernel_launcher.py:1: FutureWarning: Sorting because non-concatenation axis is not aligned. A future version\n",
      "of pandas will change to not sort by default.\n",
      "\n",
      "To accept the future behavior, pass 'sort=False'.\n",
      "\n",
      "To retain the current behavior and silence the warning, pass 'sort=True'.\n",
      "\n",
      "  \"\"\"Entry point for launching an IPython kernel.\n"
     ]
    },
    {
     "data": {
      "text/html": [
       "<div>\n",
       "<style scoped>\n",
       "    .dataframe tbody tr th:only-of-type {\n",
       "        vertical-align: middle;\n",
       "    }\n",
       "\n",
       "    .dataframe tbody tr th {\n",
       "        vertical-align: top;\n",
       "    }\n",
       "\n",
       "    .dataframe thead th {\n",
       "        text-align: right;\n",
       "    }\n",
       "</style>\n",
       "<table border=\"1\" class=\"dataframe\">\n",
       "  <thead>\n",
       "    <tr style=\"text-align: right;\">\n",
       "      <th></th>\n",
       "      <th>boy_dummy</th>\n",
       "      <th>father_height</th>\n",
       "      <th>mother_height</th>\n",
       "    </tr>\n",
       "  </thead>\n",
       "  <tbody>\n",
       "    <tr>\n",
       "      <th>0</th>\n",
       "      <td>0</td>\n",
       "      <td>1.76</td>\n",
       "      <td>1.60</td>\n",
       "    </tr>\n",
       "    <tr>\n",
       "      <th>1</th>\n",
       "      <td>1</td>\n",
       "      <td>1.71</td>\n",
       "      <td>1.63</td>\n",
       "    </tr>\n",
       "    <tr>\n",
       "      <th>2</th>\n",
       "      <td>0</td>\n",
       "      <td>1.70</td>\n",
       "      <td>1.66</td>\n",
       "    </tr>\n",
       "    <tr>\n",
       "      <th>3</th>\n",
       "      <td>1</td>\n",
       "      <td>1.68</td>\n",
       "      <td>1.61</td>\n",
       "    </tr>\n",
       "    <tr>\n",
       "      <th>4</th>\n",
       "      <td>1</td>\n",
       "      <td>1.72</td>\n",
       "      <td>1.70</td>\n",
       "    </tr>\n",
       "  </tbody>\n",
       "</table>\n",
       "</div>"
      ],
      "text/plain": [
       "   boy_dummy  father_height  mother_height\n",
       "0          0           1.76           1.60\n",
       "1          1           1.71           1.63\n",
       "2          0           1.70           1.66\n",
       "3          1           1.68           1.61\n",
       "4          1           1.72           1.70"
      ]
     },
     "execution_count": 87,
     "metadata": {},
     "output_type": "execute_result"
    }
   ],
   "source": [
    "full = pd.concat([train, test], ignore_index=True)\n",
    "full.drop(['id', 'child_height'], axis=1, inplace=True)\n",
    "full.head()"
   ]
  },
  {
   "cell_type": "code",
   "execution_count": 88,
   "metadata": {
    "ExecuteTime": {
     "end_time": "2019-08-16T07:24:19.822237Z",
     "start_time": "2019-08-16T07:24:19.812237Z"
    }
   },
   "outputs": [],
   "source": [
    "class add_feature(BaseEstimator, TransformerMixin):\n",
    "    def __init__(self, additional=1):\n",
    "        self.additional = additional\n",
    "    \n",
    "    def fit(self, X, y=None):\n",
    "        return self\n",
    "    \n",
    "    def transform(self, X):\n",
    "        if self.additional == 1:\n",
    "            X['father_dummy'] = X.father_height * X.boy_dummy\n",
    "            X['mother_dummy'] = X.mother_height * X.boy_dummy\n",
    "        else:\n",
    "            X['father_dummy'] = X.father_height * X.boy_dummy\n",
    "            X['mother_dummy'] = X.mother_height * X.boy_dummy\n",
    "            X['father_mother'] = X.father_height + X.mother_height\n",
    "            X['father_mother_mul'] = X.father_height * X.mother_height\n",
    "            X['father_2'] = X.father_height * X.father_height\n",
    "            X['mother_2'] = X.mother_height * X.mother_height\n",
    "            # X['father_3'] = X.father_height * X.father_height * X.father_height\n",
    "            # X['mother_3'] = X.mother_height * X.mother_height * X.mother_height\n",
    "        return X"
   ]
  },
  {
   "cell_type": "code",
   "execution_count": 89,
   "metadata": {
    "ExecuteTime": {
     "end_time": "2019-08-16T07:24:21.243319Z",
     "start_time": "2019-08-16T07:24:21.208317Z"
    }
   },
   "outputs": [
    {
     "data": {
      "text/html": [
       "<div>\n",
       "<style scoped>\n",
       "    .dataframe tbody tr th:only-of-type {\n",
       "        vertical-align: middle;\n",
       "    }\n",
       "\n",
       "    .dataframe tbody tr th {\n",
       "        vertical-align: top;\n",
       "    }\n",
       "\n",
       "    .dataframe thead th {\n",
       "        text-align: right;\n",
       "    }\n",
       "</style>\n",
       "<table border=\"1\" class=\"dataframe\">\n",
       "  <thead>\n",
       "    <tr style=\"text-align: right;\">\n",
       "      <th></th>\n",
       "      <th>boy_dummy</th>\n",
       "      <th>father_height</th>\n",
       "      <th>mother_height</th>\n",
       "      <th>father_dummy</th>\n",
       "      <th>mother_dummy</th>\n",
       "      <th>father_mother</th>\n",
       "      <th>father_mother_mul</th>\n",
       "      <th>father_2</th>\n",
       "      <th>mother_2</th>\n",
       "    </tr>\n",
       "  </thead>\n",
       "  <tbody>\n",
       "    <tr>\n",
       "      <th>0</th>\n",
       "      <td>0</td>\n",
       "      <td>1.76</td>\n",
       "      <td>1.60</td>\n",
       "      <td>0.00</td>\n",
       "      <td>0.00</td>\n",
       "      <td>3.36</td>\n",
       "      <td>2.8160</td>\n",
       "      <td>3.0976</td>\n",
       "      <td>2.5600</td>\n",
       "    </tr>\n",
       "    <tr>\n",
       "      <th>1</th>\n",
       "      <td>1</td>\n",
       "      <td>1.71</td>\n",
       "      <td>1.63</td>\n",
       "      <td>1.71</td>\n",
       "      <td>1.63</td>\n",
       "      <td>3.34</td>\n",
       "      <td>2.7873</td>\n",
       "      <td>2.9241</td>\n",
       "      <td>2.6569</td>\n",
       "    </tr>\n",
       "    <tr>\n",
       "      <th>2</th>\n",
       "      <td>0</td>\n",
       "      <td>1.70</td>\n",
       "      <td>1.66</td>\n",
       "      <td>0.00</td>\n",
       "      <td>0.00</td>\n",
       "      <td>3.36</td>\n",
       "      <td>2.8220</td>\n",
       "      <td>2.8900</td>\n",
       "      <td>2.7556</td>\n",
       "    </tr>\n",
       "    <tr>\n",
       "      <th>3</th>\n",
       "      <td>1</td>\n",
       "      <td>1.68</td>\n",
       "      <td>1.61</td>\n",
       "      <td>1.68</td>\n",
       "      <td>1.61</td>\n",
       "      <td>3.29</td>\n",
       "      <td>2.7048</td>\n",
       "      <td>2.8224</td>\n",
       "      <td>2.5921</td>\n",
       "    </tr>\n",
       "    <tr>\n",
       "      <th>4</th>\n",
       "      <td>1</td>\n",
       "      <td>1.72</td>\n",
       "      <td>1.70</td>\n",
       "      <td>1.72</td>\n",
       "      <td>1.70</td>\n",
       "      <td>3.42</td>\n",
       "      <td>2.9240</td>\n",
       "      <td>2.9584</td>\n",
       "      <td>2.8900</td>\n",
       "    </tr>\n",
       "  </tbody>\n",
       "</table>\n",
       "</div>"
      ],
      "text/plain": [
       "   boy_dummy  father_height  mother_height  father_dummy  mother_dummy  \\\n",
       "0          0           1.76           1.60          0.00          0.00   \n",
       "1          1           1.71           1.63          1.71          1.63   \n",
       "2          0           1.70           1.66          0.00          0.00   \n",
       "3          1           1.68           1.61          1.68          1.61   \n",
       "4          1           1.72           1.70          1.72          1.70   \n",
       "\n",
       "   father_mother  father_mother_mul  father_2  mother_2  \n",
       "0           3.36             2.8160    3.0976    2.5600  \n",
       "1           3.34             2.7873    2.9241    2.6569  \n",
       "2           3.36             2.8220    2.8900    2.7556  \n",
       "3           3.29             2.7048    2.8224    2.5921  \n",
       "4           3.42             2.9240    2.9584    2.8900  "
      ]
     },
     "execution_count": 89,
     "metadata": {},
     "output_type": "execute_result"
    }
   ],
   "source": [
    "add_feature(additional=2).fit_transform(full)\n",
    "full.head()"
   ]
  },
  {
   "cell_type": "code",
   "execution_count": 90,
   "metadata": {
    "ExecuteTime": {
     "end_time": "2019-08-16T07:24:24.855525Z",
     "start_time": "2019-08-16T07:24:24.829524Z"
    }
   },
   "outputs": [
    {
     "data": {
      "text/plain": [
       "boy_dummy           -0.028670\n",
       "father_height        0.172782\n",
       "mother_height       -0.102162\n",
       "father_dummy        -0.024197\n",
       "mother_dummy        -0.024209\n",
       "father_mother        0.016647\n",
       "father_mother_mul    0.075891\n",
       "father_2             0.255062\n",
       "mother_2            -0.021984\n",
       "dtype: float64"
      ]
     },
     "execution_count": 90,
     "metadata": {},
     "output_type": "execute_result"
    }
   ],
   "source": [
    "full.apply(lambda x: skew(x))"
   ]
  },
  {
   "cell_type": "code",
   "execution_count": 91,
   "metadata": {
    "ExecuteTime": {
     "end_time": "2019-08-16T07:24:27.138656Z",
     "start_time": "2019-08-16T07:24:27.131656Z"
    }
   },
   "outputs": [
    {
     "name": "stdout",
     "output_type": "stream",
     "text": [
      "(5000, 9)\n",
      "(5000,)\n",
      "(1000, 9)\n"
     ]
    }
   ],
   "source": [
    "n_train = train.shape[0]\n",
    "X = full[:n_train]\n",
    "y = train.child_height\n",
    "\n",
    "testX = full[n_train:]\n",
    "print(X.shape)\n",
    "print(y.shape)\n",
    "print(testX.shape)"
   ]
  },
  {
   "cell_type": "markdown",
   "metadata": {},
   "source": [
    "#### LinearRegression"
   ]
  },
  {
   "cell_type": "code",
   "execution_count": 92,
   "metadata": {
    "ExecuteTime": {
     "end_time": "2019-08-16T07:24:29.340782Z",
     "start_time": "2019-08-16T07:24:29.310780Z"
    }
   },
   "outputs": [
    {
     "data": {
      "text/html": [
       "<div>\n",
       "<style scoped>\n",
       "    .dataframe tbody tr th:only-of-type {\n",
       "        vertical-align: middle;\n",
       "    }\n",
       "\n",
       "    .dataframe tbody tr th {\n",
       "        vertical-align: top;\n",
       "    }\n",
       "\n",
       "    .dataframe thead th {\n",
       "        text-align: right;\n",
       "    }\n",
       "</style>\n",
       "<table border=\"1\" class=\"dataframe\">\n",
       "  <thead>\n",
       "    <tr style=\"text-align: right;\">\n",
       "      <th></th>\n",
       "      <th>boy_dummy</th>\n",
       "      <th>father_height</th>\n",
       "      <th>mother_height</th>\n",
       "      <th>father_dummy</th>\n",
       "      <th>mother_dummy</th>\n",
       "      <th>father_mother</th>\n",
       "      <th>father_mother_mul</th>\n",
       "      <th>father_2</th>\n",
       "      <th>mother_2</th>\n",
       "    </tr>\n",
       "  </thead>\n",
       "  <tbody>\n",
       "    <tr>\n",
       "      <th>0</th>\n",
       "      <td>0</td>\n",
       "      <td>1.76</td>\n",
       "      <td>1.60</td>\n",
       "      <td>0.00</td>\n",
       "      <td>0.00</td>\n",
       "      <td>3.36</td>\n",
       "      <td>2.8160</td>\n",
       "      <td>3.0976</td>\n",
       "      <td>2.5600</td>\n",
       "    </tr>\n",
       "    <tr>\n",
       "      <th>1</th>\n",
       "      <td>1</td>\n",
       "      <td>1.71</td>\n",
       "      <td>1.63</td>\n",
       "      <td>1.71</td>\n",
       "      <td>1.63</td>\n",
       "      <td>3.34</td>\n",
       "      <td>2.7873</td>\n",
       "      <td>2.9241</td>\n",
       "      <td>2.6569</td>\n",
       "    </tr>\n",
       "    <tr>\n",
       "      <th>2</th>\n",
       "      <td>0</td>\n",
       "      <td>1.70</td>\n",
       "      <td>1.66</td>\n",
       "      <td>0.00</td>\n",
       "      <td>0.00</td>\n",
       "      <td>3.36</td>\n",
       "      <td>2.8220</td>\n",
       "      <td>2.8900</td>\n",
       "      <td>2.7556</td>\n",
       "    </tr>\n",
       "    <tr>\n",
       "      <th>3</th>\n",
       "      <td>1</td>\n",
       "      <td>1.68</td>\n",
       "      <td>1.61</td>\n",
       "      <td>1.68</td>\n",
       "      <td>1.61</td>\n",
       "      <td>3.29</td>\n",
       "      <td>2.7048</td>\n",
       "      <td>2.8224</td>\n",
       "      <td>2.5921</td>\n",
       "    </tr>\n",
       "    <tr>\n",
       "      <th>4</th>\n",
       "      <td>1</td>\n",
       "      <td>1.72</td>\n",
       "      <td>1.70</td>\n",
       "      <td>1.72</td>\n",
       "      <td>1.70</td>\n",
       "      <td>3.42</td>\n",
       "      <td>2.9240</td>\n",
       "      <td>2.9584</td>\n",
       "      <td>2.8900</td>\n",
       "    </tr>\n",
       "  </tbody>\n",
       "</table>\n",
       "</div>"
      ],
      "text/plain": [
       "   boy_dummy  father_height  mother_height  father_dummy  mother_dummy  \\\n",
       "0          0           1.76           1.60          0.00          0.00   \n",
       "1          1           1.71           1.63          1.71          1.63   \n",
       "2          0           1.70           1.66          0.00          0.00   \n",
       "3          1           1.68           1.61          1.68          1.61   \n",
       "4          1           1.72           1.70          1.72          1.70   \n",
       "\n",
       "   father_mother  father_mother_mul  father_2  mother_2  \n",
       "0           3.36             2.8160    3.0976    2.5600  \n",
       "1           3.34             2.7873    2.9241    2.6569  \n",
       "2           3.36             2.8220    2.8900    2.7556  \n",
       "3           3.29             2.7048    2.8224    2.5921  \n",
       "4           3.42             2.9240    2.9584    2.8900  "
      ]
     },
     "execution_count": 92,
     "metadata": {},
     "output_type": "execute_result"
    }
   ],
   "source": [
    "X.head()"
   ]
  },
  {
   "cell_type": "code",
   "execution_count": 93,
   "metadata": {
    "ExecuteTime": {
     "end_time": "2019-08-16T07:24:31.231890Z",
     "start_time": "2019-08-16T07:24:31.206889Z"
    },
    "scrolled": true
   },
   "outputs": [],
   "source": [
    "model = LinearRegression()\n",
    "model.fit(X=X ,y=y)\n",
    "\n",
    "# 2. 直接使用模型的predict()\n",
    "predY = model.predict(testX)\n",
    "\n",
    "# 评估验证集分数 1.170883722882294\n",
    "# np.square(predY*100 - np.array(valY.values.tolist())*100).mean()\n",
    "result_lin_reg = pd.DataFrame({'id':test.id, 'prediction':predY})\n",
    "result_lin_reg.to_csv('吴加清.csv', index=False)\n",
    "# 1.0331128641782532"
   ]
  },
  {
   "cell_type": "code",
   "execution_count": 94,
   "metadata": {
    "ExecuteTime": {
     "end_time": "2019-08-16T07:24:32.422958Z",
     "start_time": "2019-08-16T07:24:32.416958Z"
    }
   },
   "outputs": [
    {
     "data": {
      "text/plain": [
       "array([ 8.58745688e-02, -1.04356325e+11, -1.04356325e+11,  1.03851318e-01,\n",
       "       -1.01760864e-01,  1.04356325e+11,  7.04060197e-02,  4.75031137e-03,\n",
       "       -1.16656125e-02])"
      ]
     },
     "execution_count": 94,
     "metadata": {},
     "output_type": "execute_result"
    }
   ],
   "source": [
    "model.coef_"
   ]
  },
  {
   "cell_type": "markdown",
   "metadata": {},
   "source": [
    "#### RandomForestRegressor"
   ]
  },
  {
   "cell_type": "code",
   "execution_count": 17,
   "metadata": {
    "ExecuteTime": {
     "end_time": "2019-08-16T03:48:32.843713Z",
     "start_time": "2019-08-16T03:48:32.837712Z"
    }
   },
   "outputs": [],
   "source": [
    "from sklearn.ensemble import RandomForestRegressor"
   ]
  },
  {
   "cell_type": "code",
   "execution_count": 19,
   "metadata": {
    "ExecuteTime": {
     "end_time": "2019-08-16T03:49:58.687623Z",
     "start_time": "2019-08-16T03:49:58.591617Z"
    }
   },
   "outputs": [
    {
     "name": "stderr",
     "output_type": "stream",
     "text": [
      "d:\\python36\\deeplearning\\lib\\site-packages\\sklearn\\ensemble\\forest.py:245: FutureWarning: The default value of n_estimators will change from 10 in version 0.20 to 100 in 0.22.\n",
      "  \"10 in version 0.20 to 100 in 0.22.\", FutureWarning)\n"
     ]
    }
   ],
   "source": [
    "model = RandomForestRegressor()\n",
    "model.fit(X=X, y=y)\n",
    "predY = model.predict(testX)\n",
    "result_rf = pd.DataFrame({'id':test.id, 'prediction':predY})\n",
    "result_rf.to_csv('吴加清_rf.csv', index=False)\n",
    "# 1.2169155350965841"
   ]
  },
  {
   "cell_type": "markdown",
   "metadata": {},
   "source": [
    "#### Ridge"
   ]
  },
  {
   "cell_type": "code",
   "execution_count": 22,
   "metadata": {
    "ExecuteTime": {
     "end_time": "2019-08-16T04:02:48.895676Z",
     "start_time": "2019-08-16T04:02:48.892676Z"
    }
   },
   "outputs": [],
   "source": [
    "from sklearn.linear_model import Ridge, Lasso, ElasticNet\n",
    "from sklearn.kernel_ridge import KernelRidge"
   ]
  },
  {
   "cell_type": "code",
   "execution_count": 23,
   "metadata": {
    "ExecuteTime": {
     "end_time": "2019-08-16T05:59:16.102321Z",
     "start_time": "2019-08-16T05:59:16.097321Z"
    }
   },
   "outputs": [],
   "source": [
    "class grid():\n",
    "    def __init__(self, model):\n",
    "        self.model = model\n",
    "    \n",
    "    def grid_get(self, X, y, param_grid):\n",
    "        grid_search = GridSearchCV(self.model, param_grid, cv=5, scoring='neg_mean_squared_error')\n",
    "        grid_search.fit(X, y)\n",
    "        print(grid_search.best_params_, grid_search.best_score_)"
   ]
  },
  {
   "cell_type": "code",
   "execution_count": 29,
   "metadata": {
    "ExecuteTime": {
     "end_time": "2019-08-16T06:04:23.968930Z",
     "start_time": "2019-08-16T06:04:23.646912Z"
    }
   },
   "outputs": [
    {
     "name": "stdout",
     "output_type": "stream",
     "text": [
      "{'alpha': 0.04} -0.0001107130546730021\n"
     ]
    }
   ],
   "source": [
    "param_grid = {'alpha':[0.0001, 0.005, 0.01, 0.04, 0.08, 0.1, 1, 10, 30, 50, 70, 90, 110]}\n",
    "grid(Ridge()).grid_get(X, y, param_grid)"
   ]
  },
  {
   "cell_type": "code",
   "execution_count": 31,
   "metadata": {
    "ExecuteTime": {
     "end_time": "2019-08-16T06:05:22.234263Z",
     "start_time": "2019-08-16T06:05:21.860242Z"
    }
   },
   "outputs": [
    {
     "name": "stdout",
     "output_type": "stream",
     "text": [
      "{'alpha': 0.0001} -0.00011762988614521537\n"
     ]
    }
   ],
   "source": [
    "param_grid = {'alpha':[0.0001, 0.005, 0.01, 0.04, 0.08, 0.1, 1, 10, 30, 50, 70, 90, 110]}\n",
    "grid(Lasso()).grid_get(X, y, param_grid)"
   ]
  },
  {
   "cell_type": "code",
   "execution_count": 33,
   "metadata": {
    "ExecuteTime": {
     "end_time": "2019-08-16T06:06:22.384703Z",
     "start_time": "2019-08-16T06:06:16.631374Z"
    },
    "scrolled": true
   },
   "outputs": [
    {
     "name": "stderr",
     "output_type": "stream",
     "text": [
      "d:\\python36\\deeplearning\\lib\\site-packages\\sklearn\\linear_model\\coordinate_descent.py:475: ConvergenceWarning: Objective did not converge. You might want to increase the number of iterations. Duality gap: 0.22955041415304034, tolerance: 0.0011790556399999999\n",
      "  positive)\n",
      "d:\\python36\\deeplearning\\lib\\site-packages\\sklearn\\linear_model\\coordinate_descent.py:475: ConvergenceWarning: Objective did not converge. You might want to increase the number of iterations. Duality gap: 0.22857524701109108, tolerance: 0.0011861127100000015\n",
      "  positive)\n",
      "d:\\python36\\deeplearning\\lib\\site-packages\\sklearn\\linear_model\\coordinate_descent.py:475: ConvergenceWarning: Objective did not converge. You might want to increase the number of iterations. Duality gap: 0.2299843858302614, tolerance: 0.0011870113774999991\n",
      "  positive)\n",
      "d:\\python36\\deeplearning\\lib\\site-packages\\sklearn\\linear_model\\coordinate_descent.py:475: ConvergenceWarning: Objective did not converge. You might want to increase the number of iterations. Duality gap: 0.23127386507110007, tolerance: 0.0011755604400000017\n",
      "  positive)\n",
      "d:\\python36\\deeplearning\\lib\\site-packages\\sklearn\\linear_model\\coordinate_descent.py:475: ConvergenceWarning: Objective did not converge. You might want to increase the number of iterations. Duality gap: 0.23015423490831557, tolerance: 0.0011830480975000021\n",
      "  positive)\n",
      "d:\\python36\\deeplearning\\lib\\site-packages\\sklearn\\linear_model\\coordinate_descent.py:475: ConvergenceWarning: Objective did not converge. You might want to increase the number of iterations. Duality gap: 0.21541457937612377, tolerance: 0.0011790556399999999\n",
      "  positive)\n",
      "d:\\python36\\deeplearning\\lib\\site-packages\\sklearn\\linear_model\\coordinate_descent.py:475: ConvergenceWarning: Objective did not converge. You might want to increase the number of iterations. Duality gap: 0.21627797808424357, tolerance: 0.0011861127100000015\n",
      "  positive)\n",
      "d:\\python36\\deeplearning\\lib\\site-packages\\sklearn\\linear_model\\coordinate_descent.py:475: ConvergenceWarning: Objective did not converge. You might want to increase the number of iterations. Duality gap: 0.21811059413888984, tolerance: 0.0011870113774999991\n",
      "  positive)\n",
      "d:\\python36\\deeplearning\\lib\\site-packages\\sklearn\\linear_model\\coordinate_descent.py:475: ConvergenceWarning: Objective did not converge. You might want to increase the number of iterations. Duality gap: 0.21799071301509643, tolerance: 0.0011755604400000017\n",
      "  positive)\n",
      "d:\\python36\\deeplearning\\lib\\site-packages\\sklearn\\linear_model\\coordinate_descent.py:475: ConvergenceWarning: Objective did not converge. You might want to increase the number of iterations. Duality gap: 0.21780213089891814, tolerance: 0.0011830480975000021\n",
      "  positive)\n",
      "d:\\python36\\deeplearning\\lib\\site-packages\\sklearn\\linear_model\\coordinate_descent.py:475: ConvergenceWarning: Objective did not converge. You might want to increase the number of iterations. Duality gap: 0.20111036365968593, tolerance: 0.0011790556399999999\n",
      "  positive)\n",
      "d:\\python36\\deeplearning\\lib\\site-packages\\sklearn\\linear_model\\coordinate_descent.py:475: ConvergenceWarning: Objective did not converge. You might want to increase the number of iterations. Duality gap: 0.20391611796508968, tolerance: 0.0011861127100000015\n",
      "  positive)\n",
      "d:\\python36\\deeplearning\\lib\\site-packages\\sklearn\\linear_model\\coordinate_descent.py:475: ConvergenceWarning: Objective did not converge. You might want to increase the number of iterations. Duality gap: 0.20598134017128653, tolerance: 0.0011870113774999991\n",
      "  positive)\n",
      "d:\\python36\\deeplearning\\lib\\site-packages\\sklearn\\linear_model\\coordinate_descent.py:475: ConvergenceWarning: Objective did not converge. You might want to increase the number of iterations. Duality gap: 0.20445931227724368, tolerance: 0.0011755604400000017\n",
      "  positive)\n",
      "d:\\python36\\deeplearning\\lib\\site-packages\\sklearn\\linear_model\\coordinate_descent.py:475: ConvergenceWarning: Objective did not converge. You might want to increase the number of iterations. Duality gap: 0.2052551444231058, tolerance: 0.0011830480975000021\n",
      "  positive)\n",
      "d:\\python36\\deeplearning\\lib\\site-packages\\sklearn\\linear_model\\coordinate_descent.py:475: ConvergenceWarning: Objective did not converge. You might want to increase the number of iterations. Duality gap: 0.12515615703083885, tolerance: 0.0011790556399999999\n",
      "  positive)\n",
      "d:\\python36\\deeplearning\\lib\\site-packages\\sklearn\\linear_model\\coordinate_descent.py:475: ConvergenceWarning: Objective did not converge. You might want to increase the number of iterations. Duality gap: 0.13650788689230167, tolerance: 0.0011861127100000015\n",
      "  positive)\n",
      "d:\\python36\\deeplearning\\lib\\site-packages\\sklearn\\linear_model\\coordinate_descent.py:475: ConvergenceWarning: Objective did not converge. You might want to increase the number of iterations. Duality gap: 0.14009477102946177, tolerance: 0.0011870113774999991\n",
      "  positive)\n",
      "d:\\python36\\deeplearning\\lib\\site-packages\\sklearn\\linear_model\\coordinate_descent.py:475: ConvergenceWarning: Objective did not converge. You might want to increase the number of iterations. Duality gap: 0.13238577643314642, tolerance: 0.0011755604400000017\n",
      "  positive)\n",
      "d:\\python36\\deeplearning\\lib\\site-packages\\sklearn\\linear_model\\coordinate_descent.py:475: ConvergenceWarning: Objective did not converge. You might want to increase the number of iterations. Duality gap: 0.1377864749018106, tolerance: 0.0011830480975000021\n",
      "  positive)\n",
      "d:\\python36\\deeplearning\\lib\\site-packages\\sklearn\\linear_model\\coordinate_descent.py:475: ConvergenceWarning: Objective did not converge. You might want to increase the number of iterations. Duality gap: 0.05209922204793391, tolerance: 0.0011790556399999999\n",
      "  positive)\n",
      "d:\\python36\\deeplearning\\lib\\site-packages\\sklearn\\linear_model\\coordinate_descent.py:475: ConvergenceWarning: Objective did not converge. You might want to increase the number of iterations. Duality gap: 0.06743948244052853, tolerance: 0.0011861127100000015\n",
      "  positive)\n",
      "d:\\python36\\deeplearning\\lib\\site-packages\\sklearn\\linear_model\\coordinate_descent.py:475: ConvergenceWarning: Objective did not converge. You might want to increase the number of iterations. Duality gap: 0.07230475378766515, tolerance: 0.0011870113774999991\n",
      "  positive)\n",
      "d:\\python36\\deeplearning\\lib\\site-packages\\sklearn\\linear_model\\coordinate_descent.py:475: ConvergenceWarning: Objective did not converge. You might want to increase the number of iterations. Duality gap: 0.06095684402760082, tolerance: 0.0011755604400000017\n",
      "  positive)\n",
      "d:\\python36\\deeplearning\\lib\\site-packages\\sklearn\\linear_model\\coordinate_descent.py:475: ConvergenceWarning: Objective did not converge. You might want to increase the number of iterations. Duality gap: 0.06909143888794025, tolerance: 0.0011830480975000021\n",
      "  positive)\n",
      "d:\\python36\\deeplearning\\lib\\site-packages\\sklearn\\linear_model\\coordinate_descent.py:475: ConvergenceWarning: Objective did not converge. You might want to increase the number of iterations. Duality gap: 0.027237289753778926, tolerance: 0.0011790556399999999\n",
      "  positive)\n",
      "d:\\python36\\deeplearning\\lib\\site-packages\\sklearn\\linear_model\\coordinate_descent.py:475: ConvergenceWarning: Objective did not converge. You might want to increase the number of iterations. Duality gap: 0.04157036640060807, tolerance: 0.0011861127100000015\n",
      "  positive)\n",
      "d:\\python36\\deeplearning\\lib\\site-packages\\sklearn\\linear_model\\coordinate_descent.py:475: ConvergenceWarning: Objective did not converge. You might want to increase the number of iterations. Duality gap: 0.04650749993000736, tolerance: 0.0011870113774999991\n",
      "  positive)\n",
      "d:\\python36\\deeplearning\\lib\\site-packages\\sklearn\\linear_model\\coordinate_descent.py:475: ConvergenceWarning: Objective did not converge. You might want to increase the number of iterations. Duality gap: 0.03535393727217612, tolerance: 0.0011755604400000017\n",
      "  positive)\n",
      "d:\\python36\\deeplearning\\lib\\site-packages\\sklearn\\linear_model\\coordinate_descent.py:475: ConvergenceWarning: Objective did not converge. You might want to increase the number of iterations. Duality gap: 0.043388028791670474, tolerance: 0.0011830480975000021\n",
      "  positive)\n"
     ]
    },
    {
     "name": "stdout",
     "output_type": "stream",
     "text": [
      "{'alpha': 0.0001, 'l1_ratio': 0.0001} -0.00011182018807326558\n"
     ]
    },
    {
     "name": "stderr",
     "output_type": "stream",
     "text": [
      "d:\\python36\\deeplearning\\lib\\site-packages\\sklearn\\linear_model\\coordinate_descent.py:475: ConvergenceWarning: Objective did not converge. You might want to increase the number of iterations. Duality gap: 0.2874510037552062, tolerance: 0.0014777806380000035\n",
      "  positive)\n"
     ]
    }
   ],
   "source": [
    "param_grid = {'alpha':[0.0001, 0.005, 0.01, 0.04, 0.08, 0.1, 1, 10, 30, 50, 70, 90, 110],\n",
    "              'l1_ratio':[0.0001, 0.005, 0.01, 0.04, 0.08, 0.1, 1, 10, 30, 50, 70, 90, 110]}\n",
    "grid(ElasticNet()).grid_get(X, y, param_grid)"
   ]
  },
  {
   "cell_type": "code",
   "execution_count": 38,
   "metadata": {
    "ExecuteTime": {
     "end_time": "2019-08-16T06:29:07.829802Z",
     "start_time": "2019-08-16T06:25:09.312160Z"
    }
   },
   "outputs": [
    {
     "name": "stdout",
     "output_type": "stream",
     "text": [
      "{'alpha': 0.01, 'coef0': 1.5, 'degree': 3, 'kernel': 'polynomial'} -0.00011089406056422802\n"
     ]
    }
   ],
   "source": [
    "param_grid = {'alpha':[0.01, 0.04, 0.08, 0.1],\n",
    "              'degree':[3],\n",
    "              'coef0':[0.5, 1, 1.5],\n",
    "              'kernel':['linear', 'polynomial']}\n",
    "grid(KernelRidge()).grid_get(X, y, param_grid)"
   ]
  },
  {
   "cell_type": "code",
   "execution_count": 51,
   "metadata": {
    "ExecuteTime": {
     "end_time": "2019-08-16T07:02:22.342882Z",
     "start_time": "2019-08-16T07:02:22.322881Z"
    }
   },
   "outputs": [],
   "source": [
    "model = Ridge(alpha=0.04)\n",
    "model.fit(X=X, y=y)\n",
    "predY = model.predict(testX)\n",
    "result_ridge = pd.DataFrame({'id':test.id, 'prediction':predY})\n",
    "result_ridge.to_csv('吴加清_ridge.csv', index=False)"
   ]
  },
  {
   "cell_type": "markdown",
   "metadata": {
    "ExecuteTime": {
     "end_time": "2019-08-16T06:06:42.172835Z",
     "start_time": "2019-08-16T06:06:42.162835Z"
    }
   },
   "source": [
    "#### KernelRidge"
   ]
  },
  {
   "cell_type": "code",
   "execution_count": 50,
   "metadata": {
    "ExecuteTime": {
     "end_time": "2019-08-16T06:59:57.443594Z",
     "start_time": "2019-08-16T06:59:53.677379Z"
    }
   },
   "outputs": [],
   "source": [
    "model = KernelRidge(alpha=0.01, coef0=1.5, degree=3, kernel='polynomial')\n",
    "model.fit(X=X, y=y)\n",
    "predY = model.predict(testX)\n",
    "result_kr = pd.DataFrame({'id':test.id, 'prediction':predY})\n",
    "result_kr.to_csv('吴加清_kr.csv', index=False)"
   ]
  },
  {
   "cell_type": "markdown",
   "metadata": {},
   "source": [
    "#### xgboost"
   ]
  },
  {
   "cell_type": "code",
   "execution_count": null,
   "metadata": {
    "ExecuteTime": {
     "end_time": "2019-08-15T01:29:29.220373Z",
     "start_time": "2019-08-15T01:29:28.853352Z"
    }
   },
   "outputs": [],
   "source": [
    "import lightgbm as lgb"
   ]
  },
  {
   "cell_type": "code",
   "execution_count": null,
   "metadata": {
    "ExecuteTime": {
     "end_time": "2019-08-15T01:31:50.085430Z",
     "start_time": "2019-08-15T01:31:49.423392Z"
    }
   },
   "outputs": [],
   "source": [
    "params = {'boosting_type':'gbdt', 'learning_rate':0.1, 'min_child_weight':1, 'max_depth':5, \n",
    "          'gamma':0.1, 'subsample':0.8, 'colsample_bytree':0.8, 'reg_alpha':0., 'reg_lambda':0.,\n",
    "          'objective':'regression'}\n",
    "dmat = lgb.Dataset(trainX, label=trainY)\n",
    "cv = lgb.cv(params, dmat, num_boost_round=1000, nfold=5, stratified=False, early_stopping_rounds=50, verbose_eval=1, metrics='rmse')\n",
    "len(cv['rmse-mean'])"
   ]
  },
  {
   "cell_type": "code",
   "execution_count": null,
   "metadata": {
    "ExecuteTime": {
     "end_time": "2019-08-15T01:38:30.470226Z",
     "start_time": "2019-08-15T01:38:29.243156Z"
    }
   },
   "outputs": [],
   "source": [
    "lgbr = lgb.LGBMRegressor(learning_rate=0.1, min_child_weight=1, max_depth=5, gamma=0.1, \n",
    "                        subsample=0.8, colsample_bytree=0.8, reg_alpha=0., reg_lambda=0.,\n",
    "                        objective='regression', num_leaves=32, n_estimators=63, min_child_samples=20,\n",
    "                        feature_fraction=0.8)\n",
    "param_grid = {'min_child_weight':[1,2,3,4,5,6,7,8,9,10]}\n",
    "gridCV = GridSearchCV(lgbr, param_grid=param_grid)\n",
    "gridCV.fit(trainX, trainY)\n",
    "print('best parameter:', gridCV.best_params_)\n",
    "print('best score:', gridCV.best_score_)"
   ]
  },
  {
   "cell_type": "code",
   "execution_count": null,
   "metadata": {
    "ExecuteTime": {
     "end_time": "2019-08-15T01:41:57.672077Z",
     "start_time": "2019-08-15T01:41:57.624075Z"
    }
   },
   "outputs": [],
   "source": [
    "lgbr = lgb.LGBMRegressor(learning_rate=0.2, min_child_weight=1, max_depth=3, gamma=0.1, \n",
    "                        subsample=0.8, colsample_bytree=0.8, reg_alpha=0.0, reg_lambda=0.0,\n",
    "                        objective='regression', num_leaves=32, n_estimators=63, min_child_samples=20,\n",
    "                        feature_fraction=0.8)\n",
    "lgbr.fit(trainX, trainY)\n",
    "predY = lgbr.predict(valX)\n",
    "# 评估验证集分数 1.170883722882294\n",
    "np.square(predY*100 - np.array(valY.values.tolist())*100).mean()"
   ]
  },
  {
   "cell_type": "markdown",
   "metadata": {
    "ExecuteTime": {
     "end_time": "2019-08-15T01:37:54.928193Z",
     "start_time": "2019-08-15T01:37:54.182151Z"
    }
   },
   "source": [
    "#### NN"
   ]
  },
  {
   "cell_type": "code",
   "execution_count": null,
   "metadata": {
    "ExecuteTime": {
     "end_time": "2019-08-15T01:43:33.215213Z",
     "start_time": "2019-08-15T01:43:33.212213Z"
    }
   },
   "outputs": [],
   "source": [
    "from keras.models import Sequential\n",
    "from keras.layers import Dense\n",
    "from keras.layers import Activation"
   ]
  },
  {
   "cell_type": "code",
   "execution_count": null,
   "metadata": {
    "ExecuteTime": {
     "end_time": "2019-08-15T02:02:12.471231Z",
     "start_time": "2019-08-15T02:01:22.144352Z"
    },
    "scrolled": true
   },
   "outputs": [],
   "source": [
    "model = Sequential()\n",
    "model.add(Dense(32, input_shape=(5,)))\n",
    "model.add(Activation('relu'))\n",
    "# model.add(Dense(16))\n",
    "# model.add(Activation('relu'))\n",
    "model.add(Dense(1))\n",
    "model.compile(loss='mse', optimizer='sgd', metrics=['mse'])\n",
    "H = model.fit(trainX, trainY, epochs=100, batch_size=32, validation_data=(valX, valY), verbose=1)"
   ]
  },
  {
   "cell_type": "code",
   "execution_count": null,
   "metadata": {
    "ExecuteTime": {
     "end_time": "2019-08-15T01:58:07.077195Z",
     "start_time": "2019-08-15T01:58:07.000191Z"
    }
   },
   "outputs": [],
   "source": [
    "predY = model.predict(valX, batch_size=32)\n",
    "np.square(predY*100 - np.array(valY.values.tolist())*100).mean()"
   ]
  },
  {
   "cell_type": "code",
   "execution_count": null,
   "metadata": {},
   "outputs": [],
   "source": []
  },
  {
   "cell_type": "code",
   "execution_count": null,
   "metadata": {
    "ExecuteTime": {
     "end_time": "2019-08-15T01:55:13.180249Z",
     "start_time": "2019-08-15T01:55:12.979237Z"
    }
   },
   "outputs": [],
   "source": [
    "H.history.keys()\n",
    "plt.figure()\n",
    "plt.plot(range(1,101), H.history['val_loss'], label='val_loss')\n",
    "# plt.plot(range(1,101), H.history['loss'], label='loss')\n",
    "# plt.plot(range(1,101), H.history['val_mean_squared_error'], label='val_error')\n",
    "# plt.plot(range(1,101), H.history['mean_squared_error'], label='error')\n",
    "plt.legend()\n",
    "plt.show()"
   ]
  },
  {
   "cell_type": "code",
   "execution_count": null,
   "metadata": {
    "ExecuteTime": {
     "end_time": "2019-08-14T01:19:09.895137Z",
     "start_time": "2019-08-14T01:19:09.830129Z"
    },
    "scrolled": true
   },
   "outputs": [],
   "source": [
    "result = pd.DataFrame({'id':test.id, 'prediction':predY})\n",
    "result.to_csv('吴加清.csv', index=False)\n",
    "result"
   ]
  },
  {
   "cell_type": "code",
   "execution_count": null,
   "metadata": {},
   "outputs": [],
   "source": [
    "def evaluate(prediction_path,real_path):\n",
    "    predict = pd.read_csv(prediction_path)\n",
    "    real = pd.read_csv(real_path)\n",
    "    predict = predict.loc[:,['id','prediction']]\n",
    "    real = real.loc[:,['id','child_height']]\n",
    "    real = real.merge(predict,on='id',how='left')\n",
    "    return np.square(real.prediction*100-real.child_height*100).mean()"
   ]
  },
  {
   "cell_type": "markdown",
   "metadata": {},
   "source": [
    "### 隗同学的思路\n",
    "我就加了两列，把boy_dummy和father_height还有mother_height分别乘了一下。\n",
    "大致想法就是既然考虑性别了，那就也可以认为不同性别对父母依赖也不一样，所以加入这两列就等于考虑了这个因素。"
   ]
  },
  {
   "cell_type": "code",
   "execution_count": null,
   "metadata": {
    "ExecuteTime": {
     "end_time": "2019-08-15T09:15:32.253333Z",
     "start_time": "2019-08-15T09:15:32.239332Z"
    }
   },
   "outputs": [],
   "source": [
    "from sklearn.linear_model import Lasso\n",
    "Lasso?"
   ]
  }
 ],
 "metadata": {
  "kernelspec": {
   "display_name": "Python 3",
   "language": "python",
   "name": "python3"
  },
  "language_info": {
   "codemirror_mode": {
    "name": "ipython",
    "version": 3
   },
   "file_extension": ".py",
   "mimetype": "text/x-python",
   "name": "python",
   "nbconvert_exporter": "python",
   "pygments_lexer": "ipython3",
   "version": "3.6.6"
  },
  "toc": {
   "base_numbering": 1,
   "nav_menu": {},
   "number_sections": true,
   "sideBar": true,
   "skip_h1_title": false,
   "title_cell": "Table of Contents",
   "title_sidebar": "Contents",
   "toc_cell": false,
   "toc_position": {},
   "toc_section_display": true,
   "toc_window_display": true
  },
  "varInspector": {
   "cols": {
    "lenName": 16,
    "lenType": 16,
    "lenVar": 40
   },
   "kernels_config": {
    "python": {
     "delete_cmd_postfix": "",
     "delete_cmd_prefix": "del ",
     "library": "var_list.py",
     "varRefreshCmd": "print(var_dic_list())"
    },
    "r": {
     "delete_cmd_postfix": ") ",
     "delete_cmd_prefix": "rm(",
     "library": "var_list.r",
     "varRefreshCmd": "cat(var_dic_list()) "
    }
   },
   "types_to_exclude": [
    "module",
    "function",
    "builtin_function_or_method",
    "instance",
    "_Feature"
   ],
   "window_display": false
  }
 },
 "nbformat": 4,
 "nbformat_minor": 2
}
