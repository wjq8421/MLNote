{
 "cells": [
  {
   "cell_type": "code",
   "execution_count": 1,
   "metadata": {
    "ExecuteTime": {
     "end_time": "2019-09-05T03:22:57.405112Z",
     "start_time": "2019-09-05T03:22:47.114305Z"
    }
   },
   "outputs": [],
   "source": [
    "from sklearn.preprocessing import PolynomialFeatures\n",
    "from sklearn.preprocessing import StandardScaler\n",
    "from sklearn.preprocessing import MinMaxScaler\n",
    "from sklearn.preprocessing import LabelEncoder\n",
    "from sklearn.feature_selection import VarianceThreshold\n",
    "from sklearn.feature_selection import RFE\n",
    "from sklearn.decomposition import PCA\n",
    "from sklearn.model_selection import train_test_split\n",
    "from sklearn.model_selection import GridSearchCV\n",
    "from sklearn.linear_model import LogisticRegression\n",
    "from sklearn.ensemble import AdaBoostClassifier\n",
    "from sklearn.ensemble import GradientBoostingClassifier\n",
    "from sklearn.svm import SVC\n",
    "from catboost import CatBoostClassifier\n",
    "import xgboost as xgb\n",
    "import lightgbm as lgb\n",
    "import pandas_profiling as ppf\n",
    "import matplotlib.pyplot as plt\n",
    "import seaborn as sns\n",
    "import pandas as pd\n",
    "import numpy as np\n",
    "import warnings\n",
    "import os\n",
    "import gc\n",
    "\n",
    "pd.set_option('display.max_columns', 50)\n",
    "warnings.filterwarnings('ignore')"
   ]
  },
  {
   "cell_type": "code",
   "execution_count": 2,
   "metadata": {
    "ExecuteTime": {
     "end_time": "2019-09-05T03:23:00.569513Z",
     "start_time": "2019-09-05T03:23:00.447498Z"
    }
   },
   "outputs": [
    {
     "name": "stdout",
     "output_type": "stream",
     "text": [
      "shape of train: (6000, 21)\n",
      "shape of test: (6000, 11)\n",
      "shape of submit: (120, 5)\n"
     ]
    }
   ],
   "source": [
    "train = pd.read_csv('.\\\\data\\\\first_round_training_data.csv')\n",
    "test = pd.read_csv('.\\\\data\\\\first_round_testing_data.csv')\n",
    "submit_example = pd.read_csv('.\\\\data\\\\submit_example.csv')\n",
    "\n",
    "print('shape of train:', train.shape)\n",
    "print('shape of test:', test.shape)\n",
    "print('shape of submit:', submit_example.shape)"
   ]
  },
  {
   "cell_type": "code",
   "execution_count": 3,
   "metadata": {
    "ExecuteTime": {
     "end_time": "2019-09-05T03:23:01.319609Z",
     "start_time": "2019-09-05T03:23:01.260601Z"
    },
    "scrolled": true
   },
   "outputs": [
    {
     "data": {
      "text/html": [
       "<div>\n",
       "<style scoped>\n",
       "    .dataframe tbody tr th:only-of-type {\n",
       "        vertical-align: middle;\n",
       "    }\n",
       "\n",
       "    .dataframe tbody tr th {\n",
       "        vertical-align: top;\n",
       "    }\n",
       "\n",
       "    .dataframe thead th {\n",
       "        text-align: right;\n",
       "    }\n",
       "</style>\n",
       "<table border=\"1\" class=\"dataframe\">\n",
       "  <thead>\n",
       "    <tr style=\"text-align: right;\">\n",
       "      <th></th>\n",
       "      <th>Parameter1</th>\n",
       "      <th>Parameter2</th>\n",
       "      <th>Parameter3</th>\n",
       "      <th>Parameter4</th>\n",
       "      <th>Parameter5</th>\n",
       "      <th>Parameter6</th>\n",
       "      <th>Parameter7</th>\n",
       "      <th>Parameter8</th>\n",
       "      <th>Parameter9</th>\n",
       "      <th>Parameter10</th>\n",
       "      <th>Attribute1</th>\n",
       "      <th>Attribute2</th>\n",
       "      <th>Attribute3</th>\n",
       "      <th>Attribute4</th>\n",
       "      <th>Attribute5</th>\n",
       "      <th>Attribute6</th>\n",
       "      <th>Attribute7</th>\n",
       "      <th>Attribute8</th>\n",
       "      <th>Attribute9</th>\n",
       "      <th>Attribute10</th>\n",
       "      <th>Quality_label</th>\n",
       "    </tr>\n",
       "  </thead>\n",
       "  <tbody>\n",
       "    <tr>\n",
       "      <th>0</th>\n",
       "      <td>0.001660</td>\n",
       "      <td>0.591013</td>\n",
       "      <td>147.608373</td>\n",
       "      <td>38.186345</td>\n",
       "      <td>0.000421</td>\n",
       "      <td>0.000612</td>\n",
       "      <td>2286.523413</td>\n",
       "      <td>0.035407</td>\n",
       "      <td>0.593081</td>\n",
       "      <td>1.010385</td>\n",
       "      <td>6.856075</td>\n",
       "      <td>0.168761</td>\n",
       "      <td>1.098755</td>\n",
       "      <td>36.955992</td>\n",
       "      <td>8.454598</td>\n",
       "      <td>11.438066</td>\n",
       "      <td>177.243120</td>\n",
       "      <td>338.729256</td>\n",
       "      <td>2.021704</td>\n",
       "      <td>0.079526</td>\n",
       "      <td>Pass</td>\n",
       "    </tr>\n",
       "    <tr>\n",
       "      <th>1</th>\n",
       "      <td>1.601749</td>\n",
       "      <td>0.015052</td>\n",
       "      <td>0.035864</td>\n",
       "      <td>51.130326</td>\n",
       "      <td>0.000909</td>\n",
       "      <td>0.002397</td>\n",
       "      <td>2286.523413</td>\n",
       "      <td>0.035407</td>\n",
       "      <td>0.593081</td>\n",
       "      <td>1.010385</td>\n",
       "      <td>0.000362</td>\n",
       "      <td>11.649033</td>\n",
       "      <td>0.066671</td>\n",
       "      <td>225.632949</td>\n",
       "      <td>0.481860</td>\n",
       "      <td>20597.447822</td>\n",
       "      <td>3.723330</td>\n",
       "      <td>15.376190</td>\n",
       "      <td>0.986973</td>\n",
       "      <td>4.634376</td>\n",
       "      <td>Fail</td>\n",
       "    </tr>\n",
       "    <tr>\n",
       "      <th>2</th>\n",
       "      <td>0.098039</td>\n",
       "      <td>69.233685</td>\n",
       "      <td>0.080920</td>\n",
       "      <td>0.112265</td>\n",
       "      <td>0.000909</td>\n",
       "      <td>0.001972</td>\n",
       "      <td>2286.523413</td>\n",
       "      <td>0.035407</td>\n",
       "      <td>0.593081</td>\n",
       "      <td>1.010385</td>\n",
       "      <td>0.022201</td>\n",
       "      <td>0.078213</td>\n",
       "      <td>110.079689</td>\n",
       "      <td>2.208138</td>\n",
       "      <td>0.073525</td>\n",
       "      <td>236.079314</td>\n",
       "      <td>0.064196</td>\n",
       "      <td>0.576302</td>\n",
       "      <td>33.875790</td>\n",
       "      <td>1.813727</td>\n",
       "      <td>Fail</td>\n",
       "    </tr>\n",
       "    <tr>\n",
       "      <th>3</th>\n",
       "      <td>18.181860</td>\n",
       "      <td>0.047325</td>\n",
       "      <td>0.018061</td>\n",
       "      <td>1.098102</td>\n",
       "      <td>0.000909</td>\n",
       "      <td>0.002397</td>\n",
       "      <td>2286.523413</td>\n",
       "      <td>0.035407</td>\n",
       "      <td>0.593081</td>\n",
       "      <td>1.010385</td>\n",
       "      <td>1.459004</td>\n",
       "      <td>0.380281</td>\n",
       "      <td>0.011491</td>\n",
       "      <td>0.654517</td>\n",
       "      <td>0.025872</td>\n",
       "      <td>176.948915</td>\n",
       "      <td>0.029777</td>\n",
       "      <td>0.246726</td>\n",
       "      <td>27.117165</td>\n",
       "      <td>0.081819</td>\n",
       "      <td>Fail</td>\n",
       "    </tr>\n",
       "    <tr>\n",
       "      <th>4</th>\n",
       "      <td>0.012085</td>\n",
       "      <td>0.008749</td>\n",
       "      <td>0.005509</td>\n",
       "      <td>524.327396</td>\n",
       "      <td>0.000909</td>\n",
       "      <td>0.002397</td>\n",
       "      <td>2286.523413</td>\n",
       "      <td>0.035407</td>\n",
       "      <td>0.593081</td>\n",
       "      <td>1.010385</td>\n",
       "      <td>11.576647</td>\n",
       "      <td>1.555672</td>\n",
       "      <td>38.613386</td>\n",
       "      <td>0.260989</td>\n",
       "      <td>0.009380</td>\n",
       "      <td>194.798039</td>\n",
       "      <td>0.055053</td>\n",
       "      <td>0.014725</td>\n",
       "      <td>13.569707</td>\n",
       "      <td>18.138496</td>\n",
       "      <td>Fail</td>\n",
       "    </tr>\n",
       "  </tbody>\n",
       "</table>\n",
       "</div>"
      ],
      "text/plain": [
       "   Parameter1  Parameter2  Parameter3  Parameter4  Parameter5  Parameter6  \\\n",
       "0    0.001660    0.591013  147.608373   38.186345    0.000421    0.000612   \n",
       "1    1.601749    0.015052    0.035864   51.130326    0.000909    0.002397   \n",
       "2    0.098039   69.233685    0.080920    0.112265    0.000909    0.001972   \n",
       "3   18.181860    0.047325    0.018061    1.098102    0.000909    0.002397   \n",
       "4    0.012085    0.008749    0.005509  524.327396    0.000909    0.002397   \n",
       "\n",
       "    Parameter7  Parameter8  Parameter9  Parameter10  Attribute1  Attribute2  \\\n",
       "0  2286.523413    0.035407    0.593081     1.010385    6.856075    0.168761   \n",
       "1  2286.523413    0.035407    0.593081     1.010385    0.000362   11.649033   \n",
       "2  2286.523413    0.035407    0.593081     1.010385    0.022201    0.078213   \n",
       "3  2286.523413    0.035407    0.593081     1.010385    1.459004    0.380281   \n",
       "4  2286.523413    0.035407    0.593081     1.010385   11.576647    1.555672   \n",
       "\n",
       "   Attribute3  Attribute4  Attribute5    Attribute6  Attribute7  Attribute8  \\\n",
       "0    1.098755   36.955992    8.454598     11.438066  177.243120  338.729256   \n",
       "1    0.066671  225.632949    0.481860  20597.447822    3.723330   15.376190   \n",
       "2  110.079689    2.208138    0.073525    236.079314    0.064196    0.576302   \n",
       "3    0.011491    0.654517    0.025872    176.948915    0.029777    0.246726   \n",
       "4   38.613386    0.260989    0.009380    194.798039    0.055053    0.014725   \n",
       "\n",
       "   Attribute9  Attribute10 Quality_label  \n",
       "0    2.021704     0.079526          Pass  \n",
       "1    0.986973     4.634376          Fail  \n",
       "2   33.875790     1.813727          Fail  \n",
       "3   27.117165     0.081819          Fail  \n",
       "4   13.569707    18.138496          Fail  "
      ]
     },
     "execution_count": 3,
     "metadata": {},
     "output_type": "execute_result"
    }
   ],
   "source": [
    "train.head()"
   ]
  },
  {
   "cell_type": "code",
   "execution_count": 4,
   "metadata": {
    "ExecuteTime": {
     "end_time": "2019-09-05T03:23:03.695410Z",
     "start_time": "2019-09-05T03:23:03.677908Z"
    }
   },
   "outputs": [
    {
     "data": {
      "text/html": [
       "<div>\n",
       "<style scoped>\n",
       "    .dataframe tbody tr th:only-of-type {\n",
       "        vertical-align: middle;\n",
       "    }\n",
       "\n",
       "    .dataframe tbody tr th {\n",
       "        vertical-align: top;\n",
       "    }\n",
       "\n",
       "    .dataframe thead th {\n",
       "        text-align: right;\n",
       "    }\n",
       "</style>\n",
       "<table border=\"1\" class=\"dataframe\">\n",
       "  <thead>\n",
       "    <tr style=\"text-align: right;\">\n",
       "      <th></th>\n",
       "      <th>Group</th>\n",
       "      <th>Parameter1</th>\n",
       "      <th>Parameter10</th>\n",
       "      <th>Parameter2</th>\n",
       "      <th>Parameter3</th>\n",
       "      <th>Parameter4</th>\n",
       "      <th>Parameter5</th>\n",
       "      <th>Parameter6</th>\n",
       "      <th>Parameter7</th>\n",
       "      <th>Parameter8</th>\n",
       "      <th>Parameter9</th>\n",
       "    </tr>\n",
       "  </thead>\n",
       "  <tbody>\n",
       "    <tr>\n",
       "      <th>0</th>\n",
       "      <td>0</td>\n",
       "      <td>0.235279</td>\n",
       "      <td>0.195680</td>\n",
       "      <td>0.351488</td>\n",
       "      <td>0.186814</td>\n",
       "      <td>0.086456</td>\n",
       "      <td>1.434060</td>\n",
       "      <td>1.230409</td>\n",
       "      <td>0.038483</td>\n",
       "      <td>2.931083</td>\n",
       "      <td>2.005852</td>\n",
       "    </tr>\n",
       "    <tr>\n",
       "      <th>1</th>\n",
       "      <td>0</td>\n",
       "      <td>0.043799</td>\n",
       "      <td>0.523976</td>\n",
       "      <td>32.590688</td>\n",
       "      <td>0.886285</td>\n",
       "      <td>29.702490</td>\n",
       "      <td>0.027434</td>\n",
       "      <td>0.016852</td>\n",
       "      <td>0.600827</td>\n",
       "      <td>0.118077</td>\n",
       "      <td>887.611257</td>\n",
       "    </tr>\n",
       "    <tr>\n",
       "      <th>2</th>\n",
       "      <td>0</td>\n",
       "      <td>21.466737</td>\n",
       "      <td>0.523976</td>\n",
       "      <td>11.847792</td>\n",
       "      <td>79499.554454</td>\n",
       "      <td>13544.605343</td>\n",
       "      <td>0.027434</td>\n",
       "      <td>0.016852</td>\n",
       "      <td>0.600827</td>\n",
       "      <td>0.118077</td>\n",
       "      <td>887.611257</td>\n",
       "    </tr>\n",
       "    <tr>\n",
       "      <th>3</th>\n",
       "      <td>0</td>\n",
       "      <td>0.703795</td>\n",
       "      <td>0.010192</td>\n",
       "      <td>0.018080</td>\n",
       "      <td>317.015599</td>\n",
       "      <td>38.087562</td>\n",
       "      <td>0.428092</td>\n",
       "      <td>0.314162</td>\n",
       "      <td>0.038483</td>\n",
       "      <td>17.850021</td>\n",
       "      <td>0.051850</td>\n",
       "    </tr>\n",
       "    <tr>\n",
       "      <th>4</th>\n",
       "      <td>0</td>\n",
       "      <td>10.447960</td>\n",
       "      <td>0.010192</td>\n",
       "      <td>15.983891</td>\n",
       "      <td>0.996049</td>\n",
       "      <td>16.715690</td>\n",
       "      <td>0.477823</td>\n",
       "      <td>0.464037</td>\n",
       "      <td>0.038483</td>\n",
       "      <td>17.850021</td>\n",
       "      <td>0.051850</td>\n",
       "    </tr>\n",
       "    <tr>\n",
       "      <th>5995</th>\n",
       "      <td>119</td>\n",
       "      <td>765.876721</td>\n",
       "      <td>51.944717</td>\n",
       "      <td>0.053836</td>\n",
       "      <td>0.258969</td>\n",
       "      <td>0.125856</td>\n",
       "      <td>0.000218</td>\n",
       "      <td>0.000414</td>\n",
       "      <td>2286.523413</td>\n",
       "      <td>0.035407</td>\n",
       "      <td>0.593081</td>\n",
       "    </tr>\n",
       "    <tr>\n",
       "      <th>5996</th>\n",
       "      <td>119</td>\n",
       "      <td>0.071211</td>\n",
       "      <td>0.195680</td>\n",
       "      <td>0.924208</td>\n",
       "      <td>284.265495</td>\n",
       "      <td>15.668770</td>\n",
       "      <td>3.095123</td>\n",
       "      <td>1.817391</td>\n",
       "      <td>0.600827</td>\n",
       "      <td>17.850021</td>\n",
       "      <td>6.783967</td>\n",
       "    </tr>\n",
       "    <tr>\n",
       "      <th>5997</th>\n",
       "      <td>119</td>\n",
       "      <td>0.001922</td>\n",
       "      <td>0.073078</td>\n",
       "      <td>7.829744</td>\n",
       "      <td>16.138304</td>\n",
       "      <td>0.000376</td>\n",
       "      <td>0.741630</td>\n",
       "      <td>1.495371</td>\n",
       "      <td>0.600827</td>\n",
       "      <td>17.850021</td>\n",
       "      <td>0.051850</td>\n",
       "    </tr>\n",
       "    <tr>\n",
       "      <th>5998</th>\n",
       "      <td>119</td>\n",
       "      <td>0.000054</td>\n",
       "      <td>0.027291</td>\n",
       "      <td>0.672029</td>\n",
       "      <td>0.002134</td>\n",
       "      <td>0.149019</td>\n",
       "      <td>3.454681</td>\n",
       "      <td>3.262468</td>\n",
       "      <td>0.600827</td>\n",
       "      <td>17.850021</td>\n",
       "      <td>6.783967</td>\n",
       "    </tr>\n",
       "    <tr>\n",
       "      <th>5999</th>\n",
       "      <td>119</td>\n",
       "      <td>1.026527</td>\n",
       "      <td>0.073078</td>\n",
       "      <td>0.116152</td>\n",
       "      <td>2.923321</td>\n",
       "      <td>610.091923</td>\n",
       "      <td>1.031282</td>\n",
       "      <td>0.833011</td>\n",
       "      <td>0.038483</td>\n",
       "      <td>2.931083</td>\n",
       "      <td>2.005852</td>\n",
       "    </tr>\n",
       "  </tbody>\n",
       "</table>\n",
       "</div>"
      ],
      "text/plain": [
       "      Group  Parameter1  Parameter10  Parameter2    Parameter3    Parameter4  \\\n",
       "0         0    0.235279     0.195680    0.351488      0.186814      0.086456   \n",
       "1         0    0.043799     0.523976   32.590688      0.886285     29.702490   \n",
       "2         0   21.466737     0.523976   11.847792  79499.554454  13544.605343   \n",
       "3         0    0.703795     0.010192    0.018080    317.015599     38.087562   \n",
       "4         0   10.447960     0.010192   15.983891      0.996049     16.715690   \n",
       "5995    119  765.876721    51.944717    0.053836      0.258969      0.125856   \n",
       "5996    119    0.071211     0.195680    0.924208    284.265495     15.668770   \n",
       "5997    119    0.001922     0.073078    7.829744     16.138304      0.000376   \n",
       "5998    119    0.000054     0.027291    0.672029      0.002134      0.149019   \n",
       "5999    119    1.026527     0.073078    0.116152      2.923321    610.091923   \n",
       "\n",
       "      Parameter5  Parameter6   Parameter7  Parameter8  Parameter9  \n",
       "0       1.434060    1.230409     0.038483    2.931083    2.005852  \n",
       "1       0.027434    0.016852     0.600827    0.118077  887.611257  \n",
       "2       0.027434    0.016852     0.600827    0.118077  887.611257  \n",
       "3       0.428092    0.314162     0.038483   17.850021    0.051850  \n",
       "4       0.477823    0.464037     0.038483   17.850021    0.051850  \n",
       "5995    0.000218    0.000414  2286.523413    0.035407    0.593081  \n",
       "5996    3.095123    1.817391     0.600827   17.850021    6.783967  \n",
       "5997    0.741630    1.495371     0.600827   17.850021    0.051850  \n",
       "5998    3.454681    3.262468     0.600827   17.850021    6.783967  \n",
       "5999    1.031282    0.833011     0.038483    2.931083    2.005852  "
      ]
     },
     "execution_count": 4,
     "metadata": {},
     "output_type": "execute_result"
    }
   ],
   "source": [
    "test.head().append(test.tail())"
   ]
  },
  {
   "cell_type": "code",
   "execution_count": 5,
   "metadata": {
    "ExecuteTime": {
     "end_time": "2019-09-05T03:23:05.777675Z",
     "start_time": "2019-09-05T03:23:05.760673Z"
    }
   },
   "outputs": [
    {
     "data": {
      "text/html": [
       "<div>\n",
       "<style scoped>\n",
       "    .dataframe tbody tr th:only-of-type {\n",
       "        vertical-align: middle;\n",
       "    }\n",
       "\n",
       "    .dataframe tbody tr th {\n",
       "        vertical-align: top;\n",
       "    }\n",
       "\n",
       "    .dataframe thead th {\n",
       "        text-align: right;\n",
       "    }\n",
       "</style>\n",
       "<table border=\"1\" class=\"dataframe\">\n",
       "  <thead>\n",
       "    <tr style=\"text-align: right;\">\n",
       "      <th></th>\n",
       "      <th>Group</th>\n",
       "      <th>Excellent ratio</th>\n",
       "      <th>Good ratio</th>\n",
       "      <th>Pass ratio</th>\n",
       "      <th>Fail ratio</th>\n",
       "    </tr>\n",
       "  </thead>\n",
       "  <tbody>\n",
       "    <tr>\n",
       "      <th>0</th>\n",
       "      <td>0</td>\n",
       "      <td>0.4</td>\n",
       "      <td>0.2</td>\n",
       "      <td>0.2</td>\n",
       "      <td>0.2</td>\n",
       "    </tr>\n",
       "    <tr>\n",
       "      <th>1</th>\n",
       "      <td>1</td>\n",
       "      <td>0.4</td>\n",
       "      <td>0.2</td>\n",
       "      <td>0.2</td>\n",
       "      <td>0.2</td>\n",
       "    </tr>\n",
       "    <tr>\n",
       "      <th>2</th>\n",
       "      <td>2</td>\n",
       "      <td>0.4</td>\n",
       "      <td>0.2</td>\n",
       "      <td>0.2</td>\n",
       "      <td>0.2</td>\n",
       "    </tr>\n",
       "    <tr>\n",
       "      <th>3</th>\n",
       "      <td>3</td>\n",
       "      <td>0.4</td>\n",
       "      <td>0.2</td>\n",
       "      <td>0.2</td>\n",
       "      <td>0.2</td>\n",
       "    </tr>\n",
       "    <tr>\n",
       "      <th>4</th>\n",
       "      <td>4</td>\n",
       "      <td>0.4</td>\n",
       "      <td>0.2</td>\n",
       "      <td>0.2</td>\n",
       "      <td>0.2</td>\n",
       "    </tr>\n",
       "  </tbody>\n",
       "</table>\n",
       "</div>"
      ],
      "text/plain": [
       "   Group  Excellent ratio  Good ratio  Pass ratio  Fail ratio\n",
       "0      0              0.4         0.2         0.2         0.2\n",
       "1      1              0.4         0.2         0.2         0.2\n",
       "2      2              0.4         0.2         0.2         0.2\n",
       "3      3              0.4         0.2         0.2         0.2\n",
       "4      4              0.4         0.2         0.2         0.2"
      ]
     },
     "execution_count": 5,
     "metadata": {},
     "output_type": "execute_result"
    }
   ],
   "source": [
    "submit_example.head()"
   ]
  },
  {
   "cell_type": "code",
   "execution_count": 6,
   "metadata": {
    "ExecuteTime": {
     "end_time": "2019-09-05T03:23:06.236233Z",
     "start_time": "2019-09-05T03:23:06.230732Z"
    }
   },
   "outputs": [
    {
     "data": {
      "text/plain": [
       "array(['Pass', 'Fail', 'Good', 'Excellent'], dtype=object)"
      ]
     },
     "execution_count": 6,
     "metadata": {},
     "output_type": "execute_result"
    }
   ],
   "source": [
    "train.Quality_label.unique()"
   ]
  },
  {
   "cell_type": "code",
   "execution_count": 7,
   "metadata": {
    "ExecuteTime": {
     "end_time": "2019-09-05T03:23:08.203983Z",
     "start_time": "2019-09-05T03:23:08.195482Z"
    }
   },
   "outputs": [],
   "source": [
    "features = ['Parameter1', 'Parameter2', 'Parameter3', 'Parameter4', 'Parameter5',\n",
    "            'Parameter6', 'Parameter7', 'Parameter8', 'Parameter9', 'Parameter10',\n",
    "            'Attribute1', 'Attribute2', 'Attribute3', 'Attribute4', 'Attribute5',\n",
    "            'Attribute6', 'Attribute7', 'Attribute8', 'Attribute9', 'Attribute10']\n",
    "test_features = ['Parameter1', 'Parameter10', 'Parameter2', 'Parameter3',\n",
    "                 'Parameter4', 'Parameter5', 'Parameter6', 'Parameter7', \n",
    "                 'Parameter8', 'Parameter9']"
   ]
  },
  {
   "cell_type": "markdown",
   "metadata": {},
   "source": [
    "### 特征类别观察"
   ]
  },
  {
   "cell_type": "code",
   "execution_count": 8,
   "metadata": {
    "ExecuteTime": {
     "end_time": "2019-09-05T03:23:10.122226Z",
     "start_time": "2019-09-05T03:23:10.088222Z"
    }
   },
   "outputs": [
    {
     "name": "stdout",
     "output_type": "stream",
     "text": [
      "Parameter1 6000\n",
      "Parameter10 41\n",
      "Parameter2 6000\n",
      "Parameter3 6000\n",
      "Parameter4 6000\n",
      "Parameter5 132\n",
      "Parameter6 80\n",
      "Parameter7 14\n",
      "Parameter8 23\n",
      "Parameter9 16\n"
     ]
    }
   ],
   "source": [
    "for feature in test_features:\n",
    "    print(feature, len(train[feature].value_counts().tolist()))"
   ]
  },
  {
   "cell_type": "code",
   "execution_count": 9,
   "metadata": {
    "ExecuteTime": {
     "end_time": "2019-09-05T03:23:11.139856Z",
     "start_time": "2019-09-05T03:23:11.097350Z"
    }
   },
   "outputs": [
    {
     "data": {
      "text/html": [
       "<div>\n",
       "<style scoped>\n",
       "    .dataframe tbody tr th:only-of-type {\n",
       "        vertical-align: middle;\n",
       "    }\n",
       "\n",
       "    .dataframe tbody tr th {\n",
       "        vertical-align: top;\n",
       "    }\n",
       "\n",
       "    .dataframe thead th {\n",
       "        text-align: right;\n",
       "    }\n",
       "</style>\n",
       "<table border=\"1\" class=\"dataframe\">\n",
       "  <thead>\n",
       "    <tr style=\"text-align: right;\">\n",
       "      <th></th>\n",
       "      <th>Parameter1</th>\n",
       "      <th>Parameter2</th>\n",
       "      <th>Parameter3</th>\n",
       "      <th>Parameter4</th>\n",
       "      <th>Parameter5</th>\n",
       "      <th>Parameter6</th>\n",
       "      <th>Parameter7</th>\n",
       "      <th>Parameter8</th>\n",
       "      <th>Parameter9</th>\n",
       "      <th>Parameter10</th>\n",
       "      <th>Attribute1</th>\n",
       "      <th>Attribute2</th>\n",
       "      <th>Attribute3</th>\n",
       "      <th>Attribute4</th>\n",
       "      <th>Attribute5</th>\n",
       "      <th>Attribute6</th>\n",
       "      <th>Attribute7</th>\n",
       "      <th>Attribute8</th>\n",
       "      <th>Attribute9</th>\n",
       "      <th>Attribute10</th>\n",
       "      <th>Quality_label</th>\n",
       "      <th>label</th>\n",
       "    </tr>\n",
       "  </thead>\n",
       "  <tbody>\n",
       "    <tr>\n",
       "      <th>0</th>\n",
       "      <td>0.001660</td>\n",
       "      <td>0.591013</td>\n",
       "      <td>147.608373</td>\n",
       "      <td>38.186345</td>\n",
       "      <td>0.000421</td>\n",
       "      <td>0.000612</td>\n",
       "      <td>2286.523413</td>\n",
       "      <td>0.035407</td>\n",
       "      <td>0.593081</td>\n",
       "      <td>1.010385</td>\n",
       "      <td>6.856075</td>\n",
       "      <td>0.168761</td>\n",
       "      <td>1.098755</td>\n",
       "      <td>36.955992</td>\n",
       "      <td>8.454598</td>\n",
       "      <td>11.438066</td>\n",
       "      <td>177.243120</td>\n",
       "      <td>338.729256</td>\n",
       "      <td>2.021704</td>\n",
       "      <td>0.079526</td>\n",
       "      <td>Pass</td>\n",
       "      <td>3</td>\n",
       "    </tr>\n",
       "    <tr>\n",
       "      <th>1</th>\n",
       "      <td>1.601749</td>\n",
       "      <td>0.015052</td>\n",
       "      <td>0.035864</td>\n",
       "      <td>51.130326</td>\n",
       "      <td>0.000909</td>\n",
       "      <td>0.002397</td>\n",
       "      <td>2286.523413</td>\n",
       "      <td>0.035407</td>\n",
       "      <td>0.593081</td>\n",
       "      <td>1.010385</td>\n",
       "      <td>0.000362</td>\n",
       "      <td>11.649033</td>\n",
       "      <td>0.066671</td>\n",
       "      <td>225.632949</td>\n",
       "      <td>0.481860</td>\n",
       "      <td>20597.447822</td>\n",
       "      <td>3.723330</td>\n",
       "      <td>15.376190</td>\n",
       "      <td>0.986973</td>\n",
       "      <td>4.634376</td>\n",
       "      <td>Fail</td>\n",
       "      <td>4</td>\n",
       "    </tr>\n",
       "    <tr>\n",
       "      <th>2</th>\n",
       "      <td>0.098039</td>\n",
       "      <td>69.233685</td>\n",
       "      <td>0.080920</td>\n",
       "      <td>0.112265</td>\n",
       "      <td>0.000909</td>\n",
       "      <td>0.001972</td>\n",
       "      <td>2286.523413</td>\n",
       "      <td>0.035407</td>\n",
       "      <td>0.593081</td>\n",
       "      <td>1.010385</td>\n",
       "      <td>0.022201</td>\n",
       "      <td>0.078213</td>\n",
       "      <td>110.079689</td>\n",
       "      <td>2.208138</td>\n",
       "      <td>0.073525</td>\n",
       "      <td>236.079314</td>\n",
       "      <td>0.064196</td>\n",
       "      <td>0.576302</td>\n",
       "      <td>33.875790</td>\n",
       "      <td>1.813727</td>\n",
       "      <td>Fail</td>\n",
       "      <td>4</td>\n",
       "    </tr>\n",
       "    <tr>\n",
       "      <th>3</th>\n",
       "      <td>18.181860</td>\n",
       "      <td>0.047325</td>\n",
       "      <td>0.018061</td>\n",
       "      <td>1.098102</td>\n",
       "      <td>0.000909</td>\n",
       "      <td>0.002397</td>\n",
       "      <td>2286.523413</td>\n",
       "      <td>0.035407</td>\n",
       "      <td>0.593081</td>\n",
       "      <td>1.010385</td>\n",
       "      <td>1.459004</td>\n",
       "      <td>0.380281</td>\n",
       "      <td>0.011491</td>\n",
       "      <td>0.654517</td>\n",
       "      <td>0.025872</td>\n",
       "      <td>176.948915</td>\n",
       "      <td>0.029777</td>\n",
       "      <td>0.246726</td>\n",
       "      <td>27.117165</td>\n",
       "      <td>0.081819</td>\n",
       "      <td>Fail</td>\n",
       "      <td>4</td>\n",
       "    </tr>\n",
       "    <tr>\n",
       "      <th>4</th>\n",
       "      <td>0.012085</td>\n",
       "      <td>0.008749</td>\n",
       "      <td>0.005509</td>\n",
       "      <td>524.327396</td>\n",
       "      <td>0.000909</td>\n",
       "      <td>0.002397</td>\n",
       "      <td>2286.523413</td>\n",
       "      <td>0.035407</td>\n",
       "      <td>0.593081</td>\n",
       "      <td>1.010385</td>\n",
       "      <td>11.576647</td>\n",
       "      <td>1.555672</td>\n",
       "      <td>38.613386</td>\n",
       "      <td>0.260989</td>\n",
       "      <td>0.009380</td>\n",
       "      <td>194.798039</td>\n",
       "      <td>0.055053</td>\n",
       "      <td>0.014725</td>\n",
       "      <td>13.569707</td>\n",
       "      <td>18.138496</td>\n",
       "      <td>Fail</td>\n",
       "      <td>4</td>\n",
       "    </tr>\n",
       "  </tbody>\n",
       "</table>\n",
       "</div>"
      ],
      "text/plain": [
       "   Parameter1  Parameter2  Parameter3  Parameter4  Parameter5  Parameter6  \\\n",
       "0    0.001660    0.591013  147.608373   38.186345    0.000421    0.000612   \n",
       "1    1.601749    0.015052    0.035864   51.130326    0.000909    0.002397   \n",
       "2    0.098039   69.233685    0.080920    0.112265    0.000909    0.001972   \n",
       "3   18.181860    0.047325    0.018061    1.098102    0.000909    0.002397   \n",
       "4    0.012085    0.008749    0.005509  524.327396    0.000909    0.002397   \n",
       "\n",
       "    Parameter7  Parameter8  Parameter9  Parameter10  Attribute1  Attribute2  \\\n",
       "0  2286.523413    0.035407    0.593081     1.010385    6.856075    0.168761   \n",
       "1  2286.523413    0.035407    0.593081     1.010385    0.000362   11.649033   \n",
       "2  2286.523413    0.035407    0.593081     1.010385    0.022201    0.078213   \n",
       "3  2286.523413    0.035407    0.593081     1.010385    1.459004    0.380281   \n",
       "4  2286.523413    0.035407    0.593081     1.010385   11.576647    1.555672   \n",
       "\n",
       "   Attribute3  Attribute4  Attribute5    Attribute6  Attribute7  Attribute8  \\\n",
       "0    1.098755   36.955992    8.454598     11.438066  177.243120  338.729256   \n",
       "1    0.066671  225.632949    0.481860  20597.447822    3.723330   15.376190   \n",
       "2  110.079689    2.208138    0.073525    236.079314    0.064196    0.576302   \n",
       "3    0.011491    0.654517    0.025872    176.948915    0.029777    0.246726   \n",
       "4   38.613386    0.260989    0.009380    194.798039    0.055053    0.014725   \n",
       "\n",
       "   Attribute9  Attribute10 Quality_label  label  \n",
       "0    2.021704     0.079526          Pass      3  \n",
       "1    0.986973     4.634376          Fail      4  \n",
       "2   33.875790     1.813727          Fail      4  \n",
       "3   27.117165     0.081819          Fail      4  \n",
       "4   13.569707    18.138496          Fail      4  "
      ]
     },
     "execution_count": 9,
     "metadata": {},
     "output_type": "execute_result"
    }
   ],
   "source": [
    "def label_map(x):\n",
    "    labels = {'Excellent':1, 'Good':2, 'Pass':3, 'Fail':4}\n",
    "    return labels[x]\n",
    "\n",
    "train['label'] = train.Quality_label.apply(label_map)\n",
    "train.head()"
   ]
  },
  {
   "cell_type": "code",
   "execution_count": null,
   "metadata": {
    "ExecuteTime": {
     "end_time": "2019-09-04T02:31:30.454957Z",
     "start_time": "2019-09-04T02:30:48.637147Z"
    }
   },
   "outputs": [],
   "source": [
    "pfr = ppf.ProfileReport(train)\n",
    "pfr.to_file('train_EDA.html')"
   ]
  },
  {
   "cell_type": "markdown",
   "metadata": {},
   "source": [
    "### 异常点观察"
   ]
  },
  {
   "cell_type": "code",
   "execution_count": null,
   "metadata": {
    "ExecuteTime": {
     "end_time": "2019-09-04T02:31:31.064034Z",
     "start_time": "2019-09-04T02:31:30.840506Z"
    }
   },
   "outputs": [],
   "source": [
    "plt.scatter(train.Quality_label, train.Parameter1)\n",
    "# 剔除train.Parameter1>12的数据"
   ]
  },
  {
   "cell_type": "code",
   "execution_count": null,
   "metadata": {
    "ExecuteTime": {
     "end_time": "2019-09-04T02:31:31.431581Z",
     "start_time": "2019-09-04T02:31:31.427080Z"
    }
   },
   "outputs": [],
   "source": [
    "train = train[train.Parameter1<=200000]"
   ]
  },
  {
   "cell_type": "code",
   "execution_count": null,
   "metadata": {
    "ExecuteTime": {
     "end_time": "2019-09-04T02:31:32.009654Z",
     "start_time": "2019-09-04T02:31:31.784626Z"
    }
   },
   "outputs": [],
   "source": [
    "plt.scatter(train.Quality_label, train.Parameter2)\n",
    "# 剔除train.Parameter2>14的数据"
   ]
  },
  {
   "cell_type": "code",
   "execution_count": null,
   "metadata": {
    "ExecuteTime": {
     "end_time": "2019-09-04T02:31:32.358699Z",
     "start_time": "2019-09-04T02:31:32.352698Z"
    }
   },
   "outputs": [],
   "source": [
    "train = train[train.Parameter2<=1000000]"
   ]
  },
  {
   "cell_type": "code",
   "execution_count": null,
   "metadata": {
    "ExecuteTime": {
     "end_time": "2019-09-04T02:31:32.909769Z",
     "start_time": "2019-09-04T02:31:32.703743Z"
    }
   },
   "outputs": [],
   "source": [
    "plt.scatter(train.Quality_label, train.Parameter3)\n",
    "# 剔除train.Parameter3>12的数据"
   ]
  },
  {
   "cell_type": "code",
   "execution_count": null,
   "metadata": {
    "ExecuteTime": {
     "end_time": "2019-09-04T02:31:33.258313Z",
     "start_time": "2019-09-04T02:31:33.253312Z"
    }
   },
   "outputs": [],
   "source": [
    "train = train[train.Parameter3<=200000]"
   ]
  },
  {
   "cell_type": "code",
   "execution_count": null,
   "metadata": {
    "ExecuteTime": {
     "end_time": "2019-09-04T02:31:33.822385Z",
     "start_time": "2019-09-04T02:31:33.604357Z"
    }
   },
   "outputs": [],
   "source": [
    "plt.scatter(train.Quality_label, train.Parameter4)"
   ]
  },
  {
   "cell_type": "code",
   "execution_count": null,
   "metadata": {
    "ExecuteTime": {
     "end_time": "2019-09-04T02:31:34.179430Z",
     "start_time": "2019-09-04T02:31:34.173429Z"
    }
   },
   "outputs": [],
   "source": [
    "train = train[train.Parameter4<=80000]"
   ]
  },
  {
   "cell_type": "code",
   "execution_count": null,
   "metadata": {
    "ExecuteTime": {
     "end_time": "2019-09-04T02:31:41.911412Z",
     "start_time": "2019-09-04T02:31:41.670381Z"
    }
   },
   "outputs": [],
   "source": [
    "plt.scatter(train.Quality_label, train.Parameter5)\n",
    "# 剔除train.Parameter5>4的数据"
   ]
  },
  {
   "cell_type": "code",
   "execution_count": null,
   "metadata": {
    "ExecuteTime": {
     "end_time": "2019-09-04T02:31:42.319464Z",
     "start_time": "2019-09-04T02:31:42.313963Z"
    }
   },
   "outputs": [],
   "source": [
    "train = train[train.Parameter5<=60]"
   ]
  },
  {
   "cell_type": "code",
   "execution_count": null,
   "metadata": {
    "ExecuteTime": {
     "end_time": "2019-09-04T02:31:42.951044Z",
     "start_time": "2019-09-04T02:31:42.731516Z"
    }
   },
   "outputs": [],
   "source": [
    "plt.scatter(train.Quality_label, train.Parameter6)"
   ]
  },
  {
   "cell_type": "code",
   "execution_count": null,
   "metadata": {
    "ExecuteTime": {
     "end_time": "2019-09-04T02:31:43.556121Z",
     "start_time": "2019-09-04T02:31:43.323091Z"
    }
   },
   "outputs": [],
   "source": [
    "plt.scatter(train.Quality_label, train.Parameter7)"
   ]
  },
  {
   "cell_type": "code",
   "execution_count": null,
   "metadata": {
    "ExecuteTime": {
     "end_time": "2019-09-04T02:31:43.915666Z",
     "start_time": "2019-09-04T02:31:43.910166Z"
    }
   },
   "outputs": [],
   "source": [
    "train = train[train.Parameter7<=30000]"
   ]
  },
  {
   "cell_type": "code",
   "execution_count": null,
   "metadata": {
    "ExecuteTime": {
     "end_time": "2019-09-04T02:31:44.495240Z",
     "start_time": "2019-09-04T02:31:44.264711Z"
    }
   },
   "outputs": [],
   "source": [
    "plt.scatter(train.Quality_label, train.Parameter8)\n",
    "# 剔除train.Parameter8>8的数据"
   ]
  },
  {
   "cell_type": "code",
   "execution_count": null,
   "metadata": {
    "ExecuteTime": {
     "end_time": "2019-09-04T02:31:44.844784Z",
     "start_time": "2019-09-04T02:31:44.839784Z"
    }
   },
   "outputs": [],
   "source": [
    "train = train[train.Parameter8<=5000]"
   ]
  },
  {
   "cell_type": "code",
   "execution_count": null,
   "metadata": {
    "ExecuteTime": {
     "end_time": "2019-09-04T02:31:45.474864Z",
     "start_time": "2019-09-04T02:31:45.232834Z"
    }
   },
   "outputs": [],
   "source": [
    "plt.scatter(train.Quality_label, train.Parameter9)\n",
    "# 剔除train.Parameter9>12的数据"
   ]
  },
  {
   "cell_type": "code",
   "execution_count": null,
   "metadata": {
    "ExecuteTime": {
     "end_time": "2019-09-04T02:31:48.268719Z",
     "start_time": "2019-09-04T02:31:48.258718Z"
    }
   },
   "outputs": [],
   "source": [
    "train = train[train.Parameter9<=1e8]"
   ]
  },
  {
   "cell_type": "code",
   "execution_count": null,
   "metadata": {
    "ExecuteTime": {
     "end_time": "2019-09-04T02:31:48.970308Z",
     "start_time": "2019-09-04T02:31:48.744780Z"
    }
   },
   "outputs": [],
   "source": [
    "plt.scatter(train.Quality_label, train.Parameter10)"
   ]
  },
  {
   "cell_type": "code",
   "execution_count": null,
   "metadata": {
    "ExecuteTime": {
     "end_time": "2019-09-04T02:31:50.630019Z",
     "start_time": "2019-09-04T02:31:50.624018Z"
    }
   },
   "outputs": [],
   "source": [
    "train.shape"
   ]
  },
  {
   "cell_type": "code",
   "execution_count": null,
   "metadata": {
    "ExecuteTime": {
     "end_time": "2019-09-04T02:31:51.828671Z",
     "start_time": "2019-09-04T02:31:51.110580Z"
    }
   },
   "outputs": [],
   "source": [
    "plt.figure(figsize=(8,6))\n",
    "sns.heatmap(train[test_features].corr(), vmax=0.8, vmin=-0.8, linewidths=0.2, annot=True)"
   ]
  },
  {
   "cell_type": "markdown",
   "metadata": {},
   "source": [
    "### 构建数据组合"
   ]
  },
  {
   "cell_type": "code",
   "execution_count": 10,
   "metadata": {
    "ExecuteTime": {
     "end_time": "2019-09-05T03:23:17.170121Z",
     "start_time": "2019-09-05T03:23:17.160120Z"
    }
   },
   "outputs": [],
   "source": [
    "selected_features = ['Parameter1', 'Parameter2', 'Parameter3',\n",
    "                     'Parameter4', 'Parameter6', 'Parameter7', \n",
    "                     'Parameter8', 'Parameter9', 'Parameter10']\n",
    "features = ['Parameter6', 'Parameter7', 'Parameter8', \n",
    "            'Parameter9', 'Parameter10']\n",
    "full = pd.concat([train[selected_features], test[selected_features]], ignore_index=True)"
   ]
  },
  {
   "cell_type": "markdown",
   "metadata": {},
   "source": [
    "#### Label Encoding"
   ]
  },
  {
   "cell_type": "code",
   "execution_count": 11,
   "metadata": {
    "ExecuteTime": {
     "end_time": "2019-09-05T03:23:18.444783Z",
     "start_time": "2019-09-05T03:23:18.431282Z"
    }
   },
   "outputs": [],
   "source": [
    "for feature in features:\n",
    "    le_feature = feature + '_le'\n",
    "    full[le_feature] = LabelEncoder().fit_transform(full[feature])"
   ]
  },
  {
   "cell_type": "code",
   "execution_count": 12,
   "metadata": {
    "ExecuteTime": {
     "end_time": "2019-09-05T03:23:19.818958Z",
     "start_time": "2019-09-05T03:23:19.799955Z"
    }
   },
   "outputs": [
    {
     "data": {
      "text/html": [
       "<div>\n",
       "<style scoped>\n",
       "    .dataframe tbody tr th:only-of-type {\n",
       "        vertical-align: middle;\n",
       "    }\n",
       "\n",
       "    .dataframe tbody tr th {\n",
       "        vertical-align: top;\n",
       "    }\n",
       "\n",
       "    .dataframe thead th {\n",
       "        text-align: right;\n",
       "    }\n",
       "</style>\n",
       "<table border=\"1\" class=\"dataframe\">\n",
       "  <thead>\n",
       "    <tr style=\"text-align: right;\">\n",
       "      <th></th>\n",
       "      <th>Parameter1</th>\n",
       "      <th>Parameter2</th>\n",
       "      <th>Parameter3</th>\n",
       "      <th>Parameter4</th>\n",
       "      <th>Parameter6</th>\n",
       "      <th>Parameter7</th>\n",
       "      <th>Parameter8</th>\n",
       "      <th>Parameter9</th>\n",
       "      <th>Parameter10</th>\n",
       "      <th>Parameter6_le</th>\n",
       "      <th>Parameter7_le</th>\n",
       "      <th>Parameter8_le</th>\n",
       "      <th>Parameter9_le</th>\n",
       "      <th>Parameter10_le</th>\n",
       "    </tr>\n",
       "  </thead>\n",
       "  <tbody>\n",
       "    <tr>\n",
       "      <th>0</th>\n",
       "      <td>0.001660</td>\n",
       "      <td>0.591013</td>\n",
       "      <td>147.608373</td>\n",
       "      <td>38.186345</td>\n",
       "      <td>0.000612</td>\n",
       "      <td>2286.523413</td>\n",
       "      <td>0.035407</td>\n",
       "      <td>0.593081</td>\n",
       "      <td>1.010385</td>\n",
       "      <td>24</td>\n",
       "      <td>12</td>\n",
       "      <td>1</td>\n",
       "      <td>5</td>\n",
       "      <td>24</td>\n",
       "    </tr>\n",
       "    <tr>\n",
       "      <th>1</th>\n",
       "      <td>1.601749</td>\n",
       "      <td>0.015052</td>\n",
       "      <td>0.035864</td>\n",
       "      <td>51.130326</td>\n",
       "      <td>0.002397</td>\n",
       "      <td>2286.523413</td>\n",
       "      <td>0.035407</td>\n",
       "      <td>0.593081</td>\n",
       "      <td>1.010385</td>\n",
       "      <td>31</td>\n",
       "      <td>12</td>\n",
       "      <td>1</td>\n",
       "      <td>5</td>\n",
       "      <td>24</td>\n",
       "    </tr>\n",
       "    <tr>\n",
       "      <th>2</th>\n",
       "      <td>0.098039</td>\n",
       "      <td>69.233685</td>\n",
       "      <td>0.080920</td>\n",
       "      <td>0.112265</td>\n",
       "      <td>0.001972</td>\n",
       "      <td>2286.523413</td>\n",
       "      <td>0.035407</td>\n",
       "      <td>0.593081</td>\n",
       "      <td>1.010385</td>\n",
       "      <td>30</td>\n",
       "      <td>12</td>\n",
       "      <td>1</td>\n",
       "      <td>5</td>\n",
       "      <td>24</td>\n",
       "    </tr>\n",
       "    <tr>\n",
       "      <th>3</th>\n",
       "      <td>18.181860</td>\n",
       "      <td>0.047325</td>\n",
       "      <td>0.018061</td>\n",
       "      <td>1.098102</td>\n",
       "      <td>0.002397</td>\n",
       "      <td>2286.523413</td>\n",
       "      <td>0.035407</td>\n",
       "      <td>0.593081</td>\n",
       "      <td>1.010385</td>\n",
       "      <td>31</td>\n",
       "      <td>12</td>\n",
       "      <td>1</td>\n",
       "      <td>5</td>\n",
       "      <td>24</td>\n",
       "    </tr>\n",
       "    <tr>\n",
       "      <th>4</th>\n",
       "      <td>0.012085</td>\n",
       "      <td>0.008749</td>\n",
       "      <td>0.005509</td>\n",
       "      <td>524.327396</td>\n",
       "      <td>0.002397</td>\n",
       "      <td>2286.523413</td>\n",
       "      <td>0.035407</td>\n",
       "      <td>0.593081</td>\n",
       "      <td>1.010385</td>\n",
       "      <td>31</td>\n",
       "      <td>12</td>\n",
       "      <td>1</td>\n",
       "      <td>5</td>\n",
       "      <td>24</td>\n",
       "    </tr>\n",
       "  </tbody>\n",
       "</table>\n",
       "</div>"
      ],
      "text/plain": [
       "   Parameter1  Parameter2  Parameter3  Parameter4  Parameter6   Parameter7  \\\n",
       "0    0.001660    0.591013  147.608373   38.186345    0.000612  2286.523413   \n",
       "1    1.601749    0.015052    0.035864   51.130326    0.002397  2286.523413   \n",
       "2    0.098039   69.233685    0.080920    0.112265    0.001972  2286.523413   \n",
       "3   18.181860    0.047325    0.018061    1.098102    0.002397  2286.523413   \n",
       "4    0.012085    0.008749    0.005509  524.327396    0.002397  2286.523413   \n",
       "\n",
       "   Parameter8  Parameter9  Parameter10  Parameter6_le  Parameter7_le  \\\n",
       "0    0.035407    0.593081     1.010385             24             12   \n",
       "1    0.035407    0.593081     1.010385             31             12   \n",
       "2    0.035407    0.593081     1.010385             30             12   \n",
       "3    0.035407    0.593081     1.010385             31             12   \n",
       "4    0.035407    0.593081     1.010385             31             12   \n",
       "\n",
       "   Parameter8_le  Parameter9_le  Parameter10_le  \n",
       "0              1              5              24  \n",
       "1              1              5              24  \n",
       "2              1              5              24  \n",
       "3              1              5              24  \n",
       "4              1              5              24  "
      ]
     },
     "execution_count": 12,
     "metadata": {},
     "output_type": "execute_result"
    }
   ],
   "source": [
    "full.head()"
   ]
  },
  {
   "cell_type": "code",
   "execution_count": 13,
   "metadata": {
    "ExecuteTime": {
     "end_time": "2019-09-05T03:23:21.682694Z",
     "start_time": "2019-09-05T03:23:21.599184Z"
    }
   },
   "outputs": [
    {
     "name": "stdout",
     "output_type": "stream",
     "text": [
      "shape of trainX: (6000, 15)\n",
      "shape of testX: (6000, 14)\n"
     ]
    }
   ],
   "source": [
    "trainX = full[:train.shape[0]]\n",
    "trainX['label'] = train.label\n",
    "testX = full[train.shape[0]:]\n",
    "\n",
    "print('shape of trainX:', trainX.shape)\n",
    "print('shape of testX:', testX.shape)"
   ]
  },
  {
   "cell_type": "markdown",
   "metadata": {},
   "source": [
    "#### Target Encoding"
   ]
  },
  {
   "cell_type": "code",
   "execution_count": 14,
   "metadata": {
    "ExecuteTime": {
     "end_time": "2019-09-05T03:23:35.172407Z",
     "start_time": "2019-09-05T03:23:30.702340Z"
    },
    "scrolled": true
   },
   "outputs": [
    {
     "name": "stdout",
     "output_type": "stream",
     "text": [
      "Parameter6 1\n",
      "Parameter6 2\n",
      "Parameter6 3\n",
      "Parameter6 4\n",
      "Parameter7 1\n",
      "Parameter7 2\n",
      "Parameter7 3\n",
      "Parameter7 4\n",
      "Parameter8 1\n",
      "Parameter8 2\n",
      "Parameter8 3\n",
      "Parameter8 4\n",
      "Parameter9 1\n",
      "Parameter9 2\n",
      "Parameter9 3\n",
      "Parameter9 4\n",
      "Parameter10 1\n",
      "Parameter10 2\n",
      "Parameter10 3\n",
      "Parameter10 4\n"
     ]
    }
   ],
   "source": [
    "def parameter_ctr(train, test, col, label):\n",
    "    # train: 数据集\n",
    "    # col: 类别型特征\n",
    "    # label：标签值\n",
    "    new_col = col + '_ctr_' + str(label)\n",
    "    train[new_col] = 0.0\n",
    "    \n",
    "    ctr = train[col+'_le'].value_counts() \n",
    "    k_map = {}\n",
    "    values = train[col+'_le'].unique().tolist()\n",
    "    values.extend(test[col+'_le'].unique().tolist())\n",
    "    for elem in set(values):\n",
    "        try:\n",
    "            k_map[elem] = train[(train[col+'_le']==elem)&(train['label']==label)].shape[0] / ctr[elem]\n",
    "        except:\n",
    "            k_map[elem] = sum(k_map.values()) / len(k_map.values())\n",
    "    train[new_col] = train[col+'_le'].apply(lambda x: k_map[x])\n",
    "    test[new_col] = test[col+'_le'].apply(lambda x: k_map[x])\n",
    "    return train, test\n",
    "\n",
    "features = ['Parameter6', 'Parameter7', 'Parameter8', \n",
    "            'Parameter9', 'Parameter10']\n",
    "labels = [1, 2, 3, 4]\n",
    "for feature in features:\n",
    "    for label in labels:\n",
    "        print(feature, label)\n",
    "        trainX, testX = parameter_ctr(trainX, testX, feature, label)"
   ]
  },
  {
   "cell_type": "code",
   "execution_count": 15,
   "metadata": {
    "ExecuteTime": {
     "end_time": "2019-09-05T03:23:41.368194Z",
     "start_time": "2019-09-05T03:23:41.362193Z"
    },
    "scrolled": true
   },
   "outputs": [
    {
     "name": "stdout",
     "output_type": "stream",
     "text": [
      "shape of trainX: (6000, 35)\n",
      "shape of testX: (6000, 34)\n"
     ]
    }
   ],
   "source": [
    "print('shape of trainX:', trainX.shape)\n",
    "print('shape of testX:', testX.shape)"
   ]
  },
  {
   "cell_type": "code",
   "execution_count": 16,
   "metadata": {
    "ExecuteTime": {
     "end_time": "2019-09-05T03:23:44.481590Z",
     "start_time": "2019-09-05T03:23:44.435084Z"
    }
   },
   "outputs": [
    {
     "data": {
      "text/html": [
       "<div>\n",
       "<style scoped>\n",
       "    .dataframe tbody tr th:only-of-type {\n",
       "        vertical-align: middle;\n",
       "    }\n",
       "\n",
       "    .dataframe tbody tr th {\n",
       "        vertical-align: top;\n",
       "    }\n",
       "\n",
       "    .dataframe thead th {\n",
       "        text-align: right;\n",
       "    }\n",
       "</style>\n",
       "<table border=\"1\" class=\"dataframe\">\n",
       "  <thead>\n",
       "    <tr style=\"text-align: right;\">\n",
       "      <th></th>\n",
       "      <th>Parameter1</th>\n",
       "      <th>Parameter2</th>\n",
       "      <th>Parameter3</th>\n",
       "      <th>Parameter4</th>\n",
       "      <th>Parameter6</th>\n",
       "      <th>Parameter7</th>\n",
       "      <th>Parameter8</th>\n",
       "      <th>Parameter9</th>\n",
       "      <th>Parameter10</th>\n",
       "      <th>Parameter6_le</th>\n",
       "      <th>Parameter7_le</th>\n",
       "      <th>Parameter8_le</th>\n",
       "      <th>Parameter9_le</th>\n",
       "      <th>Parameter10_le</th>\n",
       "      <th>label</th>\n",
       "      <th>Parameter6_ctr_1</th>\n",
       "      <th>Parameter6_ctr_2</th>\n",
       "      <th>Parameter6_ctr_3</th>\n",
       "      <th>Parameter6_ctr_4</th>\n",
       "      <th>Parameter7_ctr_1</th>\n",
       "      <th>Parameter7_ctr_2</th>\n",
       "      <th>Parameter7_ctr_3</th>\n",
       "      <th>Parameter7_ctr_4</th>\n",
       "      <th>Parameter8_ctr_1</th>\n",
       "      <th>Parameter8_ctr_2</th>\n",
       "      <th>Parameter8_ctr_3</th>\n",
       "      <th>Parameter8_ctr_4</th>\n",
       "      <th>Parameter9_ctr_1</th>\n",
       "      <th>Parameter9_ctr_2</th>\n",
       "      <th>Parameter9_ctr_3</th>\n",
       "      <th>Parameter9_ctr_4</th>\n",
       "      <th>Parameter10_ctr_1</th>\n",
       "      <th>Parameter10_ctr_2</th>\n",
       "      <th>Parameter10_ctr_3</th>\n",
       "      <th>Parameter10_ctr_4</th>\n",
       "    </tr>\n",
       "  </thead>\n",
       "  <tbody>\n",
       "    <tr>\n",
       "      <th>0</th>\n",
       "      <td>0.001660</td>\n",
       "      <td>0.591013</td>\n",
       "      <td>147.608373</td>\n",
       "      <td>38.186345</td>\n",
       "      <td>0.000612</td>\n",
       "      <td>2286.523413</td>\n",
       "      <td>0.035407</td>\n",
       "      <td>0.593081</td>\n",
       "      <td>1.010385</td>\n",
       "      <td>24</td>\n",
       "      <td>12</td>\n",
       "      <td>1</td>\n",
       "      <td>5</td>\n",
       "      <td>24</td>\n",
       "      <td>3</td>\n",
       "      <td>0.000000</td>\n",
       "      <td>0.222222</td>\n",
       "      <td>0.555556</td>\n",
       "      <td>0.222222</td>\n",
       "      <td>0.12</td>\n",
       "      <td>0.328571</td>\n",
       "      <td>0.342857</td>\n",
       "      <td>0.208571</td>\n",
       "      <td>0.115016</td>\n",
       "      <td>0.222843</td>\n",
       "      <td>0.510783</td>\n",
       "      <td>0.151358</td>\n",
       "      <td>0.13731</td>\n",
       "      <td>0.226262</td>\n",
       "      <td>0.504059</td>\n",
       "      <td>0.132369</td>\n",
       "      <td>0.175439</td>\n",
       "      <td>0.251462</td>\n",
       "      <td>0.415205</td>\n",
       "      <td>0.157895</td>\n",
       "    </tr>\n",
       "    <tr>\n",
       "      <th>1</th>\n",
       "      <td>1.601749</td>\n",
       "      <td>0.015052</td>\n",
       "      <td>0.035864</td>\n",
       "      <td>51.130326</td>\n",
       "      <td>0.002397</td>\n",
       "      <td>2286.523413</td>\n",
       "      <td>0.035407</td>\n",
       "      <td>0.593081</td>\n",
       "      <td>1.010385</td>\n",
       "      <td>31</td>\n",
       "      <td>12</td>\n",
       "      <td>1</td>\n",
       "      <td>5</td>\n",
       "      <td>24</td>\n",
       "      <td>4</td>\n",
       "      <td>0.141509</td>\n",
       "      <td>0.386792</td>\n",
       "      <td>0.216981</td>\n",
       "      <td>0.254717</td>\n",
       "      <td>0.12</td>\n",
       "      <td>0.328571</td>\n",
       "      <td>0.342857</td>\n",
       "      <td>0.208571</td>\n",
       "      <td>0.115016</td>\n",
       "      <td>0.222843</td>\n",
       "      <td>0.510783</td>\n",
       "      <td>0.151358</td>\n",
       "      <td>0.13731</td>\n",
       "      <td>0.226262</td>\n",
       "      <td>0.504059</td>\n",
       "      <td>0.132369</td>\n",
       "      <td>0.175439</td>\n",
       "      <td>0.251462</td>\n",
       "      <td>0.415205</td>\n",
       "      <td>0.157895</td>\n",
       "    </tr>\n",
       "    <tr>\n",
       "      <th>2</th>\n",
       "      <td>0.098039</td>\n",
       "      <td>69.233685</td>\n",
       "      <td>0.080920</td>\n",
       "      <td>0.112265</td>\n",
       "      <td>0.001972</td>\n",
       "      <td>2286.523413</td>\n",
       "      <td>0.035407</td>\n",
       "      <td>0.593081</td>\n",
       "      <td>1.010385</td>\n",
       "      <td>30</td>\n",
       "      <td>12</td>\n",
       "      <td>1</td>\n",
       "      <td>5</td>\n",
       "      <td>24</td>\n",
       "      <td>4</td>\n",
       "      <td>0.163636</td>\n",
       "      <td>0.345455</td>\n",
       "      <td>0.236364</td>\n",
       "      <td>0.254545</td>\n",
       "      <td>0.12</td>\n",
       "      <td>0.328571</td>\n",
       "      <td>0.342857</td>\n",
       "      <td>0.208571</td>\n",
       "      <td>0.115016</td>\n",
       "      <td>0.222843</td>\n",
       "      <td>0.510783</td>\n",
       "      <td>0.151358</td>\n",
       "      <td>0.13731</td>\n",
       "      <td>0.226262</td>\n",
       "      <td>0.504059</td>\n",
       "      <td>0.132369</td>\n",
       "      <td>0.175439</td>\n",
       "      <td>0.251462</td>\n",
       "      <td>0.415205</td>\n",
       "      <td>0.157895</td>\n",
       "    </tr>\n",
       "    <tr>\n",
       "      <th>3</th>\n",
       "      <td>18.181860</td>\n",
       "      <td>0.047325</td>\n",
       "      <td>0.018061</td>\n",
       "      <td>1.098102</td>\n",
       "      <td>0.002397</td>\n",
       "      <td>2286.523413</td>\n",
       "      <td>0.035407</td>\n",
       "      <td>0.593081</td>\n",
       "      <td>1.010385</td>\n",
       "      <td>31</td>\n",
       "      <td>12</td>\n",
       "      <td>1</td>\n",
       "      <td>5</td>\n",
       "      <td>24</td>\n",
       "      <td>4</td>\n",
       "      <td>0.141509</td>\n",
       "      <td>0.386792</td>\n",
       "      <td>0.216981</td>\n",
       "      <td>0.254717</td>\n",
       "      <td>0.12</td>\n",
       "      <td>0.328571</td>\n",
       "      <td>0.342857</td>\n",
       "      <td>0.208571</td>\n",
       "      <td>0.115016</td>\n",
       "      <td>0.222843</td>\n",
       "      <td>0.510783</td>\n",
       "      <td>0.151358</td>\n",
       "      <td>0.13731</td>\n",
       "      <td>0.226262</td>\n",
       "      <td>0.504059</td>\n",
       "      <td>0.132369</td>\n",
       "      <td>0.175439</td>\n",
       "      <td>0.251462</td>\n",
       "      <td>0.415205</td>\n",
       "      <td>0.157895</td>\n",
       "    </tr>\n",
       "    <tr>\n",
       "      <th>4</th>\n",
       "      <td>0.012085</td>\n",
       "      <td>0.008749</td>\n",
       "      <td>0.005509</td>\n",
       "      <td>524.327396</td>\n",
       "      <td>0.002397</td>\n",
       "      <td>2286.523413</td>\n",
       "      <td>0.035407</td>\n",
       "      <td>0.593081</td>\n",
       "      <td>1.010385</td>\n",
       "      <td>31</td>\n",
       "      <td>12</td>\n",
       "      <td>1</td>\n",
       "      <td>5</td>\n",
       "      <td>24</td>\n",
       "      <td>4</td>\n",
       "      <td>0.141509</td>\n",
       "      <td>0.386792</td>\n",
       "      <td>0.216981</td>\n",
       "      <td>0.254717</td>\n",
       "      <td>0.12</td>\n",
       "      <td>0.328571</td>\n",
       "      <td>0.342857</td>\n",
       "      <td>0.208571</td>\n",
       "      <td>0.115016</td>\n",
       "      <td>0.222843</td>\n",
       "      <td>0.510783</td>\n",
       "      <td>0.151358</td>\n",
       "      <td>0.13731</td>\n",
       "      <td>0.226262</td>\n",
       "      <td>0.504059</td>\n",
       "      <td>0.132369</td>\n",
       "      <td>0.175439</td>\n",
       "      <td>0.251462</td>\n",
       "      <td>0.415205</td>\n",
       "      <td>0.157895</td>\n",
       "    </tr>\n",
       "  </tbody>\n",
       "</table>\n",
       "</div>"
      ],
      "text/plain": [
       "   Parameter1  Parameter2  Parameter3  Parameter4  Parameter6   Parameter7  \\\n",
       "0    0.001660    0.591013  147.608373   38.186345    0.000612  2286.523413   \n",
       "1    1.601749    0.015052    0.035864   51.130326    0.002397  2286.523413   \n",
       "2    0.098039   69.233685    0.080920    0.112265    0.001972  2286.523413   \n",
       "3   18.181860    0.047325    0.018061    1.098102    0.002397  2286.523413   \n",
       "4    0.012085    0.008749    0.005509  524.327396    0.002397  2286.523413   \n",
       "\n",
       "   Parameter8  Parameter9  Parameter10  Parameter6_le  Parameter7_le  \\\n",
       "0    0.035407    0.593081     1.010385             24             12   \n",
       "1    0.035407    0.593081     1.010385             31             12   \n",
       "2    0.035407    0.593081     1.010385             30             12   \n",
       "3    0.035407    0.593081     1.010385             31             12   \n",
       "4    0.035407    0.593081     1.010385             31             12   \n",
       "\n",
       "   Parameter8_le  Parameter9_le  Parameter10_le  label  Parameter6_ctr_1  \\\n",
       "0              1              5              24      3          0.000000   \n",
       "1              1              5              24      4          0.141509   \n",
       "2              1              5              24      4          0.163636   \n",
       "3              1              5              24      4          0.141509   \n",
       "4              1              5              24      4          0.141509   \n",
       "\n",
       "   Parameter6_ctr_2  Parameter6_ctr_3  Parameter6_ctr_4  Parameter7_ctr_1  \\\n",
       "0          0.222222          0.555556          0.222222              0.12   \n",
       "1          0.386792          0.216981          0.254717              0.12   \n",
       "2          0.345455          0.236364          0.254545              0.12   \n",
       "3          0.386792          0.216981          0.254717              0.12   \n",
       "4          0.386792          0.216981          0.254717              0.12   \n",
       "\n",
       "   Parameter7_ctr_2  Parameter7_ctr_3  Parameter7_ctr_4  Parameter8_ctr_1  \\\n",
       "0          0.328571          0.342857          0.208571          0.115016   \n",
       "1          0.328571          0.342857          0.208571          0.115016   \n",
       "2          0.328571          0.342857          0.208571          0.115016   \n",
       "3          0.328571          0.342857          0.208571          0.115016   \n",
       "4          0.328571          0.342857          0.208571          0.115016   \n",
       "\n",
       "   Parameter8_ctr_2  Parameter8_ctr_3  Parameter8_ctr_4  Parameter9_ctr_1  \\\n",
       "0          0.222843          0.510783          0.151358           0.13731   \n",
       "1          0.222843          0.510783          0.151358           0.13731   \n",
       "2          0.222843          0.510783          0.151358           0.13731   \n",
       "3          0.222843          0.510783          0.151358           0.13731   \n",
       "4          0.222843          0.510783          0.151358           0.13731   \n",
       "\n",
       "   Parameter9_ctr_2  Parameter9_ctr_3  Parameter9_ctr_4  Parameter10_ctr_1  \\\n",
       "0          0.226262          0.504059          0.132369           0.175439   \n",
       "1          0.226262          0.504059          0.132369           0.175439   \n",
       "2          0.226262          0.504059          0.132369           0.175439   \n",
       "3          0.226262          0.504059          0.132369           0.175439   \n",
       "4          0.226262          0.504059          0.132369           0.175439   \n",
       "\n",
       "   Parameter10_ctr_2  Parameter10_ctr_3  Parameter10_ctr_4  \n",
       "0           0.251462           0.415205           0.157895  \n",
       "1           0.251462           0.415205           0.157895  \n",
       "2           0.251462           0.415205           0.157895  \n",
       "3           0.251462           0.415205           0.157895  \n",
       "4           0.251462           0.415205           0.157895  "
      ]
     },
     "execution_count": 16,
     "metadata": {},
     "output_type": "execute_result"
    }
   ],
   "source": [
    "trainX.head()"
   ]
  },
  {
   "cell_type": "code",
   "execution_count": 17,
   "metadata": {
    "ExecuteTime": {
     "end_time": "2019-09-05T03:23:52.958666Z",
     "start_time": "2019-09-05T03:23:52.826649Z"
    }
   },
   "outputs": [],
   "source": [
    "drop_cols = ['Parameter1', 'Parameter2', 'Parameter3', 'Parameter4',\n",
    "             'Parameter6_le', 'Parameter7_le', 'Parameter8_le', \n",
    "             'Parameter9_le', 'Parameter10_le']\n",
    "trainX.drop(drop_cols, axis=1, inplace=True)\n",
    "testX.drop(drop_cols, axis=1, inplace=True)"
   ]
  },
  {
   "cell_type": "markdown",
   "metadata": {},
   "source": [
    "#### Frequency Encoding"
   ]
  },
  {
   "cell_type": "code",
   "execution_count": null,
   "metadata": {
    "ExecuteTime": {
     "end_time": "2019-09-03T09:24:09.289492Z",
     "start_time": "2019-09-03T09:23:51.671255Z"
    }
   },
   "outputs": [],
   "source": [
    "full['Parameter6_fre'] = LabelEncoder().fit_transform(full.Parameter6)\n",
    "\n",
    "def parameter6_fre(x):\n",
    "    ct = full.Parameter6_fre.value_counts() / full.shape[0]\n",
    "    return ct[x]\n",
    "full['Parameter6_fre'] = full.Parameter6_fre.apply(parameter6_fre)"
   ]
  },
  {
   "cell_type": "code",
   "execution_count": null,
   "metadata": {
    "ExecuteTime": {
     "end_time": "2019-09-03T09:24:27.188765Z",
     "start_time": "2019-09-03T09:24:09.738549Z"
    }
   },
   "outputs": [],
   "source": [
    "full['Parameter7_fre'] = LabelEncoder().fit_transform(full.Parameter7)\n",
    "\n",
    "def parameter7_fre(x):\n",
    "    ct = full.Parameter7_fre.value_counts() / full.shape[0]\n",
    "    return ct[x]\n",
    "full['Parameter7_fre'] = full.Parameter7_fre.apply(parameter7_fre)"
   ]
  },
  {
   "cell_type": "code",
   "execution_count": null,
   "metadata": {
    "ExecuteTime": {
     "end_time": "2019-09-03T09:24:44.969023Z",
     "start_time": "2019-09-03T09:24:27.629821Z"
    }
   },
   "outputs": [],
   "source": [
    "full['Parameter8_fre'] = LabelEncoder().fit_transform(full.Parameter8)\n",
    "\n",
    "def parameter8_fre(x):\n",
    "    ct = full.Parameter8_fre.value_counts() / full.shape[0]\n",
    "    return ct[x]\n",
    "full['Parameter8_fre'] = full.Parameter8_fre.apply(parameter8_fre)"
   ]
  },
  {
   "cell_type": "code",
   "execution_count": null,
   "metadata": {
    "ExecuteTime": {
     "end_time": "2019-09-03T09:25:02.620264Z",
     "start_time": "2019-09-03T09:24:45.412079Z"
    }
   },
   "outputs": [],
   "source": [
    "full['Parameter9_fre'] = LabelEncoder().fit_transform(full.Parameter9)\n",
    "\n",
    "def parameter9_fre(x):\n",
    "    ct = full.Parameter9_fre.value_counts() / full.shape[0]\n",
    "    return ct[x]\n",
    "full['Parameter9_fre'] = full.Parameter9_fre.apply(parameter9_fre)"
   ]
  },
  {
   "cell_type": "code",
   "execution_count": null,
   "metadata": {
    "ExecuteTime": {
     "end_time": "2019-09-03T09:25:19.926962Z",
     "start_time": "2019-09-03T09:25:03.130829Z"
    }
   },
   "outputs": [],
   "source": [
    "full['Parameter10_fre'] = LabelEncoder().fit_transform(full.Parameter10)\n",
    "\n",
    "def parameter10_fre(x):\n",
    "    ct = full.Parameter10_fre.value_counts() / full.shape[0]\n",
    "    return ct[x]\n",
    "full['Parameter10_fre'] = full.Parameter10_fre.apply(parameter10_fre)"
   ]
  },
  {
   "cell_type": "code",
   "execution_count": null,
   "metadata": {
    "ExecuteTime": {
     "end_time": "2019-09-03T09:26:29.823337Z",
     "start_time": "2019-09-03T09:26:29.817837Z"
    }
   },
   "outputs": [],
   "source": [
    "full2 = full.copy()"
   ]
  },
  {
   "cell_type": "code",
   "execution_count": null,
   "metadata": {
    "ExecuteTime": {
     "end_time": "2019-09-03T09:26:33.766338Z",
     "start_time": "2019-09-03T09:26:33.726833Z"
    }
   },
   "outputs": [],
   "source": [
    "full2.head()"
   ]
  },
  {
   "cell_type": "markdown",
   "metadata": {},
   "source": [
    "#### 取log"
   ]
  },
  {
   "cell_type": "code",
   "execution_count": 18,
   "metadata": {
    "ExecuteTime": {
     "end_time": "2019-09-05T03:24:05.477256Z",
     "start_time": "2019-09-05T03:24:04.857177Z"
    }
   },
   "outputs": [],
   "source": [
    "features = ['Parameter6', 'Parameter7', 'Parameter8', \n",
    "            'Parameter9', 'Parameter10']\n",
    "for feature in features:\n",
    "    trainX[feature] = np.log(trainX[feature])\n",
    "    testX[feature] = np.log(testX[feature])"
   ]
  },
  {
   "cell_type": "code",
   "execution_count": 19,
   "metadata": {
    "ExecuteTime": {
     "end_time": "2019-09-05T03:24:07.912065Z",
     "start_time": "2019-09-05T03:24:07.839056Z"
    }
   },
   "outputs": [
    {
     "ename": "NameError",
     "evalue": "name 'full2' is not defined",
     "output_type": "error",
     "traceback": [
      "\u001b[1;31m---------------------------------------------------------------------------\u001b[0m",
      "\u001b[1;31mNameError\u001b[0m                                 Traceback (most recent call last)",
      "\u001b[1;32m<ipython-input-19-d3c6cb08a4c8>\u001b[0m in \u001b[0;36m<module>\u001b[1;34m\u001b[0m\n\u001b[1;32m----> 1\u001b[1;33m \u001b[0mfull2\u001b[0m\u001b[1;33m.\u001b[0m\u001b[0mhead\u001b[0m\u001b[1;33m(\u001b[0m\u001b[1;33m)\u001b[0m\u001b[1;33m\u001b[0m\u001b[0m\n\u001b[0m",
      "\u001b[1;31mNameError\u001b[0m: name 'full2' is not defined"
     ]
    }
   ],
   "source": [
    "full2.head()"
   ]
  },
  {
   "cell_type": "markdown",
   "metadata": {},
   "source": [
    "#### 数据分割"
   ]
  },
  {
   "cell_type": "code",
   "execution_count": 20,
   "metadata": {
    "ExecuteTime": {
     "end_time": "2019-09-05T03:24:18.905461Z",
     "start_time": "2019-09-05T03:24:18.829951Z"
    }
   },
   "outputs": [
    {
     "name": "stdout",
     "output_type": "stream",
     "text": [
      "shape of trainX: (6000, 25)\n",
      "shape of trainY: (6000,)\n",
      "shape of testX: (6000, 25)\n"
     ]
    }
   ],
   "source": [
    "trainY = trainX.label\n",
    "trainX.drop(['label'], axis=1, inplace=True)\n",
    "\n",
    "print('shape of trainX:', trainX.shape)\n",
    "print('shape of trainY:', trainY.shape)\n",
    "print('shape of testX:', testX.shape)"
   ]
  },
  {
   "cell_type": "code",
   "execution_count": 30,
   "metadata": {
    "ExecuteTime": {
     "end_time": "2019-09-06T01:21:11.193247Z",
     "start_time": "2019-09-06T01:21:11.057230Z"
    }
   },
   "outputs": [
    {
     "data": {
      "text/html": [
       "<div>\n",
       "<style scoped>\n",
       "    .dataframe tbody tr th:only-of-type {\n",
       "        vertical-align: middle;\n",
       "    }\n",
       "\n",
       "    .dataframe tbody tr th {\n",
       "        vertical-align: top;\n",
       "    }\n",
       "\n",
       "    .dataframe thead th {\n",
       "        text-align: right;\n",
       "    }\n",
       "</style>\n",
       "<table border=\"1\" class=\"dataframe\">\n",
       "  <thead>\n",
       "    <tr style=\"text-align: right;\">\n",
       "      <th></th>\n",
       "      <th>Parameter6_ctr_1</th>\n",
       "      <th>Parameter6_ctr_2</th>\n",
       "      <th>Parameter6_ctr_3</th>\n",
       "      <th>Parameter6_ctr_4</th>\n",
       "      <th>Parameter7_ctr_1</th>\n",
       "      <th>Parameter7_ctr_2</th>\n",
       "      <th>Parameter7_ctr_3</th>\n",
       "      <th>Parameter7_ctr_4</th>\n",
       "      <th>Parameter8_ctr_1</th>\n",
       "      <th>Parameter8_ctr_2</th>\n",
       "      <th>Parameter8_ctr_3</th>\n",
       "      <th>Parameter8_ctr_4</th>\n",
       "      <th>Parameter9_ctr_1</th>\n",
       "      <th>Parameter9_ctr_2</th>\n",
       "      <th>Parameter9_ctr_3</th>\n",
       "      <th>Parameter9_ctr_4</th>\n",
       "      <th>Parameter10_ctr_1</th>\n",
       "      <th>Parameter10_ctr_2</th>\n",
       "      <th>Parameter10_ctr_3</th>\n",
       "      <th>Parameter10_ctr_4</th>\n",
       "    </tr>\n",
       "  </thead>\n",
       "  <tbody>\n",
       "    <tr>\n",
       "      <th>0</th>\n",
       "      <td>0.000000</td>\n",
       "      <td>0.222222</td>\n",
       "      <td>0.555556</td>\n",
       "      <td>0.222222</td>\n",
       "      <td>0.12</td>\n",
       "      <td>0.328571</td>\n",
       "      <td>0.342857</td>\n",
       "      <td>0.208571</td>\n",
       "      <td>0.115016</td>\n",
       "      <td>0.222843</td>\n",
       "      <td>0.510783</td>\n",
       "      <td>0.151358</td>\n",
       "      <td>0.13731</td>\n",
       "      <td>0.226262</td>\n",
       "      <td>0.504059</td>\n",
       "      <td>0.132369</td>\n",
       "      <td>0.175439</td>\n",
       "      <td>0.251462</td>\n",
       "      <td>0.415205</td>\n",
       "      <td>0.157895</td>\n",
       "    </tr>\n",
       "    <tr>\n",
       "      <th>1</th>\n",
       "      <td>0.141509</td>\n",
       "      <td>0.386792</td>\n",
       "      <td>0.216981</td>\n",
       "      <td>0.254717</td>\n",
       "      <td>0.12</td>\n",
       "      <td>0.328571</td>\n",
       "      <td>0.342857</td>\n",
       "      <td>0.208571</td>\n",
       "      <td>0.115016</td>\n",
       "      <td>0.222843</td>\n",
       "      <td>0.510783</td>\n",
       "      <td>0.151358</td>\n",
       "      <td>0.13731</td>\n",
       "      <td>0.226262</td>\n",
       "      <td>0.504059</td>\n",
       "      <td>0.132369</td>\n",
       "      <td>0.175439</td>\n",
       "      <td>0.251462</td>\n",
       "      <td>0.415205</td>\n",
       "      <td>0.157895</td>\n",
       "    </tr>\n",
       "    <tr>\n",
       "      <th>2</th>\n",
       "      <td>0.163636</td>\n",
       "      <td>0.345455</td>\n",
       "      <td>0.236364</td>\n",
       "      <td>0.254545</td>\n",
       "      <td>0.12</td>\n",
       "      <td>0.328571</td>\n",
       "      <td>0.342857</td>\n",
       "      <td>0.208571</td>\n",
       "      <td>0.115016</td>\n",
       "      <td>0.222843</td>\n",
       "      <td>0.510783</td>\n",
       "      <td>0.151358</td>\n",
       "      <td>0.13731</td>\n",
       "      <td>0.226262</td>\n",
       "      <td>0.504059</td>\n",
       "      <td>0.132369</td>\n",
       "      <td>0.175439</td>\n",
       "      <td>0.251462</td>\n",
       "      <td>0.415205</td>\n",
       "      <td>0.157895</td>\n",
       "    </tr>\n",
       "    <tr>\n",
       "      <th>3</th>\n",
       "      <td>0.141509</td>\n",
       "      <td>0.386792</td>\n",
       "      <td>0.216981</td>\n",
       "      <td>0.254717</td>\n",
       "      <td>0.12</td>\n",
       "      <td>0.328571</td>\n",
       "      <td>0.342857</td>\n",
       "      <td>0.208571</td>\n",
       "      <td>0.115016</td>\n",
       "      <td>0.222843</td>\n",
       "      <td>0.510783</td>\n",
       "      <td>0.151358</td>\n",
       "      <td>0.13731</td>\n",
       "      <td>0.226262</td>\n",
       "      <td>0.504059</td>\n",
       "      <td>0.132369</td>\n",
       "      <td>0.175439</td>\n",
       "      <td>0.251462</td>\n",
       "      <td>0.415205</td>\n",
       "      <td>0.157895</td>\n",
       "    </tr>\n",
       "    <tr>\n",
       "      <th>4</th>\n",
       "      <td>0.141509</td>\n",
       "      <td>0.386792</td>\n",
       "      <td>0.216981</td>\n",
       "      <td>0.254717</td>\n",
       "      <td>0.12</td>\n",
       "      <td>0.328571</td>\n",
       "      <td>0.342857</td>\n",
       "      <td>0.208571</td>\n",
       "      <td>0.115016</td>\n",
       "      <td>0.222843</td>\n",
       "      <td>0.510783</td>\n",
       "      <td>0.151358</td>\n",
       "      <td>0.13731</td>\n",
       "      <td>0.226262</td>\n",
       "      <td>0.504059</td>\n",
       "      <td>0.132369</td>\n",
       "      <td>0.175439</td>\n",
       "      <td>0.251462</td>\n",
       "      <td>0.415205</td>\n",
       "      <td>0.157895</td>\n",
       "    </tr>\n",
       "  </tbody>\n",
       "</table>\n",
       "</div>"
      ],
      "text/plain": [
       "   Parameter6_ctr_1  Parameter6_ctr_2  Parameter6_ctr_3  Parameter6_ctr_4  \\\n",
       "0          0.000000          0.222222          0.555556          0.222222   \n",
       "1          0.141509          0.386792          0.216981          0.254717   \n",
       "2          0.163636          0.345455          0.236364          0.254545   \n",
       "3          0.141509          0.386792          0.216981          0.254717   \n",
       "4          0.141509          0.386792          0.216981          0.254717   \n",
       "\n",
       "   Parameter7_ctr_1  Parameter7_ctr_2  Parameter7_ctr_3  Parameter7_ctr_4  \\\n",
       "0              0.12          0.328571          0.342857          0.208571   \n",
       "1              0.12          0.328571          0.342857          0.208571   \n",
       "2              0.12          0.328571          0.342857          0.208571   \n",
       "3              0.12          0.328571          0.342857          0.208571   \n",
       "4              0.12          0.328571          0.342857          0.208571   \n",
       "\n",
       "   Parameter8_ctr_1  Parameter8_ctr_2  Parameter8_ctr_3  Parameter8_ctr_4  \\\n",
       "0          0.115016          0.222843          0.510783          0.151358   \n",
       "1          0.115016          0.222843          0.510783          0.151358   \n",
       "2          0.115016          0.222843          0.510783          0.151358   \n",
       "3          0.115016          0.222843          0.510783          0.151358   \n",
       "4          0.115016          0.222843          0.510783          0.151358   \n",
       "\n",
       "   Parameter9_ctr_1  Parameter9_ctr_2  Parameter9_ctr_3  Parameter9_ctr_4  \\\n",
       "0           0.13731          0.226262          0.504059          0.132369   \n",
       "1           0.13731          0.226262          0.504059          0.132369   \n",
       "2           0.13731          0.226262          0.504059          0.132369   \n",
       "3           0.13731          0.226262          0.504059          0.132369   \n",
       "4           0.13731          0.226262          0.504059          0.132369   \n",
       "\n",
       "   Parameter10_ctr_1  Parameter10_ctr_2  Parameter10_ctr_3  Parameter10_ctr_4  \n",
       "0           0.175439           0.251462           0.415205           0.157895  \n",
       "1           0.175439           0.251462           0.415205           0.157895  \n",
       "2           0.175439           0.251462           0.415205           0.157895  \n",
       "3           0.175439           0.251462           0.415205           0.157895  \n",
       "4           0.175439           0.251462           0.415205           0.157895  "
      ]
     },
     "execution_count": 30,
     "metadata": {},
     "output_type": "execute_result"
    }
   ],
   "source": [
    "trainX.drop(['Parameter6', 'Parameter7', 'Parameter8', 'Parameter9', 'Parameter10'], axis=1, inplace=True)\n",
    "trainX.head()"
   ]
  },
  {
   "cell_type": "code",
   "execution_count": 32,
   "metadata": {
    "ExecuteTime": {
     "end_time": "2019-09-06T01:22:44.182055Z",
     "start_time": "2019-09-06T01:22:44.093544Z"
    }
   },
   "outputs": [
    {
     "data": {
      "text/html": [
       "<div>\n",
       "<style scoped>\n",
       "    .dataframe tbody tr th:only-of-type {\n",
       "        vertical-align: middle;\n",
       "    }\n",
       "\n",
       "    .dataframe tbody tr th {\n",
       "        vertical-align: top;\n",
       "    }\n",
       "\n",
       "    .dataframe thead th {\n",
       "        text-align: right;\n",
       "    }\n",
       "</style>\n",
       "<table border=\"1\" class=\"dataframe\">\n",
       "  <thead>\n",
       "    <tr style=\"text-align: right;\">\n",
       "      <th></th>\n",
       "      <th>Parameter6_ctr_1</th>\n",
       "      <th>Parameter6_ctr_2</th>\n",
       "      <th>Parameter6_ctr_3</th>\n",
       "      <th>Parameter6_ctr_4</th>\n",
       "      <th>Parameter7_ctr_1</th>\n",
       "      <th>Parameter7_ctr_2</th>\n",
       "      <th>Parameter7_ctr_3</th>\n",
       "      <th>Parameter7_ctr_4</th>\n",
       "      <th>Parameter8_ctr_1</th>\n",
       "      <th>Parameter8_ctr_2</th>\n",
       "      <th>Parameter8_ctr_3</th>\n",
       "      <th>Parameter8_ctr_4</th>\n",
       "      <th>Parameter9_ctr_1</th>\n",
       "      <th>Parameter9_ctr_2</th>\n",
       "      <th>Parameter9_ctr_3</th>\n",
       "      <th>Parameter9_ctr_4</th>\n",
       "      <th>Parameter10_ctr_1</th>\n",
       "      <th>Parameter10_ctr_2</th>\n",
       "      <th>Parameter10_ctr_3</th>\n",
       "      <th>Parameter10_ctr_4</th>\n",
       "    </tr>\n",
       "  </thead>\n",
       "  <tbody>\n",
       "    <tr>\n",
       "      <th>6000</th>\n",
       "      <td>0.300000</td>\n",
       "      <td>0.333333</td>\n",
       "      <td>0.250000</td>\n",
       "      <td>0.116667</td>\n",
       "      <td>0.230303</td>\n",
       "      <td>0.395960</td>\n",
       "      <td>0.187879</td>\n",
       "      <td>0.185859</td>\n",
       "      <td>0.267123</td>\n",
       "      <td>0.360731</td>\n",
       "      <td>0.168950</td>\n",
       "      <td>0.203196</td>\n",
       "      <td>0.320261</td>\n",
       "      <td>0.339869</td>\n",
       "      <td>0.196078</td>\n",
       "      <td>0.143791</td>\n",
       "      <td>0.121760</td>\n",
       "      <td>0.309770</td>\n",
       "      <td>0.154973</td>\n",
       "      <td>0.413497</td>\n",
       "    </tr>\n",
       "    <tr>\n",
       "      <th>6001</th>\n",
       "      <td>0.103448</td>\n",
       "      <td>0.310345</td>\n",
       "      <td>0.275862</td>\n",
       "      <td>0.310345</td>\n",
       "      <td>0.298108</td>\n",
       "      <td>0.330072</td>\n",
       "      <td>0.236791</td>\n",
       "      <td>0.135029</td>\n",
       "      <td>0.049080</td>\n",
       "      <td>0.269939</td>\n",
       "      <td>0.325153</td>\n",
       "      <td>0.355828</td>\n",
       "      <td>0.076159</td>\n",
       "      <td>0.228477</td>\n",
       "      <td>0.278146</td>\n",
       "      <td>0.417219</td>\n",
       "      <td>0.245000</td>\n",
       "      <td>0.215000</td>\n",
       "      <td>0.415000</td>\n",
       "      <td>0.125000</td>\n",
       "    </tr>\n",
       "    <tr>\n",
       "      <th>6002</th>\n",
       "      <td>0.103448</td>\n",
       "      <td>0.310345</td>\n",
       "      <td>0.275862</td>\n",
       "      <td>0.310345</td>\n",
       "      <td>0.298108</td>\n",
       "      <td>0.330072</td>\n",
       "      <td>0.236791</td>\n",
       "      <td>0.135029</td>\n",
       "      <td>0.049080</td>\n",
       "      <td>0.269939</td>\n",
       "      <td>0.325153</td>\n",
       "      <td>0.355828</td>\n",
       "      <td>0.076159</td>\n",
       "      <td>0.228477</td>\n",
       "      <td>0.278146</td>\n",
       "      <td>0.417219</td>\n",
       "      <td>0.245000</td>\n",
       "      <td>0.215000</td>\n",
       "      <td>0.415000</td>\n",
       "      <td>0.125000</td>\n",
       "    </tr>\n",
       "    <tr>\n",
       "      <th>6003</th>\n",
       "      <td>0.304348</td>\n",
       "      <td>0.326087</td>\n",
       "      <td>0.282609</td>\n",
       "      <td>0.086957</td>\n",
       "      <td>0.230303</td>\n",
       "      <td>0.395960</td>\n",
       "      <td>0.187879</td>\n",
       "      <td>0.185859</td>\n",
       "      <td>0.295400</td>\n",
       "      <td>0.361380</td>\n",
       "      <td>0.205206</td>\n",
       "      <td>0.138015</td>\n",
       "      <td>0.216511</td>\n",
       "      <td>0.319771</td>\n",
       "      <td>0.342579</td>\n",
       "      <td>0.121138</td>\n",
       "      <td>0.079365</td>\n",
       "      <td>0.492063</td>\n",
       "      <td>0.142857</td>\n",
       "      <td>0.285714</td>\n",
       "    </tr>\n",
       "    <tr>\n",
       "      <th>6004</th>\n",
       "      <td>0.174419</td>\n",
       "      <td>0.325581</td>\n",
       "      <td>0.302326</td>\n",
       "      <td>0.197674</td>\n",
       "      <td>0.230303</td>\n",
       "      <td>0.395960</td>\n",
       "      <td>0.187879</td>\n",
       "      <td>0.185859</td>\n",
       "      <td>0.295400</td>\n",
       "      <td>0.361380</td>\n",
       "      <td>0.205206</td>\n",
       "      <td>0.138015</td>\n",
       "      <td>0.216511</td>\n",
       "      <td>0.319771</td>\n",
       "      <td>0.342579</td>\n",
       "      <td>0.121138</td>\n",
       "      <td>0.079365</td>\n",
       "      <td>0.492063</td>\n",
       "      <td>0.142857</td>\n",
       "      <td>0.285714</td>\n",
       "    </tr>\n",
       "  </tbody>\n",
       "</table>\n",
       "</div>"
      ],
      "text/plain": [
       "      Parameter6_ctr_1  Parameter6_ctr_2  Parameter6_ctr_3  Parameter6_ctr_4  \\\n",
       "6000          0.300000          0.333333          0.250000          0.116667   \n",
       "6001          0.103448          0.310345          0.275862          0.310345   \n",
       "6002          0.103448          0.310345          0.275862          0.310345   \n",
       "6003          0.304348          0.326087          0.282609          0.086957   \n",
       "6004          0.174419          0.325581          0.302326          0.197674   \n",
       "\n",
       "      Parameter7_ctr_1  Parameter7_ctr_2  Parameter7_ctr_3  Parameter7_ctr_4  \\\n",
       "6000          0.230303          0.395960          0.187879          0.185859   \n",
       "6001          0.298108          0.330072          0.236791          0.135029   \n",
       "6002          0.298108          0.330072          0.236791          0.135029   \n",
       "6003          0.230303          0.395960          0.187879          0.185859   \n",
       "6004          0.230303          0.395960          0.187879          0.185859   \n",
       "\n",
       "      Parameter8_ctr_1  Parameter8_ctr_2  Parameter8_ctr_3  Parameter8_ctr_4  \\\n",
       "6000          0.267123          0.360731          0.168950          0.203196   \n",
       "6001          0.049080          0.269939          0.325153          0.355828   \n",
       "6002          0.049080          0.269939          0.325153          0.355828   \n",
       "6003          0.295400          0.361380          0.205206          0.138015   \n",
       "6004          0.295400          0.361380          0.205206          0.138015   \n",
       "\n",
       "      Parameter9_ctr_1  Parameter9_ctr_2  Parameter9_ctr_3  Parameter9_ctr_4  \\\n",
       "6000          0.320261          0.339869          0.196078          0.143791   \n",
       "6001          0.076159          0.228477          0.278146          0.417219   \n",
       "6002          0.076159          0.228477          0.278146          0.417219   \n",
       "6003          0.216511          0.319771          0.342579          0.121138   \n",
       "6004          0.216511          0.319771          0.342579          0.121138   \n",
       "\n",
       "      Parameter10_ctr_1  Parameter10_ctr_2  Parameter10_ctr_3  \\\n",
       "6000           0.121760           0.309770           0.154973   \n",
       "6001           0.245000           0.215000           0.415000   \n",
       "6002           0.245000           0.215000           0.415000   \n",
       "6003           0.079365           0.492063           0.142857   \n",
       "6004           0.079365           0.492063           0.142857   \n",
       "\n",
       "      Parameter10_ctr_4  \n",
       "6000           0.413497  \n",
       "6001           0.125000  \n",
       "6002           0.125000  \n",
       "6003           0.285714  \n",
       "6004           0.285714  "
      ]
     },
     "execution_count": 32,
     "metadata": {},
     "output_type": "execute_result"
    }
   ],
   "source": [
    "testX.drop(['Parameter6', 'Parameter7', 'Parameter8', 'Parameter9', 'Parameter10'], axis=1, inplace=True)\n",
    "testX.head()"
   ]
  },
  {
   "cell_type": "code",
   "execution_count": null,
   "metadata": {
    "ExecuteTime": {
     "end_time": "2019-09-03T09:33:56.100007Z",
     "start_time": "2019-09-03T09:33:56.093507Z"
    },
    "scrolled": true
   },
   "outputs": [],
   "source": [
    "trainX = full2[:train.shape[0]]\n",
    "trainY = train.label\n",
    "testX = full2[train.shape[0]:]\n",
    "\n",
    "print('shape of trainX:', trainX.shape)\n",
    "print('shape of trainY:', trainY.shape)\n",
    "print('shape of testX:', testX.shape)"
   ]
  },
  {
   "cell_type": "markdown",
   "metadata": {},
   "source": [
    "#### 划分训练集和验证集"
   ]
  },
  {
   "cell_type": "code",
   "execution_count": null,
   "metadata": {
    "ExecuteTime": {
     "end_time": "2019-09-04T04:02:03.784902Z",
     "start_time": "2019-09-04T04:02:03.758399Z"
    }
   },
   "outputs": [],
   "source": [
    "X_train, X_test, y_train, y_test = train_test_split(trainX, trainY, test_size=0.2, random_state=42)\n",
    "X_train.shape"
   ]
  },
  {
   "cell_type": "code",
   "execution_count": null,
   "metadata": {
    "ExecuteTime": {
     "end_time": "2019-09-04T04:04:12.728776Z",
     "start_time": "2019-09-04T04:02:05.166078Z"
    }
   },
   "outputs": [],
   "source": [
    "model = CatBoostClassifier(iterations=2000, depth=8, learning_rate=0.01, verbose=100, loss_function='MultiClass', random_state=42)\n",
    "model.fit(X_train, y_train)\n",
    "\n",
    "predY = model.predict(X_test)"
   ]
  },
  {
   "cell_type": "code",
   "execution_count": null,
   "metadata": {
    "ExecuteTime": {
     "end_time": "2019-09-05T02:59:42.102931Z",
     "start_time": "2019-09-05T01:14:49.978177Z"
    },
    "scrolled": true
   },
   "outputs": [],
   "source": [
    "model = CatBoostClassifier(iterations=2000, depth=8, learning_rate=0.01, verbose=1000, loss_function='MultiClass', random_state=42)\n",
    "\n",
    "param = {'depth':[6, 8, 10], 'l2_leaf_reg':[0.01, 0.1]}\n",
    "cv = GridSearchCV(model, param_grid=param, verbose=1, cv=5, scoring='accuracy')\n",
    "cv.fit(trainX, trainY)"
   ]
  },
  {
   "cell_type": "code",
   "execution_count": null,
   "metadata": {
    "ExecuteTime": {
     "end_time": "2019-09-05T03:02:58.309846Z",
     "start_time": "2019-09-05T03:02:58.302345Z"
    }
   },
   "outputs": [],
   "source": [
    "cv.best_params_"
   ]
  },
  {
   "cell_type": "code",
   "execution_count": null,
   "metadata": {
    "ExecuteTime": {
     "end_time": "2019-09-05T03:03:05.000695Z",
     "start_time": "2019-09-05T03:03:04.992694Z"
    }
   },
   "outputs": [],
   "source": [
    "cv.best_score_"
   ]
  },
  {
   "cell_type": "code",
   "execution_count": null,
   "metadata": {},
   "outputs": [],
   "source": [
    "model = lgb.LGBMClassifier()\n",
    "model.fit(X_train, y_train)\n",
    "predY = model.predict(X_test)"
   ]
  },
  {
   "cell_type": "code",
   "execution_count": null,
   "metadata": {
    "ExecuteTime": {
     "end_time": "2019-09-04T05:47:38.676331Z",
     "start_time": "2019-09-04T05:47:38.660829Z"
    },
    "scrolled": true
   },
   "outputs": [],
   "source": [
    "sum(np.array(y_test.tolist()).reshape(-1,1) == predY) / predY.shape[0]"
   ]
  },
  {
   "cell_type": "markdown",
   "metadata": {
    "ExecuteTime": {
     "end_time": "2019-08-26T06:49:46.859248Z",
     "start_time": "2019-08-26T06:49:46.836247Z"
    }
   },
   "source": [
    "### 模型构建"
   ]
  },
  {
   "cell_type": "markdown",
   "metadata": {},
   "source": [
    "#### LogisticRegression"
   ]
  },
  {
   "cell_type": "code",
   "execution_count": null,
   "metadata": {
    "ExecuteTime": {
     "end_time": "2019-08-30T02:26:17.295084Z",
     "start_time": "2019-08-30T02:26:16.679049Z"
    }
   },
   "outputs": [],
   "source": [
    "lr = LogisticRegression()\n",
    "lr.fit(trainX, trainY)\n",
    "predY = lr.predict(testX)\n",
    "proba = lr.predict_proba(testX)"
   ]
  },
  {
   "cell_type": "markdown",
   "metadata": {},
   "source": [
    "#### AdaBoostClassifier"
   ]
  },
  {
   "cell_type": "code",
   "execution_count": null,
   "metadata": {
    "ExecuteTime": {
     "end_time": "2019-08-27T02:44:51.872276Z",
     "start_time": "2019-08-27T02:44:51.223239Z"
    }
   },
   "outputs": [],
   "source": [
    "ada = AdaBoostClassifier()\n",
    "ada.fit(trainX, trainY)\n",
    "predY = ada.predict(testX)"
   ]
  },
  {
   "cell_type": "markdown",
   "metadata": {},
   "source": [
    "#### xgboost"
   ]
  },
  {
   "cell_type": "code",
   "execution_count": null,
   "metadata": {
    "ExecuteTime": {
     "end_time": "2019-08-30T01:51:25.649449Z",
     "start_time": "2019-08-30T01:51:21.375204Z"
    }
   },
   "outputs": [],
   "source": [
    "xgbc = xgb.XGBClassifier()\n",
    "xgbc.fit(trainX, trainY)\n",
    "predY = xgbc.predict(testX)"
   ]
  },
  {
   "cell_type": "markdown",
   "metadata": {},
   "source": [
    "#### lightgbm"
   ]
  },
  {
   "cell_type": "code",
   "execution_count": null,
   "metadata": {},
   "outputs": [],
   "source": [
    "lgbc = lgb.LGBMClassifier()\n",
    "lgbc.fit(trainX, trainY)\n",
    "predY = lgbc.predict(testX)"
   ]
  },
  {
   "cell_type": "markdown",
   "metadata": {},
   "source": [
    "#### catboost"
   ]
  },
  {
   "cell_type": "code",
   "execution_count": 33,
   "metadata": {
    "ExecuteTime": {
     "end_time": "2019-09-06T01:35:28.964670Z",
     "start_time": "2019-09-06T01:23:05.117214Z"
    }
   },
   "outputs": [
    {
     "name": "stdout",
     "output_type": "stream",
     "text": [
      "0:\tlearn: 1.3807944\ttotal: 242ms\tremaining: 16m 8s\n",
      "500:\tlearn: 1.0042194\ttotal: 1m 26s\tremaining: 10m 5s\n",
      "1000:\tlearn: 0.9697643\ttotal: 2m 35s\tremaining: 7m 45s\n",
      "1500:\tlearn: 0.9444332\ttotal: 3m 50s\tremaining: 6m 24s\n",
      "2000:\tlearn: 0.9234897\ttotal: 5m 22s\tremaining: 5m 22s\n",
      "2500:\tlearn: 0.9089914\ttotal: 7m 3s\tremaining: 4m 13s\n",
      "3000:\tlearn: 0.8955110\ttotal: 8m 49s\tremaining: 2m 56s\n",
      "3500:\tlearn: 0.8846080\ttotal: 10m 35s\tremaining: 1m 30s\n",
      "3999:\tlearn: 0.8764945\ttotal: 12m 21s\tremaining: 0us\n"
     ]
    }
   ],
   "source": [
    "model = CatBoostClassifier(iterations=4000, depth=10, learning_rate=0.01, \n",
    "                           verbose=500, loss_function='MultiClass', \n",
    "                           random_state=42, l2_leaf_reg=0.01)\n",
    "model.fit(trainX, trainY)\n",
    "predY = model.predict(testX)"
   ]
  },
  {
   "cell_type": "markdown",
   "metadata": {},
   "source": [
    "_______"
   ]
  },
  {
   "cell_type": "code",
   "execution_count": null,
   "metadata": {
    "ExecuteTime": {
     "end_time": "2019-09-05T03:06:00.528485Z",
     "start_time": "2019-09-05T03:06:00.479978Z"
    }
   },
   "outputs": [],
   "source": [
    "proba = model.predict_proba(testX)\n",
    "proba"
   ]
  },
  {
   "cell_type": "code",
   "execution_count": 34,
   "metadata": {
    "ExecuteTime": {
     "end_time": "2019-09-06T01:40:36.164680Z",
     "start_time": "2019-09-06T01:40:36.023662Z"
    },
    "scrolled": true
   },
   "outputs": [
    {
     "data": {
      "text/html": [
       "<div>\n",
       "<style scoped>\n",
       "    .dataframe tbody tr th:only-of-type {\n",
       "        vertical-align: middle;\n",
       "    }\n",
       "\n",
       "    .dataframe tbody tr th {\n",
       "        vertical-align: top;\n",
       "    }\n",
       "\n",
       "    .dataframe thead th {\n",
       "        text-align: right;\n",
       "    }\n",
       "</style>\n",
       "<table border=\"1\" class=\"dataframe\">\n",
       "  <thead>\n",
       "    <tr style=\"text-align: right;\">\n",
       "      <th></th>\n",
       "      <th>Group</th>\n",
       "      <th>Parameter1</th>\n",
       "      <th>Parameter10</th>\n",
       "      <th>Parameter2</th>\n",
       "      <th>Parameter3</th>\n",
       "      <th>Parameter4</th>\n",
       "      <th>Parameter5</th>\n",
       "      <th>Parameter6</th>\n",
       "      <th>Parameter7</th>\n",
       "      <th>Parameter8</th>\n",
       "      <th>Parameter9</th>\n",
       "      <th>pred</th>\n",
       "      <th>prob_Excellent</th>\n",
       "      <th>prob_Good</th>\n",
       "      <th>prob_Pass</th>\n",
       "      <th>prob_Fail</th>\n",
       "    </tr>\n",
       "  </thead>\n",
       "  <tbody>\n",
       "    <tr>\n",
       "      <th>0</th>\n",
       "      <td>0</td>\n",
       "      <td>0.235279</td>\n",
       "      <td>0.195680</td>\n",
       "      <td>0.351488</td>\n",
       "      <td>0.186814</td>\n",
       "      <td>0.086456</td>\n",
       "      <td>1.434060</td>\n",
       "      <td>1.230409</td>\n",
       "      <td>0.038483</td>\n",
       "      <td>2.931083</td>\n",
       "      <td>2.005852</td>\n",
       "      <td>4.0</td>\n",
       "      <td>0.081581</td>\n",
       "      <td>0.274130</td>\n",
       "      <td>0.067521</td>\n",
       "      <td>0.576768</td>\n",
       "    </tr>\n",
       "    <tr>\n",
       "      <th>1</th>\n",
       "      <td>0</td>\n",
       "      <td>0.043799</td>\n",
       "      <td>0.523976</td>\n",
       "      <td>32.590688</td>\n",
       "      <td>0.886285</td>\n",
       "      <td>29.702490</td>\n",
       "      <td>0.027434</td>\n",
       "      <td>0.016852</td>\n",
       "      <td>0.600827</td>\n",
       "      <td>0.118077</td>\n",
       "      <td>887.611257</td>\n",
       "      <td>4.0</td>\n",
       "      <td>0.017449</td>\n",
       "      <td>0.238530</td>\n",
       "      <td>0.176502</td>\n",
       "      <td>0.567519</td>\n",
       "    </tr>\n",
       "    <tr>\n",
       "      <th>2</th>\n",
       "      <td>0</td>\n",
       "      <td>21.466737</td>\n",
       "      <td>0.523976</td>\n",
       "      <td>11.847792</td>\n",
       "      <td>79499.554454</td>\n",
       "      <td>13544.605343</td>\n",
       "      <td>0.027434</td>\n",
       "      <td>0.016852</td>\n",
       "      <td>0.600827</td>\n",
       "      <td>0.118077</td>\n",
       "      <td>887.611257</td>\n",
       "      <td>4.0</td>\n",
       "      <td>0.017449</td>\n",
       "      <td>0.238530</td>\n",
       "      <td>0.176502</td>\n",
       "      <td>0.567519</td>\n",
       "    </tr>\n",
       "    <tr>\n",
       "      <th>3</th>\n",
       "      <td>0</td>\n",
       "      <td>0.703795</td>\n",
       "      <td>0.010192</td>\n",
       "      <td>0.018080</td>\n",
       "      <td>317.015599</td>\n",
       "      <td>38.087562</td>\n",
       "      <td>0.428092</td>\n",
       "      <td>0.314162</td>\n",
       "      <td>0.038483</td>\n",
       "      <td>17.850021</td>\n",
       "      <td>0.051850</td>\n",
       "      <td>2.0</td>\n",
       "      <td>0.073558</td>\n",
       "      <td>0.645500</td>\n",
       "      <td>0.025147</td>\n",
       "      <td>0.255795</td>\n",
       "    </tr>\n",
       "    <tr>\n",
       "      <th>4</th>\n",
       "      <td>0</td>\n",
       "      <td>10.447960</td>\n",
       "      <td>0.010192</td>\n",
       "      <td>15.983891</td>\n",
       "      <td>0.996049</td>\n",
       "      <td>16.715690</td>\n",
       "      <td>0.477823</td>\n",
       "      <td>0.464037</td>\n",
       "      <td>0.038483</td>\n",
       "      <td>17.850021</td>\n",
       "      <td>0.051850</td>\n",
       "      <td>2.0</td>\n",
       "      <td>0.078181</td>\n",
       "      <td>0.625190</td>\n",
       "      <td>0.048883</td>\n",
       "      <td>0.247746</td>\n",
       "    </tr>\n",
       "    <tr>\n",
       "      <th>5</th>\n",
       "      <td>0</td>\n",
       "      <td>733.439920</td>\n",
       "      <td>0.010192</td>\n",
       "      <td>99.698641</td>\n",
       "      <td>3.202776</td>\n",
       "      <td>31.368042</td>\n",
       "      <td>0.477823</td>\n",
       "      <td>0.464037</td>\n",
       "      <td>0.038483</td>\n",
       "      <td>17.850021</td>\n",
       "      <td>0.051850</td>\n",
       "      <td>2.0</td>\n",
       "      <td>0.078181</td>\n",
       "      <td>0.625190</td>\n",
       "      <td>0.048883</td>\n",
       "      <td>0.247746</td>\n",
       "    </tr>\n",
       "    <tr>\n",
       "      <th>6</th>\n",
       "      <td>0</td>\n",
       "      <td>0.149962</td>\n",
       "      <td>0.010192</td>\n",
       "      <td>2.910066</td>\n",
       "      <td>2.187656</td>\n",
       "      <td>331.744593</td>\n",
       "      <td>0.533331</td>\n",
       "      <td>0.464037</td>\n",
       "      <td>0.038483</td>\n",
       "      <td>17.850021</td>\n",
       "      <td>0.051850</td>\n",
       "      <td>2.0</td>\n",
       "      <td>0.078181</td>\n",
       "      <td>0.625190</td>\n",
       "      <td>0.048883</td>\n",
       "      <td>0.247746</td>\n",
       "    </tr>\n",
       "    <tr>\n",
       "      <th>7</th>\n",
       "      <td>0</td>\n",
       "      <td>0.060635</td>\n",
       "      <td>0.010192</td>\n",
       "      <td>0.016492</td>\n",
       "      <td>0.007373</td>\n",
       "      <td>7183.436876</td>\n",
       "      <td>0.533331</td>\n",
       "      <td>0.464037</td>\n",
       "      <td>0.038483</td>\n",
       "      <td>17.850021</td>\n",
       "      <td>0.051850</td>\n",
       "      <td>2.0</td>\n",
       "      <td>0.078181</td>\n",
       "      <td>0.625190</td>\n",
       "      <td>0.048883</td>\n",
       "      <td>0.247746</td>\n",
       "    </tr>\n",
       "    <tr>\n",
       "      <th>8</th>\n",
       "      <td>0</td>\n",
       "      <td>971.284623</td>\n",
       "      <td>0.010192</td>\n",
       "      <td>29.954312</td>\n",
       "      <td>3.639672</td>\n",
       "      <td>0.136383</td>\n",
       "      <td>0.477823</td>\n",
       "      <td>0.381815</td>\n",
       "      <td>0.038483</td>\n",
       "      <td>17.850021</td>\n",
       "      <td>0.051850</td>\n",
       "      <td>2.0</td>\n",
       "      <td>0.053576</td>\n",
       "      <td>0.639532</td>\n",
       "      <td>0.015028</td>\n",
       "      <td>0.291863</td>\n",
       "    </tr>\n",
       "    <tr>\n",
       "      <th>9</th>\n",
       "      <td>0</td>\n",
       "      <td>1372.664549</td>\n",
       "      <td>0.010192</td>\n",
       "      <td>2.103451</td>\n",
       "      <td>0.531944</td>\n",
       "      <td>5.802723</td>\n",
       "      <td>0.477823</td>\n",
       "      <td>0.464037</td>\n",
       "      <td>0.038483</td>\n",
       "      <td>17.850021</td>\n",
       "      <td>0.051850</td>\n",
       "      <td>2.0</td>\n",
       "      <td>0.078181</td>\n",
       "      <td>0.625190</td>\n",
       "      <td>0.048883</td>\n",
       "      <td>0.247746</td>\n",
       "    </tr>\n",
       "  </tbody>\n",
       "</table>\n",
       "</div>"
      ],
      "text/plain": [
       "   Group   Parameter1  Parameter10  Parameter2    Parameter3    Parameter4  \\\n",
       "0      0     0.235279     0.195680    0.351488      0.186814      0.086456   \n",
       "1      0     0.043799     0.523976   32.590688      0.886285     29.702490   \n",
       "2      0    21.466737     0.523976   11.847792  79499.554454  13544.605343   \n",
       "3      0     0.703795     0.010192    0.018080    317.015599     38.087562   \n",
       "4      0    10.447960     0.010192   15.983891      0.996049     16.715690   \n",
       "5      0   733.439920     0.010192   99.698641      3.202776     31.368042   \n",
       "6      0     0.149962     0.010192    2.910066      2.187656    331.744593   \n",
       "7      0     0.060635     0.010192    0.016492      0.007373   7183.436876   \n",
       "8      0   971.284623     0.010192   29.954312      3.639672      0.136383   \n",
       "9      0  1372.664549     0.010192    2.103451      0.531944      5.802723   \n",
       "\n",
       "   Parameter5  Parameter6  Parameter7  Parameter8  Parameter9  pred  \\\n",
       "0    1.434060    1.230409    0.038483    2.931083    2.005852   4.0   \n",
       "1    0.027434    0.016852    0.600827    0.118077  887.611257   4.0   \n",
       "2    0.027434    0.016852    0.600827    0.118077  887.611257   4.0   \n",
       "3    0.428092    0.314162    0.038483   17.850021    0.051850   2.0   \n",
       "4    0.477823    0.464037    0.038483   17.850021    0.051850   2.0   \n",
       "5    0.477823    0.464037    0.038483   17.850021    0.051850   2.0   \n",
       "6    0.533331    0.464037    0.038483   17.850021    0.051850   2.0   \n",
       "7    0.533331    0.464037    0.038483   17.850021    0.051850   2.0   \n",
       "8    0.477823    0.381815    0.038483   17.850021    0.051850   2.0   \n",
       "9    0.477823    0.464037    0.038483   17.850021    0.051850   2.0   \n",
       "\n",
       "   prob_Excellent  prob_Good  prob_Pass  prob_Fail  \n",
       "0        0.081581   0.274130   0.067521   0.576768  \n",
       "1        0.017449   0.238530   0.176502   0.567519  \n",
       "2        0.017449   0.238530   0.176502   0.567519  \n",
       "3        0.073558   0.645500   0.025147   0.255795  \n",
       "4        0.078181   0.625190   0.048883   0.247746  \n",
       "5        0.078181   0.625190   0.048883   0.247746  \n",
       "6        0.078181   0.625190   0.048883   0.247746  \n",
       "7        0.078181   0.625190   0.048883   0.247746  \n",
       "8        0.053576   0.639532   0.015028   0.291863  \n",
       "9        0.078181   0.625190   0.048883   0.247746  "
      ]
     },
     "execution_count": 34,
     "metadata": {},
     "output_type": "execute_result"
    }
   ],
   "source": [
    "test['pred'] = predY\n",
    "test['prob_Excellent'] = 0.0\n",
    "test['prob_Good'] = 0.0\n",
    "test['prob_Pass'] = 0.0\n",
    "test['prob_Fail'] = 0.0\n",
    "test.loc[:, ['prob_Excellent', 'prob_Good', 'prob_Pass', 'prob_Fail']] = model.predict_proba(testX)\n",
    "test.head(10)"
   ]
  },
  {
   "cell_type": "code",
   "execution_count": 35,
   "metadata": {
    "ExecuteTime": {
     "end_time": "2019-09-06T01:40:46.501992Z",
     "start_time": "2019-09-06T01:40:46.484490Z"
    },
    "scrolled": true
   },
   "outputs": [],
   "source": [
    "result = test.groupby(['Group'], as_index=False)['prob_Excellent', 'prob_Good', 'prob_Pass', 'prob_Fail'].mean()\n",
    "result.columns = ['Group','Excellent ratio','Good ratio','Pass ratio','Fail ratio']\n",
    "result.to_csv('submission17.csv', index=False)"
   ]
  },
  {
   "cell_type": "code",
   "execution_count": null,
   "metadata": {
    "ExecuteTime": {
     "end_time": "2019-09-05T03:09:44.947482Z",
     "start_time": "2019-09-05T03:09:44.784962Z"
    }
   },
   "outputs": [],
   "source": []
  },
  {
   "cell_type": "markdown",
   "metadata": {},
   "source": [
    "_________"
   ]
  },
  {
   "cell_type": "code",
   "execution_count": 26,
   "metadata": {
    "ExecuteTime": {
     "end_time": "2019-09-05T05:37:44.092991Z",
     "start_time": "2019-09-05T05:37:44.084489Z"
    }
   },
   "outputs": [
    {
     "data": {
      "text/plain": [
       "15085.02468458585"
      ]
     },
     "execution_count": 26,
     "metadata": {},
     "output_type": "execute_result"
    }
   ],
   "source": [
    "20000/14584 * 11000"
   ]
  }
 ],
 "metadata": {
  "kernelspec": {
   "display_name": "Python 3",
   "language": "python",
   "name": "python3"
  },
  "language_info": {
   "codemirror_mode": {
    "name": "ipython",
    "version": 3
   },
   "file_extension": ".py",
   "mimetype": "text/x-python",
   "name": "python",
   "nbconvert_exporter": "python",
   "pygments_lexer": "ipython3",
   "version": "3.6.6"
  },
  "toc": {
   "base_numbering": 1,
   "nav_menu": {},
   "number_sections": true,
   "sideBar": true,
   "skip_h1_title": false,
   "title_cell": "Table of Contents",
   "title_sidebar": "Contents",
   "toc_cell": false,
   "toc_position": {
    "height": "calc(100% - 180px)",
    "left": "10px",
    "top": "150px",
    "width": "286.391px"
   },
   "toc_section_display": true,
   "toc_window_display": true
  },
  "varInspector": {
   "cols": {
    "lenName": 16,
    "lenType": 16,
    "lenVar": 40
   },
   "kernels_config": {
    "python": {
     "delete_cmd_postfix": "",
     "delete_cmd_prefix": "del ",
     "library": "var_list.py",
     "varRefreshCmd": "print(var_dic_list())"
    },
    "r": {
     "delete_cmd_postfix": ") ",
     "delete_cmd_prefix": "rm(",
     "library": "var_list.r",
     "varRefreshCmd": "cat(var_dic_list()) "
    }
   },
   "types_to_exclude": [
    "module",
    "function",
    "builtin_function_or_method",
    "instance",
    "_Feature"
   ],
   "window_display": false
  }
 },
 "nbformat": 4,
 "nbformat_minor": 2
}
