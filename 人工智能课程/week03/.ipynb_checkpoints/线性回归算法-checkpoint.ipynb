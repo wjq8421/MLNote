{
 "cells": [
  {
   "cell_type": "code",
   "execution_count": 1,
   "metadata": {
    "ExecuteTime": {
     "end_time": "2019-08-27T08:45:48.881986Z",
     "start_time": "2019-08-27T08:45:47.980935Z"
    }
   },
   "outputs": [],
   "source": [
    "import numpy as np\n",
    "from sklearn.linear_model import LinearRegression"
   ]
  },
  {
   "cell_type": "code",
   "execution_count": 2,
   "metadata": {
    "ExecuteTime": {
     "end_time": "2019-08-27T08:45:49.808039Z",
     "start_time": "2019-08-27T08:45:49.791038Z"
    }
   },
   "outputs": [],
   "source": [
    "class linear_regression:\n",
    "    def __init__(self, alpha=0.1, n_rounds=1000, eps=1e-6):\n",
    "        self.alpha = alpha \n",
    "        self.n_rounds = n_rounds\n",
    "        self.eps = eps  # 预测误差的阈值\n",
    "    \n",
    "    def fit(self, X, y):\n",
    "        np.atleast_2d(X)\n",
    "        X = np.c_[X, np.ones(X.shape[0])] # 增加一个特征，表示常数项\n",
    "        n_features = X.shape[1] \n",
    "        self.betas = np.zeros((n_features,1))\n",
    "        for i in range(self.n_rounds):\n",
    "            epsilon = y - np.dot(X, self.betas)\n",
    "            if np.sum(np.square(epsilon)) <= self.eps:\n",
    "                # 若误差平方和小于1r-6，则退出梯度下降过程\n",
    "                break\n",
    "            gradient = -np.dot(X.T, epsilon)\n",
    "            self.betas -= self.alpha * gradient\n",
    "        print(self.betas)\n",
    "    \n",
    "    def predict(self, X):\n",
    "        np.atleast_2d(X)\n",
    "        X = np.c_[X, np.ones(X.shape[0])]\n",
    "        return np.dot(X, self.betas)\n",
    "    \n",
    "    def get_betas(self):\n",
    "        return self.betas"
   ]
  },
  {
   "cell_type": "markdown",
   "metadata": {},
   "source": [
    "拟合方程: \n",
    "$$y=3x_1+2x_2+1$$"
   ]
  },
  {
   "cell_type": "code",
   "execution_count": 3,
   "metadata": {
    "ExecuteTime": {
     "end_time": "2019-08-27T08:45:51.419131Z",
     "start_time": "2019-08-27T08:45:51.402130Z"
    }
   },
   "outputs": [
    {
     "name": "stdout",
     "output_type": "stream",
     "text": [
      "[[2.99870003]\n",
      " [2.00109098]\n",
      " [0.99993034]]\n"
     ]
    }
   ],
   "source": [
    "X = np.array([[0,0],[1,1],[1,2,],[2,2]])\n",
    "y = np.array([[1],[6],[8],[11]])\n",
    "lr = linear_regression(alpha=0.1, n_rounds=1000)\n",
    "lr.fit(X, y)"
   ]
  },
  {
   "cell_type": "code",
   "execution_count": 4,
   "metadata": {
    "ExecuteTime": {
     "end_time": "2019-08-27T08:45:53.065225Z",
     "start_time": "2019-08-27T08:45:53.042224Z"
    }
   },
   "outputs": [
    {
     "data": {
      "text/plain": [
       "array([[2.99870003],\n",
       "       [2.00109098],\n",
       "       [0.99993034]])"
      ]
     },
     "execution_count": 4,
     "metadata": {},
     "output_type": "execute_result"
    }
   ],
   "source": [
    "lr.get_betas()"
   ]
  },
  {
   "cell_type": "markdown",
   "metadata": {},
   "source": [
    "### sklearn中的线性回归"
   ]
  },
  {
   "cell_type": "code",
   "execution_count": 5,
   "metadata": {
    "ExecuteTime": {
     "end_time": "2019-08-27T08:45:55.389358Z",
     "start_time": "2019-08-27T08:45:55.379358Z"
    }
   },
   "outputs": [
    {
     "name": "stdout",
     "output_type": "stream",
     "text": [
      "[[3. 2.]] [1.]\n"
     ]
    }
   ],
   "source": [
    "sk_lr = LinearRegression()\n",
    "sk_lr.fit(X, y)\n",
    "print(sk_lr.coef_, sk_lr.intercept_)"
   ]
  },
  {
   "cell_type": "code",
   "execution_count": 6,
   "metadata": {
    "ExecuteTime": {
     "end_time": "2019-08-27T08:45:56.256408Z",
     "start_time": "2019-08-27T08:45:56.249408Z"
    }
   },
   "outputs": [
    {
     "data": {
      "text/plain": [
       "4"
      ]
     },
     "execution_count": 6,
     "metadata": {},
     "output_type": "execute_result"
    }
   ],
   "source": [
    "np.square(2)"
   ]
  }
 ],
 "metadata": {
  "kernelspec": {
   "display_name": "Python 3",
   "language": "python",
   "name": "python3"
  },
  "language_info": {
   "codemirror_mode": {
    "name": "ipython",
    "version": 3
   },
   "file_extension": ".py",
   "mimetype": "text/x-python",
   "name": "python",
   "nbconvert_exporter": "python",
   "pygments_lexer": "ipython3",
   "version": "3.6.6"
  },
  "toc": {
   "base_numbering": 1,
   "nav_menu": {},
   "number_sections": true,
   "sideBar": true,
   "skip_h1_title": false,
   "title_cell": "Table of Contents",
   "title_sidebar": "Contents",
   "toc_cell": false,
   "toc_position": {},
   "toc_section_display": true,
   "toc_window_display": false
  },
  "varInspector": {
   "cols": {
    "lenName": 16,
    "lenType": 16,
    "lenVar": 40
   },
   "kernels_config": {
    "python": {
     "delete_cmd_postfix": "",
     "delete_cmd_prefix": "del ",
     "library": "var_list.py",
     "varRefreshCmd": "print(var_dic_list())"
    },
    "r": {
     "delete_cmd_postfix": ") ",
     "delete_cmd_prefix": "rm(",
     "library": "var_list.r",
     "varRefreshCmd": "cat(var_dic_list()) "
    }
   },
   "types_to_exclude": [
    "module",
    "function",
    "builtin_function_or_method",
    "instance",
    "_Feature"
   ],
   "window_display": false
  }
 },
 "nbformat": 4,
 "nbformat_minor": 2
}
