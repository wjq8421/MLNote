{
 "cells": [
  {
   "cell_type": "markdown",
   "metadata": {},
   "source": [
    "卷积运算通过三个重要的思想来帮助改进机器学习系统：稀疏交互（sparse interactions）、参数共享（parameter sharing）、等变表示（equivariant representations）。\n",
    "\n",
    "##### 稀疏交互\n",
    "1. 使核的大小远小于输入的大小来达到的。\n",
    "2. 在卷积网络中尽管直接连接都是稀疏的，但处在更深的层中的单元可以间接地连接到全部或者大部分输入图像。\n",
    "\n",
    "##### 参数共享\n",
    "1. 指在一个模型的多个函数中使用相同的参数。"
   ]
  },
  {
   "cell_type": "markdown",
   "metadata": {},
   "source": [
    "______\n",
    "卷积网络中一个典型层包含三级：1）卷积级：并行地计算多个卷积产生一组线性激活响应；2）探测级：每一个线性激活响应将会通过一个非线性的激活函数，例如整流线性激活函数；3）池化级：使用池化函数来进一步调整这一层的输出。\n",
    "\n",
    "#### 池化级\n",
    "1. 池化函数使用某一位置的相邻输出的总体特征来代替网络在该位置的输出。\n",
    "2. 平移的不变性是指当我们对输入进行少量平移时，经过池化函数后的大多数输出并不会发生变化。\n",
    "3. 使用池化可以看作增加了一个无限强的先验：这一层学得的函数必须具有对少量平移的不变性。当这个假设成立时，池化可以极大地提高网络的统计效率。\n",
    "4. 如想对不同大小的图像进行分类时，分类层的输入必须是固定的大小，而这通常通过调整池化区域的偏置大小来实现，这样分类层总是能接受到相同数量的统计特征而不管最初的输入大小了。"
   ]
  },
  {
   "cell_type": "code",
   "execution_count": 11,
   "metadata": {
    "ExecuteTime": {
     "end_time": "2019-06-13T02:07:01.984651Z",
     "start_time": "2019-06-13T02:07:01.976650Z"
    }
   },
   "outputs": [
    {
     "data": {
      "text/plain": [
       "5484635.2190000005"
      ]
     },
     "execution_count": 11,
     "metadata": {},
     "output_type": "execute_result"
    }
   ],
   "source": [
    "5512196.20 * 0.995"
   ]
  },
  {
   "cell_type": "code",
   "execution_count": null,
   "metadata": {
    "ExecuteTime": {
     "end_time": "2019-06-12T09:14:32.370972Z",
     "start_time": "2019-06-12T09:14:32.351971Z"
    }
   },
   "outputs": [],
   "source": []
  }
 ],
 "metadata": {
  "kernelspec": {
   "display_name": "Python 3",
   "language": "python",
   "name": "python3"
  },
  "language_info": {
   "codemirror_mode": {
    "name": "ipython",
    "version": 3
   },
   "file_extension": ".py",
   "mimetype": "text/x-python",
   "name": "python",
   "nbconvert_exporter": "python",
   "pygments_lexer": "ipython3",
   "version": "3.6.6"
  },
  "toc": {
   "base_numbering": 1,
   "nav_menu": {},
   "number_sections": true,
   "sideBar": true,
   "skip_h1_title": false,
   "title_cell": "Table of Contents",
   "title_sidebar": "Contents",
   "toc_cell": false,
   "toc_position": {},
   "toc_section_display": true,
   "toc_window_display": false
  },
  "varInspector": {
   "cols": {
    "lenName": 16,
    "lenType": 16,
    "lenVar": 40
   },
   "kernels_config": {
    "python": {
     "delete_cmd_postfix": "",
     "delete_cmd_prefix": "del ",
     "library": "var_list.py",
     "varRefreshCmd": "print(var_dic_list())"
    },
    "r": {
     "delete_cmd_postfix": ") ",
     "delete_cmd_prefix": "rm(",
     "library": "var_list.r",
     "varRefreshCmd": "cat(var_dic_list()) "
    }
   },
   "types_to_exclude": [
    "module",
    "function",
    "builtin_function_or_method",
    "instance",
    "_Feature"
   ],
   "window_display": false
  }
 },
 "nbformat": 4,
 "nbformat_minor": 2
}
