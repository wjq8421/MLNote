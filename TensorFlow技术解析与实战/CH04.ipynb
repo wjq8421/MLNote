{
 "cells": [
  {
   "cell_type": "code",
   "execution_count": null,
   "metadata": {
    "ExecuteTime": {
     "end_time": "2019-07-25T03:32:05.396059Z",
     "start_time": "2019-07-25T03:32:02.539896Z"
    }
   },
   "outputs": [],
   "source": [
    "import tensorflow as tf\n",
    "import numpy as np\n",
    "import os\n",
    "from sklearn.preprocessing import OneHotEncoder"
   ]
  },
  {
   "cell_type": "code",
   "execution_count": null,
   "metadata": {
    "ExecuteTime": {
     "end_time": "2019-07-25T01:52:07.612006Z",
     "start_time": "2019-07-25T01:52:07.584004Z"
    }
   },
   "outputs": [],
   "source": [
    "t = tf.add(8, 9)\n",
    "print(t)"
   ]
  },
  {
   "cell_type": "code",
   "execution_count": null,
   "metadata": {
    "ExecuteTime": {
     "end_time": "2019-07-25T01:52:10.226155Z",
     "start_time": "2019-07-25T01:52:08.910080Z"
    },
    "scrolled": true
   },
   "outputs": [],
   "source": [
    "with tf.Session() as sess:\n",
    "    with tf.device('/gpu:0'):\n",
    "        matrix1 = tf.constant([[3., 3.]])\n",
    "        matrix2 = tf.constant([[2.], [2.]])\n",
    "        product = tf.matmul(matrix1, matrix2)\n",
    "        print(sess.run(product))"
   ]
  },
  {
   "cell_type": "markdown",
   "metadata": {
    "ExecuteTime": {
     "end_time": "2019-07-24T07:49:02.944444Z",
     "start_time": "2019-07-24T07:49:02.939443Z"
    }
   },
   "source": [
    "#### 变量作用域"
   ]
  },
  {
   "cell_type": "code",
   "execution_count": null,
   "metadata": {
    "ExecuteTime": {
     "end_time": "2019-07-24T08:13:39.725911Z",
     "start_time": "2019-07-24T08:13:39.695909Z"
    }
   },
   "outputs": [],
   "source": [
    "with tf.variable_scope('foo'):\n",
    "    v = tf.get_variable('v', [1])\n",
    "    # ValueError，变量'v'已经被定义过了\n",
    "    # v2 = tf.get_variable('v', [1])"
   ]
  },
  {
   "cell_type": "code",
   "execution_count": null,
   "metadata": {
    "ExecuteTime": {
     "end_time": "2019-07-24T08:16:47.108628Z",
     "start_time": "2019-07-24T08:16:47.102628Z"
    }
   },
   "outputs": [],
   "source": [
    "with tf.variable_scope('foo', reuse=True):\n",
    "    # 实现共享变量\n",
    "    v1 = tf.get_variable('v', [1])\n",
    "print(v1.name)\n",
    "print(v.name)"
   ]
  },
  {
   "cell_type": "code",
   "execution_count": null,
   "metadata": {
    "ExecuteTime": {
     "end_time": "2019-07-24T08:24:30.371125Z",
     "start_time": "2019-07-24T08:24:30.339124Z"
    }
   },
   "outputs": [],
   "source": [
    "with tf.variable_scope('too') as too_scope:\n",
    "    v = tf.get_variable('v', [1])\n",
    "with tf.variable_scope(too_scope):\n",
    "    w = tf.get_variable('w', [1])\n",
    "    \n",
    "print(v.name)\n",
    "print(w.name)"
   ]
  },
  {
   "cell_type": "code",
   "execution_count": null,
   "metadata": {
    "ExecuteTime": {
     "end_time": "2019-07-24T08:28:33.252017Z",
     "start_time": "2019-07-24T08:28:33.241017Z"
    }
   },
   "outputs": [],
   "source": [
    "with tf.variable_scope('too') as too_scope:\n",
    "    print('too_scope:', too_scope.name)\n",
    "with tf.variable_scope('bar'):\n",
    "    with tf.variable_scope('baz') as other_scope:\n",
    "        print('other_scope:', other_scope.name)\n",
    "        with tf.variable_scope(too_scope) as too_scope2:\n",
    "            # 使用预先定义的作用域，则跳过当前变量的作用域\n",
    "            print('too_scope2:', too_scope2.name)"
   ]
  },
  {
   "cell_type": "code",
   "execution_count": null,
   "metadata": {
    "ExecuteTime": {
     "end_time": "2019-07-24T08:46:46.259534Z",
     "start_time": "2019-07-24T08:46:46.169529Z"
    }
   },
   "outputs": [],
   "source": [
    "sess = tf.Session()\n",
    "with tf.variable_scope('coo'):\n",
    "    x = 1.0 + tf.get_variable('v', [1]) # x.name为'coo/add:0'\n",
    "    print(x.name)"
   ]
  },
  {
   "cell_type": "code",
   "execution_count": null,
   "metadata": {
    "ExecuteTime": {
     "end_time": "2019-07-24T08:54:36.996458Z",
     "start_time": "2019-07-24T08:54:36.947456Z"
    }
   },
   "outputs": [],
   "source": [
    "with tf.variable_scope('doo'):\n",
    "    with tf.name_scope('bar'):\n",
    "        v = tf.get_variable('v', [1]) # v.name为doo/v:0\n",
    "        b = tf.Variable(tf.zeros([1]), name='b') # b.name为doo/bar/b:0\n",
    "        x = 1.0 + v # x.name为doo/bar/add:0\n",
    "print('v.name:', v.name)\n",
    "print('b.name:', b.name)\n",
    "print('x.name:', x.name)"
   ]
  },
  {
   "cell_type": "markdown",
   "metadata": {
    "ExecuteTime": {
     "end_time": "2019-07-24T09:34:43.964129Z",
     "start_time": "2019-07-24T09:34:43.938128Z"
    }
   },
   "source": [
    "#### 激活函数"
   ]
  },
  {
   "cell_type": "code",
   "execution_count": null,
   "metadata": {
    "ExecuteTime": {
     "end_time": "2019-07-24T09:41:19.803770Z",
     "start_time": "2019-07-24T09:41:19.714765Z"
    }
   },
   "outputs": [],
   "source": [
    "a = tf.constant([[1.0, 2.0], [1.0, 2.0], [1.0, 2.0]])\n",
    "sess = tf.Session()\n",
    "print(sess.run(tf.nn.sigmoid(a)))\n",
    "sess.close()"
   ]
  },
  {
   "cell_type": "code",
   "execution_count": null,
   "metadata": {
    "ExecuteTime": {
     "end_time": "2019-07-24T09:50:05.549841Z",
     "start_time": "2019-07-24T09:50:05.465836Z"
    }
   },
   "outputs": [],
   "source": [
    "a = tf.constant([[-1.0, 2.0, 3.0, 4.0]])\n",
    "with tf.Session() as sess:\n",
    "    b = tf.nn.dropout(a, keep_prob=0.5, noise_shape=[1,4])\n",
    "    print(sess.run(b))"
   ]
  },
  {
   "cell_type": "markdown",
   "metadata": {
    "ExecuteTime": {
     "end_time": "2019-07-24T09:45:34.015310Z",
     "start_time": "2019-07-24T09:45:34.005309Z"
    }
   },
   "source": [
    "#### 卷积函数"
   ]
  },
  {
   "cell_type": "code",
   "execution_count": null,
   "metadata": {},
   "outputs": [],
   "source": [
    "input_data = tf.Variable(np.random.rand(10,9,9,3), dtype=np.float32)\n",
    "filter_data = tf.Variable(np.random.rand(2,2,3,2), dtype=np.float32)\n",
    "y = tf.nn.conv2d(input_data, filter_data, strides=[1,1,1,1], padding='SAME')\n",
    "output = tf.nn.max_pool(value=y, ksize=[1,2,2,1], strides=[1,1,1,1], padding='SAME')\n",
    "y"
   ]
  },
  {
   "cell_type": "markdown",
   "metadata": {},
   "source": [
    "#### 优化方法"
   ]
  },
  {
   "cell_type": "code",
   "execution_count": null,
   "metadata": {},
   "outputs": [],
   "source": [
    "tf.train.MomentumOptimizer?"
   ]
  },
  {
   "cell_type": "markdown",
   "metadata": {},
   "source": [
    "#### 模型的存储与加载"
   ]
  },
  {
   "cell_type": "code",
   "execution_count": null,
   "metadata": {},
   "outputs": [],
   "source": [
    "tf.train.Saver.save?"
   ]
  },
  {
   "cell_type": "code",
   "execution_count": null,
   "metadata": {
    "ExecuteTime": {
     "end_time": "2019-07-25T03:32:22.590043Z",
     "start_time": "2019-07-25T03:32:22.258024Z"
    }
   },
   "outputs": [],
   "source": [
    "(tr_x, tr_y), (te_x, te_y) = tf.keras.datasets.mnist.load_data(path='mnist.npz')"
   ]
  },
  {
   "cell_type": "code",
   "execution_count": null,
   "metadata": {
    "ExecuteTime": {
     "end_time": "2019-07-25T03:32:23.513096Z",
     "start_time": "2019-07-25T03:32:23.493094Z"
    }
   },
   "outputs": [],
   "source": [
    "train_x = tr_x.reshape([-1, 28 * 28])\n",
    "test_x = te_x.reshape([-1, 28 * 28])\n",
    "train_x.shape"
   ]
  },
  {
   "cell_type": "code",
   "execution_count": null,
   "metadata": {
    "ExecuteTime": {
     "end_time": "2019-07-25T03:32:24.776168Z",
     "start_time": "2019-07-25T03:32:24.743166Z"
    }
   },
   "outputs": [],
   "source": [
    "one_hot = OneHotEncoder()\n",
    "tr_y = tr_y.reshape([60000,-1])\n",
    "te_y = te_y.reshape([10000,-1])\n",
    "one_hot.fit(tr_y)\n",
    "train_y = one_hot.transform(tr_y).toarray()\n",
    "test_y = one_hot.transform(te_y).toarray()\n",
    "train_y.shape"
   ]
  },
  {
   "cell_type": "code",
   "execution_count": null,
   "metadata": {
    "ExecuteTime": {
     "end_time": "2019-07-25T03:52:03.670597Z",
     "start_time": "2019-07-25T03:48:26.784192Z"
    }
   },
   "outputs": [],
   "source": [
    "def init_weights(shape):\n",
    "    \"\"\"定义权重函数\"\"\"\n",
    "    return tf.Variable(tf.random_normal(shape, stddev=0.01))\n",
    "\n",
    "def model(X, w_h, w_h2, w_o, p_keep_input, p_keep_hidden):\n",
    "    # 定义模型\n",
    "    # 第一个全连接层Wx+b\n",
    "    X = tf.nn.dropout(X, p_keep_input)\n",
    "    h = tf.nn.relu(tf.matmul(X, w_h))\n",
    "    \n",
    "    h = tf.nn.dropout(h, p_keep_hidden)\n",
    "    # 第二个全连接层\n",
    "    h2 = tf.nn.relu(tf.matmul(h, w_h2))\n",
    "    h2 = tf.nn.dropout(h2, p_keep_hidden)\n",
    "    return tf.matmul(h2, w_o) # 输出预测值\n",
    "\n",
    "X = tf.placeholder(tf.float32, [None, 28*28])\n",
    "Y = tf.placeholder(tf.float32, [None, 10])\n",
    "\n",
    "w_h = init_weights([784, 625])\n",
    "w_h2 = init_weights([625, 625])\n",
    "w_o = init_weights([625, 10])\n",
    "\n",
    "p_keep_input = tf.placeholder(tf.float32)\n",
    "p_keep_hidden = tf.placeholder(tf.float32)\n",
    "py_x = model(X, w_h, w_h2, w_o, p_keep_input, p_keep_hidden)\n",
    "\n",
    "# 定义损失函数\n",
    "cost = tf.reduce_mean(tf.nn.softmax_cross_entropy_with_logits(logits=py_x, labels=Y))\n",
    "train_op = tf.train.RMSPropOptimizer(0.001, 0.9).minimize(cost)\n",
    "predict_op = tf.arg_max(py_x, 1)\n",
    "\n",
    "# 定义存储路径\n",
    "ckpt_dir = './ckpt_dir'\n",
    "if not os.path.exists(ckpt_dir):\n",
    "    os.makedirs(ckpt_dir)\n",
    "    \n",
    "# 定义计数器，为训练轮次计数\n",
    "global_step = tf.Variable(0, name='global_step', trainable=False)\n",
    "\n",
    "saver = tf.train.Saver()\n",
    "\n",
    "# 训练模型并存储\n",
    "with tf.Session() as sess:\n",
    "    tf.initialize_all_variables().run()\n",
    "    start = global_step.eval()\n",
    "    print('Start from:', start)\n",
    "    \n",
    "    for i in range(start, 100):\n",
    "        for start, end in zip(range(0, len(train_x), 128), range(128, len(train_x)+1, 128)):\n",
    "            sess.run(train_op, feed_dict={X:train_x[start:end], Y:train_y[start:end], p_keep_input:0.8, p_keep_hidden:0.5})\n",
    "        global_step.assign(i).eval()\n",
    "        saver.save(sess, ckpt_dir + './model.ckpt', global_step=global_step)"
   ]
  },
  {
   "cell_type": "code",
   "execution_count": null,
   "metadata": {
    "ExecuteTime": {
     "end_time": "2019-07-25T06:19:40.325168Z",
     "start_time": "2019-07-25T06:19:39.443118Z"
    }
   },
   "outputs": [],
   "source": [
    "with tf.Session() as sess:\n",
    "    tf.initialize_all_variables().run()\n",
    "    ckpt = tf.train.get_checkpoint_state(ckpt_dir)\n",
    "    if ckpt and ckpt.model_checkpoint_path:\n",
    "        print(ckpt.model_checkpoint_path)\n",
    "        saver.save(sess, ckpt.model_checkpoint_path)"
   ]
  },
  {
   "cell_type": "code",
   "execution_count": null,
   "metadata": {
    "ExecuteTime": {
     "end_time": "2019-07-25T06:23:03.881811Z",
     "start_time": "2019-07-25T06:23:03.875811Z"
    }
   },
   "outputs": [],
   "source": [
    "tf.train.write_graph?"
   ]
  },
  {
   "cell_type": "markdown",
   "metadata": {},
   "source": [
    "#### 队列和线程"
   ]
  },
  {
   "cell_type": "code",
   "execution_count": null,
   "metadata": {
    "ExecuteTime": {
     "end_time": "2019-07-25T07:55:03.602521Z",
     "start_time": "2019-07-25T07:54:50.255758Z"
    }
   },
   "outputs": [],
   "source": [
    "import tensorflow as tf\n",
    "\n",
    "q = tf.FIFOQueue(3, tf.float32)\n",
    "init = q.enqueue_many(([0.1, 0.2, 0.3, 0.4],)) # 0.1先入\n",
    "x = q.dequeue()\n",
    "y = x + 1\n",
    "q_inc = q.enqueue([y])\n",
    "\n",
    "with tf.Session() as sess:\n",
    "    run_options = tf.RunOptions(timeout_in_ms=10000)\n",
    "    try:\n",
    "        sess.run(init, options=run_options)\n",
    "        quelen = sess.run(q.size())\n",
    "        for i in range(2):\n",
    "            sess.run(q_inc)\n",
    "\n",
    "        quelen = sess.run(q.size())\n",
    "        for i in range(quelen):\n",
    "            # 依次输出：0.3, 1.1, 1.2\n",
    "            print(sess.run(q.dequeue()))\n",
    "    except tf.errors.DeadlineExceededError:\n",
    "        print('out of range')"
   ]
  },
  {
   "cell_type": "code",
   "execution_count": null,
   "metadata": {
    "ExecuteTime": {
     "end_time": "2019-07-25T07:56:24.734162Z",
     "start_time": "2019-07-25T07:56:24.565152Z"
    },
    "scrolled": true
   },
   "outputs": [],
   "source": [
    "q = tf.FIFOQueue(1000, tf.float32)\n",
    "counter = tf.Variable(0.0)\n",
    "increment_op = tf.assign_add(counter, tf.constant(1.0))\n",
    "enqueue_op = q.enqueue(counter)\n",
    "\n",
    "# 创建队列管理器\n",
    "qr = tf.train.QueueRunner(q, enqueue_ops=[increment_op, enqueue_op] * 1)\n",
    "\n",
    "with tf.Session() as sess:\n",
    "    tf.global_variables_initializer().run()\n",
    "    coord = tf.train.Coordinator()\n",
    "    enqueue_threads = qr.create_threads(sess, start=True, coord=coord) # 启动线程\n",
    "    coord.request_stop()\n",
    "    # 主线程\n",
    "    for i in range(10):\n",
    "        try:\n",
    "            print(sess.run(q.dequeue()))\n",
    "        except tf.errors.OutOfRangeError:\n",
    "            break\n",
    "    coord.join(enqueue_threads)"
   ]
  },
  {
   "cell_type": "markdown",
   "metadata": {
    "ExecuteTime": {
     "start_time": "2019-07-25T07:56:26.105Z"
    }
   },
   "source": [
    "#### 加载数据"
   ]
  },
  {
   "cell_type": "code",
   "execution_count": null,
   "metadata": {},
   "outputs": [],
   "source": []
  }
 ],
 "metadata": {
  "kernelspec": {
   "display_name": "Python 3",
   "language": "python",
   "name": "python3"
  },
  "language_info": {
   "codemirror_mode": {
    "name": "ipython",
    "version": 3
   },
   "file_extension": ".py",
   "mimetype": "text/x-python",
   "name": "python",
   "nbconvert_exporter": "python",
   "pygments_lexer": "ipython3",
   "version": "3.6.6"
  },
  "toc": {
   "base_numbering": 1,
   "nav_menu": {},
   "number_sections": true,
   "sideBar": true,
   "skip_h1_title": false,
   "title_cell": "Table of Contents",
   "title_sidebar": "Contents",
   "toc_cell": false,
   "toc_position": {},
   "toc_section_display": true,
   "toc_window_display": false
  },
  "varInspector": {
   "cols": {
    "lenName": 16,
    "lenType": 16,
    "lenVar": 40
   },
   "kernels_config": {
    "python": {
     "delete_cmd_postfix": "",
     "delete_cmd_prefix": "del ",
     "library": "var_list.py",
     "varRefreshCmd": "print(var_dic_list())"
    },
    "r": {
     "delete_cmd_postfix": ") ",
     "delete_cmd_prefix": "rm(",
     "library": "var_list.r",
     "varRefreshCmd": "cat(var_dic_list()) "
    }
   },
   "position": {
    "height": "144px",
    "left": "794px",
    "right": "20px",
    "top": "130px",
    "width": "350px"
   },
   "types_to_exclude": [
    "module",
    "function",
    "builtin_function_or_method",
    "instance",
    "_Feature"
   ],
   "window_display": false
  }
 },
 "nbformat": 4,
 "nbformat_minor": 2
}
