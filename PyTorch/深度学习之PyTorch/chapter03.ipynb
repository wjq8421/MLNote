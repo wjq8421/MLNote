{
 "cells": [
  {
   "cell_type": "code",
   "execution_count": 53,
   "metadata": {
    "ExecuteTime": {
     "end_time": "2019-09-05T01:30:06.941617Z",
     "start_time": "2019-09-05T01:30:06.039002Z"
    }
   },
   "outputs": [],
   "source": [
    "import torch\n",
    "import matplotlib.pyplot as plt"
   ]
  },
  {
   "cell_type": "markdown",
   "metadata": {},
   "source": [
    "### Tensor"
   ]
  },
  {
   "cell_type": "code",
   "execution_count": 7,
   "metadata": {
    "ExecuteTime": {
     "end_time": "2019-09-04T07:34:03.844145Z",
     "start_time": "2019-09-04T07:34:03.836644Z"
    }
   },
   "outputs": [
    {
     "name": "stdout",
     "output_type": "stream",
     "text": [
      "a is: tensor([[2., 3.],\n",
      "        [4., 8.],\n",
      "        [7., 9.]])\n",
      "a size is: torch.Size([3, 2])\n"
     ]
    }
   ],
   "source": [
    "a = torch.Tensor([[2, 3], [4, 8], [7, 9]])\n",
    "print('a is: {}'.format(a))\n",
    "print('a size is: {}'.format(a.size()))"
   ]
  },
  {
   "cell_type": "code",
   "execution_count": 112,
   "metadata": {
    "ExecuteTime": {
     "end_time": "2019-09-05T07:16:19.292625Z",
     "start_time": "2019-09-05T07:16:19.286125Z"
    }
   },
   "outputs": [
    {
     "data": {
      "text/plain": [
       "3"
      ]
     },
     "execution_count": 112,
     "metadata": {},
     "output_type": "execute_result"
    }
   ],
   "source": []
  },
  {
   "cell_type": "code",
   "execution_count": 5,
   "metadata": {
    "ExecuteTime": {
     "end_time": "2019-09-04T07:32:59.288447Z",
     "start_time": "2019-09-04T07:32:59.276446Z"
    }
   },
   "outputs": [
    {
     "data": {
      "text/plain": [
       "tensor([[2, 3],\n",
       "        [4, 8],\n",
       "        [7, 9]])"
      ]
     },
     "execution_count": 5,
     "metadata": {},
     "output_type": "execute_result"
    }
   ],
   "source": [
    "b = torch.LongTensor([[2, 3], [4, 8], [7, 9]])\n",
    "b"
   ]
  },
  {
   "cell_type": "code",
   "execution_count": 9,
   "metadata": {
    "ExecuteTime": {
     "end_time": "2019-09-04T07:36:19.769905Z",
     "start_time": "2019-09-04T07:36:19.764904Z"
    }
   },
   "outputs": [
    {
     "data": {
      "text/plain": [
       "tensor([[0., 0., 0.],\n",
       "        [0., 0., 0.]])"
      ]
     },
     "execution_count": 9,
     "metadata": {},
     "output_type": "execute_result"
    }
   ],
   "source": [
    "c = torch.zeros(2, 3)\n",
    "c"
   ]
  },
  {
   "cell_type": "code",
   "execution_count": 10,
   "metadata": {
    "ExecuteTime": {
     "end_time": "2019-09-04T07:37:22.672393Z",
     "start_time": "2019-09-04T07:37:22.457865Z"
    }
   },
   "outputs": [
    {
     "data": {
      "text/plain": [
       "tensor([[-0.7980, -0.4591],\n",
       "        [-0.5268,  0.6956],\n",
       "        [-0.7297, -0.0186]])"
      ]
     },
     "execution_count": 10,
     "metadata": {},
     "output_type": "execute_result"
    }
   ],
   "source": [
    "d = torch.randn((3, 2))\n",
    "d"
   ]
  },
  {
   "cell_type": "code",
   "execution_count": 11,
   "metadata": {
    "ExecuteTime": {
     "end_time": "2019-09-04T07:37:57.509316Z",
     "start_time": "2019-09-04T07:37:57.452809Z"
    }
   },
   "outputs": [
    {
     "data": {
      "text/plain": [
       "tensor([[-7.9798e-01,  1.0000e+02],\n",
       "        [-5.2678e-01,  6.9562e-01],\n",
       "        [-7.2968e-01, -1.8628e-02]])"
      ]
     },
     "execution_count": 11,
     "metadata": {},
     "output_type": "execute_result"
    }
   ],
   "source": [
    "d[0, 1] = 100\n",
    "d"
   ]
  },
  {
   "cell_type": "code",
   "execution_count": 12,
   "metadata": {
    "ExecuteTime": {
     "end_time": "2019-09-04T07:39:14.331072Z",
     "start_time": "2019-09-04T07:39:14.325571Z"
    }
   },
   "outputs": [
    {
     "data": {
      "text/plain": [
       "array([[2, 3],\n",
       "       [4, 8],\n",
       "       [7, 9]], dtype=int64)"
      ]
     },
     "execution_count": 12,
     "metadata": {},
     "output_type": "execute_result"
    }
   ],
   "source": [
    "numpy_b = b.numpy()\n",
    "numpy_b"
   ]
  },
  {
   "cell_type": "code",
   "execution_count": 14,
   "metadata": {
    "ExecuteTime": {
     "end_time": "2019-09-04T07:40:15.064784Z",
     "start_time": "2019-09-04T07:40:15.037280Z"
    }
   },
   "outputs": [
    {
     "data": {
      "text/plain": [
       "tensor([[2., 3.],\n",
       "        [4., 8.],\n",
       "        [7., 9.]])"
      ]
     },
     "execution_count": 14,
     "metadata": {},
     "output_type": "execute_result"
    }
   ],
   "source": [
    "f_b = b.float()\n",
    "f_b"
   ]
  },
  {
   "cell_type": "code",
   "execution_count": 16,
   "metadata": {
    "ExecuteTime": {
     "end_time": "2019-09-04T07:42:58.034978Z",
     "start_time": "2019-09-04T07:42:48.229733Z"
    }
   },
   "outputs": [
    {
     "name": "stdout",
     "output_type": "stream",
     "text": [
      "tensor([[2., 3.],\n",
      "        [4., 8.],\n",
      "        [7., 9.]], device='cuda:0')\n"
     ]
    }
   ],
   "source": [
    "if torch.cuda.is_available():\n",
    "    a_cuda = a.cuda()\n",
    "    print(a_cuda)"
   ]
  },
  {
   "cell_type": "markdown",
   "metadata": {},
   "source": [
    "### Variable"
   ]
  },
  {
   "cell_type": "code",
   "execution_count": 17,
   "metadata": {
    "ExecuteTime": {
     "end_time": "2019-09-04T07:50:24.173631Z",
     "start_time": "2019-09-04T07:50:24.168130Z"
    }
   },
   "outputs": [],
   "source": [
    "from torch.autograd import Variable"
   ]
  },
  {
   "cell_type": "code",
   "execution_count": 38,
   "metadata": {
    "ExecuteTime": {
     "end_time": "2019-09-04T08:03:04.874728Z",
     "start_time": "2019-09-04T08:03:04.863226Z"
    }
   },
   "outputs": [
    {
     "name": "stdout",
     "output_type": "stream",
     "text": [
      "tensor([2.])\n",
      "tensor([1.])\n",
      "tensor([1.])\n"
     ]
    }
   ],
   "source": [
    "x = Variable(torch.Tensor([1]), requires_grad=True)\n",
    "w = Variable(torch.Tensor([2]), requires_grad=True)\n",
    "b = Variable(torch.Tensor([3]), requires_grad=True)\n",
    "\n",
    "y = w * x + b\n",
    "\n",
    "y.backward()  # 对所有的需要梯度的变量进行求导，标量求导里面的参数可省略\n",
    "print(x.grad)\n",
    "print(w.grad)\n",
    "print(b.grad)"
   ]
  },
  {
   "cell_type": "code",
   "execution_count": 44,
   "metadata": {
    "ExecuteTime": {
     "end_time": "2019-09-04T08:05:56.604034Z",
     "start_time": "2019-09-04T08:05:56.593533Z"
    }
   },
   "outputs": [
    {
     "name": "stdout",
     "output_type": "stream",
     "text": [
      "tensor([ 1.8765, -0.5525, -3.7880], grad_fn=<MulBackward0>)\n",
      "tensor([ 2.0000,  0.2000, 40.0000])\n"
     ]
    }
   ],
   "source": [
    "x = torch.randn(3)\n",
    "x = Variable(x, requires_grad=True)\n",
    "\n",
    "y = x * 2\n",
    "print(y)\n",
    "\n",
    "y.backward(torch.FloatTensor([1, 0.1, 20])) # 原本的梯度需分别乘上对应的值\n",
    "print(x.grad)"
   ]
  },
  {
   "cell_type": "markdown",
   "metadata": {
    "ExecuteTime": {
     "end_time": "2019-09-04T08:01:34.038693Z",
     "start_time": "2019-09-04T08:01:34.031692Z"
    }
   },
   "source": [
    "### Dataset"
   ]
  },
  {
   "cell_type": "code",
   "execution_count": 48,
   "metadata": {
    "ExecuteTime": {
     "end_time": "2019-09-04T08:31:20.771579Z",
     "start_time": "2019-09-04T08:31:20.768079Z"
    }
   },
   "outputs": [],
   "source": [
    "from torchvision.datasets import ImageFolder\n",
    "from torch.utils.data import DataLoader"
   ]
  },
  {
   "cell_type": "code",
   "execution_count": 47,
   "metadata": {
    "ExecuteTime": {
     "end_time": "2019-09-04T08:23:32.870163Z",
     "start_time": "2019-09-04T08:23:32.863162Z"
    }
   },
   "outputs": [],
   "source": [
    "ImageFolder?"
   ]
  },
  {
   "cell_type": "markdown",
   "metadata": {},
   "source": [
    "### nn.Module"
   ]
  },
  {
   "cell_type": "code",
   "execution_count": 49,
   "metadata": {
    "ExecuteTime": {
     "end_time": "2019-09-04T08:50:11.228629Z",
     "start_time": "2019-09-04T08:50:11.222128Z"
    }
   },
   "outputs": [],
   "source": [
    "import torch.nn as nn\n",
    "import torch.nn.functional as F\n",
    "\n",
    "class Model(nn.Module):\n",
    "    def __init__(self):\n",
    "        super(Model, self).__init__()\n",
    "        self.conv1 = nn.Conv2d(1, 20, 5)# submodule: Conv2d\n",
    "        self.conv2 = nn.Conv2d(20, 20, 5)\n",
    "\n",
    "    def forward(self, x):\n",
    "        x = F.relu(self.conv1(x))\n",
    "        return F.relu(self.conv2(x))"
   ]
  },
  {
   "cell_type": "code",
   "execution_count": 52,
   "metadata": {
    "ExecuteTime": {
     "end_time": "2019-09-04T09:09:43.630005Z",
     "start_time": "2019-09-04T09:09:43.585999Z"
    }
   },
   "outputs": [
    {
     "name": "stderr",
     "output_type": "stream",
     "text": [
      "d:\\python36\\deeplearning\\lib\\site-packages\\torch\\serialization.py:256: UserWarning: Couldn't retrieve source code for container of type Model. It won't be checked for correctness upon loading.\n",
      "  \"type \" + obj.__name__ + \". It won't be checked \"\n"
     ]
    }
   ],
   "source": [
    "model = Model()\n",
    "torch.save(model, './model.pth')\n",
    "torch.save(model.state_dict(), './model_state.pth')"
   ]
  },
  {
   "cell_type": "markdown",
   "metadata": {},
   "source": [
    "### 一元线性回归"
   ]
  },
  {
   "cell_type": "code",
   "execution_count": 63,
   "metadata": {
    "ExecuteTime": {
     "end_time": "2019-09-05T01:41:43.779359Z",
     "start_time": "2019-09-05T01:41:43.776359Z"
    }
   },
   "outputs": [],
   "source": [
    "from torch import optim"
   ]
  },
  {
   "cell_type": "code",
   "execution_count": 56,
   "metadata": {
    "ExecuteTime": {
     "end_time": "2019-09-05T01:31:11.060259Z",
     "start_time": "2019-09-05T01:31:11.054258Z"
    }
   },
   "outputs": [],
   "source": [
    "x_train = np.array([[3.3], [4.4], [5.5], [6.71], [6.93], [4.168],\n",
    "                    [9.779], [6.182], [7.59], [2.167], \n",
    "                    [7.042], [10.791], [5.313], [7.997],\n",
    "                    [3.1]], dtype=np.float32)\n",
    "y_train = np.array([[1.7], [2.76], [2.09], [3.19], [1.694], \n",
    "                    [1.573], [3.366], [2.596], [2.53], [1.221], \n",
    "                    [2.827], [3.465], [1.65], [2.904], [1.3]], dtype=np.float32)"
   ]
  },
  {
   "cell_type": "code",
   "execution_count": 80,
   "metadata": {
    "ExecuteTime": {
     "end_time": "2019-09-05T02:09:44.363266Z",
     "start_time": "2019-09-05T02:09:44.111734Z"
    }
   },
   "outputs": [
    {
     "data": {
      "text/plain": [
       "[<matplotlib.lines.Line2D at 0x647c70b8>]"
      ]
     },
     "execution_count": 80,
     "metadata": {},
     "output_type": "execute_result"
    },
    {
     "data": {
      "image/png": "[encoded data removed]",
      "text/plain": [
       "<Figure size 432x288 with 1 Axes>"
      ]
     },
     "metadata": {
      "needs_background": "light"
     },
     "output_type": "display_data"
    }
   ],
   "source": [
    "plt.plot(x_train, y_train, 'ro')"
   ]
  },
  {
   "cell_type": "code",
   "execution_count": 59,
   "metadata": {
    "ExecuteTime": {
     "end_time": "2019-09-05T01:32:08.916106Z",
     "start_time": "2019-09-05T01:32:08.838096Z"
    }
   },
   "outputs": [],
   "source": [
    "x_train = torch.from_numpy(x_train)\n",
    "y_train = torch.from_numpy(y_train)"
   ]
  },
  {
   "cell_type": "code",
   "execution_count": 61,
   "metadata": {
    "ExecuteTime": {
     "end_time": "2019-09-05T01:37:30.998260Z",
     "start_time": "2019-09-05T01:37:30.992759Z"
    }
   },
   "outputs": [],
   "source": [
    "class LinearRegression(nn.Module):\n",
    "    def __init__(self):\n",
    "        super(LinearRegression, self).__init__()\n",
    "        self.linear = nn.Linear(1, 1) # 输入1维，输出1维\n",
    "    \n",
    "    def forward(self, x):\n",
    "        out = self.linear(x)\n",
    "        return out"
   ]
  },
  {
   "cell_type": "code",
   "execution_count": 165,
   "metadata": {
    "ExecuteTime": {
     "end_time": "2019-09-05T08:38:38.032766Z",
     "start_time": "2019-09-05T08:38:35.021383Z"
    },
    "scrolled": true
   },
   "outputs": [
    {
     "name": "stdout",
     "output_type": "stream",
     "text": [
      "tensor(0.9798, device='cuda:0')\n",
      "Epoch [20/1000], loss: 0.979787\n",
      "tensor(0.3648, device='cuda:0')\n",
      "Epoch [40/1000], loss: 0.364849\n",
      "tensor(0.3465, device='cuda:0')\n",
      "Epoch [60/1000], loss: 0.346506\n",
      "tensor(0.3443, device='cuda:0')\n",
      "Epoch [80/1000], loss: 0.344251\n",
      "tensor(0.3424, device='cuda:0')\n",
      "Epoch [100/1000], loss: 0.342447\n",
      "tensor(0.3407, device='cuda:0')\n",
      "Epoch [120/1000], loss: 0.340673\n",
      "tensor(0.3389, device='cuda:0')\n",
      "Epoch [140/1000], loss: 0.338917\n",
      "tensor(0.3372, device='cuda:0')\n",
      "Epoch [160/1000], loss: 0.337180\n",
      "tensor(0.3355, device='cuda:0')\n",
      "Epoch [180/1000], loss: 0.335460\n",
      "tensor(0.3338, device='cuda:0')\n",
      "Epoch [200/1000], loss: 0.333757\n",
      "tensor(0.3321, device='cuda:0')\n",
      "Epoch [220/1000], loss: 0.332072\n",
      "tensor(0.3304, device='cuda:0')\n",
      "Epoch [240/1000], loss: 0.330405\n",
      "tensor(0.3288, device='cuda:0')\n",
      "Epoch [260/1000], loss: 0.328754\n",
      "tensor(0.3271, device='cuda:0')\n",
      "Epoch [280/1000], loss: 0.327120\n",
      "tensor(0.3255, device='cuda:0')\n",
      "Epoch [300/1000], loss: 0.325503\n",
      "tensor(0.3239, device='cuda:0')\n",
      "Epoch [320/1000], loss: 0.323903\n",
      "tensor(0.3223, device='cuda:0')\n",
      "Epoch [340/1000], loss: 0.322318\n",
      "tensor(0.3208, device='cuda:0')\n",
      "Epoch [360/1000], loss: 0.320750\n",
      "tensor(0.3192, device='cuda:0')\n",
      "Epoch [380/1000], loss: 0.319198\n",
      "tensor(0.3177, device='cuda:0')\n",
      "Epoch [400/1000], loss: 0.317662\n",
      "tensor(0.3161, device='cuda:0')\n",
      "Epoch [420/1000], loss: 0.316142\n",
      "tensor(0.3146, device='cuda:0')\n",
      "Epoch [440/1000], loss: 0.314637\n",
      "tensor(0.3131, device='cuda:0')\n",
      "Epoch [460/1000], loss: 0.313147\n",
      "tensor(0.3117, device='cuda:0')\n",
      "Epoch [480/1000], loss: 0.311673\n",
      "tensor(0.3102, device='cuda:0')\n",
      "Epoch [500/1000], loss: 0.310214\n",
      "tensor(0.3088, device='cuda:0')\n",
      "Epoch [520/1000], loss: 0.308770\n",
      "tensor(0.3073, device='cuda:0')\n",
      "Epoch [540/1000], loss: 0.307340\n",
      "tensor(0.3059, device='cuda:0')\n",
      "Epoch [560/1000], loss: 0.305925\n",
      "tensor(0.3045, device='cuda:0')\n",
      "Epoch [580/1000], loss: 0.304525\n",
      "tensor(0.3031, device='cuda:0')\n",
      "Epoch [600/1000], loss: 0.303139\n",
      "tensor(0.3018, device='cuda:0')\n",
      "Epoch [620/1000], loss: 0.301767\n",
      "tensor(0.3004, device='cuda:0')\n",
      "Epoch [640/1000], loss: 0.300409\n",
      "tensor(0.2991, device='cuda:0')\n",
      "Epoch [660/1000], loss: 0.299065\n",
      "tensor(0.2977, device='cuda:0')\n",
      "Epoch [680/1000], loss: 0.297734\n",
      "tensor(0.2964, device='cuda:0')\n",
      "Epoch [700/1000], loss: 0.296418\n",
      "tensor(0.2951, device='cuda:0')\n",
      "Epoch [720/1000], loss: 0.295114\n",
      "tensor(0.2938, device='cuda:0')\n",
      "Epoch [740/1000], loss: 0.293824\n",
      "tensor(0.2925, device='cuda:0')\n",
      "Epoch [760/1000], loss: 0.292548\n",
      "tensor(0.2913, device='cuda:0')\n",
      "Epoch [780/1000], loss: 0.291284\n",
      "tensor(0.2900, device='cuda:0')\n",
      "Epoch [800/1000], loss: 0.290033\n",
      "tensor(0.2888, device='cuda:0')\n",
      "Epoch [820/1000], loss: 0.288795\n",
      "tensor(0.2876, device='cuda:0')\n",
      "Epoch [840/1000], loss: 0.287570\n",
      "tensor(0.2864, device='cuda:0')\n",
      "Epoch [860/1000], loss: 0.286357\n",
      "tensor(0.2852, device='cuda:0')\n",
      "Epoch [880/1000], loss: 0.285156\n",
      "tensor(0.2840, device='cuda:0')\n",
      "Epoch [900/1000], loss: 0.283968\n",
      "tensor(0.2828, device='cuda:0')\n",
      "Epoch [920/1000], loss: 0.282792\n",
      "tensor(0.2816, device='cuda:0')\n",
      "Epoch [940/1000], loss: 0.281628\n",
      "tensor(0.2805, device='cuda:0')\n",
      "Epoch [960/1000], loss: 0.280476\n",
      "tensor(0.2793, device='cuda:0')\n",
      "Epoch [980/1000], loss: 0.279336\n",
      "tensor(0.2782, device='cuda:0')\n",
      "Epoch [1000/1000], loss: 0.278207\n"
     ]
    }
   ],
   "source": [
    "if torch.cuda.is_available():\n",
    "    model = LinearRegression().cuda()\n",
    "else:\n",
    "    model = LinearRegression()\n",
    "\n",
    "# 使用均方误差作为优化函数，使用梯度下降进行优化\n",
    "criterion = nn.MSELoss()\n",
    "optimizer = optim.SGD(model.parameters(), lr=1e-3)\n",
    "\n",
    "# 训练模型\n",
    "num_epochs = 1000\n",
    "for epoch in range(num_epochs):\n",
    "    if torch.cuda.is_available():\n",
    "        inputs = Variable(x_train).cuda()\n",
    "        target = Variable(y_train).cuda()\n",
    "    else:\n",
    "        inputs = Variable(x_train)\n",
    "        target = Variable(y_train)\n",
    "        \n",
    "    # forward\n",
    "    out = model(inputs) # 得到网络前向传播的结果\n",
    "    loss = criterion(out, target) # 得到损失函数\n",
    "    # backward：归零梯度、做反向传播和更新参数\n",
    "    # 每次做反向传播之前都要归零梯度，不然梯度会累加在一起，造成结果不收敛\n",
    "    optimizer.zero_grad() \n",
    "    loss.backward()\n",
    "    optimizer.step()\n",
    "    \n",
    "    if (epoch + 1) % 20 == 0:\n",
    "        print(loss.data)\n",
    "        print('Epoch [{}/{}], loss: {:.6f}'.format(epoch+1, num_epochs, loss.data.item()))"
   ]
  },
  {
   "cell_type": "code",
   "execution_count": 166,
   "metadata": {
    "ExecuteTime": {
     "end_time": "2019-09-05T08:38:44.759620Z",
     "start_time": "2019-09-05T08:38:44.552094Z"
    }
   },
   "outputs": [
    {
     "data": {
      "text/plain": [
       "[<matplotlib.lines.Line2D at 0x785ab5f8>]"
      ]
     },
     "execution_count": 166,
     "metadata": {},
     "output_type": "execute_result"
    },
    {
     "data": {
      "image/png": "[encoded data removed]",
      "text/plain": [
       "<Figure size 432x288 with 1 Axes>"
      ]
     },
     "metadata": {
      "needs_background": "light"
     },
     "output_type": "display_data"
    }
   ],
   "source": [
    "# 因为有一些操作，如Dropout和BatchNormalization在训练和测试的时候是不一样的\n",
    "model.eval() # 将模型变成测试模式\n",
    "# 将测试数据放入网络做前向传播得到结果\n",
    "predict = model(Variable(x_train).cuda())\n",
    "predict = predict.data.cpu().numpy()\n",
    "plt.plot(x_train.numpy(), y_train.numpy(), 'ro', label='Original data')\n",
    "plt.plot(x_train.numpy(), predict, label='Fitting Line')"
   ]
  },
  {
   "cell_type": "markdown",
   "metadata": {},
   "source": [
    "### 多项式回归\n",
    "要拟合方程：\n",
    "$$y=0.9+0.5x+3x^2+2.4x^3$$"
   ]
  },
  {
   "cell_type": "code",
   "execution_count": 84,
   "metadata": {
    "ExecuteTime": {
     "end_time": "2019-09-05T03:31:26.769793Z",
     "start_time": "2019-09-05T03:31:20.017435Z"
    }
   },
   "outputs": [
    {
     "name": "stdout",
     "output_type": "stream",
     "text": [
      "Epoch [1/1000], loss is 63.224606\n",
      "Epoch [2/1000], loss is 329.315826\n",
      "Epoch [3/1000], loss is 74.356514\n",
      "Epoch [4/1000], loss is 16.382524\n",
      "Epoch [5/1000], loss is 23.492283\n",
      "Epoch [6/1000], loss is 34.487183\n",
      "Epoch [7/1000], loss is 22.017040\n",
      "Epoch [8/1000], loss is 19.659861\n",
      "Epoch [9/1000], loss is 317.705627\n",
      "Epoch [10/1000], loss is 99.665833\n",
      "Epoch [11/1000], loss is 86.249809\n",
      "Epoch [12/1000], loss is 26.801586\n",
      "Epoch [13/1000], loss is 13.603171\n",
      "Epoch [14/1000], loss is 104.095947\n",
      "Epoch [15/1000], loss is 52.266541\n",
      "Epoch [16/1000], loss is 68.510231\n",
      "Epoch [17/1000], loss is 137.791687\n",
      "Epoch [18/1000], loss is 94.888817\n",
      "Epoch [19/1000], loss is 8.087149\n",
      "Epoch [20/1000], loss is 68.848000\n",
      "Epoch [21/1000], loss is 27.250633\n",
      "Epoch [22/1000], loss is 52.934765\n",
      "Epoch [23/1000], loss is 92.486443\n",
      "Epoch [24/1000], loss is 99.169388\n",
      "Epoch [25/1000], loss is 54.018593\n",
      "Epoch [26/1000], loss is 43.083260\n",
      "Epoch [27/1000], loss is 57.125820\n",
      "Epoch [28/1000], loss is 26.748274\n",
      "Epoch [29/1000], loss is 17.558388\n",
      "Epoch [30/1000], loss is 47.575722\n",
      "Epoch [31/1000], loss is 22.264954\n",
      "Epoch [32/1000], loss is 20.664547\n",
      "Epoch [33/1000], loss is 25.708973\n",
      "Epoch [34/1000], loss is 21.583662\n",
      "Epoch [35/1000], loss is 8.948771\n",
      "Epoch [36/1000], loss is 68.023315\n",
      "Epoch [37/1000], loss is 85.891113\n",
      "Epoch [38/1000], loss is 9.374353\n",
      "Epoch [39/1000], loss is 28.988689\n",
      "Epoch [40/1000], loss is 29.415543\n",
      "Epoch [41/1000], loss is 8.349035\n",
      "Epoch [42/1000], loss is 14.053583\n",
      "Epoch [43/1000], loss is 5.619810\n",
      "Epoch [44/1000], loss is 20.352295\n",
      "Epoch [45/1000], loss is 7.133629\n",
      "Epoch [46/1000], loss is 7.313571\n",
      "Epoch [47/1000], loss is 18.198036\n",
      "Epoch [48/1000], loss is 10.377436\n",
      "Epoch [49/1000], loss is 28.340050\n",
      "Epoch [50/1000], loss is 24.471390\n",
      "Epoch [51/1000], loss is 13.770575\n",
      "Epoch [52/1000], loss is 42.245087\n",
      "Epoch [53/1000], loss is 28.767830\n",
      "Epoch [54/1000], loss is 16.099052\n",
      "Epoch [55/1000], loss is 26.617926\n",
      "Epoch [56/1000], loss is 17.970287\n",
      "Epoch [57/1000], loss is 9.216566\n",
      "Epoch [58/1000], loss is 12.120790\n",
      "Epoch [59/1000], loss is 16.623135\n",
      "Epoch [60/1000], loss is 20.489285\n",
      "Epoch [61/1000], loss is 6.212613\n",
      "Epoch [62/1000], loss is 14.869363\n",
      "Epoch [63/1000], loss is 27.680099\n",
      "Epoch [64/1000], loss is 11.168653\n",
      "Epoch [65/1000], loss is 12.951176\n",
      "Epoch [66/1000], loss is 10.879645\n",
      "Epoch [67/1000], loss is 111.953934\n",
      "Epoch [68/1000], loss is 16.387737\n",
      "Epoch [69/1000], loss is 18.957682\n",
      "Epoch [70/1000], loss is 12.137594\n",
      "Epoch [71/1000], loss is 7.062840\n",
      "Epoch [72/1000], loss is 10.425329\n",
      "Epoch [73/1000], loss is 26.730114\n",
      "Epoch [74/1000], loss is 20.058159\n",
      "Epoch [75/1000], loss is 8.011697\n",
      "Epoch [76/1000], loss is 4.345951\n",
      "Epoch [77/1000], loss is 18.170855\n",
      "Epoch [78/1000], loss is 8.411118\n",
      "Epoch [79/1000], loss is 13.711472\n",
      "Epoch [80/1000], loss is 13.291862\n",
      "Epoch [81/1000], loss is 22.690865\n",
      "Epoch [82/1000], loss is 6.431776\n",
      "Epoch [83/1000], loss is 14.433247\n",
      "Epoch [84/1000], loss is 8.616602\n",
      "Epoch [85/1000], loss is 6.980820\n",
      "Epoch [86/1000], loss is 7.688818\n",
      "Epoch [87/1000], loss is 12.549536\n",
      "Epoch [88/1000], loss is 9.013425\n",
      "Epoch [89/1000], loss is 4.690794\n",
      "Epoch [90/1000], loss is 9.303780\n",
      "Epoch [91/1000], loss is 5.389143\n",
      "Epoch [92/1000], loss is 9.846096\n",
      "Epoch [93/1000], loss is 10.205618\n",
      "Epoch [94/1000], loss is 8.699264\n",
      "Epoch [95/1000], loss is 14.215757\n",
      "Epoch [96/1000], loss is 8.817525\n",
      "Epoch [97/1000], loss is 13.396349\n",
      "Epoch [98/1000], loss is 4.646986\n",
      "Epoch [99/1000], loss is 4.093242\n",
      "Epoch [100/1000], loss is 6.247394\n",
      "Epoch [101/1000], loss is 19.699734\n",
      "Epoch [102/1000], loss is 15.445243\n",
      "Epoch [103/1000], loss is 14.182935\n",
      "Epoch [104/1000], loss is 10.988373\n",
      "Epoch [105/1000], loss is 12.391867\n",
      "Epoch [106/1000], loss is 13.432920\n",
      "Epoch [107/1000], loss is 4.295188\n",
      "Epoch [108/1000], loss is 6.074369\n",
      "Epoch [109/1000], loss is 4.155910\n",
      "Epoch [110/1000], loss is 5.001525\n",
      "Epoch [111/1000], loss is 7.697752\n",
      "Epoch [112/1000], loss is 3.079071\n",
      "Epoch [113/1000], loss is 14.106192\n",
      "Epoch [114/1000], loss is 3.180401\n",
      "Epoch [115/1000], loss is 5.909230\n",
      "Epoch [116/1000], loss is 8.864508\n",
      "Epoch [117/1000], loss is 2.912938\n",
      "Epoch [118/1000], loss is 8.886683\n",
      "Epoch [119/1000], loss is 7.940982\n",
      "Epoch [120/1000], loss is 6.702977\n",
      "Epoch [121/1000], loss is 5.793108\n",
      "Epoch [122/1000], loss is 7.149605\n",
      "Epoch [123/1000], loss is 11.706169\n",
      "Epoch [124/1000], loss is 3.619518\n",
      "Epoch [125/1000], loss is 6.686639\n",
      "Epoch [126/1000], loss is 8.718517\n",
      "Epoch [127/1000], loss is 3.969534\n",
      "Epoch [128/1000], loss is 7.475869\n",
      "Epoch [129/1000], loss is 3.131342\n",
      "Epoch [130/1000], loss is 5.873147\n",
      "Epoch [131/1000], loss is 4.651498\n",
      "Epoch [132/1000], loss is 7.002849\n",
      "Epoch [133/1000], loss is 4.998413\n",
      "Epoch [134/1000], loss is 5.405918\n",
      "Epoch [135/1000], loss is 2.984213\n",
      "Epoch [136/1000], loss is 4.484004\n",
      "Epoch [137/1000], loss is 5.948805\n",
      "Epoch [138/1000], loss is 5.051860\n",
      "Epoch [139/1000], loss is 3.839983\n",
      "Epoch [140/1000], loss is 3.586357\n",
      "Epoch [141/1000], loss is 3.890215\n",
      "Epoch [142/1000], loss is 7.869212\n",
      "Epoch [143/1000], loss is 6.258024\n",
      "Epoch [144/1000], loss is 3.644588\n",
      "Epoch [145/1000], loss is 3.788451\n",
      "Epoch [146/1000], loss is 1.549424\n",
      "Epoch [147/1000], loss is 3.289852\n",
      "Epoch [148/1000], loss is 3.244192\n",
      "Epoch [149/1000], loss is 4.929492\n",
      "Epoch [150/1000], loss is 5.289368\n",
      "Epoch [151/1000], loss is 2.973160\n",
      "Epoch [152/1000], loss is 5.438227\n",
      "Epoch [153/1000], loss is 8.406643\n",
      "Epoch [154/1000], loss is 3.670663\n",
      "Epoch [155/1000], loss is 2.946363\n",
      "Epoch [156/1000], loss is 4.537876\n",
      "Epoch [157/1000], loss is 3.135699\n",
      "Epoch [158/1000], loss is 3.591346\n",
      "Epoch [159/1000], loss is 2.817339\n",
      "Epoch [160/1000], loss is 5.599522\n",
      "Epoch [161/1000], loss is 2.057923\n",
      "Epoch [162/1000], loss is 4.537023\n",
      "Epoch [163/1000], loss is 4.044760\n",
      "Epoch [164/1000], loss is 2.297012\n",
      "Epoch [165/1000], loss is 2.811432\n",
      "Epoch [166/1000], loss is 1.724779\n",
      "Epoch [167/1000], loss is 4.448313\n",
      "Epoch [168/1000], loss is 5.757042\n",
      "Epoch [169/1000], loss is 5.152149\n",
      "Epoch [170/1000], loss is 3.257161\n",
      "Epoch [171/1000], loss is 1.880212\n",
      "Epoch [172/1000], loss is 2.312360\n",
      "Epoch [173/1000], loss is 3.486102\n",
      "Epoch [174/1000], loss is 3.956205\n",
      "Epoch [175/1000], loss is 3.035501\n",
      "Epoch [176/1000], loss is 3.208203\n",
      "Epoch [177/1000], loss is 2.194418\n",
      "Epoch [178/1000], loss is 2.931766\n",
      "Epoch [179/1000], loss is 1.972570\n",
      "Epoch [180/1000], loss is 3.176348\n",
      "Epoch [181/1000], loss is 3.330443\n",
      "Epoch [182/1000], loss is 2.610820\n",
      "Epoch [183/1000], loss is 2.195152\n",
      "Epoch [184/1000], loss is 4.347718\n",
      "Epoch [185/1000], loss is 2.854067\n",
      "Epoch [186/1000], loss is 3.927043\n",
      "Epoch [187/1000], loss is 4.635510\n",
      "Epoch [188/1000], loss is 2.977109\n",
      "Epoch [189/1000], loss is 2.764881\n",
      "Epoch [190/1000], loss is 2.843855\n",
      "Epoch [191/1000], loss is 2.489624\n",
      "Epoch [192/1000], loss is 4.101924\n",
      "Epoch [193/1000], loss is 1.118961\n",
      "Epoch [194/1000], loss is 1.148319\n",
      "Epoch [195/1000], loss is 2.783620\n",
      "Epoch [196/1000], loss is 3.791783\n",
      "Epoch [197/1000], loss is 1.801742\n",
      "Epoch [198/1000], loss is 2.138424\n",
      "Epoch [199/1000], loss is 1.971564\n",
      "Epoch [200/1000], loss is 3.180693\n",
      "Epoch [201/1000], loss is 1.607490\n",
      "Epoch [202/1000], loss is 1.993026\n",
      "Epoch [203/1000], loss is 1.696953\n",
      "Epoch [204/1000], loss is 1.629127\n",
      "Epoch [205/1000], loss is 1.607617\n",
      "Epoch [206/1000], loss is 1.258683\n",
      "Epoch [207/1000], loss is 1.874903\n",
      "Epoch [208/1000], loss is 1.859514\n",
      "Epoch [209/1000], loss is 1.746919\n",
      "Epoch [210/1000], loss is 1.750500\n",
      "Epoch [211/1000], loss is 2.385007\n",
      "Epoch [212/1000], loss is 1.689773\n",
      "Epoch [213/1000], loss is 1.537627\n",
      "Epoch [214/1000], loss is 1.647087\n",
      "Epoch [215/1000], loss is 0.809374\n",
      "Epoch [216/1000], loss is 1.912931\n",
      "Epoch [217/1000], loss is 2.130362\n",
      "Epoch [218/1000], loss is 0.892428\n",
      "Epoch [219/1000], loss is 1.061502\n",
      "Epoch [220/1000], loss is 3.214129\n",
      "Epoch [221/1000], loss is 1.433934\n",
      "Epoch [222/1000], loss is 1.575100\n",
      "Epoch [223/1000], loss is 1.087346\n",
      "Epoch [224/1000], loss is 0.942730\n",
      "Epoch [225/1000], loss is 1.369895\n",
      "Epoch [226/1000], loss is 0.855259\n",
      "Epoch [227/1000], loss is 1.450803\n",
      "Epoch [228/1000], loss is 1.310290\n",
      "Epoch [229/1000], loss is 1.288096\n",
      "Epoch [230/1000], loss is 1.137184\n",
      "Epoch [231/1000], loss is 0.829261\n",
      "Epoch [232/1000], loss is 2.022361\n",
      "Epoch [233/1000], loss is 1.268462\n",
      "Epoch [234/1000], loss is 1.245485\n"
     ]
    },
    {
     "name": "stdout",
     "output_type": "stream",
     "text": [
      "Epoch [235/1000], loss is 2.099534\n",
      "Epoch [236/1000], loss is 0.998499\n",
      "Epoch [237/1000], loss is 1.154873\n",
      "Epoch [238/1000], loss is 1.171959\n",
      "Epoch [239/1000], loss is 0.874997\n",
      "Epoch [240/1000], loss is 0.745850\n",
      "Epoch [241/1000], loss is 0.992144\n",
      "Epoch [242/1000], loss is 0.594074\n",
      "Epoch [243/1000], loss is 0.729448\n",
      "Epoch [244/1000], loss is 1.032258\n",
      "Epoch [245/1000], loss is 0.588522\n",
      "Epoch [246/1000], loss is 3.141600\n",
      "Epoch [247/1000], loss is 4.811688\n",
      "Epoch [248/1000], loss is 0.838670\n",
      "Epoch [249/1000], loss is 1.313286\n",
      "Epoch [250/1000], loss is 1.097589\n",
      "Epoch [251/1000], loss is 0.826441\n",
      "Epoch [252/1000], loss is 1.465272\n",
      "Epoch [253/1000], loss is 0.729620\n",
      "Epoch [254/1000], loss is 1.336198\n",
      "Epoch [255/1000], loss is 1.657773\n",
      "Epoch [256/1000], loss is 0.985265\n",
      "Epoch [257/1000], loss is 1.133662\n",
      "Epoch [258/1000], loss is 0.666003\n",
      "Epoch [259/1000], loss is 1.516788\n",
      "Epoch [260/1000], loss is 0.859536\n",
      "Epoch [261/1000], loss is 0.613734\n",
      "Epoch [262/1000], loss is 0.980975\n",
      "Epoch [263/1000], loss is 0.448634\n",
      "Epoch [264/1000], loss is 2.301261\n",
      "Epoch [265/1000], loss is 0.792659\n",
      "Epoch [266/1000], loss is 0.892854\n",
      "Epoch [267/1000], loss is 2.789536\n",
      "Epoch [268/1000], loss is 2.115059\n",
      "Epoch [269/1000], loss is 0.543328\n",
      "Epoch [270/1000], loss is 0.619868\n",
      "Epoch [271/1000], loss is 1.037535\n",
      "Epoch [272/1000], loss is 0.958749\n",
      "Epoch [273/1000], loss is 0.728518\n",
      "Epoch [274/1000], loss is 0.798423\n",
      "Epoch [275/1000], loss is 0.855043\n",
      "Epoch [276/1000], loss is 0.725991\n",
      "Epoch [277/1000], loss is 0.432825\n",
      "Epoch [278/1000], loss is 0.532812\n",
      "Epoch [279/1000], loss is 0.516672\n",
      "Epoch [280/1000], loss is 0.519515\n",
      "Epoch [281/1000], loss is 0.911857\n",
      "Epoch [282/1000], loss is 0.945047\n",
      "Epoch [283/1000], loss is 1.217175\n",
      "Epoch [284/1000], loss is 0.768349\n",
      "Epoch [285/1000], loss is 0.517277\n",
      "Epoch [286/1000], loss is 0.683620\n",
      "Epoch [287/1000], loss is 0.578315\n",
      "Epoch [288/1000], loss is 1.049690\n",
      "Epoch [289/1000], loss is 0.733884\n",
      "Epoch [290/1000], loss is 0.514089\n",
      "Epoch [291/1000], loss is 0.553601\n",
      "Epoch [292/1000], loss is 0.429931\n",
      "Epoch [293/1000], loss is 0.470927\n",
      "Epoch [294/1000], loss is 0.397944\n",
      "Epoch [295/1000], loss is 0.944249\n",
      "Epoch [296/1000], loss is 0.529598\n",
      "Epoch [297/1000], loss is 0.741727\n",
      "Epoch [298/1000], loss is 0.625803\n",
      "Epoch [299/1000], loss is 0.437655\n",
      "Epoch [300/1000], loss is 0.346733\n",
      "Epoch [301/1000], loss is 0.465177\n",
      "Epoch [302/1000], loss is 0.610018\n",
      "Epoch [303/1000], loss is 1.278998\n",
      "Epoch [304/1000], loss is 0.349598\n",
      "Epoch [305/1000], loss is 0.394434\n",
      "Epoch [306/1000], loss is 0.324216\n",
      "Epoch [307/1000], loss is 0.642454\n",
      "Epoch [308/1000], loss is 0.361304\n",
      "Epoch [309/1000], loss is 0.543061\n",
      "Epoch [310/1000], loss is 0.900645\n",
      "Epoch [311/1000], loss is 0.373100\n",
      "Epoch [312/1000], loss is 0.541720\n",
      "Epoch [313/1000], loss is 0.507534\n",
      "Epoch [314/1000], loss is 0.400002\n",
      "Epoch [315/1000], loss is 0.290563\n",
      "Epoch [316/1000], loss is 0.563118\n",
      "Epoch [317/1000], loss is 0.320032\n",
      "Epoch [318/1000], loss is 0.278583\n",
      "Epoch [319/1000], loss is 0.445161\n",
      "Epoch [320/1000], loss is 0.423922\n",
      "Epoch [321/1000], loss is 0.476123\n",
      "Epoch [322/1000], loss is 0.609730\n",
      "Epoch [323/1000], loss is 0.349474\n",
      "Epoch [324/1000], loss is 0.247209\n",
      "Epoch [325/1000], loss is 0.454187\n",
      "Epoch [326/1000], loss is 0.274224\n",
      "Epoch [327/1000], loss is 0.287394\n",
      "Epoch [328/1000], loss is 0.411982\n",
      "Epoch [329/1000], loss is 0.344107\n",
      "Epoch [330/1000], loss is 0.346777\n",
      "Epoch [331/1000], loss is 0.364497\n",
      "Epoch [332/1000], loss is 0.432074\n",
      "Epoch [333/1000], loss is 0.419359\n",
      "Epoch [334/1000], loss is 0.283315\n",
      "Epoch [335/1000], loss is 0.337319\n",
      "Epoch [336/1000], loss is 0.354742\n",
      "Epoch [337/1000], loss is 0.195204\n",
      "Epoch [338/1000], loss is 0.348806\n",
      "Epoch [339/1000], loss is 0.322059\n",
      "Epoch [340/1000], loss is 0.322313\n",
      "Epoch [341/1000], loss is 0.213341\n",
      "Epoch [342/1000], loss is 0.277962\n",
      "Epoch [343/1000], loss is 0.508164\n",
      "Epoch [344/1000], loss is 0.207008\n",
      "Epoch [345/1000], loss is 0.355135\n",
      "Epoch [346/1000], loss is 0.285225\n",
      "Epoch [347/1000], loss is 0.388873\n",
      "Epoch [348/1000], loss is 0.260126\n",
      "Epoch [349/1000], loss is 0.258878\n",
      "Epoch [350/1000], loss is 0.444330\n",
      "Epoch [351/1000], loss is 0.194160\n",
      "Epoch [352/1000], loss is 0.246567\n",
      "Epoch [353/1000], loss is 0.257625\n",
      "Epoch [354/1000], loss is 0.442871\n",
      "Epoch [355/1000], loss is 0.302368\n",
      "Epoch [356/1000], loss is 0.185240\n",
      "Epoch [357/1000], loss is 0.308286\n",
      "Epoch [358/1000], loss is 0.236745\n",
      "Epoch [359/1000], loss is 0.248383\n",
      "Epoch [360/1000], loss is 0.267169\n",
      "Epoch [361/1000], loss is 0.188756\n",
      "Epoch [362/1000], loss is 0.184619\n",
      "Epoch [363/1000], loss is 0.316281\n",
      "Epoch [364/1000], loss is 0.192972\n",
      "Epoch [365/1000], loss is 0.236970\n",
      "Epoch [366/1000], loss is 0.192164\n",
      "Epoch [367/1000], loss is 0.295544\n",
      "Epoch [368/1000], loss is 0.224295\n",
      "Epoch [369/1000], loss is 0.157900\n",
      "Epoch [370/1000], loss is 0.234376\n",
      "Epoch [371/1000], loss is 0.203402\n",
      "Epoch [372/1000], loss is 0.236494\n",
      "Epoch [373/1000], loss is 0.149778\n",
      "Epoch [374/1000], loss is 0.147079\n",
      "Epoch [375/1000], loss is 0.198898\n",
      "Epoch [376/1000], loss is 0.147591\n",
      "Epoch [377/1000], loss is 0.210684\n",
      "Epoch [378/1000], loss is 0.247587\n",
      "Epoch [379/1000], loss is 0.125631\n",
      "Epoch [380/1000], loss is 0.197909\n",
      "Epoch [381/1000], loss is 0.156614\n",
      "Epoch [382/1000], loss is 0.206680\n",
      "Epoch [383/1000], loss is 0.193134\n",
      "Epoch [384/1000], loss is 0.220353\n",
      "Epoch [385/1000], loss is 0.238681\n",
      "Epoch [386/1000], loss is 0.152089\n",
      "Epoch [387/1000], loss is 0.138830\n",
      "Epoch [388/1000], loss is 0.187212\n",
      "Epoch [389/1000], loss is 0.151776\n",
      "Epoch [390/1000], loss is 0.162428\n",
      "Epoch [391/1000], loss is 0.703208\n",
      "Epoch [392/1000], loss is 0.174412\n",
      "Epoch [393/1000], loss is 0.205896\n",
      "Epoch [394/1000], loss is 0.166783\n",
      "Epoch [395/1000], loss is 0.169423\n",
      "Epoch [396/1000], loss is 0.164256\n",
      "Epoch [397/1000], loss is 0.143965\n",
      "Epoch [398/1000], loss is 0.165712\n",
      "Epoch [399/1000], loss is 0.682793\n",
      "Epoch [400/1000], loss is 0.121115\n",
      "Epoch [401/1000], loss is 0.347920\n",
      "Epoch [402/1000], loss is 0.192633\n",
      "Epoch [403/1000], loss is 0.149293\n",
      "Epoch [404/1000], loss is 0.154817\n",
      "Epoch [405/1000], loss is 0.155546\n",
      "Epoch [406/1000], loss is 0.221446\n",
      "Epoch [407/1000], loss is 0.205761\n",
      "Epoch [408/1000], loss is 0.152656\n",
      "Epoch [409/1000], loss is 0.126035\n",
      "Epoch [410/1000], loss is 0.132170\n",
      "Epoch [411/1000], loss is 0.133478\n",
      "Epoch [412/1000], loss is 0.090413\n",
      "Epoch [413/1000], loss is 0.133908\n",
      "Epoch [414/1000], loss is 0.123241\n",
      "Epoch [415/1000], loss is 0.145696\n",
      "Epoch [416/1000], loss is 0.143445\n",
      "Epoch [417/1000], loss is 0.128965\n",
      "Epoch [418/1000], loss is 0.145859\n",
      "Epoch [419/1000], loss is 0.148434\n",
      "Epoch [420/1000], loss is 0.121503\n",
      "Epoch [421/1000], loss is 0.128738\n",
      "Epoch [422/1000], loss is 0.151790\n",
      "Epoch [423/1000], loss is 0.151835\n",
      "Epoch [424/1000], loss is 0.089383\n",
      "Epoch [425/1000], loss is 0.184622\n",
      "Epoch [426/1000], loss is 0.132067\n",
      "Epoch [427/1000], loss is 0.118399\n",
      "Epoch [428/1000], loss is 0.153593\n",
      "Epoch [429/1000], loss is 0.078828\n",
      "Epoch [430/1000], loss is 0.115308\n",
      "Epoch [431/1000], loss is 0.134512\n",
      "Epoch [432/1000], loss is 0.074101\n",
      "Epoch [433/1000], loss is 0.105513\n",
      "Epoch [434/1000], loss is 0.092204\n",
      "Epoch [435/1000], loss is 0.146258\n",
      "Epoch [436/1000], loss is 0.129244\n",
      "Epoch [437/1000], loss is 0.120843\n",
      "Epoch [438/1000], loss is 0.125036\n",
      "Epoch [439/1000], loss is 0.105230\n",
      "Epoch [440/1000], loss is 0.120319\n",
      "Epoch [441/1000], loss is 0.111373\n",
      "Epoch [442/1000], loss is 0.145175\n",
      "Epoch [443/1000], loss is 0.084030\n",
      "Epoch [444/1000], loss is 0.094353\n",
      "Epoch [445/1000], loss is 0.068678\n",
      "Epoch [446/1000], loss is 0.091190\n",
      "Epoch [447/1000], loss is 0.101899\n",
      "Epoch [448/1000], loss is 0.129758\n",
      "Epoch [449/1000], loss is 0.113985\n",
      "Epoch [450/1000], loss is 0.070305\n",
      "Epoch [451/1000], loss is 0.090240\n",
      "Epoch [452/1000], loss is 0.052822\n",
      "Epoch [453/1000], loss is 0.079325\n",
      "Epoch [454/1000], loss is 0.081696\n",
      "Epoch [455/1000], loss is 0.131301\n",
      "Epoch [456/1000], loss is 0.078529\n",
      "Epoch [457/1000], loss is 0.093407\n",
      "Epoch [458/1000], loss is 0.121570\n",
      "Epoch [459/1000], loss is 0.088395\n",
      "Epoch [460/1000], loss is 0.083641\n",
      "Epoch [461/1000], loss is 0.121768\n",
      "Epoch [462/1000], loss is 0.093317\n",
      "Epoch [463/1000], loss is 0.078161\n",
      "Epoch [464/1000], loss is 0.066775\n",
      "Epoch [465/1000], loss is 0.064357\n",
      "Epoch [466/1000], loss is 0.086572\n",
      "Epoch [467/1000], loss is 0.113271\n",
      "Epoch [468/1000], loss is 0.106835\n"
     ]
    },
    {
     "name": "stdout",
     "output_type": "stream",
     "text": [
      "Epoch [469/1000], loss is 0.062361\n",
      "Epoch [470/1000], loss is 0.106506\n",
      "Epoch [471/1000], loss is 0.082008\n",
      "Epoch [472/1000], loss is 0.081699\n",
      "Epoch [473/1000], loss is 0.080612\n",
      "Epoch [474/1000], loss is 0.067685\n",
      "Epoch [475/1000], loss is 0.102461\n",
      "Epoch [476/1000], loss is 0.066415\n",
      "Epoch [477/1000], loss is 0.071387\n",
      "Epoch [478/1000], loss is 0.063666\n",
      "Epoch [479/1000], loss is 0.059320\n",
      "Epoch [480/1000], loss is 0.076988\n",
      "Epoch [481/1000], loss is 0.064498\n",
      "Epoch [482/1000], loss is 0.071336\n",
      "Epoch [483/1000], loss is 0.076633\n",
      "Epoch [484/1000], loss is 0.072159\n",
      "Epoch [485/1000], loss is 0.094227\n",
      "Epoch [486/1000], loss is 0.079218\n",
      "Epoch [487/1000], loss is 0.062626\n",
      "Epoch [488/1000], loss is 0.072352\n",
      "Epoch [489/1000], loss is 0.066883\n",
      "Epoch [490/1000], loss is 0.073188\n",
      "Epoch [491/1000], loss is 0.075444\n",
      "Epoch [492/1000], loss is 0.053299\n",
      "Epoch [493/1000], loss is 0.085390\n",
      "Epoch [494/1000], loss is 0.055746\n",
      "Epoch [495/1000], loss is 0.055252\n",
      "Epoch [496/1000], loss is 0.065712\n",
      "Epoch [497/1000], loss is 0.064956\n",
      "Epoch [498/1000], loss is 0.050369\n",
      "Epoch [499/1000], loss is 0.093737\n",
      "Epoch [500/1000], loss is 0.346469\n",
      "Epoch [501/1000], loss is 0.069831\n",
      "Epoch [502/1000], loss is 0.045766\n",
      "Epoch [503/1000], loss is 0.076632\n",
      "Epoch [504/1000], loss is 0.062038\n",
      "Epoch [505/1000], loss is 0.066713\n",
      "Epoch [506/1000], loss is 0.067306\n",
      "Epoch [507/1000], loss is 0.060829\n",
      "Epoch [508/1000], loss is 0.048554\n",
      "Epoch [509/1000], loss is 0.054729\n",
      "Epoch [510/1000], loss is 0.073483\n",
      "Epoch [511/1000], loss is 0.049802\n",
      "Epoch [512/1000], loss is 0.071198\n",
      "Epoch [513/1000], loss is 0.055433\n",
      "Epoch [514/1000], loss is 0.053963\n",
      "Epoch [515/1000], loss is 0.061856\n",
      "Epoch [516/1000], loss is 0.072070\n",
      "Epoch [517/1000], loss is 0.064101\n",
      "Epoch [518/1000], loss is 0.058539\n",
      "Epoch [519/1000], loss is 0.043495\n",
      "Epoch [520/1000], loss is 0.046301\n",
      "Epoch [521/1000], loss is 0.050280\n",
      "Epoch [522/1000], loss is 0.029201\n",
      "Epoch [523/1000], loss is 0.059371\n",
      "Epoch [524/1000], loss is 0.062407\n",
      "Epoch [525/1000], loss is 0.050680\n",
      "Epoch [526/1000], loss is 0.049314\n",
      "Epoch [527/1000], loss is 0.054897\n",
      "Epoch [528/1000], loss is 0.057819\n",
      "Epoch [529/1000], loss is 0.048334\n",
      "Epoch [530/1000], loss is 0.068240\n",
      "Epoch [531/1000], loss is 0.067902\n",
      "Epoch [532/1000], loss is 0.046320\n",
      "Epoch [533/1000], loss is 0.059317\n",
      "Epoch [534/1000], loss is 0.044228\n",
      "Epoch [535/1000], loss is 0.055161\n",
      "Epoch [536/1000], loss is 0.052388\n",
      "Epoch [537/1000], loss is 0.077556\n",
      "Epoch [538/1000], loss is 0.051084\n",
      "Epoch [539/1000], loss is 0.054967\n",
      "Epoch [540/1000], loss is 0.045361\n",
      "Epoch [541/1000], loss is 0.040927\n",
      "Epoch [542/1000], loss is 0.033302\n",
      "Epoch [543/1000], loss is 0.067407\n",
      "Epoch [544/1000], loss is 0.051524\n",
      "Epoch [545/1000], loss is 0.059439\n",
      "Epoch [546/1000], loss is 0.038346\n",
      "Epoch [547/1000], loss is 0.040371\n",
      "Epoch [548/1000], loss is 0.045633\n",
      "Epoch [549/1000], loss is 0.031288\n",
      "Epoch [550/1000], loss is 0.046381\n",
      "Epoch [551/1000], loss is 0.052419\n",
      "Epoch [552/1000], loss is 0.041710\n",
      "Epoch [553/1000], loss is 0.037417\n",
      "Epoch [554/1000], loss is 0.041319\n",
      "Epoch [555/1000], loss is 0.053346\n",
      "Epoch [556/1000], loss is 0.025223\n",
      "Epoch [557/1000], loss is 0.057731\n",
      "Epoch [558/1000], loss is 0.038471\n",
      "Epoch [559/1000], loss is 0.043467\n",
      "Epoch [560/1000], loss is 0.028615\n",
      "Epoch [561/1000], loss is 0.037230\n",
      "Epoch [562/1000], loss is 0.043406\n",
      "Epoch [563/1000], loss is 0.040985\n",
      "Epoch [564/1000], loss is 0.037589\n",
      "Epoch [565/1000], loss is 0.039806\n",
      "Epoch [566/1000], loss is 0.046862\n",
      "Epoch [567/1000], loss is 0.043106\n",
      "Epoch [568/1000], loss is 0.059312\n",
      "Epoch [569/1000], loss is 0.037168\n",
      "Epoch [570/1000], loss is 0.031711\n",
      "Epoch [571/1000], loss is 0.047097\n",
      "Epoch [572/1000], loss is 0.032231\n",
      "Epoch [573/1000], loss is 0.039824\n",
      "Epoch [574/1000], loss is 0.045682\n",
      "Epoch [575/1000], loss is 0.034143\n",
      "Epoch [576/1000], loss is 0.033638\n",
      "Epoch [577/1000], loss is 0.033664\n",
      "Epoch [578/1000], loss is 0.055464\n",
      "Epoch [579/1000], loss is 0.039946\n",
      "Epoch [580/1000], loss is 0.038888\n",
      "Epoch [581/1000], loss is 0.033611\n",
      "Epoch [582/1000], loss is 0.037060\n",
      "Epoch [583/1000], loss is 0.029207\n",
      "Epoch [584/1000], loss is 0.030387\n",
      "Epoch [585/1000], loss is 0.031088\n",
      "Epoch [586/1000], loss is 0.045106\n",
      "Epoch [587/1000], loss is 0.039946\n",
      "Epoch [588/1000], loss is 0.035894\n",
      "Epoch [589/1000], loss is 0.039784\n",
      "Epoch [590/1000], loss is 0.036444\n",
      "Epoch [591/1000], loss is 0.040895\n",
      "Epoch [592/1000], loss is 0.032176\n",
      "Epoch [593/1000], loss is 0.040274\n",
      "Epoch [594/1000], loss is 0.035247\n",
      "Epoch [595/1000], loss is 0.032333\n",
      "Epoch [596/1000], loss is 0.032626\n",
      "Epoch [597/1000], loss is 0.034379\n",
      "Epoch [598/1000], loss is 0.066045\n",
      "Epoch [599/1000], loss is 0.027314\n",
      "Epoch [600/1000], loss is 0.032580\n",
      "Epoch [601/1000], loss is 0.048779\n",
      "Epoch [602/1000], loss is 0.040694\n",
      "Epoch [603/1000], loss is 0.025716\n",
      "Epoch [604/1000], loss is 0.033726\n",
      "Epoch [605/1000], loss is 0.041773\n",
      "Epoch [606/1000], loss is 0.027999\n",
      "Epoch [607/1000], loss is 0.029471\n",
      "Epoch [608/1000], loss is 0.024821\n",
      "Epoch [609/1000], loss is 0.021508\n",
      "Epoch [610/1000], loss is 0.033948\n",
      "Epoch [611/1000], loss is 0.026636\n",
      "Epoch [612/1000], loss is 0.024845\n",
      "Epoch [613/1000], loss is 0.034039\n",
      "Epoch [614/1000], loss is 0.032444\n",
      "Epoch [615/1000], loss is 0.034616\n",
      "Epoch [616/1000], loss is 0.034305\n",
      "Epoch [617/1000], loss is 0.041983\n",
      "Epoch [618/1000], loss is 0.041204\n",
      "Epoch [619/1000], loss is 0.032730\n",
      "Epoch [620/1000], loss is 0.024099\n",
      "Epoch [621/1000], loss is 0.029598\n",
      "Epoch [622/1000], loss is 0.028673\n",
      "Epoch [623/1000], loss is 0.026816\n",
      "Epoch [624/1000], loss is 0.033043\n",
      "Epoch [625/1000], loss is 0.033606\n",
      "Epoch [626/1000], loss is 0.025205\n",
      "Epoch [627/1000], loss is 0.032455\n",
      "Epoch [628/1000], loss is 0.036439\n",
      "Epoch [629/1000], loss is 0.027421\n",
      "Epoch [630/1000], loss is 0.030034\n",
      "Epoch [631/1000], loss is 0.031753\n",
      "Epoch [632/1000], loss is 0.035221\n",
      "Epoch [633/1000], loss is 0.047742\n",
      "Epoch [634/1000], loss is 0.028970\n",
      "Epoch [635/1000], loss is 0.040149\n",
      "Epoch [636/1000], loss is 0.030232\n",
      "Epoch [637/1000], loss is 0.040601\n",
      "Epoch [638/1000], loss is 0.032085\n",
      "Epoch [639/1000], loss is 0.033696\n",
      "Epoch [640/1000], loss is 0.022037\n",
      "Epoch [641/1000], loss is 0.028671\n",
      "Epoch [642/1000], loss is 0.040480\n",
      "Epoch [643/1000], loss is 0.028663\n",
      "Epoch [644/1000], loss is 0.029694\n",
      "Epoch [645/1000], loss is 0.031600\n",
      "Epoch [646/1000], loss is 0.035705\n",
      "Epoch [647/1000], loss is 0.028806\n",
      "Epoch [648/1000], loss is 0.044463\n",
      "Epoch [649/1000], loss is 0.025744\n",
      "Epoch [650/1000], loss is 0.028927\n",
      "Epoch [651/1000], loss is 0.046879\n",
      "Epoch [652/1000], loss is 0.038804\n",
      "Epoch [653/1000], loss is 0.026479\n",
      "Epoch [654/1000], loss is 0.028564\n",
      "Epoch [655/1000], loss is 0.028642\n",
      "Epoch [656/1000], loss is 0.142481\n",
      "Epoch [657/1000], loss is 0.022269\n",
      "Epoch [658/1000], loss is 0.035278\n",
      "Epoch [659/1000], loss is 0.028298\n",
      "Epoch [660/1000], loss is 0.046860\n",
      "Epoch [661/1000], loss is 0.030233\n",
      "Epoch [662/1000], loss is 0.039635\n",
      "Epoch [663/1000], loss is 0.019581\n",
      "Epoch [664/1000], loss is 0.025633\n",
      "Epoch [665/1000], loss is 0.023249\n",
      "Epoch [666/1000], loss is 0.023653\n",
      "Epoch [667/1000], loss is 0.025933\n",
      "Epoch [668/1000], loss is 0.025789\n",
      "Epoch [669/1000], loss is 0.037193\n",
      "Epoch [670/1000], loss is 0.028016\n",
      "Epoch [671/1000], loss is 0.031058\n",
      "Epoch [672/1000], loss is 0.031889\n",
      "Epoch [673/1000], loss is 0.028729\n",
      "Epoch [674/1000], loss is 0.035877\n",
      "Epoch [675/1000], loss is 0.025045\n",
      "Epoch [676/1000], loss is 0.022538\n",
      "Epoch [677/1000], loss is 0.027138\n",
      "Epoch [678/1000], loss is 0.025082\n",
      "Epoch [679/1000], loss is 0.025379\n",
      "Epoch [680/1000], loss is 0.023667\n",
      "Epoch [681/1000], loss is 0.024489\n",
      "Epoch [682/1000], loss is 0.026259\n",
      "Epoch [683/1000], loss is 0.033099\n",
      "Epoch [684/1000], loss is 0.030564\n",
      "Epoch [685/1000], loss is 0.024029\n",
      "Epoch [686/1000], loss is 0.022810\n",
      "Epoch [687/1000], loss is 0.022309\n",
      "Epoch [688/1000], loss is 0.027827\n",
      "Epoch [689/1000], loss is 0.020305\n",
      "Epoch [690/1000], loss is 0.024440\n",
      "Epoch [691/1000], loss is 0.025852\n",
      "Epoch [692/1000], loss is 0.027484\n",
      "Epoch [693/1000], loss is 0.013380\n",
      "Epoch [694/1000], loss is 0.017871\n",
      "Epoch [695/1000], loss is 0.052387\n",
      "Epoch [696/1000], loss is 0.018463\n",
      "Epoch [697/1000], loss is 0.020858\n",
      "Epoch [698/1000], loss is 0.025605\n",
      "Epoch [699/1000], loss is 0.034501\n",
      "Epoch [700/1000], loss is 0.019475\n",
      "Epoch [701/1000], loss is 0.021625\n",
      "Epoch [702/1000], loss is 0.028285\n"
     ]
    },
    {
     "name": "stdout",
     "output_type": "stream",
     "text": [
      "Epoch [703/1000], loss is 0.019783\n",
      "Epoch [704/1000], loss is 0.019891\n",
      "Epoch [705/1000], loss is 0.026112\n",
      "Epoch [706/1000], loss is 0.030874\n",
      "Epoch [707/1000], loss is 0.028098\n",
      "Epoch [708/1000], loss is 0.019887\n",
      "Epoch [709/1000], loss is 0.028157\n",
      "Epoch [710/1000], loss is 0.025010\n",
      "Epoch [711/1000], loss is 0.020332\n",
      "Epoch [712/1000], loss is 0.025555\n",
      "Epoch [713/1000], loss is 0.018243\n",
      "Epoch [714/1000], loss is 0.025911\n",
      "Epoch [715/1000], loss is 0.023960\n",
      "Epoch [716/1000], loss is 0.024499\n",
      "Epoch [717/1000], loss is 0.019204\n",
      "Epoch [718/1000], loss is 0.032801\n",
      "Epoch [719/1000], loss is 0.019981\n",
      "Epoch [720/1000], loss is 0.019318\n",
      "Epoch [721/1000], loss is 0.029490\n",
      "Epoch [722/1000], loss is 0.019178\n",
      "Epoch [723/1000], loss is 0.027234\n",
      "Epoch [724/1000], loss is 0.019855\n",
      "Epoch [725/1000], loss is 0.026031\n",
      "Epoch [726/1000], loss is 0.020191\n",
      "Epoch [727/1000], loss is 0.019968\n",
      "Epoch [728/1000], loss is 0.032317\n",
      "Epoch [729/1000], loss is 0.020192\n",
      "Epoch [730/1000], loss is 0.015636\n",
      "Epoch [731/1000], loss is 0.020429\n",
      "Epoch [732/1000], loss is 0.023529\n",
      "Epoch [733/1000], loss is 0.022476\n",
      "Epoch [734/1000], loss is 0.023219\n",
      "Epoch [735/1000], loss is 0.030899\n",
      "Epoch [736/1000], loss is 0.027822\n",
      "Epoch [737/1000], loss is 0.025576\n",
      "Epoch [738/1000], loss is 0.027991\n",
      "Epoch [739/1000], loss is 0.021065\n",
      "Epoch [740/1000], loss is 0.021108\n",
      "Epoch [741/1000], loss is 0.021534\n",
      "Epoch [742/1000], loss is 0.021586\n",
      "Epoch [743/1000], loss is 0.021296\n",
      "Epoch [744/1000], loss is 0.021148\n",
      "Epoch [745/1000], loss is 0.016959\n",
      "Epoch [746/1000], loss is 0.021824\n",
      "Epoch [747/1000], loss is 0.025710\n",
      "Epoch [748/1000], loss is 0.016679\n",
      "Epoch [749/1000], loss is 0.023281\n",
      "Epoch [750/1000], loss is 0.025737\n",
      "Epoch [751/1000], loss is 0.022490\n",
      "Epoch [752/1000], loss is 0.018452\n",
      "Epoch [753/1000], loss is 0.021945\n",
      "Epoch [754/1000], loss is 0.018220\n",
      "Epoch [755/1000], loss is 0.018810\n",
      "Epoch [756/1000], loss is 0.016108\n",
      "Epoch [757/1000], loss is 0.014370\n",
      "Epoch [758/1000], loss is 0.018941\n",
      "Epoch [759/1000], loss is 0.018736\n",
      "Epoch [760/1000], loss is 0.020596\n",
      "Epoch [761/1000], loss is 0.020588\n",
      "Epoch [762/1000], loss is 0.019297\n",
      "Epoch [763/1000], loss is 0.024301\n",
      "Epoch [764/1000], loss is 0.018787\n",
      "Epoch [765/1000], loss is 0.022713\n",
      "Epoch [766/1000], loss is 0.018350\n",
      "Epoch [767/1000], loss is 0.021877\n",
      "Epoch [768/1000], loss is 0.017257\n",
      "Epoch [769/1000], loss is 0.024511\n",
      "Epoch [770/1000], loss is 0.018887\n",
      "Epoch [771/1000], loss is 0.019941\n",
      "Epoch [772/1000], loss is 0.018172\n",
      "Epoch [773/1000], loss is 0.017686\n",
      "Epoch [774/1000], loss is 0.015989\n",
      "Epoch [775/1000], loss is 0.016971\n",
      "Epoch [776/1000], loss is 0.037169\n",
      "Epoch [777/1000], loss is 0.034293\n",
      "Epoch [778/1000], loss is 0.019057\n",
      "Epoch [779/1000], loss is 0.025192\n",
      "Epoch [780/1000], loss is 0.014540\n",
      "Epoch [781/1000], loss is 0.016996\n",
      "Epoch [782/1000], loss is 0.017503\n",
      "Epoch [783/1000], loss is 0.027593\n",
      "Epoch [784/1000], loss is 0.017603\n",
      "Epoch [785/1000], loss is 0.020186\n",
      "Epoch [786/1000], loss is 0.017360\n",
      "Epoch [787/1000], loss is 0.018731\n",
      "Epoch [788/1000], loss is 0.042081\n",
      "Epoch [789/1000], loss is 0.024587\n",
      "Epoch [790/1000], loss is 0.017420\n",
      "Epoch [791/1000], loss is 0.016065\n",
      "Epoch [792/1000], loss is 0.019378\n",
      "Epoch [793/1000], loss is 0.016709\n",
      "Epoch [794/1000], loss is 0.016380\n",
      "Epoch [795/1000], loss is 0.024778\n",
      "Epoch [796/1000], loss is 0.023881\n",
      "Epoch [797/1000], loss is 0.020388\n",
      "Epoch [798/1000], loss is 0.020426\n",
      "Epoch [799/1000], loss is 0.020505\n",
      "Epoch [800/1000], loss is 0.016369\n",
      "Epoch [801/1000], loss is 0.014913\n",
      "Epoch [802/1000], loss is 0.015390\n",
      "Epoch [803/1000], loss is 0.022167\n",
      "Epoch [804/1000], loss is 0.018162\n",
      "Epoch [805/1000], loss is 0.021036\n",
      "Epoch [806/1000], loss is 0.019056\n",
      "Epoch [807/1000], loss is 0.020197\n",
      "Epoch [808/1000], loss is 0.015865\n",
      "Epoch [809/1000], loss is 0.017409\n",
      "Epoch [810/1000], loss is 0.013723\n",
      "Epoch [811/1000], loss is 0.013028\n",
      "Epoch [812/1000], loss is 0.021112\n",
      "Epoch [813/1000], loss is 0.016357\n",
      "Epoch [814/1000], loss is 0.014962\n",
      "Epoch [815/1000], loss is 0.014443\n",
      "Epoch [816/1000], loss is 0.022238\n",
      "Epoch [817/1000], loss is 0.015320\n",
      "Epoch [818/1000], loss is 0.015251\n",
      "Epoch [819/1000], loss is 0.011758\n",
      "Epoch [820/1000], loss is 0.017521\n",
      "Epoch [821/1000], loss is 0.020717\n",
      "Epoch [822/1000], loss is 0.016930\n",
      "Epoch [823/1000], loss is 0.029331\n",
      "Epoch [824/1000], loss is 0.015995\n",
      "Epoch [825/1000], loss is 0.016983\n",
      "Epoch [826/1000], loss is 0.023460\n",
      "Epoch [827/1000], loss is 0.019114\n",
      "Epoch [828/1000], loss is 0.013353\n",
      "Epoch [829/1000], loss is 0.015618\n",
      "Epoch [830/1000], loss is 0.016140\n",
      "Epoch [831/1000], loss is 0.019199\n",
      "Epoch [832/1000], loss is 0.018624\n",
      "Epoch [833/1000], loss is 0.014842\n",
      "Epoch [834/1000], loss is 0.016845\n",
      "Epoch [835/1000], loss is 0.020023\n",
      "Epoch [836/1000], loss is 0.014990\n",
      "Epoch [837/1000], loss is 0.019085\n",
      "Epoch [838/1000], loss is 0.013027\n",
      "Epoch [839/1000], loss is 0.012823\n",
      "Epoch [840/1000], loss is 0.016657\n",
      "Epoch [841/1000], loss is 0.015353\n",
      "Epoch [842/1000], loss is 0.012249\n",
      "Epoch [843/1000], loss is 0.034074\n",
      "Epoch [844/1000], loss is 0.030678\n",
      "Epoch [845/1000], loss is 0.017990\n",
      "Epoch [846/1000], loss is 0.014668\n",
      "Epoch [847/1000], loss is 0.014841\n",
      "Epoch [848/1000], loss is 0.016224\n",
      "Epoch [849/1000], loss is 0.018543\n",
      "Epoch [850/1000], loss is 0.015259\n",
      "Epoch [851/1000], loss is 0.014957\n",
      "Epoch [852/1000], loss is 0.014895\n",
      "Epoch [853/1000], loss is 0.017055\n",
      "Epoch [854/1000], loss is 0.013383\n",
      "Epoch [855/1000], loss is 0.014326\n",
      "Epoch [856/1000], loss is 0.028881\n",
      "Epoch [857/1000], loss is 0.018695\n",
      "Epoch [858/1000], loss is 0.015739\n",
      "Epoch [859/1000], loss is 0.012855\n",
      "Epoch [860/1000], loss is 0.037972\n",
      "Epoch [861/1000], loss is 0.017048\n",
      "Epoch [862/1000], loss is 0.018997\n",
      "Epoch [863/1000], loss is 0.015211\n",
      "Epoch [864/1000], loss is 0.014942\n",
      "Epoch [865/1000], loss is 0.010328\n",
      "Epoch [866/1000], loss is 0.032960\n",
      "Epoch [867/1000], loss is 0.016227\n",
      "Epoch [868/1000], loss is 0.015253\n",
      "Epoch [869/1000], loss is 0.032288\n",
      "Epoch [870/1000], loss is 0.017868\n",
      "Epoch [871/1000], loss is 0.017739\n",
      "Epoch [872/1000], loss is 0.015066\n",
      "Epoch [873/1000], loss is 0.016815\n",
      "Epoch [874/1000], loss is 0.014023\n",
      "Epoch [875/1000], loss is 0.015375\n",
      "Epoch [876/1000], loss is 0.017050\n",
      "Epoch [877/1000], loss is 0.024112\n",
      "Epoch [878/1000], loss is 0.018269\n",
      "Epoch [879/1000], loss is 0.015311\n",
      "Epoch [880/1000], loss is 0.007816\n",
      "Epoch [881/1000], loss is 0.016327\n",
      "Epoch [882/1000], loss is 0.015377\n",
      "Epoch [883/1000], loss is 0.014112\n",
      "Epoch [884/1000], loss is 0.012580\n",
      "Epoch [885/1000], loss is 0.015229\n",
      "Epoch [886/1000], loss is 0.011453\n",
      "Epoch [887/1000], loss is 0.015160\n",
      "Epoch [888/1000], loss is 0.012953\n",
      "Epoch [889/1000], loss is 0.012551\n",
      "Epoch [890/1000], loss is 0.014205\n",
      "Epoch [891/1000], loss is 0.019557\n",
      "Epoch [892/1000], loss is 0.012613\n",
      "Epoch [893/1000], loss is 0.016376\n",
      "Epoch [894/1000], loss is 0.013067\n",
      "Epoch [895/1000], loss is 0.019579\n",
      "Epoch [896/1000], loss is 0.012973\n",
      "Epoch [897/1000], loss is 0.013309\n",
      "Epoch [898/1000], loss is 0.046231\n",
      "Epoch [899/1000], loss is 0.018293\n",
      "Epoch [900/1000], loss is 0.013928\n",
      "Epoch [901/1000], loss is 0.015549\n",
      "Epoch [902/1000], loss is 0.011005\n",
      "Epoch [903/1000], loss is 0.012237\n",
      "Epoch [904/1000], loss is 0.027963\n",
      "Epoch [905/1000], loss is 0.008985\n",
      "Epoch [906/1000], loss is 0.016188\n",
      "Epoch [907/1000], loss is 0.014985\n",
      "Epoch [908/1000], loss is 0.019340\n",
      "Epoch [909/1000], loss is 0.014642\n",
      "Epoch [910/1000], loss is 0.018946\n",
      "Epoch [911/1000], loss is 0.017436\n",
      "Epoch [912/1000], loss is 0.014371\n",
      "Epoch [913/1000], loss is 0.014584\n",
      "Epoch [914/1000], loss is 0.012716\n",
      "Epoch [915/1000], loss is 0.028825\n",
      "Epoch [916/1000], loss is 0.013459\n",
      "Epoch [917/1000], loss is 0.016811\n",
      "Epoch [918/1000], loss is 0.012604\n",
      "Epoch [919/1000], loss is 0.011523\n",
      "Epoch [920/1000], loss is 0.013139\n",
      "Epoch [921/1000], loss is 0.015140\n",
      "Epoch [922/1000], loss is 0.011685\n",
      "Epoch [923/1000], loss is 0.015477\n",
      "Epoch [924/1000], loss is 0.015120\n",
      "Epoch [925/1000], loss is 0.014112\n",
      "Epoch [926/1000], loss is 0.014605\n",
      "Epoch [927/1000], loss is 0.011759\n",
      "Epoch [928/1000], loss is 0.010723\n",
      "Epoch [929/1000], loss is 0.013257\n",
      "Epoch [930/1000], loss is 0.012629\n",
      "Epoch [931/1000], loss is 0.020748\n",
      "Epoch [932/1000], loss is 0.010603\n",
      "Epoch [933/1000], loss is 0.013194\n",
      "Epoch [934/1000], loss is 0.028416\n",
      "Epoch [935/1000], loss is 0.021595\n",
      "Epoch [936/1000], loss is 0.013827\n"
     ]
    },
    {
     "name": "stdout",
     "output_type": "stream",
     "text": [
      "Epoch [937/1000], loss is 0.015503\n",
      "Epoch [938/1000], loss is 0.014611\n",
      "Epoch [939/1000], loss is 0.016966\n",
      "Epoch [940/1000], loss is 0.014794\n",
      "Epoch [941/1000], loss is 0.010461\n",
      "Epoch [942/1000], loss is 0.016052\n",
      "Epoch [943/1000], loss is 0.012073\n",
      "Epoch [944/1000], loss is 0.012925\n",
      "Epoch [945/1000], loss is 0.013264\n",
      "Epoch [946/1000], loss is 0.016711\n",
      "Epoch [947/1000], loss is 0.011192\n",
      "Epoch [948/1000], loss is 0.011081\n",
      "Epoch [949/1000], loss is 0.009707\n",
      "Epoch [950/1000], loss is 0.014360\n",
      "Epoch [951/1000], loss is 0.018376\n",
      "Epoch [952/1000], loss is 0.012923\n",
      "Epoch [953/1000], loss is 0.011620\n",
      "Epoch [954/1000], loss is 0.014544\n",
      "Epoch [955/1000], loss is 0.017397\n",
      "Epoch [956/1000], loss is 0.014591\n",
      "Epoch [957/1000], loss is 0.011933\n",
      "Epoch [958/1000], loss is 0.013439\n",
      "Epoch [959/1000], loss is 0.016259\n",
      "Epoch [960/1000], loss is 0.011760\n",
      "Epoch [961/1000], loss is 0.013333\n",
      "Epoch [962/1000], loss is 0.010855\n",
      "Epoch [963/1000], loss is 0.010191\n",
      "Epoch [964/1000], loss is 0.012641\n",
      "Epoch [965/1000], loss is 0.010097\n",
      "Epoch [966/1000], loss is 0.013006\n",
      "Epoch [967/1000], loss is 0.009605\n",
      "Epoch [968/1000], loss is 0.011780\n",
      "Epoch [969/1000], loss is 0.010265\n",
      "Epoch [970/1000], loss is 0.011432\n",
      "Epoch [971/1000], loss is 0.011110\n",
      "Epoch [972/1000], loss is 0.010913\n",
      "Epoch [973/1000], loss is 0.011757\n",
      "Epoch [974/1000], loss is 0.014598\n",
      "Epoch [975/1000], loss is 0.010348\n",
      "Epoch [976/1000], loss is 0.012576\n",
      "Epoch [977/1000], loss is 0.013522\n",
      "Epoch [978/1000], loss is 0.009890\n",
      "Epoch [979/1000], loss is 0.011252\n",
      "Epoch [980/1000], loss is 0.011033\n",
      "Epoch [981/1000], loss is 0.015095\n",
      "Epoch [982/1000], loss is 0.030698\n",
      "Epoch [983/1000], loss is 0.009395\n",
      "Epoch [984/1000], loss is 0.031671\n",
      "Epoch [985/1000], loss is 0.010872\n",
      "Epoch [986/1000], loss is 0.012165\n",
      "Epoch [987/1000], loss is 0.013214\n",
      "Epoch [988/1000], loss is 0.014809\n",
      "Epoch [989/1000], loss is 0.010939\n",
      "Epoch [990/1000], loss is 0.009547\n",
      "Epoch [991/1000], loss is 0.008872\n",
      "Epoch [992/1000], loss is 0.009213\n",
      "Epoch [993/1000], loss is 0.028429\n",
      "Epoch [994/1000], loss is 0.023257\n",
      "Epoch [995/1000], loss is 0.011394\n",
      "Epoch [996/1000], loss is 0.038106\n",
      "Epoch [997/1000], loss is 0.030948\n",
      "Epoch [998/1000], loss is 0.013721\n",
      "Epoch [999/1000], loss is 0.010219\n",
      "Epoch [1000/1000], loss is 0.010866\n"
     ]
    }
   ],
   "source": [
    "def make_features(x):\n",
    "    x = x.unsqueeze(1) # 将tensor大小从(n,)变成(n,1)\n",
    "    return torch.cat([x**i for i in range(1, 4)], 1)\n",
    "\n",
    "W_target = torch.FloatTensor([0.5, 3, 2.4]).unsqueeze(1)\n",
    "b_target = torch.FloatTensor([0.9])\n",
    "\n",
    "def f(x):\n",
    "    return x.mm(W_target) + b_target[0]\n",
    "\n",
    "# 随机生成一些数来得到每次的训练集\n",
    "def get_batch(batch_size=32):\n",
    "    random = torch.randn(batch_size)\n",
    "    x = make_features(random) # x大小为32*3\n",
    "    y = f(x) # y大小为32*1\n",
    "    if torch.cuda.is_available():\n",
    "        return Variable(x).cuda(), Variable(y).cuda()\n",
    "    else:\n",
    "        return Variable(x), Variable(y)\n",
    "    \n",
    "class poly_model(nn.Module):\n",
    "    def __init__(self):\n",
    "        super(poly_model, self).__init__()\n",
    "        self.poly = nn.Linear(3, 1)\n",
    "    \n",
    "    def forward(self, x):\n",
    "        out = self.poly(x)\n",
    "        return out\n",
    "    \n",
    "if torch.cuda.is_available():\n",
    "    model = poly_model().cuda()\n",
    "else:\n",
    "    model = poly_model()\n",
    "    \n",
    "criterion = nn.MSELoss()\n",
    "optimizer = optim.SGD(model.parameters(), lr=1e-3)\n",
    "\n",
    "num_epoch = 1000\n",
    "for i in range(num_epoch):\n",
    "    batch_x, batch_y = get_batch()\n",
    "    \n",
    "    out = model(batch_x)\n",
    "    loss = criterion(out, batch_y)\n",
    "    \n",
    "    optimizer.zero_grad()\n",
    "    loss.backward()\n",
    "    optimizer.step()\n",
    "    print('Epoch [{}/{}], loss is {:.6f}'.format(i+1, num_epoch, loss.data.item()))"
   ]
  },
  {
   "cell_type": "code",
   "execution_count": 92,
   "metadata": {
    "ExecuteTime": {
     "end_time": "2019-09-05T03:37:03.251520Z",
     "start_time": "2019-09-05T03:37:03.015991Z"
    }
   },
   "outputs": [
    {
     "data": {
      "text/plain": [
       "[<matplotlib.lines.Line2D at 0x715f7a20>]"
      ]
     },
     "execution_count": 92,
     "metadata": {},
     "output_type": "execute_result"
    },
    {
     "data": {
      "image/png": "[encoded data removed]",
      "text/plain": [
       "<Figure size 432x288 with 1 Axes>"
      ]
     },
     "metadata": {
      "needs_background": "light"
     },
     "output_type": "display_data"
    }
   ],
   "source": [
    "batch_x, batch_y = get_batch()\n",
    "\n",
    "model.eval()\n",
    "predict = model(batch_x)\n",
    "predict = predict.data.cpu().numpy()\n",
    "plt.plot(batch_x.cpu().numpy()[:,0], batch_y.cpu().numpy(), 'bo')\n",
    "plt.plot(batch_x.cpu().numpy()[:,0], predict, 'ro')"
   ]
  },
  {
   "cell_type": "markdown",
   "metadata": {
    "ExecuteTime": {
     "end_time": "2019-09-05T06:01:12.991398Z",
     "start_time": "2019-09-05T06:01:12.983897Z"
    }
   },
   "source": [
    "### Logistic回归"
   ]
  },
  {
   "cell_type": "code",
   "execution_count": 151,
   "metadata": {
    "ExecuteTime": {
     "end_time": "2019-09-05T08:27:55.381660Z",
     "start_time": "2019-09-05T08:27:55.378159Z"
    }
   },
   "outputs": [],
   "source": [
    "import pandas as pd\n",
    "import numpy as np"
   ]
  },
  {
   "cell_type": "code",
   "execution_count": 196,
   "metadata": {
    "ExecuteTime": {
     "end_time": "2019-09-05T08:58:34.618213Z",
     "start_time": "2019-09-05T08:58:34.610212Z"
    }
   },
   "outputs": [],
   "source": [
    "# 数据类型\n",
    "with open('data.txt') as f:\n",
    "    data_list = f.readlines()\n",
    "    data_list = [i.split('\\n')[0] for i in data_list]\n",
    "    data_list = [i.split(',') for i in data_list]\n",
    "    data_list = [[float(i[0]), float(i[1]), float(i[2])] for i in data_list]"
   ]
  },
  {
   "cell_type": "code",
   "execution_count": 197,
   "metadata": {
    "ExecuteTime": {
     "end_time": "2019-09-05T08:58:35.801863Z",
     "start_time": "2019-09-05T08:58:35.792862Z"
    }
   },
   "outputs": [],
   "source": [
    "data = pd.DataFrame(data_list, columns=['x', 'y', 'label'])\n",
    "data0 = data[data.label == 0]\n",
    "data1 = data[data.label == 1]"
   ]
  },
  {
   "cell_type": "code",
   "execution_count": 198,
   "metadata": {
    "ExecuteTime": {
     "end_time": "2019-09-05T08:58:36.520955Z",
     "start_time": "2019-09-05T08:58:36.291925Z"
    }
   },
   "outputs": [
    {
     "data": {
      "text/plain": [
       "<matplotlib.legend.Legend at 0x77836320>"
      ]
     },
     "execution_count": 198,
     "metadata": {},
     "output_type": "execute_result"
    },
    {
     "data": {
      "image/png": "[encoded data removed]",
      "text/plain": [
       "<Figure size 432x288 with 1 Axes>"
      ]
     },
     "metadata": {
      "needs_background": "light"
     },
     "output_type": "display_data"
    }
   ],
   "source": [
    "plt.plot(data0.x, data0.y, 'ro', label='label 0')\n",
    "plt.plot(data1.x, data1.y, 'bo', label='label 1')\n",
    "plt.legend()"
   ]
  },
  {
   "cell_type": "code",
   "execution_count": 199,
   "metadata": {
    "ExecuteTime": {
     "end_time": "2019-09-05T08:58:36.990014Z",
     "start_time": "2019-09-05T08:58:36.981013Z"
    }
   },
   "outputs": [],
   "source": [
    "x_data = torch.from_numpy(data[['x', 'y']].values).type(torch.FloatTensor)\n",
    "y_data = torch.from_numpy(data[['label']].values).type(torch.FloatTensor)"
   ]
  },
  {
   "cell_type": "code",
   "execution_count": 200,
   "metadata": {
    "ExecuteTime": {
     "end_time": "2019-09-05T08:58:37.775614Z",
     "start_time": "2019-09-05T08:58:37.759112Z"
    }
   },
   "outputs": [
    {
     "name": "stdout",
     "output_type": "stream",
     "text": [
      "shape of x_data: torch.Size([100, 2])\n",
      "shape pf y_data: torch.Size([100, 1])\n"
     ]
    }
   ],
   "source": [
    "print('shape of x_data:', x_data.size())\n",
    "print('shape pf y_data:', y_data.size())"
   ]
  },
  {
   "cell_type": "code",
   "execution_count": 201,
   "metadata": {
    "ExecuteTime": {
     "end_time": "2019-09-05T08:59:28.790092Z",
     "start_time": "2019-09-05T08:58:38.447699Z"
    },
    "scrolled": true
   },
   "outputs": [
    {
     "name": "stdout",
     "output_type": "stream",
     "text": [
      "********************\n",
      "epoch 1000\n",
      "loss is 0.5994\n",
      "acc is 0.6000\n",
      "********************\n",
      "epoch 2000\n",
      "loss is 0.5594\n",
      "acc is 0.6500\n",
      "********************\n",
      "epoch 3000\n",
      "loss is 0.5256\n",
      "acc is 0.6600\n",
      "********************\n",
      "epoch 4000\n",
      "loss is 0.4970\n",
      "acc is 0.7500\n",
      "********************\n",
      "epoch 5000\n",
      "loss is 0.4725\n",
      "acc is 0.7700\n",
      "********************\n",
      "epoch 6000\n",
      "loss is 0.4515\n",
      "acc is 0.8300\n",
      "********************\n",
      "epoch 7000\n",
      "loss is 0.4333\n",
      "acc is 0.8500\n",
      "********************\n",
      "epoch 8000\n",
      "loss is 0.4174\n",
      "acc is 0.8700\n",
      "********************\n",
      "epoch 9000\n",
      "loss is 0.4035\n",
      "acc is 0.8900\n",
      "********************\n",
      "epoch 10000\n",
      "loss is 0.3912\n",
      "acc is 0.9000\n"
     ]
    }
   ],
   "source": [
    "class LogisticRegression(nn.Module):\n",
    "    def __init__(self):\n",
    "        super(LogisticRegression, self).__init__()\n",
    "        self.lr = nn.Linear(2, 1)\n",
    "        self.sm = nn.Sigmoid()\n",
    "        \n",
    "    def forward(self, x):\n",
    "        x = self.lr(x)\n",
    "        out = self.sm(x)\n",
    "        return out\n",
    "    \n",
    "lg_model = LogisticRegression()\n",
    "if torch.cuda.is_available():\n",
    "    lg_model.cuda()\n",
    "    \n",
    "criterion = nn.BCELoss()\n",
    "optimizer = optim.SGD(lg_model.parameters(), lr=1e-3, momentum=0.9)\n",
    "\n",
    "for epoch in range(10000):\n",
    "    if torch.cuda.is_available():\n",
    "        x = Variable(x_data).cuda()\n",
    "        y = Variable(y_data).cuda()\n",
    "    else:\n",
    "        x = Variable(x_data)\n",
    "        y = Variable(y_data)\n",
    "        \n",
    "    out = lg_model(x)\n",
    "    loss = criterion(out, y)\n",
    "    print_loss = loss.data.item()\n",
    "    mask = out.ge(0.5).float()\n",
    "    correct = (mask == y).sum()\n",
    "    acc = correct.data.item() / x.size()[0]\n",
    "\n",
    "    optimizer.zero_grad()\n",
    "    loss.backward()\n",
    "    optimizer.step()\n",
    "    if (epoch + 1) % 1000 == 0:\n",
    "        print('*' * 20)\n",
    "        print('epoch {}'.format(epoch+1))\n",
    "        print('loss is {:.4f}'.format(print_loss))\n",
    "        print('acc is {:.4f}'.format(acc))"
   ]
  },
  {
   "cell_type": "code",
   "execution_count": 189,
   "metadata": {
    "ExecuteTime": {
     "end_time": "2019-09-05T08:56:30.656972Z",
     "start_time": "2019-09-05T08:56:30.430943Z"
    }
   },
   "outputs": [
    {
     "data": {
      "text/plain": [
       "<matplotlib.legend.Legend at 0x7891b4e0>"
      ]
     },
     "execution_count": 189,
     "metadata": {},
     "output_type": "execute_result"
    },
    {
     "data": {
      "image/png": "[encoded data removed]",
      "text/plain": [
       "<Figure size 432x288 with 1 Axes>"
      ]
     },
     "metadata": {
      "needs_background": "light"
     },
     "output_type": "display_data"
    }
   ],
   "source": [
    "w0, w1 = lg_model.lr.weight[0]\n",
    "w0 = w0.data.item()\n",
    "w1 = w1.data.item()\n",
    "b = lg_model.lr.bias.item()\n",
    "\n",
    "plot_x = np.arange(30, 100, 0.1)\n",
    "plot_y = (-w0 * plot_x - b) / w1\n",
    "plt.plot(plot_x, plot_y)\n",
    "plt.plot(data0.x, data0.y, 'ro', label='label 0')\n",
    "plt.plot(data1.x, data1.y, 'bo', label='label 1')\n",
    "plt.legend()"
   ]
  },
  {
   "cell_type": "code",
   "execution_count": 219,
   "metadata": {
    "ExecuteTime": {
     "end_time": "2019-09-05T09:04:06.626373Z",
     "start_time": "2019-09-05T09:04:06.616871Z"
    }
   },
   "outputs": [
    {
     "data": {
      "text/plain": [
       "torch.Size([1, 2])"
      ]
     },
     "execution_count": 219,
     "metadata": {},
     "output_type": "execute_result"
    }
   ],
   "source": [
    "lg_model.lr.weight.data.shape"
   ]
  },
  {
   "cell_type": "markdown",
   "metadata": {
    "ExecuteTime": {
     "end_time": "2019-09-05T09:04:14.918926Z",
     "start_time": "2019-09-05T09:04:14.911425Z"
    }
   },
   "source": [
    "### MNIST"
   ]
  },
  {
   "cell_type": "code",
   "execution_count": 233,
   "metadata": {
    "ExecuteTime": {
     "end_time": "2019-09-06T07:14:10.884561Z",
     "start_time": "2019-09-06T07:14:10.874060Z"
    }
   },
   "outputs": [],
   "source": [
    "class SimpleNet(nn.Module):\n",
    "    def __init__(self, in_dim, n_hidden_1, n_hidden_2, out_dim):\n",
    "        super(SimpleNet, self).__init__()\n",
    "        self.layer1 = nn.Linear(in_dim, n_hidden_1)\n",
    "        self.layer2 = nn.Linear(n_hidden_1, n_hidden_2)\n",
    "        self.layer3 = nn.Linear(n_hidden_2, out_dim)\n",
    "        \n",
    "    def forward(self, x):\n",
    "        x = self.layer1(x)\n",
    "        x = self.layer2(x)\n",
    "        x = self.layer3(x)\n",
    "        return x"
   ]
  },
  {
   "cell_type": "code",
   "execution_count": 237,
   "metadata": {
    "ExecuteTime": {
     "end_time": "2019-09-06T07:24:14.899761Z",
     "start_time": "2019-09-06T07:24:14.891260Z"
    }
   },
   "outputs": [],
   "source": [
    "class ActivationNet(nn.Module):\n",
    "    def __init__(self, in_dim, n_hidden_1, n_hidden_2, out_dim):\n",
    "        super(ActivationNet, self).__init__()\n",
    "        self.layer1 = nn.Sequential(\n",
    "                        nn.Linear(in_dim, n_hidden_1),\n",
    "                        nn.ReLU(True))\n",
    "        self.layer2 = nn.Sequential(\n",
    "                        nn.Linear(n_hidden_1, n_hidden_2),\n",
    "                        nn.ReLU(True))\n",
    "        self.layer3 = nn.Sequential(nn.Linear(n_hidden_2, out_dim))\n",
    "        \n",
    "    def forward(self, x):\n",
    "        x = self.layer1(x)\n",
    "        x = self.layer2(x)\n",
    "        x = self.layer3(x)\n",
    "        return x"
   ]
  },
  {
   "cell_type": "code",
   "execution_count": 235,
   "metadata": {
    "ExecuteTime": {
     "end_time": "2019-09-06T07:14:14.817061Z",
     "start_time": "2019-09-06T07:14:14.804059Z"
    }
   },
   "outputs": [],
   "source": [
    "class BatchNet(nn.Module):\n",
    "    def __init__(self, in_dim, n_hidden_1, n_hidden_2, out_dim):\n",
    "        super(BatchNet, self).__init__()\n",
    "        self.layer1 = nn.Sequential(\n",
    "                        nn.Linear(in_dim, n_hidden_1),\n",
    "                        nn.BatchNorm1d(n_hidden_1),\n",
    "                        nn.ReLU(True))\n",
    "        self.layer2 = nn.Sequential(\n",
    "                        nn.Linear(n_hidden_1, n_hidden_2),\n",
    "                        nn.BatchNorm1d(n_hidden_2),\n",
    "                        nn.ReLU(True))\n",
    "        self.layer3 = nn.Sequential(nn.Linear(n_hidden_2, out_dim))\n",
    "        \n",
    "    def forward(self, x):\n",
    "        x = self.layer1(x)\n",
    "        x = self.layer2(x)\n",
    "        x = self.layer3(x)\n",
    "        return x"
   ]
  },
  {
   "cell_type": "code",
   "execution_count": 227,
   "metadata": {
    "ExecuteTime": {
     "end_time": "2019-09-06T06:26:47.183457Z",
     "start_time": "2019-09-06T06:26:47.177956Z"
    }
   },
   "outputs": [],
   "source": [
    "import torch\n",
    "from torch import nn, optim\n",
    "from torch.autograd import Variable\n",
    "from torch.utils.data import DataLoader\n",
    "from torchvision import datasets, transforms"
   ]
  },
  {
   "cell_type": "code",
   "execution_count": 249,
   "metadata": {
    "ExecuteTime": {
     "end_time": "2019-09-06T08:35:21.159007Z",
     "start_time": "2019-09-06T08:27:19.110295Z"
    },
    "scrolled": false
   },
   "outputs": [
    {
     "name": "stdout",
     "output_type": "stream",
     "text": [
      "Epoch [0/20], loss: 0.275592\n",
      "Epoch [1/20], loss: 0.175772\n",
      "Epoch [2/20], loss: 0.115321\n",
      "Epoch [3/20], loss: 0.055003\n",
      "Epoch [4/20], loss: 0.087683\n",
      "Epoch [5/20], loss: 0.115100\n",
      "Epoch [6/20], loss: 0.056059\n",
      "Epoch [7/20], loss: 0.035070\n",
      "Epoch [8/20], loss: 0.094161\n",
      "Epoch [9/20], loss: 0.054084\n",
      "Epoch [10/20], loss: 0.031510\n",
      "Epoch [11/20], loss: 0.024199\n",
      "Epoch [12/20], loss: 0.012185\n",
      "Epoch [13/20], loss: 0.005978\n",
      "Epoch [14/20], loss: 0.011481\n",
      "Epoch [15/20], loss: 0.007811\n",
      "Epoch [16/20], loss: 0.031229\n",
      "Epoch [17/20], loss: 0.015977\n",
      "Epoch [18/20], loss: 0.037560\n",
      "Epoch [19/20], loss: 0.026304\n"
     ]
    }
   ],
   "source": [
    "batch_size = 64\n",
    "learning_rate = 1e-2\n",
    "num_epoches = 20\n",
    "\n",
    "data_tf = transforms.Compose(\n",
    "            [transforms.ToTensor(),\n",
    "             transforms.Normalize([0.5], [0.5])]) # 减去0.5再除以0.5\n",
    "train_dataset = datasets.MNIST(root='./data', train=True, transform=data_tf, download=True)\n",
    "test_dataset = datasets.MNIST(root='./data', train=False, transform=data_tf)\n",
    "train_loader = DataLoader(train_dataset, batch_size=batch_size, shuffle=True)\n",
    "test_loader = DataLoader(test_dataset, batch_size=batch_size, shuffle=False)\n",
    "\n",
    "model = BatchNet(28 * 28, 300, 100, 10)\n",
    "if torch.cuda.is_available():\n",
    "    model.cuda()\n",
    "    \n",
    "criterion = nn.CrossEntropyLoss()\n",
    "optimizer = optim.SGD(model.parameters(), lr=learning_rate)\n",
    "\n",
    "for epoch in range(num_epoches):\n",
    "    train_loss = 0.0\n",
    "    for batch_x, batch_y in train_loader:\n",
    "        # shape of batch_x: [64, 1, 28, 28]\n",
    "        # shape of batch_y: [64]\n",
    "        if torch.cuda.is_available():\n",
    "            batch_x = Variable(batch_x.view(-1, 28*28)).cuda()\n",
    "            batch_y = Variable(batch_y).cuda()\n",
    "        else:\n",
    "            batch_x = Variable(batch_x.view(-1, 28*28))\n",
    "            batch_y = Variable(batch_y)\n",
    "        \n",
    "        out = model(batch_x)\n",
    "        loss = criterion(out, batch_y)\n",
    "        \n",
    "        optimizer.zero_grad()\n",
    "        loss.backward()\n",
    "        optimizer.step()\n",
    "        train_loss = loss.data.item()\n",
    "    print('Epoch [{}/{}], loss: {:.6f}'.format(epoch, num_epoches, train_loss))"
   ]
  },
  {
   "cell_type": "code",
   "execution_count": 250,
   "metadata": {
    "ExecuteTime": {
     "end_time": "2019-09-06T08:35:42.604231Z",
     "start_time": "2019-09-06T08:35:39.882385Z"
    }
   },
   "outputs": [
    {
     "name": "stderr",
     "output_type": "stream",
     "text": [
      "d:\\python36\\deeplearning\\lib\\site-packages\\ipykernel_launcher.py:8: UserWarning: volatile was removed and now has no effect. Use `with torch.no_grad():` instead.\n",
      "  \n",
      "d:\\python36\\deeplearning\\lib\\site-packages\\ipykernel_launcher.py:9: UserWarning: volatile was removed and now has no effect. Use `with torch.no_grad():` instead.\n",
      "  if __name__ == '__main__':\n"
     ]
    },
    {
     "name": "stdout",
     "output_type": "stream",
     "text": [
      "Test Loss: 0.057900, Acc: 0.982600\n"
     ]
    }
   ],
   "source": [
    "model.eval()\n",
    "eval_loss = 0.0\n",
    "eval_acc = 0.0\n",
    "for data in test_loader:\n",
    "    img, label = data\n",
    "    img = img.view(img.size(0), -1)\n",
    "    if torch.cuda.is_available():\n",
    "        img = Variable(img, volatile=True).cuda()\n",
    "        label = Variable(label, volatile=True).cuda()\n",
    "    else:\n",
    "        img = Variable(img, volatile=True)\n",
    "        label = Variable(label, volatile=True)\n",
    "    \n",
    "    out = model(img)\n",
    "    loss = criterion(out, label)\n",
    "    eval_loss += loss.data.item() * label.size(0)\n",
    "    _, pred = torch.max(out, 1)\n",
    "    num_corrent = (pred == label).sum()\n",
    "    eval_acc += num_corrent.item()\n",
    "    \n",
    "print('Test Loss: {:.6f}, Acc: {:.6f}'.format(eval_loss / len(test_dataset), eval_acc / len(test_dataset)))"
   ]
  },
  {
   "cell_type": "code",
   "execution_count": null,
   "metadata": {},
   "outputs": [],
   "source": []
  },
  {
   "cell_type": "code",
   "execution_count": 230,
   "metadata": {
    "ExecuteTime": {
     "end_time": "2019-09-06T06:57:39.307647Z",
     "start_time": "2019-09-06T06:57:39.299646Z"
    }
   },
   "outputs": [],
   "source": [
    "datasets.MNIST?"
   ]
  }
 ],
 "metadata": {
  "kernelspec": {
   "display_name": "Python 3",
   "language": "python",
   "name": "python3"
  },
  "language_info": {
   "codemirror_mode": {
    "name": "ipython",
    "version": 3
   },
   "file_extension": ".py",
   "mimetype": "text/x-python",
   "name": "python",
   "nbconvert_exporter": "python",
   "pygments_lexer": "ipython3",
   "version": "3.6.6"
  },
  "toc": {
   "base_numbering": 1,
   "nav_menu": {},
   "number_sections": true,
   "sideBar": true,
   "skip_h1_title": false,
   "title_cell": "Table of Contents",
   "title_sidebar": "Contents",
   "toc_cell": false,
   "toc_position": {},
   "toc_section_display": true,
   "toc_window_display": true
  },
  "varInspector": {
   "cols": {
    "lenName": 16,
    "lenType": 16,
    "lenVar": 40
   },
   "kernels_config": {
    "python": {
     "delete_cmd_postfix": "",
     "delete_cmd_prefix": "del ",
     "library": "var_list.py",
     "varRefreshCmd": "print(var_dic_list())"
    },
    "r": {
     "delete_cmd_postfix": ") ",
     "delete_cmd_prefix": "rm(",
     "library": "var_list.r",
     "varRefreshCmd": "cat(var_dic_list()) "
    }
   },
   "types_to_exclude": [
    "module",
    "function",
    "builtin_function_or_method",
    "instance",
    "_Feature"
   ],
   "window_display": false
  }
 },
 "nbformat": 4,
 "nbformat_minor": 2
}
