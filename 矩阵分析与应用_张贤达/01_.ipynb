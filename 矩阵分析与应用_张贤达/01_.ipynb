{
 "cells": [
  {
   "cell_type": "markdown",
   "metadata": {},
   "source": [
    "定义：若$A=[a_{ij}]$是一个$m\\times n$矩阵，则$A$的转置记作$A^T$，是一个$n\\times m$矩阵，定义为$[A^T]_{ij}=a_{ji}$；矩阵$A$的复数共轭$A^*$定义为$[A^*]_{ij}=a^*_{ij}$；复共轭转置记作$A^H$，定义为$[A^H]_{ij}=a^*_{ji}$\n",
    "\n",
    "共轭转置又叫Hermitian转置。满足$A^H=A$的正方复矩阵称为Hermitian矩阵。"
   ]
  },
  {
   "cell_type": "markdown",
   "metadata": {},
   "source": [
    "定义：$m\\times n$矩阵$A=[a_{ij}]$与$r\\times 1$向量$x=[x_1,x_2,\\cdots,x_r]^T$的乘积$Ax$只有当$n=r$时才存在，它是一个$m\\times 1$向量，定义为：$$|Ax|_i=\\sum_{j=1}^na_{ij}x_j,\\ \\ i=1,2,\\cdots,m$$\n",
    "\n",
    "定义：$m\\times n$矩阵$A=[a_{ij}]$与$r\\times s$矩阵$B=[b_{ij}]$的乘积$AB$只有当$n=r$时才存在，它是一个$m\\times s$矩阵，定义为：$$|AB|_{ij}=\\sum_{k=1}^na_{ik}b_{kj},\\ \\ i=1,2,\\cdots,m;\\ j=1,2,\\cdots,s$$"
   ]
  },
  {
   "cell_type": "markdown",
   "metadata": {},
   "source": [
    "_________\n",
    "矩阵与向量的乘积$Ax=y$可视为向量$x$的线性变换结果。"
   ]
  }
 ],
 "metadata": {
  "kernelspec": {
   "display_name": "Python 3",
   "language": "python",
   "name": "python3"
  },
  "language_info": {
   "codemirror_mode": {
    "name": "ipython",
    "version": 3
   },
   "file_extension": ".py",
   "mimetype": "text/x-python",
   "name": "python",
   "nbconvert_exporter": "python",
   "pygments_lexer": "ipython3",
   "version": "3.6.6"
  },
  "toc": {
   "base_numbering": 1,
   "nav_menu": {},
   "number_sections": true,
   "sideBar": true,
   "skip_h1_title": false,
   "title_cell": "Table of Contents",
   "title_sidebar": "Contents",
   "toc_cell": false,
   "toc_position": {},
   "toc_section_display": true,
   "toc_window_display": false
  },
  "varInspector": {
   "cols": {
    "lenName": 16,
    "lenType": 16,
    "lenVar": 40
   },
   "kernels_config": {
    "python": {
     "delete_cmd_postfix": "",
     "delete_cmd_prefix": "del ",
     "library": "var_list.py",
     "varRefreshCmd": "print(var_dic_list())"
    },
    "r": {
     "delete_cmd_postfix": ") ",
     "delete_cmd_prefix": "rm(",
     "library": "var_list.r",
     "varRefreshCmd": "cat(var_dic_list()) "
    }
   },
   "types_to_exclude": [
    "module",
    "function",
    "builtin_function_or_method",
    "instance",
    "_Feature"
   ],
   "window_display": false
  }
 },
 "nbformat": 4,
 "nbformat_minor": 2
}
