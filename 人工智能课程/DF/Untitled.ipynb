{
 "cells": [
  {
   "cell_type": "code",
   "execution_count": 97,
   "metadata": {
    "ExecuteTime": {
     "end_time": "2019-09-03T08:03:52.065782Z",
     "start_time": "2019-09-03T08:03:52.052781Z"
    }
   },
   "outputs": [],
   "source": [
    "from sklearn.preprocessing import PolynomialFeatures\n",
    "from sklearn.preprocessing import StandardScaler\n",
    "from sklearn.preprocessing import MinMaxScaler\n",
    "from sklearn.preprocessing import LabelEncoder\n",
    "from sklearn.feature_selection import VarianceThreshold\n",
    "from sklearn.feature_selection import RFE\n",
    "from sklearn.decomposition import PCA\n",
    "from sklearn.model_selection import train_test_split\n",
    "from sklearn.linear_model import LogisticRegression\n",
    "from sklearn.ensemble import AdaBoostClassifier\n",
    "from sklearn.ensemble import GradientBoostingClassifier\n",
    "from sklearn.svm import SVC\n",
    "from catboost import CatBoostClassifier\n",
    "import xgboost as xgb\n",
    "import lightgbm as lgb\n",
    "import pandas_profiling as ppf\n",
    "import matplotlib.pyplot as plt\n",
    "import seaborn as sns\n",
    "import pandas as pd\n",
    "import numpy as np\n",
    "import os\n",
    "import gc\n",
    "\n",
    "pd.set_option('display.max_columns', 50)"
   ]
  },
  {
   "cell_type": "code",
   "execution_count": 2,
   "metadata": {
    "ExecuteTime": {
     "end_time": "2019-09-03T06:15:28.082381Z",
     "start_time": "2019-09-03T06:15:27.972867Z"
    }
   },
   "outputs": [
    {
     "name": "stdout",
     "output_type": "stream",
     "text": [
      "shape of train: (6000, 21)\n",
      "shape of test: (6000, 11)\n",
      "shape of submit: (120, 5)\n"
     ]
    }
   ],
   "source": [
    "train = pd.read_csv('.\\\\data\\\\first_round_training_data.csv')\n",
    "test = pd.read_csv('.\\\\data\\\\first_round_testing_data.csv')\n",
    "submit_example = pd.read_csv('.\\\\data\\\\submit_example.csv')\n",
    "\n",
    "print('shape of train:', train.shape)\n",
    "print('shape of test:', test.shape)\n",
    "print('shape of submit:', submit_example.shape)"
   ]
  },
  {
   "cell_type": "code",
   "execution_count": 3,
   "metadata": {
    "ExecuteTime": {
     "end_time": "2019-09-03T06:15:29.438053Z",
     "start_time": "2019-09-03T06:15:29.395048Z"
    },
    "scrolled": true
   },
   "outputs": [
    {
     "data": {
      "text/html": [
       "<div>\n",
       "<style scoped>\n",
       "    .dataframe tbody tr th:only-of-type {\n",
       "        vertical-align: middle;\n",
       "    }\n",
       "\n",
       "    .dataframe tbody tr th {\n",
       "        vertical-align: top;\n",
       "    }\n",
       "\n",
       "    .dataframe thead th {\n",
       "        text-align: right;\n",
       "    }\n",
       "</style>\n",
       "<table border=\"1\" class=\"dataframe\">\n",
       "  <thead>\n",
       "    <tr style=\"text-align: right;\">\n",
       "      <th></th>\n",
       "      <th>Parameter1</th>\n",
       "      <th>Parameter2</th>\n",
       "      <th>Parameter3</th>\n",
       "      <th>Parameter4</th>\n",
       "      <th>Parameter5</th>\n",
       "      <th>Parameter6</th>\n",
       "      <th>Parameter7</th>\n",
       "      <th>Parameter8</th>\n",
       "      <th>Parameter9</th>\n",
       "      <th>Parameter10</th>\n",
       "      <th>Attribute1</th>\n",
       "      <th>Attribute2</th>\n",
       "      <th>Attribute3</th>\n",
       "      <th>Attribute4</th>\n",
       "      <th>Attribute5</th>\n",
       "      <th>Attribute6</th>\n",
       "      <th>Attribute7</th>\n",
       "      <th>Attribute8</th>\n",
       "      <th>Attribute9</th>\n",
       "      <th>Attribute10</th>\n",
       "      <th>Quality_label</th>\n",
       "    </tr>\n",
       "  </thead>\n",
       "  <tbody>\n",
       "    <tr>\n",
       "      <th>0</th>\n",
       "      <td>0.001660</td>\n",
       "      <td>0.591013</td>\n",
       "      <td>147.608373</td>\n",
       "      <td>38.186345</td>\n",
       "      <td>0.000421</td>\n",
       "      <td>0.000612</td>\n",
       "      <td>2286.523413</td>\n",
       "      <td>0.035407</td>\n",
       "      <td>0.593081</td>\n",
       "      <td>1.010385</td>\n",
       "      <td>6.856075</td>\n",
       "      <td>0.168761</td>\n",
       "      <td>1.098755</td>\n",
       "      <td>36.955992</td>\n",
       "      <td>8.454598</td>\n",
       "      <td>11.438066</td>\n",
       "      <td>177.243120</td>\n",
       "      <td>338.729256</td>\n",
       "      <td>2.021704</td>\n",
       "      <td>0.079526</td>\n",
       "      <td>Pass</td>\n",
       "    </tr>\n",
       "    <tr>\n",
       "      <th>1</th>\n",
       "      <td>1.601749</td>\n",
       "      <td>0.015052</td>\n",
       "      <td>0.035864</td>\n",
       "      <td>51.130326</td>\n",
       "      <td>0.000909</td>\n",
       "      <td>0.002397</td>\n",
       "      <td>2286.523413</td>\n",
       "      <td>0.035407</td>\n",
       "      <td>0.593081</td>\n",
       "      <td>1.010385</td>\n",
       "      <td>0.000362</td>\n",
       "      <td>11.649033</td>\n",
       "      <td>0.066671</td>\n",
       "      <td>225.632949</td>\n",
       "      <td>0.481860</td>\n",
       "      <td>20597.447822</td>\n",
       "      <td>3.723330</td>\n",
       "      <td>15.376190</td>\n",
       "      <td>0.986973</td>\n",
       "      <td>4.634376</td>\n",
       "      <td>Fail</td>\n",
       "    </tr>\n",
       "    <tr>\n",
       "      <th>2</th>\n",
       "      <td>0.098039</td>\n",
       "      <td>69.233685</td>\n",
       "      <td>0.080920</td>\n",
       "      <td>0.112265</td>\n",
       "      <td>0.000909</td>\n",
       "      <td>0.001972</td>\n",
       "      <td>2286.523413</td>\n",
       "      <td>0.035407</td>\n",
       "      <td>0.593081</td>\n",
       "      <td>1.010385</td>\n",
       "      <td>0.022201</td>\n",
       "      <td>0.078213</td>\n",
       "      <td>110.079689</td>\n",
       "      <td>2.208138</td>\n",
       "      <td>0.073525</td>\n",
       "      <td>236.079314</td>\n",
       "      <td>0.064196</td>\n",
       "      <td>0.576302</td>\n",
       "      <td>33.875790</td>\n",
       "      <td>1.813727</td>\n",
       "      <td>Fail</td>\n",
       "    </tr>\n",
       "    <tr>\n",
       "      <th>3</th>\n",
       "      <td>18.181860</td>\n",
       "      <td>0.047325</td>\n",
       "      <td>0.018061</td>\n",
       "      <td>1.098102</td>\n",
       "      <td>0.000909</td>\n",
       "      <td>0.002397</td>\n",
       "      <td>2286.523413</td>\n",
       "      <td>0.035407</td>\n",
       "      <td>0.593081</td>\n",
       "      <td>1.010385</td>\n",
       "      <td>1.459004</td>\n",
       "      <td>0.380281</td>\n",
       "      <td>0.011491</td>\n",
       "      <td>0.654517</td>\n",
       "      <td>0.025872</td>\n",
       "      <td>176.948915</td>\n",
       "      <td>0.029777</td>\n",
       "      <td>0.246726</td>\n",
       "      <td>27.117165</td>\n",
       "      <td>0.081819</td>\n",
       "      <td>Fail</td>\n",
       "    </tr>\n",
       "    <tr>\n",
       "      <th>4</th>\n",
       "      <td>0.012085</td>\n",
       "      <td>0.008749</td>\n",
       "      <td>0.005509</td>\n",
       "      <td>524.327396</td>\n",
       "      <td>0.000909</td>\n",
       "      <td>0.002397</td>\n",
       "      <td>2286.523413</td>\n",
       "      <td>0.035407</td>\n",
       "      <td>0.593081</td>\n",
       "      <td>1.010385</td>\n",
       "      <td>11.576647</td>\n",
       "      <td>1.555672</td>\n",
       "      <td>38.613386</td>\n",
       "      <td>0.260989</td>\n",
       "      <td>0.009380</td>\n",
       "      <td>194.798039</td>\n",
       "      <td>0.055053</td>\n",
       "      <td>0.014725</td>\n",
       "      <td>13.569707</td>\n",
       "      <td>18.138496</td>\n",
       "      <td>Fail</td>\n",
       "    </tr>\n",
       "  </tbody>\n",
       "</table>\n",
       "</div>"
      ],
      "text/plain": [
       "   Parameter1  Parameter2  Parameter3  Parameter4  Parameter5  Parameter6  \\\n",
       "0    0.001660    0.591013  147.608373   38.186345    0.000421    0.000612   \n",
       "1    1.601749    0.015052    0.035864   51.130326    0.000909    0.002397   \n",
       "2    0.098039   69.233685    0.080920    0.112265    0.000909    0.001972   \n",
       "3   18.181860    0.047325    0.018061    1.098102    0.000909    0.002397   \n",
       "4    0.012085    0.008749    0.005509  524.327396    0.000909    0.002397   \n",
       "\n",
       "    Parameter7  Parameter8  Parameter9  Parameter10  Attribute1  Attribute2  \\\n",
       "0  2286.523413    0.035407    0.593081     1.010385    6.856075    0.168761   \n",
       "1  2286.523413    0.035407    0.593081     1.010385    0.000362   11.649033   \n",
       "2  2286.523413    0.035407    0.593081     1.010385    0.022201    0.078213   \n",
       "3  2286.523413    0.035407    0.593081     1.010385    1.459004    0.380281   \n",
       "4  2286.523413    0.035407    0.593081     1.010385   11.576647    1.555672   \n",
       "\n",
       "   Attribute3  Attribute4  Attribute5    Attribute6  Attribute7  Attribute8  \\\n",
       "0    1.098755   36.955992    8.454598     11.438066  177.243120  338.729256   \n",
       "1    0.066671  225.632949    0.481860  20597.447822    3.723330   15.376190   \n",
       "2  110.079689    2.208138    0.073525    236.079314    0.064196    0.576302   \n",
       "3    0.011491    0.654517    0.025872    176.948915    0.029777    0.246726   \n",
       "4   38.613386    0.260989    0.009380    194.798039    0.055053    0.014725   \n",
       "\n",
       "   Attribute9  Attribute10 Quality_label  \n",
       "0    2.021704     0.079526          Pass  \n",
       "1    0.986973     4.634376          Fail  \n",
       "2   33.875790     1.813727          Fail  \n",
       "3   27.117165     0.081819          Fail  \n",
       "4   13.569707    18.138496          Fail  "
      ]
     },
     "execution_count": 3,
     "metadata": {},
     "output_type": "execute_result"
    }
   ],
   "source": [
    "train.head()"
   ]
  },
  {
   "cell_type": "code",
   "execution_count": 4,
   "metadata": {
    "ExecuteTime": {
     "end_time": "2019-09-03T06:15:30.912241Z",
     "start_time": "2019-09-03T06:15:30.889738Z"
    }
   },
   "outputs": [
    {
     "data": {
      "text/html": [
       "<div>\n",
       "<style scoped>\n",
       "    .dataframe tbody tr th:only-of-type {\n",
       "        vertical-align: middle;\n",
       "    }\n",
       "\n",
       "    .dataframe tbody tr th {\n",
       "        vertical-align: top;\n",
       "    }\n",
       "\n",
       "    .dataframe thead th {\n",
       "        text-align: right;\n",
       "    }\n",
       "</style>\n",
       "<table border=\"1\" class=\"dataframe\">\n",
       "  <thead>\n",
       "    <tr style=\"text-align: right;\">\n",
       "      <th></th>\n",
       "      <th>Group</th>\n",
       "      <th>Parameter1</th>\n",
       "      <th>Parameter10</th>\n",
       "      <th>Parameter2</th>\n",
       "      <th>Parameter3</th>\n",
       "      <th>Parameter4</th>\n",
       "      <th>Parameter5</th>\n",
       "      <th>Parameter6</th>\n",
       "      <th>Parameter7</th>\n",
       "      <th>Parameter8</th>\n",
       "      <th>Parameter9</th>\n",
       "    </tr>\n",
       "  </thead>\n",
       "  <tbody>\n",
       "    <tr>\n",
       "      <th>0</th>\n",
       "      <td>0</td>\n",
       "      <td>0.235279</td>\n",
       "      <td>0.195680</td>\n",
       "      <td>0.351488</td>\n",
       "      <td>0.186814</td>\n",
       "      <td>0.086456</td>\n",
       "      <td>1.434060</td>\n",
       "      <td>1.230409</td>\n",
       "      <td>0.038483</td>\n",
       "      <td>2.931083</td>\n",
       "      <td>2.005852</td>\n",
       "    </tr>\n",
       "    <tr>\n",
       "      <th>1</th>\n",
       "      <td>0</td>\n",
       "      <td>0.043799</td>\n",
       "      <td>0.523976</td>\n",
       "      <td>32.590688</td>\n",
       "      <td>0.886285</td>\n",
       "      <td>29.702490</td>\n",
       "      <td>0.027434</td>\n",
       "      <td>0.016852</td>\n",
       "      <td>0.600827</td>\n",
       "      <td>0.118077</td>\n",
       "      <td>887.611257</td>\n",
       "    </tr>\n",
       "    <tr>\n",
       "      <th>2</th>\n",
       "      <td>0</td>\n",
       "      <td>21.466737</td>\n",
       "      <td>0.523976</td>\n",
       "      <td>11.847792</td>\n",
       "      <td>79499.554454</td>\n",
       "      <td>13544.605343</td>\n",
       "      <td>0.027434</td>\n",
       "      <td>0.016852</td>\n",
       "      <td>0.600827</td>\n",
       "      <td>0.118077</td>\n",
       "      <td>887.611257</td>\n",
       "    </tr>\n",
       "    <tr>\n",
       "      <th>3</th>\n",
       "      <td>0</td>\n",
       "      <td>0.703795</td>\n",
       "      <td>0.010192</td>\n",
       "      <td>0.018080</td>\n",
       "      <td>317.015599</td>\n",
       "      <td>38.087562</td>\n",
       "      <td>0.428092</td>\n",
       "      <td>0.314162</td>\n",
       "      <td>0.038483</td>\n",
       "      <td>17.850021</td>\n",
       "      <td>0.051850</td>\n",
       "    </tr>\n",
       "    <tr>\n",
       "      <th>4</th>\n",
       "      <td>0</td>\n",
       "      <td>10.447960</td>\n",
       "      <td>0.010192</td>\n",
       "      <td>15.983891</td>\n",
       "      <td>0.996049</td>\n",
       "      <td>16.715690</td>\n",
       "      <td>0.477823</td>\n",
       "      <td>0.464037</td>\n",
       "      <td>0.038483</td>\n",
       "      <td>17.850021</td>\n",
       "      <td>0.051850</td>\n",
       "    </tr>\n",
       "    <tr>\n",
       "      <th>5995</th>\n",
       "      <td>119</td>\n",
       "      <td>765.876721</td>\n",
       "      <td>51.944717</td>\n",
       "      <td>0.053836</td>\n",
       "      <td>0.258969</td>\n",
       "      <td>0.125856</td>\n",
       "      <td>0.000218</td>\n",
       "      <td>0.000414</td>\n",
       "      <td>2286.523413</td>\n",
       "      <td>0.035407</td>\n",
       "      <td>0.593081</td>\n",
       "    </tr>\n",
       "    <tr>\n",
       "      <th>5996</th>\n",
       "      <td>119</td>\n",
       "      <td>0.071211</td>\n",
       "      <td>0.195680</td>\n",
       "      <td>0.924208</td>\n",
       "      <td>284.265495</td>\n",
       "      <td>15.668770</td>\n",
       "      <td>3.095123</td>\n",
       "      <td>1.817391</td>\n",
       "      <td>0.600827</td>\n",
       "      <td>17.850021</td>\n",
       "      <td>6.783967</td>\n",
       "    </tr>\n",
       "    <tr>\n",
       "      <th>5997</th>\n",
       "      <td>119</td>\n",
       "      <td>0.001922</td>\n",
       "      <td>0.073078</td>\n",
       "      <td>7.829744</td>\n",
       "      <td>16.138304</td>\n",
       "      <td>0.000376</td>\n",
       "      <td>0.741630</td>\n",
       "      <td>1.495371</td>\n",
       "      <td>0.600827</td>\n",
       "      <td>17.850021</td>\n",
       "      <td>0.051850</td>\n",
       "    </tr>\n",
       "    <tr>\n",
       "      <th>5998</th>\n",
       "      <td>119</td>\n",
       "      <td>0.000054</td>\n",
       "      <td>0.027291</td>\n",
       "      <td>0.672029</td>\n",
       "      <td>0.002134</td>\n",
       "      <td>0.149019</td>\n",
       "      <td>3.454681</td>\n",
       "      <td>3.262468</td>\n",
       "      <td>0.600827</td>\n",
       "      <td>17.850021</td>\n",
       "      <td>6.783967</td>\n",
       "    </tr>\n",
       "    <tr>\n",
       "      <th>5999</th>\n",
       "      <td>119</td>\n",
       "      <td>1.026527</td>\n",
       "      <td>0.073078</td>\n",
       "      <td>0.116152</td>\n",
       "      <td>2.923321</td>\n",
       "      <td>610.091923</td>\n",
       "      <td>1.031282</td>\n",
       "      <td>0.833011</td>\n",
       "      <td>0.038483</td>\n",
       "      <td>2.931083</td>\n",
       "      <td>2.005852</td>\n",
       "    </tr>\n",
       "  </tbody>\n",
       "</table>\n",
       "</div>"
      ],
      "text/plain": [
       "      Group  Parameter1  Parameter10  Parameter2    Parameter3    Parameter4  \\\n",
       "0         0    0.235279     0.195680    0.351488      0.186814      0.086456   \n",
       "1         0    0.043799     0.523976   32.590688      0.886285     29.702490   \n",
       "2         0   21.466737     0.523976   11.847792  79499.554454  13544.605343   \n",
       "3         0    0.703795     0.010192    0.018080    317.015599     38.087562   \n",
       "4         0   10.447960     0.010192   15.983891      0.996049     16.715690   \n",
       "5995    119  765.876721    51.944717    0.053836      0.258969      0.125856   \n",
       "5996    119    0.071211     0.195680    0.924208    284.265495     15.668770   \n",
       "5997    119    0.001922     0.073078    7.829744     16.138304      0.000376   \n",
       "5998    119    0.000054     0.027291    0.672029      0.002134      0.149019   \n",
       "5999    119    1.026527     0.073078    0.116152      2.923321    610.091923   \n",
       "\n",
       "      Parameter5  Parameter6   Parameter7  Parameter8  Parameter9  \n",
       "0       1.434060    1.230409     0.038483    2.931083    2.005852  \n",
       "1       0.027434    0.016852     0.600827    0.118077  887.611257  \n",
       "2       0.027434    0.016852     0.600827    0.118077  887.611257  \n",
       "3       0.428092    0.314162     0.038483   17.850021    0.051850  \n",
       "4       0.477823    0.464037     0.038483   17.850021    0.051850  \n",
       "5995    0.000218    0.000414  2286.523413    0.035407    0.593081  \n",
       "5996    3.095123    1.817391     0.600827   17.850021    6.783967  \n",
       "5997    0.741630    1.495371     0.600827   17.850021    0.051850  \n",
       "5998    3.454681    3.262468     0.600827   17.850021    6.783967  \n",
       "5999    1.031282    0.833011     0.038483    2.931083    2.005852  "
      ]
     },
     "execution_count": 4,
     "metadata": {},
     "output_type": "execute_result"
    }
   ],
   "source": [
    "test.head().append(test.tail())"
   ]
  },
  {
   "cell_type": "code",
   "execution_count": 5,
   "metadata": {
    "ExecuteTime": {
     "end_time": "2019-09-03T06:15:32.046385Z",
     "start_time": "2019-09-03T06:15:32.024382Z"
    }
   },
   "outputs": [
    {
     "data": {
      "text/html": [
       "<div>\n",
       "<style scoped>\n",
       "    .dataframe tbody tr th:only-of-type {\n",
       "        vertical-align: middle;\n",
       "    }\n",
       "\n",
       "    .dataframe tbody tr th {\n",
       "        vertical-align: top;\n",
       "    }\n",
       "\n",
       "    .dataframe thead th {\n",
       "        text-align: right;\n",
       "    }\n",
       "</style>\n",
       "<table border=\"1\" class=\"dataframe\">\n",
       "  <thead>\n",
       "    <tr style=\"text-align: right;\">\n",
       "      <th></th>\n",
       "      <th>Group</th>\n",
       "      <th>Excellent ratio</th>\n",
       "      <th>Good ratio</th>\n",
       "      <th>Pass ratio</th>\n",
       "      <th>Fail ratio</th>\n",
       "    </tr>\n",
       "  </thead>\n",
       "  <tbody>\n",
       "    <tr>\n",
       "      <th>0</th>\n",
       "      <td>0</td>\n",
       "      <td>0.4</td>\n",
       "      <td>0.2</td>\n",
       "      <td>0.2</td>\n",
       "      <td>0.2</td>\n",
       "    </tr>\n",
       "    <tr>\n",
       "      <th>1</th>\n",
       "      <td>1</td>\n",
       "      <td>0.4</td>\n",
       "      <td>0.2</td>\n",
       "      <td>0.2</td>\n",
       "      <td>0.2</td>\n",
       "    </tr>\n",
       "    <tr>\n",
       "      <th>2</th>\n",
       "      <td>2</td>\n",
       "      <td>0.4</td>\n",
       "      <td>0.2</td>\n",
       "      <td>0.2</td>\n",
       "      <td>0.2</td>\n",
       "    </tr>\n",
       "    <tr>\n",
       "      <th>3</th>\n",
       "      <td>3</td>\n",
       "      <td>0.4</td>\n",
       "      <td>0.2</td>\n",
       "      <td>0.2</td>\n",
       "      <td>0.2</td>\n",
       "    </tr>\n",
       "    <tr>\n",
       "      <th>4</th>\n",
       "      <td>4</td>\n",
       "      <td>0.4</td>\n",
       "      <td>0.2</td>\n",
       "      <td>0.2</td>\n",
       "      <td>0.2</td>\n",
       "    </tr>\n",
       "  </tbody>\n",
       "</table>\n",
       "</div>"
      ],
      "text/plain": [
       "   Group  Excellent ratio  Good ratio  Pass ratio  Fail ratio\n",
       "0      0              0.4         0.2         0.2         0.2\n",
       "1      1              0.4         0.2         0.2         0.2\n",
       "2      2              0.4         0.2         0.2         0.2\n",
       "3      3              0.4         0.2         0.2         0.2\n",
       "4      4              0.4         0.2         0.2         0.2"
      ]
     },
     "execution_count": 5,
     "metadata": {},
     "output_type": "execute_result"
    }
   ],
   "source": [
    "submit_example.head()"
   ]
  },
  {
   "cell_type": "code",
   "execution_count": 6,
   "metadata": {
    "ExecuteTime": {
     "end_time": "2019-09-03T06:15:33.124521Z",
     "start_time": "2019-09-03T06:15:33.116020Z"
    }
   },
   "outputs": [
    {
     "data": {
      "text/plain": [
       "array(['Pass', 'Fail', 'Good', 'Excellent'], dtype=object)"
      ]
     },
     "execution_count": 6,
     "metadata": {},
     "output_type": "execute_result"
    }
   ],
   "source": [
    "train.Quality_label.unique()"
   ]
  },
  {
   "cell_type": "code",
   "execution_count": 7,
   "metadata": {
    "ExecuteTime": {
     "end_time": "2019-09-03T06:15:36.563958Z",
     "start_time": "2019-09-03T06:15:36.553457Z"
    }
   },
   "outputs": [],
   "source": [
    "features = ['Parameter1', 'Parameter2', 'Parameter3', 'Parameter4', 'Parameter5',\n",
    "            'Parameter6', 'Parameter7', 'Parameter8', 'Parameter9', 'Parameter10',\n",
    "            'Attribute1', 'Attribute2', 'Attribute3', 'Attribute4', 'Attribute5',\n",
    "            'Attribute6', 'Attribute7', 'Attribute8', 'Attribute9', 'Attribute10']\n",
    "test_features = ['Parameter1', 'Parameter10', 'Parameter2', 'Parameter3',\n",
    "                 'Parameter4', 'Parameter5', 'Parameter6', 'Parameter7', \n",
    "                 'Parameter8', 'Parameter9']\n",
    "\n",
    "trainX = train[test_features]\n",
    "testX = test[test_features]"
   ]
  },
  {
   "cell_type": "markdown",
   "metadata": {},
   "source": [
    "### 特征类别观察"
   ]
  },
  {
   "cell_type": "code",
   "execution_count": 8,
   "metadata": {
    "ExecuteTime": {
     "end_time": "2019-09-03T06:15:42.682735Z",
     "start_time": "2019-09-03T06:15:42.643730Z"
    }
   },
   "outputs": [
    {
     "name": "stdout",
     "output_type": "stream",
     "text": [
      "Parameter1 6000\n",
      "Parameter10 41\n",
      "Parameter2 6000\n",
      "Parameter3 6000\n",
      "Parameter4 6000\n",
      "Parameter5 132\n",
      "Parameter6 80\n",
      "Parameter7 14\n",
      "Parameter8 23\n",
      "Parameter9 16\n"
     ]
    }
   ],
   "source": [
    "for feature in test_features:\n",
    "    print(feature, len(trainX[feature].value_counts().tolist()))"
   ]
  },
  {
   "cell_type": "code",
   "execution_count": 9,
   "metadata": {
    "ExecuteTime": {
     "end_time": "2019-09-03T06:15:47.437839Z",
     "start_time": "2019-09-03T06:15:47.386332Z"
    }
   },
   "outputs": [
    {
     "data": {
      "text/html": [
       "<div>\n",
       "<style scoped>\n",
       "    .dataframe tbody tr th:only-of-type {\n",
       "        vertical-align: middle;\n",
       "    }\n",
       "\n",
       "    .dataframe tbody tr th {\n",
       "        vertical-align: top;\n",
       "    }\n",
       "\n",
       "    .dataframe thead th {\n",
       "        text-align: right;\n",
       "    }\n",
       "</style>\n",
       "<table border=\"1\" class=\"dataframe\">\n",
       "  <thead>\n",
       "    <tr style=\"text-align: right;\">\n",
       "      <th></th>\n",
       "      <th>Parameter1</th>\n",
       "      <th>Parameter2</th>\n",
       "      <th>Parameter3</th>\n",
       "      <th>Parameter4</th>\n",
       "      <th>Parameter5</th>\n",
       "      <th>Parameter6</th>\n",
       "      <th>Parameter7</th>\n",
       "      <th>Parameter8</th>\n",
       "      <th>Parameter9</th>\n",
       "      <th>Parameter10</th>\n",
       "      <th>Attribute1</th>\n",
       "      <th>Attribute2</th>\n",
       "      <th>Attribute3</th>\n",
       "      <th>Attribute4</th>\n",
       "      <th>Attribute5</th>\n",
       "      <th>Attribute6</th>\n",
       "      <th>Attribute7</th>\n",
       "      <th>Attribute8</th>\n",
       "      <th>Attribute9</th>\n",
       "      <th>Attribute10</th>\n",
       "      <th>Quality_label</th>\n",
       "      <th>label</th>\n",
       "    </tr>\n",
       "  </thead>\n",
       "  <tbody>\n",
       "    <tr>\n",
       "      <th>0</th>\n",
       "      <td>0.001660</td>\n",
       "      <td>0.591013</td>\n",
       "      <td>147.608373</td>\n",
       "      <td>38.186345</td>\n",
       "      <td>0.000421</td>\n",
       "      <td>0.000612</td>\n",
       "      <td>2286.523413</td>\n",
       "      <td>0.035407</td>\n",
       "      <td>0.593081</td>\n",
       "      <td>1.010385</td>\n",
       "      <td>6.856075</td>\n",
       "      <td>0.168761</td>\n",
       "      <td>1.098755</td>\n",
       "      <td>36.955992</td>\n",
       "      <td>8.454598</td>\n",
       "      <td>11.438066</td>\n",
       "      <td>177.243120</td>\n",
       "      <td>338.729256</td>\n",
       "      <td>2.021704</td>\n",
       "      <td>0.079526</td>\n",
       "      <td>Pass</td>\n",
       "      <td>3</td>\n",
       "    </tr>\n",
       "    <tr>\n",
       "      <th>1</th>\n",
       "      <td>1.601749</td>\n",
       "      <td>0.015052</td>\n",
       "      <td>0.035864</td>\n",
       "      <td>51.130326</td>\n",
       "      <td>0.000909</td>\n",
       "      <td>0.002397</td>\n",
       "      <td>2286.523413</td>\n",
       "      <td>0.035407</td>\n",
       "      <td>0.593081</td>\n",
       "      <td>1.010385</td>\n",
       "      <td>0.000362</td>\n",
       "      <td>11.649033</td>\n",
       "      <td>0.066671</td>\n",
       "      <td>225.632949</td>\n",
       "      <td>0.481860</td>\n",
       "      <td>20597.447822</td>\n",
       "      <td>3.723330</td>\n",
       "      <td>15.376190</td>\n",
       "      <td>0.986973</td>\n",
       "      <td>4.634376</td>\n",
       "      <td>Fail</td>\n",
       "      <td>4</td>\n",
       "    </tr>\n",
       "    <tr>\n",
       "      <th>2</th>\n",
       "      <td>0.098039</td>\n",
       "      <td>69.233685</td>\n",
       "      <td>0.080920</td>\n",
       "      <td>0.112265</td>\n",
       "      <td>0.000909</td>\n",
       "      <td>0.001972</td>\n",
       "      <td>2286.523413</td>\n",
       "      <td>0.035407</td>\n",
       "      <td>0.593081</td>\n",
       "      <td>1.010385</td>\n",
       "      <td>0.022201</td>\n",
       "      <td>0.078213</td>\n",
       "      <td>110.079689</td>\n",
       "      <td>2.208138</td>\n",
       "      <td>0.073525</td>\n",
       "      <td>236.079314</td>\n",
       "      <td>0.064196</td>\n",
       "      <td>0.576302</td>\n",
       "      <td>33.875790</td>\n",
       "      <td>1.813727</td>\n",
       "      <td>Fail</td>\n",
       "      <td>4</td>\n",
       "    </tr>\n",
       "    <tr>\n",
       "      <th>3</th>\n",
       "      <td>18.181860</td>\n",
       "      <td>0.047325</td>\n",
       "      <td>0.018061</td>\n",
       "      <td>1.098102</td>\n",
       "      <td>0.000909</td>\n",
       "      <td>0.002397</td>\n",
       "      <td>2286.523413</td>\n",
       "      <td>0.035407</td>\n",
       "      <td>0.593081</td>\n",
       "      <td>1.010385</td>\n",
       "      <td>1.459004</td>\n",
       "      <td>0.380281</td>\n",
       "      <td>0.011491</td>\n",
       "      <td>0.654517</td>\n",
       "      <td>0.025872</td>\n",
       "      <td>176.948915</td>\n",
       "      <td>0.029777</td>\n",
       "      <td>0.246726</td>\n",
       "      <td>27.117165</td>\n",
       "      <td>0.081819</td>\n",
       "      <td>Fail</td>\n",
       "      <td>4</td>\n",
       "    </tr>\n",
       "    <tr>\n",
       "      <th>4</th>\n",
       "      <td>0.012085</td>\n",
       "      <td>0.008749</td>\n",
       "      <td>0.005509</td>\n",
       "      <td>524.327396</td>\n",
       "      <td>0.000909</td>\n",
       "      <td>0.002397</td>\n",
       "      <td>2286.523413</td>\n",
       "      <td>0.035407</td>\n",
       "      <td>0.593081</td>\n",
       "      <td>1.010385</td>\n",
       "      <td>11.576647</td>\n",
       "      <td>1.555672</td>\n",
       "      <td>38.613386</td>\n",
       "      <td>0.260989</td>\n",
       "      <td>0.009380</td>\n",
       "      <td>194.798039</td>\n",
       "      <td>0.055053</td>\n",
       "      <td>0.014725</td>\n",
       "      <td>13.569707</td>\n",
       "      <td>18.138496</td>\n",
       "      <td>Fail</td>\n",
       "      <td>4</td>\n",
       "    </tr>\n",
       "  </tbody>\n",
       "</table>\n",
       "</div>"
      ],
      "text/plain": [
       "   Parameter1  Parameter2  Parameter3  Parameter4  Parameter5  Parameter6  \\\n",
       "0    0.001660    0.591013  147.608373   38.186345    0.000421    0.000612   \n",
       "1    1.601749    0.015052    0.035864   51.130326    0.000909    0.002397   \n",
       "2    0.098039   69.233685    0.080920    0.112265    0.000909    0.001972   \n",
       "3   18.181860    0.047325    0.018061    1.098102    0.000909    0.002397   \n",
       "4    0.012085    0.008749    0.005509  524.327396    0.000909    0.002397   \n",
       "\n",
       "    Parameter7  Parameter8  Parameter9  Parameter10  Attribute1  Attribute2  \\\n",
       "0  2286.523413    0.035407    0.593081     1.010385    6.856075    0.168761   \n",
       "1  2286.523413    0.035407    0.593081     1.010385    0.000362   11.649033   \n",
       "2  2286.523413    0.035407    0.593081     1.010385    0.022201    0.078213   \n",
       "3  2286.523413    0.035407    0.593081     1.010385    1.459004    0.380281   \n",
       "4  2286.523413    0.035407    0.593081     1.010385   11.576647    1.555672   \n",
       "\n",
       "   Attribute3  Attribute4  Attribute5    Attribute6  Attribute7  Attribute8  \\\n",
       "0    1.098755   36.955992    8.454598     11.438066  177.243120  338.729256   \n",
       "1    0.066671  225.632949    0.481860  20597.447822    3.723330   15.376190   \n",
       "2  110.079689    2.208138    0.073525    236.079314    0.064196    0.576302   \n",
       "3    0.011491    0.654517    0.025872    176.948915    0.029777    0.246726   \n",
       "4   38.613386    0.260989    0.009380    194.798039    0.055053    0.014725   \n",
       "\n",
       "   Attribute9  Attribute10 Quality_label  label  \n",
       "0    2.021704     0.079526          Pass      3  \n",
       "1    0.986973     4.634376          Fail      4  \n",
       "2   33.875790     1.813727          Fail      4  \n",
       "3   27.117165     0.081819          Fail      4  \n",
       "4   13.569707    18.138496          Fail      4  "
      ]
     },
     "execution_count": 9,
     "metadata": {},
     "output_type": "execute_result"
    }
   ],
   "source": [
    "def label_map(x):\n",
    "    labels = {'Excellent':1, 'Good':2, 'Pass':3, 'Fail':4}\n",
    "    return labels[x]\n",
    "\n",
    "train['label'] = train.Quality_label.apply(label_map)\n",
    "train.head()"
   ]
  },
  {
   "cell_type": "code",
   "execution_count": null,
   "metadata": {
    "ExecuteTime": {
     "end_time": "2019-08-26T06:20:48.718832Z",
     "start_time": "2019-08-26T06:20:11.744717Z"
    }
   },
   "outputs": [],
   "source": [
    "pfr = ppf.ProfileReport(train)\n",
    "pfr.to_file('train_EDA.html')"
   ]
  },
  {
   "cell_type": "markdown",
   "metadata": {},
   "source": [
    "### 异常点观察"
   ]
  },
  {
   "cell_type": "code",
   "execution_count": 10,
   "metadata": {
    "ExecuteTime": {
     "end_time": "2019-09-03T06:16:02.224217Z",
     "start_time": "2019-09-03T06:16:01.938180Z"
    }
   },
   "outputs": [
    {
     "data": {
      "text/plain": [
       "<matplotlib.collections.PathCollection at 0x3b94ce48>"
      ]
     },
     "execution_count": 10,
     "metadata": {},
     "output_type": "execute_result"
    },
    {
     "data": {
      "image/png": "[encoded data removed]",
      "text/plain": [
       "<Figure size 432x288 with 1 Axes>"
      ]
     },
     "metadata": {
      "needs_background": "light"
     },
     "output_type": "display_data"
    }
   ],
   "source": [
    "plt.scatter(train.Quality_label, train.Parameter1)\n",
    "# 剔除train.Parameter1>12的数据"
   ]
  },
  {
   "cell_type": "code",
   "execution_count": 11,
   "metadata": {
    "ExecuteTime": {
     "end_time": "2019-09-03T06:16:05.144587Z",
     "start_time": "2019-09-03T06:16:05.135086Z"
    }
   },
   "outputs": [],
   "source": [
    "train = train[train.Parameter1<=200000]"
   ]
  },
  {
   "cell_type": "code",
   "execution_count": 12,
   "metadata": {
    "ExecuteTime": {
     "end_time": "2019-09-03T06:16:09.779176Z",
     "start_time": "2019-09-03T06:16:09.506641Z"
    }
   },
   "outputs": [
    {
     "data": {
      "text/plain": [
       "<matplotlib.collections.PathCollection at 0x3b97f8d0>"
      ]
     },
     "execution_count": 12,
     "metadata": {},
     "output_type": "execute_result"
    },
    {
     "data": {
      "image/png": "[encoded data removed]",
      "text/plain": [
       "<Figure size 432x288 with 1 Axes>"
      ]
     },
     "metadata": {
      "needs_background": "light"
     },
     "output_type": "display_data"
    }
   ],
   "source": [
    "plt.scatter(train.Quality_label, train.Parameter2)\n",
    "# 剔除train.Parameter2>14的数据"
   ]
  },
  {
   "cell_type": "code",
   "execution_count": 13,
   "metadata": {
    "ExecuteTime": {
     "end_time": "2019-09-03T06:16:13.976709Z",
     "start_time": "2019-09-03T06:16:13.970208Z"
    }
   },
   "outputs": [],
   "source": [
    "train = train[train.Parameter2<=1000000]"
   ]
  },
  {
   "cell_type": "code",
   "execution_count": 14,
   "metadata": {
    "ExecuteTime": {
     "end_time": "2019-09-03T06:16:17.183616Z",
     "start_time": "2019-09-03T06:16:16.932584Z"
    }
   },
   "outputs": [
    {
     "data": {
      "text/plain": [
       "<matplotlib.collections.PathCollection at 0x3bc4c3c8>"
      ]
     },
     "execution_count": 14,
     "metadata": {},
     "output_type": "execute_result"
    },
    {
     "data": {
      "image/png": "[encoded data removed]",
      "text/plain": [
       "<Figure size 432x288 with 1 Axes>"
      ]
     },
     "metadata": {
      "needs_background": "light"
     },
     "output_type": "display_data"
    }
   ],
   "source": [
    "plt.scatter(train.Quality_label, train.Parameter3)\n",
    "# 剔除train.Parameter3>12的数据"
   ]
  },
  {
   "cell_type": "code",
   "execution_count": 15,
   "metadata": {
    "ExecuteTime": {
     "end_time": "2019-09-03T06:16:19.281383Z",
     "start_time": "2019-09-03T06:16:19.271381Z"
    }
   },
   "outputs": [],
   "source": [
    "train = train[train.Parameter3<=200000]"
   ]
  },
  {
   "cell_type": "code",
   "execution_count": 16,
   "metadata": {
    "ExecuteTime": {
     "end_time": "2019-09-03T06:16:22.687815Z",
     "start_time": "2019-09-03T06:16:22.438784Z"
    }
   },
   "outputs": [
    {
     "data": {
      "text/plain": [
       "<matplotlib.collections.PathCollection at 0x3eeb9438>"
      ]
     },
     "execution_count": 16,
     "metadata": {},
     "output_type": "execute_result"
    },
    {
     "data": {
      "image/png": "[encoded data removed]",
      "text/plain": [
       "<Figure size 432x288 with 1 Axes>"
      ]
     },
     "metadata": {
      "needs_background": "light"
     },
     "output_type": "display_data"
    }
   ],
   "source": [
    "plt.scatter(train.Quality_label, train.Parameter4)"
   ]
  },
  {
   "cell_type": "code",
   "execution_count": 17,
   "metadata": {
    "ExecuteTime": {
     "end_time": "2019-09-03T06:16:28.099502Z",
     "start_time": "2019-09-03T06:16:28.092501Z"
    }
   },
   "outputs": [],
   "source": [
    "train = train[train.Parameter4<=80000]"
   ]
  },
  {
   "cell_type": "code",
   "execution_count": 18,
   "metadata": {
    "ExecuteTime": {
     "end_time": "2019-09-03T06:16:32.661082Z",
     "start_time": "2019-09-03T06:16:32.397048Z"
    }
   },
   "outputs": [
    {
     "data": {
      "text/plain": [
       "<matplotlib.collections.PathCollection at 0x3ef16940>"
      ]
     },
     "execution_count": 18,
     "metadata": {},
     "output_type": "execute_result"
    },
    {
     "data": {
      "image/png": "[encoded data removed]",
      "text/plain": [
       "<Figure size 432x288 with 1 Axes>"
      ]
     },
     "metadata": {
      "needs_background": "light"
     },
     "output_type": "display_data"
    }
   ],
   "source": [
    "plt.scatter(train.Quality_label, train.Parameter5)\n",
    "# 剔除train.Parameter5>4的数据"
   ]
  },
  {
   "cell_type": "code",
   "execution_count": 19,
   "metadata": {
    "ExecuteTime": {
     "end_time": "2019-09-03T06:16:37.685220Z",
     "start_time": "2019-09-03T06:16:37.677219Z"
    }
   },
   "outputs": [],
   "source": [
    "train = train[train.Parameter5<=60]"
   ]
  },
  {
   "cell_type": "code",
   "execution_count": 20,
   "metadata": {
    "ExecuteTime": {
     "end_time": "2019-09-03T06:16:41.804743Z",
     "start_time": "2019-09-03T06:16:41.557711Z"
    }
   },
   "outputs": [
    {
     "data": {
      "text/plain": [
       "<matplotlib.collections.PathCollection at 0x3ef69c50>"
      ]
     },
     "execution_count": 20,
     "metadata": {},
     "output_type": "execute_result"
    },
    {
     "data": {
      "image/png": "[encoded data removed]",
      "text/plain": [
       "<Figure size 432x288 with 1 Axes>"
      ]
     },
     "metadata": {
      "needs_background": "light"
     },
     "output_type": "display_data"
    }
   ],
   "source": [
    "plt.scatter(train.Quality_label, train.Parameter6)"
   ]
  },
  {
   "cell_type": "code",
   "execution_count": 21,
   "metadata": {
    "ExecuteTime": {
     "end_time": "2019-09-03T06:16:44.693109Z",
     "start_time": "2019-09-03T06:16:44.450579Z"
    }
   },
   "outputs": [
    {
     "data": {
      "text/plain": [
       "<matplotlib.collections.PathCollection at 0x3efbef28>"
      ]
     },
     "execution_count": 21,
     "metadata": {},
     "output_type": "execute_result"
    },
    {
     "data": {
      "image/png": "[encoded data removed]",
      "text/plain": [
       "<Figure size 432x288 with 1 Axes>"
      ]
     },
     "metadata": {
      "needs_background": "light"
     },
     "output_type": "display_data"
    }
   ],
   "source": [
    "plt.scatter(train.Quality_label, train.Parameter7)"
   ]
  },
  {
   "cell_type": "code",
   "execution_count": 22,
   "metadata": {
    "ExecuteTime": {
     "end_time": "2019-09-03T06:16:59.906541Z",
     "start_time": "2019-09-03T06:16:59.899540Z"
    }
   },
   "outputs": [],
   "source": [
    "train = train[train.Parameter7<=30000]"
   ]
  },
  {
   "cell_type": "code",
   "execution_count": 23,
   "metadata": {
    "ExecuteTime": {
     "end_time": "2019-09-03T06:17:03.818538Z",
     "start_time": "2019-09-03T06:17:03.546004Z"
    }
   },
   "outputs": [
    {
     "data": {
      "text/plain": [
       "<matplotlib.collections.PathCollection at 0x3f028400>"
      ]
     },
     "execution_count": 23,
     "metadata": {},
     "output_type": "execute_result"
    },
    {
     "data": {
      "image/png": "[encoded data removed]",
      "text/plain": [
       "<Figure size 432x288 with 1 Axes>"
      ]
     },
     "metadata": {
      "needs_background": "light"
     },
     "output_type": "display_data"
    }
   ],
   "source": [
    "plt.scatter(train.Quality_label, train.Parameter8)\n",
    "# 剔除train.Parameter8>8的数据"
   ]
  },
  {
   "cell_type": "code",
   "execution_count": 24,
   "metadata": {
    "ExecuteTime": {
     "end_time": "2019-09-03T06:17:21.056227Z",
     "start_time": "2019-09-03T06:17:21.050226Z"
    }
   },
   "outputs": [],
   "source": [
    "train = train[train.Parameter8<=5000]"
   ]
  },
  {
   "cell_type": "code",
   "execution_count": 25,
   "metadata": {
    "ExecuteTime": {
     "end_time": "2019-09-03T06:17:24.672186Z",
     "start_time": "2019-09-03T06:17:24.434656Z"
    }
   },
   "outputs": [
    {
     "data": {
      "text/plain": [
       "<matplotlib.collections.PathCollection at 0x3f06fa58>"
      ]
     },
     "execution_count": 25,
     "metadata": {},
     "output_type": "execute_result"
    },
    {
     "data": {
      "image/png": "[encoded data removed]",
      "text/plain": [
       "<Figure size 432x288 with 1 Axes>"
      ]
     },
     "metadata": {
      "needs_background": "light"
     },
     "output_type": "display_data"
    }
   ],
   "source": [
    "plt.scatter(train.Quality_label, train.Parameter9)\n",
    "# 剔除train.Parameter9>12的数据"
   ]
  },
  {
   "cell_type": "code",
   "execution_count": 27,
   "metadata": {
    "ExecuteTime": {
     "end_time": "2019-09-03T06:18:29.689442Z",
     "start_time": "2019-09-03T06:18:29.678441Z"
    }
   },
   "outputs": [],
   "source": [
    "train = train[train.Parameter9<=1e8]"
   ]
  },
  {
   "cell_type": "code",
   "execution_count": 28,
   "metadata": {
    "ExecuteTime": {
     "end_time": "2019-09-03T06:18:33.061871Z",
     "start_time": "2019-09-03T06:18:32.818340Z"
    }
   },
   "outputs": [
    {
     "data": {
      "text/plain": [
       "<matplotlib.collections.PathCollection at 0x3ba3f588>"
      ]
     },
     "execution_count": 28,
     "metadata": {},
     "output_type": "execute_result"
    },
    {
     "data": {
      "image/png": "[encoded data removed]",
      "text/plain": [
       "<Figure size 432x288 with 1 Axes>"
      ]
     },
     "metadata": {
      "needs_background": "light"
     },
     "output_type": "display_data"
    }
   ],
   "source": [
    "plt.scatter(train.Quality_label, train.Parameter10)"
   ]
  },
  {
   "cell_type": "code",
   "execution_count": 29,
   "metadata": {
    "ExecuteTime": {
     "end_time": "2019-09-03T06:18:42.411058Z",
     "start_time": "2019-09-03T06:18:42.406057Z"
    }
   },
   "outputs": [
    {
     "data": {
      "text/plain": [
       "(5967, 22)"
      ]
     },
     "execution_count": 29,
     "metadata": {},
     "output_type": "execute_result"
    }
   ],
   "source": [
    "train.shape"
   ]
  },
  {
   "cell_type": "code",
   "execution_count": 37,
   "metadata": {
    "ExecuteTime": {
     "end_time": "2019-09-03T06:30:35.771143Z",
     "start_time": "2019-09-03T06:30:35.014047Z"
    }
   },
   "outputs": [
    {
     "data": {
      "text/plain": [
       "<matplotlib.axes._subplots.AxesSubplot at 0x41182710>"
      ]
     },
     "execution_count": 37,
     "metadata": {},
     "output_type": "execute_result"
    },
    {
     "data": {
      "image/png": "[encoded data removed]",
      "text/plain": [
       "<Figure size 576x432 with 2 Axes>"
      ]
     },
     "metadata": {
      "needs_background": "light"
     },
     "output_type": "display_data"
    }
   ],
   "source": [
    "plt.figure(figsize=(8,6))\n",
    "sns.heatmap(train[test_features].corr(), vmax=0.8, vmin=-0.8, linewidths=0.2, annot=True)"
   ]
  },
  {
   "cell_type": "markdown",
   "metadata": {},
   "source": [
    "### 构建数据组合"
   ]
  },
  {
   "cell_type": "code",
   "execution_count": 152,
   "metadata": {
    "ExecuteTime": {
     "end_time": "2019-09-03T09:23:49.919532Z",
     "start_time": "2019-09-03T09:23:49.905030Z"
    }
   },
   "outputs": [],
   "source": [
    "selected_features = ['Parameter1', 'Parameter2', 'Parameter3',\n",
    "                     'Parameter4', 'Parameter6', 'Parameter7', \n",
    "                     'Parameter8', 'Parameter9', 'Parameter10']\n",
    "full = pd.concat([train[selected_features], test[selected_features]], ignore_index=True)"
   ]
  },
  {
   "cell_type": "markdown",
   "metadata": {},
   "source": [
    "#### Target Encoding"
   ]
  },
  {
   "cell_type": "code",
   "execution_count": null,
   "metadata": {},
   "outputs": [],
   "source": []
  },
  {
   "cell_type": "markdown",
   "metadata": {},
   "source": [
    "#### Frequency Encoding"
   ]
  },
  {
   "cell_type": "code",
   "execution_count": 154,
   "metadata": {
    "ExecuteTime": {
     "end_time": "2019-09-03T09:24:09.289492Z",
     "start_time": "2019-09-03T09:23:51.671255Z"
    }
   },
   "outputs": [],
   "source": [
    "full['Parameter6_ctr'] = LabelEncoder().fit_transform(full.Parameter6)\n",
    "\n",
    "def parameter6_ctr(x):\n",
    "    ct = full.Parameter6_ctr.value_counts() / full.shape[0]\n",
    "    return ct[x]\n",
    "full['Parameter6_ctr'] = full.Parameter6_ctr.apply(parameter6_ctr)"
   ]
  },
  {
   "cell_type": "code",
   "execution_count": 155,
   "metadata": {
    "ExecuteTime": {
     "end_time": "2019-09-03T09:24:27.188765Z",
     "start_time": "2019-09-03T09:24:09.738549Z"
    }
   },
   "outputs": [],
   "source": [
    "full['Parameter7_ctr'] = LabelEncoder().fit_transform(full.Parameter7)\n",
    "\n",
    "def parameter7_ctr(x):\n",
    "    ct = full.Parameter7_ctr.value_counts() / full.shape[0]\n",
    "    return ct[x]\n",
    "full['Parameter7_ctr'] = full.Parameter7_ctr.apply(parameter7_ctr)"
   ]
  },
  {
   "cell_type": "code",
   "execution_count": 156,
   "metadata": {
    "ExecuteTime": {
     "end_time": "2019-09-03T09:24:44.969023Z",
     "start_time": "2019-09-03T09:24:27.629821Z"
    }
   },
   "outputs": [],
   "source": [
    "full['Parameter8_ctr'] = LabelEncoder().fit_transform(full.Parameter8)\n",
    "\n",
    "def parameter8_ctr(x):\n",
    "    ct = full.Parameter8_ctr.value_counts() / full.shape[0]\n",
    "    return ct[x]\n",
    "full['Parameter8_ctr'] = full.Parameter8_ctr.apply(parameter8_ctr)"
   ]
  },
  {
   "cell_type": "code",
   "execution_count": 157,
   "metadata": {
    "ExecuteTime": {
     "end_time": "2019-09-03T09:25:02.620264Z",
     "start_time": "2019-09-03T09:24:45.412079Z"
    }
   },
   "outputs": [],
   "source": [
    "full['Parameter9_ctr'] = LabelEncoder().fit_transform(full.Parameter9)\n",
    "\n",
    "def parameter9_ctr(x):\n",
    "    ct = full.Parameter9_ctr.value_counts() / full.shape[0]\n",
    "    return ct[x]\n",
    "full['Parameter9_ctr'] = full.Parameter9_ctr.apply(parameter9_ctr)"
   ]
  },
  {
   "cell_type": "code",
   "execution_count": 158,
   "metadata": {
    "ExecuteTime": {
     "end_time": "2019-09-03T09:25:19.926962Z",
     "start_time": "2019-09-03T09:25:03.130829Z"
    }
   },
   "outputs": [],
   "source": [
    "full['Parameter10_ctr'] = LabelEncoder().fit_transform(full.Parameter10)\n",
    "\n",
    "def parameter10_ctr(x):\n",
    "    ct = full.Parameter10_ctr.value_counts() / full.shape[0]\n",
    "    return ct[x]\n",
    "full['Parameter10_ctr'] = full.Parameter10_ctr.apply(parameter10_ctr)"
   ]
  },
  {
   "cell_type": "code",
   "execution_count": 160,
   "metadata": {
    "ExecuteTime": {
     "end_time": "2019-09-03T09:26:29.823337Z",
     "start_time": "2019-09-03T09:26:29.817837Z"
    }
   },
   "outputs": [],
   "source": [
    "full2 = full.copy()"
   ]
  },
  {
   "cell_type": "code",
   "execution_count": 161,
   "metadata": {
    "ExecuteTime": {
     "end_time": "2019-09-03T09:26:33.766338Z",
     "start_time": "2019-09-03T09:26:33.726833Z"
    }
   },
   "outputs": [
    {
     "data": {
      "text/html": [
       "<div>\n",
       "<style scoped>\n",
       "    .dataframe tbody tr th:only-of-type {\n",
       "        vertical-align: middle;\n",
       "    }\n",
       "\n",
       "    .dataframe tbody tr th {\n",
       "        vertical-align: top;\n",
       "    }\n",
       "\n",
       "    .dataframe thead th {\n",
       "        text-align: right;\n",
       "    }\n",
       "</style>\n",
       "<table border=\"1\" class=\"dataframe\">\n",
       "  <thead>\n",
       "    <tr style=\"text-align: right;\">\n",
       "      <th></th>\n",
       "      <th>Parameter1</th>\n",
       "      <th>Parameter2</th>\n",
       "      <th>Parameter3</th>\n",
       "      <th>Parameter4</th>\n",
       "      <th>Parameter6</th>\n",
       "      <th>Parameter7</th>\n",
       "      <th>Parameter8</th>\n",
       "      <th>Parameter9</th>\n",
       "      <th>Parameter10</th>\n",
       "      <th>Parameter6_ctr</th>\n",
       "      <th>Parameter7_ctr</th>\n",
       "      <th>Parameter8_ctr</th>\n",
       "      <th>Parameter9_ctr</th>\n",
       "      <th>Parameter10_ctr</th>\n",
       "    </tr>\n",
       "  </thead>\n",
       "  <tbody>\n",
       "    <tr>\n",
       "      <th>0</th>\n",
       "      <td>0.001660</td>\n",
       "      <td>0.591013</td>\n",
       "      <td>147.608373</td>\n",
       "      <td>38.186345</td>\n",
       "      <td>0.000612</td>\n",
       "      <td>2286.523413</td>\n",
       "      <td>0.035407</td>\n",
       "      <td>0.593081</td>\n",
       "      <td>1.010385</td>\n",
       "      <td>0.001588</td>\n",
       "      <td>0.054734</td>\n",
       "      <td>0.417147</td>\n",
       "      <td>0.463358</td>\n",
       "      <td>0.028244</td>\n",
       "    </tr>\n",
       "    <tr>\n",
       "      <th>1</th>\n",
       "      <td>1.601749</td>\n",
       "      <td>0.015052</td>\n",
       "      <td>0.035864</td>\n",
       "      <td>51.130326</td>\n",
       "      <td>0.002397</td>\n",
       "      <td>2286.523413</td>\n",
       "      <td>0.035407</td>\n",
       "      <td>0.593081</td>\n",
       "      <td>1.010385</td>\n",
       "      <td>0.016378</td>\n",
       "      <td>0.054734</td>\n",
       "      <td>0.417147</td>\n",
       "      <td>0.463358</td>\n",
       "      <td>0.028244</td>\n",
       "    </tr>\n",
       "    <tr>\n",
       "      <th>2</th>\n",
       "      <td>0.098039</td>\n",
       "      <td>69.233685</td>\n",
       "      <td>0.080920</td>\n",
       "      <td>0.112265</td>\n",
       "      <td>0.001972</td>\n",
       "      <td>2286.523413</td>\n",
       "      <td>0.035407</td>\n",
       "      <td>0.593081</td>\n",
       "      <td>1.010385</td>\n",
       "      <td>0.008440</td>\n",
       "      <td>0.054734</td>\n",
       "      <td>0.417147</td>\n",
       "      <td>0.463358</td>\n",
       "      <td>0.028244</td>\n",
       "    </tr>\n",
       "    <tr>\n",
       "      <th>3</th>\n",
       "      <td>18.181860</td>\n",
       "      <td>0.047325</td>\n",
       "      <td>0.018061</td>\n",
       "      <td>1.098102</td>\n",
       "      <td>0.002397</td>\n",
       "      <td>2286.523413</td>\n",
       "      <td>0.035407</td>\n",
       "      <td>0.593081</td>\n",
       "      <td>1.010385</td>\n",
       "      <td>0.016378</td>\n",
       "      <td>0.054734</td>\n",
       "      <td>0.417147</td>\n",
       "      <td>0.463358</td>\n",
       "      <td>0.028244</td>\n",
       "    </tr>\n",
       "    <tr>\n",
       "      <th>4</th>\n",
       "      <td>0.012085</td>\n",
       "      <td>0.008749</td>\n",
       "      <td>0.005509</td>\n",
       "      <td>524.327396</td>\n",
       "      <td>0.002397</td>\n",
       "      <td>2286.523413</td>\n",
       "      <td>0.035407</td>\n",
       "      <td>0.593081</td>\n",
       "      <td>1.010385</td>\n",
       "      <td>0.016378</td>\n",
       "      <td>0.054734</td>\n",
       "      <td>0.417147</td>\n",
       "      <td>0.463358</td>\n",
       "      <td>0.028244</td>\n",
       "    </tr>\n",
       "  </tbody>\n",
       "</table>\n",
       "</div>"
      ],
      "text/plain": [
       "   Parameter1  Parameter2  Parameter3  Parameter4  Parameter6   Parameter7  \\\n",
       "0    0.001660    0.591013  147.608373   38.186345    0.000612  2286.523413   \n",
       "1    1.601749    0.015052    0.035864   51.130326    0.002397  2286.523413   \n",
       "2    0.098039   69.233685    0.080920    0.112265    0.001972  2286.523413   \n",
       "3   18.181860    0.047325    0.018061    1.098102    0.002397  2286.523413   \n",
       "4    0.012085    0.008749    0.005509  524.327396    0.002397  2286.523413   \n",
       "\n",
       "   Parameter8  Parameter9  Parameter10  Parameter6_ctr  Parameter7_ctr  \\\n",
       "0    0.035407    0.593081     1.010385        0.001588        0.054734   \n",
       "1    0.035407    0.593081     1.010385        0.016378        0.054734   \n",
       "2    0.035407    0.593081     1.010385        0.008440        0.054734   \n",
       "3    0.035407    0.593081     1.010385        0.016378        0.054734   \n",
       "4    0.035407    0.593081     1.010385        0.016378        0.054734   \n",
       "\n",
       "   Parameter8_ctr  Parameter9_ctr  Parameter10_ctr  \n",
       "0        0.417147        0.463358         0.028244  \n",
       "1        0.417147        0.463358         0.028244  \n",
       "2        0.417147        0.463358         0.028244  \n",
       "3        0.417147        0.463358         0.028244  \n",
       "4        0.417147        0.463358         0.028244  "
      ]
     },
     "execution_count": 161,
     "metadata": {},
     "output_type": "execute_result"
    }
   ],
   "source": [
    "full2.head()"
   ]
  },
  {
   "cell_type": "markdown",
   "metadata": {},
   "source": [
    "#### 取log"
   ]
  },
  {
   "cell_type": "code",
   "execution_count": 162,
   "metadata": {
    "ExecuteTime": {
     "end_time": "2019-09-03T09:26:47.536587Z",
     "start_time": "2019-09-03T09:26:47.529586Z"
    }
   },
   "outputs": [],
   "source": [
    "features = ['Parameter6', 'Parameter7', 'Parameter8', \n",
    "            'Parameter9', 'Parameter10']\n",
    "for feature in features:\n",
    "    full2[feature] = np.log(full2[feature])"
   ]
  },
  {
   "cell_type": "code",
   "execution_count": 163,
   "metadata": {
    "ExecuteTime": {
     "end_time": "2019-09-03T09:26:49.591848Z",
     "start_time": "2019-09-03T09:26:49.558343Z"
    }
   },
   "outputs": [
    {
     "data": {
      "text/html": [
       "<div>\n",
       "<style scoped>\n",
       "    .dataframe tbody tr th:only-of-type {\n",
       "        vertical-align: middle;\n",
       "    }\n",
       "\n",
       "    .dataframe tbody tr th {\n",
       "        vertical-align: top;\n",
       "    }\n",
       "\n",
       "    .dataframe thead th {\n",
       "        text-align: right;\n",
       "    }\n",
       "</style>\n",
       "<table border=\"1\" class=\"dataframe\">\n",
       "  <thead>\n",
       "    <tr style=\"text-align: right;\">\n",
       "      <th></th>\n",
       "      <th>Parameter1</th>\n",
       "      <th>Parameter2</th>\n",
       "      <th>Parameter3</th>\n",
       "      <th>Parameter4</th>\n",
       "      <th>Parameter6</th>\n",
       "      <th>Parameter7</th>\n",
       "      <th>Parameter8</th>\n",
       "      <th>Parameter9</th>\n",
       "      <th>Parameter10</th>\n",
       "      <th>Parameter6_ctr</th>\n",
       "      <th>Parameter7_ctr</th>\n",
       "      <th>Parameter8_ctr</th>\n",
       "      <th>Parameter9_ctr</th>\n",
       "      <th>Parameter10_ctr</th>\n",
       "    </tr>\n",
       "  </thead>\n",
       "  <tbody>\n",
       "    <tr>\n",
       "      <th>0</th>\n",
       "      <td>0.001660</td>\n",
       "      <td>0.591013</td>\n",
       "      <td>147.608373</td>\n",
       "      <td>38.186345</td>\n",
       "      <td>-7.398725</td>\n",
       "      <td>7.734788</td>\n",
       "      <td>-3.340841</td>\n",
       "      <td>-0.522424</td>\n",
       "      <td>0.010331</td>\n",
       "      <td>0.001588</td>\n",
       "      <td>0.054734</td>\n",
       "      <td>0.417147</td>\n",
       "      <td>0.463358</td>\n",
       "      <td>0.028244</td>\n",
       "    </tr>\n",
       "    <tr>\n",
       "      <th>1</th>\n",
       "      <td>1.601749</td>\n",
       "      <td>0.015052</td>\n",
       "      <td>0.035864</td>\n",
       "      <td>51.130326</td>\n",
       "      <td>-6.033532</td>\n",
       "      <td>7.734788</td>\n",
       "      <td>-3.340841</td>\n",
       "      <td>-0.522424</td>\n",
       "      <td>0.010331</td>\n",
       "      <td>0.016378</td>\n",
       "      <td>0.054734</td>\n",
       "      <td>0.417147</td>\n",
       "      <td>0.463358</td>\n",
       "      <td>0.028244</td>\n",
       "    </tr>\n",
       "    <tr>\n",
       "      <th>2</th>\n",
       "      <td>0.098039</td>\n",
       "      <td>69.233685</td>\n",
       "      <td>0.080920</td>\n",
       "      <td>0.112265</td>\n",
       "      <td>-6.228560</td>\n",
       "      <td>7.734788</td>\n",
       "      <td>-3.340841</td>\n",
       "      <td>-0.522424</td>\n",
       "      <td>0.010331</td>\n",
       "      <td>0.008440</td>\n",
       "      <td>0.054734</td>\n",
       "      <td>0.417147</td>\n",
       "      <td>0.463358</td>\n",
       "      <td>0.028244</td>\n",
       "    </tr>\n",
       "    <tr>\n",
       "      <th>3</th>\n",
       "      <td>18.181860</td>\n",
       "      <td>0.047325</td>\n",
       "      <td>0.018061</td>\n",
       "      <td>1.098102</td>\n",
       "      <td>-6.033532</td>\n",
       "      <td>7.734788</td>\n",
       "      <td>-3.340841</td>\n",
       "      <td>-0.522424</td>\n",
       "      <td>0.010331</td>\n",
       "      <td>0.016378</td>\n",
       "      <td>0.054734</td>\n",
       "      <td>0.417147</td>\n",
       "      <td>0.463358</td>\n",
       "      <td>0.028244</td>\n",
       "    </tr>\n",
       "    <tr>\n",
       "      <th>4</th>\n",
       "      <td>0.012085</td>\n",
       "      <td>0.008749</td>\n",
       "      <td>0.005509</td>\n",
       "      <td>524.327396</td>\n",
       "      <td>-6.033532</td>\n",
       "      <td>7.734788</td>\n",
       "      <td>-3.340841</td>\n",
       "      <td>-0.522424</td>\n",
       "      <td>0.010331</td>\n",
       "      <td>0.016378</td>\n",
       "      <td>0.054734</td>\n",
       "      <td>0.417147</td>\n",
       "      <td>0.463358</td>\n",
       "      <td>0.028244</td>\n",
       "    </tr>\n",
       "  </tbody>\n",
       "</table>\n",
       "</div>"
      ],
      "text/plain": [
       "   Parameter1  Parameter2  Parameter3  Parameter4  Parameter6  Parameter7  \\\n",
       "0    0.001660    0.591013  147.608373   38.186345   -7.398725    7.734788   \n",
       "1    1.601749    0.015052    0.035864   51.130326   -6.033532    7.734788   \n",
       "2    0.098039   69.233685    0.080920    0.112265   -6.228560    7.734788   \n",
       "3   18.181860    0.047325    0.018061    1.098102   -6.033532    7.734788   \n",
       "4    0.012085    0.008749    0.005509  524.327396   -6.033532    7.734788   \n",
       "\n",
       "   Parameter8  Parameter9  Parameter10  Parameter6_ctr  Parameter7_ctr  \\\n",
       "0   -3.340841   -0.522424     0.010331        0.001588        0.054734   \n",
       "1   -3.340841   -0.522424     0.010331        0.016378        0.054734   \n",
       "2   -3.340841   -0.522424     0.010331        0.008440        0.054734   \n",
       "3   -3.340841   -0.522424     0.010331        0.016378        0.054734   \n",
       "4   -3.340841   -0.522424     0.010331        0.016378        0.054734   \n",
       "\n",
       "   Parameter8_ctr  Parameter9_ctr  Parameter10_ctr  \n",
       "0        0.417147        0.463358         0.028244  \n",
       "1        0.417147        0.463358         0.028244  \n",
       "2        0.417147        0.463358         0.028244  \n",
       "3        0.417147        0.463358         0.028244  \n",
       "4        0.417147        0.463358         0.028244  "
      ]
     },
     "execution_count": 163,
     "metadata": {},
     "output_type": "execute_result"
    }
   ],
   "source": [
    "full2.head()"
   ]
  },
  {
   "cell_type": "markdown",
   "metadata": {},
   "source": [
    "#### 数据分割"
   ]
  },
  {
   "cell_type": "code",
   "execution_count": 169,
   "metadata": {
    "ExecuteTime": {
     "end_time": "2019-09-03T09:33:56.100007Z",
     "start_time": "2019-09-03T09:33:56.093507Z"
    },
    "scrolled": true
   },
   "outputs": [
    {
     "name": "stdout",
     "output_type": "stream",
     "text": [
      "shape of trainX: (5967, 14)\n",
      "shape of trainY: (5967,)\n",
      "shape of testX: (6000, 14)\n"
     ]
    }
   ],
   "source": [
    "trainX = full2[:train.shape[0]]\n",
    "trainY = train.label\n",
    "testX = full2[train.shape[0]:]\n",
    "\n",
    "print('shape of trainX:', trainX.shape)\n",
    "print('shape of trainY:', trainY.shape)\n",
    "print('shape of testX:', testX.shape)"
   ]
  },
  {
   "cell_type": "markdown",
   "metadata": {},
   "source": [
    "#### 划分训练集和验证集"
   ]
  },
  {
   "cell_type": "code",
   "execution_count": 171,
   "metadata": {
    "ExecuteTime": {
     "end_time": "2019-09-03T09:34:06.443821Z",
     "start_time": "2019-09-03T09:34:06.430319Z"
    }
   },
   "outputs": [
    {
     "data": {
      "text/plain": [
       "(4773, 14)"
      ]
     },
     "execution_count": 171,
     "metadata": {},
     "output_type": "execute_result"
    }
   ],
   "source": [
    "X_train, X_test, y_train, y_test = train_test_split(trainX, trainY, test_size=0.2, random_state=42)\n",
    "X_train.shape"
   ]
  },
  {
   "cell_type": "code",
   "execution_count": 172,
   "metadata": {
    "ExecuteTime": {
     "end_time": "2019-09-03T09:38:44.223094Z",
     "start_time": "2019-09-03T09:34:07.853500Z"
    }
   },
   "outputs": [
    {
     "name": "stdout",
     "output_type": "stream",
     "text": [
      "0:\tlearn: 1.3817835\ttotal: 177ms\tremaining: 5m 54s\n",
      "100:\tlearn: 1.1645993\ttotal: 14.2s\tremaining: 4m 26s\n",
      "200:\tlearn: 1.1078295\ttotal: 27.8s\tremaining: 4m 9s\n",
      "300:\tlearn: 1.0813386\ttotal: 41.5s\tremaining: 3m 54s\n",
      "400:\tlearn: 1.0664507\ttotal: 54.5s\tremaining: 3m 37s\n",
      "500:\tlearn: 1.0532982\ttotal: 1m 8s\tremaining: 3m 23s\n",
      "600:\tlearn: 1.0404073\ttotal: 1m 20s\tremaining: 3m 8s\n",
      "700:\tlearn: 1.0294221\ttotal: 1m 33s\tremaining: 2m 54s\n",
      "800:\tlearn: 1.0196433\ttotal: 1m 46s\tremaining: 2m 40s\n",
      "900:\tlearn: 1.0108647\ttotal: 2m\tremaining: 2m 26s\n",
      "1000:\tlearn: 1.0024876\ttotal: 2m 13s\tremaining: 2m 13s\n",
      "1100:\tlearn: 0.9937532\ttotal: 2m 27s\tremaining: 2m\n",
      "1200:\tlearn: 0.9842423\ttotal: 2m 41s\tremaining: 1m 47s\n",
      "1300:\tlearn: 0.9752734\ttotal: 2m 56s\tremaining: 1m 34s\n",
      "1400:\tlearn: 0.9664752\ttotal: 3m 10s\tremaining: 1m 21s\n",
      "1500:\tlearn: 0.9582077\ttotal: 3m 25s\tremaining: 1m 8s\n",
      "1600:\tlearn: 0.9499571\ttotal: 3m 39s\tremaining: 54.7s\n",
      "1700:\tlearn: 0.9414025\ttotal: 3m 53s\tremaining: 41.1s\n",
      "1800:\tlearn: 0.9333858\ttotal: 4m 8s\tremaining: 27.4s\n",
      "1900:\tlearn: 0.9257054\ttotal: 4m 22s\tremaining: 13.7s\n",
      "1999:\tlearn: 0.9181081\ttotal: 4m 36s\tremaining: 0us\n"
     ]
    }
   ],
   "source": [
    "model = CatBoostClassifier(iterations=2000, depth=8, learning_rate=0.01, verbose=100, loss_function='MultiClass', random_state=42)\n",
    "model.fit(X_train, y_train)\n",
    "\n",
    "predY = model.predict(X_test)"
   ]
  },
  {
   "cell_type": "code",
   "execution_count": null,
   "metadata": {},
   "outputs": [],
   "source": [
    "model = lgb.LGBMClassifier()\n",
    "model.fit(X_trainnay_trainin, y_train)\n",
    "predY = model.predict(X_test)"
   ]
  },
  {
   "cell_type": "code",
   "execution_count": 173,
   "metadata": {
    "ExecuteTime": {
     "end_time": "2019-09-03T09:39:22.861501Z",
     "start_time": "2019-09-03T09:39:22.846999Z"
    },
    "scrolled": true
   },
   "outputs": [
    {
     "data": {
      "text/plain": [
       "array([0.53768844])"
      ]
     },
     "execution_count": 173,
     "metadata": {},
     "output_type": "execute_result"
    }
   ],
   "source": [
    "sum(np.array(y_test.tolist()).reshape(-1,1) == predY) / predY.shape[0]"
   ]
  },
  {
   "cell_type": "markdown",
   "metadata": {
    "ExecuteTime": {
     "end_time": "2019-08-26T06:49:46.859248Z",
     "start_time": "2019-08-26T06:49:46.836247Z"
    }
   },
   "source": [
    "### 模型构建"
   ]
  },
  {
   "cell_type": "markdown",
   "metadata": {},
   "source": [
    "#### LogisticRegression"
   ]
  },
  {
   "cell_type": "code",
   "execution_count": null,
   "metadata": {
    "ExecuteTime": {
     "end_time": "2019-08-30T02:26:17.295084Z",
     "start_time": "2019-08-30T02:26:16.679049Z"
    }
   },
   "outputs": [],
   "source": [
    "lr = LogisticRegression()\n",
    "lr.fit(trainX, trainY)\n",
    "predY = lr.predict(testX)\n",
    "proba = lr.predict_proba(testX)"
   ]
  },
  {
   "cell_type": "markdown",
   "metadata": {},
   "source": [
    "#### AdaBoostClassifier"
   ]
  },
  {
   "cell_type": "code",
   "execution_count": null,
   "metadata": {
    "ExecuteTime": {
     "end_time": "2019-08-27T02:44:51.872276Z",
     "start_time": "2019-08-27T02:44:51.223239Z"
    }
   },
   "outputs": [],
   "source": [
    "ada = AdaBoostClassifier()\n",
    "ada.fit(trainX, trainY)\n",
    "predY = ada.predict(testX)"
   ]
  },
  {
   "cell_type": "markdown",
   "metadata": {},
   "source": [
    "#### xgboost"
   ]
  },
  {
   "cell_type": "code",
   "execution_count": null,
   "metadata": {
    "ExecuteTime": {
     "end_time": "2019-08-30T01:51:25.649449Z",
     "start_time": "2019-08-30T01:51:21.375204Z"
    }
   },
   "outputs": [],
   "source": [
    "xgbc = xgb.XGBClassifier()\n",
    "xgbc.fit(trainX, trainY)\n",
    "predY = xgbc.predict(testX)"
   ]
  },
  {
   "cell_type": "markdown",
   "metadata": {},
   "source": [
    "#### lightgbm"
   ]
  },
  {
   "cell_type": "code",
   "execution_count": null,
   "metadata": {},
   "outputs": [],
   "source": [
    "lgbc = lgb.LGBMClassifier()\n",
    "lgbc.fit(trainX, trainY)\n",
    "predY = lgbc.predict(testX)"
   ]
  },
  {
   "cell_type": "markdown",
   "metadata": {},
   "source": [
    "#### catboost"
   ]
  },
  {
   "cell_type": "code",
   "execution_count": 178,
   "metadata": {
    "ExecuteTime": {
     "end_time": "2019-09-03T09:49:16.671405Z",
     "start_time": "2019-09-03T09:44:35.758234Z"
    }
   },
   "outputs": [
    {
     "name": "stdout",
     "output_type": "stream",
     "text": [
      "0:\tlearn: 1.3809191\ttotal: 181ms\tremaining: 6m 2s\n",
      "100:\tlearn: 1.1617539\ttotal: 14.4s\tremaining: 4m 30s\n",
      "200:\tlearn: 1.1085406\ttotal: 28s\tremaining: 4m 10s\n",
      "300:\tlearn: 1.0853527\ttotal: 42s\tremaining: 3m 57s\n",
      "400:\tlearn: 1.0709815\ttotal: 55.2s\tremaining: 3m 40s\n",
      "500:\tlearn: 1.0593506\ttotal: 1m 8s\tremaining: 3m 25s\n",
      "600:\tlearn: 1.0496258\ttotal: 1m 21s\tremaining: 3m 10s\n",
      "700:\tlearn: 1.0410494\ttotal: 1m 35s\tremaining: 2m 56s\n",
      "800:\tlearn: 1.0331178\ttotal: 1m 49s\tremaining: 2m 43s\n",
      "900:\tlearn: 1.0257411\ttotal: 2m 2s\tremaining: 2m 29s\n",
      "1000:\tlearn: 1.0190631\ttotal: 2m 16s\tremaining: 2m 15s\n",
      "1100:\tlearn: 1.0112720\ttotal: 2m 29s\tremaining: 2m 2s\n",
      "1200:\tlearn: 1.0031853\ttotal: 2m 44s\tremaining: 1m 49s\n",
      "1300:\tlearn: 0.9949379\ttotal: 2m 59s\tremaining: 1m 36s\n",
      "1400:\tlearn: 0.9868481\ttotal: 3m 13s\tremaining: 1m 22s\n",
      "1500:\tlearn: 0.9788863\ttotal: 3m 28s\tremaining: 1m 9s\n",
      "1600:\tlearn: 0.9717441\ttotal: 3m 43s\tremaining: 55.6s\n",
      "1700:\tlearn: 0.9647109\ttotal: 3m 57s\tremaining: 41.8s\n",
      "1800:\tlearn: 0.9570847\ttotal: 4m 12s\tremaining: 27.9s\n",
      "1900:\tlearn: 0.9496264\ttotal: 4m 26s\tremaining: 13.9s\n",
      "1999:\tlearn: 0.9432530\ttotal: 4m 41s\tremaining: 0us\n"
     ]
    }
   ],
   "source": [
    "model = CatBoostClassifier(iterations=2000, depth=8, learning_rate=0.01, verbose=100, loss_function='MultiClass', random_state=42)\n",
    "model.fit(trainX, trainY)\n",
    "predY = model.predict(testX)"
   ]
  },
  {
   "cell_type": "markdown",
   "metadata": {},
   "source": [
    "_______"
   ]
  },
  {
   "cell_type": "code",
   "execution_count": 179,
   "metadata": {
    "ExecuteTime": {
     "end_time": "2019-09-03T09:50:06.313709Z",
     "start_time": "2019-09-03T09:50:06.261702Z"
    }
   },
   "outputs": [
    {
     "data": {
      "text/plain": [
       "array([[0.4090757 , 0.26165416, 0.24278862, 0.08648151],\n",
       "       [0.02916044, 0.20700067, 0.11458302, 0.64925587],\n",
       "       [0.04682677, 0.25819317, 0.12189914, 0.57308092],\n",
       "       ...,\n",
       "       [0.33220433, 0.29154404, 0.33605243, 0.04019921],\n",
       "       [0.09429223, 0.35188757, 0.12185662, 0.43196358],\n",
       "       [0.33905519, 0.3847701 , 0.22389694, 0.05227777]])"
      ]
     },
     "execution_count": 179,
     "metadata": {},
     "output_type": "execute_result"
    }
   ],
   "source": [
    "proba = model.predict_proba(testX)\n",
    "proba"
   ]
  },
  {
   "cell_type": "code",
   "execution_count": 180,
   "metadata": {
    "ExecuteTime": {
     "end_time": "2019-09-03T09:50:08.762020Z",
     "start_time": "2019-09-03T09:50:08.672008Z"
    },
    "scrolled": true
   },
   "outputs": [
    {
     "data": {
      "text/html": [
       "<div>\n",
       "<style scoped>\n",
       "    .dataframe tbody tr th:only-of-type {\n",
       "        vertical-align: middle;\n",
       "    }\n",
       "\n",
       "    .dataframe tbody tr th {\n",
       "        vertical-align: top;\n",
       "    }\n",
       "\n",
       "    .dataframe thead th {\n",
       "        text-align: right;\n",
       "    }\n",
       "</style>\n",
       "<table border=\"1\" class=\"dataframe\">\n",
       "  <thead>\n",
       "    <tr style=\"text-align: right;\">\n",
       "      <th></th>\n",
       "      <th>Group</th>\n",
       "      <th>Parameter1</th>\n",
       "      <th>Parameter10</th>\n",
       "      <th>Parameter2</th>\n",
       "      <th>Parameter3</th>\n",
       "      <th>Parameter4</th>\n",
       "      <th>Parameter5</th>\n",
       "      <th>Parameter6</th>\n",
       "      <th>Parameter7</th>\n",
       "      <th>Parameter8</th>\n",
       "      <th>Parameter9</th>\n",
       "      <th>pred</th>\n",
       "      <th>prob_Excellent</th>\n",
       "      <th>prob_Good</th>\n",
       "      <th>prob_Pass</th>\n",
       "      <th>prob_Fail</th>\n",
       "    </tr>\n",
       "  </thead>\n",
       "  <tbody>\n",
       "    <tr>\n",
       "      <th>0</th>\n",
       "      <td>0</td>\n",
       "      <td>0.235279</td>\n",
       "      <td>0.195680</td>\n",
       "      <td>0.351488</td>\n",
       "      <td>0.186814</td>\n",
       "      <td>0.086456</td>\n",
       "      <td>1.434060</td>\n",
       "      <td>1.230409</td>\n",
       "      <td>0.038483</td>\n",
       "      <td>2.931083</td>\n",
       "      <td>2.005852</td>\n",
       "      <td>1.0</td>\n",
       "      <td>0.409076</td>\n",
       "      <td>0.261654</td>\n",
       "      <td>0.242789</td>\n",
       "      <td>0.086482</td>\n",
       "    </tr>\n",
       "    <tr>\n",
       "      <th>1</th>\n",
       "      <td>0</td>\n",
       "      <td>0.043799</td>\n",
       "      <td>0.523976</td>\n",
       "      <td>32.590688</td>\n",
       "      <td>0.886285</td>\n",
       "      <td>29.702490</td>\n",
       "      <td>0.027434</td>\n",
       "      <td>0.016852</td>\n",
       "      <td>0.600827</td>\n",
       "      <td>0.118077</td>\n",
       "      <td>887.611257</td>\n",
       "      <td>4.0</td>\n",
       "      <td>0.029160</td>\n",
       "      <td>0.207001</td>\n",
       "      <td>0.114583</td>\n",
       "      <td>0.649256</td>\n",
       "    </tr>\n",
       "    <tr>\n",
       "      <th>2</th>\n",
       "      <td>0</td>\n",
       "      <td>21.466737</td>\n",
       "      <td>0.523976</td>\n",
       "      <td>11.847792</td>\n",
       "      <td>79499.554454</td>\n",
       "      <td>13544.605343</td>\n",
       "      <td>0.027434</td>\n",
       "      <td>0.016852</td>\n",
       "      <td>0.600827</td>\n",
       "      <td>0.118077</td>\n",
       "      <td>887.611257</td>\n",
       "      <td>4.0</td>\n",
       "      <td>0.046827</td>\n",
       "      <td>0.258193</td>\n",
       "      <td>0.121899</td>\n",
       "      <td>0.573081</td>\n",
       "    </tr>\n",
       "    <tr>\n",
       "      <th>3</th>\n",
       "      <td>0</td>\n",
       "      <td>0.703795</td>\n",
       "      <td>0.010192</td>\n",
       "      <td>0.018080</td>\n",
       "      <td>317.015599</td>\n",
       "      <td>38.087562</td>\n",
       "      <td>0.428092</td>\n",
       "      <td>0.314162</td>\n",
       "      <td>0.038483</td>\n",
       "      <td>17.850021</td>\n",
       "      <td>0.051850</td>\n",
       "      <td>2.0</td>\n",
       "      <td>0.125385</td>\n",
       "      <td>0.560817</td>\n",
       "      <td>0.131704</td>\n",
       "      <td>0.182094</td>\n",
       "    </tr>\n",
       "    <tr>\n",
       "      <th>4</th>\n",
       "      <td>0</td>\n",
       "      <td>10.447960</td>\n",
       "      <td>0.010192</td>\n",
       "      <td>15.983891</td>\n",
       "      <td>0.996049</td>\n",
       "      <td>16.715690</td>\n",
       "      <td>0.477823</td>\n",
       "      <td>0.464037</td>\n",
       "      <td>0.038483</td>\n",
       "      <td>17.850021</td>\n",
       "      <td>0.051850</td>\n",
       "      <td>2.0</td>\n",
       "      <td>0.115563</td>\n",
       "      <td>0.530984</td>\n",
       "      <td>0.144277</td>\n",
       "      <td>0.209176</td>\n",
       "    </tr>\n",
       "    <tr>\n",
       "      <th>5</th>\n",
       "      <td>0</td>\n",
       "      <td>733.439920</td>\n",
       "      <td>0.010192</td>\n",
       "      <td>99.698641</td>\n",
       "      <td>3.202776</td>\n",
       "      <td>31.368042</td>\n",
       "      <td>0.477823</td>\n",
       "      <td>0.464037</td>\n",
       "      <td>0.038483</td>\n",
       "      <td>17.850021</td>\n",
       "      <td>0.051850</td>\n",
       "      <td>2.0</td>\n",
       "      <td>0.133547</td>\n",
       "      <td>0.508806</td>\n",
       "      <td>0.130239</td>\n",
       "      <td>0.227407</td>\n",
       "    </tr>\n",
       "    <tr>\n",
       "      <th>6</th>\n",
       "      <td>0</td>\n",
       "      <td>0.149962</td>\n",
       "      <td>0.010192</td>\n",
       "      <td>2.910066</td>\n",
       "      <td>2.187656</td>\n",
       "      <td>331.744593</td>\n",
       "      <td>0.533331</td>\n",
       "      <td>0.464037</td>\n",
       "      <td>0.038483</td>\n",
       "      <td>17.850021</td>\n",
       "      <td>0.051850</td>\n",
       "      <td>2.0</td>\n",
       "      <td>0.100863</td>\n",
       "      <td>0.580312</td>\n",
       "      <td>0.141797</td>\n",
       "      <td>0.177028</td>\n",
       "    </tr>\n",
       "    <tr>\n",
       "      <th>7</th>\n",
       "      <td>0</td>\n",
       "      <td>0.060635</td>\n",
       "      <td>0.010192</td>\n",
       "      <td>0.016492</td>\n",
       "      <td>0.007373</td>\n",
       "      <td>7183.436876</td>\n",
       "      <td>0.533331</td>\n",
       "      <td>0.464037</td>\n",
       "      <td>0.038483</td>\n",
       "      <td>17.850021</td>\n",
       "      <td>0.051850</td>\n",
       "      <td>2.0</td>\n",
       "      <td>0.116994</td>\n",
       "      <td>0.429363</td>\n",
       "      <td>0.211714</td>\n",
       "      <td>0.241929</td>\n",
       "    </tr>\n",
       "    <tr>\n",
       "      <th>8</th>\n",
       "      <td>0</td>\n",
       "      <td>971.284623</td>\n",
       "      <td>0.010192</td>\n",
       "      <td>29.954312</td>\n",
       "      <td>3.639672</td>\n",
       "      <td>0.136383</td>\n",
       "      <td>0.477823</td>\n",
       "      <td>0.381815</td>\n",
       "      <td>0.038483</td>\n",
       "      <td>17.850021</td>\n",
       "      <td>0.051850</td>\n",
       "      <td>2.0</td>\n",
       "      <td>0.175145</td>\n",
       "      <td>0.510468</td>\n",
       "      <td>0.105276</td>\n",
       "      <td>0.209111</td>\n",
       "    </tr>\n",
       "    <tr>\n",
       "      <th>9</th>\n",
       "      <td>0</td>\n",
       "      <td>1372.664549</td>\n",
       "      <td>0.010192</td>\n",
       "      <td>2.103451</td>\n",
       "      <td>0.531944</td>\n",
       "      <td>5.802723</td>\n",
       "      <td>0.477823</td>\n",
       "      <td>0.464037</td>\n",
       "      <td>0.038483</td>\n",
       "      <td>17.850021</td>\n",
       "      <td>0.051850</td>\n",
       "      <td>2.0</td>\n",
       "      <td>0.142545</td>\n",
       "      <td>0.518133</td>\n",
       "      <td>0.122395</td>\n",
       "      <td>0.216928</td>\n",
       "    </tr>\n",
       "  </tbody>\n",
       "</table>\n",
       "</div>"
      ],
      "text/plain": [
       "   Group   Parameter1  Parameter10  Parameter2    Parameter3    Parameter4  \\\n",
       "0      0     0.235279     0.195680    0.351488      0.186814      0.086456   \n",
       "1      0     0.043799     0.523976   32.590688      0.886285     29.702490   \n",
       "2      0    21.466737     0.523976   11.847792  79499.554454  13544.605343   \n",
       "3      0     0.703795     0.010192    0.018080    317.015599     38.087562   \n",
       "4      0    10.447960     0.010192   15.983891      0.996049     16.715690   \n",
       "5      0   733.439920     0.010192   99.698641      3.202776     31.368042   \n",
       "6      0     0.149962     0.010192    2.910066      2.187656    331.744593   \n",
       "7      0     0.060635     0.010192    0.016492      0.007373   7183.436876   \n",
       "8      0   971.284623     0.010192   29.954312      3.639672      0.136383   \n",
       "9      0  1372.664549     0.010192    2.103451      0.531944      5.802723   \n",
       "\n",
       "   Parameter5  Parameter6  Parameter7  Parameter8  Parameter9  pred  \\\n",
       "0    1.434060    1.230409    0.038483    2.931083    2.005852   1.0   \n",
       "1    0.027434    0.016852    0.600827    0.118077  887.611257   4.0   \n",
       "2    0.027434    0.016852    0.600827    0.118077  887.611257   4.0   \n",
       "3    0.428092    0.314162    0.038483   17.850021    0.051850   2.0   \n",
       "4    0.477823    0.464037    0.038483   17.850021    0.051850   2.0   \n",
       "5    0.477823    0.464037    0.038483   17.850021    0.051850   2.0   \n",
       "6    0.533331    0.464037    0.038483   17.850021    0.051850   2.0   \n",
       "7    0.533331    0.464037    0.038483   17.850021    0.051850   2.0   \n",
       "8    0.477823    0.381815    0.038483   17.850021    0.051850   2.0   \n",
       "9    0.477823    0.464037    0.038483   17.850021    0.051850   2.0   \n",
       "\n",
       "   prob_Excellent  prob_Good  prob_Pass  prob_Fail  \n",
       "0        0.409076   0.261654   0.242789   0.086482  \n",
       "1        0.029160   0.207001   0.114583   0.649256  \n",
       "2        0.046827   0.258193   0.121899   0.573081  \n",
       "3        0.125385   0.560817   0.131704   0.182094  \n",
       "4        0.115563   0.530984   0.144277   0.209176  \n",
       "5        0.133547   0.508806   0.130239   0.227407  \n",
       "6        0.100863   0.580312   0.141797   0.177028  \n",
       "7        0.116994   0.429363   0.211714   0.241929  \n",
       "8        0.175145   0.510468   0.105276   0.209111  \n",
       "9        0.142545   0.518133   0.122395   0.216928  "
      ]
     },
     "execution_count": 180,
     "metadata": {},
     "output_type": "execute_result"
    }
   ],
   "source": [
    "test['pred'] = predY\n",
    "test['prob_Excellent'] = 0.0\n",
    "test['prob_Good'] = 0.0\n",
    "test['prob_Pass'] = 0.0\n",
    "test['prob_Fail'] = 0.0\n",
    "test.loc[:, ['prob_Excellent', 'prob_Good', 'prob_Pass', 'prob_Fail']] = model.predict_proba(testX)\n",
    "test.head(10)"
   ]
  },
  {
   "cell_type": "code",
   "execution_count": 181,
   "metadata": {
    "ExecuteTime": {
     "end_time": "2019-09-03T09:50:17.553136Z",
     "start_time": "2019-09-03T09:50:17.529633Z"
    },
    "scrolled": true
   },
   "outputs": [],
   "source": [
    "result = test.groupby(['Group'], as_index=False)['prob_Excellent', 'prob_Good', 'prob_Pass', 'prob_Fail'].mean()\n",
    "result.columns = ['Group','Excellent ratio','Good ratio','Pass ratio','Fail ratio']\n",
    "result.to_csv('submission14.csv', index=False)"
   ]
  },
  {
   "cell_type": "code",
   "execution_count": 182,
   "metadata": {
    "ExecuteTime": {
     "end_time": "2019-09-03T09:50:20.033951Z",
     "start_time": "2019-09-03T09:50:20.006948Z"
    }
   },
   "outputs": [
    {
     "data": {
      "text/html": [
       "<div>\n",
       "<style scoped>\n",
       "    .dataframe tbody tr th:only-of-type {\n",
       "        vertical-align: middle;\n",
       "    }\n",
       "\n",
       "    .dataframe tbody tr th {\n",
       "        vertical-align: top;\n",
       "    }\n",
       "\n",
       "    .dataframe thead th {\n",
       "        text-align: right;\n",
       "    }\n",
       "</style>\n",
       "<table border=\"1\" class=\"dataframe\">\n",
       "  <thead>\n",
       "    <tr style=\"text-align: right;\">\n",
       "      <th></th>\n",
       "      <th>Group</th>\n",
       "      <th>Excellent ratio</th>\n",
       "      <th>Good ratio</th>\n",
       "      <th>Pass ratio</th>\n",
       "      <th>Fail ratio</th>\n",
       "    </tr>\n",
       "  </thead>\n",
       "  <tbody>\n",
       "    <tr>\n",
       "      <th>0</th>\n",
       "      <td>0</td>\n",
       "      <td>0.226457</td>\n",
       "      <td>0.333524</td>\n",
       "      <td>0.247033</td>\n",
       "      <td>0.192985</td>\n",
       "    </tr>\n",
       "    <tr>\n",
       "      <th>1</th>\n",
       "      <td>1</td>\n",
       "      <td>0.190836</td>\n",
       "      <td>0.260203</td>\n",
       "      <td>0.378223</td>\n",
       "      <td>0.170738</td>\n",
       "    </tr>\n",
       "    <tr>\n",
       "      <th>2</th>\n",
       "      <td>2</td>\n",
       "      <td>0.210018</td>\n",
       "      <td>0.266838</td>\n",
       "      <td>0.314321</td>\n",
       "      <td>0.208823</td>\n",
       "    </tr>\n",
       "    <tr>\n",
       "      <th>3</th>\n",
       "      <td>3</td>\n",
       "      <td>0.242909</td>\n",
       "      <td>0.298660</td>\n",
       "      <td>0.350702</td>\n",
       "      <td>0.107729</td>\n",
       "    </tr>\n",
       "    <tr>\n",
       "      <th>4</th>\n",
       "      <td>4</td>\n",
       "      <td>0.187020</td>\n",
       "      <td>0.354031</td>\n",
       "      <td>0.252635</td>\n",
       "      <td>0.206315</td>\n",
       "    </tr>\n",
       "    <tr>\n",
       "      <th>115</th>\n",
       "      <td>115</td>\n",
       "      <td>0.163993</td>\n",
       "      <td>0.249809</td>\n",
       "      <td>0.423457</td>\n",
       "      <td>0.162741</td>\n",
       "    </tr>\n",
       "    <tr>\n",
       "      <th>116</th>\n",
       "      <td>116</td>\n",
       "      <td>0.096185</td>\n",
       "      <td>0.114372</td>\n",
       "      <td>0.719132</td>\n",
       "      <td>0.070311</td>\n",
       "    </tr>\n",
       "    <tr>\n",
       "      <th>117</th>\n",
       "      <td>117</td>\n",
       "      <td>0.186584</td>\n",
       "      <td>0.273290</td>\n",
       "      <td>0.352136</td>\n",
       "      <td>0.187991</td>\n",
       "    </tr>\n",
       "    <tr>\n",
       "      <th>118</th>\n",
       "      <td>118</td>\n",
       "      <td>0.083497</td>\n",
       "      <td>0.106512</td>\n",
       "      <td>0.758655</td>\n",
       "      <td>0.051336</td>\n",
       "    </tr>\n",
       "    <tr>\n",
       "      <th>119</th>\n",
       "      <td>119</td>\n",
       "      <td>0.188211</td>\n",
       "      <td>0.268167</td>\n",
       "      <td>0.384908</td>\n",
       "      <td>0.158714</td>\n",
       "    </tr>\n",
       "  </tbody>\n",
       "</table>\n",
       "</div>"
      ],
      "text/plain": [
       "     Group  Excellent ratio  Good ratio  Pass ratio  Fail ratio\n",
       "0        0         0.226457    0.333524    0.247033    0.192985\n",
       "1        1         0.190836    0.260203    0.378223    0.170738\n",
       "2        2         0.210018    0.266838    0.314321    0.208823\n",
       "3        3         0.242909    0.298660    0.350702    0.107729\n",
       "4        4         0.187020    0.354031    0.252635    0.206315\n",
       "115    115         0.163993    0.249809    0.423457    0.162741\n",
       "116    116         0.096185    0.114372    0.719132    0.070311\n",
       "117    117         0.186584    0.273290    0.352136    0.187991\n",
       "118    118         0.083497    0.106512    0.758655    0.051336\n",
       "119    119         0.188211    0.268167    0.384908    0.158714"
      ]
     },
     "execution_count": 182,
     "metadata": {},
     "output_type": "execute_result"
    }
   ],
   "source": [
    "result.head().append(result.tail())"
   ]
  },
  {
   "cell_type": "markdown",
   "metadata": {},
   "source": [
    "_________"
   ]
  },
  {
   "cell_type": "code",
   "execution_count": null,
   "metadata": {
    "ExecuteTime": {
     "end_time": "2019-08-28T02:53:17.300729Z",
     "start_time": "2019-08-28T02:53:17.287729Z"
    }
   },
   "outputs": [],
   "source": []
  }
 ],
 "metadata": {
  "kernelspec": {
   "display_name": "Python 3",
   "language": "python",
   "name": "python3"
  },
  "language_info": {
   "codemirror_mode": {
    "name": "ipython",
    "version": 3
   },
   "file_extension": ".py",
   "mimetype": "text/x-python",
   "name": "python",
   "nbconvert_exporter": "python",
   "pygments_lexer": "ipython3",
   "version": "3.6.6"
  },
  "toc": {
   "base_numbering": 1,
   "nav_menu": {},
   "number_sections": true,
   "sideBar": true,
   "skip_h1_title": false,
   "title_cell": "Table of Contents",
   "title_sidebar": "Contents",
   "toc_cell": false,
   "toc_position": {
    "height": "calc(100% - 180px)",
    "left": "10px",
    "top": "150px",
    "width": "289.797px"
   },
   "toc_section_display": true,
   "toc_window_display": true
  },
  "varInspector": {
   "cols": {
    "lenName": 16,
    "lenType": 16,
    "lenVar": 40
   },
   "kernels_config": {
    "python": {
     "delete_cmd_postfix": "",
     "delete_cmd_prefix": "del ",
     "library": "var_list.py",
     "varRefreshCmd": "print(var_dic_list())"
    },
    "r": {
     "delete_cmd_postfix": ") ",
     "delete_cmd_prefix": "rm(",
     "library": "var_list.r",
     "varRefreshCmd": "cat(var_dic_list()) "
    }
   },
   "types_to_exclude": [
    "module",
    "function",
    "builtin_function_or_method",
    "instance",
    "_Feature"
   ],
   "window_display": false
  }
 },
 "nbformat": 4,
 "nbformat_minor": 2
}
