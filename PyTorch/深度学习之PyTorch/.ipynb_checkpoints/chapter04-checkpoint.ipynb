{
 "cells": [
  {
   "cell_type": "code",
   "execution_count": 2,
   "metadata": {
    "ExecuteTime": {
     "end_time": "2019-09-10T07:54:50.352562Z",
     "start_time": "2019-09-10T07:54:50.347562Z"
    }
   },
   "outputs": [],
   "source": [
    "from torch import nn\n",
    "import torch"
   ]
  },
  {
   "cell_type": "code",
   "execution_count": 51,
   "metadata": {
    "ExecuteTime": {
     "end_time": "2019-09-10T09:42:56.685559Z",
     "start_time": "2019-09-10T09:42:56.670558Z"
    }
   },
   "outputs": [],
   "source": [
    "class SimpleCNN(nn.Module):\n",
    "    def __init__(self):\n",
    "        super(SimpleCNN, self).__init__() # b, 3, 32, 32\n",
    "        # 将卷积层、激活层、池化层组合在一起构成一个层结构\n",
    "        layer1 = nn.Sequential()\n",
    "        layer1.add_module('conv1', nn.Conv2d(3, 32, 3, 1, padding=1)) # b, 32, 32, 32\n",
    "        layer1.add_module('relu1', nn.ReLU(True))\n",
    "        layer1.add_module('pool1', nn.MaxPool2d(2, 2)) # b, 32, 16, 16\n",
    "        self.layer1 = layer1\n",
    "        \n",
    "        layer2 = nn.Sequential()\n",
    "        layer2.add_module('conv2', nn.Conv2d(32, 64, 3, 1, padding=1)) # b, 64, 16, 16\n",
    "        layer2.add_module('relu2', nn.ReLU(True))\n",
    "        layer2.add_module('pool2', nn.MaxPool2d(2, 2)) # b, 64, 8, 8\n",
    "        self.layer2 = layer2\n",
    "        \n",
    "        layer3 = nn.Sequential() \n",
    "        layer3.add_module('conv3', nn.Conv2d(64, 128, 3, 1, padding=1)) # b, 128, 8, 8\n",
    "        layer3.add_module('relu3', nn.ReLU(True))\n",
    "        layer3.add_module('pool3', nn.MaxPool2d(2, 2)) # b, 128, 4, 4\n",
    "        self.layer3 = layer3\n",
    "        \n",
    "        layer4 = nn.Sequential()\n",
    "        layer4.add_module('fc1', nn.Linear(2048, 512))\n",
    "        layer4.add_module('fc_relu1', nn.ReLU(True))\n",
    "        layer4.add_module('fc2', nn.Linear(512, 64))\n",
    "        layer4.add_module('fc_relu2', nn.ReLU(True))\n",
    "        layer4.add_module('fc3', nn.Linear(64, 10))\n",
    "        self.layer4 = layer4\n",
    "        \n",
    "    def forward(self, x):\n",
    "        conv1 = self.layer1(x)\n",
    "        conv2 = self.layer2(conv1)\n",
    "        conv3 = self.layer3(conv2)\n",
    "        fc_input = conv3.view(conv3.size(0), -1)\n",
    "        fc_out = self.layer4(fc_input)\n",
    "        return fc_out"
   ]
  },
  {
   "cell_type": "code",
   "execution_count": 52,
   "metadata": {
    "ExecuteTime": {
     "end_time": "2019-09-10T09:42:59.261707Z",
     "start_time": "2019-09-10T09:42:59.240705Z"
    }
   },
   "outputs": [
    {
     "name": "stdout",
     "output_type": "stream",
     "text": [
      "SimpleCNN(\n",
      "  (layer1): Sequential(\n",
      "    (conv1): Conv2d(3, 32, kernel_size=(3, 3), stride=(1, 1), padding=(1, 1))\n",
      "    (relu1): ReLU(inplace=True)\n",
      "    (pool1): MaxPool2d(kernel_size=2, stride=2, padding=0, dilation=1, ceil_mode=False)\n",
      "  )\n",
      "  (layer2): Sequential(\n",
      "    (conv2): Conv2d(32, 64, kernel_size=(3, 3), stride=(1, 1), padding=(1, 1))\n",
      "    (relu2): ReLU(inplace=True)\n",
      "    (pool2): MaxPool2d(kernel_size=2, stride=2, padding=0, dilation=1, ceil_mode=False)\n",
      "  )\n",
      "  (layer3): Sequential(\n",
      "    (conv3): Conv2d(64, 128, kernel_size=(3, 3), stride=(1, 1), padding=(1, 1))\n",
      "    (relu3): ReLU(inplace=True)\n",
      "    (pool3): MaxPool2d(kernel_size=2, stride=2, padding=0, dilation=1, ceil_mode=False)\n",
      "  )\n",
      "  (layer4): Sequential(\n",
      "    (fc1): Linear(in_features=2048, out_features=512, bias=True)\n",
      "    (fc_relu1): ReLU(inplace=True)\n",
      "    (fc2): Linear(in_features=512, out_features=64, bias=True)\n",
      "    (fc_relu2): ReLU(inplace=True)\n",
      "    (fc3): Linear(in_features=64, out_features=10, bias=True)\n",
      "  )\n",
      ")\n"
     ]
    }
   ],
   "source": [
    "model = SimpleCNN()\n",
    "print(model)"
   ]
  },
  {
   "cell_type": "markdown",
   "metadata": {
    "ExecuteTime": {
     "end_time": "2019-09-10T08:20:32.980796Z",
     "start_time": "2019-09-10T08:20:32.963795Z"
    }
   },
   "source": [
    "- 如何提取网络中指定的层结构、参数，以及如何对参数进行自定义的初始化。"
   ]
  },
  {
   "cell_type": "code",
   "execution_count": 12,
   "metadata": {
    "ExecuteTime": {
     "end_time": "2019-09-10T08:32:18.695160Z",
     "start_time": "2019-09-10T08:32:18.685160Z"
    }
   },
   "outputs": [
    {
     "data": {
      "text/plain": [
       "Sequential(\n",
       "  (0): Sequential(\n",
       "    (conv1): Conv2d(3, 32, kernel_size=(3, 3), stride=(1, 1), padding=(1, 1))\n",
       "    (relu1): ReLU(inplace=True)\n",
       "    (pool1): MaxPool2d(kernel_size=2, stride=2, padding=0, dilation=1, ceil_mode=False)\n",
       "  )\n",
       "  (1): Sequential(\n",
       "    (conv2): Conv2d(32, 64, kernel_size=(3, 3), stride=(1, 1), padding=(1, 1))\n",
       "    (relu2): ReLU(inplace=True)\n",
       "    (pool2): MaxPool2d(kernel_size=2, stride=2, padding=0, dilation=1, ceil_mode=False)\n",
       "  )\n",
       ")"
      ]
     },
     "execution_count": 12,
     "metadata": {},
     "output_type": "execute_result"
    }
   ],
   "source": [
    "new_model = nn.Sequential(*list(model.children())[:2])\n",
    "new_model"
   ]
  },
  {
   "cell_type": "code",
   "execution_count": 27,
   "metadata": {
    "ExecuteTime": {
     "end_time": "2019-09-10T08:41:55.840171Z",
     "start_time": "2019-09-10T08:41:55.823170Z"
    }
   },
   "outputs": [
    {
     "name": "stdout",
     "output_type": "stream",
     "text": [
      "Sequential(\n",
      "  (conv1): Conv2d(3, 32, kernel_size=(3, 3), stride=(1, 1), padding=(1, 1))\n",
      "  (relu1): ReLU(inplace=True)\n",
      "  (pool1): MaxPool2d(kernel_size=2, stride=2, padding=0, dilation=1, ceil_mode=False)\n",
      ")\n",
      "******************************\n",
      "Sequential(\n",
      "  (conv2): Conv2d(32, 64, kernel_size=(3, 3), stride=(1, 1), padding=(1, 1))\n",
      "  (relu2): ReLU(inplace=True)\n",
      "  (pool2): MaxPool2d(kernel_size=2, stride=2, padding=0, dilation=1, ceil_mode=False)\n",
      ")\n",
      "******************************\n",
      "Sequential(\n",
      "  (conv3): Conv2d(64, 128, kernel_size=(3, 3), stride=(1, 1), padding=(1, 1))\n",
      "  (relu3): ReLU(inplace=True)\n",
      "  (pool3): MaxPool2d(kernel_size=2, stride=2, padding=0, dilation=1, ceil_mode=False)\n",
      ")\n",
      "******************************\n",
      "Sequential(\n",
      "  (fc1): Linear(in_features=2048, out_features=512, bias=True)\n",
      "  (fc_relu1): ReLU(inplace=True)\n",
      "  (fc2): Linear(in_features=512, out_features=64, bias=True)\n",
      "  (fc_relu2): ReLU(inplace=True)\n",
      "  (fc3): Linear(in_features=64, out_features=10, bias=True)\n",
      ")\n",
      "******************************\n"
     ]
    }
   ],
   "source": [
    "for layer in model.children():\n",
    "    print(layer)\n",
    "    print('*'*30)"
   ]
  },
  {
   "cell_type": "code",
   "execution_count": 39,
   "metadata": {
    "ExecuteTime": {
     "end_time": "2019-09-10T08:47:30.132291Z",
     "start_time": "2019-09-10T08:47:30.102290Z"
    }
   },
   "outputs": [
    {
     "name": "stdout",
     "output_type": "stream",
     "text": [
      "layer1.conv1.weight\n",
      "layer1.conv1.bias\n",
      "layer2.conv2.weight\n",
      "layer2.conv2.bias\n",
      "layer3.conv3.weight\n",
      "layer3.conv3.bias\n",
      "layer4.fc1.weight\n",
      "layer4.fc1.bias\n",
      "layer4.fc2.weight\n",
      "layer4.fc2.bias\n",
      "layer4.fc3.weight\n",
      "layer4.fc3.bias\n"
     ]
    }
   ],
   "source": [
    "for param in model.named_parameters():\n",
    "    print(param[0])"
   ]
  },
  {
   "cell_type": "code",
   "execution_count": 49,
   "metadata": {
    "ExecuteTime": {
     "end_time": "2019-09-10T08:55:05.769352Z",
     "start_time": "2019-09-10T08:55:05.696348Z"
    }
   },
   "outputs": [
    {
     "name": "stderr",
     "output_type": "stream",
     "text": [
      "d:\\python36\\deeplearning\\lib\\site-packages\\ipykernel_launcher.py:3: UserWarning: nn.init.normal is now deprecated in favor of nn.init.normal_.\n",
      "  This is separate from the ipykernel package so we can avoid doing imports until\n",
      "d:\\python36\\deeplearning\\lib\\site-packages\\ipykernel_launcher.py:4: UserWarning: nn.init.xavier_normal is now deprecated in favor of nn.init.xavier_normal_.\n",
      "  after removing the cwd from sys.path.\n",
      "d:\\python36\\deeplearning\\lib\\site-packages\\ipykernel_launcher.py:5: UserWarning: nn.init.kaiming_normal is now deprecated in favor of nn.init.kaiming_normal_.\n",
      "  \"\"\"\n"
     ]
    }
   ],
   "source": [
    "for m in model.modules():\n",
    "    if isinstance(m, nn.Conv2d):\n",
    "        nn.init.normal(m.weight.data)\n",
    "        nn.init.xavier_normal(m.weight.data)\n",
    "        nn.init.kaiming_normal(m.weight.data)\n",
    "    elif isinstance(m, nn.Linear):\n",
    "        m.weight.data.normal_()"
   ]
  },
  {
   "cell_type": "markdown",
   "metadata": {},
   "source": [
    "#### LeNet"
   ]
  },
  {
   "cell_type": "code",
   "execution_count": 53,
   "metadata": {
    "ExecuteTime": {
     "end_time": "2019-09-10T09:45:38.392808Z",
     "start_time": "2019-09-10T09:45:38.376807Z"
    }
   },
   "outputs": [],
   "source": [
    "class Lenet(nn.Module):\n",
    "    def __init__(self):\n",
    "        super(Lenet, self).__init__()\n",
    "        layer1 = nn.Sequential() # b, 1, 32, 32\n",
    "        layer1.add_module('conv1', nn.Conv2d(1, 6, 5, 1)) # b, 6, 28, 28\n",
    "        # layer1.add_module('relu1', nn.ReLU())\n",
    "        layer1.add_module('pool1', nn.MaxPool2d(2, 2)) # b, 6, 14, 14\n",
    "        self.layer1 = layer1\n",
    "        \n",
    "        layer2 = nn.Sequential()\n",
    "        layer2.add_module('conv2', nn.Conv2d(6, 16, 5, 1)) # b, 16, 10, 10\n",
    "        # layer2.add_module('relu2', nn.ReLU())\n",
    "        layer2.add_module('pool2', nn.MaxPool2d(2, 2)) # b, 16, 5, 5\n",
    "        self.layer2 = layer2\n",
    "        \n",
    "        layer3 = nn.Sequential()\n",
    "        layer3.add_module('fc1', nn.Linear(400, 120))\n",
    "        # layer3.add_module('fc_relu1', nn.ReLU())\n",
    "        layer3.add_module('fc2', nn.Linear(120, 84))\n",
    "        # layer3.add_module('fc_relu2', nn.ReLU())\n",
    "        layer3.add_model('fc3', nn.Linear(84, 10))\n",
    "        self.layer3 = layer3\n",
    "        \n",
    "    def forward(self, x):\n",
    "        conv1 = self.layer1(x)\n",
    "        conv2 = self.layer2(conv1)\n",
    "        finput = conv2.view(conv2.size(0), -1)\n",
    "        out = self.layer3(finput)\n",
    "        return out"
   ]
  },
  {
   "cell_type": "code",
   "execution_count": 50,
   "metadata": {
    "ExecuteTime": {
     "end_time": "2019-09-10T09:40:13.226210Z",
     "start_time": "2019-09-10T09:40:13.217209Z"
    }
   },
   "outputs": [
    {
     "data": {
      "text/plain": [
       "400"
      ]
     },
     "execution_count": 50,
     "metadata": {},
     "output_type": "execute_result"
    }
   ],
   "source": [
    "16 * 5 * 5 "
   ]
  }
 ],
 "metadata": {
  "kernelspec": {
   "display_name": "Python 3",
   "language": "python",
   "name": "python3"
  },
  "language_info": {
   "codemirror_mode": {
    "name": "ipython",
    "version": 3
   },
   "file_extension": ".py",
   "mimetype": "text/x-python",
   "name": "python",
   "nbconvert_exporter": "python",
   "pygments_lexer": "ipython3",
   "version": "3.6.6"
  },
  "toc": {
   "base_numbering": 1,
   "nav_menu": {},
   "number_sections": true,
   "sideBar": true,
   "skip_h1_title": false,
   "title_cell": "Table of Contents",
   "title_sidebar": "Contents",
   "toc_cell": false,
   "toc_position": {},
   "toc_section_display": true,
   "toc_window_display": false
  },
  "varInspector": {
   "cols": {
    "lenName": 16,
    "lenType": 16,
    "lenVar": 40
   },
   "kernels_config": {
    "python": {
     "delete_cmd_postfix": "",
     "delete_cmd_prefix": "del ",
     "library": "var_list.py",
     "varRefreshCmd": "print(var_dic_list())"
    },
    "r": {
     "delete_cmd_postfix": ") ",
     "delete_cmd_prefix": "rm(",
     "library": "var_list.r",
     "varRefreshCmd": "cat(var_dic_list()) "
    }
   },
   "types_to_exclude": [
    "module",
    "function",
    "builtin_function_or_method",
    "instance",
    "_Feature"
   ],
   "window_display": false
  }
 },
 "nbformat": 4,
 "nbformat_minor": 2
}
