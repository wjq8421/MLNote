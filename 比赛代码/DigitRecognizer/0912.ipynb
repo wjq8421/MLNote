{
 "cells": [
  {
   "cell_type": "code",
   "execution_count": 1,
   "metadata": {
    "ExecuteTime": {
     "end_time": "2019-09-12T06:30:36.280548Z",
     "start_time": "2019-09-12T06:30:34.006418Z"
    }
   },
   "outputs": [],
   "source": [
    "from torch import nn, optim\n",
    "from torch.utils.data import DataLoader, TensorDataset\n",
    "from torch.autograd import Variable\n",
    "from sklearn.model_selection import train_test_split\n",
    "from sklearn.preprocessing import LabelBinarizer\n",
    "from torchvision import transforms\n",
    "import pandas as pd\n",
    "import numpy as np\n",
    "import torch\n",
    "\n",
    "pd.set_option('display.max_columns', 100)"
   ]
  },
  {
   "cell_type": "code",
   "execution_count": 2,
   "metadata": {
    "ExecuteTime": {
     "end_time": "2019-09-12T06:31:19.394014Z",
     "start_time": "2019-09-12T06:31:06.921301Z"
    }
   },
   "outputs": [
    {
     "name": "stdout",
     "output_type": "stream",
     "text": [
      "shape of train: (42000, 784)\n",
      "shape of test: (28000, 784)\n",
      "shape of trainX: (33600, 784)\n",
      "shape of trainY: (33600,)\n",
      "shape of testX: (8400, 784)\n",
      "shape of testY: (8400,)\n"
     ]
    }
   ],
   "source": [
    "train = pd.read_csv('E:\\\\DL_datasets\\\\MNIST\\\\train.csv')\n",
    "train_label = train.label\n",
    "train.drop(['label'], axis=1, inplace=True)\n",
    "test = pd.read_csv('E:\\\\DL_datasets\\\\MNIST\\\\test.csv')\n",
    "\n",
    "trainX, testX, trainY, testY = train_test_split(train, train_label, test_size=0.2, random_state=42)\n",
    "\n",
    "print('shape of train:', train.shape)\n",
    "print('shape of test:', test.shape)\n",
    "print('shape of trainX:', trainX.shape)\n",
    "print('shape of trainY:', trainY.shape)\n",
    "print('shape of testX:', testX.shape)\n",
    "print('shape of testY:', testY.shape)\n",
    "\n",
    "trainX = trainX / 255.0\n",
    "testX = testX / 255.0\n",
    "test = test / 255.0\n",
    "trainY = trainY\n",
    "testY = testY\n",
    "\n",
    "# trainY = LabelBinarizer().fit_transform(trainY) / 1.0\n",
    "# testY = LabelBinarizer().fit_transform(testY) / 1.0\n",
    "\n",
    "trainX = torch.from_numpy(trainX.values).type(torch.FloatTensor)\n",
    "trainY = torch.from_numpy(trainY.values).type(torch.LongTensor)\n",
    "testX = torch.from_numpy(testX.values).type(torch.FloatTensor)\n",
    "testY = torch.from_numpy(testY.values).type(torch.LongTensor)\n",
    "test = torch.from_numpy(test.values).type(torch.FloatTensor)"
   ]
  },
  {
   "cell_type": "code",
   "execution_count": 4,
   "metadata": {
    "ExecuteTime": {
     "end_time": "2019-09-12T06:31:25.750378Z",
     "start_time": "2019-09-12T06:31:25.743377Z"
    }
   },
   "outputs": [
    {
     "data": {
      "text/plain": [
       "tensor([6, 5, 3,  ..., 2, 6, 0])"
      ]
     },
     "execution_count": 4,
     "metadata": {},
     "output_type": "execute_result"
    }
   ],
   "source": [
    "trainY"
   ]
  },
  {
   "cell_type": "code",
   "execution_count": 28,
   "metadata": {
    "ExecuteTime": {
     "end_time": "2019-09-12T07:12:25.745081Z",
     "start_time": "2019-09-12T07:12:25.735081Z"
    }
   },
   "outputs": [],
   "source": [
    "batch_size = 64\n",
    "epochs = 50\n",
    "learning_rate = 1e-2\n",
    "\n",
    "data_tf = transforms.Compose([\n",
    "    transforms.ToTensor()\n",
    "])\n",
    "\n",
    "# 传入的数据必须为torch.Tensor类型的\n",
    "trainX_dataset = TensorDataset(trainX, trainY)\n",
    "testX_dataset = TensorDataset(testX, testY)\n",
    "test_dataset = TensorDataset(test, torch.ones(test.size(0)))\n",
    "\n",
    "trainX_loader = DataLoader(trainX_dataset, batch_size=batch_size, shuffle=True)\n",
    "testX_loader = DataLoader(testX_dataset, batch_size=batch_size, shuffle=True)\n",
    "test_loader = DataLoader(test_dataset, batch_size=batch_size, shuffle=False)"
   ]
  },
  {
   "cell_type": "code",
   "execution_count": 29,
   "metadata": {
    "ExecuteTime": {
     "end_time": "2019-09-12T07:12:31.891433Z",
     "start_time": "2019-09-12T07:12:31.884432Z"
    }
   },
   "outputs": [
    {
     "data": {
      "text/plain": [
       "<torch.utils.data.dataloader.DataLoader at 0x3beb5860>"
      ]
     },
     "execution_count": 29,
     "metadata": {},
     "output_type": "execute_result"
    }
   ],
   "source": [
    "test_loader"
   ]
  },
  {
   "cell_type": "markdown",
   "metadata": {},
   "source": [
    "#### CNN"
   ]
  },
  {
   "cell_type": "code",
   "execution_count": 6,
   "metadata": {
    "ExecuteTime": {
     "end_time": "2019-09-12T06:31:39.544166Z",
     "start_time": "2019-09-12T06:31:39.530166Z"
    }
   },
   "outputs": [],
   "source": [
    "class CNN(nn.Module):\n",
    "    def __init__(self):\n",
    "        super(CNN, self).__init__()\n",
    "        layer1 = nn.Sequential() # b, 1, 28, 28\n",
    "        layer1.add_module('conv1', nn.Conv2d(1, 16, kernel_size=3)) # b, 16, 26, 26\n",
    "        layer1.add_module('bn1', nn.BatchNorm2d(16))\n",
    "        layer1.add_module('relu1', nn.ReLU(inplace=True))\n",
    "        self.layer1 = layer1\n",
    "        \n",
    "        layer2 = nn.Sequential()\n",
    "        layer2.add_module('conv2', nn.Conv2d(16, 32, kernel_size=3)) # n, 32, 24, 24\n",
    "        layer2.add_module('bn2', nn.BatchNorm2d(32))\n",
    "        layer2.add_module('relu2', nn.ReLU(inplace=True))\n",
    "        layer2.add_module('pool2', nn.MaxPool2d(kernel_size=2, stride=2)) # n, 32, 12, 12\n",
    "        self.layer2 = layer2\n",
    "        \n",
    "        layer3 = nn.Sequential() \n",
    "        layer3.add_module('conv3', nn.Conv2d(32, 64, kernel_size=3)) # b, 64, 10, 10\n",
    "        layer3.add_module('bn3', nn.BatchNorm2d(64))\n",
    "        layer3.add_module('relu3', nn.ReLU(inplace=True)) \n",
    "        self.layer3 = layer3\n",
    "        \n",
    "        layer4 = nn.Sequential()\n",
    "        layer4.add_module('conv4', nn.Conv2d(64, 128, kernel_size=3)) # n, 128, 8, 8\n",
    "        layer4.add_module('bn4', nn.BatchNorm2d(128))\n",
    "        layer4.add_module('relu4', nn.ReLU(inplace=True))\n",
    "        layer4.add_module('pool4', nn.MaxPool2d(kernel_size=2, stride=2)) # n, 128, 4, 4\n",
    "        self.layer4 = layer4\n",
    "        \n",
    "        fc = nn.Sequential()\n",
    "        fc.add_module('fc1', nn.Linear(128*4*4, 1024))\n",
    "        fc.add_module('fc_relu1', nn.ReLU(inplace=True))\n",
    "        fc.add_module('fc2', nn.Linear(1024, 128))\n",
    "        fc.add_module('fc_relu2', nn.ReLU(inplace=True))\n",
    "        fc.add_module('fc3', nn.Linear(128, 10))\n",
    "        self.fc = fc\n",
    "        \n",
    "    def forward(self, x):\n",
    "        out = self.layer1(x)\n",
    "        out = self.layer2(out)\n",
    "        out = self.layer3(out)\n",
    "        out = self.layer4(out)\n",
    "        \n",
    "        out = out.view(out.size(0), -1)\n",
    "        out = self.fc(out)\n",
    "        return out"
   ]
  },
  {
   "cell_type": "code",
   "execution_count": 8,
   "metadata": {
    "ExecuteTime": {
     "end_time": "2019-09-12T06:54:19.585956Z",
     "start_time": "2019-09-12T06:31:55.495079Z"
    },
    "scrolled": true
   },
   "outputs": [
    {
     "name": "stdout",
     "output_type": "stream",
     "text": [
      "Epoch [1/50], train_loss:0.008151, train_acc:0.897054\n",
      "Epoch [2/50], train_loss:0.001475, train_acc:0.973958\n",
      "Epoch [3/50], train_loss:0.000989, train_acc:0.982470\n",
      "Epoch [4/50], train_loss:0.000768, train_acc:0.986042\n",
      "Epoch [5/50], train_loss:0.000631, train_acc:0.988661\n",
      "Epoch [6/50], train_loss:0.000525, train_acc:0.990506\n",
      "Epoch [7/50], train_loss:0.000441, train_acc:0.992143\n",
      "Epoch [8/50], train_loss:0.000386, train_acc:0.993214\n",
      "Epoch [9/50], train_loss:0.000337, train_acc:0.993958\n",
      "Epoch [10/50], train_loss:0.000294, train_acc:0.995417\n",
      "Epoch [11/50], train_loss:0.000259, train_acc:0.995952\n",
      "Epoch [12/50], train_loss:0.000221, train_acc:0.996637\n",
      "Epoch [13/50], train_loss:0.000195, train_acc:0.997321\n",
      "Epoch [14/50], train_loss:0.000164, train_acc:0.998006\n",
      "Epoch [15/50], train_loss:0.000148, train_acc:0.998274\n",
      "Epoch [16/50], train_loss:0.000124, train_acc:0.998869\n",
      "Epoch [17/50], train_loss:0.000111, train_acc:0.998929\n",
      "Epoch [18/50], train_loss:0.000100, train_acc:0.999256\n",
      "Epoch [19/50], train_loss:0.000088, train_acc:0.999494\n",
      "Epoch [20/50], train_loss:0.000079, train_acc:0.999613\n",
      "Epoch [21/50], train_loss:0.000070, train_acc:0.999702\n",
      "Epoch [22/50], train_loss:0.000066, train_acc:0.999732\n",
      "Epoch [23/50], train_loss:0.000058, train_acc:0.999792\n",
      "Epoch [24/50], train_loss:0.000053, train_acc:0.999911\n",
      "Epoch [25/50], train_loss:0.000050, train_acc:0.999881\n",
      "Epoch [26/50], train_loss:0.000044, train_acc:0.999881\n",
      "Epoch [27/50], train_loss:0.000041, train_acc:0.999970\n",
      "Epoch [28/50], train_loss:0.000039, train_acc:0.999940\n",
      "Epoch [29/50], train_loss:0.000037, train_acc:0.999970\n",
      "Epoch [30/50], train_loss:0.000035, train_acc:0.999970\n",
      "Epoch [31/50], train_loss:0.000033, train_acc:0.999970\n",
      "Epoch [32/50], train_loss:0.000030, train_acc:0.999970\n",
      "Epoch [33/50], train_loss:0.000028, train_acc:0.999970\n",
      "Epoch [34/50], train_loss:0.000027, train_acc:0.999970\n",
      "Epoch [35/50], train_loss:0.000025, train_acc:0.999970\n",
      "Epoch [36/50], train_loss:0.000024, train_acc:0.999970\n",
      "Epoch [37/50], train_loss:0.000023, train_acc:0.999970\n",
      "Epoch [38/50], train_loss:0.000021, train_acc:0.999970\n",
      "Epoch [39/50], train_loss:0.000020, train_acc:0.999970\n",
      "Epoch [40/50], train_loss:0.000020, train_acc:0.999970\n",
      "Epoch [41/50], train_loss:0.000019, train_acc:0.999970\n",
      "Epoch [42/50], train_loss:0.000018, train_acc:0.999970\n",
      "Epoch [43/50], train_loss:0.000017, train_acc:0.999970\n",
      "Epoch [44/50], train_loss:0.000015, train_acc:0.999970\n",
      "Epoch [45/50], train_loss:0.000015, train_acc:0.999970\n",
      "Epoch [46/50], train_loss:0.000014, train_acc:0.999970\n",
      "Epoch [47/50], train_loss:0.000014, train_acc:0.999970\n",
      "Epoch [48/50], train_loss:0.000013, train_acc:0.999970\n",
      "Epoch [49/50], train_loss:0.000012, train_acc:0.999970\n",
      "Epoch [50/50], train_loss:0.000011, train_acc:1.000000\n"
     ]
    }
   ],
   "source": [
    "model = CNN()\n",
    "if torch.cuda.is_available():\n",
    "    model.cuda()\n",
    "    \n",
    "criterion = nn.CrossEntropyLoss()\n",
    "optimizer = optim.SGD(model.parameters(), lr=learning_rate)\n",
    "\n",
    "for epoch in range(epochs):\n",
    "    train_loss = 0.0\n",
    "    train_acc = 0\n",
    "    for data, label in trainX_loader:\n",
    "        data = data.view(data.size(0), 1, 28, 28)\n",
    "        if torch.cuda.is_available():\n",
    "            data = Variable(data).cuda()\n",
    "            label = Variable(label).cuda()\n",
    "        else:\n",
    "            data = Variable(data)\n",
    "            label = Variable(label)\n",
    "        \n",
    "        out = model(data)\n",
    "        loss = criterion(out, label)\n",
    "        \n",
    "        optimizer.zero_grad()\n",
    "        loss.backward()\n",
    "        optimizer.step()\n",
    "        train_loss += loss.data.item() * label.size(0)\n",
    "        _, pred = torch.max(out, 1)\n",
    "        train_acc += (pred == label).sum().item()\n",
    "    \n",
    "    print(\"Epoch [{}/{}], train_loss:{:.6f}, train_acc:{:.6f}\".format(epoch+1, epochs, \n",
    "                                                                      train_loss/len(trainX_dataset),\n",
    "                                                                      train_acc/len(trainX_dataset)))"
   ]
  },
  {
   "cell_type": "code",
   "execution_count": 13,
   "metadata": {
    "ExecuteTime": {
     "end_time": "2019-09-12T06:55:25.335717Z",
     "start_time": "2019-09-12T06:55:23.871633Z"
    }
   },
   "outputs": [
    {
     "name": "stdout",
     "output_type": "stream",
     "text": [
      "Test loss:0.028545, test acc:0.991429\n"
     ]
    }
   ],
   "source": [
    "model.eval()\n",
    "val_acc = 0\n",
    "val_loss = 0.0\n",
    "for data, label in testX_loader:\n",
    "    data = data.view(data.size(0), 1, 28, 28)\n",
    "    if torch.cuda.is_available():\n",
    "        data = Variable(data).cuda()\n",
    "        label = Variable(label).cuda()\n",
    "    else:\n",
    "        data = Variable(data)\n",
    "        label = Variable(label)\n",
    "    \n",
    "    out = model(data)\n",
    "    loss = criterion(out, label)\n",
    "    val_loss += loss.data.item() * label.size(0)\n",
    "    _, pred = torch.max(out, 1)\n",
    "    val_acc += (pred == label).sum().item()\n",
    "print(\"Test loss:{:.6f}, test acc:{:.6f}\".format(val_loss/len(testX_dataset), val_acc/len(testX_dataset)))"
   ]
  },
  {
   "cell_type": "code",
   "execution_count": 41,
   "metadata": {
    "ExecuteTime": {
     "end_time": "2019-09-12T07:25:16.182148Z",
     "start_time": "2019-09-12T07:25:11.491879Z"
    }
   },
   "outputs": [
    {
     "data": {
      "text/plain": [
       "tensor([2, 0, 9,  ..., 3, 9, 2])"
      ]
     },
     "execution_count": 41,
     "metadata": {},
     "output_type": "execute_result"
    }
   ],
   "source": [
    "model.eval()\n",
    "result = torch.LongTensor()\n",
    "for data, label in test_loader:\n",
    "    data = data.view(data.size(0), 1, 28, 28)\n",
    "    if torch.cuda.is_available():\n",
    "        data = Variable(data).cuda()\n",
    "    else:\n",
    "        data = Variable(data)\n",
    "    \n",
    "    out = model(data)\n",
    "    _, pred = torch.max(out, 1)\n",
    "    result = torch.cat((result, pred.cpu()), dim=0)\n",
    "\n",
    "result"
   ]
  },
  {
   "cell_type": "code",
   "execution_count": 42,
   "metadata": {
    "ExecuteTime": {
     "end_time": "2019-09-12T07:25:18.460278Z",
     "start_time": "2019-09-12T07:25:18.322270Z"
    }
   },
   "outputs": [],
   "source": [
    "result = pd.DataFrame({'ImageId':range(1, result.size(0)+1), 'Label':result.numpy()})\n",
    "result.to_csv('result_0912.csv', index=False)"
   ]
  },
  {
   "cell_type": "code",
   "execution_count": null,
   "metadata": {
    "ExecuteTime": {
     "end_time": "2019-09-12T07:37:40.499720Z",
     "start_time": "2019-09-12T07:37:40.480719Z"
    }
   },
   "outputs": [],
   "source": []
  }
 ],
 "metadata": {
  "kernelspec": {
   "display_name": "Python 3",
   "language": "python",
   "name": "python3"
  },
  "language_info": {
   "codemirror_mode": {
    "name": "ipython",
    "version": 3
   },
   "file_extension": ".py",
   "mimetype": "text/x-python",
   "name": "python",
   "nbconvert_exporter": "python",
   "pygments_lexer": "ipython3",
   "version": "3.6.6"
  },
  "toc": {
   "base_numbering": 1,
   "nav_menu": {},
   "number_sections": true,
   "sideBar": true,
   "skip_h1_title": false,
   "title_cell": "Table of Contents",
   "title_sidebar": "Contents",
   "toc_cell": false,
   "toc_position": {},
   "toc_section_display": true,
   "toc_window_display": true
  },
  "varInspector": {
   "cols": {
    "lenName": 16,
    "lenType": 16,
    "lenVar": 40
   },
   "kernels_config": {
    "python": {
     "delete_cmd_postfix": "",
     "delete_cmd_prefix": "del ",
     "library": "var_list.py",
     "varRefreshCmd": "print(var_dic_list())"
    },
    "r": {
     "delete_cmd_postfix": ") ",
     "delete_cmd_prefix": "rm(",
     "library": "var_list.r",
     "varRefreshCmd": "cat(var_dic_list()) "
    }
   },
   "types_to_exclude": [
    "module",
    "function",
    "builtin_function_or_method",
    "instance",
    "_Feature"
   ],
   "window_display": false
  }
 },
 "nbformat": 4,
 "nbformat_minor": 2
}
