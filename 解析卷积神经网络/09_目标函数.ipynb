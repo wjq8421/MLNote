{
 "cells": [
  {
   "cell_type": "markdown",
   "metadata": {},
   "source": [
    "**目标函数**（objective function）：为整个网络的“指挥棒”，通过样本的预测结果与真实标记产生的误差反向传播指导网络参数学习与表示学习。\n",
    "\n",
    "### 分类任务\n",
    "\n",
    "#### 交叉熵损失函数\n",
    "$$L_{cross\\ entropy\\ loss}=L_{softmax\\ loss}=-\\frac{1}{N}\\sum_{i=1}^Nlog(\\frac{e^{h_{y_i}}}{\\sum_{j=1}^Ce^{h_j}})$$\n",
    "1. 通过指数化变换使网络输出$h$转换为概率形式。\n",
    "\n",
    "#### 合页损失函数\n",
    "$$L_{hinge\\ loss}=\\frac{1}{N}\\sum_{i=1}^Nmax\\{0,1-h_{y_i}\\}$$\n",
    "1. 对错误越大的样本施加越严重的惩罚。\n",
    "\n"
   ]
  },
  {
   "cell_type": "markdown",
   "metadata": {},
   "source": [
    "#### 坡道损失函数\n",
    "$$L_{ramp\\ loss}=\\frac{1}{N}\\sum_{i=1}^N(max\\{0,1-h_{y_i}\\} - max\\{0,s-h_{y_i}\\})$$\n",
    "1. 在分类（回归）误差较大区域进行了“截断”，使得较大的误差不再大程度影响整个误差函数。\n",
    "\n",
    "对于“截断点”$s$的设置，其取值最好根据分类任务的类别数$C$而定，一般设置为$s=-\\frac{1}{C-1}$"
   ]
  },
  {
   "cell_type": "markdown",
   "metadata": {},
   "source": [
    "____\n",
    "#### 大间隔交叉熵损失函数\n",
    "1. 主要考虑增大类间距离。\n",
    "\n",
    "#### 中心损失函数\n",
    "1. 主要考虑减小类内差异。\n",
    "2. 中心损失函数搭配传统交叉熵损失函数要优于只使用交叉熵损失函数作为目标函数的网络模型，特别是在人脸识别问题上可有较大性能提升。"
   ]
  },
  {
   "cell_type": "markdown",
   "metadata": {
    "ExecuteTime": {
     "end_time": "2019-05-22T06:21:44.820169Z",
     "start_time": "2019-05-22T06:21:44.805168Z"
    }
   },
   "source": [
    "__________\n",
    "### 回归任务\n",
    "- 与分类任务真实标记的区别在于，回归任务真实标记的每一维为实数，而非二值。\n",
    "\n",
    "假设回归问题中对应于第$i$个输入特征$x_i$的真实标记为$y^i=(y_1,y_2,\\cdots,y_M)^T$，$M$为标记向量总维度。则$l_t^i$即表示样本$i$上网络回归预测值$\\hat{y}^i$与其真实标记在第$t$维的预测误差：$$l_t^i=y_t^i-\\hat{y}_t^i$$"
   ]
  },
  {
   "cell_type": "markdown",
   "metadata": {},
   "source": [
    "#### $l_1$损失函数\n",
    "对$N$各样本的$l_1$损失函数为：\n",
    "$$L_{l_1\\ loss}=\\frac{1}{N}\\sum_{i=1}^N\\sum_{t=1}^M|l_t^i|$$\n",
    "\n",
    "#### $l_2$损失函数\n",
    "$$L_{l_2\\ loss}=\\frac{1}{N}\\sum_{i=1}^N\\sum_{t=1}^M(l_t^i)^2$$\n",
    "\n",
    "#### Tukey's biweight损失函数\n",
    "- 克服在回归任务中的离群点或样本噪声对整体回归模型的干扰和影响。"
   ]
  },
  {
   "cell_type": "code",
   "execution_count": null,
   "metadata": {},
   "outputs": [],
   "source": []
  }
 ],
 "metadata": {
  "kernelspec": {
   "display_name": "Python 3",
   "language": "python",
   "name": "python3"
  },
  "language_info": {
   "codemirror_mode": {
    "name": "ipython",
    "version": 3
   },
   "file_extension": ".py",
   "mimetype": "text/x-python",
   "name": "python",
   "nbconvert_exporter": "python",
   "pygments_lexer": "ipython3",
   "version": "3.6.6"
  },
  "toc": {
   "base_numbering": 1,
   "nav_menu": {},
   "number_sections": true,
   "sideBar": true,
   "skip_h1_title": false,
   "title_cell": "Table of Contents",
   "title_sidebar": "Contents",
   "toc_cell": false,
   "toc_position": {},
   "toc_section_display": true,
   "toc_window_display": false
  },
  "varInspector": {
   "cols": {
    "lenName": 16,
    "lenType": 16,
    "lenVar": 40
   },
   "kernels_config": {
    "python": {
     "delete_cmd_postfix": "",
     "delete_cmd_prefix": "del ",
     "library": "var_list.py",
     "varRefreshCmd": "print(var_dic_list())"
    },
    "r": {
     "delete_cmd_postfix": ") ",
     "delete_cmd_prefix": "rm(",
     "library": "var_list.r",
     "varRefreshCmd": "cat(var_dic_list()) "
    }
   },
   "types_to_exclude": [
    "module",
    "function",
    "builtin_function_or_method",
    "instance",
    "_Feature"
   ],
   "window_display": false
  }
 },
 "nbformat": 4,
 "nbformat_minor": 2
}
