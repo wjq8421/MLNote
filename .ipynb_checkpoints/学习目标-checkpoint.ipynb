{
 "cells": [
  {
   "cell_type": "markdown",
   "metadata": {},
   "source": [
    "- 决策树、GBDT、XGBDT、LightGBM、提升树(Boosting Tree)\n",
    "- xgboost\n",
    "- adaboost\n",
    "- bootstrap\n",
    "- RF\n",
    "- GBM\n",
    "- SVM\n",
    "- LASSO\n",
    "- Bagging\n",
    "- Boosting\n",
    "___\n",
    "\n",
    "- L1正则、L2正则\n",
    "- dropout"
   ]
  },
  {
   "cell_type": "code",
   "execution_count": null,
   "metadata": {},
   "outputs": [],
   "source": []
  }
 ],
 "metadata": {
  "kernelspec": {
   "display_name": "Python 3",
   "language": "python",
   "name": "python3"
  },
  "language_info": {
   "codemirror_mode": {
    "name": "ipython",
    "version": 3
   },
   "file_extension": ".py",
   "mimetype": "text/x-python",
   "name": "python",
   "nbconvert_exporter": "python",
   "pygments_lexer": "ipython3",
   "version": "3.6.6"
  }
 },
 "nbformat": 4,
 "nbformat_minor": 2
}
