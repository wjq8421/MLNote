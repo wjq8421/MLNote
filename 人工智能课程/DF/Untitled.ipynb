{
 "cells": [
  {
   "cell_type": "code",
   "execution_count": 56,
   "metadata": {
    "ExecuteTime": {
     "end_time": "2019-08-29T06:11:15.999648Z",
     "start_time": "2019-08-29T06:11:15.993648Z"
    }
   },
   "outputs": [],
   "source": [
    "from sklearn.preprocessing import PolynomialFeatures\n",
    "from sklearn.preprocessing import StandardScaler\n",
    "from sklearn.preprocessing import MinMaxScaler\n",
    "from sklearn.feature_selection import VarianceThreshold\n",
    "from sklearn.feature_selection import RFE\n",
    "from sklearn.decomposition import PCA\n",
    "from sklearn.model_selection import train_test_split\n",
    "import pandas_profiling as ppf\n",
    "import matplotlib.pyplot as plt\n",
    "import seaborn as sns\n",
    "import pandas as pd\n",
    "import numpy as np\n",
    "import os\n",
    "import gc\n",
    "\n",
    "pd.set_option('display.max_columns', 50)"
   ]
  },
  {
   "cell_type": "code",
   "execution_count": 2,
   "metadata": {
    "ExecuteTime": {
     "end_time": "2019-08-29T05:49:54.963377Z",
     "start_time": "2019-08-29T05:49:54.868372Z"
    }
   },
   "outputs": [
    {
     "name": "stdout",
     "output_type": "stream",
     "text": [
      "shape of train: (6000, 21)\n",
      "shape of test: (6000, 11)\n",
      "shape of submit: (120, 5)\n"
     ]
    }
   ],
   "source": [
    "train = pd.read_csv('.\\\\data\\\\first_round_training_data.csv')\n",
    "test = pd.read_csv('.\\\\data\\\\first_round_testing_data.csv')\n",
    "submit_example = pd.read_csv('.\\\\data\\\\submit_example.csv')\n",
    "\n",
    "print('shape of train:', train.shape)\n",
    "print('shape of test:', test.shape)\n",
    "print('shape of submit:', submit_example.shape)"
   ]
  },
  {
   "cell_type": "code",
   "execution_count": 3,
   "metadata": {
    "ExecuteTime": {
     "end_time": "2019-08-29T05:49:56.089441Z",
     "start_time": "2019-08-29T05:49:56.063440Z"
    },
    "scrolled": true
   },
   "outputs": [
    {
     "data": {
      "text/html": [
       "<div>\n",
       "<style scoped>\n",
       "    .dataframe tbody tr th:only-of-type {\n",
       "        vertical-align: middle;\n",
       "    }\n",
       "\n",
       "    .dataframe tbody tr th {\n",
       "        vertical-align: top;\n",
       "    }\n",
       "\n",
       "    .dataframe thead th {\n",
       "        text-align: right;\n",
       "    }\n",
       "</style>\n",
       "<table border=\"1\" class=\"dataframe\">\n",
       "  <thead>\n",
       "    <tr style=\"text-align: right;\">\n",
       "      <th></th>\n",
       "      <th>Parameter1</th>\n",
       "      <th>Parameter2</th>\n",
       "      <th>Parameter3</th>\n",
       "      <th>Parameter4</th>\n",
       "      <th>Parameter5</th>\n",
       "      <th>Parameter6</th>\n",
       "      <th>Parameter7</th>\n",
       "      <th>Parameter8</th>\n",
       "      <th>Parameter9</th>\n",
       "      <th>Parameter10</th>\n",
       "      <th>Attribute1</th>\n",
       "      <th>Attribute2</th>\n",
       "      <th>Attribute3</th>\n",
       "      <th>Attribute4</th>\n",
       "      <th>Attribute5</th>\n",
       "      <th>Attribute6</th>\n",
       "      <th>Attribute7</th>\n",
       "      <th>Attribute8</th>\n",
       "      <th>Attribute9</th>\n",
       "      <th>Attribute10</th>\n",
       "      <th>Quality_label</th>\n",
       "    </tr>\n",
       "  </thead>\n",
       "  <tbody>\n",
       "    <tr>\n",
       "      <th>0</th>\n",
       "      <td>0.001660</td>\n",
       "      <td>0.591013</td>\n",
       "      <td>147.608373</td>\n",
       "      <td>38.186345</td>\n",
       "      <td>0.000421</td>\n",
       "      <td>0.000612</td>\n",
       "      <td>2286.523413</td>\n",
       "      <td>0.035407</td>\n",
       "      <td>0.593081</td>\n",
       "      <td>1.010385</td>\n",
       "      <td>6.856075</td>\n",
       "      <td>0.168761</td>\n",
       "      <td>1.098755</td>\n",
       "      <td>36.955992</td>\n",
       "      <td>8.454598</td>\n",
       "      <td>11.438066</td>\n",
       "      <td>177.243120</td>\n",
       "      <td>338.729256</td>\n",
       "      <td>2.021704</td>\n",
       "      <td>0.079526</td>\n",
       "      <td>Pass</td>\n",
       "    </tr>\n",
       "    <tr>\n",
       "      <th>1</th>\n",
       "      <td>1.601749</td>\n",
       "      <td>0.015052</td>\n",
       "      <td>0.035864</td>\n",
       "      <td>51.130326</td>\n",
       "      <td>0.000909</td>\n",
       "      <td>0.002397</td>\n",
       "      <td>2286.523413</td>\n",
       "      <td>0.035407</td>\n",
       "      <td>0.593081</td>\n",
       "      <td>1.010385</td>\n",
       "      <td>0.000362</td>\n",
       "      <td>11.649033</td>\n",
       "      <td>0.066671</td>\n",
       "      <td>225.632949</td>\n",
       "      <td>0.481860</td>\n",
       "      <td>20597.447822</td>\n",
       "      <td>3.723330</td>\n",
       "      <td>15.376190</td>\n",
       "      <td>0.986973</td>\n",
       "      <td>4.634376</td>\n",
       "      <td>Fail</td>\n",
       "    </tr>\n",
       "    <tr>\n",
       "      <th>2</th>\n",
       "      <td>0.098039</td>\n",
       "      <td>69.233685</td>\n",
       "      <td>0.080920</td>\n",
       "      <td>0.112265</td>\n",
       "      <td>0.000909</td>\n",
       "      <td>0.001972</td>\n",
       "      <td>2286.523413</td>\n",
       "      <td>0.035407</td>\n",
       "      <td>0.593081</td>\n",
       "      <td>1.010385</td>\n",
       "      <td>0.022201</td>\n",
       "      <td>0.078213</td>\n",
       "      <td>110.079689</td>\n",
       "      <td>2.208138</td>\n",
       "      <td>0.073525</td>\n",
       "      <td>236.079314</td>\n",
       "      <td>0.064196</td>\n",
       "      <td>0.576302</td>\n",
       "      <td>33.875790</td>\n",
       "      <td>1.813727</td>\n",
       "      <td>Fail</td>\n",
       "    </tr>\n",
       "    <tr>\n",
       "      <th>3</th>\n",
       "      <td>18.181860</td>\n",
       "      <td>0.047325</td>\n",
       "      <td>0.018061</td>\n",
       "      <td>1.098102</td>\n",
       "      <td>0.000909</td>\n",
       "      <td>0.002397</td>\n",
       "      <td>2286.523413</td>\n",
       "      <td>0.035407</td>\n",
       "      <td>0.593081</td>\n",
       "      <td>1.010385</td>\n",
       "      <td>1.459004</td>\n",
       "      <td>0.380281</td>\n",
       "      <td>0.011491</td>\n",
       "      <td>0.654517</td>\n",
       "      <td>0.025872</td>\n",
       "      <td>176.948915</td>\n",
       "      <td>0.029777</td>\n",
       "      <td>0.246726</td>\n",
       "      <td>27.117165</td>\n",
       "      <td>0.081819</td>\n",
       "      <td>Fail</td>\n",
       "    </tr>\n",
       "    <tr>\n",
       "      <th>4</th>\n",
       "      <td>0.012085</td>\n",
       "      <td>0.008749</td>\n",
       "      <td>0.005509</td>\n",
       "      <td>524.327396</td>\n",
       "      <td>0.000909</td>\n",
       "      <td>0.002397</td>\n",
       "      <td>2286.523413</td>\n",
       "      <td>0.035407</td>\n",
       "      <td>0.593081</td>\n",
       "      <td>1.010385</td>\n",
       "      <td>11.576647</td>\n",
       "      <td>1.555672</td>\n",
       "      <td>38.613386</td>\n",
       "      <td>0.260989</td>\n",
       "      <td>0.009380</td>\n",
       "      <td>194.798039</td>\n",
       "      <td>0.055053</td>\n",
       "      <td>0.014725</td>\n",
       "      <td>13.569707</td>\n",
       "      <td>18.138496</td>\n",
       "      <td>Fail</td>\n",
       "    </tr>\n",
       "  </tbody>\n",
       "</table>\n",
       "</div>"
      ],
      "text/plain": [
       "   Parameter1  Parameter2  Parameter3  Parameter4  Parameter5  Parameter6  \\\n",
       "0    0.001660    0.591013  147.608373   38.186345    0.000421    0.000612   \n",
       "1    1.601749    0.015052    0.035864   51.130326    0.000909    0.002397   \n",
       "2    0.098039   69.233685    0.080920    0.112265    0.000909    0.001972   \n",
       "3   18.181860    0.047325    0.018061    1.098102    0.000909    0.002397   \n",
       "4    0.012085    0.008749    0.005509  524.327396    0.000909    0.002397   \n",
       "\n",
       "    Parameter7  Parameter8  Parameter9  Parameter10  Attribute1  Attribute2  \\\n",
       "0  2286.523413    0.035407    0.593081     1.010385    6.856075    0.168761   \n",
       "1  2286.523413    0.035407    0.593081     1.010385    0.000362   11.649033   \n",
       "2  2286.523413    0.035407    0.593081     1.010385    0.022201    0.078213   \n",
       "3  2286.523413    0.035407    0.593081     1.010385    1.459004    0.380281   \n",
       "4  2286.523413    0.035407    0.593081     1.010385   11.576647    1.555672   \n",
       "\n",
       "   Attribute3  Attribute4  Attribute5    Attribute6  Attribute7  Attribute8  \\\n",
       "0    1.098755   36.955992    8.454598     11.438066  177.243120  338.729256   \n",
       "1    0.066671  225.632949    0.481860  20597.447822    3.723330   15.376190   \n",
       "2  110.079689    2.208138    0.073525    236.079314    0.064196    0.576302   \n",
       "3    0.011491    0.654517    0.025872    176.948915    0.029777    0.246726   \n",
       "4   38.613386    0.260989    0.009380    194.798039    0.055053    0.014725   \n",
       "\n",
       "   Attribute9  Attribute10 Quality_label  \n",
       "0    2.021704     0.079526          Pass  \n",
       "1    0.986973     4.634376          Fail  \n",
       "2   33.875790     1.813727          Fail  \n",
       "3   27.117165     0.081819          Fail  \n",
       "4   13.569707    18.138496          Fail  "
      ]
     },
     "execution_count": 3,
     "metadata": {},
     "output_type": "execute_result"
    }
   ],
   "source": [
    "train.head()"
   ]
  },
  {
   "cell_type": "code",
   "execution_count": 4,
   "metadata": {
    "ExecuteTime": {
     "end_time": "2019-08-29T05:49:58.753594Z",
     "start_time": "2019-08-29T05:49:58.735593Z"
    }
   },
   "outputs": [
    {
     "data": {
      "text/html": [
       "<div>\n",
       "<style scoped>\n",
       "    .dataframe tbody tr th:only-of-type {\n",
       "        vertical-align: middle;\n",
       "    }\n",
       "\n",
       "    .dataframe tbody tr th {\n",
       "        vertical-align: top;\n",
       "    }\n",
       "\n",
       "    .dataframe thead th {\n",
       "        text-align: right;\n",
       "    }\n",
       "</style>\n",
       "<table border=\"1\" class=\"dataframe\">\n",
       "  <thead>\n",
       "    <tr style=\"text-align: right;\">\n",
       "      <th></th>\n",
       "      <th>Group</th>\n",
       "      <th>Parameter1</th>\n",
       "      <th>Parameter10</th>\n",
       "      <th>Parameter2</th>\n",
       "      <th>Parameter3</th>\n",
       "      <th>Parameter4</th>\n",
       "      <th>Parameter5</th>\n",
       "      <th>Parameter6</th>\n",
       "      <th>Parameter7</th>\n",
       "      <th>Parameter8</th>\n",
       "      <th>Parameter9</th>\n",
       "    </tr>\n",
       "  </thead>\n",
       "  <tbody>\n",
       "    <tr>\n",
       "      <th>0</th>\n",
       "      <td>0</td>\n",
       "      <td>0.235279</td>\n",
       "      <td>0.195680</td>\n",
       "      <td>0.351488</td>\n",
       "      <td>0.186814</td>\n",
       "      <td>0.086456</td>\n",
       "      <td>1.434060</td>\n",
       "      <td>1.230409</td>\n",
       "      <td>0.038483</td>\n",
       "      <td>2.931083</td>\n",
       "      <td>2.005852</td>\n",
       "    </tr>\n",
       "    <tr>\n",
       "      <th>1</th>\n",
       "      <td>0</td>\n",
       "      <td>0.043799</td>\n",
       "      <td>0.523976</td>\n",
       "      <td>32.590688</td>\n",
       "      <td>0.886285</td>\n",
       "      <td>29.702490</td>\n",
       "      <td>0.027434</td>\n",
       "      <td>0.016852</td>\n",
       "      <td>0.600827</td>\n",
       "      <td>0.118077</td>\n",
       "      <td>887.611257</td>\n",
       "    </tr>\n",
       "    <tr>\n",
       "      <th>2</th>\n",
       "      <td>0</td>\n",
       "      <td>21.466737</td>\n",
       "      <td>0.523976</td>\n",
       "      <td>11.847792</td>\n",
       "      <td>79499.554454</td>\n",
       "      <td>13544.605343</td>\n",
       "      <td>0.027434</td>\n",
       "      <td>0.016852</td>\n",
       "      <td>0.600827</td>\n",
       "      <td>0.118077</td>\n",
       "      <td>887.611257</td>\n",
       "    </tr>\n",
       "    <tr>\n",
       "      <th>3</th>\n",
       "      <td>0</td>\n",
       "      <td>0.703795</td>\n",
       "      <td>0.010192</td>\n",
       "      <td>0.018080</td>\n",
       "      <td>317.015599</td>\n",
       "      <td>38.087562</td>\n",
       "      <td>0.428092</td>\n",
       "      <td>0.314162</td>\n",
       "      <td>0.038483</td>\n",
       "      <td>17.850021</td>\n",
       "      <td>0.051850</td>\n",
       "    </tr>\n",
       "    <tr>\n",
       "      <th>4</th>\n",
       "      <td>0</td>\n",
       "      <td>10.447960</td>\n",
       "      <td>0.010192</td>\n",
       "      <td>15.983891</td>\n",
       "      <td>0.996049</td>\n",
       "      <td>16.715690</td>\n",
       "      <td>0.477823</td>\n",
       "      <td>0.464037</td>\n",
       "      <td>0.038483</td>\n",
       "      <td>17.850021</td>\n",
       "      <td>0.051850</td>\n",
       "    </tr>\n",
       "    <tr>\n",
       "      <th>5995</th>\n",
       "      <td>119</td>\n",
       "      <td>765.876721</td>\n",
       "      <td>51.944717</td>\n",
       "      <td>0.053836</td>\n",
       "      <td>0.258969</td>\n",
       "      <td>0.125856</td>\n",
       "      <td>0.000218</td>\n",
       "      <td>0.000414</td>\n",
       "      <td>2286.523413</td>\n",
       "      <td>0.035407</td>\n",
       "      <td>0.593081</td>\n",
       "    </tr>\n",
       "    <tr>\n",
       "      <th>5996</th>\n",
       "      <td>119</td>\n",
       "      <td>0.071211</td>\n",
       "      <td>0.195680</td>\n",
       "      <td>0.924208</td>\n",
       "      <td>284.265495</td>\n",
       "      <td>15.668770</td>\n",
       "      <td>3.095123</td>\n",
       "      <td>1.817391</td>\n",
       "      <td>0.600827</td>\n",
       "      <td>17.850021</td>\n",
       "      <td>6.783967</td>\n",
       "    </tr>\n",
       "    <tr>\n",
       "      <th>5997</th>\n",
       "      <td>119</td>\n",
       "      <td>0.001922</td>\n",
       "      <td>0.073078</td>\n",
       "      <td>7.829744</td>\n",
       "      <td>16.138304</td>\n",
       "      <td>0.000376</td>\n",
       "      <td>0.741630</td>\n",
       "      <td>1.495371</td>\n",
       "      <td>0.600827</td>\n",
       "      <td>17.850021</td>\n",
       "      <td>0.051850</td>\n",
       "    </tr>\n",
       "    <tr>\n",
       "      <th>5998</th>\n",
       "      <td>119</td>\n",
       "      <td>0.000054</td>\n",
       "      <td>0.027291</td>\n",
       "      <td>0.672029</td>\n",
       "      <td>0.002134</td>\n",
       "      <td>0.149019</td>\n",
       "      <td>3.454681</td>\n",
       "      <td>3.262468</td>\n",
       "      <td>0.600827</td>\n",
       "      <td>17.850021</td>\n",
       "      <td>6.783967</td>\n",
       "    </tr>\n",
       "    <tr>\n",
       "      <th>5999</th>\n",
       "      <td>119</td>\n",
       "      <td>1.026527</td>\n",
       "      <td>0.073078</td>\n",
       "      <td>0.116152</td>\n",
       "      <td>2.923321</td>\n",
       "      <td>610.091923</td>\n",
       "      <td>1.031282</td>\n",
       "      <td>0.833011</td>\n",
       "      <td>0.038483</td>\n",
       "      <td>2.931083</td>\n",
       "      <td>2.005852</td>\n",
       "    </tr>\n",
       "  </tbody>\n",
       "</table>\n",
       "</div>"
      ],
      "text/plain": [
       "      Group  Parameter1  Parameter10  Parameter2    Parameter3    Parameter4  \\\n",
       "0         0    0.235279     0.195680    0.351488      0.186814      0.086456   \n",
       "1         0    0.043799     0.523976   32.590688      0.886285     29.702490   \n",
       "2         0   21.466737     0.523976   11.847792  79499.554454  13544.605343   \n",
       "3         0    0.703795     0.010192    0.018080    317.015599     38.087562   \n",
       "4         0   10.447960     0.010192   15.983891      0.996049     16.715690   \n",
       "5995    119  765.876721    51.944717    0.053836      0.258969      0.125856   \n",
       "5996    119    0.071211     0.195680    0.924208    284.265495     15.668770   \n",
       "5997    119    0.001922     0.073078    7.829744     16.138304      0.000376   \n",
       "5998    119    0.000054     0.027291    0.672029      0.002134      0.149019   \n",
       "5999    119    1.026527     0.073078    0.116152      2.923321    610.091923   \n",
       "\n",
       "      Parameter5  Parameter6   Parameter7  Parameter8  Parameter9  \n",
       "0       1.434060    1.230409     0.038483    2.931083    2.005852  \n",
       "1       0.027434    0.016852     0.600827    0.118077  887.611257  \n",
       "2       0.027434    0.016852     0.600827    0.118077  887.611257  \n",
       "3       0.428092    0.314162     0.038483   17.850021    0.051850  \n",
       "4       0.477823    0.464037     0.038483   17.850021    0.051850  \n",
       "5995    0.000218    0.000414  2286.523413    0.035407    0.593081  \n",
       "5996    3.095123    1.817391     0.600827   17.850021    6.783967  \n",
       "5997    0.741630    1.495371     0.600827   17.850021    0.051850  \n",
       "5998    3.454681    3.262468     0.600827   17.850021    6.783967  \n",
       "5999    1.031282    0.833011     0.038483    2.931083    2.005852  "
      ]
     },
     "execution_count": 4,
     "metadata": {},
     "output_type": "execute_result"
    }
   ],
   "source": [
    "test.head().append(test.tail())"
   ]
  },
  {
   "cell_type": "code",
   "execution_count": 5,
   "metadata": {
    "ExecuteTime": {
     "end_time": "2019-08-29T05:50:02.681818Z",
     "start_time": "2019-08-29T05:50:02.670818Z"
    }
   },
   "outputs": [
    {
     "data": {
      "text/html": [
       "<div>\n",
       "<style scoped>\n",
       "    .dataframe tbody tr th:only-of-type {\n",
       "        vertical-align: middle;\n",
       "    }\n",
       "\n",
       "    .dataframe tbody tr th {\n",
       "        vertical-align: top;\n",
       "    }\n",
       "\n",
       "    .dataframe thead th {\n",
       "        text-align: right;\n",
       "    }\n",
       "</style>\n",
       "<table border=\"1\" class=\"dataframe\">\n",
       "  <thead>\n",
       "    <tr style=\"text-align: right;\">\n",
       "      <th></th>\n",
       "      <th>Group</th>\n",
       "      <th>Excellent ratio</th>\n",
       "      <th>Good ratio</th>\n",
       "      <th>Pass ratio</th>\n",
       "      <th>Fail ratio</th>\n",
       "    </tr>\n",
       "  </thead>\n",
       "  <tbody>\n",
       "    <tr>\n",
       "      <th>0</th>\n",
       "      <td>0</td>\n",
       "      <td>0.4</td>\n",
       "      <td>0.2</td>\n",
       "      <td>0.2</td>\n",
       "      <td>0.2</td>\n",
       "    </tr>\n",
       "    <tr>\n",
       "      <th>1</th>\n",
       "      <td>1</td>\n",
       "      <td>0.4</td>\n",
       "      <td>0.2</td>\n",
       "      <td>0.2</td>\n",
       "      <td>0.2</td>\n",
       "    </tr>\n",
       "    <tr>\n",
       "      <th>2</th>\n",
       "      <td>2</td>\n",
       "      <td>0.4</td>\n",
       "      <td>0.2</td>\n",
       "      <td>0.2</td>\n",
       "      <td>0.2</td>\n",
       "    </tr>\n",
       "    <tr>\n",
       "      <th>3</th>\n",
       "      <td>3</td>\n",
       "      <td>0.4</td>\n",
       "      <td>0.2</td>\n",
       "      <td>0.2</td>\n",
       "      <td>0.2</td>\n",
       "    </tr>\n",
       "    <tr>\n",
       "      <th>4</th>\n",
       "      <td>4</td>\n",
       "      <td>0.4</td>\n",
       "      <td>0.2</td>\n",
       "      <td>0.2</td>\n",
       "      <td>0.2</td>\n",
       "    </tr>\n",
       "  </tbody>\n",
       "</table>\n",
       "</div>"
      ],
      "text/plain": [
       "   Group  Excellent ratio  Good ratio  Pass ratio  Fail ratio\n",
       "0      0              0.4         0.2         0.2         0.2\n",
       "1      1              0.4         0.2         0.2         0.2\n",
       "2      2              0.4         0.2         0.2         0.2\n",
       "3      3              0.4         0.2         0.2         0.2\n",
       "4      4              0.4         0.2         0.2         0.2"
      ]
     },
     "execution_count": 5,
     "metadata": {},
     "output_type": "execute_result"
    }
   ],
   "source": [
    "submit_example.head()"
   ]
  },
  {
   "cell_type": "code",
   "execution_count": 7,
   "metadata": {
    "ExecuteTime": {
     "end_time": "2019-08-29T05:52:05.015816Z",
     "start_time": "2019-08-29T05:52:04.998815Z"
    }
   },
   "outputs": [],
   "source": [
    "features = ['Parameter1', 'Parameter2', 'Parameter3', 'Parameter4', 'Parameter5',\n",
    "            'Parameter6', 'Parameter7', 'Parameter8', 'Parameter9', 'Parameter10',\n",
    "            'Attribute1', 'Attribute2', 'Attribute3', 'Attribute4', 'Attribute5',\n",
    "            'Attribute6', 'Attribute7', 'Attribute8', 'Attribute9', 'Attribute10']\n",
    "test_features = ['Parameter1', 'Parameter10', 'Parameter2', 'Parameter3',\n",
    "                 'Parameter4', 'Parameter5', 'Parameter6', 'Parameter7', \n",
    "                 'Parameter8', 'Parameter9']\n",
    "\n",
    "for feature in features:\n",
    "    train[feature] = np.log1p(train[feature])\n",
    "    \n",
    "for feature in test_features:\n",
    "    test[feature] = np.log1p(test[feature])\n",
    "\n",
    "# trainX = MinMaxScaler().fit_transform(train[test_features])\n",
    "# trainX = pd.DataFrame(trainX, columns=test_features)"
   ]
  },
  {
   "cell_type": "code",
   "execution_count": 8,
   "metadata": {
    "ExecuteTime": {
     "end_time": "2019-08-29T05:52:12.426239Z",
     "start_time": "2019-08-29T05:52:12.422239Z"
    }
   },
   "outputs": [
    {
     "data": {
      "text/plain": [
       "(6000, 21)"
      ]
     },
     "execution_count": 8,
     "metadata": {},
     "output_type": "execute_result"
    }
   ],
   "source": [
    "train.shape"
   ]
  },
  {
   "cell_type": "code",
   "execution_count": null,
   "metadata": {
    "ExecuteTime": {
     "end_time": "2019-08-26T06:20:48.718832Z",
     "start_time": "2019-08-26T06:20:11.744717Z"
    }
   },
   "outputs": [],
   "source": [
    "pfr = ppf.ProfileReport(train)\n",
    "pfr.to_file('train_EDA.html')"
   ]
  },
  {
   "cell_type": "code",
   "execution_count": 77,
   "metadata": {
    "ExecuteTime": {
     "end_time": "2019-08-29T06:26:18.541270Z",
     "start_time": "2019-08-29T06:26:18.532270Z"
    }
   },
   "outputs": [
    {
     "data": {
      "text/plain": [
       "array([50], dtype=int64)"
      ]
     },
     "execution_count": 77,
     "metadata": {},
     "output_type": "execute_result"
    }
   ],
   "source": [
    "test.Group.value_counts().unique()"
   ]
  },
  {
   "cell_type": "markdown",
   "metadata": {},
   "source": [
    "### 异常点观察"
   ]
  },
  {
   "cell_type": "code",
   "execution_count": 9,
   "metadata": {
    "ExecuteTime": {
     "end_time": "2019-08-29T05:52:21.604764Z",
     "start_time": "2019-08-29T05:52:21.215742Z"
    }
   },
   "outputs": [
    {
     "data": {
      "text/plain": [
       "<matplotlib.collections.PathCollection at 0x3bf04668>"
      ]
     },
     "execution_count": 9,
     "metadata": {},
     "output_type": "execute_result"
    },
    {
     "data": {
      "image/png": "[encoded data removed]",
      "text/plain": [
       "<Figure size 432x288 with 1 Axes>"
      ]
     },
     "metadata": {
      "needs_background": "light"
     },
     "output_type": "display_data"
    }
   ],
   "source": [
    "plt.scatter(train.Quality_label, train.Parameter1)\n",
    "# 剔除train.Parameter1>12的数据"
   ]
  },
  {
   "cell_type": "code",
   "execution_count": 10,
   "metadata": {
    "ExecuteTime": {
     "end_time": "2019-08-29T05:52:32.541390Z",
     "start_time": "2019-08-29T05:52:32.534390Z"
    }
   },
   "outputs": [],
   "source": [
    "train = train[train.Parameter1<=12]"
   ]
  },
  {
   "cell_type": "code",
   "execution_count": 11,
   "metadata": {
    "ExecuteTime": {
     "end_time": "2019-08-29T05:52:34.801519Z",
     "start_time": "2019-08-29T05:52:34.544505Z"
    }
   },
   "outputs": [
    {
     "data": {
      "text/plain": [
       "<matplotlib.collections.PathCollection at 0x3c3614a8>"
      ]
     },
     "execution_count": 11,
     "metadata": {},
     "output_type": "execute_result"
    },
    {
     "data": {
      "image/png": "[encoded data removed]",
      "text/plain": [
       "<Figure size 432x288 with 1 Axes>"
      ]
     },
     "metadata": {
      "needs_background": "light"
     },
     "output_type": "display_data"
    }
   ],
   "source": [
    "plt.scatter(train.Quality_label, train.Parameter2)\n",
    "# 剔除train.Parameter2>14的数据"
   ]
  },
  {
   "cell_type": "code",
   "execution_count": 12,
   "metadata": {
    "ExecuteTime": {
     "end_time": "2019-08-29T05:52:42.555963Z",
     "start_time": "2019-08-29T05:52:42.550962Z"
    }
   },
   "outputs": [],
   "source": [
    "train = train[train.Parameter2<=14]"
   ]
  },
  {
   "cell_type": "code",
   "execution_count": 13,
   "metadata": {
    "ExecuteTime": {
     "end_time": "2019-08-29T05:52:46.952214Z",
     "start_time": "2019-08-29T05:52:46.704200Z"
    }
   },
   "outputs": [
    {
     "data": {
      "text/plain": [
       "<matplotlib.collections.PathCollection at 0x3c7212e8>"
      ]
     },
     "execution_count": 13,
     "metadata": {},
     "output_type": "execute_result"
    },
    {
     "data": {
      "image/png": "[encoded data removed]",
      "text/plain": [
       "<Figure size 432x288 with 1 Axes>"
      ]
     },
     "metadata": {
      "needs_background": "light"
     },
     "output_type": "display_data"
    }
   ],
   "source": [
    "plt.scatter(train.Quality_label, train.Parameter3)\n",
    "# 剔除train.Parameter3>12的数据"
   ]
  },
  {
   "cell_type": "code",
   "execution_count": 14,
   "metadata": {
    "ExecuteTime": {
     "end_time": "2019-08-29T05:52:52.715544Z",
     "start_time": "2019-08-29T05:52:52.710544Z"
    }
   },
   "outputs": [],
   "source": [
    "train = train[train.Parameter3<=12]"
   ]
  },
  {
   "cell_type": "code",
   "execution_count": 15,
   "metadata": {
    "ExecuteTime": {
     "end_time": "2019-08-29T05:52:54.266633Z",
     "start_time": "2019-08-29T05:52:54.033619Z"
    }
   },
   "outputs": [
    {
     "data": {
      "text/plain": [
       "<matplotlib.collections.PathCollection at 0x3c8a8cf8>"
      ]
     },
     "execution_count": 15,
     "metadata": {},
     "output_type": "execute_result"
    },
    {
     "data": {
      "image/png": "[encoded data removed]",
      "text/plain": [
       "<Figure size 432x288 with 1 Axes>"
      ]
     },
     "metadata": {
      "needs_background": "light"
     },
     "output_type": "display_data"
    }
   ],
   "source": [
    "plt.scatter(train.Quality_label, train.Parameter4)"
   ]
  },
  {
   "cell_type": "code",
   "execution_count": 16,
   "metadata": {
    "ExecuteTime": {
     "end_time": "2019-08-29T05:53:02.389097Z",
     "start_time": "2019-08-29T05:53:02.146083Z"
    }
   },
   "outputs": [
    {
     "data": {
      "text/plain": [
       "<matplotlib.collections.PathCollection at 0x3cac3d68>"
      ]
     },
     "execution_count": 16,
     "metadata": {},
     "output_type": "execute_result"
    },
    {
     "data": {
      "image/png": "[encoded data removed]",
      "text/plain": [
       "<Figure size 432x288 with 1 Axes>"
      ]
     },
     "metadata": {
      "needs_background": "light"
     },
     "output_type": "display_data"
    }
   ],
   "source": [
    "plt.scatter(train.Quality_label, train.Parameter5)\n",
    "# 剔除train.Parameter5>4的数据"
   ]
  },
  {
   "cell_type": "code",
   "execution_count": 17,
   "metadata": {
    "ExecuteTime": {
     "end_time": "2019-08-29T05:53:05.142255Z",
     "start_time": "2019-08-29T05:53:05.136254Z"
    }
   },
   "outputs": [],
   "source": [
    "train = train[train.Parameter5<=4]"
   ]
  },
  {
   "cell_type": "code",
   "execution_count": 18,
   "metadata": {
    "ExecuteTime": {
     "end_time": "2019-08-29T05:53:08.116425Z",
     "start_time": "2019-08-29T05:53:07.792406Z"
    }
   },
   "outputs": [
    {
     "data": {
      "text/plain": [
       "<matplotlib.collections.PathCollection at 0x3ccb5438>"
      ]
     },
     "execution_count": 18,
     "metadata": {},
     "output_type": "execute_result"
    },
    {
     "data": {
      "image/png": "[encoded data removed]",
      "text/plain": [
       "<Figure size 432x288 with 1 Axes>"
      ]
     },
     "metadata": {
      "needs_background": "light"
     },
     "output_type": "display_data"
    }
   ],
   "source": [
    "plt.scatter(train.Quality_label, train.Parameter6)"
   ]
  },
  {
   "cell_type": "code",
   "execution_count": 19,
   "metadata": {
    "ExecuteTime": {
     "end_time": "2019-08-29T05:53:10.840581Z",
     "start_time": "2019-08-29T05:53:10.583566Z"
    }
   },
   "outputs": [
    {
     "data": {
      "text/plain": [
       "<matplotlib.collections.PathCollection at 0x3c4c4dd8>"
      ]
     },
     "execution_count": 19,
     "metadata": {},
     "output_type": "execute_result"
    },
    {
     "data": {
      "image/png": "[encoded data removed]",
      "text/plain": [
       "<Figure size 432x288 with 1 Axes>"
      ]
     },
     "metadata": {
      "needs_background": "light"
     },
     "output_type": "display_data"
    }
   ],
   "source": [
    "plt.scatter(train.Quality_label, train.Parameter7)"
   ]
  },
  {
   "cell_type": "code",
   "execution_count": 20,
   "metadata": {
    "ExecuteTime": {
     "end_time": "2019-08-29T05:53:12.661685Z",
     "start_time": "2019-08-29T05:53:12.408670Z"
    }
   },
   "outputs": [
    {
     "data": {
      "text/plain": [
       "<matplotlib.collections.PathCollection at 0x3c6ee518>"
      ]
     },
     "execution_count": 20,
     "metadata": {},
     "output_type": "execute_result"
    },
    {
     "data": {
      "image/png": "[encoded data removed]",
      "text/plain": [
       "<Figure size 432x288 with 1 Axes>"
      ]
     },
     "metadata": {
      "needs_background": "light"
     },
     "output_type": "display_data"
    }
   ],
   "source": [
    "plt.scatter(train.Quality_label, train.Parameter8)\n",
    "# 剔除train.Parameter8>8的数据"
   ]
  },
  {
   "cell_type": "code",
   "execution_count": 21,
   "metadata": {
    "ExecuteTime": {
     "end_time": "2019-08-29T05:53:14.672800Z",
     "start_time": "2019-08-29T05:53:14.664799Z"
    }
   },
   "outputs": [],
   "source": [
    "train = train[train.Parameter8<=8]"
   ]
  },
  {
   "cell_type": "code",
   "execution_count": 22,
   "metadata": {
    "ExecuteTime": {
     "end_time": "2019-08-29T05:53:21.334181Z",
     "start_time": "2019-08-29T05:53:21.055165Z"
    }
   },
   "outputs": [
    {
     "data": {
      "text/plain": [
       "<matplotlib.collections.PathCollection at 0x3c83edd8>"
      ]
     },
     "execution_count": 22,
     "metadata": {},
     "output_type": "execute_result"
    },
    {
     "data": {
      "image/png": "[encoded data removed]",
      "text/plain": [
       "<Figure size 432x288 with 1 Axes>"
      ]
     },
     "metadata": {
      "needs_background": "light"
     },
     "output_type": "display_data"
    }
   ],
   "source": [
    "plt.scatter(train.Quality_label, train.Parameter9)\n",
    "# 剔除train.Parameter9>12的数据"
   ]
  },
  {
   "cell_type": "code",
   "execution_count": 23,
   "metadata": {
    "ExecuteTime": {
     "end_time": "2019-08-29T05:53:31.900785Z",
     "start_time": "2019-08-29T05:53:31.895785Z"
    }
   },
   "outputs": [],
   "source": [
    "train = train[train.Parameter9<=10]"
   ]
  },
  {
   "cell_type": "code",
   "execution_count": 24,
   "metadata": {
    "ExecuteTime": {
     "end_time": "2019-08-29T05:53:35.167972Z",
     "start_time": "2019-08-29T05:53:34.936959Z"
    }
   },
   "outputs": [
    {
     "data": {
      "text/plain": [
       "<matplotlib.collections.PathCollection at 0x3cb7b7b8>"
      ]
     },
     "execution_count": 24,
     "metadata": {},
     "output_type": "execute_result"
    },
    {
     "data": {
      "image/png": "[encoded data removed]",
      "text/plain": [
       "<Figure size 432x288 with 1 Axes>"
      ]
     },
     "metadata": {
      "needs_background": "light"
     },
     "output_type": "display_data"
    }
   ],
   "source": [
    "plt.scatter(train.Quality_label, train.Parameter10)"
   ]
  },
  {
   "cell_type": "markdown",
   "metadata": {
    "ExecuteTime": {
     "end_time": "2019-08-28T05:55:23.036646Z",
     "start_time": "2019-08-28T05:55:23.030645Z"
    }
   },
   "source": [
    "### 构建数据组合"
   ]
  },
  {
   "cell_type": "code",
   "execution_count": 25,
   "metadata": {
    "ExecuteTime": {
     "end_time": "2019-08-29T05:53:55.642143Z",
     "start_time": "2019-08-29T05:53:55.632142Z"
    }
   },
   "outputs": [
    {
     "data": {
      "text/plain": [
       "(11985, 10)"
      ]
     },
     "execution_count": 25,
     "metadata": {},
     "output_type": "execute_result"
    }
   ],
   "source": [
    "full = pd.concat([train[test_features], test[test_features]], ignore_index=True)\n",
    "full.shape"
   ]
  },
  {
   "cell_type": "code",
   "execution_count": 26,
   "metadata": {
    "ExecuteTime": {
     "end_time": "2019-08-29T05:54:02.626543Z",
     "start_time": "2019-08-29T05:54:02.609542Z"
    }
   },
   "outputs": [
    {
     "data": {
      "text/html": [
       "<div>\n",
       "<style scoped>\n",
       "    .dataframe tbody tr th:only-of-type {\n",
       "        vertical-align: middle;\n",
       "    }\n",
       "\n",
       "    .dataframe tbody tr th {\n",
       "        vertical-align: top;\n",
       "    }\n",
       "\n",
       "    .dataframe thead th {\n",
       "        text-align: right;\n",
       "    }\n",
       "</style>\n",
       "<table border=\"1\" class=\"dataframe\">\n",
       "  <thead>\n",
       "    <tr style=\"text-align: right;\">\n",
       "      <th></th>\n",
       "      <th>Parameter1</th>\n",
       "      <th>Parameter10</th>\n",
       "      <th>Parameter2</th>\n",
       "      <th>Parameter3</th>\n",
       "      <th>Parameter4</th>\n",
       "      <th>Parameter5</th>\n",
       "      <th>Parameter6</th>\n",
       "      <th>Parameter7</th>\n",
       "      <th>Parameter8</th>\n",
       "      <th>Parameter9</th>\n",
       "    </tr>\n",
       "  </thead>\n",
       "  <tbody>\n",
       "    <tr>\n",
       "      <th>0</th>\n",
       "      <td>0.001659</td>\n",
       "      <td>0.698326</td>\n",
       "      <td>0.464371</td>\n",
       "      <td>5.001314</td>\n",
       "      <td>3.668328</td>\n",
       "      <td>0.000421</td>\n",
       "      <td>0.000612</td>\n",
       "      <td>7.735225</td>\n",
       "      <td>0.034795</td>\n",
       "      <td>0.46567</td>\n",
       "    </tr>\n",
       "    <tr>\n",
       "      <th>1</th>\n",
       "      <td>0.956184</td>\n",
       "      <td>0.698326</td>\n",
       "      <td>0.014940</td>\n",
       "      <td>0.035236</td>\n",
       "      <td>3.953747</td>\n",
       "      <td>0.000909</td>\n",
       "      <td>0.002394</td>\n",
       "      <td>7.735225</td>\n",
       "      <td>0.034795</td>\n",
       "      <td>0.46567</td>\n",
       "    </tr>\n",
       "    <tr>\n",
       "      <th>2</th>\n",
       "      <td>0.093526</td>\n",
       "      <td>0.698326</td>\n",
       "      <td>4.251828</td>\n",
       "      <td>0.077813</td>\n",
       "      <td>0.106399</td>\n",
       "      <td>0.000909</td>\n",
       "      <td>0.001970</td>\n",
       "      <td>7.735225</td>\n",
       "      <td>0.034795</td>\n",
       "      <td>0.46567</td>\n",
       "    </tr>\n",
       "    <tr>\n",
       "      <th>3</th>\n",
       "      <td>2.953965</td>\n",
       "      <td>0.698326</td>\n",
       "      <td>0.046239</td>\n",
       "      <td>0.017900</td>\n",
       "      <td>0.741033</td>\n",
       "      <td>0.000909</td>\n",
       "      <td>0.002394</td>\n",
       "      <td>7.735225</td>\n",
       "      <td>0.034795</td>\n",
       "      <td>0.46567</td>\n",
       "    </tr>\n",
       "    <tr>\n",
       "      <th>4</th>\n",
       "      <td>0.012013</td>\n",
       "      <td>0.698326</td>\n",
       "      <td>0.008711</td>\n",
       "      <td>0.005493</td>\n",
       "      <td>6.264022</td>\n",
       "      <td>0.000909</td>\n",
       "      <td>0.002394</td>\n",
       "      <td>7.735225</td>\n",
       "      <td>0.034795</td>\n",
       "      <td>0.46567</td>\n",
       "    </tr>\n",
       "  </tbody>\n",
       "</table>\n",
       "</div>"
      ],
      "text/plain": [
       "   Parameter1  Parameter10  Parameter2  Parameter3  Parameter4  Parameter5  \\\n",
       "0    0.001659     0.698326    0.464371    5.001314    3.668328    0.000421   \n",
       "1    0.956184     0.698326    0.014940    0.035236    3.953747    0.000909   \n",
       "2    0.093526     0.698326    4.251828    0.077813    0.106399    0.000909   \n",
       "3    2.953965     0.698326    0.046239    0.017900    0.741033    0.000909   \n",
       "4    0.012013     0.698326    0.008711    0.005493    6.264022    0.000909   \n",
       "\n",
       "   Parameter6  Parameter7  Parameter8  Parameter9  \n",
       "0    0.000612    7.735225    0.034795     0.46567  \n",
       "1    0.002394    7.735225    0.034795     0.46567  \n",
       "2    0.001970    7.735225    0.034795     0.46567  \n",
       "3    0.002394    7.735225    0.034795     0.46567  \n",
       "4    0.002394    7.735225    0.034795     0.46567  "
      ]
     },
     "execution_count": 26,
     "metadata": {},
     "output_type": "execute_result"
    }
   ],
   "source": [
    "full.head()"
   ]
  },
  {
   "cell_type": "code",
   "execution_count": 27,
   "metadata": {
    "ExecuteTime": {
     "end_time": "2019-08-29T05:55:14.270640Z",
     "start_time": "2019-08-29T05:55:14.263640Z"
    }
   },
   "outputs": [],
   "source": [
    "full.to_pickle('full1.pkl')"
   ]
  },
  {
   "cell_type": "markdown",
   "metadata": {},
   "source": [
    "#### 数据预处理"
   ]
  },
  {
   "cell_type": "code",
   "execution_count": 28,
   "metadata": {
    "ExecuteTime": {
     "end_time": "2019-08-29T05:56:35.361278Z",
     "start_time": "2019-08-29T05:56:35.344277Z"
    }
   },
   "outputs": [],
   "source": [
    "full2 = PolynomialFeatures().fit_transform(full)"
   ]
  },
  {
   "cell_type": "code",
   "execution_count": 29,
   "metadata": {
    "ExecuteTime": {
     "end_time": "2019-08-29T05:56:37.672411Z",
     "start_time": "2019-08-29T05:56:37.666410Z"
    }
   },
   "outputs": [],
   "source": [
    "full2 = pd.DataFrame(full2[:,1:])"
   ]
  },
  {
   "cell_type": "code",
   "execution_count": 30,
   "metadata": {
    "ExecuteTime": {
     "end_time": "2019-08-29T05:56:41.387623Z",
     "start_time": "2019-08-29T05:56:41.330620Z"
    }
   },
   "outputs": [
    {
     "data": {
      "text/html": [
       "<div>\n",
       "<style scoped>\n",
       "    .dataframe tbody tr th:only-of-type {\n",
       "        vertical-align: middle;\n",
       "    }\n",
       "\n",
       "    .dataframe tbody tr th {\n",
       "        vertical-align: top;\n",
       "    }\n",
       "\n",
       "    .dataframe thead th {\n",
       "        text-align: right;\n",
       "    }\n",
       "</style>\n",
       "<table border=\"1\" class=\"dataframe\">\n",
       "  <thead>\n",
       "    <tr style=\"text-align: right;\">\n",
       "      <th></th>\n",
       "      <th>0</th>\n",
       "      <th>1</th>\n",
       "      <th>2</th>\n",
       "      <th>3</th>\n",
       "      <th>4</th>\n",
       "      <th>5</th>\n",
       "      <th>6</th>\n",
       "      <th>7</th>\n",
       "      <th>8</th>\n",
       "      <th>9</th>\n",
       "      <th>10</th>\n",
       "      <th>11</th>\n",
       "      <th>12</th>\n",
       "      <th>13</th>\n",
       "      <th>14</th>\n",
       "      <th>15</th>\n",
       "      <th>16</th>\n",
       "      <th>17</th>\n",
       "      <th>18</th>\n",
       "      <th>19</th>\n",
       "      <th>20</th>\n",
       "      <th>21</th>\n",
       "      <th>22</th>\n",
       "      <th>23</th>\n",
       "      <th>24</th>\n",
       "      <th>...</th>\n",
       "      <th>40</th>\n",
       "      <th>41</th>\n",
       "      <th>42</th>\n",
       "      <th>43</th>\n",
       "      <th>44</th>\n",
       "      <th>45</th>\n",
       "      <th>46</th>\n",
       "      <th>47</th>\n",
       "      <th>48</th>\n",
       "      <th>49</th>\n",
       "      <th>50</th>\n",
       "      <th>51</th>\n",
       "      <th>52</th>\n",
       "      <th>53</th>\n",
       "      <th>54</th>\n",
       "      <th>55</th>\n",
       "      <th>56</th>\n",
       "      <th>57</th>\n",
       "      <th>58</th>\n",
       "      <th>59</th>\n",
       "      <th>60</th>\n",
       "      <th>61</th>\n",
       "      <th>62</th>\n",
       "      <th>63</th>\n",
       "      <th>64</th>\n",
       "    </tr>\n",
       "  </thead>\n",
       "  <tbody>\n",
       "    <tr>\n",
       "      <th>0</th>\n",
       "      <td>0.001659</td>\n",
       "      <td>0.698326</td>\n",
       "      <td>0.464371</td>\n",
       "      <td>5.001314</td>\n",
       "      <td>3.668328</td>\n",
       "      <td>0.000421</td>\n",
       "      <td>0.000612</td>\n",
       "      <td>7.735225</td>\n",
       "      <td>0.034795</td>\n",
       "      <td>0.46567</td>\n",
       "      <td>0.000003</td>\n",
       "      <td>0.001158</td>\n",
       "      <td>0.000770</td>\n",
       "      <td>0.008296</td>\n",
       "      <td>0.006085</td>\n",
       "      <td>6.986032e-07</td>\n",
       "      <td>0.000001</td>\n",
       "      <td>0.012831</td>\n",
       "      <td>0.000058</td>\n",
       "      <td>0.000772</td>\n",
       "      <td>0.48766</td>\n",
       "      <td>0.324282</td>\n",
       "      <td>3.492549</td>\n",
       "      <td>2.561690</td>\n",
       "      <td>0.000294</td>\n",
       "      <td>...</td>\n",
       "      <td>0.003060</td>\n",
       "      <td>38.686293</td>\n",
       "      <td>0.174019</td>\n",
       "      <td>2.328962</td>\n",
       "      <td>13.456633</td>\n",
       "      <td>0.001545</td>\n",
       "      <td>0.002244</td>\n",
       "      <td>28.375345</td>\n",
       "      <td>0.127639</td>\n",
       "      <td>1.708231</td>\n",
       "      <td>1.773791e-07</td>\n",
       "      <td>2.576873e-07</td>\n",
       "      <td>0.003258</td>\n",
       "      <td>0.000015</td>\n",
       "      <td>0.000196</td>\n",
       "      <td>3.743550e-07</td>\n",
       "      <td>0.004733</td>\n",
       "      <td>0.000021</td>\n",
       "      <td>0.000285</td>\n",
       "      <td>59.833706</td>\n",
       "      <td>0.269145</td>\n",
       "      <td>3.602062</td>\n",
       "      <td>0.001211</td>\n",
       "      <td>0.016203</td>\n",
       "      <td>0.216849</td>\n",
       "    </tr>\n",
       "    <tr>\n",
       "      <th>1</th>\n",
       "      <td>0.956184</td>\n",
       "      <td>0.698326</td>\n",
       "      <td>0.014940</td>\n",
       "      <td>0.035236</td>\n",
       "      <td>3.953747</td>\n",
       "      <td>0.000909</td>\n",
       "      <td>0.002394</td>\n",
       "      <td>7.735225</td>\n",
       "      <td>0.034795</td>\n",
       "      <td>0.46567</td>\n",
       "      <td>0.914288</td>\n",
       "      <td>0.667728</td>\n",
       "      <td>0.014285</td>\n",
       "      <td>0.033692</td>\n",
       "      <td>3.780509</td>\n",
       "      <td>8.689547e-04</td>\n",
       "      <td>0.002289</td>\n",
       "      <td>7.396298</td>\n",
       "      <td>0.033270</td>\n",
       "      <td>0.445266</td>\n",
       "      <td>0.48766</td>\n",
       "      <td>0.010433</td>\n",
       "      <td>0.024606</td>\n",
       "      <td>2.761005</td>\n",
       "      <td>0.000635</td>\n",
       "      <td>...</td>\n",
       "      <td>0.000084</td>\n",
       "      <td>0.272561</td>\n",
       "      <td>0.001226</td>\n",
       "      <td>0.016408</td>\n",
       "      <td>15.632114</td>\n",
       "      <td>0.003593</td>\n",
       "      <td>0.009466</td>\n",
       "      <td>30.583122</td>\n",
       "      <td>0.137570</td>\n",
       "      <td>1.841141</td>\n",
       "      <td>8.258695e-07</td>\n",
       "      <td>2.175735e-06</td>\n",
       "      <td>0.007030</td>\n",
       "      <td>0.000032</td>\n",
       "      <td>0.000423</td>\n",
       "      <td>5.731924e-06</td>\n",
       "      <td>0.018519</td>\n",
       "      <td>0.000083</td>\n",
       "      <td>0.001115</td>\n",
       "      <td>59.833706</td>\n",
       "      <td>0.269145</td>\n",
       "      <td>3.602062</td>\n",
       "      <td>0.001211</td>\n",
       "      <td>0.016203</td>\n",
       "      <td>0.216849</td>\n",
       "    </tr>\n",
       "    <tr>\n",
       "      <th>2</th>\n",
       "      <td>0.093526</td>\n",
       "      <td>0.698326</td>\n",
       "      <td>4.251828</td>\n",
       "      <td>0.077813</td>\n",
       "      <td>0.106399</td>\n",
       "      <td>0.000909</td>\n",
       "      <td>0.001970</td>\n",
       "      <td>7.735225</td>\n",
       "      <td>0.034795</td>\n",
       "      <td>0.46567</td>\n",
       "      <td>0.008747</td>\n",
       "      <td>0.065311</td>\n",
       "      <td>0.397655</td>\n",
       "      <td>0.007277</td>\n",
       "      <td>0.009951</td>\n",
       "      <td>8.499364e-05</td>\n",
       "      <td>0.000184</td>\n",
       "      <td>0.723442</td>\n",
       "      <td>0.003254</td>\n",
       "      <td>0.043552</td>\n",
       "      <td>0.48766</td>\n",
       "      <td>2.969163</td>\n",
       "      <td>0.054339</td>\n",
       "      <td>0.074301</td>\n",
       "      <td>0.000635</td>\n",
       "      <td>...</td>\n",
       "      <td>0.000153</td>\n",
       "      <td>0.601899</td>\n",
       "      <td>0.002707</td>\n",
       "      <td>0.036235</td>\n",
       "      <td>0.011321</td>\n",
       "      <td>0.000097</td>\n",
       "      <td>0.000210</td>\n",
       "      <td>0.823018</td>\n",
       "      <td>0.003702</td>\n",
       "      <td>0.049547</td>\n",
       "      <td>8.258695e-07</td>\n",
       "      <td>1.790600e-06</td>\n",
       "      <td>0.007030</td>\n",
       "      <td>0.000032</td>\n",
       "      <td>0.000423</td>\n",
       "      <td>3.882271e-06</td>\n",
       "      <td>0.015241</td>\n",
       "      <td>0.000069</td>\n",
       "      <td>0.000918</td>\n",
       "      <td>59.833706</td>\n",
       "      <td>0.269145</td>\n",
       "      <td>3.602062</td>\n",
       "      <td>0.001211</td>\n",
       "      <td>0.016203</td>\n",
       "      <td>0.216849</td>\n",
       "    </tr>\n",
       "    <tr>\n",
       "      <th>3</th>\n",
       "      <td>2.953965</td>\n",
       "      <td>0.698326</td>\n",
       "      <td>0.046239</td>\n",
       "      <td>0.017900</td>\n",
       "      <td>0.741033</td>\n",
       "      <td>0.000909</td>\n",
       "      <td>0.002394</td>\n",
       "      <td>7.735225</td>\n",
       "      <td>0.034795</td>\n",
       "      <td>0.46567</td>\n",
       "      <td>8.725909</td>\n",
       "      <td>2.062831</td>\n",
       "      <td>0.136589</td>\n",
       "      <td>0.052876</td>\n",
       "      <td>2.188986</td>\n",
       "      <td>2.684486e-03</td>\n",
       "      <td>0.007072</td>\n",
       "      <td>22.849584</td>\n",
       "      <td>0.102782</td>\n",
       "      <td>1.375573</td>\n",
       "      <td>0.48766</td>\n",
       "      <td>0.032290</td>\n",
       "      <td>0.012500</td>\n",
       "      <td>0.517483</td>\n",
       "      <td>0.000635</td>\n",
       "      <td>...</td>\n",
       "      <td>0.000043</td>\n",
       "      <td>0.138461</td>\n",
       "      <td>0.000623</td>\n",
       "      <td>0.008336</td>\n",
       "      <td>0.549130</td>\n",
       "      <td>0.000673</td>\n",
       "      <td>0.001774</td>\n",
       "      <td>5.732058</td>\n",
       "      <td>0.025784</td>\n",
       "      <td>0.345077</td>\n",
       "      <td>8.258695e-07</td>\n",
       "      <td>2.175735e-06</td>\n",
       "      <td>0.007030</td>\n",
       "      <td>0.000032</td>\n",
       "      <td>0.000423</td>\n",
       "      <td>5.731924e-06</td>\n",
       "      <td>0.018519</td>\n",
       "      <td>0.000083</td>\n",
       "      <td>0.001115</td>\n",
       "      <td>59.833706</td>\n",
       "      <td>0.269145</td>\n",
       "      <td>3.602062</td>\n",
       "      <td>0.001211</td>\n",
       "      <td>0.016203</td>\n",
       "      <td>0.216849</td>\n",
       "    </tr>\n",
       "    <tr>\n",
       "      <th>4</th>\n",
       "      <td>0.012013</td>\n",
       "      <td>0.698326</td>\n",
       "      <td>0.008711</td>\n",
       "      <td>0.005493</td>\n",
       "      <td>6.264022</td>\n",
       "      <td>0.000909</td>\n",
       "      <td>0.002394</td>\n",
       "      <td>7.735225</td>\n",
       "      <td>0.034795</td>\n",
       "      <td>0.46567</td>\n",
       "      <td>0.000144</td>\n",
       "      <td>0.008389</td>\n",
       "      <td>0.000105</td>\n",
       "      <td>0.000066</td>\n",
       "      <td>0.075249</td>\n",
       "      <td>1.091701e-05</td>\n",
       "      <td>0.000029</td>\n",
       "      <td>0.092923</td>\n",
       "      <td>0.000418</td>\n",
       "      <td>0.005594</td>\n",
       "      <td>0.48766</td>\n",
       "      <td>0.006083</td>\n",
       "      <td>0.003836</td>\n",
       "      <td>4.374331</td>\n",
       "      <td>0.000635</td>\n",
       "      <td>...</td>\n",
       "      <td>0.000013</td>\n",
       "      <td>0.042493</td>\n",
       "      <td>0.000191</td>\n",
       "      <td>0.002558</td>\n",
       "      <td>39.237968</td>\n",
       "      <td>0.005693</td>\n",
       "      <td>0.014997</td>\n",
       "      <td>48.453617</td>\n",
       "      <td>0.217955</td>\n",
       "      <td>2.916967</td>\n",
       "      <td>8.258695e-07</td>\n",
       "      <td>2.175735e-06</td>\n",
       "      <td>0.007030</td>\n",
       "      <td>0.000032</td>\n",
       "      <td>0.000423</td>\n",
       "      <td>5.731924e-06</td>\n",
       "      <td>0.018519</td>\n",
       "      <td>0.000083</td>\n",
       "      <td>0.001115</td>\n",
       "      <td>59.833706</td>\n",
       "      <td>0.269145</td>\n",
       "      <td>3.602062</td>\n",
       "      <td>0.001211</td>\n",
       "      <td>0.016203</td>\n",
       "      <td>0.216849</td>\n",
       "    </tr>\n",
       "  </tbody>\n",
       "</table>\n",
       "<p>5 rows × 65 columns</p>\n",
       "</div>"
      ],
      "text/plain": [
       "         0         1         2         3         4         5         6   \\\n",
       "0  0.001659  0.698326  0.464371  5.001314  3.668328  0.000421  0.000612   \n",
       "1  0.956184  0.698326  0.014940  0.035236  3.953747  0.000909  0.002394   \n",
       "2  0.093526  0.698326  4.251828  0.077813  0.106399  0.000909  0.001970   \n",
       "3  2.953965  0.698326  0.046239  0.017900  0.741033  0.000909  0.002394   \n",
       "4  0.012013  0.698326  0.008711  0.005493  6.264022  0.000909  0.002394   \n",
       "\n",
       "         7         8        9         10        11        12        13  \\\n",
       "0  7.735225  0.034795  0.46567  0.000003  0.001158  0.000770  0.008296   \n",
       "1  7.735225  0.034795  0.46567  0.914288  0.667728  0.014285  0.033692   \n",
       "2  7.735225  0.034795  0.46567  0.008747  0.065311  0.397655  0.007277   \n",
       "3  7.735225  0.034795  0.46567  8.725909  2.062831  0.136589  0.052876   \n",
       "4  7.735225  0.034795  0.46567  0.000144  0.008389  0.000105  0.000066   \n",
       "\n",
       "         14            15        16         17        18        19       20  \\\n",
       "0  0.006085  6.986032e-07  0.000001   0.012831  0.000058  0.000772  0.48766   \n",
       "1  3.780509  8.689547e-04  0.002289   7.396298  0.033270  0.445266  0.48766   \n",
       "2  0.009951  8.499364e-05  0.000184   0.723442  0.003254  0.043552  0.48766   \n",
       "3  2.188986  2.684486e-03  0.007072  22.849584  0.102782  1.375573  0.48766   \n",
       "4  0.075249  1.091701e-05  0.000029   0.092923  0.000418  0.005594  0.48766   \n",
       "\n",
       "         21        22        23        24  ...        40         41        42  \\\n",
       "0  0.324282  3.492549  2.561690  0.000294  ...  0.003060  38.686293  0.174019   \n",
       "1  0.010433  0.024606  2.761005  0.000635  ...  0.000084   0.272561  0.001226   \n",
       "2  2.969163  0.054339  0.074301  0.000635  ...  0.000153   0.601899  0.002707   \n",
       "3  0.032290  0.012500  0.517483  0.000635  ...  0.000043   0.138461  0.000623   \n",
       "4  0.006083  0.003836  4.374331  0.000635  ...  0.000013   0.042493  0.000191   \n",
       "\n",
       "         43         44        45        46         47        48        49  \\\n",
       "0  2.328962  13.456633  0.001545  0.002244  28.375345  0.127639  1.708231   \n",
       "1  0.016408  15.632114  0.003593  0.009466  30.583122  0.137570  1.841141   \n",
       "2  0.036235   0.011321  0.000097  0.000210   0.823018  0.003702  0.049547   \n",
       "3  0.008336   0.549130  0.000673  0.001774   5.732058  0.025784  0.345077   \n",
       "4  0.002558  39.237968  0.005693  0.014997  48.453617  0.217955  2.916967   \n",
       "\n",
       "             50            51        52        53        54            55  \\\n",
       "0  1.773791e-07  2.576873e-07  0.003258  0.000015  0.000196  3.743550e-07   \n",
       "1  8.258695e-07  2.175735e-06  0.007030  0.000032  0.000423  5.731924e-06   \n",
       "2  8.258695e-07  1.790600e-06  0.007030  0.000032  0.000423  3.882271e-06   \n",
       "3  8.258695e-07  2.175735e-06  0.007030  0.000032  0.000423  5.731924e-06   \n",
       "4  8.258695e-07  2.175735e-06  0.007030  0.000032  0.000423  5.731924e-06   \n",
       "\n",
       "         56        57        58         59        60        61        62  \\\n",
       "0  0.004733  0.000021  0.000285  59.833706  0.269145  3.602062  0.001211   \n",
       "1  0.018519  0.000083  0.001115  59.833706  0.269145  3.602062  0.001211   \n",
       "2  0.015241  0.000069  0.000918  59.833706  0.269145  3.602062  0.001211   \n",
       "3  0.018519  0.000083  0.001115  59.833706  0.269145  3.602062  0.001211   \n",
       "4  0.018519  0.000083  0.001115  59.833706  0.269145  3.602062  0.001211   \n",
       "\n",
       "         63        64  \n",
       "0  0.016203  0.216849  \n",
       "1  0.016203  0.216849  \n",
       "2  0.016203  0.216849  \n",
       "3  0.016203  0.216849  \n",
       "4  0.016203  0.216849  \n",
       "\n",
       "[5 rows x 65 columns]"
      ]
     },
     "execution_count": 30,
     "metadata": {},
     "output_type": "execute_result"
    }
   ],
   "source": [
    "full2.head()"
   ]
  },
  {
   "cell_type": "code",
   "execution_count": 44,
   "metadata": {
    "ExecuteTime": {
     "end_time": "2019-08-29T06:03:05.893616Z",
     "start_time": "2019-08-29T06:03:05.868614Z"
    }
   },
   "outputs": [],
   "source": [
    "full2 = VarianceThreshold(threshold=1.).fit_transform(full2)"
   ]
  },
  {
   "cell_type": "code",
   "execution_count": 47,
   "metadata": {
    "ExecuteTime": {
     "end_time": "2019-08-29T06:06:58.477919Z",
     "start_time": "2019-08-29T06:06:58.472918Z"
    },
    "scrolled": true
   },
   "outputs": [
    {
     "name": "stdout",
     "output_type": "stream",
     "text": [
      "shape of trainX: (5985, 62)\n",
      "shape of trainY: (5985,)\n",
      "shape of testX: (6000, 62)\n"
     ]
    }
   ],
   "source": [
    "trainX = full2[:train.shape[0]]\n",
    "trainY = train.Quality_label\n",
    "testX = full2[:test.shape[0]:]\n",
    "\n",
    "print('shape of trainX:', trainX.shape)\n",
    "print('shape of trainY:', trainY.shape)\n",
    "print('shape of testX:', testX.shape)"
   ]
  },
  {
   "cell_type": "markdown",
   "metadata": {
    "ExecuteTime": {
     "end_time": "2019-08-26T06:49:46.859248Z",
     "start_time": "2019-08-26T06:49:46.836247Z"
    }
   },
   "source": [
    "### 模型构建"
   ]
  },
  {
   "cell_type": "code",
   "execution_count": 79,
   "metadata": {
    "ExecuteTime": {
     "end_time": "2019-08-29T07:05:41.753438Z",
     "start_time": "2019-08-29T07:05:41.410419Z"
    }
   },
   "outputs": [],
   "source": [
    "from sklearn.linear_model import LogisticRegression\n",
    "from sklearn.ensemble import AdaBoostClassifier\n",
    "from sklearn.ensemble import GradientBoostingClassifier\n",
    "from sklearn.svm import SVC\n",
    "import xgboost as xgb\n",
    "import lightgbm as lgb"
   ]
  },
  {
   "cell_type": "code",
   "execution_count": 51,
   "metadata": {
    "ExecuteTime": {
     "end_time": "2019-08-29T06:09:50.042732Z",
     "start_time": "2019-08-29T06:09:50.020730Z"
    }
   },
   "outputs": [],
   "source": [
    "X_train, X_test, y_train, y_test = train_test_split(trainX, trainY, test_size=0.25, random_state=42)"
   ]
  },
  {
   "cell_type": "code",
   "execution_count": 52,
   "metadata": {
    "ExecuteTime": {
     "end_time": "2019-08-29T06:09:51.224799Z",
     "start_time": "2019-08-29T06:09:51.219799Z"
    }
   },
   "outputs": [
    {
     "data": {
      "text/plain": [
       "(4488, 62)"
      ]
     },
     "execution_count": 52,
     "metadata": {},
     "output_type": "execute_result"
    }
   ],
   "source": [
    "X_train.shape"
   ]
  },
  {
   "cell_type": "code",
   "execution_count": 53,
   "metadata": {
    "ExecuteTime": {
     "end_time": "2019-08-29T06:09:57.358150Z",
     "start_time": "2019-08-29T06:09:55.745058Z"
    }
   },
   "outputs": [
    {
     "name": "stderr",
     "output_type": "stream",
     "text": [
      "d:\\python36\\deeplearning\\lib\\site-packages\\sklearn\\linear_model\\logistic.py:432: FutureWarning: Default solver will be changed to 'lbfgs' in 0.22. Specify a solver to silence this warning.\n",
      "  FutureWarning)\n",
      "d:\\python36\\deeplearning\\lib\\site-packages\\sklearn\\linear_model\\logistic.py:469: FutureWarning: Default multi_class will be changed to 'auto' in 0.22. Specify the multi_class option to silence this warning.\n",
      "  \"this warning.\", FutureWarning)\n"
     ]
    },
    {
     "data": {
      "text/plain": [
       "0.47160988643954577"
      ]
     },
     "execution_count": 53,
     "metadata": {},
     "output_type": "execute_result"
    }
   ],
   "source": [
    "lr = LogisticRegression()\n",
    "lr.fit(X_train, y_train)\n",
    "predY = lr.predict(X_test)\n",
    "np.sum(predY == y_test) / y_test.shape[0]"
   ]
  },
  {
   "cell_type": "code",
   "execution_count": 60,
   "metadata": {
    "ExecuteTime": {
     "end_time": "2019-08-29T06:17:20.659505Z",
     "start_time": "2019-08-29T06:16:48.257652Z"
    },
    "scrolled": true
   },
   "outputs": [
    {
     "name": "stderr",
     "output_type": "stream",
     "text": [
      "d:\\python36\\deeplearning\\lib\\site-packages\\sklearn\\linear_model\\logistic.py:432: FutureWarning: Default solver will be changed to 'lbfgs' in 0.22. Specify a solver to silence this warning.\n",
      "  FutureWarning)\n",
      "d:\\python36\\deeplearning\\lib\\site-packages\\sklearn\\linear_model\\logistic.py:469: FutureWarning: Default multi_class will be changed to 'auto' in 0.22. Specify the multi_class option to silence this warning.\n",
      "  \"this warning.\", FutureWarning)\n",
      "d:\\python36\\deeplearning\\lib\\site-packages\\sklearn\\linear_model\\logistic.py:432: FutureWarning: Default solver will be changed to 'lbfgs' in 0.22. Specify a solver to silence this warning.\n",
      "  FutureWarning)\n",
      "d:\\python36\\deeplearning\\lib\\site-packages\\sklearn\\linear_model\\logistic.py:469: FutureWarning: Default multi_class will be changed to 'auto' in 0.22. Specify the multi_class option to silence this warning.\n",
      "  \"this warning.\", FutureWarning)\n",
      "d:\\python36\\deeplearning\\lib\\site-packages\\sklearn\\linear_model\\logistic.py:432: FutureWarning: Default solver will be changed to 'lbfgs' in 0.22. Specify a solver to silence this warning.\n",
      "  FutureWarning)\n",
      "d:\\python36\\deeplearning\\lib\\site-packages\\sklearn\\linear_model\\logistic.py:469: FutureWarning: Default multi_class will be changed to 'auto' in 0.22. Specify the multi_class option to silence this warning.\n",
      "  \"this warning.\", FutureWarning)\n",
      "d:\\python36\\deeplearning\\lib\\site-packages\\sklearn\\linear_model\\logistic.py:432: FutureWarning: Default solver will be changed to 'lbfgs' in 0.22. Specify a solver to silence this warning.\n",
      "  FutureWarning)\n",
      "d:\\python36\\deeplearning\\lib\\site-packages\\sklearn\\linear_model\\logistic.py:469: FutureWarning: Default multi_class will be changed to 'auto' in 0.22. Specify the multi_class option to silence this warning.\n",
      "  \"this warning.\", FutureWarning)\n",
      "d:\\python36\\deeplearning\\lib\\site-packages\\sklearn\\linear_model\\logistic.py:432: FutureWarning: Default solver will be changed to 'lbfgs' in 0.22. Specify a solver to silence this warning.\n",
      "  FutureWarning)\n",
      "d:\\python36\\deeplearning\\lib\\site-packages\\sklearn\\linear_model\\logistic.py:469: FutureWarning: Default multi_class will be changed to 'auto' in 0.22. Specify the multi_class option to silence this warning.\n",
      "  \"this warning.\", FutureWarning)\n",
      "d:\\python36\\deeplearning\\lib\\site-packages\\sklearn\\linear_model\\logistic.py:432: FutureWarning: Default solver will be changed to 'lbfgs' in 0.22. Specify a solver to silence this warning.\n",
      "  FutureWarning)\n",
      "d:\\python36\\deeplearning\\lib\\site-packages\\sklearn\\linear_model\\logistic.py:469: FutureWarning: Default multi_class will be changed to 'auto' in 0.22. Specify the multi_class option to silence this warning.\n",
      "  \"this warning.\", FutureWarning)\n",
      "d:\\python36\\deeplearning\\lib\\site-packages\\sklearn\\linear_model\\logistic.py:432: FutureWarning: Default solver will be changed to 'lbfgs' in 0.22. Specify a solver to silence this warning.\n",
      "  FutureWarning)\n",
      "d:\\python36\\deeplearning\\lib\\site-packages\\sklearn\\linear_model\\logistic.py:469: FutureWarning: Default multi_class will be changed to 'auto' in 0.22. Specify the multi_class option to silence this warning.\n",
      "  \"this warning.\", FutureWarning)\n",
      "d:\\python36\\deeplearning\\lib\\site-packages\\sklearn\\linear_model\\logistic.py:432: FutureWarning: Default solver will be changed to 'lbfgs' in 0.22. Specify a solver to silence this warning.\n",
      "  FutureWarning)\n",
      "d:\\python36\\deeplearning\\lib\\site-packages\\sklearn\\linear_model\\logistic.py:469: FutureWarning: Default multi_class will be changed to 'auto' in 0.22. Specify the multi_class option to silence this warning.\n",
      "  \"this warning.\", FutureWarning)\n",
      "d:\\python36\\deeplearning\\lib\\site-packages\\sklearn\\linear_model\\logistic.py:432: FutureWarning: Default solver will be changed to 'lbfgs' in 0.22. Specify a solver to silence this warning.\n",
      "  FutureWarning)\n",
      "d:\\python36\\deeplearning\\lib\\site-packages\\sklearn\\linear_model\\logistic.py:469: FutureWarning: Default multi_class will be changed to 'auto' in 0.22. Specify the multi_class option to silence this warning.\n",
      "  \"this warning.\", FutureWarning)\n",
      "d:\\python36\\deeplearning\\lib\\site-packages\\sklearn\\linear_model\\logistic.py:432: FutureWarning: Default solver will be changed to 'lbfgs' in 0.22. Specify a solver to silence this warning.\n",
      "  FutureWarning)\n",
      "d:\\python36\\deeplearning\\lib\\site-packages\\sklearn\\linear_model\\logistic.py:469: FutureWarning: Default multi_class will be changed to 'auto' in 0.22. Specify the multi_class option to silence this warning.\n",
      "  \"this warning.\", FutureWarning)\n",
      "d:\\python36\\deeplearning\\lib\\site-packages\\sklearn\\linear_model\\logistic.py:432: FutureWarning: Default solver will be changed to 'lbfgs' in 0.22. Specify a solver to silence this warning.\n",
      "  FutureWarning)\n",
      "d:\\python36\\deeplearning\\lib\\site-packages\\sklearn\\linear_model\\logistic.py:469: FutureWarning: Default multi_class will be changed to 'auto' in 0.22. Specify the multi_class option to silence this warning.\n",
      "  \"this warning.\", FutureWarning)\n",
      "d:\\python36\\deeplearning\\lib\\site-packages\\sklearn\\linear_model\\logistic.py:432: FutureWarning: Default solver will be changed to 'lbfgs' in 0.22. Specify a solver to silence this warning.\n",
      "  FutureWarning)\n",
      "d:\\python36\\deeplearning\\lib\\site-packages\\sklearn\\linear_model\\logistic.py:469: FutureWarning: Default multi_class will be changed to 'auto' in 0.22. Specify the multi_class option to silence this warning.\n",
      "  \"this warning.\", FutureWarning)\n",
      "d:\\python36\\deeplearning\\lib\\site-packages\\sklearn\\linear_model\\logistic.py:432: FutureWarning: Default solver will be changed to 'lbfgs' in 0.22. Specify a solver to silence this warning.\n",
      "  FutureWarning)\n",
      "d:\\python36\\deeplearning\\lib\\site-packages\\sklearn\\linear_model\\logistic.py:469: FutureWarning: Default multi_class will be changed to 'auto' in 0.22. Specify the multi_class option to silence this warning.\n",
      "  \"this warning.\", FutureWarning)\n",
      "d:\\python36\\deeplearning\\lib\\site-packages\\sklearn\\linear_model\\logistic.py:432: FutureWarning: Default solver will be changed to 'lbfgs' in 0.22. Specify a solver to silence this warning.\n",
      "  FutureWarning)\n",
      "d:\\python36\\deeplearning\\lib\\site-packages\\sklearn\\linear_model\\logistic.py:469: FutureWarning: Default multi_class will be changed to 'auto' in 0.22. Specify the multi_class option to silence this warning.\n",
      "  \"this warning.\", FutureWarning)\n",
      "d:\\python36\\deeplearning\\lib\\site-packages\\sklearn\\linear_model\\logistic.py:432: FutureWarning: Default solver will be changed to 'lbfgs' in 0.22. Specify a solver to silence this warning.\n",
      "  FutureWarning)\n",
      "d:\\python36\\deeplearning\\lib\\site-packages\\sklearn\\linear_model\\logistic.py:469: FutureWarning: Default multi_class will be changed to 'auto' in 0.22. Specify the multi_class option to silence this warning.\n",
      "  \"this warning.\", FutureWarning)\n",
      "d:\\python36\\deeplearning\\lib\\site-packages\\sklearn\\linear_model\\logistic.py:432: FutureWarning: Default solver will be changed to 'lbfgs' in 0.22. Specify a solver to silence this warning.\n",
      "  FutureWarning)\n",
      "d:\\python36\\deeplearning\\lib\\site-packages\\sklearn\\linear_model\\logistic.py:469: FutureWarning: Default multi_class will be changed to 'auto' in 0.22. Specify the multi_class option to silence this warning.\n",
      "  \"this warning.\", FutureWarning)\n",
      "d:\\python36\\deeplearning\\lib\\site-packages\\sklearn\\linear_model\\logistic.py:432: FutureWarning: Default solver will be changed to 'lbfgs' in 0.22. Specify a solver to silence this warning.\n",
      "  FutureWarning)\n",
      "d:\\python36\\deeplearning\\lib\\site-packages\\sklearn\\linear_model\\logistic.py:469: FutureWarning: Default multi_class will be changed to 'auto' in 0.22. Specify the multi_class option to silence this warning.\n",
      "  \"this warning.\", FutureWarning)\n",
      "d:\\python36\\deeplearning\\lib\\site-packages\\sklearn\\linear_model\\logistic.py:432: FutureWarning: Default solver will be changed to 'lbfgs' in 0.22. Specify a solver to silence this warning.\n",
      "  FutureWarning)\n",
      "d:\\python36\\deeplearning\\lib\\site-packages\\sklearn\\linear_model\\logistic.py:469: FutureWarning: Default multi_class will be changed to 'auto' in 0.22. Specify the multi_class option to silence this warning.\n",
      "  \"this warning.\", FutureWarning)\n",
      "d:\\python36\\deeplearning\\lib\\site-packages\\sklearn\\linear_model\\logistic.py:432: FutureWarning: Default solver will be changed to 'lbfgs' in 0.22. Specify a solver to silence this warning.\n",
      "  FutureWarning)\n",
      "d:\\python36\\deeplearning\\lib\\site-packages\\sklearn\\linear_model\\logistic.py:469: FutureWarning: Default multi_class will be changed to 'auto' in 0.22. Specify the multi_class option to silence this warning.\n",
      "  \"this warning.\", FutureWarning)\n"
     ]
    },
    {
     "name": "stderr",
     "output_type": "stream",
     "text": [
      "d:\\python36\\deeplearning\\lib\\site-packages\\sklearn\\linear_model\\logistic.py:432: FutureWarning: Default solver will be changed to 'lbfgs' in 0.22. Specify a solver to silence this warning.\n",
      "  FutureWarning)\n",
      "d:\\python36\\deeplearning\\lib\\site-packages\\sklearn\\linear_model\\logistic.py:469: FutureWarning: Default multi_class will be changed to 'auto' in 0.22. Specify the multi_class option to silence this warning.\n",
      "  \"this warning.\", FutureWarning)\n",
      "d:\\python36\\deeplearning\\lib\\site-packages\\sklearn\\linear_model\\logistic.py:432: FutureWarning: Default solver will be changed to 'lbfgs' in 0.22. Specify a solver to silence this warning.\n",
      "  FutureWarning)\n",
      "d:\\python36\\deeplearning\\lib\\site-packages\\sklearn\\linear_model\\logistic.py:469: FutureWarning: Default multi_class will be changed to 'auto' in 0.22. Specify the multi_class option to silence this warning.\n",
      "  \"this warning.\", FutureWarning)\n",
      "d:\\python36\\deeplearning\\lib\\site-packages\\sklearn\\linear_model\\logistic.py:432: FutureWarning: Default solver will be changed to 'lbfgs' in 0.22. Specify a solver to silence this warning.\n",
      "  FutureWarning)\n",
      "d:\\python36\\deeplearning\\lib\\site-packages\\sklearn\\linear_model\\logistic.py:469: FutureWarning: Default multi_class will be changed to 'auto' in 0.22. Specify the multi_class option to silence this warning.\n",
      "  \"this warning.\", FutureWarning)\n",
      "d:\\python36\\deeplearning\\lib\\site-packages\\sklearn\\linear_model\\logistic.py:432: FutureWarning: Default solver will be changed to 'lbfgs' in 0.22. Specify a solver to silence this warning.\n",
      "  FutureWarning)\n",
      "d:\\python36\\deeplearning\\lib\\site-packages\\sklearn\\linear_model\\logistic.py:469: FutureWarning: Default multi_class will be changed to 'auto' in 0.22. Specify the multi_class option to silence this warning.\n",
      "  \"this warning.\", FutureWarning)\n",
      "d:\\python36\\deeplearning\\lib\\site-packages\\sklearn\\linear_model\\logistic.py:432: FutureWarning: Default solver will be changed to 'lbfgs' in 0.22. Specify a solver to silence this warning.\n",
      "  FutureWarning)\n",
      "d:\\python36\\deeplearning\\lib\\site-packages\\sklearn\\linear_model\\logistic.py:469: FutureWarning: Default multi_class will be changed to 'auto' in 0.22. Specify the multi_class option to silence this warning.\n",
      "  \"this warning.\", FutureWarning)\n",
      "d:\\python36\\deeplearning\\lib\\site-packages\\sklearn\\linear_model\\logistic.py:432: FutureWarning: Default solver will be changed to 'lbfgs' in 0.22. Specify a solver to silence this warning.\n",
      "  FutureWarning)\n",
      "d:\\python36\\deeplearning\\lib\\site-packages\\sklearn\\linear_model\\logistic.py:469: FutureWarning: Default multi_class will be changed to 'auto' in 0.22. Specify the multi_class option to silence this warning.\n",
      "  \"this warning.\", FutureWarning)\n",
      "d:\\python36\\deeplearning\\lib\\site-packages\\sklearn\\linear_model\\logistic.py:432: FutureWarning: Default solver will be changed to 'lbfgs' in 0.22. Specify a solver to silence this warning.\n",
      "  FutureWarning)\n",
      "d:\\python36\\deeplearning\\lib\\site-packages\\sklearn\\linear_model\\logistic.py:469: FutureWarning: Default multi_class will be changed to 'auto' in 0.22. Specify the multi_class option to silence this warning.\n",
      "  \"this warning.\", FutureWarning)\n",
      "d:\\python36\\deeplearning\\lib\\site-packages\\sklearn\\linear_model\\logistic.py:432: FutureWarning: Default solver will be changed to 'lbfgs' in 0.22. Specify a solver to silence this warning.\n",
      "  FutureWarning)\n",
      "d:\\python36\\deeplearning\\lib\\site-packages\\sklearn\\linear_model\\logistic.py:469: FutureWarning: Default multi_class will be changed to 'auto' in 0.22. Specify the multi_class option to silence this warning.\n",
      "  \"this warning.\", FutureWarning)\n",
      "d:\\python36\\deeplearning\\lib\\site-packages\\sklearn\\linear_model\\logistic.py:432: FutureWarning: Default solver will be changed to 'lbfgs' in 0.22. Specify a solver to silence this warning.\n",
      "  FutureWarning)\n",
      "d:\\python36\\deeplearning\\lib\\site-packages\\sklearn\\linear_model\\logistic.py:469: FutureWarning: Default multi_class will be changed to 'auto' in 0.22. Specify the multi_class option to silence this warning.\n",
      "  \"this warning.\", FutureWarning)\n",
      "d:\\python36\\deeplearning\\lib\\site-packages\\sklearn\\linear_model\\logistic.py:432: FutureWarning: Default solver will be changed to 'lbfgs' in 0.22. Specify a solver to silence this warning.\n",
      "  FutureWarning)\n",
      "d:\\python36\\deeplearning\\lib\\site-packages\\sklearn\\linear_model\\logistic.py:469: FutureWarning: Default multi_class will be changed to 'auto' in 0.22. Specify the multi_class option to silence this warning.\n",
      "  \"this warning.\", FutureWarning)\n",
      "d:\\python36\\deeplearning\\lib\\site-packages\\sklearn\\linear_model\\logistic.py:432: FutureWarning: Default solver will be changed to 'lbfgs' in 0.22. Specify a solver to silence this warning.\n",
      "  FutureWarning)\n",
      "d:\\python36\\deeplearning\\lib\\site-packages\\sklearn\\linear_model\\logistic.py:469: FutureWarning: Default multi_class will be changed to 'auto' in 0.22. Specify the multi_class option to silence this warning.\n",
      "  \"this warning.\", FutureWarning)\n",
      "d:\\python36\\deeplearning\\lib\\site-packages\\sklearn\\linear_model\\logistic.py:432: FutureWarning: Default solver will be changed to 'lbfgs' in 0.22. Specify a solver to silence this warning.\n",
      "  FutureWarning)\n",
      "d:\\python36\\deeplearning\\lib\\site-packages\\sklearn\\linear_model\\logistic.py:469: FutureWarning: Default multi_class will be changed to 'auto' in 0.22. Specify the multi_class option to silence this warning.\n",
      "  \"this warning.\", FutureWarning)\n",
      "d:\\python36\\deeplearning\\lib\\site-packages\\sklearn\\linear_model\\logistic.py:432: FutureWarning: Default solver will be changed to 'lbfgs' in 0.22. Specify a solver to silence this warning.\n",
      "  FutureWarning)\n",
      "d:\\python36\\deeplearning\\lib\\site-packages\\sklearn\\linear_model\\logistic.py:469: FutureWarning: Default multi_class will be changed to 'auto' in 0.22. Specify the multi_class option to silence this warning.\n",
      "  \"this warning.\", FutureWarning)\n",
      "d:\\python36\\deeplearning\\lib\\site-packages\\sklearn\\linear_model\\logistic.py:432: FutureWarning: Default solver will be changed to 'lbfgs' in 0.22. Specify a solver to silence this warning.\n",
      "  FutureWarning)\n",
      "d:\\python36\\deeplearning\\lib\\site-packages\\sklearn\\linear_model\\logistic.py:469: FutureWarning: Default multi_class will be changed to 'auto' in 0.22. Specify the multi_class option to silence this warning.\n",
      "  \"this warning.\", FutureWarning)\n"
     ]
    }
   ],
   "source": [
    "ref = RFE(estimator=lr, n_features_to_select=30).fit(X_train, y_train)"
   ]
  },
  {
   "cell_type": "code",
   "execution_count": 62,
   "metadata": {
    "ExecuteTime": {
     "end_time": "2019-08-29T06:17:52.493326Z",
     "start_time": "2019-08-29T06:17:52.486326Z"
    }
   },
   "outputs": [
    {
     "data": {
      "text/plain": [
       "(4488, 30)"
      ]
     },
     "execution_count": 62,
     "metadata": {},
     "output_type": "execute_result"
    }
   ],
   "source": [
    "X_train = ref.transform(X_train)\n",
    "X_train.shape"
   ]
  },
  {
   "cell_type": "code",
   "execution_count": 63,
   "metadata": {
    "ExecuteTime": {
     "end_time": "2019-08-29T06:18:11.741427Z",
     "start_time": "2019-08-29T06:18:11.736427Z"
    }
   },
   "outputs": [
    {
     "data": {
      "text/plain": [
       "(1497, 30)"
      ]
     },
     "execution_count": 63,
     "metadata": {},
     "output_type": "execute_result"
    }
   ],
   "source": [
    "X_test = ref.transform(X_test)\n",
    "X_test.shape"
   ]
  },
  {
   "cell_type": "code",
   "execution_count": 65,
   "metadata": {
    "ExecuteTime": {
     "end_time": "2019-08-29T06:21:59.847474Z",
     "start_time": "2019-08-29T06:21:59.836473Z"
    }
   },
   "outputs": [
    {
     "data": {
      "text/plain": [
       "(6000, 30)"
      ]
     },
     "execution_count": 65,
     "metadata": {},
     "output_type": "execute_result"
    }
   ],
   "source": [
    "testX = ref.transform(testX)\n",
    "testX.shape"
   ]
  },
  {
   "cell_type": "code",
   "execution_count": 67,
   "metadata": {
    "ExecuteTime": {
     "end_time": "2019-08-29T06:22:38.169666Z",
     "start_time": "2019-08-29T06:22:38.162666Z"
    }
   },
   "outputs": [
    {
     "data": {
      "text/plain": [
       "(5985, 30)"
      ]
     },
     "execution_count": 67,
     "metadata": {},
     "output_type": "execute_result"
    }
   ],
   "source": [
    "trainX = ref.transform(trainX)\n",
    "trainX.shape"
   ]
  },
  {
   "cell_type": "code",
   "execution_count": 64,
   "metadata": {
    "ExecuteTime": {
     "end_time": "2019-08-29T06:18:30.856520Z",
     "start_time": "2019-08-29T06:18:30.427496Z"
    }
   },
   "outputs": [
    {
     "name": "stderr",
     "output_type": "stream",
     "text": [
      "d:\\python36\\deeplearning\\lib\\site-packages\\sklearn\\linear_model\\logistic.py:432: FutureWarning: Default solver will be changed to 'lbfgs' in 0.22. Specify a solver to silence this warning.\n",
      "  FutureWarning)\n",
      "d:\\python36\\deeplearning\\lib\\site-packages\\sklearn\\linear_model\\logistic.py:469: FutureWarning: Default multi_class will be changed to 'auto' in 0.22. Specify the multi_class option to silence this warning.\n",
      "  \"this warning.\", FutureWarning)\n"
     ]
    },
    {
     "data": {
      "text/plain": [
       "0.47361389445557783"
      ]
     },
     "execution_count": 64,
     "metadata": {},
     "output_type": "execute_result"
    }
   ],
   "source": [
    "lr = LogisticRegression()\n",
    "lr.fit(X_train, y_train)\n",
    "predY = lr.predict(X_test)\n",
    "np.sum(predY == y_test) / y_test.shape[0]"
   ]
  },
  {
   "cell_type": "code",
   "execution_count": 81,
   "metadata": {
    "ExecuteTime": {
     "end_time": "2019-08-29T07:07:06.246271Z",
     "start_time": "2019-08-29T07:07:03.092091Z"
    }
   },
   "outputs": [
    {
     "data": {
      "text/plain": [
       "0.5023380093520374"
      ]
     },
     "execution_count": 81,
     "metadata": {},
     "output_type": "execute_result"
    }
   ],
   "source": [
    "xgbc = xgb.XGBClassifier()\n",
    "xgbc.fit(X_train, y_train)\n",
    "predY = xgbc.predict(X_test)\n",
    "np.sum(predY == y_test) / y_test.shape[0]"
   ]
  },
  {
   "cell_type": "code",
   "execution_count": 96,
   "metadata": {
    "ExecuteTime": {
     "end_time": "2019-08-29T08:43:13.320129Z",
     "start_time": "2019-08-29T08:43:10.550971Z"
    }
   },
   "outputs": [
    {
     "data": {
      "text/plain": [
       "0.45090180360721444"
      ]
     },
     "execution_count": 96,
     "metadata": {},
     "output_type": "execute_result"
    }
   ],
   "source": [
    "lgbc = lgb.LGBMClassifier(learning_rate=1.)\n",
    "lgbc.fit(X_train, y_train)\n",
    "predY = lgbc.predict(X_test)\n",
    "np.sum(predY == y_test) / y_test.shape[0]"
   ]
  },
  {
   "cell_type": "markdown",
   "metadata": {},
   "source": [
    "#### LogisticRegression"
   ]
  },
  {
   "cell_type": "code",
   "execution_count": 68,
   "metadata": {
    "ExecuteTime": {
     "end_time": "2019-08-29T06:22:43.618978Z",
     "start_time": "2019-08-29T06:22:43.031944Z"
    }
   },
   "outputs": [
    {
     "name": "stderr",
     "output_type": "stream",
     "text": [
      "d:\\python36\\deeplearning\\lib\\site-packages\\sklearn\\linear_model\\logistic.py:432: FutureWarning: Default solver will be changed to 'lbfgs' in 0.22. Specify a solver to silence this warning.\n",
      "  FutureWarning)\n",
      "d:\\python36\\deeplearning\\lib\\site-packages\\sklearn\\linear_model\\logistic.py:469: FutureWarning: Default multi_class will be changed to 'auto' in 0.22. Specify the multi_class option to silence this warning.\n",
      "  \"this warning.\", FutureWarning)\n"
     ]
    }
   ],
   "source": [
    "lr = LogisticRegression()\n",
    "lr.fit(trainX, trainY)\n",
    "predY = lr.predict(testX)"
   ]
  },
  {
   "cell_type": "markdown",
   "metadata": {},
   "source": [
    "#### AdaBoostClassifier"
   ]
  },
  {
   "cell_type": "code",
   "execution_count": null,
   "metadata": {
    "ExecuteTime": {
     "end_time": "2019-08-27T02:44:51.872276Z",
     "start_time": "2019-08-27T02:44:51.223239Z"
    }
   },
   "outputs": [],
   "source": [
    "ada = AdaBoostClassifier()\n",
    "ada.fit(trainX, trainY)\n",
    "predY = ada.predict(testX)"
   ]
  },
  {
   "cell_type": "markdown",
   "metadata": {},
   "source": [
    "#### xgboost"
   ]
  },
  {
   "cell_type": "code",
   "execution_count": 86,
   "metadata": {
    "ExecuteTime": {
     "end_time": "2019-08-29T07:10:51.378148Z",
     "start_time": "2019-08-29T07:10:47.276913Z"
    }
   },
   "outputs": [],
   "source": [
    "xgbc = xgb.XGBClassifier()\n",
    "xgbc.fit(trainX, trainY)\n",
    "predY = xgbc.predict(testX)"
   ]
  },
  {
   "cell_type": "code",
   "execution_count": null,
   "metadata": {
    "ExecuteTime": {
     "end_time": "2019-08-28T07:41:48.040847Z",
     "start_time": "2019-08-28T07:41:47.988844Z"
    }
   },
   "outputs": [],
   "source": [
    "xgbc.feature_importances_"
   ]
  },
  {
   "cell_type": "markdown",
   "metadata": {},
   "source": [
    "#### lightgbm"
   ]
  },
  {
   "cell_type": "code",
   "execution_count": 87,
   "metadata": {
    "ExecuteTime": {
     "end_time": "2019-08-29T07:17:10.196815Z",
     "start_time": "2019-08-29T07:17:08.326708Z"
    }
   },
   "outputs": [],
   "source": [
    "lgbc = lgb.LGBMClassifier()\n",
    "lgbc.fit(trainX, trainY)\n",
    "predY = lgbc.predict(testX)"
   ]
  },
  {
   "cell_type": "markdown",
   "metadata": {},
   "source": [
    "_________"
   ]
  },
  {
   "cell_type": "code",
   "execution_count": 88,
   "metadata": {
    "ExecuteTime": {
     "end_time": "2019-08-29T07:17:13.535006Z",
     "start_time": "2019-08-29T07:17:13.525006Z"
    }
   },
   "outputs": [
    {
     "data": {
      "text/html": [
       "<div>\n",
       "<style scoped>\n",
       "    .dataframe tbody tr th:only-of-type {\n",
       "        vertical-align: middle;\n",
       "    }\n",
       "\n",
       "    .dataframe tbody tr th {\n",
       "        vertical-align: top;\n",
       "    }\n",
       "\n",
       "    .dataframe thead th {\n",
       "        text-align: right;\n",
       "    }\n",
       "</style>\n",
       "<table border=\"1\" class=\"dataframe\">\n",
       "  <thead>\n",
       "    <tr style=\"text-align: right;\">\n",
       "      <th></th>\n",
       "      <th>Group</th>\n",
       "      <th>Quality_label</th>\n",
       "    </tr>\n",
       "  </thead>\n",
       "  <tbody>\n",
       "    <tr>\n",
       "      <th>0</th>\n",
       "      <td>0</td>\n",
       "      <td>Fail</td>\n",
       "    </tr>\n",
       "    <tr>\n",
       "      <th>1</th>\n",
       "      <td>0</td>\n",
       "      <td>Fail</td>\n",
       "    </tr>\n",
       "    <tr>\n",
       "      <th>2</th>\n",
       "      <td>0</td>\n",
       "      <td>Fail</td>\n",
       "    </tr>\n",
       "    <tr>\n",
       "      <th>3</th>\n",
       "      <td>0</td>\n",
       "      <td>Fail</td>\n",
       "    </tr>\n",
       "    <tr>\n",
       "      <th>4</th>\n",
       "      <td>0</td>\n",
       "      <td>Fail</td>\n",
       "    </tr>\n",
       "  </tbody>\n",
       "</table>\n",
       "</div>"
      ],
      "text/plain": [
       "   Group Quality_label\n",
       "0      0          Fail\n",
       "1      0          Fail\n",
       "2      0          Fail\n",
       "3      0          Fail\n",
       "4      0          Fail"
      ]
     },
     "execution_count": 88,
     "metadata": {},
     "output_type": "execute_result"
    }
   ],
   "source": [
    "results = pd.DataFrame({'Group':test.Group, 'Quality_label':predY})\n",
    "results.head()"
   ]
  },
  {
   "cell_type": "code",
   "execution_count": 89,
   "metadata": {
    "ExecuteTime": {
     "end_time": "2019-08-29T07:17:15.594124Z",
     "start_time": "2019-08-29T07:17:15.565122Z"
    }
   },
   "outputs": [
    {
     "data": {
      "text/html": [
       "<div>\n",
       "<style scoped>\n",
       "    .dataframe tbody tr th:only-of-type {\n",
       "        vertical-align: middle;\n",
       "    }\n",
       "\n",
       "    .dataframe tbody tr th {\n",
       "        vertical-align: top;\n",
       "    }\n",
       "\n",
       "    .dataframe thead th {\n",
       "        text-align: right;\n",
       "    }\n",
       "</style>\n",
       "<table border=\"1\" class=\"dataframe\">\n",
       "  <thead>\n",
       "    <tr style=\"text-align: right;\">\n",
       "      <th>Quality_label</th>\n",
       "      <th>Excellent</th>\n",
       "      <th>Fail</th>\n",
       "      <th>Good</th>\n",
       "      <th>Pass</th>\n",
       "    </tr>\n",
       "    <tr>\n",
       "      <th>Group</th>\n",
       "      <th></th>\n",
       "      <th></th>\n",
       "      <th></th>\n",
       "      <th></th>\n",
       "    </tr>\n",
       "  </thead>\n",
       "  <tbody>\n",
       "    <tr>\n",
       "      <th>0</th>\n",
       "      <td>20</td>\n",
       "      <td>8</td>\n",
       "      <td>8</td>\n",
       "      <td>14</td>\n",
       "    </tr>\n",
       "    <tr>\n",
       "      <th>1</th>\n",
       "      <td>4</td>\n",
       "      <td>3</td>\n",
       "      <td>4</td>\n",
       "      <td>39</td>\n",
       "    </tr>\n",
       "    <tr>\n",
       "      <th>2</th>\n",
       "      <td>1</td>\n",
       "      <td>3</td>\n",
       "      <td>1</td>\n",
       "      <td>45</td>\n",
       "    </tr>\n",
       "    <tr>\n",
       "      <th>3</th>\n",
       "      <td>15</td>\n",
       "      <td>16</td>\n",
       "      <td>8</td>\n",
       "      <td>11</td>\n",
       "    </tr>\n",
       "    <tr>\n",
       "      <th>4</th>\n",
       "      <td>9</td>\n",
       "      <td>5</td>\n",
       "      <td>17</td>\n",
       "      <td>19</td>\n",
       "    </tr>\n",
       "  </tbody>\n",
       "</table>\n",
       "</div>"
      ],
      "text/plain": [
       "Quality_label  Excellent  Fail  Good  Pass\n",
       "Group                                     \n",
       "0                     20     8     8    14\n",
       "1                      4     3     4    39\n",
       "2                      1     3     1    45\n",
       "3                     15    16     8    11\n",
       "4                      9     5    17    19"
      ]
     },
     "execution_count": 89,
     "metadata": {},
     "output_type": "execute_result"
    }
   ],
   "source": [
    "results['num'] = 1\n",
    "results = results.pivot_table(index=['Group'], columns=['Quality_label'], values='num', aggfunc=np.sum, fill_value=0)\n",
    "results.head()"
   ]
  },
  {
   "cell_type": "code",
   "execution_count": 90,
   "metadata": {
    "ExecuteTime": {
     "end_time": "2019-08-29T07:17:17.477232Z",
     "start_time": "2019-08-29T07:17:17.446230Z"
    },
    "scrolled": true
   },
   "outputs": [
    {
     "data": {
      "text/html": [
       "<div>\n",
       "<style scoped>\n",
       "    .dataframe tbody tr th:only-of-type {\n",
       "        vertical-align: middle;\n",
       "    }\n",
       "\n",
       "    .dataframe tbody tr th {\n",
       "        vertical-align: top;\n",
       "    }\n",
       "\n",
       "    .dataframe thead th {\n",
       "        text-align: right;\n",
       "    }\n",
       "</style>\n",
       "<table border=\"1\" class=\"dataframe\">\n",
       "  <thead>\n",
       "    <tr style=\"text-align: right;\">\n",
       "      <th>Quality_label</th>\n",
       "      <th>Excellent ratio</th>\n",
       "      <th>Good ratio</th>\n",
       "      <th>Pass ratio</th>\n",
       "      <th>Fail ratio</th>\n",
       "    </tr>\n",
       "    <tr>\n",
       "      <th>Group</th>\n",
       "      <th></th>\n",
       "      <th></th>\n",
       "      <th></th>\n",
       "      <th></th>\n",
       "    </tr>\n",
       "  </thead>\n",
       "  <tbody>\n",
       "    <tr>\n",
       "      <th>0</th>\n",
       "      <td>0.40</td>\n",
       "      <td>0.16</td>\n",
       "      <td>0.28</td>\n",
       "      <td>0.16</td>\n",
       "    </tr>\n",
       "    <tr>\n",
       "      <th>1</th>\n",
       "      <td>0.08</td>\n",
       "      <td>0.08</td>\n",
       "      <td>0.78</td>\n",
       "      <td>0.06</td>\n",
       "    </tr>\n",
       "    <tr>\n",
       "      <th>2</th>\n",
       "      <td>0.02</td>\n",
       "      <td>0.02</td>\n",
       "      <td>0.90</td>\n",
       "      <td>0.06</td>\n",
       "    </tr>\n",
       "    <tr>\n",
       "      <th>3</th>\n",
       "      <td>0.30</td>\n",
       "      <td>0.16</td>\n",
       "      <td>0.22</td>\n",
       "      <td>0.32</td>\n",
       "    </tr>\n",
       "    <tr>\n",
       "      <th>4</th>\n",
       "      <td>0.18</td>\n",
       "      <td>0.34</td>\n",
       "      <td>0.38</td>\n",
       "      <td>0.10</td>\n",
       "    </tr>\n",
       "    <tr>\n",
       "      <th>5</th>\n",
       "      <td>0.02</td>\n",
       "      <td>0.04</td>\n",
       "      <td>0.94</td>\n",
       "      <td>0.00</td>\n",
       "    </tr>\n",
       "    <tr>\n",
       "      <th>6</th>\n",
       "      <td>0.12</td>\n",
       "      <td>0.28</td>\n",
       "      <td>0.44</td>\n",
       "      <td>0.16</td>\n",
       "    </tr>\n",
       "    <tr>\n",
       "      <th>7</th>\n",
       "      <td>0.06</td>\n",
       "      <td>0.20</td>\n",
       "      <td>0.70</td>\n",
       "      <td>0.04</td>\n",
       "    </tr>\n",
       "    <tr>\n",
       "      <th>8</th>\n",
       "      <td>0.04</td>\n",
       "      <td>0.08</td>\n",
       "      <td>0.80</td>\n",
       "      <td>0.08</td>\n",
       "    </tr>\n",
       "    <tr>\n",
       "      <th>9</th>\n",
       "      <td>0.16</td>\n",
       "      <td>0.18</td>\n",
       "      <td>0.56</td>\n",
       "      <td>0.10</td>\n",
       "    </tr>\n",
       "    <tr>\n",
       "      <th>10</th>\n",
       "      <td>0.12</td>\n",
       "      <td>0.64</td>\n",
       "      <td>0.04</td>\n",
       "      <td>0.20</td>\n",
       "    </tr>\n",
       "    <tr>\n",
       "      <th>11</th>\n",
       "      <td>0.08</td>\n",
       "      <td>0.84</td>\n",
       "      <td>0.04</td>\n",
       "      <td>0.04</td>\n",
       "    </tr>\n",
       "    <tr>\n",
       "      <th>12</th>\n",
       "      <td>0.26</td>\n",
       "      <td>0.46</td>\n",
       "      <td>0.18</td>\n",
       "      <td>0.10</td>\n",
       "    </tr>\n",
       "    <tr>\n",
       "      <th>13</th>\n",
       "      <td>0.10</td>\n",
       "      <td>0.48</td>\n",
       "      <td>0.16</td>\n",
       "      <td>0.26</td>\n",
       "    </tr>\n",
       "    <tr>\n",
       "      <th>14</th>\n",
       "      <td>0.06</td>\n",
       "      <td>0.22</td>\n",
       "      <td>0.48</td>\n",
       "      <td>0.24</td>\n",
       "    </tr>\n",
       "    <tr>\n",
       "      <th>15</th>\n",
       "      <td>0.16</td>\n",
       "      <td>0.18</td>\n",
       "      <td>0.26</td>\n",
       "      <td>0.40</td>\n",
       "    </tr>\n",
       "    <tr>\n",
       "      <th>16</th>\n",
       "      <td>0.36</td>\n",
       "      <td>0.60</td>\n",
       "      <td>0.04</td>\n",
       "      <td>0.00</td>\n",
       "    </tr>\n",
       "    <tr>\n",
       "      <th>17</th>\n",
       "      <td>0.38</td>\n",
       "      <td>0.52</td>\n",
       "      <td>0.10</td>\n",
       "      <td>0.00</td>\n",
       "    </tr>\n",
       "    <tr>\n",
       "      <th>18</th>\n",
       "      <td>0.06</td>\n",
       "      <td>0.50</td>\n",
       "      <td>0.36</td>\n",
       "      <td>0.08</td>\n",
       "    </tr>\n",
       "    <tr>\n",
       "      <th>19</th>\n",
       "      <td>0.08</td>\n",
       "      <td>0.32</td>\n",
       "      <td>0.46</td>\n",
       "      <td>0.14</td>\n",
       "    </tr>\n",
       "    <tr>\n",
       "      <th>20</th>\n",
       "      <td>0.08</td>\n",
       "      <td>0.34</td>\n",
       "      <td>0.46</td>\n",
       "      <td>0.12</td>\n",
       "    </tr>\n",
       "    <tr>\n",
       "      <th>21</th>\n",
       "      <td>0.06</td>\n",
       "      <td>0.14</td>\n",
       "      <td>0.72</td>\n",
       "      <td>0.08</td>\n",
       "    </tr>\n",
       "    <tr>\n",
       "      <th>22</th>\n",
       "      <td>0.12</td>\n",
       "      <td>0.24</td>\n",
       "      <td>0.56</td>\n",
       "      <td>0.08</td>\n",
       "    </tr>\n",
       "    <tr>\n",
       "      <th>23</th>\n",
       "      <td>0.16</td>\n",
       "      <td>0.22</td>\n",
       "      <td>0.32</td>\n",
       "      <td>0.30</td>\n",
       "    </tr>\n",
       "    <tr>\n",
       "      <th>24</th>\n",
       "      <td>0.20</td>\n",
       "      <td>0.10</td>\n",
       "      <td>0.52</td>\n",
       "      <td>0.18</td>\n",
       "    </tr>\n",
       "    <tr>\n",
       "      <th>25</th>\n",
       "      <td>0.04</td>\n",
       "      <td>0.38</td>\n",
       "      <td>0.46</td>\n",
       "      <td>0.12</td>\n",
       "    </tr>\n",
       "    <tr>\n",
       "      <th>26</th>\n",
       "      <td>0.00</td>\n",
       "      <td>0.18</td>\n",
       "      <td>0.76</td>\n",
       "      <td>0.06</td>\n",
       "    </tr>\n",
       "    <tr>\n",
       "      <th>27</th>\n",
       "      <td>0.00</td>\n",
       "      <td>0.00</td>\n",
       "      <td>0.98</td>\n",
       "      <td>0.02</td>\n",
       "    </tr>\n",
       "    <tr>\n",
       "      <th>28</th>\n",
       "      <td>0.08</td>\n",
       "      <td>0.04</td>\n",
       "      <td>0.80</td>\n",
       "      <td>0.08</td>\n",
       "    </tr>\n",
       "    <tr>\n",
       "      <th>29</th>\n",
       "      <td>0.14</td>\n",
       "      <td>0.50</td>\n",
       "      <td>0.28</td>\n",
       "      <td>0.08</td>\n",
       "    </tr>\n",
       "    <tr>\n",
       "      <th>...</th>\n",
       "      <td>...</td>\n",
       "      <td>...</td>\n",
       "      <td>...</td>\n",
       "      <td>...</td>\n",
       "    </tr>\n",
       "    <tr>\n",
       "      <th>90</th>\n",
       "      <td>0.34</td>\n",
       "      <td>0.14</td>\n",
       "      <td>0.22</td>\n",
       "      <td>0.30</td>\n",
       "    </tr>\n",
       "    <tr>\n",
       "      <th>91</th>\n",
       "      <td>0.00</td>\n",
       "      <td>0.34</td>\n",
       "      <td>0.54</td>\n",
       "      <td>0.12</td>\n",
       "    </tr>\n",
       "    <tr>\n",
       "      <th>92</th>\n",
       "      <td>0.02</td>\n",
       "      <td>0.60</td>\n",
       "      <td>0.20</td>\n",
       "      <td>0.18</td>\n",
       "    </tr>\n",
       "    <tr>\n",
       "      <th>93</th>\n",
       "      <td>0.00</td>\n",
       "      <td>0.00</td>\n",
       "      <td>1.00</td>\n",
       "      <td>0.00</td>\n",
       "    </tr>\n",
       "    <tr>\n",
       "      <th>94</th>\n",
       "      <td>0.04</td>\n",
       "      <td>0.18</td>\n",
       "      <td>0.56</td>\n",
       "      <td>0.22</td>\n",
       "    </tr>\n",
       "    <tr>\n",
       "      <th>95</th>\n",
       "      <td>0.12</td>\n",
       "      <td>0.28</td>\n",
       "      <td>0.54</td>\n",
       "      <td>0.06</td>\n",
       "    </tr>\n",
       "    <tr>\n",
       "      <th>96</th>\n",
       "      <td>0.04</td>\n",
       "      <td>0.10</td>\n",
       "      <td>0.84</td>\n",
       "      <td>0.02</td>\n",
       "    </tr>\n",
       "    <tr>\n",
       "      <th>97</th>\n",
       "      <td>0.00</td>\n",
       "      <td>0.02</td>\n",
       "      <td>0.98</td>\n",
       "      <td>0.00</td>\n",
       "    </tr>\n",
       "    <tr>\n",
       "      <th>98</th>\n",
       "      <td>0.02</td>\n",
       "      <td>0.00</td>\n",
       "      <td>0.94</td>\n",
       "      <td>0.04</td>\n",
       "    </tr>\n",
       "    <tr>\n",
       "      <th>99</th>\n",
       "      <td>0.06</td>\n",
       "      <td>0.50</td>\n",
       "      <td>0.38</td>\n",
       "      <td>0.06</td>\n",
       "    </tr>\n",
       "    <tr>\n",
       "      <th>100</th>\n",
       "      <td>0.04</td>\n",
       "      <td>0.14</td>\n",
       "      <td>0.78</td>\n",
       "      <td>0.04</td>\n",
       "    </tr>\n",
       "    <tr>\n",
       "      <th>101</th>\n",
       "      <td>0.04</td>\n",
       "      <td>0.16</td>\n",
       "      <td>0.54</td>\n",
       "      <td>0.26</td>\n",
       "    </tr>\n",
       "    <tr>\n",
       "      <th>102</th>\n",
       "      <td>0.46</td>\n",
       "      <td>0.20</td>\n",
       "      <td>0.16</td>\n",
       "      <td>0.18</td>\n",
       "    </tr>\n",
       "    <tr>\n",
       "      <th>103</th>\n",
       "      <td>0.12</td>\n",
       "      <td>0.24</td>\n",
       "      <td>0.52</td>\n",
       "      <td>0.12</td>\n",
       "    </tr>\n",
       "    <tr>\n",
       "      <th>104</th>\n",
       "      <td>0.04</td>\n",
       "      <td>0.10</td>\n",
       "      <td>0.56</td>\n",
       "      <td>0.30</td>\n",
       "    </tr>\n",
       "    <tr>\n",
       "      <th>105</th>\n",
       "      <td>0.12</td>\n",
       "      <td>0.38</td>\n",
       "      <td>0.44</td>\n",
       "      <td>0.06</td>\n",
       "    </tr>\n",
       "    <tr>\n",
       "      <th>106</th>\n",
       "      <td>0.04</td>\n",
       "      <td>0.44</td>\n",
       "      <td>0.22</td>\n",
       "      <td>0.30</td>\n",
       "    </tr>\n",
       "    <tr>\n",
       "      <th>107</th>\n",
       "      <td>0.32</td>\n",
       "      <td>0.44</td>\n",
       "      <td>0.12</td>\n",
       "      <td>0.12</td>\n",
       "    </tr>\n",
       "    <tr>\n",
       "      <th>108</th>\n",
       "      <td>0.08</td>\n",
       "      <td>0.46</td>\n",
       "      <td>0.18</td>\n",
       "      <td>0.28</td>\n",
       "    </tr>\n",
       "    <tr>\n",
       "      <th>109</th>\n",
       "      <td>0.50</td>\n",
       "      <td>0.28</td>\n",
       "      <td>0.22</td>\n",
       "      <td>0.00</td>\n",
       "    </tr>\n",
       "    <tr>\n",
       "      <th>110</th>\n",
       "      <td>0.54</td>\n",
       "      <td>0.18</td>\n",
       "      <td>0.20</td>\n",
       "      <td>0.08</td>\n",
       "    </tr>\n",
       "    <tr>\n",
       "      <th>111</th>\n",
       "      <td>0.14</td>\n",
       "      <td>0.18</td>\n",
       "      <td>0.66</td>\n",
       "      <td>0.02</td>\n",
       "    </tr>\n",
       "    <tr>\n",
       "      <th>112</th>\n",
       "      <td>0.08</td>\n",
       "      <td>0.16</td>\n",
       "      <td>0.70</td>\n",
       "      <td>0.06</td>\n",
       "    </tr>\n",
       "    <tr>\n",
       "      <th>113</th>\n",
       "      <td>0.12</td>\n",
       "      <td>0.20</td>\n",
       "      <td>0.50</td>\n",
       "      <td>0.18</td>\n",
       "    </tr>\n",
       "    <tr>\n",
       "      <th>114</th>\n",
       "      <td>0.14</td>\n",
       "      <td>0.48</td>\n",
       "      <td>0.16</td>\n",
       "      <td>0.22</td>\n",
       "    </tr>\n",
       "    <tr>\n",
       "      <th>115</th>\n",
       "      <td>0.20</td>\n",
       "      <td>0.50</td>\n",
       "      <td>0.24</td>\n",
       "      <td>0.06</td>\n",
       "    </tr>\n",
       "    <tr>\n",
       "      <th>116</th>\n",
       "      <td>0.12</td>\n",
       "      <td>0.22</td>\n",
       "      <td>0.40</td>\n",
       "      <td>0.26</td>\n",
       "    </tr>\n",
       "    <tr>\n",
       "      <th>117</th>\n",
       "      <td>0.24</td>\n",
       "      <td>0.16</td>\n",
       "      <td>0.36</td>\n",
       "      <td>0.24</td>\n",
       "    </tr>\n",
       "    <tr>\n",
       "      <th>118</th>\n",
       "      <td>0.04</td>\n",
       "      <td>0.28</td>\n",
       "      <td>0.06</td>\n",
       "      <td>0.62</td>\n",
       "    </tr>\n",
       "    <tr>\n",
       "      <th>119</th>\n",
       "      <td>0.18</td>\n",
       "      <td>0.44</td>\n",
       "      <td>0.32</td>\n",
       "      <td>0.06</td>\n",
       "    </tr>\n",
       "  </tbody>\n",
       "</table>\n",
       "<p>120 rows × 4 columns</p>\n",
       "</div>"
      ],
      "text/plain": [
       "Quality_label  Excellent ratio  Good ratio  Pass ratio  Fail ratio\n",
       "Group                                                             \n",
       "0                         0.40        0.16        0.28        0.16\n",
       "1                         0.08        0.08        0.78        0.06\n",
       "2                         0.02        0.02        0.90        0.06\n",
       "3                         0.30        0.16        0.22        0.32\n",
       "4                         0.18        0.34        0.38        0.10\n",
       "5                         0.02        0.04        0.94        0.00\n",
       "6                         0.12        0.28        0.44        0.16\n",
       "7                         0.06        0.20        0.70        0.04\n",
       "8                         0.04        0.08        0.80        0.08\n",
       "9                         0.16        0.18        0.56        0.10\n",
       "10                        0.12        0.64        0.04        0.20\n",
       "11                        0.08        0.84        0.04        0.04\n",
       "12                        0.26        0.46        0.18        0.10\n",
       "13                        0.10        0.48        0.16        0.26\n",
       "14                        0.06        0.22        0.48        0.24\n",
       "15                        0.16        0.18        0.26        0.40\n",
       "16                        0.36        0.60        0.04        0.00\n",
       "17                        0.38        0.52        0.10        0.00\n",
       "18                        0.06        0.50        0.36        0.08\n",
       "19                        0.08        0.32        0.46        0.14\n",
       "20                        0.08        0.34        0.46        0.12\n",
       "21                        0.06        0.14        0.72        0.08\n",
       "22                        0.12        0.24        0.56        0.08\n",
       "23                        0.16        0.22        0.32        0.30\n",
       "24                        0.20        0.10        0.52        0.18\n",
       "25                        0.04        0.38        0.46        0.12\n",
       "26                        0.00        0.18        0.76        0.06\n",
       "27                        0.00        0.00        0.98        0.02\n",
       "28                        0.08        0.04        0.80        0.08\n",
       "29                        0.14        0.50        0.28        0.08\n",
       "...                        ...         ...         ...         ...\n",
       "90                        0.34        0.14        0.22        0.30\n",
       "91                        0.00        0.34        0.54        0.12\n",
       "92                        0.02        0.60        0.20        0.18\n",
       "93                        0.00        0.00        1.00        0.00\n",
       "94                        0.04        0.18        0.56        0.22\n",
       "95                        0.12        0.28        0.54        0.06\n",
       "96                        0.04        0.10        0.84        0.02\n",
       "97                        0.00        0.02        0.98        0.00\n",
       "98                        0.02        0.00        0.94        0.04\n",
       "99                        0.06        0.50        0.38        0.06\n",
       "100                       0.04        0.14        0.78        0.04\n",
       "101                       0.04        0.16        0.54        0.26\n",
       "102                       0.46        0.20        0.16        0.18\n",
       "103                       0.12        0.24        0.52        0.12\n",
       "104                       0.04        0.10        0.56        0.30\n",
       "105                       0.12        0.38        0.44        0.06\n",
       "106                       0.04        0.44        0.22        0.30\n",
       "107                       0.32        0.44        0.12        0.12\n",
       "108                       0.08        0.46        0.18        0.28\n",
       "109                       0.50        0.28        0.22        0.00\n",
       "110                       0.54        0.18        0.20        0.08\n",
       "111                       0.14        0.18        0.66        0.02\n",
       "112                       0.08        0.16        0.70        0.06\n",
       "113                       0.12        0.20        0.50        0.18\n",
       "114                       0.14        0.48        0.16        0.22\n",
       "115                       0.20        0.50        0.24        0.06\n",
       "116                       0.12        0.22        0.40        0.26\n",
       "117                       0.24        0.16        0.36        0.24\n",
       "118                       0.04        0.28        0.06        0.62\n",
       "119                       0.18        0.44        0.32        0.06\n",
       "\n",
       "[120 rows x 4 columns]"
      ]
     },
     "execution_count": 90,
     "metadata": {},
     "output_type": "execute_result"
    }
   ],
   "source": [
    "cols = ['Excellent ratio', 'Good ratio', 'Pass ratio', 'Fail ratio']\n",
    "quality_labels = ['Excellent', 'Good', 'Pass', 'Fail']\n",
    "\n",
    "for i in range(len(cols)):\n",
    "    results[cols[i]] = results[quality_labels[i]].apply(lambda x: x/50.0)\n",
    "    \n",
    "results.drop(quality_labels, axis=1, inplace=True)\n",
    "results"
   ]
  },
  {
   "cell_type": "code",
   "execution_count": 91,
   "metadata": {
    "ExecuteTime": {
     "end_time": "2019-08-29T07:17:20.275392Z",
     "start_time": "2019-08-29T07:17:20.267391Z"
    }
   },
   "outputs": [
    {
     "data": {
      "text/plain": [
       "(15.500000000000002,\n",
       " 27.050000000000008,\n",
       " 44.733333333333334,\n",
       " 12.716666666666669)"
      ]
     },
     "execution_count": 91,
     "metadata": {},
     "output_type": "execute_result"
    }
   ],
   "source": [
    "results['Excellent ratio'].sum()/1.2, results['Good ratio'].sum()/1.20, results['Pass ratio'].sum()/1.20, results['Fail ratio'].sum()/1.20"
   ]
  },
  {
   "cell_type": "code",
   "execution_count": 93,
   "metadata": {
    "ExecuteTime": {
     "end_time": "2019-08-29T07:17:42.141642Z",
     "start_time": "2019-08-29T07:17:42.134642Z"
    }
   },
   "outputs": [],
   "source": [
    "results.to_csv('submission8.csv')"
   ]
  },
  {
   "cell_type": "code",
   "execution_count": null,
   "metadata": {
    "ExecuteTime": {
     "end_time": "2019-08-28T02:53:17.300729Z",
     "start_time": "2019-08-28T02:53:17.287729Z"
    }
   },
   "outputs": [],
   "source": []
  }
 ],
 "metadata": {
  "kernelspec": {
   "display_name": "Python 3",
   "language": "python",
   "name": "python3"
  },
  "language_info": {
   "codemirror_mode": {
    "name": "ipython",
    "version": 3
   },
   "file_extension": ".py",
   "mimetype": "text/x-python",
   "name": "python",
   "nbconvert_exporter": "python",
   "pygments_lexer": "ipython3",
   "version": "3.6.6"
  },
  "toc": {
   "base_numbering": 1,
   "nav_menu": {},
   "number_sections": true,
   "sideBar": true,
   "skip_h1_title": false,
   "title_cell": "Table of Contents",
   "title_sidebar": "Contents",
   "toc_cell": false,
   "toc_position": {},
   "toc_section_display": true,
   "toc_window_display": true
  },
  "varInspector": {
   "cols": {
    "lenName": 16,
    "lenType": 16,
    "lenVar": 40
   },
   "kernels_config": {
    "python": {
     "delete_cmd_postfix": "",
     "delete_cmd_prefix": "del ",
     "library": "var_list.py",
     "varRefreshCmd": "print(var_dic_list())"
    },
    "r": {
     "delete_cmd_postfix": ") ",
     "delete_cmd_prefix": "rm(",
     "library": "var_list.r",
     "varRefreshCmd": "cat(var_dic_list()) "
    }
   },
   "types_to_exclude": [
    "module",
    "function",
    "builtin_function_or_method",
    "instance",
    "_Feature"
   ],
   "window_display": false
  }
 },
 "nbformat": 4,
 "nbformat_minor": 2
}
