{
 "cells": [
  {
   "cell_type": "markdown",
   "metadata": {},
   "source": [
    "聚类的思想：将数据集划分为若干个不相交子集，每个簇潜在地对应某一个概念。\n",
    "\n",
    "聚类的作用：\n",
    "- 作为一种探索性分析方法，用来分析数据的内在特点，寻找数据的分布规律。\n",
    "- 作为分类的预处理过程，并不直接解决数据分析，首先对需要分类的数据进行聚类，然后对聚类出的结果的每一个簇上，进行分类，实现数据的预处理。"
   ]
  },
  {
   "cell_type": "markdown",
   "metadata": {},
   "source": [
    "### k均值聚类\n"
   ]
  },
  {
   "cell_type": "markdown",
   "metadata": {},
   "source": [
    "### 高斯混合聚类"
   ]
  },
  {
   "cell_type": "markdown",
   "metadata": {},
   "source": [
    "### 密度聚类(Density-Based Clustering)"
   ]
  },
  {
   "cell_type": "markdown",
   "metadata": {},
   "source": [
    "### 层次聚类\n",
    "- 可在不同层上对数据集进行划分，形成树状的聚类结构。\n",
    "\n",
    "#### AGglomerative NESting（AGNES）\n",
    "> 最初将每个对象看成一个簇，然后这些簇根据某些准则（如距离最近）被一步步地合并，就这样不断地合并直到达到预设的聚类簇的个数。\n",
    "\n",
    "给定聚类簇$C_i,C_j$，簇之间的距离：\n",
    "> 1. 最小距离：$$d_{min}(C_i,C_j)=\\underset{\\vec{x}_i\\in C_i,\\vec{j}_j\\in C_j}{min}distance(\\vec{x}_i,\\vec{x}_j)$$\n",
    "> 2. 最大距离：$$d_{max}(C_i,C_j)=\\underset{\\vec{x}_i\\in C_i,\\vec{j}_j\\in C_j}{max}distance(\\vec{x}_i,\\vec{x}_j)$$\n",
    "> 3. 平均距离：$$d_{avg}(C_i,C_j)=\\frac{1}{|C_i||C_j|}\\sum_{\\vec{x}_i\\in C_i}\\sum_{\\vec{x}_j\\in C_j} distance(\\vec{x}_i,\\vec{x}_j)$$。两个簇的样本对之间距离的平均值。\n",
    "\n",
    "- single-linkage算法：AGNES算法的聚类簇距离采用$d_{min}$。\n",
    "- complete-linkage算法：AGNES算法的聚类簇距离采用$d_{max}$。\n",
    "- averave-linkage算法：AGNES算法的聚类簇距离采用$d_{avg}$。"
   ]
  },
  {
   "cell_type": "markdown",
   "metadata": {},
   "source": [
    "____\n",
    "### EM算法（期望极大算法）\n",
    "- 一种迭代算法，用于含有隐变量的概率模型参数估计。\n",
    "- E步求期望；M步求极大。"
   ]
  },
  {
   "cell_type": "code",
   "execution_count": 6,
   "metadata": {
    "ExecuteTime": {
     "end_time": "2018-12-27T03:59:10.601180Z",
     "start_time": "2018-12-27T03:59:09.010089Z"
    }
   },
   "outputs": [],
   "source": [
    "import numpy as np\n",
    "import matplotlib.pyplot as plt\n",
    "from sklearn.datasets.samples_generator import make_blobs\n",
    "from sklearn import cluster\n",
    "from sklearn.metrics import adjusted_rand_score\n",
    "from sklearn import mixture"
   ]
  },
  {
   "cell_type": "code",
   "execution_count": 9,
   "metadata": {
    "ExecuteTime": {
     "end_time": "2018-12-27T04:02:49.650709Z",
     "start_time": "2018-12-27T04:02:49.646709Z"
    }
   },
   "outputs": [],
   "source": [
    "def create_data(centers, num=100, std=0.7):\n",
    "    X, labels_true = make_blobs(n_samples=num, centers=centers, cluster_std=std)\n",
    "    return X, labels_true"
   ]
  },
  {
   "cell_type": "code",
   "execution_count": 10,
   "metadata": {
    "ExecuteTime": {
     "end_time": "2018-12-27T04:08:41.572838Z",
     "start_time": "2018-12-27T04:08:41.258820Z"
    }
   },
   "outputs": [
    {
     "data": {
      "image/png": "[encoded data removed]",
      "text/plain": [
       "<Figure size 1152x576 with 1 Axes>"
      ]
     },
     "metadata": {
      "needs_background": "light"
     },
     "output_type": "display_data"
    }
   ],
   "source": [
    "def plot_data(*data):\n",
    "    X, labels_true = data\n",
    "    labels = np.unique(labels_true)\n",
    "    fig = plt.figure(figsize=(16, 8))\n",
    "    ax = fig.add_subplot(1, 1, 1)\n",
    "    colors = 'rgbyckm'\n",
    "    for i, label in enumerate(labels):\n",
    "        position = labels_true == label\n",
    "        ax.scatter(X[position, 0], X[position, 1], label=\"cluster %d\"%label, color=colors[i%len(colors)])\n",
    "    ax.legend(loc=\"best\")\n",
    "    ax.set_xlabel(\"X[0]\")\n",
    "    ax.set_ylabel(\"Y[1]\")\n",
    "    ax.set_title(\"data\")\n",
    "    plt.show()\n",
    "    \n",
    "X, labels_true = create_data([[1,1],[2,2],[1,2],[10,20]], 1000, 0.5)\n",
    "plot_data(X, labels_true)"
   ]
  },
  {
   "cell_type": "markdown",
   "metadata": {},
   "source": [
    "### 实战\n",
    "#### KMeans\n",
    "**sklearn.cluster.KMeans(n_clusters=8, init='k-means++', n_init=10, max_iter=300, tol=0.0001, precompute_distances='auto', verbose=0, random_state=None, copy_x=True, n_jobs=None, algorithm='auto')**\n",
    "> 1. n_clusters：整数，指定分类簇的数量。\n",
    "> 2. init：字符串，指定初始均值向量的策略。\n",
    "    - k-means++：其初始均值向量相互之间都距离较远，效果较好。\n",
    "    - random：从数据集中随机选择K个样本作为初始均线向量。\n",
    "> 3. n_init：整数，指定了$k$均值算法运行的次数。每一次都会选择一组不同的初始化均值向量，最终算法会选择最佳的分类簇来作为最终的结果。\n",
    "> 4. max_iter：指定单轮$k$均值算法中，最大的迭代次数。\n",
    "> 5. precompute_distances：是否提前计算好样本之间的距离。\n",
    "    - auto：如果n_samples*n_clusters > 12 million，则不提前计算。\n",
    "    - True：总是提前计算。\n",
    "> 6. verbose：整数。若为1，每隔一段时间打印一次日志信息。\n",
    "> 7. copy_x：若为True，则计算距离的时候，并不修改原始数据。\n",
    "\n",
    "属性：\n",
    "> 1. cluster_centers_：给出分类簇的均值向量。\n",
    "> 2. labels_：给出每个样本所属的簇的标记。\n",
    "> 3. inertia_：给出每个样本距离它们各自最近的簇中心的距离之和。\n",
    "\n",
    "方法：\n",
    "> 1. fit(X[, y])：训练模型\n",
    "> 2. fit_predict(X[, y])：训练模型并预测每个样本所属的簇\n",
    "> 3. predict(X)：预测样本所属的簇\n",
    "> 4. score(X[, y])：给出样本距离各簇中心的偏移量的相反数。"
   ]
  },
  {
   "cell_type": "code",
   "execution_count": 12,
   "metadata": {
    "ExecuteTime": {
     "end_time": "2018-12-27T06:16:11.863409Z",
     "start_time": "2018-12-27T06:16:11.673399Z"
    }
   },
   "outputs": [
    {
     "name": "stdout",
     "output_type": "stream",
     "text": [
      "ARI:0.32111007532884617\n",
      "Sum center distance 226.77371241801742\n"
     ]
    }
   ],
   "source": [
    "def test_Kmeans(*data):\n",
    "    X, labels_true = data\n",
    "    clst = cluster.KMeans()\n",
    "    clst.fit(X)\n",
    "    predicted_labels = clst.predict(X)\n",
    "    print(\"ARI:%s\"% adjusted_rand_score(labels_true, predicted_labels))\n",
    "    print(\"Sum center distance %s\"% clst.inertia_)\n",
    "    \n",
    "test_Kmeans(X, labels_true)"
   ]
  },
  {
   "cell_type": "markdown",
   "metadata": {},
   "source": [
    "#### 密度聚类（DBSCAN）\n",
    "**sklearn.cluster.DBSCAN(eps=0.5, min_samples=5, metric='euclidean', metric_params=None, algorithm='auto', leaf_size=30, p=None, n_jobs=None)**\n",
    "> 1. eps：$\\epsilon$参数，用于确定领域大小。\n",
    "> 2. min_samples：minPts参数，用于判断核心对象。\n",
    "    - 随着min_samples的增长，样本点的领域中必须包含更多的样本才能使它成为一个核心样本点。\n",
    "> 3. metric：字符串，用于计算距离。\n",
    "> 4. algorithm：字符串，用于计算两点间距离并找出最近邻的点。\n",
    "    - auto：由算法自动选取合适的算法\n",
    "    - ball_tree：用ball树来搜索\n",
    "    - kd_tree\n",
    "    - brute\n",
    "> 5. leaf_size：树的叶节点大小\n",
    "\n",
    "属性：\n",
    "> 1. core_sample_indices：核心样本在原始训练集中的位置\n",
    "> 2. components_：核心样本的一份副本\n",
    "> 3. labels_：每个样本所属的簇标记。\n",
    "\n",
    "方法：\n",
    "> 1. fit(X[, y, sample_weight])：训练模型\n",
    "> 2. fit_predict(X[, y, sample_weight])"
   ]
  },
  {
   "cell_type": "code",
   "execution_count": 13,
   "metadata": {
    "ExecuteTime": {
     "end_time": "2018-12-27T06:36:09.151890Z",
     "start_time": "2018-12-27T06:36:09.085887Z"
    }
   },
   "outputs": [
    {
     "name": "stdout",
     "output_type": "stream",
     "text": [
      "ARI:0.331481993488152\n",
      "Core sample num:990\n"
     ]
    }
   ],
   "source": [
    "def test_DBSCAN(*data):\n",
    "    X, labels_true = data\n",
    "    clst = cluster.DBSCAN()\n",
    "    predict_labels = clst.fit_predict(X)\n",
    "    print(\"ARI:%s\"% adjusted_rand_score(labels_true, predict_labels))\n",
    "    print(\"Core sample num:%s\"% len(clst.core_sample_indices_))\n",
    "    \n",
    "test_DBSCAN(X, labels_true)"
   ]
  },
  {
   "cell_type": "markdown",
   "metadata": {},
   "source": [
    "#### 层次聚类（AgglomerativeClustering）\n",
    "**sklearn.cluster.AgglomerativeClustering(n_clusters=2, affinity='euclidean', memory=None, connectivity=None, compute_full_tree='auto', linkage='ward', pooling_func='deprecated')**\n",
    "> 1. affinity：字符串，用于计算距离。可为euclidean, l1, l2, manhattan, cosine, precomputed。若linkage为ward，其必须为euclidean。\n",
    "> 2. memory：用于缓存输出的结果，默认不缓存\n",
    "> 3. compute_full_tree：若为True，继续训练从而产生一颗完整的树\n",
    "> 4. linkage：字符串，指定链接算法\n",
    "    - ward：single-linkage算法\n",
    "    - complete：complete-linkage算法\n",
    "    - average：average-linkage算法\n",
    "    \n",
    "属性：\n",
    "> 1. labels_：每个样本的簇标记\n",
    "> 2. n_leaves_：分层树的叶结点数量\n",
    "> 3. n_components_：连接图中连接分量的估计值\n",
    "> 4. children_：数组，给出每个非叶结点的子节点数量\n",
    "\n",
    "方法：\n",
    "> 1. fit(X[, y])：训练模型\n",
    "> 2. fit_predict(X[, y])"
   ]
  },
  {
   "cell_type": "code",
   "execution_count": 15,
   "metadata": {
    "ExecuteTime": {
     "end_time": "2018-12-27T06:52:44.740835Z",
     "start_time": "2018-12-27T06:52:44.527823Z"
    }
   },
   "outputs": [
    {
     "name": "stdout",
     "output_type": "stream",
     "text": [
      "ARI:0.33266533066132264\n"
     ]
    }
   ],
   "source": [
    "def test_AgglomerativeClustering(*data):\n",
    "    X, labels_true = data\n",
    "    clst = cluster.AgglomerativeClustering()\n",
    "    predict_labels = clst.fit_predict(X)\n",
    "    print(\"ARI:%s\"% adjusted_rand_score(labels_true, predict_labels))\n",
    "    \n",
    "test_AgglomerativeClustering(X, labels_true)"
   ]
  },
  {
   "cell_type": "markdown",
   "metadata": {},
   "source": [
    "#### 混合高斯模型（GaussianMixture）\n",
    "**sklearn.mixture.GaussianMixture(n_components=1, covariance_type='full', tol=0.001, reg_covar=1e-06, max_iter=100, n_init=1, init_params='kmeans', weights_init=None, means_init=None, precisions_init=None, random_state=None, warm_start=False, verbose=0, verbose_interval=10)**\n",
    "> 1. n_components：整数，指定分模型的数量。\n",
    "> 2. covariance_type：字符串，指定协方差的类型。\n",
    "    - spherical：球状型，每个分模型的协方差矩阵都是一个标量值\n",
    "    - tied：结点型，所有的分模型都共享一个协方差矩阵\n",
    "    - diag：对角型，每个分模型的协方差矩阵都是对角矩阵\n",
    "    - full：全型，每个分模型都有自己的协方差矩阵。\n",
    "> 3. reg_covar：浮点数，添加到协方差矩阵对角线上元素，确保所有的协方差都是正数\n",
    "> 4. init_params：指定初始化权重的策略\n",
    "> 5. weights_init：(n_components,)序列，指定初始化的权重\n",
    "> 6. means_init：(n_components, n_features)数组，指定初始化的均值\n",
    "> 7. verbose_interval：整数，指定输出日志的间隔\n",
    "\n",
    "属性：\n",
    "> 1. weights_：数组，形状为(n_components,)，存储每个分模型的权重\n",
    "> 2. means_：数组，形状为(n_components, n_features)，存储每个分模型的均值$\\mu_k$\n",
    "\n",
    "方法：\n",
    "> 1. fit(X[, y])：训练模型\n",
    "> 2. fit_predict(X[, y])\n",
    "> 3. predict(X)\n",
    "> 4. predict_proba(X)\n",
    "> 5. sample([n_samples, random_state])：根据模型来随机生成一组样本\n",
    "> 6. score(X[, y])：计算模型在样本总体上的对数似然函数\n",
    "> 7. score_samples(X)：给出每个样本的对数似然函数"
   ]
  },
  {
   "cell_type": "code",
   "execution_count": 19,
   "metadata": {
    "ExecuteTime": {
     "end_time": "2018-12-27T07:10:29.430732Z",
     "start_time": "2018-12-27T07:10:29.407730Z"
    }
   },
   "outputs": [
    {
     "name": "stdout",
     "output_type": "stream",
     "text": [
      "ARI:0.612284709442999\n"
     ]
    }
   ],
   "source": [
    "def test_GMM(*data):\n",
    "    X, labels_true = data\n",
    "    clst = mixture.GaussianMixture(n_components=4)\n",
    "    predict_labels = clst.fit_predict(X)\n",
    "    print(\"ARI:%s\"% adjusted_rand_score(labels_true, predict_labels))\n",
    "    \n",
    "test_GMM(X, labels_true)"
   ]
  },
  {
   "cell_type": "markdown",
   "metadata": {},
   "source": [
    "- K均值算法：通用聚类方法，用于均匀的簇的大小，簇的数量不多的情况。\n",
    "- DBSCAN算法：用于不均匀的簇大小，以及非平坦的集合结构。\n",
    "- AgglomerationClustering算法：用于簇的数量较多，有连接约束等情况。\n",
    "- GMM算法：用于平坦的集合结构，对密度估计很合适。\n",
    "\n",
    "对于聚类簇的数量的选取，如给出了ARI随n_clusters的曲线，可选择曲线上ARI最大值附近的一批n_clusters。\n",
    "\n",
    "如果要求每个簇内足够纯净，则倾向于选择较大的n_clusters。如果要求尽可能地将相似的样本划归到一个簇中，则倾向于选择较小的n_clusters。"
   ]
  },
  {
   "cell_type": "code",
   "execution_count": null,
   "metadata": {},
   "outputs": [],
   "source": []
  }
 ],
 "metadata": {
  "kernelspec": {
   "display_name": "Python 3",
   "language": "python",
   "name": "python3"
  },
  "language_info": {
   "codemirror_mode": {
    "name": "ipython",
    "version": 3
   },
   "file_extension": ".py",
   "mimetype": "text/x-python",
   "name": "python",
   "nbconvert_exporter": "python",
   "pygments_lexer": "ipython3",
   "version": "3.6.6"
  },
  "toc": {
   "base_numbering": 1,
   "nav_menu": {},
   "number_sections": true,
   "sideBar": true,
   "skip_h1_title": false,
   "title_cell": "Table of Contents",
   "title_sidebar": "Contents",
   "toc_cell": false,
   "toc_position": {},
   "toc_section_display": true,
   "toc_window_display": true
  },
  "varInspector": {
   "cols": {
    "lenName": 16,
    "lenType": 16,
    "lenVar": 40
   },
   "kernels_config": {
    "python": {
     "delete_cmd_postfix": "",
     "delete_cmd_prefix": "del ",
     "library": "var_list.py",
     "varRefreshCmd": "print(var_dic_list())"
    },
    "r": {
     "delete_cmd_postfix": ") ",
     "delete_cmd_prefix": "rm(",
     "library": "var_list.r",
     "varRefreshCmd": "cat(var_dic_list()) "
    }
   },
   "types_to_exclude": [
    "module",
    "function",
    "builtin_function_or_method",
    "instance",
    "_Feature"
   ],
   "window_display": false
  }
 },
 "nbformat": 4,
 "nbformat_minor": 2
}
