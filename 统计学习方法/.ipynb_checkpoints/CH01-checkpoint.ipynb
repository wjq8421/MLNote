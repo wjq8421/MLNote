{
 "cells": [
  {
   "cell_type": "markdown",
   "metadata": {},
   "source": [
    "赫尔伯特·西蒙对“学习”的定义：如果一个系统能够通过执行某个过程改进它的性能，这就是学习。\n",
    "\n",
    "统计学习就是计算机系统通过运用数据及统计方法提高系统性能的机器学习。\n",
    "\n",
    "- 统计学习的对象：数据\n",
    "统计学习关于数据的基本假设：同类数据具有一定的统计规律性。\n",
    "\n",
    "监督学习假设输入与输出的随机变量$X$和$Y$遵循联合概率分布$P(X,Y)$。\n",
    "\n",
    "- 统计学习的目的：考虑学习什么样的模型和如何学习模型，以使模型能对数据进行准确的预测与分析，同时也要考虑尽可能地提高学习效率。\n",
    "\n",
    "- 统计学习的方法：监督学习、非监督学习、半监督学习、强化学习。\n",
    "\n",
    "实现统计学习方法的步骤：\n",
    "1. 得到一个有限的训练数据集合；\n",
    "2. 确定包含所有可能的模型的假设空间，即学习模型的集合；\n",
    "3. 确定模型选择的准则，即学习的策略；\n",
    "4. 实现求解最优模型的算法，即学习的算法；\n",
    "5. 通过学习方法选择最优模型；\n",
    "6. 利用学习的最优模型对新数据进行预测或分析。\n",
    "\n",
    "### 统计学习方法的三要素：模型、策略、算法\n",
    "\n",
    "**损失函数**度量模型一次预测的好坏，**风险函数**度量平均意义下模型预测的好坏。\n",
    "\n",
    "损失函数是预测值$f(X)$和真实值$Y$的非负实值函数，记作$L(Y,f(X))$。\n",
    "\n",
    "- 0-1损失函数：$L(Y,f(X))=\\left\\{\\begin{matrix}\n",
    "1, Y\\neq f(X))\\\\ \n",
    "0, Y=f(X))\n",
    "\\end{matrix}\\right.$\n",
    "\n",
    "- 平方损失函数：$L(Y,f(X))=(Y-f(X))^2$\n",
    "\n",
    "- 绝对损失函数：$L(Y,f(X))=|Y-f(X)|$\n",
    "\n",
    "- 对数损失函数：$L(Y,P(Y|X))-logP(Y|X)$\n",
    "\n",
    "___\n",
    "**经验风险$R_{emp}(f)$**：模型关于训练样本集的平均损失。\n",
    "$$R_{emp}(f)=\\frac{1}{N}\\sum_{i=1}^NL(y_i,f(x_i))$$\n",
    "\n",
    "**结构风险$R_{srm}(f)$**：为了防止过拟合而提出来的策略，其在经验风险上加上表示模型复杂度的正则化项。\n",
    "$$R_{srm}(f)=\\frac{1}{N}\\sum_{i=1}^NL(y_i,f(x_i))+\\lambda J(f)$$\n",
    "其中，$J(f)$为模型的复杂度，$\\lambda \\geq 0$是系数，用以权衡经验风险和模型复杂度。\n",
    "\n",
    "监督学习的两个基本策略：经验风险最小化、结构风险最小化。"
   ]
  },
  {
   "cell_type": "markdown",
   "metadata": {},
   "source": [
    "### 模型评估与模型选择\n",
    "**泛化能力**：学习方法对未知数据的预测能力。\n",
    "\n",
    "**过拟合**：指学习时选择的模型所包含的参数过多，以致于出现这一模型对已知数据预测得很好，但对未知数据预测得很差的现象。\n",
    "\n",
    "#### 正则化\n",
    "正则化项一般是模型复杂度的单调递增函数，模型越复杂，正则化值就越大。如，正则化项可以是模型参数向量的范数。\n",
    "\n",
    "- 作用：选择经验风险与模型复杂度同时较小的模型。\n",
    "\n",
    "_____\n",
    "#### 交叉验证\n",
    "- 样本数据充足的情况下，随机地将数据集切分成三部分，分别为训练集、验证集和测试集。\n",
    "- 样本数据不充足的情况下，需采用交叉验证方法，重复地使用数据，在此基础上反复地进行训练、测试以及模型选择。\n",
    "\n",
    "##### 简单交叉验证\n",
    "> 首先随机地将已给数据分为两部分，一部分作为训练集，另一部分作为测试集（30%）；然后用训练集在各种条件下训练模型，从而得到不同的模型；在测试集上评价各个模型的测试误差，选出测试误差最小的模型。\n",
    "\n",
    "##### S折交叉验证\n",
    "> 首先随机地将已给数据切分为S个互不相交的大小相同的子集；然后利用S-1个子集的数据训练模型，利用余下的子集测试模型；将这一过程对可能的S种选择重复进行；最后选出S次评测中平均测试误差最小的模型。\n",
    "_____\n",
    "\n",
    "#### 泛化能力\n",
    "如果学到的模型是$\\hat{f}$，用这个模型对未知数据预测的误差即为**泛化误差**。\n",
    "$$R_{exp}(\\hat{f})=E_p(L(Y,\\hat{f}(X)))=\\int L(Y,\\hat{f}(X))P(x,y)dxdy$$\n",
    "泛化误差就是所学习到的模型的期望风险。\n",
    "\n",
    "**泛化误差上界**：对二类分类问题，当假设空间时有限个函数的集合$F=\\{f_1,f_2,\\cdots,f_d\\}$时，对任意一个函数$f\\in F$，至少以概率$1-\\sigma$，以下不等式成立：\n",
    "$$R{f}\\leq \\hat{R}(f)+\\epsilon (d,N,\\sigma)$$\n",
    "其中，$\\epsilon(d,N,\\sigma) = \\sqrt{\\frac{1}{2N}(logd+log\\frac{1}{\\sigma})}$"
   ]
  },
  {
   "cell_type": "markdown",
   "metadata": {},
   "source": [
    "_____\n",
    "### 监督学习方法\n",
    "#### 生成方法(generative approach)\n",
    "> 由数据学习联合概率分布$P(X,Y)$，然后求出条件概率分布$P(Y|X)$作为预测的模型：\n",
    "$$P(Y|X)=\\frac{P(X,Y)}{P(X)}$$\n",
    "\n",
    "包括：朴素贝叶斯模型、隐马尔科夫模型。\n",
    "\n",
    "#### 判别方法(discriminative approach)\n",
    "> 由数据直接学习决策函数$f(X)$或者条件概率分布$P(X|Y)$作为预测的模型。\n",
    "\n",
    "包括：$k$近邻法、感知机、决策时、逻辑斯蒂回归模型、最大熵模型、支持向量机、提升方法、条件随机场。"
   ]
  },
  {
   "cell_type": "markdown",
   "metadata": {},
   "source": [
    "### 评价分类器性能的指标\n",
    "- 分类准确率(accuracy)\n",
    "- 精确率(precision)\n",
    "- 召回率(recall)"
   ]
  },
  {
   "cell_type": "code",
   "execution_count": null,
   "metadata": {
    "ExecuteTime": {
     "end_time": "2019-03-11T03:04:59.721329Z",
     "start_time": "2019-03-11T03:04:59.707328Z"
    }
   },
   "outputs": [],
   "source": []
  }
 ],
 "metadata": {
  "kernelspec": {
   "display_name": "Python 3",
   "language": "python",
   "name": "python3"
  },
  "toc": {
   "base_numbering": 1,
   "nav_menu": {},
   "number_sections": true,
   "sideBar": true,
   "skip_h1_title": false,
   "title_cell": "Table of Contents",
   "title_sidebar": "Contents",
   "toc_cell": false,
   "toc_position": {},
   "toc_section_display": true,
   "toc_window_display": true
  },
  "varInspector": {
   "cols": {
    "lenName": 16,
    "lenType": 16,
    "lenVar": 40
   },
   "kernels_config": {
    "python": {
     "delete_cmd_postfix": "",
     "delete_cmd_prefix": "del ",
     "library": "var_list.py",
     "varRefreshCmd": "print(var_dic_list())"
    },
    "r": {
     "delete_cmd_postfix": ") ",
     "delete_cmd_prefix": "rm(",
     "library": "var_list.r",
     "varRefreshCmd": "cat(var_dic_list()) "
    }
   },
   "types_to_exclude": [
    "module",
    "function",
    "builtin_function_or_method",
    "instance",
    "_Feature"
   ],
   "window_display": false
  }
 },
 "nbformat": 4,
 "nbformat_minor": 2
}
