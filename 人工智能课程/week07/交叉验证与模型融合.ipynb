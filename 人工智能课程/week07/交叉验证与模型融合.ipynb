{
 "cells": [
  {
   "cell_type": "code",
   "execution_count": 19,
   "metadata": {},
   "outputs": [],
   "source": [
    "import pandas as pd\n",
    "import numpy as np\n",
    "from sklearn.model_selection import KFold\n",
    "from sklearn.model_selection import StratifiedKFold\n",
    "from sklearn.linear_model import LogisticRegression\n",
    "from sklearn.linear_model import LinearRegression\n",
    "from sklearn.linear_model import Ridge\n",
    "from sklearn.linear_model import HuberRegressor\n",
    "import lightgbm as lgb\n",
    "from catboost import CatBoostClassifier\n",
    "from catboost import CatBoostRegressor"
   ]
  },
  {
   "cell_type": "code",
   "execution_count": 20,
   "metadata": {},
   "outputs": [],
   "source": [
    "train = pd.read_csv('first_round_training_data.csv')\n",
    "test = pd.read_csv('first_round_testing_data.csv')\n",
    "\n",
    "def quality_encoder(x):\n",
    "    return {'Excellent':0,'Good':1,'Pass':2,'Fail':3}[x]\n",
    "train['label'] = train.Quality_label.apply(quality_encoder)"
   ]
  },
  {
   "cell_type": "code",
   "execution_count": 21,
   "metadata": {},
   "outputs": [
    {
     "name": "stdout",
     "output_type": "stream",
     "text": [
      "0:\tlearn: 1.3400205\ttotal: 43.3ms\tremaining: 4.29s\n",
      "99:\tlearn: 1.0118615\ttotal: 4.05s\tremaining: 0us\n"
     ]
    },
    {
     "data": {
      "text/plain": [
       "0.479"
      ]
     },
     "execution_count": 21,
     "metadata": {},
     "output_type": "execute_result"
    }
   ],
   "source": [
    "# 普通交叉验证\n",
    "\n",
    "features = ['Parameter5','Parameter6','Parameter7','Parameter8','Parameter9','Parameter10']\n",
    "\n",
    "X_train = train.iloc[:5000,:].copy()\n",
    "X_valid = train.iloc[5000:,:].copy()\n",
    "\n",
    "model = CatBoostClassifier(iterations=100,depth=7,learning_rate=0.1,verbose=100,random_state=0,loss_function='MultiClass')\n",
    "model.fit(X_train.loc[:,features].values,X_train.label.values)\n",
    "\n",
    "# 提前赋值\n",
    "X_valid['prob_Excellent'] = 0.0\n",
    "X_valid['prob_Good'] = 0.0\n",
    "X_valid['prob_Pass'] = 0.0\n",
    "X_valid['prob_Fail'] = 0.0\n",
    "\n",
    "X_valid.loc[:,['prob_Excellent','prob_Good','prob_Pass','prob_Fail']] = model.predict_proba(X_valid.loc[:,features])\n",
    "# X_valid['label_pred'] = np.argmax(X_valid.loc[:,['prob_Excellent','prob_Good','prob_Pass','prob_Fail']].values,axis=1)\n",
    "X_valid['label_pred'] = model.predict(X_valid.loc[:,features])\n",
    "\n",
    "(X_valid['label_pred'] == X_valid['label']).mean()"
   ]
  },
  {
   "cell_type": "code",
   "execution_count": 22,
   "metadata": {},
   "outputs": [
    {
     "name": "stdout",
     "output_type": "stream",
     "text": [
      "0:\tlearn: 1.3810680\ttotal: 74ms\tremaining: 2m 27s\n",
      "100:\tlearn: 1.1589573\ttotal: 6.87s\tremaining: 2m 9s\n",
      "200:\tlearn: 1.1040708\ttotal: 13.2s\tremaining: 1m 57s\n",
      "300:\tlearn: 1.0818434\ttotal: 19.7s\tremaining: 1m 51s\n",
      "400:\tlearn: 1.0687852\ttotal: 25.8s\tremaining: 1m 42s\n",
      "500:\tlearn: 1.0596792\ttotal: 33.3s\tremaining: 1m 39s\n",
      "600:\tlearn: 1.0523142\ttotal: 40.9s\tremaining: 1m 35s\n",
      "700:\tlearn: 1.0455993\ttotal: 47.5s\tremaining: 1m 28s\n",
      "800:\tlearn: 1.0401737\ttotal: 55.1s\tremaining: 1m 22s\n",
      "900:\tlearn: 1.0350806\ttotal: 1m 1s\tremaining: 1m 14s\n",
      "1000:\tlearn: 1.0301295\ttotal: 1m 6s\tremaining: 1m 6s\n",
      "1100:\tlearn: 1.0248692\ttotal: 1m 12s\tremaining: 59.5s\n",
      "1200:\tlearn: 1.0195575\ttotal: 1m 18s\tremaining: 52.5s\n",
      "1300:\tlearn: 1.0147610\ttotal: 1m 25s\tremaining: 45.7s\n",
      "1400:\tlearn: 1.0098228\ttotal: 1m 31s\tremaining: 39s\n",
      "1500:\tlearn: 1.0054533\ttotal: 1m 37s\tremaining: 32.3s\n",
      "1600:\tlearn: 1.0014004\ttotal: 1m 43s\tremaining: 25.8s\n",
      "1700:\tlearn: 0.9976450\ttotal: 1m 49s\tremaining: 19.2s\n",
      "1800:\tlearn: 0.9935811\ttotal: 1m 55s\tremaining: 12.8s\n",
      "1900:\tlearn: 0.9898518\ttotal: 2m 1s\tremaining: 6.33s\n",
      "1999:\tlearn: 0.9863026\ttotal: 2m 7s\tremaining: 0us\n",
      "0:\tlearn: 1.3820075\ttotal: 70.6ms\tremaining: 2m 21s\n",
      "100:\tlearn: 1.1787138\ttotal: 6.21s\tremaining: 1m 56s\n",
      "200:\tlearn: 1.1277706\ttotal: 12.4s\tremaining: 1m 51s\n",
      "300:\tlearn: 1.1060767\ttotal: 18.6s\tremaining: 1m 44s\n",
      "400:\tlearn: 1.0941784\ttotal: 24.4s\tremaining: 1m 37s\n",
      "500:\tlearn: 1.0854143\ttotal: 30.3s\tremaining: 1m 30s\n",
      "600:\tlearn: 1.0785477\ttotal: 36.3s\tremaining: 1m 24s\n",
      "700:\tlearn: 1.0725908\ttotal: 42.1s\tremaining: 1m 18s\n",
      "800:\tlearn: 1.0679206\ttotal: 48s\tremaining: 1m 11s\n",
      "900:\tlearn: 1.0632647\ttotal: 53.6s\tremaining: 1m 5s\n",
      "1000:\tlearn: 1.0583973\ttotal: 59.5s\tremaining: 59.4s\n",
      "1100:\tlearn: 1.0539216\ttotal: 1m 5s\tremaining: 53.5s\n",
      "1200:\tlearn: 1.0490506\ttotal: 1m 11s\tremaining: 47.5s\n",
      "1300:\tlearn: 1.0443679\ttotal: 1m 17s\tremaining: 41.6s\n",
      "1400:\tlearn: 1.0393818\ttotal: 1m 23s\tremaining: 35.8s\n",
      "1500:\tlearn: 1.0354756\ttotal: 1m 29s\tremaining: 29.8s\n",
      "1600:\tlearn: 1.0314573\ttotal: 1m 35s\tremaining: 23.9s\n",
      "1700:\tlearn: 1.0276578\ttotal: 1m 41s\tremaining: 17.9s\n",
      "1800:\tlearn: 1.0242267\ttotal: 1m 47s\tremaining: 11.9s\n",
      "1900:\tlearn: 1.0209056\ttotal: 1m 53s\tremaining: 5.93s\n",
      "1999:\tlearn: 1.0178936\ttotal: 1m 59s\tremaining: 0us\n",
      "0:\tlearn: 1.3810080\ttotal: 71.2ms\tremaining: 2m 22s\n",
      "100:\tlearn: 1.1625880\ttotal: 6.23s\tremaining: 1m 57s\n",
      "200:\tlearn: 1.1081315\ttotal: 12.7s\tremaining: 1m 53s\n",
      "300:\tlearn: 1.0851915\ttotal: 20.5s\tremaining: 1m 55s\n",
      "400:\tlearn: 1.0736224\ttotal: 27.4s\tremaining: 1m 49s\n",
      "500:\tlearn: 1.0649251\ttotal: 35.1s\tremaining: 1m 45s\n",
      "600:\tlearn: 1.0580801\ttotal: 41s\tremaining: 1m 35s\n",
      "700:\tlearn: 1.0521762\ttotal: 46.8s\tremaining: 1m 26s\n",
      "800:\tlearn: 1.0473012\ttotal: 52.6s\tremaining: 1m 18s\n",
      "900:\tlearn: 1.0431669\ttotal: 59.5s\tremaining: 1m 12s\n",
      "1000:\tlearn: 1.0383087\ttotal: 1m 6s\tremaining: 1m 6s\n",
      "1100:\tlearn: 1.0338279\ttotal: 1m 14s\tremaining: 1m\n",
      "1200:\tlearn: 1.0291228\ttotal: 1m 22s\tremaining: 54.7s\n",
      "1300:\tlearn: 1.0244312\ttotal: 1m 29s\tremaining: 48.1s\n",
      "1400:\tlearn: 1.0196774\ttotal: 1m 35s\tremaining: 40.9s\n",
      "1500:\tlearn: 1.0155110\ttotal: 1m 41s\tremaining: 33.9s\n",
      "1600:\tlearn: 1.0114403\ttotal: 1m 48s\tremaining: 27s\n",
      "1700:\tlearn: 1.0079329\ttotal: 1m 54s\tremaining: 20.2s\n",
      "1800:\tlearn: 1.0046625\ttotal: 2m\tremaining: 13.4s\n",
      "1900:\tlearn: 1.0019793\ttotal: 2m 6s\tremaining: 6.61s\n",
      "1999:\tlearn: 0.9988233\ttotal: 2m 12s\tremaining: 0us\n",
      "0:\tlearn: 1.3819902\ttotal: 62ms\tremaining: 2m 3s\n",
      "100:\tlearn: 1.1805375\ttotal: 6.17s\tremaining: 1m 55s\n",
      "200:\tlearn: 1.1285586\ttotal: 12.4s\tremaining: 1m 50s\n",
      "300:\tlearn: 1.1067254\ttotal: 18.3s\tremaining: 1m 43s\n",
      "400:\tlearn: 1.0940629\ttotal: 24.2s\tremaining: 1m 36s\n",
      "500:\tlearn: 1.0846530\ttotal: 30.2s\tremaining: 1m 30s\n",
      "600:\tlearn: 1.0772010\ttotal: 36.3s\tremaining: 1m 24s\n",
      "700:\tlearn: 1.0715930\ttotal: 42.3s\tremaining: 1m 18s\n",
      "800:\tlearn: 1.0662754\ttotal: 48.2s\tremaining: 1m 12s\n",
      "900:\tlearn: 1.0610288\ttotal: 54.5s\tremaining: 1m 6s\n",
      "1000:\tlearn: 1.0562179\ttotal: 1m 1s\tremaining: 1m 1s\n",
      "1100:\tlearn: 1.0512988\ttotal: 1m 8s\tremaining: 55.8s\n",
      "1200:\tlearn: 1.0463360\ttotal: 1m 14s\tremaining: 49.8s\n",
      "1300:\tlearn: 1.0414428\ttotal: 1m 21s\tremaining: 44s\n",
      "1400:\tlearn: 1.0365147\ttotal: 1m 28s\tremaining: 38s\n",
      "1500:\tlearn: 1.0321641\ttotal: 1m 35s\tremaining: 31.8s\n",
      "1600:\tlearn: 1.0278846\ttotal: 1m 42s\tremaining: 25.6s\n",
      "1700:\tlearn: 1.0242828\ttotal: 1m 49s\tremaining: 19.3s\n",
      "1800:\tlearn: 1.0205907\ttotal: 1m 56s\tremaining: 12.9s\n",
      "1900:\tlearn: 1.0171449\ttotal: 2m 2s\tremaining: 6.4s\n",
      "1999:\tlearn: 1.0136473\ttotal: 2m 9s\tremaining: 0us\n",
      "0:\tlearn: 1.3810620\ttotal: 66.6ms\tremaining: 2m 13s\n",
      "100:\tlearn: 1.1686583\ttotal: 6.25s\tremaining: 1m 57s\n",
      "200:\tlearn: 1.1147729\ttotal: 12.3s\tremaining: 1m 50s\n",
      "300:\tlearn: 1.0930138\ttotal: 18.4s\tremaining: 1m 44s\n",
      "400:\tlearn: 1.0798349\ttotal: 24.3s\tremaining: 1m 36s\n",
      "500:\tlearn: 1.0706318\ttotal: 30.2s\tremaining: 1m 30s\n",
      "600:\tlearn: 1.0627017\ttotal: 36.2s\tremaining: 1m 24s\n",
      "700:\tlearn: 1.0559703\ttotal: 42.1s\tremaining: 1m 17s\n",
      "800:\tlearn: 1.0506564\ttotal: 47.9s\tremaining: 1m 11s\n",
      "900:\tlearn: 1.0452171\ttotal: 53.8s\tremaining: 1m 5s\n",
      "1000:\tlearn: 1.0404371\ttotal: 59.6s\tremaining: 59.5s\n",
      "1100:\tlearn: 1.0354119\ttotal: 1m 5s\tremaining: 53.4s\n",
      "1200:\tlearn: 1.0307205\ttotal: 1m 11s\tremaining: 47.5s\n",
      "1300:\tlearn: 1.0264957\ttotal: 1m 17s\tremaining: 41.6s\n",
      "1400:\tlearn: 1.0219408\ttotal: 1m 23s\tremaining: 35.7s\n",
      "1500:\tlearn: 1.0179414\ttotal: 1m 29s\tremaining: 29.7s\n",
      "1600:\tlearn: 1.0138940\ttotal: 1m 35s\tremaining: 23.8s\n",
      "1700:\tlearn: 1.0103286\ttotal: 1m 41s\tremaining: 17.9s\n",
      "1800:\tlearn: 1.0064424\ttotal: 1m 48s\tremaining: 11.9s\n",
      "1900:\tlearn: 1.0032868\ttotal: 1m 54s\tremaining: 5.94s\n",
      "1999:\tlearn: 1.0006633\ttotal: 2m\tremaining: 0us\n"
     ]
    },
    {
     "data": {
      "text/plain": [
       "0.51"
      ]
     },
     "execution_count": 22,
     "metadata": {},
     "output_type": "execute_result"
    }
   ],
   "source": [
    "# K折交叉验证\n",
    "\n",
    "features = ['Parameter5','Parameter6','Parameter7','Parameter8','Parameter9','Parameter10']\n",
    "\n",
    "kfold=KFold(n_splits=5, shuffle=False)\n",
    "split=kfold.split(train)\n",
    "result = []\n",
    "for train_index,valid_index in split:\n",
    "    \n",
    "    X_train=train.iloc[train_index,:].copy()\n",
    "    X_valid=train.iloc[valid_index,:].copy()\n",
    "    \n",
    "    model = CatBoostClassifier(iterations=100,depth=7,learning_rate=0.1,verbose=100,random_state=0,loss_function='MultiClass')\n",
    "    model.fit(X_train.loc[:,features].values,X_train.label.values)\n",
    "    \n",
    "    # 提前赋值\n",
    "    X_valid['prob_Excellent'] = 0.0\n",
    "    X_valid['prob_Good'] = 0.0\n",
    "    X_valid['prob_Pass'] = 0.0\n",
    "    X_valid['prob_Fail'] = 0.0\n",
    "    \n",
    "    X_valid.loc[:,['prob_Excellent','prob_Good','prob_Pass','prob_Fail']] = model.predict_proba(X_valid.loc[:,features])\n",
    "    X_valid['label_pred'] = model.predict(X_valid.loc[:,features])\n",
    "    \n",
    "    result.append(X_valid)\n",
    "result=pd.concat(result)\n",
    "\n",
    "(result['label_pred'] == result['label']).mean()\n",
    "\n",
    "# 这里能看出为什么不要前四个特征"
   ]
  },
  {
   "cell_type": "code",
   "execution_count": 27,
   "metadata": {},
   "outputs": [
    {
     "name": "stdout",
     "output_type": "stream",
     "text": [
      "0:\tlearn: 1.3367231\ttotal: 46.1ms\tremaining: 4.57s\n",
      "99:\tlearn: 1.0060527\ttotal: 4.32s\tremaining: 0us\n",
      "0:\tlearn: 1.3358802\ttotal: 127ms\tremaining: 12.6s\n",
      "99:\tlearn: 0.9559350\ttotal: 7.25s\tremaining: 0us\n",
      "0:\tlearn: 1.3410821\ttotal: 29.7ms\tremaining: 2.94s\n",
      "99:\tlearn: 1.0321815\ttotal: 2.98s\tremaining: 0us\n",
      "0:\tlearn: 1.3408880\ttotal: 52.7ms\tremaining: 5.22s\n",
      "99:\tlearn: 0.9862171\ttotal: 6.98s\tremaining: 0us\n",
      "0:\tlearn: 1.3403853\ttotal: 29.8ms\tremaining: 2.95s\n",
      "99:\tlearn: 1.0165788\ttotal: 2.93s\tremaining: 0us\n",
      "0:\tlearn: 1.3379317\ttotal: 74ms\tremaining: 7.33s\n",
      "99:\tlearn: 0.9619551\ttotal: 7.08s\tremaining: 0us\n",
      "0:\tlearn: 1.3465247\ttotal: 30.2ms\tremaining: 2.99s\n",
      "99:\tlearn: 1.0324442\ttotal: 3.04s\tremaining: 0us\n",
      "0:\tlearn: 1.3458274\ttotal: 83.7ms\tremaining: 8.28s\n",
      "99:\tlearn: 0.9843060\ttotal: 9.44s\tremaining: 0us\n",
      "0:\tlearn: 1.3430928\ttotal: 35.5ms\tremaining: 3.51s\n",
      "99:\tlearn: 1.0140480\ttotal: 3.81s\tremaining: 0us\n",
      "0:\tlearn: 1.3419605\ttotal: 142ms\tremaining: 14.1s\n",
      "99:\tlearn: 0.9668975\ttotal: 9.02s\tremaining: 0us\n"
     ]
    },
    {
     "data": {
      "text/plain": [
       "0.5268333333333334"
      ]
     },
     "execution_count": 27,
     "metadata": {},
     "output_type": "execute_result"
    }
   ],
   "source": [
    "# blending\n",
    "features = ['Parameter5','Parameter6','Parameter7','Parameter8','Parameter9','Parameter10']\n",
    "\n",
    "kfold=KFold(n_splits=5, shuffle=False)\n",
    "split=kfold.split(train)\n",
    "result = []\n",
    "for train_index,valid_index in split:\n",
    "    \n",
    "    X_train=train.iloc[train_index,:].copy()\n",
    "    X_valid=train.iloc[valid_index,:].copy()\n",
    "    \n",
    "    # 模型1\n",
    "    model = CatBoostClassifier(iterations=100,depth=7,learning_rate=0.1,verbose=100,random_state=0,loss_function='MultiClass')\n",
    "    model.fit(X_train.loc[:,features].values,X_train.label.values)\n",
    "    # 提前赋值\n",
    "    X_valid['prob1_Excellent'] = 0.0\n",
    "    X_valid['prob1_Good'] = 0.0\n",
    "    X_valid['prob1_Pass'] = 0.0\n",
    "    X_valid['prob1_Fail'] = 0.0\n",
    "    \n",
    "    X_valid.loc[:,['prob1_Excellent','prob1_Good','prob1_Pass','prob1_Fail']] = model.predict_proba(X_valid.loc[:,features])\n",
    "    \n",
    "    # 模型2\n",
    "    model = CatBoostClassifier(iterations=100,depth=10,learning_rate=0.1,verbose=100,random_state=0,loss_function='MultiClass')\n",
    "    model.fit(X_train.loc[:,features].values,X_train.label.values)\n",
    "    # 提前赋值\n",
    "    X_valid['prob2_Excellent'] = 0.0\n",
    "    X_valid['prob2_Good'] = 0.0\n",
    "    X_valid['prob2_Pass'] = 0.0\n",
    "    X_valid['prob2_Fail'] = 0.0\n",
    "    \n",
    "    X_valid.loc[:,['prob2_Excellent','prob2_Good','prob2_Pass','prob2_Fail']] = model.predict_proba(X_valid.loc[:,features])\n",
    "    \n",
    "    result.append(X_valid)\n",
    "result=pd.concat(result)\n",
    "\n",
    "result['prob_Excellent'] = 0.0\n",
    "result['prob_Good'] = 0.0\n",
    "result['prob_Pass'] = 0.0\n",
    "result['prob_Fail'] = 0.0\n",
    "result.loc[:,['prob_Excellent','prob_Good','prob_Pass','prob_Fail']] = 0.5*result.loc[:,['prob1_Excellent','prob1_Good','prob1_Pass','prob1_Fail']].values+0.5*result.loc[:,['prob2_Excellent','prob2_Good','prob2_Pass','prob2_Fail']].values\n",
    "\n",
    "result['label_pred'] = np.argmax(result.loc[:,['prob_Excellent','prob_Good','prob_Pass','prob_Fail']].values,axis=1)\n",
    "(result['label_pred'] == result['label']).mean()"
   ]
  },
  {
   "cell_type": "code",
   "execution_count": 34,
   "metadata": {},
   "outputs": [
    {
     "data": {
      "text/plain": [
       "0.5266666666666666"
      ]
     },
     "execution_count": 34,
     "metadata": {},
     "output_type": "execute_result"
    }
   ],
   "source": [
    "result.loc[:,['prob_Excellent','prob_Good','prob_Pass','prob_Fail']] = 0*result.loc[:,['prob1_Excellent','prob1_Good','prob1_Pass','prob1_Fail']].values+1*result.loc[:,['prob2_Excellent','prob2_Good','prob2_Pass','prob2_Fail']].values\n",
    "\n",
    "result['label_pred'] = np.argmax(result.loc[:,['prob_Excellent','prob_Good','prob_Pass','prob_Fail']].values,axis=1)\n",
    "(result['label_pred'] == result['label']).mean()"
   ]
  },
  {
   "cell_type": "code",
   "execution_count": 39,
   "metadata": {},
   "outputs": [
    {
     "name": "stdout",
     "output_type": "stream",
     "text": [
      "0:\tlearn: 1.3367231\ttotal: 32.8ms\tremaining: 3.24s\n",
      "99:\tlearn: 1.0060527\ttotal: 3.46s\tremaining: 0us\n",
      "0:\tlearn: 1.3358802\ttotal: 75ms\tremaining: 7.43s\n",
      "99:\tlearn: 0.9559350\ttotal: 6.96s\tremaining: 0us\n",
      "0:\tlearn: 1.3410821\ttotal: 29.8ms\tremaining: 2.95s\n",
      "99:\tlearn: 1.0321815\ttotal: 2.96s\tremaining: 0us\n",
      "0:\tlearn: 1.3408880\ttotal: 48.6ms\tremaining: 4.81s\n",
      "99:\tlearn: 0.9862171\ttotal: 7.04s\tremaining: 0us\n",
      "0:\tlearn: 1.3403853\ttotal: 30.6ms\tremaining: 3.03s\n",
      "99:\tlearn: 1.0165788\ttotal: 2.97s\tremaining: 0us\n",
      "0:\tlearn: 1.3379317\ttotal: 70.7ms\tremaining: 7s\n",
      "99:\tlearn: 0.9619551\ttotal: 7.12s\tremaining: 0us\n",
      "0:\tlearn: 1.3465247\ttotal: 30ms\tremaining: 2.97s\n",
      "99:\tlearn: 1.0324442\ttotal: 3.02s\tremaining: 0us\n",
      "0:\tlearn: 1.3458274\ttotal: 72ms\tremaining: 7.13s\n",
      "99:\tlearn: 0.9843060\ttotal: 7.07s\tremaining: 0us\n",
      "0:\tlearn: 1.3430928\ttotal: 30.3ms\tremaining: 3s\n",
      "99:\tlearn: 1.0140480\ttotal: 3s\tremaining: 0us\n",
      "0:\tlearn: 1.3419605\ttotal: 76.7ms\tremaining: 7.59s\n",
      "99:\tlearn: 0.9668975\ttotal: 7.21s\tremaining: 0us\n",
      "0:\tlearn: 1.3322463\ttotal: 13.4ms\tremaining: 1.32s\n",
      "99:\tlearn: 1.0503055\ttotal: 1.38s\tremaining: 0us\n",
      "0:\tlearn: 1.3372456\ttotal: 13.1ms\tremaining: 1.29s\n",
      "99:\tlearn: 1.0745935\ttotal: 1.35s\tremaining: 0us\n",
      "0:\tlearn: 1.3332082\ttotal: 21.7ms\tremaining: 2.15s\n",
      "99:\tlearn: 1.0547850\ttotal: 1.35s\tremaining: 0us\n",
      "0:\tlearn: 1.3379880\ttotal: 13.2ms\tremaining: 1.3s\n",
      "99:\tlearn: 1.0736169\ttotal: 1.37s\tremaining: 0us\n",
      "0:\tlearn: 1.3340942\ttotal: 13ms\tremaining: 1.29s\n",
      "99:\tlearn: 1.0609538\ttotal: 1.36s\tremaining: 0us\n"
     ]
    }
   ],
   "source": [
    "# stacking\n",
    "features = ['Parameter5','Parameter6','Parameter7','Parameter8','Parameter9','Parameter10']\n",
    "\n",
    "kfold=KFold(n_splits=5, shuffle=False)\n",
    "split=kfold.split(train)\n",
    "result = []\n",
    "for train_index,valid_index in split:\n",
    "    \n",
    "    X_train=train.iloc[train_index,:].copy()\n",
    "    X_valid=train.iloc[valid_index,:].copy()\n",
    "    \n",
    "    # 模型1\n",
    "    model = CatBoostClassifier(iterations=100,depth=7,learning_rate=0.1,verbose=100,random_state=0,loss_function='MultiClass')\n",
    "    model.fit(X_train.loc[:,features].values,X_train.label.values)\n",
    "    # 提前赋值\n",
    "    X_valid['prob1_Excellent'] = 0.0\n",
    "    X_valid['prob1_Good'] = 0.0\n",
    "    X_valid['prob1_Pass'] = 0.0\n",
    "    X_valid['prob1_Fail'] = 0.0\n",
    "    \n",
    "    X_valid.loc[:,['prob1_Excellent','prob1_Good','prob1_Pass','prob1_Fail']] = model.predict_proba(X_valid.loc[:,features])\n",
    "    \n",
    "    # 模型2\n",
    "    model = CatBoostClassifier(iterations=100,depth=10,learning_rate=0.1,verbose=100,random_state=0,loss_function='MultiClass')\n",
    "    model.fit(X_train.loc[:,features].values,X_train.label.values)\n",
    "    # 提前赋值\n",
    "    X_valid['prob2_Excellent'] = 0.0\n",
    "    X_valid['prob2_Good'] = 0.0\n",
    "    X_valid['prob2_Pass'] = 0.0\n",
    "    X_valid['prob2_Fail'] = 0.0\n",
    "    \n",
    "    X_valid.loc[:,['prob2_Excellent','prob2_Good','prob2_Pass','prob2_Fail']] = model.predict_proba(X_valid.loc[:,features])\n",
    "    \n",
    "    result.append(X_valid)\n",
    "result=pd.concat(result)\n",
    "\n",
    "# 第二层交叉验证\n",
    "features = ['prob1_Excellent','prob1_Good','prob1_Pass','prob1_Fail','prob2_Excellent','prob2_Good','prob2_Pass','prob2_Fail']\n",
    "kfold=KFold(n_splits=5, shuffle=False)\n",
    "split=kfold.split(result)\n",
    "result2 = []\n",
    "for train_index,valid_index in split:\n",
    "    \n",
    "    X_train=result.iloc[train_index,:].copy()\n",
    "    X_valid=result.iloc[valid_index,:].copy()\n",
    "    \n",
    "    # 第二层模型\n",
    "    model = CatBoostClassifier(iterations=100,depth=3,learning_rate=0.1,verbose=100,random_state=0,loss_function='MultiClass')\n",
    "    model.fit(X_train.loc[:,features].values,X_train.label.values)\n",
    "    # 提前赋值\n",
    "    X_valid['prob_Excellent'] = 0.0\n",
    "    X_valid['prob_Good'] = 0.0\n",
    "    X_valid['prob_Pass'] = 0.0\n",
    "    X_valid['prob_Fail'] = 0.0\n",
    "    \n",
    "    X_valid.loc[:,['prob_Excellent','prob_Good','prob_Pass','prob_Fail']] = model.predict_proba(X_valid.loc[:,features])\n",
    "    \n",
    "    result2.append(X_valid)\n",
    "result2=pd.concat(result2)"
   ]
  },
  {
   "cell_type": "code",
   "execution_count": 40,
   "metadata": {},
   "outputs": [
    {
     "data": {
      "text/plain": [
       "0.5296666666666666"
      ]
     },
     "execution_count": 40,
     "metadata": {},
     "output_type": "execute_result"
    }
   ],
   "source": [
    "result2['label_pred'] = np.argmax(result2.loc[:,['prob_Excellent','prob_Good','prob_Pass','prob_Fail']].values,axis=1)\n",
    "(result2['label_pred'] == result2['label']).mean()"
   ]
  },
  {
   "cell_type": "code",
   "execution_count": null,
   "metadata": {},
   "outputs": [],
   "source": []
  }
 ],
 "metadata": {
  "kernelspec": {
   "display_name": "Python 3",
   "language": "python",
   "name": "python3"
  },
  "language_info": {
   "codemirror_mode": {
    "name": "ipython",
    "version": 3
   },
   "file_extension": ".py",
   "mimetype": "text/x-python",
   "name": "python",
   "nbconvert_exporter": "python",
   "pygments_lexer": "ipython3",
   "version": "3.7.3"
  }
 },
 "nbformat": 4,
 "nbformat_minor": 2
}
