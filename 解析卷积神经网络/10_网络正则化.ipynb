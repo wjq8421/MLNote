{
 "cells": [
  {
   "cell_type": "markdown",
   "metadata": {},
   "source": [
    "#### $l_2$正则化\n",
    "假设待正则的网络层参数为$w$，$l_2$正则化（也叫权重衰减）为：$$l_2=\\frac{1}{2}\\lambda ||w||_2^2$$\n",
    "\n",
    "一般将正则项加入目标函数，通过整体目标函数的误差反向传播，从而达到正则项影响和指导网络训练的目的。"
   ]
  },
  {
   "cell_type": "markdown",
   "metadata": {},
   "source": [
    "#### $l_1$正则化\n",
    "$$l_1=\\lambda ||w||_1=\\sum_i|w_i|$$\n",
    "1. 使参数更稀疏。\n",
    "\n",
    "$l_1$正则化和$l_2$正则化也可联合使用，称为Elastic网络正则化，为：$$\\lambda_1 ||w||_1 + \\lambda_2 ||w||_2^2$$"
   ]
  },
  {
   "cell_type": "markdown",
   "metadata": {},
   "source": [
    "#### 最大范数约束\n",
    "通过向参数量级的范数设置上限对网络进行正则化，如$$||w||_2< c$$\n",
    "其中，$c$多取$10^3$或$10^4$数量级数值。\n",
    "\n",
    "1. 由于最大范数约束对参数范数约定了上限，即使网络学习率设置过大也不至于导致“梯度爆炸”。"
   ]
  },
  {
   "cell_type": "markdown",
   "metadata": {},
   "source": [
    "#### 随机失活（dropout）\n",
    "> 一定程度上缓解了神经元之间复杂的协同效应，降低了神经元间依赖，避免了网络过拟合的发生。\n",
    "\n",
    "- 对于某层的每个神经元，在训练阶段均以概率$p$随机将神经元权重置0，测试阶段所有神经元均呈激活态，但其权重需乘$(1-p)$以保证训练和测试阶段各自权重拥有相同的期望。\n",
    "\n",
    "1. 验证集准确率一直低于训练集上的准确率，但无明显下降趋势。这说明此事模型复杂度欠缺，模型表示能力有限——属“欠拟合”状态。对此，可通过增加层数、调整激活函数增加网络非线性、减小模型正则化等措施增大网络复杂度。\n",
    "2. 最后，可取验证集准确率最高的那一轮训练结果作为最终网络，用于测试集数据的预测。"
   ]
  },
  {
   "cell_type": "code",
   "execution_count": null,
   "metadata": {},
   "outputs": [],
   "source": []
  }
 ],
 "metadata": {
  "kernelspec": {
   "display_name": "Python 3",
   "language": "python",
   "name": "python3"
  },
  "language_info": {
   "codemirror_mode": {
    "name": "ipython",
    "version": 3
   },
   "file_extension": ".py",
   "mimetype": "text/x-python",
   "name": "python",
   "nbconvert_exporter": "python",
   "pygments_lexer": "ipython3",
   "version": "3.6.6"
  },
  "toc": {
   "base_numbering": 1,
   "nav_menu": {},
   "number_sections": true,
   "sideBar": true,
   "skip_h1_title": false,
   "title_cell": "Table of Contents",
   "title_sidebar": "Contents",
   "toc_cell": false,
   "toc_position": {},
   "toc_section_display": true,
   "toc_window_display": false
  },
  "varInspector": {
   "cols": {
    "lenName": 16,
    "lenType": 16,
    "lenVar": 40
   },
   "kernels_config": {
    "python": {
     "delete_cmd_postfix": "",
     "delete_cmd_prefix": "del ",
     "library": "var_list.py",
     "varRefreshCmd": "print(var_dic_list())"
    },
    "r": {
     "delete_cmd_postfix": ") ",
     "delete_cmd_prefix": "rm(",
     "library": "var_list.r",
     "varRefreshCmd": "cat(var_dic_list()) "
    }
   },
   "types_to_exclude": [
    "module",
    "function",
    "builtin_function_or_method",
    "instance",
    "_Feature"
   ],
   "window_display": false
  }
 },
 "nbformat": 4,
 "nbformat_minor": 2
}
