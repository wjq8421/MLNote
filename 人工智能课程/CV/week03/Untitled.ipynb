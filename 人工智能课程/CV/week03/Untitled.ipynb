{
 "cells": [
  {
   "cell_type": "code",
   "execution_count": 1,
   "metadata": {
    "ExecuteTime": {
     "end_time": "2019-08-31T09:40:29.836704Z",
     "start_time": "2019-08-31T09:40:29.576840Z"
    }
   },
   "outputs": [
    {
     "name": "stderr",
     "output_type": "stream",
     "text": [
      "d:\\py36_dp\\deeplearning\\lib\\site-packages\\numpy\\core\\__init__.py:29: UserWarning: loaded more than 1 DLL from .libs:\n",
      "d:\\py36_dp\\deeplearning\\lib\\site-packages\\numpy\\.libs\\libopenblas.IPBC74C7KURV7CB2PKT5Z5FNR3SIBV4J.gfortran-win_amd64.dll\n",
      "d:\\py36_dp\\deeplearning\\lib\\site-packages\\numpy\\.libs\\libopenblas.TXA6YQSD3GCQQC22GEQ54J2UDCXDXHWN.gfortran-win_amd64.dll\n",
      "  stacklevel=1)\n"
     ]
    }
   ],
   "source": [
    "import numpy as np\n",
    "import random"
   ]
  },
  {
   "cell_type": "code",
   "execution_count": 2,
   "metadata": {
    "ExecuteTime": {
     "end_time": "2019-08-31T09:41:09.759579Z",
     "start_time": "2019-08-31T09:41:09.755590Z"
    }
   },
   "outputs": [],
   "source": [
    "# inference: get prediction\n",
    "def inference(w, b, x):\n",
    "    pred_y = w * x + b\n",
    "    return pred_y"
   ]
  },
  {
   "cell_type": "code",
   "execution_count": 5,
   "metadata": {
    "ExecuteTime": {
     "end_time": "2019-08-31T11:26:02.755216Z",
     "start_time": "2019-08-31T11:26:02.751227Z"
    }
   },
   "outputs": [],
   "source": [
    "def eval_loss(w, b, x_list, gt_y_list):\n",
    "    avg_loss = 0.0\n",
    "    for i in range(len(x_list)):\n",
    "        avg_loss += 0.5 * (w * x_list[i] + b - gt_y_list[i]) ** 2\n",
    "    avg_loss /= len(gt_y_list)\n",
    "    return avg_loss"
   ]
  },
  {
   "cell_type": "code",
   "execution_count": 3,
   "metadata": {
    "ExecuteTime": {
     "end_time": "2019-08-31T09:42:47.870954Z",
     "start_time": "2019-08-31T09:42:47.867949Z"
    }
   },
   "outputs": [],
   "source": [
    "# gradient: get dw & db\n",
    "def gradient(pred_y, gt_y, x):\n",
    "    diff = pred_y - gt_y  # gt_y: ground_truth，已知的\n",
    "    dw = diff * x\n",
    "    db = diff\n",
    "    return dw, db"
   ]
  },
  {
   "cell_type": "code",
   "execution_count": 4,
   "metadata": {
    "ExecuteTime": {
     "end_time": "2019-08-31T11:16:45.199852Z",
     "start_time": "2019-08-31T11:16:45.194866Z"
    }
   },
   "outputs": [],
   "source": [
    "def cal_step_gradient(batch_x_list, batch_gt_y_list, w, b, lr):\n",
    "    avg_dw, avg_db = 0, 0\n",
    "    batch_size = len(batch_x_list)\n",
    "    for i in range(batch_size):\n",
    "        pred_y = inference(w, b, batch_x_list[i])\n",
    "        dw, db = gradient(pred_y, batch_gt_y_list[i], batch_x_list[i])\n",
    "        avg_dw += dw\n",
    "        avg_db += db\n",
    "    avg_dw /= batch_size\n",
    "    avg_db /= batch_size\n",
    "    w -= lr * avg_dw\n",
    "    b -= lr * avg_db\n",
    "    return w, b"
   ]
  },
  {
   "cell_type": "code",
   "execution_count": 6,
   "metadata": {
    "ExecuteTime": {
     "end_time": "2019-08-31T11:26:10.168183Z",
     "start_time": "2019-08-31T11:26:10.163197Z"
    }
   },
   "outputs": [],
   "source": [
    "def train(x_list, gt_y_list, batch_size, lr, max_iter):\n",
    "    w = 0\n",
    "    b = 0\n",
    "    num_samples = len(x_list)\n",
    "    for i in range(max_iter):\n",
    "        batch_idxs = np.random.choice(len(x_list), batch_size)\n",
    "        # 理论上：\n",
    "        # > 1的样本进行训练时叫mini sgd\n",
    "        # sgd: batch size = 1\n",
    "        # batcch size等于全样本，叫gd\n",
    "        batch_x = [x_list[j] for j in batch_idxs]\n",
    "        batch_y = [gt_y_list[j] for j in batch_idxs]\n",
    "        w, b = cal_step_gradient(batch_x, batch_y, w, b, lr)\n",
    "        print('w:{0}, b:{1}'.format(w, b))\n",
    "        print('loss is {0}.'.format(eval_loss(w, b, x_list, gt_y_list)))"
   ]
  },
  {
   "cell_type": "code",
   "execution_count": 8,
   "metadata": {
    "ExecuteTime": {
     "end_time": "2019-08-31T11:29:09.095233Z",
     "start_time": "2019-08-31T11:29:09.091244Z"
    }
   },
   "outputs": [],
   "source": [
    "def gen_sample_data():\n",
    "    w = random.randint(0, 10) + random.random()\n",
    "    b = random.randint(0, 5)+ random.random()\n",
    "    num_samples = 100\n",
    "    x_list = []\n",
    "    y_list = []\n",
    "    for i in range(num_samples):\n",
    "        x = random.randint(0, 100) * random.random()\n",
    "        y = w * x + b + random.random() * random.randint(-1, 1)\n",
    "        x_list.append(x)\n",
    "        y_list.append(y)\n",
    "    return x_list, y_list, w, b"
   ]
  },
  {
   "cell_type": "code",
   "execution_count": 27,
   "metadata": {
    "ExecuteTime": {
     "end_time": "2019-08-31T11:38:19.567823Z",
     "start_time": "2019-08-31T11:38:19.564831Z"
    }
   },
   "outputs": [],
   "source": [
    "def run():\n",
    "    x_list, y_list, w, b = gen_sample_data()\n",
    "    print('Generate data: ', w, b)\n",
    "    lr = 0.01   # lr比较大时，loss会越来越大，即梯度爆炸\n",
    "    max_iter = 100\n",
    "    train(x_list, y_list, 50, lr, max_iter)"
   ]
  },
  {
   "cell_type": "code",
   "execution_count": 28,
   "metadata": {
    "ExecuteTime": {
     "end_time": "2019-08-31T11:38:20.289307Z",
     "start_time": "2019-08-31T11:38:20.276368Z"
    }
   },
   "outputs": [
    {
     "name": "stdout",
     "output_type": "stream",
     "text": [
      "Generate data:  8.334449659352117 4.314325402732229\n",
      "w:106.33163546993738, b:2.356986751172438\n",
      "loss is 5982090.567803997.\n",
      "w:-1022.304413689291, b:-23.172292876288548\n",
      "loss is 663057300.9254913.\n",
      "w:9849.674081743879, b:224.33576837758443\n",
      "loss is 60445238212.09545.\n",
      "w:-107904.03990644278, b:-2300.665000974232\n",
      "loss is 7267366718296.856.\n",
      "w:1680385.3462983107, b:33090.82762773822\n",
      "loss is 1762040403277314.5.\n",
      "w:-13848277.843071904, b:-375632.9936011153\n",
      "loss is 1.1971200177034744e+17.\n",
      "w:160025108.83184567, b:3485496.935870002\n",
      "loss is 1.5981550037623958e+19.\n",
      "w:-1427894437.6663053, b:-36924118.14798129\n",
      "loss is 1.2726631037550684e+21.\n",
      "w:14955134397.534039, b:336005856.06631684\n",
      "loss is 1.3958429266110658e+23.\n",
      "w:-219855335518.76385, b:-4516517112.196222\n",
      "loss is 3.016427252911943e+25.\n",
      "w:3138559501432.9326, b:64600998829.04052\n",
      "loss is 6.14724238660054e+27.\n",
      "w:-40145889246556.34, b:-855724204134.758\n",
      "loss is 1.0058098339178304e+30.\n",
      "w:478084283944065.6, b:11028203533368.24\n",
      "loss is 1.4265151927452941e+32.\n",
      "w:-3600760793349330.0, b:-96555158877082.81\n",
      "loss is 8.093347810362878e+33.\n",
      "w:5.085558105624431e+16, b:1030605894922456.2\n",
      "loss is 1.613952417036031e+36.\n",
      "w:-4.0405406959939354e+17, b:-1.1014559278491932e+16\n",
      "loss is 1.019124408273576e+38.\n",
      "w:4.263136959787653e+18, b:9.637849611577747e+16\n",
      "loss is 1.134271902461129e+40.\n",
      "w:-4.694186812610014e+19, b:-1.051696040300278e+18\n",
      "loss is 1.375230284025029e+42.\n",
      "w:7.037734656561674e+20, b:1.384613641160743e+19\n",
      "loss is 3.0907784314859085e+44.\n",
      "w:-6.799397550787349e+21, b:-1.5206545263799317e+20\n",
      "loss is 2.8853253670995657e+46.\n",
      "w:6.201639723453049e+22, b:1.4993855654654782e+21\n",
      "loss is 2.4005011076106732e+48.\n",
      "w:-5.5812308677099085e+23, b:-1.3622598900887023e+22\n",
      "loss is 1.9442551718107468e+50.\n",
      "w:6.89228854117159e+24, b:1.4977258454719951e+23\n",
      "loss is 2.964617111144597e+52.\n",
      "w:-6.504859439694567e+25, b:-1.612868396752068e+24\n",
      "loss is 2.6410497069979375e+54.\n",
      "w:7.789445815285443e+26, b:1.6848331647905146e+25\n",
      "loss is 3.7866301611395528e+56.\n",
      "w:-9.733986435144241e+27, b:-2.132021246344632e+26\n",
      "loss is 5.913253592152778e+58.\n",
      "w:1.0700168877518046e+29, b:2.4146956963181029e+27\n",
      "loss is 7.145606348045669e+60.\n",
      "w:-1.1584316055389752e+30, b:-2.574519839781635e+28\n",
      "loss is 8.375138868383633e+62.\n",
      "w:1.7838445973856327e+31, b:3.576100786435928e+29\n",
      "loss is 1.985744263009784e+65.\n",
      "w:-2.864743769972814e+32, b:-5.564683892958903e+30\n",
      "loss is 5.121166052275669e+67.\n",
      "w:2.56876406975949e+33, b:6.551658031563746e+31\n",
      "loss is 4.118725613772774e+69.\n",
      "w:-3.2789117516008027e+34, b:-6.805108813440797e+32\n",
      "loss is 6.709379517990238e+71.\n",
      "w:4.3199890879884116e+35, b:9.188953578238184e+33\n",
      "loss is 1.1646573020404878e+74.\n",
      "w:-4.708584848971592e+36, b:-1.0871727965435686e+35\n",
      "loss is 1.3837214899497424e+76.\n",
      "w:6.611805219302229e+37, b:1.375604241410594e+36\n",
      "loss is 2.728123260880709e+78.\n",
      "w:-5.8405355869150425e+38, b:-1.4627477525939183e+37\n",
      "loss is 2.1291727810190055e+80.\n",
      "w:8.240005788848669e+39, b:1.6446162454396556e+38\n",
      "loss is 4.2370405028119124e+82.\n",
      "w:-9.318916055742184e+40, b:-2.0715788575466132e+39\n",
      "loss is 5.419785878147804e+84.\n",
      "w:1.1775461335506558e+42, b:2.492291040405699e+40\n",
      "loss is 8.653398031736896e+86.\n",
      "w:-1.8510199800872933e+43, b:-3.677329877168233e+41\n",
      "loss is 2.1381000061832138e+89.\n",
      "w:2.201300354138252e+44, b:4.8503572984718535e+42\n",
      "loss is 3.024169751948684e+91.\n",
      "w:-1.9446751385906826e+45, b:-4.619202520907021e+43\n",
      "loss is 2.36034125949758e+93.\n",
      "w:2.187685865045353e+46, b:5.219421307841881e+44\n",
      "loss is 2.987119659988315e+95.\n",
      "w:-2.0802131899901022e+47, b:-5.0315141721811217e+45\n",
      "loss is 2.7008765489430102e+97.\n",
      "w:2.1954385060604715e+48, b:5.023629128052737e+46\n",
      "loss is 3.008198219312856e+99.\n",
      "w:-2.648079705948852e+49, b:-5.923115534513589e+47\n",
      "loss is 4.3763907318760816e+101.\n",
      "w:3.744509740050169e+50, b:7.44828126146503e+48\n",
      "loss is 8.749761326061745e+103.\n",
      "w:-4.984037302901503e+51, b:-1.0496537214882624e+50\n",
      "loss is 1.5502129765621854e+106.\n",
      "w:6.129847928711595e+52, b:1.3640260831176452e+51\n",
      "loss is 2.3450448964681991e+108.\n",
      "w:-8.043367980058988e+53, b:-1.625808090505828e+52\n",
      "loss is 4.037275190645966e+110.\n",
      "w:8.813301526095021e+54, b:2.1090803650273024e+53\n",
      "loss is 4.847985945153108e+112.\n",
      "w:-9.969838205186075e+55, b:-2.180485758806606e+54\n",
      "loss is 6.203269289376061e+114.\n",
      "w:1.5511717393367457e+57, b:3.1489168510720273e+55\n",
      "loss is 1.501529693382946e+117.\n",
      "w:-1.8795210579215778e+58, b:-3.8652676653280596e+56\n",
      "loss is 2.2045180185241275e+119.\n",
      "w:2.0088605065806035e+59, b:4.752475055680393e+57\n",
      "loss is 2.518711328489419e+121.\n",
      "w:-1.9434746602502575e+60, b:-4.3740774512747674e+58\n",
      "loss is 2.357297655538333e+123.\n",
      "w:2.5079829696623097e+61, b:5.4971470983308585e+59\n",
      "loss is 3.925495649145666e+125.\n",
      "w:-3.022707758400782e+62, b:-6.619248409058842e+60\n",
      "loss is 5.702131998889959e+127.\n",
      "w:3.596094064123462e+63, b:7.995044858521877e+61\n",
      "loss is 8.070742089607462e+129.\n",
      "w:-4.041425754329467e+64, b:-8.630016090500975e+62\n",
      "loss is 1.0193038504934231e+132.\n",
      "w:3.4835994333571116e+65, b:9.171363050683368e+63\n",
      "loss is 7.575070602809491e+133.\n",
      "w:-3.962851197451083e+66, b:-8.676756647633651e+64\n",
      "loss is 9.800774894944175e+135.\n",
      "w:4.534250867147172e+67, b:9.921732432435755e+65\n",
      "loss is 1.2830858443095882e+138.\n",
      "w:-3.997654027950043e+68, b:-1.0053261741527592e+67\n",
      "loss is 9.975116018092434e+139.\n",
      "w:3.3210641168052406e+69, b:8.277013323523567e+67\n",
      "loss is 6.884267342312825e+141.\n",
      "w:-2.913094218438133e+70, b:-6.851027990964849e+68\n",
      "loss is 5.296454048461175e+143.\n",
      "w:3.2904301212123423e+71, b:7.159304561005332e+69\n",
      "loss is 6.756901434981751e+145.\n",
      "w:-3.8147291417548416e+72, b:-8.205370716298187e+70\n",
      "loss is 9.08165231493323e+147.\n",
      "w:4.298256408087881e+73, b:9.505948104737642e+71\n",
      "loss is 1.153011853782754e+150.\n",
      "w:-5.077126543107712e+74, b:-1.1323655175015935e+73\n",
      "loss is 1.6087505951732678e+152.\n",
      "w:7.064268416010192e+75, b:1.465201381816303e+74\n",
      "loss is 3.114275532312759e+154.\n",
      "w:-5.897627286028222e+76, b:-1.5864367546080157e+75\n",
      "loss is 2.1711805163981945e+156.\n",
      "w:5.586528426147278e+77, b:1.2597494096878284e+76\n",
      "loss is 1.9477872520193988e+158.\n",
      "w:-7.867744990335801e+78, b:-1.6124754612433588e+77\n",
      "loss is 3.86294437825673e+160.\n",
      "w:9.084539434658995e+79, b:2.019739216835437e+78\n",
      "loss is 5.150592773516645e+162.\n",
      "w:-7.776611731905006e+80, b:-1.9030117663619906e+79\n",
      "loss is 3.774638242150407e+164.\n",
      "w:8.501010994979746e+81, b:1.8080543878485022e+80\n",
      "loss is 4.509973291595975e+166.\n",
      "w:-7.905055692354564e+82, b:-1.8228325860627682e+81\n",
      "loss is 3.90011283980816e+168.\n",
      "w:9.990118442623126e+83, b:2.0683221735350083e+82\n",
      "loss is 6.228209374830039e+170.\n",
      "w:-1.1819730134744327e+85, b:-2.6508231764799445e+83\n",
      "loss is 8.719071760011805e+172.\n",
      "w:1.562393230183744e+86, b:3.2418559570785214e+84\n",
      "loss is 1.523363358089812e+175.\n",
      "w:-2.0466543570462365e+87, b:-4.323268799366637e+85\n",
      "loss is 2.614080921591754e+177.\n",
      "w:1.6098935787463264e+88, b:3.949432271552691e+86\n",
      "loss is 1.6176703306667467e+179.\n",
      "w:-2.1991015912798396e+89, b:-4.541085650128015e+87\n",
      "loss is 3.0179460766067445e+181.\n",
      "w:2.2675068808798774e+90, b:5.2062049319887626e+88\n",
      "loss is 3.208947589359091e+183.\n",
      "w:-2.8112871568420882e+91, b:-5.975282647973374e+89\n",
      "loss is 4.9322259066731055e+185.\n",
      "w:3.691809206741088e+92, b:7.513952380032881e+90\n",
      "loss is 8.505379017599543e+187.\n",
      "w:-3.8831951060931373e+93, b:-9.297417341697554e+91\n",
      "loss is 9.41158459215339e+189.\n",
      "w:4.6907830455231244e+94, b:9.337335892530284e+92\n",
      "loss is 1.373084454678842e+192.\n",
      "w:-5.474412564560234e+95, b:-1.2298681664076418e+94\n",
      "loss is 1.870384618141311e+194.\n",
      "w:7.241386729698398e+96, b:1.5131977301005373e+95\n",
      "loss is 3.2724206758103153e+196.\n",
      "w:-8.774088146041421e+97, b:-1.9089335201122804e+96\n",
      "loss is 4.804477870622452e+198.\n",
      "w:1.1803726913989544e+99, b:2.4622254387603756e+97\n",
      "loss is 8.694872985044684e+200.\n",
      "w:-1.4544211288054114e+100, b:-3.1610279408491834e+98\n",
      "loss is 1.320146493800299e+203.\n",
      "w:1.9805063894354255e+101, b:4.0880432731537377e+99\n",
      "loss is 2.447784753595201e+205.\n",
      "w:-2.0718611694868622e+102, b:-4.677536375418294e+100\n",
      "loss is 2.6790406912003346e+207.\n",
      "w:1.8538831647798183e+103, b:4.616633931565806e+101\n",
      "loss is 2.145198762009369e+209.\n",
      "w:-1.675712000058406e+104, b:-4.062353447258625e+102\n",
      "loss is 1.7526244359984943e+211.\n",
      "w:1.6521294233188626e+105, b:3.827620176868746e+103\n",
      "loss is 1.7035603779532273e+213.\n",
      "w:-1.4447059234819082e+106, b:-3.7031994876947993e+104\n",
      "loss is 1.3027941308600096e+215.\n"
     ]
    }
   ],
   "source": [
    "if __name__ == '__main__':\n",
    "    run()"
   ]
  }
 ],
 "metadata": {
  "kernelspec": {
   "display_name": "Python 3",
   "language": "python",
   "name": "python3"
  },
  "language_info": {
   "codemirror_mode": {
    "name": "ipython",
    "version": 3
   },
   "file_extension": ".py",
   "mimetype": "text/x-python",
   "name": "python",
   "nbconvert_exporter": "python",
   "pygments_lexer": "ipython3",
   "version": "3.6.7"
  },
  "toc": {
   "base_numbering": 1,
   "nav_menu": {},
   "number_sections": true,
   "sideBar": true,
   "skip_h1_title": false,
   "title_cell": "Table of Contents",
   "title_sidebar": "Contents",
   "toc_cell": false,
   "toc_position": {},
   "toc_section_display": true,
   "toc_window_display": false
  },
  "varInspector": {
   "cols": {
    "lenName": 16,
    "lenType": 16,
    "lenVar": 40
   },
   "kernels_config": {
    "python": {
     "delete_cmd_postfix": "",
     "delete_cmd_prefix": "del ",
     "library": "var_list.py",
     "varRefreshCmd": "print(var_dic_list())"
    },
    "r": {
     "delete_cmd_postfix": ") ",
     "delete_cmd_prefix": "rm(",
     "library": "var_list.r",
     "varRefreshCmd": "cat(var_dic_list()) "
    }
   },
   "types_to_exclude": [
    "module",
    "function",
    "builtin_function_or_method",
    "instance",
    "_Feature"
   ],
   "window_display": false
  }
 },
 "nbformat": 4,
 "nbformat_minor": 2
}
