{
 "cells": [
  {
   "cell_type": "code",
   "execution_count": 5,
   "metadata": {
    "ExecuteTime": {
     "end_time": "2019-10-09T02:43:35.999018Z",
     "start_time": "2019-10-09T02:43:35.992018Z"
    }
   },
   "outputs": [],
   "source": [
    "def bubbleSort(arr):      \n",
    "    for i in range(len(arr)):\n",
    "        for j in range(len(arr)-i-1):\n",
    "            if arr[j] > arr[j+1]:\n",
    "                arr[j+1], arr[j] = arr[j], arr[j+1]"
   ]
  },
  {
   "cell_type": "code",
   "execution_count": 9,
   "metadata": {
    "ExecuteTime": {
     "end_time": "2019-10-09T05:36:41.381028Z",
     "start_time": "2019-10-09T05:36:41.371028Z"
    }
   },
   "outputs": [
    {
     "data": {
      "text/plain": [
       "[1, 2, 3, 3, 4, 5, 9]"
      ]
     },
     "execution_count": 9,
     "metadata": {},
     "output_type": "execute_result"
    }
   ],
   "source": [
    "arr = [4, 5, 1, 2, 9, 3, 3]\n",
    "# arr = [1]\n",
    "bubbleSort(arr)\n",
    "arr"
   ]
  },
  {
   "cell_type": "markdown",
   "metadata": {},
   "source": [
    "______"
   ]
  },
  {
   "cell_type": "code",
   "execution_count": 13,
   "metadata": {
    "ExecuteTime": {
     "end_time": "2019-10-09T05:45:10.213132Z",
     "start_time": "2019-10-09T05:45:10.206131Z"
    }
   },
   "outputs": [],
   "source": [
    "def insertSort(arr):\n",
    "    for i in range(len(arr)):\n",
    "        for j in range(i):\n",
    "            if arr[i-j] < arr[i-j-1]:\n",
    "                arr[i-j], arr[i-j-1] = arr[i-j-1], arr[i-j]\n",
    "            else:\n",
    "                break"
   ]
  },
  {
   "cell_type": "code",
   "execution_count": 14,
   "metadata": {
    "ExecuteTime": {
     "end_time": "2019-10-09T05:45:11.761220Z",
     "start_time": "2019-10-09T05:45:11.752220Z"
    }
   },
   "outputs": [
    {
     "data": {
      "text/plain": [
       "[1, 2, 3, 3, 4, 5, 9]"
      ]
     },
     "execution_count": 14,
     "metadata": {},
     "output_type": "execute_result"
    }
   ],
   "source": [
    "arr = [4, 5, 1, 2, 9, 3, 3]\n",
    "insertSort(arr)\n",
    "arr"
   ]
  },
  {
   "cell_type": "markdown",
   "metadata": {
    "ExecuteTime": {
     "end_time": "2019-10-09T05:46:06.291339Z",
     "start_time": "2019-10-09T05:46:06.286339Z"
    }
   },
   "source": [
    "__________"
   ]
  },
  {
   "cell_type": "code",
   "execution_count": 28,
   "metadata": {
    "ExecuteTime": {
     "end_time": "2019-10-09T05:54:46.869115Z",
     "start_time": "2019-10-09T05:54:46.864114Z"
    }
   },
   "outputs": [],
   "source": [
    "def selectionSort(arr):\n",
    "    for i in range(len(arr)):\n",
    "        minIdx = i\n",
    "        for j in range(i+1, len(arr)):\n",
    "            minIdx = j if arr[j] < arr[minIdx] else minIdx\n",
    "            \n",
    "        arr[minIdx], arr[i] = arr[i], arr[minIdx]"
   ]
  },
  {
   "cell_type": "code",
   "execution_count": 29,
   "metadata": {
    "ExecuteTime": {
     "end_time": "2019-10-09T05:54:48.053182Z",
     "start_time": "2019-10-09T05:54:48.046182Z"
    }
   },
   "outputs": [
    {
     "data": {
      "text/plain": [
       "[1, 2, 3, 3, 4, 5, 9]"
      ]
     },
     "execution_count": 29,
     "metadata": {},
     "output_type": "execute_result"
    }
   ],
   "source": [
    "arr = [4, 5, 1, 2, 9, 3, 3]\n",
    "selectionSort(arr)\n",
    "arr"
   ]
  },
  {
   "cell_type": "markdown",
   "metadata": {},
   "source": [
    "_____"
   ]
  },
  {
   "cell_type": "code",
   "execution_count": 93,
   "metadata": {
    "ExecuteTime": {
     "end_time": "2019-10-09T06:46:59.380284Z",
     "start_time": "2019-10-09T06:46:59.369283Z"
    }
   },
   "outputs": [],
   "source": [
    "def mergeSort(arr, l, r):\n",
    "    if l == r:\n",
    "        return\n",
    "\n",
    "    mid = (l + r) // 2\n",
    "    mergeSort(arr, l, mid)\n",
    "    mergeSort(arr, mid+1, r)\n",
    "    merge(arr, l, mid, r)\n",
    "    \n",
    "def merge(arr, l, mid, r):\n",
    "    temp = []\n",
    "    p1 = l\n",
    "    p2 = mid + 1\n",
    "    while p1 <= mid and p2 <= r:\n",
    "        if arr[p1] < arr[p2]:\n",
    "            temp.append(arr[p1])\n",
    "            p1 += 1\n",
    "        else:\n",
    "            temp.append(arr[p2])\n",
    "            p2 += 1\n",
    "    \n",
    "    while p1 <= mid:\n",
    "        temp.append(arr[p1])\n",
    "        p1 += 1\n",
    "    while p2 <= r:\n",
    "        temp.append(arr[p2])\n",
    "        p2 += 1\n",
    "    for i in range(len(temp)):\n",
    "        arr[l + i] = temp[i]"
   ]
  },
  {
   "cell_type": "code",
   "execution_count": 96,
   "metadata": {
    "ExecuteTime": {
     "end_time": "2019-10-09T07:00:29.165601Z",
     "start_time": "2019-10-09T07:00:29.156601Z"
    }
   },
   "outputs": [
    {
     "data": {
      "text/plain": [
       "[1, 1, 2, 2, 2, 3, 5, 5, 8, 9, 9]"
      ]
     },
     "execution_count": 96,
     "metadata": {},
     "output_type": "execute_result"
    }
   ],
   "source": [
    "arr = [9, 2, 5, 1, 3, 2, 9, 5, 2, 1, 8]\n",
    "mergeSort(arr, 0, len(arr)-1)\n",
    "arr"
   ]
  },
  {
   "cell_type": "markdown",
   "metadata": {
    "ExecuteTime": {
     "end_time": "2019-10-09T06:14:27.981670Z",
     "start_time": "2019-10-09T06:14:27.975670Z"
    }
   },
   "source": [
    "_____"
   ]
  },
  {
   "cell_type": "code",
   "execution_count": null,
   "metadata": {},
   "outputs": [],
   "source": [
    "def "
   ]
  }
 ],
 "metadata": {
  "kernelspec": {
   "display_name": "Python 3",
   "language": "python",
   "name": "python3"
  },
  "language_info": {
   "codemirror_mode": {
    "name": "ipython",
    "version": 3
   },
   "file_extension": ".py",
   "mimetype": "text/x-python",
   "name": "python",
   "nbconvert_exporter": "python",
   "pygments_lexer": "ipython3",
   "version": "3.6.6"
  },
  "toc": {
   "base_numbering": 1,
   "nav_menu": {},
   "number_sections": true,
   "sideBar": true,
   "skip_h1_title": false,
   "title_cell": "Table of Contents",
   "title_sidebar": "Contents",
   "toc_cell": false,
   "toc_position": {},
   "toc_section_display": true,
   "toc_window_display": false
  },
  "varInspector": {
   "cols": {
    "lenName": 16,
    "lenType": 16,
    "lenVar": 40
   },
   "kernels_config": {
    "python": {
     "delete_cmd_postfix": "",
     "delete_cmd_prefix": "del ",
     "library": "var_list.py",
     "varRefreshCmd": "print(var_dic_list())"
    },
    "r": {
     "delete_cmd_postfix": ") ",
     "delete_cmd_prefix": "rm(",
     "library": "var_list.r",
     "varRefreshCmd": "cat(var_dic_list()) "
    }
   },
   "types_to_exclude": [
    "module",
    "function",
    "builtin_function_or_method",
    "instance",
    "_Feature"
   ],
   "window_display": false
  }
 },
 "nbformat": 4,
 "nbformat_minor": 2
}
