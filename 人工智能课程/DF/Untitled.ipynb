{
 "cells": [
  {
   "cell_type": "code",
   "execution_count": 44,
   "metadata": {
    "ExecuteTime": {
     "end_time": "2019-08-27T03:32:13.581813Z",
     "start_time": "2019-08-27T03:32:13.576812Z"
    }
   },
   "outputs": [],
   "source": [
    "from sklearn.preprocessing import PolynomialFeatures\n",
    "import pandas_profiling as ppf\n",
    "import matplotlib.pyplot as plt\n",
    "import pandas as pd\n",
    "import numpy as np\n",
    "import os\n",
    "\n",
    "pd.set_option('display.max_columns', 50)"
   ]
  },
  {
   "cell_type": "code",
   "execution_count": 3,
   "metadata": {
    "ExecuteTime": {
     "end_time": "2019-08-27T02:50:14.299718Z",
     "start_time": "2019-08-27T02:50:14.185711Z"
    }
   },
   "outputs": [
    {
     "name": "stdout",
     "output_type": "stream",
     "text": [
      "shape of train: (6000, 21)\n",
      "shape of test: (6000, 11)\n",
      "shape of submit: (120, 5)\n"
     ]
    }
   ],
   "source": [
    "train = pd.read_csv('.\\\\data\\\\first_round_training_data.csv')\n",
    "test = pd.read_csv('.\\\\data\\\\first_round_testing_data.csv')\n",
    "submit_example = pd.read_csv('.\\\\data\\\\submit_example.csv')\n",
    "\n",
    "print('shape of train:', train.shape)\n",
    "print('shape of test:', test.shape)\n",
    "print('shape of submit:', submit_example.shape)"
   ]
  },
  {
   "cell_type": "code",
   "execution_count": 4,
   "metadata": {
    "ExecuteTime": {
     "end_time": "2019-08-27T02:50:15.429782Z",
     "start_time": "2019-08-27T02:50:15.370779Z"
    },
    "scrolled": true
   },
   "outputs": [
    {
     "data": {
      "text/html": [
       "<div>\n",
       "<style scoped>\n",
       "    .dataframe tbody tr th:only-of-type {\n",
       "        vertical-align: middle;\n",
       "    }\n",
       "\n",
       "    .dataframe tbody tr th {\n",
       "        vertical-align: top;\n",
       "    }\n",
       "\n",
       "    .dataframe thead th {\n",
       "        text-align: right;\n",
       "    }\n",
       "</style>\n",
       "<table border=\"1\" class=\"dataframe\">\n",
       "  <thead>\n",
       "    <tr style=\"text-align: right;\">\n",
       "      <th></th>\n",
       "      <th>Parameter1</th>\n",
       "      <th>Parameter2</th>\n",
       "      <th>Parameter3</th>\n",
       "      <th>Parameter4</th>\n",
       "      <th>Parameter5</th>\n",
       "      <th>Parameter6</th>\n",
       "      <th>Parameter7</th>\n",
       "      <th>Parameter8</th>\n",
       "      <th>Parameter9</th>\n",
       "      <th>Parameter10</th>\n",
       "      <th>Attribute1</th>\n",
       "      <th>Attribute2</th>\n",
       "      <th>Attribute3</th>\n",
       "      <th>Attribute4</th>\n",
       "      <th>Attribute5</th>\n",
       "      <th>Attribute6</th>\n",
       "      <th>Attribute7</th>\n",
       "      <th>Attribute8</th>\n",
       "      <th>Attribute9</th>\n",
       "      <th>Attribute10</th>\n",
       "      <th>Quality_label</th>\n",
       "    </tr>\n",
       "  </thead>\n",
       "  <tbody>\n",
       "    <tr>\n",
       "      <th>0</th>\n",
       "      <td>0.001660</td>\n",
       "      <td>0.591013</td>\n",
       "      <td>147.608373</td>\n",
       "      <td>38.186345</td>\n",
       "      <td>0.000421</td>\n",
       "      <td>0.000612</td>\n",
       "      <td>2286.523413</td>\n",
       "      <td>0.035407</td>\n",
       "      <td>0.593081</td>\n",
       "      <td>1.010385</td>\n",
       "      <td>6.856075</td>\n",
       "      <td>0.168761</td>\n",
       "      <td>1.098755</td>\n",
       "      <td>36.955992</td>\n",
       "      <td>8.454598</td>\n",
       "      <td>11.438066</td>\n",
       "      <td>177.243120</td>\n",
       "      <td>338.729256</td>\n",
       "      <td>2.021704</td>\n",
       "      <td>0.079526</td>\n",
       "      <td>Pass</td>\n",
       "    </tr>\n",
       "    <tr>\n",
       "      <th>1</th>\n",
       "      <td>1.601749</td>\n",
       "      <td>0.015052</td>\n",
       "      <td>0.035864</td>\n",
       "      <td>51.130326</td>\n",
       "      <td>0.000909</td>\n",
       "      <td>0.002397</td>\n",
       "      <td>2286.523413</td>\n",
       "      <td>0.035407</td>\n",
       "      <td>0.593081</td>\n",
       "      <td>1.010385</td>\n",
       "      <td>0.000362</td>\n",
       "      <td>11.649033</td>\n",
       "      <td>0.066671</td>\n",
       "      <td>225.632949</td>\n",
       "      <td>0.481860</td>\n",
       "      <td>20597.447822</td>\n",
       "      <td>3.723330</td>\n",
       "      <td>15.376190</td>\n",
       "      <td>0.986973</td>\n",
       "      <td>4.634376</td>\n",
       "      <td>Fail</td>\n",
       "    </tr>\n",
       "    <tr>\n",
       "      <th>2</th>\n",
       "      <td>0.098039</td>\n",
       "      <td>69.233685</td>\n",
       "      <td>0.080920</td>\n",
       "      <td>0.112265</td>\n",
       "      <td>0.000909</td>\n",
       "      <td>0.001972</td>\n",
       "      <td>2286.523413</td>\n",
       "      <td>0.035407</td>\n",
       "      <td>0.593081</td>\n",
       "      <td>1.010385</td>\n",
       "      <td>0.022201</td>\n",
       "      <td>0.078213</td>\n",
       "      <td>110.079689</td>\n",
       "      <td>2.208138</td>\n",
       "      <td>0.073525</td>\n",
       "      <td>236.079314</td>\n",
       "      <td>0.064196</td>\n",
       "      <td>0.576302</td>\n",
       "      <td>33.875790</td>\n",
       "      <td>1.813727</td>\n",
       "      <td>Fail</td>\n",
       "    </tr>\n",
       "    <tr>\n",
       "      <th>3</th>\n",
       "      <td>18.181860</td>\n",
       "      <td>0.047325</td>\n",
       "      <td>0.018061</td>\n",
       "      <td>1.098102</td>\n",
       "      <td>0.000909</td>\n",
       "      <td>0.002397</td>\n",
       "      <td>2286.523413</td>\n",
       "      <td>0.035407</td>\n",
       "      <td>0.593081</td>\n",
       "      <td>1.010385</td>\n",
       "      <td>1.459004</td>\n",
       "      <td>0.380281</td>\n",
       "      <td>0.011491</td>\n",
       "      <td>0.654517</td>\n",
       "      <td>0.025872</td>\n",
       "      <td>176.948915</td>\n",
       "      <td>0.029777</td>\n",
       "      <td>0.246726</td>\n",
       "      <td>27.117165</td>\n",
       "      <td>0.081819</td>\n",
       "      <td>Fail</td>\n",
       "    </tr>\n",
       "    <tr>\n",
       "      <th>4</th>\n",
       "      <td>0.012085</td>\n",
       "      <td>0.008749</td>\n",
       "      <td>0.005509</td>\n",
       "      <td>524.327396</td>\n",
       "      <td>0.000909</td>\n",
       "      <td>0.002397</td>\n",
       "      <td>2286.523413</td>\n",
       "      <td>0.035407</td>\n",
       "      <td>0.593081</td>\n",
       "      <td>1.010385</td>\n",
       "      <td>11.576647</td>\n",
       "      <td>1.555672</td>\n",
       "      <td>38.613386</td>\n",
       "      <td>0.260989</td>\n",
       "      <td>0.009380</td>\n",
       "      <td>194.798039</td>\n",
       "      <td>0.055053</td>\n",
       "      <td>0.014725</td>\n",
       "      <td>13.569707</td>\n",
       "      <td>18.138496</td>\n",
       "      <td>Fail</td>\n",
       "    </tr>\n",
       "  </tbody>\n",
       "</table>\n",
       "</div>"
      ],
      "text/plain": [
       "   Parameter1  Parameter2  Parameter3  Parameter4  Parameter5  Parameter6  \\\n",
       "0    0.001660    0.591013  147.608373   38.186345    0.000421    0.000612   \n",
       "1    1.601749    0.015052    0.035864   51.130326    0.000909    0.002397   \n",
       "2    0.098039   69.233685    0.080920    0.112265    0.000909    0.001972   \n",
       "3   18.181860    0.047325    0.018061    1.098102    0.000909    0.002397   \n",
       "4    0.012085    0.008749    0.005509  524.327396    0.000909    0.002397   \n",
       "\n",
       "    Parameter7  Parameter8  Parameter9  Parameter10  Attribute1  Attribute2  \\\n",
       "0  2286.523413    0.035407    0.593081     1.010385    6.856075    0.168761   \n",
       "1  2286.523413    0.035407    0.593081     1.010385    0.000362   11.649033   \n",
       "2  2286.523413    0.035407    0.593081     1.010385    0.022201    0.078213   \n",
       "3  2286.523413    0.035407    0.593081     1.010385    1.459004    0.380281   \n",
       "4  2286.523413    0.035407    0.593081     1.010385   11.576647    1.555672   \n",
       "\n",
       "   Attribute3  Attribute4  Attribute5    Attribute6  Attribute7  Attribute8  \\\n",
       "0    1.098755   36.955992    8.454598     11.438066  177.243120  338.729256   \n",
       "1    0.066671  225.632949    0.481860  20597.447822    3.723330   15.376190   \n",
       "2  110.079689    2.208138    0.073525    236.079314    0.064196    0.576302   \n",
       "3    0.011491    0.654517    0.025872    176.948915    0.029777    0.246726   \n",
       "4   38.613386    0.260989    0.009380    194.798039    0.055053    0.014725   \n",
       "\n",
       "   Attribute9  Attribute10 Quality_label  \n",
       "0    2.021704     0.079526          Pass  \n",
       "1    0.986973     4.634376          Fail  \n",
       "2   33.875790     1.813727          Fail  \n",
       "3   27.117165     0.081819          Fail  \n",
       "4   13.569707    18.138496          Fail  "
      ]
     },
     "execution_count": 4,
     "metadata": {},
     "output_type": "execute_result"
    }
   ],
   "source": [
    "train.head()"
   ]
  },
  {
   "cell_type": "code",
   "execution_count": 5,
   "metadata": {
    "ExecuteTime": {
     "end_time": "2019-08-27T02:50:16.766859Z",
     "start_time": "2019-08-27T02:50:16.736857Z"
    }
   },
   "outputs": [
    {
     "data": {
      "text/html": [
       "<div>\n",
       "<style scoped>\n",
       "    .dataframe tbody tr th:only-of-type {\n",
       "        vertical-align: middle;\n",
       "    }\n",
       "\n",
       "    .dataframe tbody tr th {\n",
       "        vertical-align: top;\n",
       "    }\n",
       "\n",
       "    .dataframe thead th {\n",
       "        text-align: right;\n",
       "    }\n",
       "</style>\n",
       "<table border=\"1\" class=\"dataframe\">\n",
       "  <thead>\n",
       "    <tr style=\"text-align: right;\">\n",
       "      <th></th>\n",
       "      <th>Group</th>\n",
       "      <th>Parameter1</th>\n",
       "      <th>Parameter10</th>\n",
       "      <th>Parameter2</th>\n",
       "      <th>Parameter3</th>\n",
       "      <th>Parameter4</th>\n",
       "      <th>Parameter5</th>\n",
       "      <th>Parameter6</th>\n",
       "      <th>Parameter7</th>\n",
       "      <th>Parameter8</th>\n",
       "      <th>Parameter9</th>\n",
       "    </tr>\n",
       "  </thead>\n",
       "  <tbody>\n",
       "    <tr>\n",
       "      <th>0</th>\n",
       "      <td>0</td>\n",
       "      <td>0.235279</td>\n",
       "      <td>0.195680</td>\n",
       "      <td>0.351488</td>\n",
       "      <td>0.186814</td>\n",
       "      <td>0.086456</td>\n",
       "      <td>1.434060</td>\n",
       "      <td>1.230409</td>\n",
       "      <td>0.038483</td>\n",
       "      <td>2.931083</td>\n",
       "      <td>2.005852</td>\n",
       "    </tr>\n",
       "    <tr>\n",
       "      <th>1</th>\n",
       "      <td>0</td>\n",
       "      <td>0.043799</td>\n",
       "      <td>0.523976</td>\n",
       "      <td>32.590688</td>\n",
       "      <td>0.886285</td>\n",
       "      <td>29.702490</td>\n",
       "      <td>0.027434</td>\n",
       "      <td>0.016852</td>\n",
       "      <td>0.600827</td>\n",
       "      <td>0.118077</td>\n",
       "      <td>887.611257</td>\n",
       "    </tr>\n",
       "    <tr>\n",
       "      <th>2</th>\n",
       "      <td>0</td>\n",
       "      <td>21.466737</td>\n",
       "      <td>0.523976</td>\n",
       "      <td>11.847792</td>\n",
       "      <td>79499.554454</td>\n",
       "      <td>13544.605343</td>\n",
       "      <td>0.027434</td>\n",
       "      <td>0.016852</td>\n",
       "      <td>0.600827</td>\n",
       "      <td>0.118077</td>\n",
       "      <td>887.611257</td>\n",
       "    </tr>\n",
       "    <tr>\n",
       "      <th>3</th>\n",
       "      <td>0</td>\n",
       "      <td>0.703795</td>\n",
       "      <td>0.010192</td>\n",
       "      <td>0.018080</td>\n",
       "      <td>317.015599</td>\n",
       "      <td>38.087562</td>\n",
       "      <td>0.428092</td>\n",
       "      <td>0.314162</td>\n",
       "      <td>0.038483</td>\n",
       "      <td>17.850021</td>\n",
       "      <td>0.051850</td>\n",
       "    </tr>\n",
       "    <tr>\n",
       "      <th>4</th>\n",
       "      <td>0</td>\n",
       "      <td>10.447960</td>\n",
       "      <td>0.010192</td>\n",
       "      <td>15.983891</td>\n",
       "      <td>0.996049</td>\n",
       "      <td>16.715690</td>\n",
       "      <td>0.477823</td>\n",
       "      <td>0.464037</td>\n",
       "      <td>0.038483</td>\n",
       "      <td>17.850021</td>\n",
       "      <td>0.051850</td>\n",
       "    </tr>\n",
       "    <tr>\n",
       "      <th>5995</th>\n",
       "      <td>119</td>\n",
       "      <td>765.876721</td>\n",
       "      <td>51.944717</td>\n",
       "      <td>0.053836</td>\n",
       "      <td>0.258969</td>\n",
       "      <td>0.125856</td>\n",
       "      <td>0.000218</td>\n",
       "      <td>0.000414</td>\n",
       "      <td>2286.523413</td>\n",
       "      <td>0.035407</td>\n",
       "      <td>0.593081</td>\n",
       "    </tr>\n",
       "    <tr>\n",
       "      <th>5996</th>\n",
       "      <td>119</td>\n",
       "      <td>0.071211</td>\n",
       "      <td>0.195680</td>\n",
       "      <td>0.924208</td>\n",
       "      <td>284.265495</td>\n",
       "      <td>15.668770</td>\n",
       "      <td>3.095123</td>\n",
       "      <td>1.817391</td>\n",
       "      <td>0.600827</td>\n",
       "      <td>17.850021</td>\n",
       "      <td>6.783967</td>\n",
       "    </tr>\n",
       "    <tr>\n",
       "      <th>5997</th>\n",
       "      <td>119</td>\n",
       "      <td>0.001922</td>\n",
       "      <td>0.073078</td>\n",
       "      <td>7.829744</td>\n",
       "      <td>16.138304</td>\n",
       "      <td>0.000376</td>\n",
       "      <td>0.741630</td>\n",
       "      <td>1.495371</td>\n",
       "      <td>0.600827</td>\n",
       "      <td>17.850021</td>\n",
       "      <td>0.051850</td>\n",
       "    </tr>\n",
       "    <tr>\n",
       "      <th>5998</th>\n",
       "      <td>119</td>\n",
       "      <td>0.000054</td>\n",
       "      <td>0.027291</td>\n",
       "      <td>0.672029</td>\n",
       "      <td>0.002134</td>\n",
       "      <td>0.149019</td>\n",
       "      <td>3.454681</td>\n",
       "      <td>3.262468</td>\n",
       "      <td>0.600827</td>\n",
       "      <td>17.850021</td>\n",
       "      <td>6.783967</td>\n",
       "    </tr>\n",
       "    <tr>\n",
       "      <th>5999</th>\n",
       "      <td>119</td>\n",
       "      <td>1.026527</td>\n",
       "      <td>0.073078</td>\n",
       "      <td>0.116152</td>\n",
       "      <td>2.923321</td>\n",
       "      <td>610.091923</td>\n",
       "      <td>1.031282</td>\n",
       "      <td>0.833011</td>\n",
       "      <td>0.038483</td>\n",
       "      <td>2.931083</td>\n",
       "      <td>2.005852</td>\n",
       "    </tr>\n",
       "  </tbody>\n",
       "</table>\n",
       "</div>"
      ],
      "text/plain": [
       "      Group  Parameter1  Parameter10  Parameter2    Parameter3    Parameter4  \\\n",
       "0         0    0.235279     0.195680    0.351488      0.186814      0.086456   \n",
       "1         0    0.043799     0.523976   32.590688      0.886285     29.702490   \n",
       "2         0   21.466737     0.523976   11.847792  79499.554454  13544.605343   \n",
       "3         0    0.703795     0.010192    0.018080    317.015599     38.087562   \n",
       "4         0   10.447960     0.010192   15.983891      0.996049     16.715690   \n",
       "5995    119  765.876721    51.944717    0.053836      0.258969      0.125856   \n",
       "5996    119    0.071211     0.195680    0.924208    284.265495     15.668770   \n",
       "5997    119    0.001922     0.073078    7.829744     16.138304      0.000376   \n",
       "5998    119    0.000054     0.027291    0.672029      0.002134      0.149019   \n",
       "5999    119    1.026527     0.073078    0.116152      2.923321    610.091923   \n",
       "\n",
       "      Parameter5  Parameter6   Parameter7  Parameter8  Parameter9  \n",
       "0       1.434060    1.230409     0.038483    2.931083    2.005852  \n",
       "1       0.027434    0.016852     0.600827    0.118077  887.611257  \n",
       "2       0.027434    0.016852     0.600827    0.118077  887.611257  \n",
       "3       0.428092    0.314162     0.038483   17.850021    0.051850  \n",
       "4       0.477823    0.464037     0.038483   17.850021    0.051850  \n",
       "5995    0.000218    0.000414  2286.523413    0.035407    0.593081  \n",
       "5996    3.095123    1.817391     0.600827   17.850021    6.783967  \n",
       "5997    0.741630    1.495371     0.600827   17.850021    0.051850  \n",
       "5998    3.454681    3.262468     0.600827   17.850021    6.783967  \n",
       "5999    1.031282    0.833011     0.038483    2.931083    2.005852  "
      ]
     },
     "execution_count": 5,
     "metadata": {},
     "output_type": "execute_result"
    }
   ],
   "source": [
    "test.head().append(test.tail())"
   ]
  },
  {
   "cell_type": "code",
   "execution_count": 6,
   "metadata": {
    "ExecuteTime": {
     "end_time": "2019-08-27T02:50:25.350350Z",
     "start_time": "2019-08-27T02:50:25.328349Z"
    }
   },
   "outputs": [
    {
     "data": {
      "text/html": [
       "<div>\n",
       "<style scoped>\n",
       "    .dataframe tbody tr th:only-of-type {\n",
       "        vertical-align: middle;\n",
       "    }\n",
       "\n",
       "    .dataframe tbody tr th {\n",
       "        vertical-align: top;\n",
       "    }\n",
       "\n",
       "    .dataframe thead th {\n",
       "        text-align: right;\n",
       "    }\n",
       "</style>\n",
       "<table border=\"1\" class=\"dataframe\">\n",
       "  <thead>\n",
       "    <tr style=\"text-align: right;\">\n",
       "      <th></th>\n",
       "      <th>Group</th>\n",
       "      <th>Excellent ratio</th>\n",
       "      <th>Good ratio</th>\n",
       "      <th>Pass ratio</th>\n",
       "      <th>Fail ratio</th>\n",
       "    </tr>\n",
       "  </thead>\n",
       "  <tbody>\n",
       "    <tr>\n",
       "      <th>0</th>\n",
       "      <td>0</td>\n",
       "      <td>0.4</td>\n",
       "      <td>0.2</td>\n",
       "      <td>0.2</td>\n",
       "      <td>0.2</td>\n",
       "    </tr>\n",
       "    <tr>\n",
       "      <th>1</th>\n",
       "      <td>1</td>\n",
       "      <td>0.4</td>\n",
       "      <td>0.2</td>\n",
       "      <td>0.2</td>\n",
       "      <td>0.2</td>\n",
       "    </tr>\n",
       "    <tr>\n",
       "      <th>2</th>\n",
       "      <td>2</td>\n",
       "      <td>0.4</td>\n",
       "      <td>0.2</td>\n",
       "      <td>0.2</td>\n",
       "      <td>0.2</td>\n",
       "    </tr>\n",
       "    <tr>\n",
       "      <th>3</th>\n",
       "      <td>3</td>\n",
       "      <td>0.4</td>\n",
       "      <td>0.2</td>\n",
       "      <td>0.2</td>\n",
       "      <td>0.2</td>\n",
       "    </tr>\n",
       "    <tr>\n",
       "      <th>4</th>\n",
       "      <td>4</td>\n",
       "      <td>0.4</td>\n",
       "      <td>0.2</td>\n",
       "      <td>0.2</td>\n",
       "      <td>0.2</td>\n",
       "    </tr>\n",
       "  </tbody>\n",
       "</table>\n",
       "</div>"
      ],
      "text/plain": [
       "   Group  Excellent ratio  Good ratio  Pass ratio  Fail ratio\n",
       "0      0              0.4         0.2         0.2         0.2\n",
       "1      1              0.4         0.2         0.2         0.2\n",
       "2      2              0.4         0.2         0.2         0.2\n",
       "3      3              0.4         0.2         0.2         0.2\n",
       "4      4              0.4         0.2         0.2         0.2"
      ]
     },
     "execution_count": 6,
     "metadata": {},
     "output_type": "execute_result"
    }
   ],
   "source": [
    "submit_example.head()"
   ]
  },
  {
   "cell_type": "code",
   "execution_count": 7,
   "metadata": {
    "ExecuteTime": {
     "end_time": "2019-08-27T02:50:27.405467Z",
     "start_time": "2019-08-27T02:50:27.363465Z"
    }
   },
   "outputs": [],
   "source": [
    "features = ['Parameter1', 'Parameter2', 'Parameter3', 'Parameter4', 'Parameter5',\n",
    "            'Parameter6', 'Parameter7', 'Parameter8', 'Parameter9', 'Parameter10',\n",
    "            'Attribute1', 'Attribute2', 'Attribute3', 'Attribute4', 'Attribute5',\n",
    "            'Attribute6', 'Attribute7', 'Attribute8', 'Attribute9', 'Attribute10']\n",
    "test_features = ['Parameter1', 'Parameter10', 'Parameter2', 'Parameter3',\n",
    "                 'Parameter4', 'Parameter5', 'Parameter6', 'Parameter7', \n",
    "                 'Parameter8', 'Parameter9']\n",
    "\n",
    "for feature in features:\n",
    "    train[feature] = np.log1p(train[feature]).astype(np.float32)\n",
    "    \n",
    "for feature in test_features:\n",
    "    test[feature] = np.log1p(test[feature]).astype(np.float32)"
   ]
  },
  {
   "cell_type": "code",
   "execution_count": 8,
   "metadata": {
    "ExecuteTime": {
     "end_time": "2019-08-27T02:50:29.017560Z",
     "start_time": "2019-08-27T02:50:28.973557Z"
    }
   },
   "outputs": [
    {
     "data": {
      "text/html": [
       "<div>\n",
       "<style scoped>\n",
       "    .dataframe tbody tr th:only-of-type {\n",
       "        vertical-align: middle;\n",
       "    }\n",
       "\n",
       "    .dataframe tbody tr th {\n",
       "        vertical-align: top;\n",
       "    }\n",
       "\n",
       "    .dataframe thead th {\n",
       "        text-align: right;\n",
       "    }\n",
       "</style>\n",
       "<table border=\"1\" class=\"dataframe\">\n",
       "  <thead>\n",
       "    <tr style=\"text-align: right;\">\n",
       "      <th></th>\n",
       "      <th>Parameter1</th>\n",
       "      <th>Parameter2</th>\n",
       "      <th>Parameter3</th>\n",
       "      <th>Parameter4</th>\n",
       "      <th>Parameter5</th>\n",
       "      <th>Parameter6</th>\n",
       "      <th>Parameter7</th>\n",
       "      <th>Parameter8</th>\n",
       "      <th>Parameter9</th>\n",
       "      <th>Parameter10</th>\n",
       "      <th>Attribute1</th>\n",
       "      <th>Attribute2</th>\n",
       "      <th>Attribute3</th>\n",
       "      <th>Attribute4</th>\n",
       "      <th>Attribute5</th>\n",
       "      <th>Attribute6</th>\n",
       "      <th>Attribute7</th>\n",
       "      <th>Attribute8</th>\n",
       "      <th>Attribute9</th>\n",
       "      <th>Attribute10</th>\n",
       "      <th>Quality_label</th>\n",
       "    </tr>\n",
       "  </thead>\n",
       "  <tbody>\n",
       "    <tr>\n",
       "      <th>0</th>\n",
       "      <td>0.001659</td>\n",
       "      <td>0.464371</td>\n",
       "      <td>5.001315</td>\n",
       "      <td>3.668328</td>\n",
       "      <td>0.000421</td>\n",
       "      <td>0.000612</td>\n",
       "      <td>7.735225</td>\n",
       "      <td>0.034795</td>\n",
       "      <td>0.46567</td>\n",
       "      <td>0.698326</td>\n",
       "      <td>2.061287</td>\n",
       "      <td>0.155944</td>\n",
       "      <td>0.741345</td>\n",
       "      <td>3.636427</td>\n",
       "      <td>2.246501</td>\n",
       "      <td>2.520762</td>\n",
       "      <td>5.183148</td>\n",
       "      <td>5.828149</td>\n",
       "      <td>1.105821</td>\n",
       "      <td>0.076522</td>\n",
       "      <td>Pass</td>\n",
       "    </tr>\n",
       "    <tr>\n",
       "      <th>1</th>\n",
       "      <td>0.956184</td>\n",
       "      <td>0.014940</td>\n",
       "      <td>0.035236</td>\n",
       "      <td>3.953747</td>\n",
       "      <td>0.000909</td>\n",
       "      <td>0.002394</td>\n",
       "      <td>7.735225</td>\n",
       "      <td>0.034795</td>\n",
       "      <td>0.46567</td>\n",
       "      <td>0.698326</td>\n",
       "      <td>0.000362</td>\n",
       "      <td>2.537581</td>\n",
       "      <td>0.064542</td>\n",
       "      <td>5.423332</td>\n",
       "      <td>0.393298</td>\n",
       "      <td>9.932971</td>\n",
       "      <td>1.552514</td>\n",
       "      <td>2.795829</td>\n",
       "      <td>0.686612</td>\n",
       "      <td>1.728886</td>\n",
       "      <td>Fail</td>\n",
       "    </tr>\n",
       "    <tr>\n",
       "      <th>2</th>\n",
       "      <td>0.093526</td>\n",
       "      <td>4.251828</td>\n",
       "      <td>0.077813</td>\n",
       "      <td>0.106399</td>\n",
       "      <td>0.000909</td>\n",
       "      <td>0.001970</td>\n",
       "      <td>7.735225</td>\n",
       "      <td>0.034795</td>\n",
       "      <td>0.46567</td>\n",
       "      <td>0.698326</td>\n",
       "      <td>0.021958</td>\n",
       "      <td>0.075305</td>\n",
       "      <td>4.710248</td>\n",
       "      <td>1.165691</td>\n",
       "      <td>0.070947</td>\n",
       "      <td>5.468395</td>\n",
       "      <td>0.062219</td>\n",
       "      <td>0.455081</td>\n",
       "      <td>3.551793</td>\n",
       "      <td>1.034510</td>\n",
       "      <td>Fail</td>\n",
       "    </tr>\n",
       "    <tr>\n",
       "      <th>3</th>\n",
       "      <td>2.953965</td>\n",
       "      <td>0.046239</td>\n",
       "      <td>0.017900</td>\n",
       "      <td>0.741033</td>\n",
       "      <td>0.000909</td>\n",
       "      <td>0.002394</td>\n",
       "      <td>7.735225</td>\n",
       "      <td>0.034795</td>\n",
       "      <td>0.46567</td>\n",
       "      <td>0.698326</td>\n",
       "      <td>0.899756</td>\n",
       "      <td>0.322287</td>\n",
       "      <td>0.011426</td>\n",
       "      <td>0.503509</td>\n",
       "      <td>0.025543</td>\n",
       "      <td>5.181497</td>\n",
       "      <td>0.029342</td>\n",
       "      <td>0.220521</td>\n",
       "      <td>3.336380</td>\n",
       "      <td>0.078644</td>\n",
       "      <td>Fail</td>\n",
       "    </tr>\n",
       "    <tr>\n",
       "      <th>4</th>\n",
       "      <td>0.012013</td>\n",
       "      <td>0.008711</td>\n",
       "      <td>0.005493</td>\n",
       "      <td>6.264022</td>\n",
       "      <td>0.000909</td>\n",
       "      <td>0.002394</td>\n",
       "      <td>7.735225</td>\n",
       "      <td>0.034795</td>\n",
       "      <td>0.46567</td>\n",
       "      <td>0.698326</td>\n",
       "      <td>2.531842</td>\n",
       "      <td>0.938315</td>\n",
       "      <td>3.679167</td>\n",
       "      <td>0.231896</td>\n",
       "      <td>0.009336</td>\n",
       "      <td>5.277084</td>\n",
       "      <td>0.053591</td>\n",
       "      <td>0.014618</td>\n",
       "      <td>2.678945</td>\n",
       "      <td>2.951702</td>\n",
       "      <td>Fail</td>\n",
       "    </tr>\n",
       "  </tbody>\n",
       "</table>\n",
       "</div>"
      ],
      "text/plain": [
       "   Parameter1  Parameter2  Parameter3  Parameter4  Parameter5  Parameter6  \\\n",
       "0    0.001659    0.464371    5.001315    3.668328    0.000421    0.000612   \n",
       "1    0.956184    0.014940    0.035236    3.953747    0.000909    0.002394   \n",
       "2    0.093526    4.251828    0.077813    0.106399    0.000909    0.001970   \n",
       "3    2.953965    0.046239    0.017900    0.741033    0.000909    0.002394   \n",
       "4    0.012013    0.008711    0.005493    6.264022    0.000909    0.002394   \n",
       "\n",
       "   Parameter7  Parameter8  Parameter9  Parameter10  Attribute1  Attribute2  \\\n",
       "0    7.735225    0.034795     0.46567     0.698326    2.061287    0.155944   \n",
       "1    7.735225    0.034795     0.46567     0.698326    0.000362    2.537581   \n",
       "2    7.735225    0.034795     0.46567     0.698326    0.021958    0.075305   \n",
       "3    7.735225    0.034795     0.46567     0.698326    0.899756    0.322287   \n",
       "4    7.735225    0.034795     0.46567     0.698326    2.531842    0.938315   \n",
       "\n",
       "   Attribute3  Attribute4  Attribute5  Attribute6  Attribute7  Attribute8  \\\n",
       "0    0.741345    3.636427    2.246501    2.520762    5.183148    5.828149   \n",
       "1    0.064542    5.423332    0.393298    9.932971    1.552514    2.795829   \n",
       "2    4.710248    1.165691    0.070947    5.468395    0.062219    0.455081   \n",
       "3    0.011426    0.503509    0.025543    5.181497    0.029342    0.220521   \n",
       "4    3.679167    0.231896    0.009336    5.277084    0.053591    0.014618   \n",
       "\n",
       "   Attribute9  Attribute10 Quality_label  \n",
       "0    1.105821     0.076522          Pass  \n",
       "1    0.686612     1.728886          Fail  \n",
       "2    3.551793     1.034510          Fail  \n",
       "3    3.336380     0.078644          Fail  \n",
       "4    2.678945     2.951702          Fail  "
      ]
     },
     "execution_count": 8,
     "metadata": {},
     "output_type": "execute_result"
    }
   ],
   "source": [
    "train.head()"
   ]
  },
  {
   "cell_type": "code",
   "execution_count": null,
   "metadata": {
    "ExecuteTime": {
     "end_time": "2019-08-26T06:20:48.718832Z",
     "start_time": "2019-08-26T06:20:11.744717Z"
    }
   },
   "outputs": [],
   "source": [
    "pfr = ppf.ProfileReport(train)\n",
    "pfr.to_file('train_EDA.html')"
   ]
  },
  {
   "cell_type": "markdown",
   "metadata": {},
   "source": [
    "### 异常点观察"
   ]
  },
  {
   "cell_type": "code",
   "execution_count": 9,
   "metadata": {
    "ExecuteTime": {
     "end_time": "2019-08-27T02:50:33.283804Z",
     "start_time": "2019-08-27T02:50:32.962785Z"
    }
   },
   "outputs": [
    {
     "data": {
      "text/plain": [
       "<matplotlib.collections.PathCollection at 0x3d4ec780>"
      ]
     },
     "execution_count": 9,
     "metadata": {},
     "output_type": "execute_result"
    },
    {
     "data": {
      "image/png": "[encoded data removed]",
      "text/plain": [
       "<Figure size 432x288 with 1 Axes>"
      ]
     },
     "metadata": {
      "needs_background": "light"
     },
     "output_type": "display_data"
    }
   ],
   "source": [
    "plt.scatter(train.Quality_label, train.Parameter1)\n",
    "# 剔除train.Parameter1>12的数据"
   ]
  },
  {
   "cell_type": "code",
   "execution_count": 10,
   "metadata": {
    "ExecuteTime": {
     "end_time": "2019-08-27T02:50:35.345922Z",
     "start_time": "2019-08-27T02:50:35.336921Z"
    }
   },
   "outputs": [],
   "source": [
    "train = train[train.Parameter1<=12]"
   ]
  },
  {
   "cell_type": "code",
   "execution_count": 14,
   "metadata": {
    "ExecuteTime": {
     "end_time": "2019-08-27T02:50:48.212658Z",
     "start_time": "2019-08-27T02:50:47.961643Z"
    }
   },
   "outputs": [
    {
     "data": {
      "text/plain": [
       "<matplotlib.collections.PathCollection at 0x3d6590b8>"
      ]
     },
     "execution_count": 14,
     "metadata": {},
     "output_type": "execute_result"
    },
    {
     "data": {
      "image/png": "[encoded data removed]",
      "text/plain": [
       "<Figure size 432x288 with 1 Axes>"
      ]
     },
     "metadata": {
      "needs_background": "light"
     },
     "output_type": "display_data"
    }
   ],
   "source": [
    "plt.scatter(train.Quality_label, train.Parameter2)\n",
    "# 剔除train.Parameter2>14的数据"
   ]
  },
  {
   "cell_type": "code",
   "execution_count": 12,
   "metadata": {
    "ExecuteTime": {
     "end_time": "2019-08-27T02:50:40.348208Z",
     "start_time": "2019-08-27T02:50:40.339207Z"
    }
   },
   "outputs": [],
   "source": [
    "train = train[train.Parameter2<=14]"
   ]
  },
  {
   "cell_type": "code",
   "execution_count": 17,
   "metadata": {
    "ExecuteTime": {
     "end_time": "2019-08-27T02:51:05.783663Z",
     "start_time": "2019-08-27T02:51:05.537648Z"
    }
   },
   "outputs": [
    {
     "data": {
      "text/plain": [
       "<matplotlib.collections.PathCollection at 0x3d90d278>"
      ]
     },
     "execution_count": 17,
     "metadata": {},
     "output_type": "execute_result"
    },
    {
     "data": {
      "image/png": "[encoded data removed]",
      "text/plain": [
       "<Figure size 432x288 with 1 Axes>"
      ]
     },
     "metadata": {
      "needs_background": "light"
     },
     "output_type": "display_data"
    }
   ],
   "source": [
    "plt.scatter(train.Quality_label, train.Parameter3)\n",
    "# 剔除train.Parameter3>12的数据"
   ]
  },
  {
   "cell_type": "code",
   "execution_count": 16,
   "metadata": {
    "ExecuteTime": {
     "end_time": "2019-08-27T02:51:03.197515Z",
     "start_time": "2019-08-27T02:51:03.192514Z"
    }
   },
   "outputs": [],
   "source": [
    "train = train[train.Parameter3<=12]"
   ]
  },
  {
   "cell_type": "code",
   "execution_count": 18,
   "metadata": {
    "ExecuteTime": {
     "end_time": "2019-08-27T02:51:10.592938Z",
     "start_time": "2019-08-27T02:51:10.322922Z"
    }
   },
   "outputs": [
    {
     "data": {
      "text/plain": [
       "<matplotlib.collections.PathCollection at 0x3d5b6128>"
      ]
     },
     "execution_count": 18,
     "metadata": {},
     "output_type": "execute_result"
    },
    {
     "data": {
      "image/png": "[encoded data removed]",
      "text/plain": [
       "<Figure size 432x288 with 1 Axes>"
      ]
     },
     "metadata": {
      "needs_background": "light"
     },
     "output_type": "display_data"
    }
   ],
   "source": [
    "plt.scatter(train.Quality_label, train.Parameter4)"
   ]
  },
  {
   "cell_type": "code",
   "execution_count": 21,
   "metadata": {
    "ExecuteTime": {
     "end_time": "2019-08-27T02:51:24.616740Z",
     "start_time": "2019-08-27T02:51:24.353725Z"
    }
   },
   "outputs": [
    {
     "data": {
      "text/plain": [
       "<matplotlib.collections.PathCollection at 0x3ebd74e0>"
      ]
     },
     "execution_count": 21,
     "metadata": {},
     "output_type": "execute_result"
    },
    {
     "data": {
      "image/png": "[encoded data removed]",
      "text/plain": [
       "<Figure size 432x288 with 1 Axes>"
      ]
     },
     "metadata": {
      "needs_background": "light"
     },
     "output_type": "display_data"
    }
   ],
   "source": [
    "plt.scatter(train.Quality_label, train.Parameter5)\n",
    "# 剔除train.Parameter5>4的数据"
   ]
  },
  {
   "cell_type": "code",
   "execution_count": 20,
   "metadata": {
    "ExecuteTime": {
     "end_time": "2019-08-27T02:51:21.961588Z",
     "start_time": "2019-08-27T02:51:21.954587Z"
    }
   },
   "outputs": [],
   "source": [
    "train = train[train.Parameter5<=4]"
   ]
  },
  {
   "cell_type": "code",
   "execution_count": 22,
   "metadata": {
    "ExecuteTime": {
     "end_time": "2019-08-27T02:51:28.067937Z",
     "start_time": "2019-08-27T02:51:27.811923Z"
    }
   },
   "outputs": [
    {
     "data": {
      "text/plain": [
       "<matplotlib.collections.PathCollection at 0x3ec41ba8>"
      ]
     },
     "execution_count": 22,
     "metadata": {},
     "output_type": "execute_result"
    },
    {
     "data": {
      "image/png": "[encoded data removed]",
      "text/plain": [
       "<Figure size 432x288 with 1 Axes>"
      ]
     },
     "metadata": {
      "needs_background": "light"
     },
     "output_type": "display_data"
    }
   ],
   "source": [
    "plt.scatter(train.Quality_label, train.Parameter6)"
   ]
  },
  {
   "cell_type": "code",
   "execution_count": 23,
   "metadata": {
    "ExecuteTime": {
     "end_time": "2019-08-27T02:51:31.907157Z",
     "start_time": "2019-08-27T02:51:31.642142Z"
    }
   },
   "outputs": [
    {
     "data": {
      "text/plain": [
       "<matplotlib.collections.PathCollection at 0x3eca58d0>"
      ]
     },
     "execution_count": 23,
     "metadata": {},
     "output_type": "execute_result"
    },
    {
     "data": {
      "image/png": "[encoded data removed]",
      "text/plain": [
       "<Figure size 432x288 with 1 Axes>"
      ]
     },
     "metadata": {
      "needs_background": "light"
     },
     "output_type": "display_data"
    }
   ],
   "source": [
    "plt.scatter(train.Quality_label, train.Parameter7)"
   ]
  },
  {
   "cell_type": "code",
   "execution_count": 24,
   "metadata": {
    "ExecuteTime": {
     "end_time": "2019-08-27T02:51:34.311294Z",
     "start_time": "2019-08-27T02:51:34.049279Z"
    }
   },
   "outputs": [
    {
     "data": {
      "text/plain": [
       "<matplotlib.collections.PathCollection at 0x3ed29668>"
      ]
     },
     "execution_count": 24,
     "metadata": {},
     "output_type": "execute_result"
    },
    {
     "data": {
      "image/png": "[encoded data removed]",
      "text/plain": [
       "<Figure size 432x288 with 1 Axes>"
      ]
     },
     "metadata": {
      "needs_background": "light"
     },
     "output_type": "display_data"
    }
   ],
   "source": [
    "plt.scatter(train.Quality_label, train.Parameter8)\n",
    "# 剔除train.Parameter8>8的数据"
   ]
  },
  {
   "cell_type": "code",
   "execution_count": 25,
   "metadata": {
    "ExecuteTime": {
     "end_time": "2019-08-27T02:51:38.594539Z",
     "start_time": "2019-08-27T02:51:38.586539Z"
    }
   },
   "outputs": [],
   "source": [
    "train = train[train.Parameter8<=8]"
   ]
  },
  {
   "cell_type": "code",
   "execution_count": 26,
   "metadata": {
    "ExecuteTime": {
     "end_time": "2019-08-27T02:51:40.455646Z",
     "start_time": "2019-08-27T02:51:40.210632Z"
    }
   },
   "outputs": [
    {
     "data": {
      "text/plain": [
       "<matplotlib.collections.PathCollection at 0x3ecd49e8>"
      ]
     },
     "execution_count": 26,
     "metadata": {},
     "output_type": "execute_result"
    },
    {
     "data": {
      "image/png": "[encoded data removed]",
      "text/plain": [
       "<Figure size 432x288 with 1 Axes>"
      ]
     },
     "metadata": {
      "needs_background": "light"
     },
     "output_type": "display_data"
    }
   ],
   "source": [
    "plt.scatter(train.Quality_label, train.Parameter9)\n",
    "# 剔除train.Parameter9>12的数据"
   ]
  },
  {
   "cell_type": "code",
   "execution_count": 27,
   "metadata": {
    "ExecuteTime": {
     "end_time": "2019-08-27T02:51:41.990733Z",
     "start_time": "2019-08-27T02:51:41.981733Z"
    }
   },
   "outputs": [],
   "source": [
    "train = train[train.Parameter9<=12]"
   ]
  },
  {
   "cell_type": "code",
   "execution_count": 28,
   "metadata": {
    "ExecuteTime": {
     "end_time": "2019-08-27T02:51:44.044851Z",
     "start_time": "2019-08-27T02:51:43.796837Z"
    }
   },
   "outputs": [
    {
     "data": {
      "text/plain": [
       "<matplotlib.collections.PathCollection at 0x3edf1400>"
      ]
     },
     "execution_count": 28,
     "metadata": {},
     "output_type": "execute_result"
    },
    {
     "data": {
      "image/png": "[encoded data removed]",
      "text/plain": [
       "<Figure size 432x288 with 1 Axes>"
      ]
     },
     "metadata": {
      "needs_background": "light"
     },
     "output_type": "display_data"
    }
   ],
   "source": [
    "plt.scatter(train.Quality_label, train.Parameter10)"
   ]
  },
  {
   "cell_type": "code",
   "execution_count": null,
   "metadata": {
    "ExecuteTime": {
     "end_time": "2019-08-26T06:31:11.237438Z",
     "start_time": "2019-08-26T06:31:10.943421Z"
    }
   },
   "outputs": [],
   "source": [
    "plt.scatter(train.Quality_label, train.Attribute1)\n",
    "# 剔除train.Attribute1>17的数据"
   ]
  },
  {
   "cell_type": "code",
   "execution_count": null,
   "metadata": {
    "ExecuteTime": {
     "end_time": "2019-08-26T06:31:49.338617Z",
     "start_time": "2019-08-26T06:31:49.062601Z"
    }
   },
   "outputs": [],
   "source": [
    "plt.scatter(train.Quality_label, train.Attribute2)\n",
    "# 剔除train.Attribute2>17的数据"
   ]
  },
  {
   "cell_type": "code",
   "execution_count": null,
   "metadata": {
    "ExecuteTime": {
     "end_time": "2019-08-26T06:31:58.668151Z",
     "start_time": "2019-08-26T06:31:58.406136Z"
    },
    "scrolled": false
   },
   "outputs": [],
   "source": [
    "plt.scatter(train.Quality_label, train.Attribute3)\n",
    "# 剔除train.Attribute3>11的数据"
   ]
  },
  {
   "cell_type": "code",
   "execution_count": null,
   "metadata": {
    "ExecuteTime": {
     "end_time": "2019-08-26T06:32:16.237156Z",
     "start_time": "2019-08-26T06:32:15.974141Z"
    }
   },
   "outputs": [],
   "source": [
    "plt.scatter(train.Quality_label, train.Attribute4)\n",
    "# 剔除train.Attribute4>15的数据"
   ]
  },
  {
   "cell_type": "code",
   "execution_count": null,
   "metadata": {
    "ExecuteTime": {
     "end_time": "2019-08-26T06:32:28.783873Z",
     "start_time": "2019-08-26T06:32:28.526859Z"
    }
   },
   "outputs": [],
   "source": [
    "plt.scatter(train.Quality_label, train.Attribute5)\n",
    "# 剔除train.Attribute5>20的数据"
   ]
  },
  {
   "cell_type": "code",
   "execution_count": null,
   "metadata": {
    "ExecuteTime": {
     "end_time": "2019-08-26T06:32:40.123522Z",
     "start_time": "2019-08-26T06:32:39.867507Z"
    }
   },
   "outputs": [],
   "source": [
    "plt.scatter(train.Quality_label, train.Attribute6)\n",
    "# 剔除train.Attribute6>15的数据"
   ]
  },
  {
   "cell_type": "code",
   "execution_count": null,
   "metadata": {
    "ExecuteTime": {
     "end_time": "2019-08-26T06:32:53.917311Z",
     "start_time": "2019-08-26T06:32:53.661296Z"
    }
   },
   "outputs": [],
   "source": [
    "plt.scatter(train.Quality_label, train.Attribute7)\n",
    "# 剔除train.Attribute7>17的数据"
   ]
  },
  {
   "cell_type": "code",
   "execution_count": null,
   "metadata": {
    "ExecuteTime": {
     "end_time": "2019-08-26T06:33:09.971229Z",
     "start_time": "2019-08-26T06:33:09.718215Z"
    }
   },
   "outputs": [],
   "source": [
    "plt.scatter(train.Quality_label, train.Attribute8)\n",
    "# 剔除train.Attribute8>20的数据"
   ]
  },
  {
   "cell_type": "code",
   "execution_count": null,
   "metadata": {
    "ExecuteTime": {
     "end_time": "2019-08-26T06:33:21.820907Z",
     "start_time": "2019-08-26T06:33:21.557892Z"
    }
   },
   "outputs": [],
   "source": [
    "plt.scatter(train.Quality_label, train.Attribute9)\n",
    "# 剔除train.Attribute9>20的数据"
   ]
  },
  {
   "cell_type": "code",
   "execution_count": null,
   "metadata": {
    "ExecuteTime": {
     "end_time": "2019-08-26T06:33:34.671642Z",
     "start_time": "2019-08-26T06:33:34.398626Z"
    }
   },
   "outputs": [],
   "source": [
    "plt.scatter(train.Quality_label, train.Attribute10)\n",
    "# 剔除train.Attribute10>20的数据"
   ]
  },
  {
   "cell_type": "markdown",
   "metadata": {},
   "source": [
    "### 构建训练数据集"
   ]
  },
  {
   "cell_type": "code",
   "execution_count": 50,
   "metadata": {
    "ExecuteTime": {
     "end_time": "2019-08-27T03:34:52.272889Z",
     "start_time": "2019-08-27T03:34:52.258888Z"
    }
   },
   "outputs": [
    {
     "name": "stdout",
     "output_type": "stream",
     "text": [
      "shape of trainX: (5986, 10)\n",
      "shape of trainY: (5986,)\n",
      "shape of test: (6000, 10)\n"
     ]
    }
   ],
   "source": [
    "test_features = ['Parameter1', 'Parameter10', 'Parameter2', 'Parameter3',\n",
    "                 'Parameter4', 'Parameter5', 'Parameter6', 'Parameter7', \n",
    "                 'Parameter8', 'Parameter9']\n",
    "trainX = train[test_features]\n",
    "trainY = train.Quality_label\n",
    "testX = test[test_features]\n",
    "\n",
    "print('shape of trainX:', trainX.shape)\n",
    "print('shape of trainY:', trainY.shape)\n",
    "print('shape of test:', testX.shape)"
   ]
  },
  {
   "cell_type": "markdown",
   "metadata": {},
   "source": [
    "#### 数据预处理"
   ]
  },
  {
   "cell_type": "code",
   "execution_count": 51,
   "metadata": {
    "ExecuteTime": {
     "end_time": "2019-08-27T03:34:55.060049Z",
     "start_time": "2019-08-27T03:34:55.034047Z"
    }
   },
   "outputs": [
    {
     "data": {
      "text/plain": [
       "array([[1.00000000e+00, 1.65874418e-03, 6.98326230e-01, ...,\n",
       "        1.21067474e-03, 1.62028726e-02, 2.16848567e-01],\n",
       "       [1.00000000e+00, 9.56183910e-01, 6.98326230e-01, ...,\n",
       "        1.21067474e-03, 1.62028726e-02, 2.16848567e-01],\n",
       "       [1.00000000e+00, 9.35256481e-02, 6.98326230e-01, ...,\n",
       "        1.21067474e-03, 1.62028726e-02, 2.16848567e-01],\n",
       "       ...,\n",
       "       [1.00000000e+00, 3.36758733e-01, 1.08123910e+00, ...,\n",
       "        1.21067474e-03, 1.62028726e-02, 2.16848567e-01],\n",
       "       [1.00000000e+00, 1.25352100e-01, 1.08123910e+00, ...,\n",
       "        1.21067474e-03, 1.62028726e-02, 2.16848567e-01],\n",
       "       [1.00000000e+00, 3.69307256e+00, 1.08123910e+00, ...,\n",
       "        1.21067474e-03, 1.62028726e-02, 2.16848567e-01]])"
      ]
     },
     "execution_count": 51,
     "metadata": {},
     "output_type": "execute_result"
    }
   ],
   "source": [
    "trainX = PolynomialFeatures().fit_transform(trainX)\n",
    "trainX"
   ]
  },
  {
   "cell_type": "code",
   "execution_count": 53,
   "metadata": {
    "ExecuteTime": {
     "end_time": "2019-08-27T03:35:27.615911Z",
     "start_time": "2019-08-27T03:35:27.558907Z"
    }
   },
   "outputs": [
    {
     "data": {
      "text/html": [
       "<div>\n",
       "<style scoped>\n",
       "    .dataframe tbody tr th:only-of-type {\n",
       "        vertical-align: middle;\n",
       "    }\n",
       "\n",
       "    .dataframe tbody tr th {\n",
       "        vertical-align: top;\n",
       "    }\n",
       "\n",
       "    .dataframe thead th {\n",
       "        text-align: right;\n",
       "    }\n",
       "</style>\n",
       "<table border=\"1\" class=\"dataframe\">\n",
       "  <thead>\n",
       "    <tr style=\"text-align: right;\">\n",
       "      <th></th>\n",
       "      <th>0</th>\n",
       "      <th>1</th>\n",
       "      <th>2</th>\n",
       "      <th>3</th>\n",
       "      <th>4</th>\n",
       "      <th>5</th>\n",
       "      <th>6</th>\n",
       "      <th>7</th>\n",
       "      <th>8</th>\n",
       "      <th>9</th>\n",
       "      <th>10</th>\n",
       "      <th>11</th>\n",
       "      <th>12</th>\n",
       "      <th>13</th>\n",
       "      <th>14</th>\n",
       "      <th>15</th>\n",
       "      <th>16</th>\n",
       "      <th>17</th>\n",
       "      <th>18</th>\n",
       "      <th>19</th>\n",
       "      <th>20</th>\n",
       "      <th>21</th>\n",
       "      <th>22</th>\n",
       "      <th>23</th>\n",
       "      <th>24</th>\n",
       "      <th>...</th>\n",
       "      <th>41</th>\n",
       "      <th>42</th>\n",
       "      <th>43</th>\n",
       "      <th>44</th>\n",
       "      <th>45</th>\n",
       "      <th>46</th>\n",
       "      <th>47</th>\n",
       "      <th>48</th>\n",
       "      <th>49</th>\n",
       "      <th>50</th>\n",
       "      <th>51</th>\n",
       "      <th>52</th>\n",
       "      <th>53</th>\n",
       "      <th>54</th>\n",
       "      <th>55</th>\n",
       "      <th>56</th>\n",
       "      <th>57</th>\n",
       "      <th>58</th>\n",
       "      <th>59</th>\n",
       "      <th>60</th>\n",
       "      <th>61</th>\n",
       "      <th>62</th>\n",
       "      <th>63</th>\n",
       "      <th>64</th>\n",
       "      <th>65</th>\n",
       "    </tr>\n",
       "  </thead>\n",
       "  <tbody>\n",
       "    <tr>\n",
       "      <th>0</th>\n",
       "      <td>1.0</td>\n",
       "      <td>0.001659</td>\n",
       "      <td>0.698326</td>\n",
       "      <td>0.464371</td>\n",
       "      <td>5.001315</td>\n",
       "      <td>3.668328</td>\n",
       "      <td>0.000421</td>\n",
       "      <td>0.000612</td>\n",
       "      <td>7.735225</td>\n",
       "      <td>0.034795</td>\n",
       "      <td>0.46567</td>\n",
       "      <td>0.000003</td>\n",
       "      <td>0.001158</td>\n",
       "      <td>0.000770</td>\n",
       "      <td>0.008296</td>\n",
       "      <td>0.006085</td>\n",
       "      <td>6.986032e-07</td>\n",
       "      <td>0.000001</td>\n",
       "      <td>0.012831</td>\n",
       "      <td>0.000058</td>\n",
       "      <td>0.000772</td>\n",
       "      <td>0.48766</td>\n",
       "      <td>0.324282</td>\n",
       "      <td>3.492549</td>\n",
       "      <td>2.561690</td>\n",
       "      <td>...</td>\n",
       "      <td>0.003060</td>\n",
       "      <td>38.686295</td>\n",
       "      <td>0.174020</td>\n",
       "      <td>2.328962</td>\n",
       "      <td>13.456632</td>\n",
       "      <td>0.001545</td>\n",
       "      <td>0.002244</td>\n",
       "      <td>28.375345</td>\n",
       "      <td>0.127639</td>\n",
       "      <td>1.708231</td>\n",
       "      <td>1.773790e-07</td>\n",
       "      <td>2.576873e-07</td>\n",
       "      <td>0.003258</td>\n",
       "      <td>0.000015</td>\n",
       "      <td>0.000196</td>\n",
       "      <td>3.743550e-07</td>\n",
       "      <td>0.004733</td>\n",
       "      <td>0.000021</td>\n",
       "      <td>0.000285</td>\n",
       "      <td>59.833709</td>\n",
       "      <td>0.269145</td>\n",
       "      <td>3.602062</td>\n",
       "      <td>0.001211</td>\n",
       "      <td>0.016203</td>\n",
       "      <td>0.216849</td>\n",
       "    </tr>\n",
       "    <tr>\n",
       "      <th>1</th>\n",
       "      <td>1.0</td>\n",
       "      <td>0.956184</td>\n",
       "      <td>0.698326</td>\n",
       "      <td>0.014940</td>\n",
       "      <td>0.035236</td>\n",
       "      <td>3.953747</td>\n",
       "      <td>0.000909</td>\n",
       "      <td>0.002394</td>\n",
       "      <td>7.735225</td>\n",
       "      <td>0.034795</td>\n",
       "      <td>0.46567</td>\n",
       "      <td>0.914288</td>\n",
       "      <td>0.667728</td>\n",
       "      <td>0.014285</td>\n",
       "      <td>0.033692</td>\n",
       "      <td>3.780509</td>\n",
       "      <td>8.689547e-04</td>\n",
       "      <td>0.002289</td>\n",
       "      <td>7.396298</td>\n",
       "      <td>0.033270</td>\n",
       "      <td>0.445266</td>\n",
       "      <td>0.48766</td>\n",
       "      <td>0.010433</td>\n",
       "      <td>0.024606</td>\n",
       "      <td>2.761005</td>\n",
       "      <td>...</td>\n",
       "      <td>0.000084</td>\n",
       "      <td>0.272561</td>\n",
       "      <td>0.001226</td>\n",
       "      <td>0.016408</td>\n",
       "      <td>15.632114</td>\n",
       "      <td>0.003593</td>\n",
       "      <td>0.009466</td>\n",
       "      <td>30.583122</td>\n",
       "      <td>0.137570</td>\n",
       "      <td>1.841141</td>\n",
       "      <td>8.258695e-07</td>\n",
       "      <td>2.175735e-06</td>\n",
       "      <td>0.007030</td>\n",
       "      <td>0.000032</td>\n",
       "      <td>0.000423</td>\n",
       "      <td>5.731924e-06</td>\n",
       "      <td>0.018519</td>\n",
       "      <td>0.000083</td>\n",
       "      <td>0.001115</td>\n",
       "      <td>59.833709</td>\n",
       "      <td>0.269145</td>\n",
       "      <td>3.602062</td>\n",
       "      <td>0.001211</td>\n",
       "      <td>0.016203</td>\n",
       "      <td>0.216849</td>\n",
       "    </tr>\n",
       "    <tr>\n",
       "      <th>2</th>\n",
       "      <td>1.0</td>\n",
       "      <td>0.093526</td>\n",
       "      <td>0.698326</td>\n",
       "      <td>4.251828</td>\n",
       "      <td>0.077813</td>\n",
       "      <td>0.106399</td>\n",
       "      <td>0.000909</td>\n",
       "      <td>0.001970</td>\n",
       "      <td>7.735225</td>\n",
       "      <td>0.034795</td>\n",
       "      <td>0.46567</td>\n",
       "      <td>0.008747</td>\n",
       "      <td>0.065311</td>\n",
       "      <td>0.397655</td>\n",
       "      <td>0.007277</td>\n",
       "      <td>0.009951</td>\n",
       "      <td>8.499364e-05</td>\n",
       "      <td>0.000184</td>\n",
       "      <td>0.723442</td>\n",
       "      <td>0.003254</td>\n",
       "      <td>0.043552</td>\n",
       "      <td>0.48766</td>\n",
       "      <td>2.969163</td>\n",
       "      <td>0.054339</td>\n",
       "      <td>0.074301</td>\n",
       "      <td>...</td>\n",
       "      <td>0.000153</td>\n",
       "      <td>0.601899</td>\n",
       "      <td>0.002707</td>\n",
       "      <td>0.036235</td>\n",
       "      <td>0.011321</td>\n",
       "      <td>0.000097</td>\n",
       "      <td>0.000210</td>\n",
       "      <td>0.823018</td>\n",
       "      <td>0.003702</td>\n",
       "      <td>0.049547</td>\n",
       "      <td>8.258695e-07</td>\n",
       "      <td>1.790600e-06</td>\n",
       "      <td>0.007030</td>\n",
       "      <td>0.000032</td>\n",
       "      <td>0.000423</td>\n",
       "      <td>3.882271e-06</td>\n",
       "      <td>0.015241</td>\n",
       "      <td>0.000069</td>\n",
       "      <td>0.000918</td>\n",
       "      <td>59.833709</td>\n",
       "      <td>0.269145</td>\n",
       "      <td>3.602062</td>\n",
       "      <td>0.001211</td>\n",
       "      <td>0.016203</td>\n",
       "      <td>0.216849</td>\n",
       "    </tr>\n",
       "    <tr>\n",
       "      <th>3</th>\n",
       "      <td>1.0</td>\n",
       "      <td>2.953965</td>\n",
       "      <td>0.698326</td>\n",
       "      <td>0.046239</td>\n",
       "      <td>0.017900</td>\n",
       "      <td>0.741033</td>\n",
       "      <td>0.000909</td>\n",
       "      <td>0.002394</td>\n",
       "      <td>7.735225</td>\n",
       "      <td>0.034795</td>\n",
       "      <td>0.46567</td>\n",
       "      <td>8.725909</td>\n",
       "      <td>2.062831</td>\n",
       "      <td>0.136589</td>\n",
       "      <td>0.052876</td>\n",
       "      <td>2.188986</td>\n",
       "      <td>2.684485e-03</td>\n",
       "      <td>0.007072</td>\n",
       "      <td>22.849584</td>\n",
       "      <td>0.102782</td>\n",
       "      <td>1.375573</td>\n",
       "      <td>0.48766</td>\n",
       "      <td>0.032290</td>\n",
       "      <td>0.012500</td>\n",
       "      <td>0.517483</td>\n",
       "      <td>...</td>\n",
       "      <td>0.000043</td>\n",
       "      <td>0.138461</td>\n",
       "      <td>0.000623</td>\n",
       "      <td>0.008336</td>\n",
       "      <td>0.549130</td>\n",
       "      <td>0.000673</td>\n",
       "      <td>0.001774</td>\n",
       "      <td>5.732059</td>\n",
       "      <td>0.025784</td>\n",
       "      <td>0.345077</td>\n",
       "      <td>8.258695e-07</td>\n",
       "      <td>2.175735e-06</td>\n",
       "      <td>0.007030</td>\n",
       "      <td>0.000032</td>\n",
       "      <td>0.000423</td>\n",
       "      <td>5.731924e-06</td>\n",
       "      <td>0.018519</td>\n",
       "      <td>0.000083</td>\n",
       "      <td>0.001115</td>\n",
       "      <td>59.833709</td>\n",
       "      <td>0.269145</td>\n",
       "      <td>3.602062</td>\n",
       "      <td>0.001211</td>\n",
       "      <td>0.016203</td>\n",
       "      <td>0.216849</td>\n",
       "    </tr>\n",
       "    <tr>\n",
       "      <th>4</th>\n",
       "      <td>1.0</td>\n",
       "      <td>0.012013</td>\n",
       "      <td>0.698326</td>\n",
       "      <td>0.008711</td>\n",
       "      <td>0.005493</td>\n",
       "      <td>6.264022</td>\n",
       "      <td>0.000909</td>\n",
       "      <td>0.002394</td>\n",
       "      <td>7.735225</td>\n",
       "      <td>0.034795</td>\n",
       "      <td>0.46567</td>\n",
       "      <td>0.000144</td>\n",
       "      <td>0.008389</td>\n",
       "      <td>0.000105</td>\n",
       "      <td>0.000066</td>\n",
       "      <td>0.075249</td>\n",
       "      <td>1.091701e-05</td>\n",
       "      <td>0.000029</td>\n",
       "      <td>0.092923</td>\n",
       "      <td>0.000418</td>\n",
       "      <td>0.005594</td>\n",
       "      <td>0.48766</td>\n",
       "      <td>0.006083</td>\n",
       "      <td>0.003836</td>\n",
       "      <td>4.374331</td>\n",
       "      <td>...</td>\n",
       "      <td>0.000013</td>\n",
       "      <td>0.042493</td>\n",
       "      <td>0.000191</td>\n",
       "      <td>0.002558</td>\n",
       "      <td>39.237970</td>\n",
       "      <td>0.005693</td>\n",
       "      <td>0.014997</td>\n",
       "      <td>48.453620</td>\n",
       "      <td>0.217955</td>\n",
       "      <td>2.916967</td>\n",
       "      <td>8.258695e-07</td>\n",
       "      <td>2.175735e-06</td>\n",
       "      <td>0.007030</td>\n",
       "      <td>0.000032</td>\n",
       "      <td>0.000423</td>\n",
       "      <td>5.731924e-06</td>\n",
       "      <td>0.018519</td>\n",
       "      <td>0.000083</td>\n",
       "      <td>0.001115</td>\n",
       "      <td>59.833709</td>\n",
       "      <td>0.269145</td>\n",
       "      <td>3.602062</td>\n",
       "      <td>0.001211</td>\n",
       "      <td>0.016203</td>\n",
       "      <td>0.216849</td>\n",
       "    </tr>\n",
       "  </tbody>\n",
       "</table>\n",
       "<p>5 rows × 66 columns</p>\n",
       "</div>"
      ],
      "text/plain": [
       "    0         1         2         3         4         5         6         7   \\\n",
       "0  1.0  0.001659  0.698326  0.464371  5.001315  3.668328  0.000421  0.000612   \n",
       "1  1.0  0.956184  0.698326  0.014940  0.035236  3.953747  0.000909  0.002394   \n",
       "2  1.0  0.093526  0.698326  4.251828  0.077813  0.106399  0.000909  0.001970   \n",
       "3  1.0  2.953965  0.698326  0.046239  0.017900  0.741033  0.000909  0.002394   \n",
       "4  1.0  0.012013  0.698326  0.008711  0.005493  6.264022  0.000909  0.002394   \n",
       "\n",
       "         8         9        10        11        12        13        14  \\\n",
       "0  7.735225  0.034795  0.46567  0.000003  0.001158  0.000770  0.008296   \n",
       "1  7.735225  0.034795  0.46567  0.914288  0.667728  0.014285  0.033692   \n",
       "2  7.735225  0.034795  0.46567  0.008747  0.065311  0.397655  0.007277   \n",
       "3  7.735225  0.034795  0.46567  8.725909  2.062831  0.136589  0.052876   \n",
       "4  7.735225  0.034795  0.46567  0.000144  0.008389  0.000105  0.000066   \n",
       "\n",
       "         15            16        17         18        19        20       21  \\\n",
       "0  0.006085  6.986032e-07  0.000001   0.012831  0.000058  0.000772  0.48766   \n",
       "1  3.780509  8.689547e-04  0.002289   7.396298  0.033270  0.445266  0.48766   \n",
       "2  0.009951  8.499364e-05  0.000184   0.723442  0.003254  0.043552  0.48766   \n",
       "3  2.188986  2.684485e-03  0.007072  22.849584  0.102782  1.375573  0.48766   \n",
       "4  0.075249  1.091701e-05  0.000029   0.092923  0.000418  0.005594  0.48766   \n",
       "\n",
       "         22        23        24  ...        41         42        43        44  \\\n",
       "0  0.324282  3.492549  2.561690  ...  0.003060  38.686295  0.174020  2.328962   \n",
       "1  0.010433  0.024606  2.761005  ...  0.000084   0.272561  0.001226  0.016408   \n",
       "2  2.969163  0.054339  0.074301  ...  0.000153   0.601899  0.002707  0.036235   \n",
       "3  0.032290  0.012500  0.517483  ...  0.000043   0.138461  0.000623  0.008336   \n",
       "4  0.006083  0.003836  4.374331  ...  0.000013   0.042493  0.000191  0.002558   \n",
       "\n",
       "          45        46        47         48        49        50            51  \\\n",
       "0  13.456632  0.001545  0.002244  28.375345  0.127639  1.708231  1.773790e-07   \n",
       "1  15.632114  0.003593  0.009466  30.583122  0.137570  1.841141  8.258695e-07   \n",
       "2   0.011321  0.000097  0.000210   0.823018  0.003702  0.049547  8.258695e-07   \n",
       "3   0.549130  0.000673  0.001774   5.732059  0.025784  0.345077  8.258695e-07   \n",
       "4  39.237970  0.005693  0.014997  48.453620  0.217955  2.916967  8.258695e-07   \n",
       "\n",
       "             52        53        54        55            56        57  \\\n",
       "0  2.576873e-07  0.003258  0.000015  0.000196  3.743550e-07  0.004733   \n",
       "1  2.175735e-06  0.007030  0.000032  0.000423  5.731924e-06  0.018519   \n",
       "2  1.790600e-06  0.007030  0.000032  0.000423  3.882271e-06  0.015241   \n",
       "3  2.175735e-06  0.007030  0.000032  0.000423  5.731924e-06  0.018519   \n",
       "4  2.175735e-06  0.007030  0.000032  0.000423  5.731924e-06  0.018519   \n",
       "\n",
       "         58        59         60        61        62        63        64  \\\n",
       "0  0.000021  0.000285  59.833709  0.269145  3.602062  0.001211  0.016203   \n",
       "1  0.000083  0.001115  59.833709  0.269145  3.602062  0.001211  0.016203   \n",
       "2  0.000069  0.000918  59.833709  0.269145  3.602062  0.001211  0.016203   \n",
       "3  0.000083  0.001115  59.833709  0.269145  3.602062  0.001211  0.016203   \n",
       "4  0.000083  0.001115  59.833709  0.269145  3.602062  0.001211  0.016203   \n",
       "\n",
       "         65  \n",
       "0  0.216849  \n",
       "1  0.216849  \n",
       "2  0.216849  \n",
       "3  0.216849  \n",
       "4  0.216849  \n",
       "\n",
       "[5 rows x 66 columns]"
      ]
     },
     "execution_count": 53,
     "metadata": {},
     "output_type": "execute_result"
    }
   ],
   "source": [
    "dfX = pd.DataFrame(trainX)\n",
    "dfX.head()"
   ]
  },
  {
   "cell_type": "markdown",
   "metadata": {
    "ExecuteTime": {
     "end_time": "2019-08-26T06:49:46.859248Z",
     "start_time": "2019-08-26T06:49:46.836247Z"
    }
   },
   "source": [
    "### 模型构建"
   ]
  },
  {
   "cell_type": "code",
   "execution_count": 30,
   "metadata": {
    "ExecuteTime": {
     "end_time": "2019-08-27T02:52:01.305838Z",
     "start_time": "2019-08-27T02:52:00.956818Z"
    }
   },
   "outputs": [],
   "source": [
    "from sklearn.linear_model import LogisticRegression\n",
    "from sklearn.ensemble import AdaBoostClassifier\n",
    "from sklearn.ensemble import GradientBoostingClassifier"
   ]
  },
  {
   "cell_type": "markdown",
   "metadata": {},
   "source": [
    "#### LogisticRegression"
   ]
  },
  {
   "cell_type": "code",
   "execution_count": 31,
   "metadata": {
    "ExecuteTime": {
     "end_time": "2019-08-27T02:52:04.173002Z",
     "start_time": "2019-08-27T02:52:04.103998Z"
    }
   },
   "outputs": [
    {
     "name": "stderr",
     "output_type": "stream",
     "text": [
      "d:\\python36\\deeplearning\\lib\\site-packages\\sklearn\\linear_model\\logistic.py:432: FutureWarning: Default solver will be changed to 'lbfgs' in 0.22. Specify a solver to silence this warning.\n",
      "  FutureWarning)\n",
      "d:\\python36\\deeplearning\\lib\\site-packages\\sklearn\\linear_model\\logistic.py:469: FutureWarning: Default multi_class will be changed to 'auto' in 0.22. Specify the multi_class option to silence this warning.\n",
      "  \"this warning.\", FutureWarning)\n"
     ]
    }
   ],
   "source": [
    "lr = LogisticRegression()\n",
    "lr.fit(trainX, trainY)\n",
    "predY = lr.predict(testX)"
   ]
  },
  {
   "cell_type": "markdown",
   "metadata": {},
   "source": [
    "#### AdaBoostClassifier"
   ]
  },
  {
   "cell_type": "code",
   "execution_count": null,
   "metadata": {
    "ExecuteTime": {
     "end_time": "2019-08-27T02:44:51.872276Z",
     "start_time": "2019-08-27T02:44:51.223239Z"
    }
   },
   "outputs": [],
   "source": [
    "ada = AdaBoostClassifier()\n",
    "ada.fit(trainX, trainY)\n",
    "predY = ada.predict(testX)"
   ]
  },
  {
   "cell_type": "markdown",
   "metadata": {},
   "source": [
    "_________"
   ]
  },
  {
   "cell_type": "code",
   "execution_count": 32,
   "metadata": {
    "ExecuteTime": {
     "end_time": "2019-08-27T02:52:23.255094Z",
     "start_time": "2019-08-27T02:52:23.243093Z"
    }
   },
   "outputs": [
    {
     "data": {
      "text/html": [
       "<div>\n",
       "<style scoped>\n",
       "    .dataframe tbody tr th:only-of-type {\n",
       "        vertical-align: middle;\n",
       "    }\n",
       "\n",
       "    .dataframe tbody tr th {\n",
       "        vertical-align: top;\n",
       "    }\n",
       "\n",
       "    .dataframe thead th {\n",
       "        text-align: right;\n",
       "    }\n",
       "</style>\n",
       "<table border=\"1\" class=\"dataframe\">\n",
       "  <thead>\n",
       "    <tr style=\"text-align: right;\">\n",
       "      <th></th>\n",
       "      <th>Group</th>\n",
       "      <th>Quality_label</th>\n",
       "    </tr>\n",
       "  </thead>\n",
       "  <tbody>\n",
       "    <tr>\n",
       "      <th>0</th>\n",
       "      <td>0</td>\n",
       "      <td>Pass</td>\n",
       "    </tr>\n",
       "    <tr>\n",
       "      <th>1</th>\n",
       "      <td>0</td>\n",
       "      <td>Fail</td>\n",
       "    </tr>\n",
       "    <tr>\n",
       "      <th>2</th>\n",
       "      <td>0</td>\n",
       "      <td>Fail</td>\n",
       "    </tr>\n",
       "    <tr>\n",
       "      <th>3</th>\n",
       "      <td>0</td>\n",
       "      <td>Good</td>\n",
       "    </tr>\n",
       "    <tr>\n",
       "      <th>4</th>\n",
       "      <td>0</td>\n",
       "      <td>Good</td>\n",
       "    </tr>\n",
       "  </tbody>\n",
       "</table>\n",
       "</div>"
      ],
      "text/plain": [
       "   Group Quality_label\n",
       "0      0          Pass\n",
       "1      0          Fail\n",
       "2      0          Fail\n",
       "3      0          Good\n",
       "4      0          Good"
      ]
     },
     "execution_count": 32,
     "metadata": {},
     "output_type": "execute_result"
    }
   ],
   "source": [
    "results = pd.DataFrame({'Group':test.Group, 'Quality_label':predY})\n",
    "results.head()"
   ]
  },
  {
   "cell_type": "code",
   "execution_count": 33,
   "metadata": {
    "ExecuteTime": {
     "end_time": "2019-08-27T02:52:25.843242Z",
     "start_time": "2019-08-27T02:52:25.797239Z"
    }
   },
   "outputs": [
    {
     "data": {
      "text/html": [
       "<div>\n",
       "<style scoped>\n",
       "    .dataframe tbody tr th:only-of-type {\n",
       "        vertical-align: middle;\n",
       "    }\n",
       "\n",
       "    .dataframe tbody tr th {\n",
       "        vertical-align: top;\n",
       "    }\n",
       "\n",
       "    .dataframe thead th {\n",
       "        text-align: right;\n",
       "    }\n",
       "</style>\n",
       "<table border=\"1\" class=\"dataframe\">\n",
       "  <thead>\n",
       "    <tr style=\"text-align: right;\">\n",
       "      <th>Quality_label</th>\n",
       "      <th>Excellent</th>\n",
       "      <th>Fail</th>\n",
       "      <th>Good</th>\n",
       "      <th>Pass</th>\n",
       "    </tr>\n",
       "    <tr>\n",
       "      <th>Group</th>\n",
       "      <th></th>\n",
       "      <th></th>\n",
       "      <th></th>\n",
       "      <th></th>\n",
       "    </tr>\n",
       "  </thead>\n",
       "  <tbody>\n",
       "    <tr>\n",
       "      <th>0</th>\n",
       "      <td>1</td>\n",
       "      <td>4</td>\n",
       "      <td>27</td>\n",
       "      <td>18</td>\n",
       "    </tr>\n",
       "    <tr>\n",
       "      <th>1</th>\n",
       "      <td>0</td>\n",
       "      <td>1</td>\n",
       "      <td>15</td>\n",
       "      <td>34</td>\n",
       "    </tr>\n",
       "    <tr>\n",
       "      <th>2</th>\n",
       "      <td>0</td>\n",
       "      <td>0</td>\n",
       "      <td>9</td>\n",
       "      <td>41</td>\n",
       "    </tr>\n",
       "    <tr>\n",
       "      <th>3</th>\n",
       "      <td>0</td>\n",
       "      <td>0</td>\n",
       "      <td>19</td>\n",
       "      <td>31</td>\n",
       "    </tr>\n",
       "    <tr>\n",
       "      <th>4</th>\n",
       "      <td>0</td>\n",
       "      <td>3</td>\n",
       "      <td>27</td>\n",
       "      <td>20</td>\n",
       "    </tr>\n",
       "  </tbody>\n",
       "</table>\n",
       "</div>"
      ],
      "text/plain": [
       "Quality_label  Excellent  Fail  Good  Pass\n",
       "Group                                     \n",
       "0                      1     4    27    18\n",
       "1                      0     1    15    34\n",
       "2                      0     0     9    41\n",
       "3                      0     0    19    31\n",
       "4                      0     3    27    20"
      ]
     },
     "execution_count": 33,
     "metadata": {},
     "output_type": "execute_result"
    }
   ],
   "source": [
    "results['num'] = 1\n",
    "results = results.pivot_table(index=['Group'], columns=['Quality_label'], values='num', aggfunc=np.sum, fill_value=0)\n",
    "results.head()"
   ]
  },
  {
   "cell_type": "code",
   "execution_count": 34,
   "metadata": {
    "ExecuteTime": {
     "end_time": "2019-08-27T02:52:33.049654Z",
     "start_time": "2019-08-27T02:52:33.014652Z"
    },
    "scrolled": true
   },
   "outputs": [
    {
     "data": {
      "text/html": [
       "<div>\n",
       "<style scoped>\n",
       "    .dataframe tbody tr th:only-of-type {\n",
       "        vertical-align: middle;\n",
       "    }\n",
       "\n",
       "    .dataframe tbody tr th {\n",
       "        vertical-align: top;\n",
       "    }\n",
       "\n",
       "    .dataframe thead th {\n",
       "        text-align: right;\n",
       "    }\n",
       "</style>\n",
       "<table border=\"1\" class=\"dataframe\">\n",
       "  <thead>\n",
       "    <tr style=\"text-align: right;\">\n",
       "      <th>Quality_label</th>\n",
       "      <th>Excellent ratio</th>\n",
       "      <th>Good ratio</th>\n",
       "      <th>Pass ratio</th>\n",
       "      <th>Fail ratio</th>\n",
       "    </tr>\n",
       "    <tr>\n",
       "      <th>Group</th>\n",
       "      <th></th>\n",
       "      <th></th>\n",
       "      <th></th>\n",
       "      <th></th>\n",
       "    </tr>\n",
       "  </thead>\n",
       "  <tbody>\n",
       "    <tr>\n",
       "      <th>0</th>\n",
       "      <td>0.02</td>\n",
       "      <td>0.54</td>\n",
       "      <td>0.36</td>\n",
       "      <td>0.08</td>\n",
       "    </tr>\n",
       "    <tr>\n",
       "      <th>1</th>\n",
       "      <td>0.00</td>\n",
       "      <td>0.30</td>\n",
       "      <td>0.68</td>\n",
       "      <td>0.02</td>\n",
       "    </tr>\n",
       "    <tr>\n",
       "      <th>2</th>\n",
       "      <td>0.00</td>\n",
       "      <td>0.18</td>\n",
       "      <td>0.82</td>\n",
       "      <td>0.00</td>\n",
       "    </tr>\n",
       "    <tr>\n",
       "      <th>3</th>\n",
       "      <td>0.00</td>\n",
       "      <td>0.38</td>\n",
       "      <td>0.62</td>\n",
       "      <td>0.00</td>\n",
       "    </tr>\n",
       "    <tr>\n",
       "      <th>4</th>\n",
       "      <td>0.00</td>\n",
       "      <td>0.54</td>\n",
       "      <td>0.40</td>\n",
       "      <td>0.06</td>\n",
       "    </tr>\n",
       "    <tr>\n",
       "      <th>5</th>\n",
       "      <td>0.00</td>\n",
       "      <td>0.24</td>\n",
       "      <td>0.72</td>\n",
       "      <td>0.04</td>\n",
       "    </tr>\n",
       "    <tr>\n",
       "      <th>6</th>\n",
       "      <td>0.02</td>\n",
       "      <td>0.28</td>\n",
       "      <td>0.68</td>\n",
       "      <td>0.02</td>\n",
       "    </tr>\n",
       "    <tr>\n",
       "      <th>7</th>\n",
       "      <td>0.00</td>\n",
       "      <td>0.12</td>\n",
       "      <td>0.80</td>\n",
       "      <td>0.08</td>\n",
       "    </tr>\n",
       "    <tr>\n",
       "      <th>8</th>\n",
       "      <td>0.00</td>\n",
       "      <td>0.08</td>\n",
       "      <td>0.92</td>\n",
       "      <td>0.00</td>\n",
       "    </tr>\n",
       "    <tr>\n",
       "      <th>9</th>\n",
       "      <td>0.02</td>\n",
       "      <td>0.24</td>\n",
       "      <td>0.70</td>\n",
       "      <td>0.04</td>\n",
       "    </tr>\n",
       "    <tr>\n",
       "      <th>10</th>\n",
       "      <td>0.02</td>\n",
       "      <td>0.26</td>\n",
       "      <td>0.52</td>\n",
       "      <td>0.20</td>\n",
       "    </tr>\n",
       "    <tr>\n",
       "      <th>11</th>\n",
       "      <td>0.00</td>\n",
       "      <td>0.20</td>\n",
       "      <td>0.68</td>\n",
       "      <td>0.12</td>\n",
       "    </tr>\n",
       "    <tr>\n",
       "      <th>12</th>\n",
       "      <td>0.00</td>\n",
       "      <td>0.14</td>\n",
       "      <td>0.86</td>\n",
       "      <td>0.00</td>\n",
       "    </tr>\n",
       "    <tr>\n",
       "      <th>13</th>\n",
       "      <td>0.00</td>\n",
       "      <td>0.22</td>\n",
       "      <td>0.68</td>\n",
       "      <td>0.10</td>\n",
       "    </tr>\n",
       "    <tr>\n",
       "      <th>14</th>\n",
       "      <td>0.00</td>\n",
       "      <td>0.10</td>\n",
       "      <td>0.90</td>\n",
       "      <td>0.00</td>\n",
       "    </tr>\n",
       "    <tr>\n",
       "      <th>15</th>\n",
       "      <td>0.06</td>\n",
       "      <td>0.14</td>\n",
       "      <td>0.76</td>\n",
       "      <td>0.04</td>\n",
       "    </tr>\n",
       "    <tr>\n",
       "      <th>16</th>\n",
       "      <td>0.00</td>\n",
       "      <td>0.00</td>\n",
       "      <td>1.00</td>\n",
       "      <td>0.00</td>\n",
       "    </tr>\n",
       "    <tr>\n",
       "      <th>17</th>\n",
       "      <td>0.00</td>\n",
       "      <td>0.28</td>\n",
       "      <td>0.66</td>\n",
       "      <td>0.06</td>\n",
       "    </tr>\n",
       "    <tr>\n",
       "      <th>18</th>\n",
       "      <td>0.00</td>\n",
       "      <td>0.18</td>\n",
       "      <td>0.82</td>\n",
       "      <td>0.00</td>\n",
       "    </tr>\n",
       "    <tr>\n",
       "      <th>19</th>\n",
       "      <td>0.00</td>\n",
       "      <td>0.22</td>\n",
       "      <td>0.74</td>\n",
       "      <td>0.04</td>\n",
       "    </tr>\n",
       "    <tr>\n",
       "      <th>20</th>\n",
       "      <td>0.00</td>\n",
       "      <td>0.54</td>\n",
       "      <td>0.34</td>\n",
       "      <td>0.12</td>\n",
       "    </tr>\n",
       "    <tr>\n",
       "      <th>21</th>\n",
       "      <td>0.00</td>\n",
       "      <td>0.20</td>\n",
       "      <td>0.78</td>\n",
       "      <td>0.02</td>\n",
       "    </tr>\n",
       "    <tr>\n",
       "      <th>22</th>\n",
       "      <td>0.00</td>\n",
       "      <td>0.34</td>\n",
       "      <td>0.66</td>\n",
       "      <td>0.00</td>\n",
       "    </tr>\n",
       "    <tr>\n",
       "      <th>23</th>\n",
       "      <td>0.00</td>\n",
       "      <td>0.26</td>\n",
       "      <td>0.72</td>\n",
       "      <td>0.02</td>\n",
       "    </tr>\n",
       "    <tr>\n",
       "      <th>24</th>\n",
       "      <td>0.00</td>\n",
       "      <td>0.08</td>\n",
       "      <td>0.90</td>\n",
       "      <td>0.02</td>\n",
       "    </tr>\n",
       "    <tr>\n",
       "      <th>25</th>\n",
       "      <td>0.02</td>\n",
       "      <td>0.30</td>\n",
       "      <td>0.64</td>\n",
       "      <td>0.04</td>\n",
       "    </tr>\n",
       "    <tr>\n",
       "      <th>26</th>\n",
       "      <td>0.00</td>\n",
       "      <td>0.20</td>\n",
       "      <td>0.80</td>\n",
       "      <td>0.00</td>\n",
       "    </tr>\n",
       "    <tr>\n",
       "      <th>27</th>\n",
       "      <td>0.02</td>\n",
       "      <td>0.24</td>\n",
       "      <td>0.72</td>\n",
       "      <td>0.02</td>\n",
       "    </tr>\n",
       "    <tr>\n",
       "      <th>28</th>\n",
       "      <td>0.00</td>\n",
       "      <td>0.18</td>\n",
       "      <td>0.82</td>\n",
       "      <td>0.00</td>\n",
       "    </tr>\n",
       "    <tr>\n",
       "      <th>29</th>\n",
       "      <td>0.02</td>\n",
       "      <td>0.26</td>\n",
       "      <td>0.70</td>\n",
       "      <td>0.02</td>\n",
       "    </tr>\n",
       "    <tr>\n",
       "      <th>...</th>\n",
       "      <td>...</td>\n",
       "      <td>...</td>\n",
       "      <td>...</td>\n",
       "      <td>...</td>\n",
       "    </tr>\n",
       "    <tr>\n",
       "      <th>90</th>\n",
       "      <td>0.02</td>\n",
       "      <td>0.04</td>\n",
       "      <td>0.94</td>\n",
       "      <td>0.00</td>\n",
       "    </tr>\n",
       "    <tr>\n",
       "      <th>91</th>\n",
       "      <td>0.00</td>\n",
       "      <td>0.24</td>\n",
       "      <td>0.72</td>\n",
       "      <td>0.04</td>\n",
       "    </tr>\n",
       "    <tr>\n",
       "      <th>92</th>\n",
       "      <td>0.00</td>\n",
       "      <td>0.40</td>\n",
       "      <td>0.52</td>\n",
       "      <td>0.08</td>\n",
       "    </tr>\n",
       "    <tr>\n",
       "      <th>93</th>\n",
       "      <td>0.00</td>\n",
       "      <td>0.20</td>\n",
       "      <td>0.78</td>\n",
       "      <td>0.02</td>\n",
       "    </tr>\n",
       "    <tr>\n",
       "      <th>94</th>\n",
       "      <td>0.00</td>\n",
       "      <td>0.24</td>\n",
       "      <td>0.74</td>\n",
       "      <td>0.02</td>\n",
       "    </tr>\n",
       "    <tr>\n",
       "      <th>95</th>\n",
       "      <td>0.02</td>\n",
       "      <td>0.14</td>\n",
       "      <td>0.80</td>\n",
       "      <td>0.04</td>\n",
       "    </tr>\n",
       "    <tr>\n",
       "      <th>96</th>\n",
       "      <td>0.00</td>\n",
       "      <td>0.48</td>\n",
       "      <td>0.48</td>\n",
       "      <td>0.04</td>\n",
       "    </tr>\n",
       "    <tr>\n",
       "      <th>97</th>\n",
       "      <td>0.02</td>\n",
       "      <td>0.18</td>\n",
       "      <td>0.68</td>\n",
       "      <td>0.12</td>\n",
       "    </tr>\n",
       "    <tr>\n",
       "      <th>98</th>\n",
       "      <td>0.02</td>\n",
       "      <td>0.04</td>\n",
       "      <td>0.82</td>\n",
       "      <td>0.12</td>\n",
       "    </tr>\n",
       "    <tr>\n",
       "      <th>99</th>\n",
       "      <td>0.00</td>\n",
       "      <td>0.32</td>\n",
       "      <td>0.64</td>\n",
       "      <td>0.04</td>\n",
       "    </tr>\n",
       "    <tr>\n",
       "      <th>100</th>\n",
       "      <td>0.00</td>\n",
       "      <td>0.14</td>\n",
       "      <td>0.86</td>\n",
       "      <td>0.00</td>\n",
       "    </tr>\n",
       "    <tr>\n",
       "      <th>101</th>\n",
       "      <td>0.02</td>\n",
       "      <td>0.34</td>\n",
       "      <td>0.60</td>\n",
       "      <td>0.04</td>\n",
       "    </tr>\n",
       "    <tr>\n",
       "      <th>102</th>\n",
       "      <td>0.00</td>\n",
       "      <td>0.58</td>\n",
       "      <td>0.40</td>\n",
       "      <td>0.02</td>\n",
       "    </tr>\n",
       "    <tr>\n",
       "      <th>103</th>\n",
       "      <td>0.02</td>\n",
       "      <td>0.18</td>\n",
       "      <td>0.76</td>\n",
       "      <td>0.04</td>\n",
       "    </tr>\n",
       "    <tr>\n",
       "      <th>104</th>\n",
       "      <td>0.00</td>\n",
       "      <td>0.34</td>\n",
       "      <td>0.60</td>\n",
       "      <td>0.06</td>\n",
       "    </tr>\n",
       "    <tr>\n",
       "      <th>105</th>\n",
       "      <td>0.04</td>\n",
       "      <td>0.30</td>\n",
       "      <td>0.62</td>\n",
       "      <td>0.04</td>\n",
       "    </tr>\n",
       "    <tr>\n",
       "      <th>106</th>\n",
       "      <td>0.00</td>\n",
       "      <td>0.08</td>\n",
       "      <td>0.92</td>\n",
       "      <td>0.00</td>\n",
       "    </tr>\n",
       "    <tr>\n",
       "      <th>107</th>\n",
       "      <td>0.00</td>\n",
       "      <td>0.26</td>\n",
       "      <td>0.70</td>\n",
       "      <td>0.04</td>\n",
       "    </tr>\n",
       "    <tr>\n",
       "      <th>108</th>\n",
       "      <td>0.00</td>\n",
       "      <td>0.40</td>\n",
       "      <td>0.60</td>\n",
       "      <td>0.00</td>\n",
       "    </tr>\n",
       "    <tr>\n",
       "      <th>109</th>\n",
       "      <td>0.04</td>\n",
       "      <td>0.20</td>\n",
       "      <td>0.74</td>\n",
       "      <td>0.02</td>\n",
       "    </tr>\n",
       "    <tr>\n",
       "      <th>110</th>\n",
       "      <td>0.08</td>\n",
       "      <td>0.34</td>\n",
       "      <td>0.46</td>\n",
       "      <td>0.12</td>\n",
       "    </tr>\n",
       "    <tr>\n",
       "      <th>111</th>\n",
       "      <td>0.00</td>\n",
       "      <td>0.22</td>\n",
       "      <td>0.74</td>\n",
       "      <td>0.04</td>\n",
       "    </tr>\n",
       "    <tr>\n",
       "      <th>112</th>\n",
       "      <td>0.02</td>\n",
       "      <td>0.64</td>\n",
       "      <td>0.32</td>\n",
       "      <td>0.02</td>\n",
       "    </tr>\n",
       "    <tr>\n",
       "      <th>113</th>\n",
       "      <td>0.00</td>\n",
       "      <td>0.20</td>\n",
       "      <td>0.74</td>\n",
       "      <td>0.06</td>\n",
       "    </tr>\n",
       "    <tr>\n",
       "      <th>114</th>\n",
       "      <td>0.00</td>\n",
       "      <td>0.58</td>\n",
       "      <td>0.40</td>\n",
       "      <td>0.02</td>\n",
       "    </tr>\n",
       "    <tr>\n",
       "      <th>115</th>\n",
       "      <td>0.00</td>\n",
       "      <td>0.18</td>\n",
       "      <td>0.78</td>\n",
       "      <td>0.04</td>\n",
       "    </tr>\n",
       "    <tr>\n",
       "      <th>116</th>\n",
       "      <td>0.00</td>\n",
       "      <td>0.04</td>\n",
       "      <td>0.96</td>\n",
       "      <td>0.00</td>\n",
       "    </tr>\n",
       "    <tr>\n",
       "      <th>117</th>\n",
       "      <td>0.02</td>\n",
       "      <td>0.38</td>\n",
       "      <td>0.54</td>\n",
       "      <td>0.06</td>\n",
       "    </tr>\n",
       "    <tr>\n",
       "      <th>118</th>\n",
       "      <td>0.00</td>\n",
       "      <td>0.00</td>\n",
       "      <td>1.00</td>\n",
       "      <td>0.00</td>\n",
       "    </tr>\n",
       "    <tr>\n",
       "      <th>119</th>\n",
       "      <td>0.02</td>\n",
       "      <td>0.20</td>\n",
       "      <td>0.74</td>\n",
       "      <td>0.04</td>\n",
       "    </tr>\n",
       "  </tbody>\n",
       "</table>\n",
       "<p>120 rows × 4 columns</p>\n",
       "</div>"
      ],
      "text/plain": [
       "Quality_label  Excellent ratio  Good ratio  Pass ratio  Fail ratio\n",
       "Group                                                             \n",
       "0                         0.02        0.54        0.36        0.08\n",
       "1                         0.00        0.30        0.68        0.02\n",
       "2                         0.00        0.18        0.82        0.00\n",
       "3                         0.00        0.38        0.62        0.00\n",
       "4                         0.00        0.54        0.40        0.06\n",
       "5                         0.00        0.24        0.72        0.04\n",
       "6                         0.02        0.28        0.68        0.02\n",
       "7                         0.00        0.12        0.80        0.08\n",
       "8                         0.00        0.08        0.92        0.00\n",
       "9                         0.02        0.24        0.70        0.04\n",
       "10                        0.02        0.26        0.52        0.20\n",
       "11                        0.00        0.20        0.68        0.12\n",
       "12                        0.00        0.14        0.86        0.00\n",
       "13                        0.00        0.22        0.68        0.10\n",
       "14                        0.00        0.10        0.90        0.00\n",
       "15                        0.06        0.14        0.76        0.04\n",
       "16                        0.00        0.00        1.00        0.00\n",
       "17                        0.00        0.28        0.66        0.06\n",
       "18                        0.00        0.18        0.82        0.00\n",
       "19                        0.00        0.22        0.74        0.04\n",
       "20                        0.00        0.54        0.34        0.12\n",
       "21                        0.00        0.20        0.78        0.02\n",
       "22                        0.00        0.34        0.66        0.00\n",
       "23                        0.00        0.26        0.72        0.02\n",
       "24                        0.00        0.08        0.90        0.02\n",
       "25                        0.02        0.30        0.64        0.04\n",
       "26                        0.00        0.20        0.80        0.00\n",
       "27                        0.02        0.24        0.72        0.02\n",
       "28                        0.00        0.18        0.82        0.00\n",
       "29                        0.02        0.26        0.70        0.02\n",
       "...                        ...         ...         ...         ...\n",
       "90                        0.02        0.04        0.94        0.00\n",
       "91                        0.00        0.24        0.72        0.04\n",
       "92                        0.00        0.40        0.52        0.08\n",
       "93                        0.00        0.20        0.78        0.02\n",
       "94                        0.00        0.24        0.74        0.02\n",
       "95                        0.02        0.14        0.80        0.04\n",
       "96                        0.00        0.48        0.48        0.04\n",
       "97                        0.02        0.18        0.68        0.12\n",
       "98                        0.02        0.04        0.82        0.12\n",
       "99                        0.00        0.32        0.64        0.04\n",
       "100                       0.00        0.14        0.86        0.00\n",
       "101                       0.02        0.34        0.60        0.04\n",
       "102                       0.00        0.58        0.40        0.02\n",
       "103                       0.02        0.18        0.76        0.04\n",
       "104                       0.00        0.34        0.60        0.06\n",
       "105                       0.04        0.30        0.62        0.04\n",
       "106                       0.00        0.08        0.92        0.00\n",
       "107                       0.00        0.26        0.70        0.04\n",
       "108                       0.00        0.40        0.60        0.00\n",
       "109                       0.04        0.20        0.74        0.02\n",
       "110                       0.08        0.34        0.46        0.12\n",
       "111                       0.00        0.22        0.74        0.04\n",
       "112                       0.02        0.64        0.32        0.02\n",
       "113                       0.00        0.20        0.74        0.06\n",
       "114                       0.00        0.58        0.40        0.02\n",
       "115                       0.00        0.18        0.78        0.04\n",
       "116                       0.00        0.04        0.96        0.00\n",
       "117                       0.02        0.38        0.54        0.06\n",
       "118                       0.00        0.00        1.00        0.00\n",
       "119                       0.02        0.20        0.74        0.04\n",
       "\n",
       "[120 rows x 4 columns]"
      ]
     },
     "execution_count": 34,
     "metadata": {},
     "output_type": "execute_result"
    }
   ],
   "source": [
    "cols = ['Excellent ratio', 'Good ratio', 'Pass ratio', 'Fail ratio']\n",
    "quality_labels = ['Excellent', 'Good', 'Pass', 'Fail']\n",
    "\n",
    "for i in range(len(cols)):\n",
    "    results[cols[i]] = results[quality_labels[i]].apply(lambda x: x/50.0)\n",
    "    \n",
    "results.drop(quality_labels, axis=1, inplace=True)\n",
    "results"
   ]
  },
  {
   "cell_type": "code",
   "execution_count": 42,
   "metadata": {
    "ExecuteTime": {
     "end_time": "2019-08-27T02:56:39.121728Z",
     "start_time": "2019-08-27T02:56:39.114728Z"
    }
   },
   "outputs": [
    {
     "data": {
      "text/plain": [
       "(0.9666666666666668, 23.133333333333336, 71.2, 4.700000000000001)"
      ]
     },
     "execution_count": 42,
     "metadata": {},
     "output_type": "execute_result"
    }
   ],
   "source": [
    "results['Excellent ratio'].sum()/1.2, results['Good ratio'].sum()/1.20, results['Pass ratio'].sum()/1.20, results['Fail ratio'].sum()/1.20"
   ]
  },
  {
   "cell_type": "code",
   "execution_count": 43,
   "metadata": {
    "ExecuteTime": {
     "end_time": "2019-08-27T02:59:20.760974Z",
     "start_time": "2019-08-27T02:59:20.749973Z"
    }
   },
   "outputs": [],
   "source": [
    "results.to_csv('submission3.csv')"
   ]
  },
  {
   "cell_type": "code",
   "execution_count": null,
   "metadata": {},
   "outputs": [],
   "source": []
  }
 ],
 "metadata": {
  "kernelspec": {
   "display_name": "Python 3",
   "language": "python",
   "name": "python3"
  },
  "toc": {
   "base_numbering": 1,
   "nav_menu": {},
   "number_sections": true,
   "sideBar": true,
   "skip_h1_title": false,
   "title_cell": "Table of Contents",
   "title_sidebar": "Contents",
   "toc_cell": false,
   "toc_position": {},
   "toc_section_display": true,
   "toc_window_display": true
  },
  "varInspector": {
   "cols": {
    "lenName": 16,
    "lenType": 16,
    "lenVar": 40
   },
   "kernels_config": {
    "python": {
     "delete_cmd_postfix": "",
     "delete_cmd_prefix": "del ",
     "library": "var_list.py",
     "varRefreshCmd": "print(var_dic_list())"
    },
    "r": {
     "delete_cmd_postfix": ") ",
     "delete_cmd_prefix": "rm(",
     "library": "var_list.r",
     "varRefreshCmd": "cat(var_dic_list()) "
    }
   },
   "types_to_exclude": [
    "module",
    "function",
    "builtin_function_or_method",
    "instance",
    "_Feature"
   ],
   "window_display": false
  }
 },
 "nbformat": 4,
 "nbformat_minor": 2
}
