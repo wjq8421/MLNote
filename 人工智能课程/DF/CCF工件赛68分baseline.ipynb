{
 "cells": [
  {
   "cell_type": "code",
   "execution_count": 1,
   "metadata": {
    "ExecuteTime": {
     "end_time": "2019-09-03T06:41:58.507339Z",
     "start_time": "2019-09-03T06:41:57.891761Z"
    }
   },
   "outputs": [],
   "source": [
    "import pandas as pd\n",
    "import numpy as np\n",
    "from catboost import CatBoostClassifier\n",
    "# catboost安装方式：命令行输入 pip install -i https://pypi.tuna.tsinghua.edu.cn/simple catboost"
   ]
  },
  {
   "cell_type": "code",
   "execution_count": 2,
   "metadata": {
    "ExecuteTime": {
     "end_time": "2019-09-03T06:42:00.047535Z",
     "start_time": "2019-09-03T06:41:59.918519Z"
    }
   },
   "outputs": [],
   "source": [
    "# 读取数据\n",
    "train = pd.read_csv('.\\\\data\\\\first_round_training_data.csv')\n",
    "test = pd.read_csv('.\\\\data\\\\first_round_testing_data.csv')"
   ]
  },
  {
   "cell_type": "code",
   "execution_count": 3,
   "metadata": {
    "ExecuteTime": {
     "end_time": "2019-09-03T06:42:03.513975Z",
     "start_time": "2019-09-03T06:42:03.509475Z"
    }
   },
   "outputs": [],
   "source": [
    "# 特征列表\n",
    "features = [\"Parameter5\",\"Parameter6\",\"Parameter7\",\"Parameter8\",\"Parameter9\",\"Parameter10\"]"
   ]
  },
  {
   "cell_type": "code",
   "execution_count": 4,
   "metadata": {
    "ExecuteTime": {
     "end_time": "2019-09-03T06:42:41.816339Z",
     "start_time": "2019-09-03T06:42:41.780835Z"
    }
   },
   "outputs": [],
   "source": [
    "# 标签转化\n",
    "def quality_encoder(x):\n",
    "    return {'Excellent':0,'Good':1,'Pass':2,'Fail':3}[x]\n",
    "\n",
    "train['label'] = train.Quality_label.apply(quality_encoder)\n",
    "train['label_Excellent'] = 1*(train['label'] == 0)\n",
    "train['label_Good'] = 1*(train['label'] == 1)\n",
    "train['label_Pass'] = 1*(train['label'] == 2)\n",
    "train['label_Fail'] = 1*(train['label'] == 3)"
   ]
  },
  {
   "cell_type": "code",
   "execution_count": 5,
   "metadata": {
    "ExecuteTime": {
     "end_time": "2019-09-03T06:44:52.208897Z",
     "start_time": "2019-09-03T06:42:53.148778Z"
    }
   },
   "outputs": [
    {
     "name": "stdout",
     "output_type": "stream",
     "text": [
      "0:\tlearn: 1.3814611\ttotal: 146ms\tremaining: 4m 52s\n",
      "100:\tlearn: 1.1609463\ttotal: 6.37s\tremaining: 1m 59s\n",
      "200:\tlearn: 1.1042828\ttotal: 12.3s\tremaining: 1m 50s\n",
      "300:\tlearn: 1.0812268\ttotal: 18s\tremaining: 1m 41s\n",
      "400:\tlearn: 1.0687255\ttotal: 23.8s\tremaining: 1m 34s\n",
      "500:\tlearn: 1.0594367\ttotal: 29.3s\tremaining: 1m 27s\n",
      "600:\tlearn: 1.0521968\ttotal: 35.1s\tremaining: 1m 21s\n",
      "700:\tlearn: 1.0462422\ttotal: 40.5s\tremaining: 1m 15s\n",
      "800:\tlearn: 1.0408338\ttotal: 45.7s\tremaining: 1m 8s\n",
      "900:\tlearn: 1.0360825\ttotal: 51.1s\tremaining: 1m 2s\n",
      "1000:\tlearn: 1.0310389\ttotal: 56.8s\tremaining: 56.6s\n",
      "1100:\tlearn: 1.0257770\ttotal: 1m 2s\tremaining: 51.1s\n",
      "1200:\tlearn: 1.0207589\ttotal: 1m 8s\tremaining: 45.6s\n",
      "1300:\tlearn: 1.0157969\ttotal: 1m 14s\tremaining: 40.2s\n",
      "1400:\tlearn: 1.0113287\ttotal: 1m 20s\tremaining: 34.6s\n",
      "1500:\tlearn: 1.0075482\ttotal: 1m 27s\tremaining: 29s\n",
      "1600:\tlearn: 1.0034624\ttotal: 1m 33s\tremaining: 23.3s\n",
      "1700:\tlearn: 0.9998904\ttotal: 1m 39s\tremaining: 17.5s\n",
      "1800:\tlearn: 0.9964848\ttotal: 1m 45s\tremaining: 11.7s\n",
      "1900:\tlearn: 0.9934997\ttotal: 1m 51s\tremaining: 5.83s\n",
      "1999:\tlearn: 0.9907316\ttotal: 1m 58s\tremaining: 0us\n"
     ]
    },
    {
     "data": {
      "text/plain": [
       "0.485"
      ]
     },
     "execution_count": 5,
     "metadata": {},
     "output_type": "execute_result"
    }
   ],
   "source": [
    "# 本地多分类准确率评估\n",
    "local_train = train.iloc[:5000,:].copy()\n",
    "local_valid = train.iloc[5000:,:].copy()\n",
    "\n",
    "model = CatBoostClassifier(iterations=2000,depth=8,learning_rate=0.01,verbose=100,loss_function='MultiClass',random_state=666)\n",
    "model.fit(local_train.loc[:,features],local_train.label)\n",
    "\n",
    "local_valid['prediction'] = model.predict(local_valid.loc[:,features])\n",
    "(local_valid.label == local_valid.prediction).mean()"
   ]
  },
  {
   "cell_type": "code",
   "execution_count": 6,
   "metadata": {
    "ExecuteTime": {
     "end_time": "2019-09-03T06:51:35.963167Z",
     "start_time": "2019-09-03T06:49:32.454984Z"
    }
   },
   "outputs": [
    {
     "name": "stdout",
     "output_type": "stream",
     "text": [
      "0:\tlearn: 1.3817637\ttotal: 91.4ms\tremaining: 3m 2s\n",
      "100:\tlearn: 1.1648519\ttotal: 6.31s\tremaining: 1m 58s\n",
      "200:\tlearn: 1.1100865\ttotal: 12.5s\tremaining: 1m 52s\n",
      "300:\tlearn: 1.0893340\ttotal: 18.5s\tremaining: 1m 44s\n",
      "400:\tlearn: 1.0773263\ttotal: 24.2s\tremaining: 1m 36s\n",
      "500:\tlearn: 1.0688930\ttotal: 30s\tremaining: 1m 29s\n",
      "600:\tlearn: 1.0622544\ttotal: 35.9s\tremaining: 1m 23s\n",
      "700:\tlearn: 1.0567301\ttotal: 41.8s\tremaining: 1m 17s\n",
      "800:\tlearn: 1.0516514\ttotal: 47.7s\tremaining: 1m 11s\n",
      "900:\tlearn: 1.0472675\ttotal: 53.4s\tremaining: 1m 5s\n",
      "1000:\tlearn: 1.0429465\ttotal: 59.3s\tremaining: 59.2s\n",
      "1100:\tlearn: 1.0384945\ttotal: 1m 5s\tremaining: 53.3s\n",
      "1200:\tlearn: 1.0333279\ttotal: 1m 11s\tremaining: 47.5s\n",
      "1300:\tlearn: 1.0287419\ttotal: 1m 17s\tremaining: 41.8s\n",
      "1400:\tlearn: 1.0247204\ttotal: 1m 24s\tremaining: 36.1s\n",
      "1500:\tlearn: 1.0203804\ttotal: 1m 30s\tremaining: 30.2s\n",
      "1600:\tlearn: 1.0164020\ttotal: 1m 37s\tremaining: 24.2s\n",
      "1700:\tlearn: 1.0127281\ttotal: 1m 43s\tremaining: 18.2s\n",
      "1800:\tlearn: 1.0092687\ttotal: 1m 50s\tremaining: 12.2s\n",
      "1900:\tlearn: 1.0058746\ttotal: 1m 56s\tremaining: 6.07s\n",
      "1999:\tlearn: 1.0028721\ttotal: 2m 2s\tremaining: 0us\n"
     ]
    }
   ],
   "source": [
    "# 线上提交\n",
    "model = CatBoostClassifier(iterations=2000,depth=8,learning_rate=0.01,verbose=100,loss_function='MultiClass',random_state=903)\n",
    "\n",
    "model.fit(train.loc[:,features],train.label)\n",
    "\n",
    "test['prediction'] = model.predict(test.loc[:,features])\n",
    "test['prob_Excellent'] = 0.0\n",
    "test['prob_Good'] = 0.0\n",
    "test['prob_Pass'] = 0.0\n",
    "test['prob_Fail'] = 0.0\n",
    "test.loc[:,['prob_Excellent','prob_Good','prob_Pass','prob_Fail']] = model.predict_proba(test.loc[:,features])"
   ]
  },
  {
   "cell_type": "code",
   "execution_count": 7,
   "metadata": {
    "ExecuteTime": {
     "end_time": "2019-09-03T06:53:48.436989Z",
     "start_time": "2019-09-03T06:53:48.356979Z"
    }
   },
   "outputs": [],
   "source": [
    "# 提交用\n",
    "prediction = test.groupby(['Group'],as_index=False)['prob_Excellent','prob_Good','prob_Pass','prob_Fail'].mean()\n",
    "prediction.columns = ['Group','Excellent ratio','Good ratio','Pass ratio','Fail ratio']\n",
    "prediction.to_csv('baseline.csv',index=False)"
   ]
  },
  {
   "cell_type": "code",
   "execution_count": 16,
   "metadata": {},
   "outputs": [],
   "source": []
  }
 ],
 "metadata": {
  "kernelspec": {
   "display_name": "Python 3",
   "language": "python",
   "name": "python3"
  },
  "language_info": {
   "codemirror_mode": {
    "name": "ipython",
    "version": 3
   },
   "file_extension": ".py",
   "mimetype": "text/x-python",
   "name": "python",
   "nbconvert_exporter": "python",
   "pygments_lexer": "ipython3",
   "version": "3.6.6"
  },
  "toc": {
   "base_numbering": 1,
   "nav_menu": {},
   "number_sections": true,
   "sideBar": true,
   "skip_h1_title": false,
   "title_cell": "Table of Contents",
   "title_sidebar": "Contents",
   "toc_cell": false,
   "toc_position": {},
   "toc_section_display": true,
   "toc_window_display": false
  },
  "varInspector": {
   "cols": {
    "lenName": 16,
    "lenType": 16,
    "lenVar": 40
   },
   "kernels_config": {
    "python": {
     "delete_cmd_postfix": "",
     "delete_cmd_prefix": "del ",
     "library": "var_list.py",
     "varRefreshCmd": "print(var_dic_list())"
    },
    "r": {
     "delete_cmd_postfix": ") ",
     "delete_cmd_prefix": "rm(",
     "library": "var_list.r",
     "varRefreshCmd": "cat(var_dic_list()) "
    }
   },
   "types_to_exclude": [
    "module",
    "function",
    "builtin_function_or_method",
    "instance",
    "_Feature"
   ],
   "window_display": false
  }
 },
 "nbformat": 4,
 "nbformat_minor": 2
}
