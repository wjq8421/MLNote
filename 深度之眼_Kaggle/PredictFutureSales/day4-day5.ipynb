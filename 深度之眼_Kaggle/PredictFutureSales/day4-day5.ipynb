{
 "cells": [
  {
   "cell_type": "markdown",
   "metadata": {},
   "source": [
    "## 加上每周数据\n",
    "## 数据进行归一化\n",
    "## 模型换成kaggle神器\n",
    "## 要求：就是提升到前一百名"
   ]
  },
  {
   "cell_type": "code",
   "execution_count": 1,
   "metadata": {
    "ExecuteTime": {
     "end_time": "2019-08-29T09:21:00.810822Z",
     "start_time": "2019-08-29T09:20:48.789134Z"
    },
    "_cell_guid": "b1076dfc-b9ad-4769-8c92-a6c4dae69d19",
    "_uuid": "8f2839f25d086af736a60e9eeb907d3b93b6e0e5"
   },
   "outputs": [
    {
     "data": {
      "text/plain": [
       "sys.version_info(major=3, minor=6, micro=6, releaselevel='final', serial=0)"
      ]
     },
     "execution_count": 1,
     "metadata": {},
     "output_type": "execute_result"
    }
   ],
   "source": [
    "import numpy as np\n",
    "import pandas as pd\n",
    "pd.set_option('display.max_rows', 500)\n",
    "pd.set_option('display.max_columns', 100)\n",
    "\n",
    "import gc\n",
    "import time\n",
    "import pickle\n",
    "import seaborn as sns\n",
    "from tqdm import tqdm\n",
    "from itertools import product\n",
    "import matplotlib.pyplot as plt\n",
    "from xgboost import XGBRegressor\n",
    "from sklearn import preprocessing \n",
    "from xgboost import plot_importance\n",
    "from sklearn.preprocessing import LabelEncoder\n",
    "from sklearn.model_selection import GridSearchCV\n",
    "from sklearn.model_selection import train_test_split\n",
    "\n",
    "def plot_features(booster, figsize):    \n",
    "    fig, ax = plt.subplots(1,1,figsize=figsize)\n",
    "    return plot_importance(booster=booster, ax=ax)\n",
    "\n",
    "def downcast_dtypes(df):\n",
    "    float_cols = [c for c in df if df[c].dtype == \"float64\"]\n",
    "    int_cols = [c for c in df if df[c].dtype in [\"int64\", \"int32\"]]\n",
    "    df[float_cols] = df[float_cols].astype(np.float16)\n",
    "    df[int_cols] = df[int_cols].astype(np.int16)\n",
    "    return df\n",
    "\n",
    "import sys\n",
    "sys.version_info"
   ]
  },
  {
   "cell_type": "markdown",
   "metadata": {},
   "source": [
    "## 读入保存好的数据"
   ]
  },
  {
   "cell_type": "code",
   "execution_count": 2,
   "metadata": {
    "ExecuteTime": {
     "end_time": "2019-08-29T09:21:12.350482Z",
     "start_time": "2019-08-29T09:21:06.419143Z"
    },
    "_cell_guid": "79c7e3d0-c299-4dcb-8224-4455121ee9b0",
    "_uuid": "d629ff2d2480ee46fbb7e2d37f6b5fab8052498a"
   },
   "outputs": [
    {
     "name": "stdout",
     "output_type": "stream",
     "text": [
      "(7756739, 48)\n"
     ]
    },
    {
     "data": {
      "text/html": [
       "<div>\n",
       "<style scoped>\n",
       "    .dataframe tbody tr th:only-of-type {\n",
       "        vertical-align: middle;\n",
       "    }\n",
       "\n",
       "    .dataframe tbody tr th {\n",
       "        vertical-align: top;\n",
       "    }\n",
       "\n",
       "    .dataframe thead th {\n",
       "        text-align: right;\n",
       "    }\n",
       "</style>\n",
       "<table border=\"1\" class=\"dataframe\">\n",
       "  <thead>\n",
       "    <tr style=\"text-align: right;\">\n",
       "      <th></th>\n",
       "      <th>date_block_num</th>\n",
       "      <th>shop_id</th>\n",
       "      <th>item_id</th>\n",
       "      <th>item_cnt_month</th>\n",
       "      <th>shop_city</th>\n",
       "      <th>shop_name1</th>\n",
       "      <th>shop_type</th>\n",
       "      <th>item_category_id</th>\n",
       "      <th>name_1</th>\n",
       "      <th>name_2</th>\n",
       "      <th>name_3</th>\n",
       "      <th>item_type</th>\n",
       "      <th>item_subtype</th>\n",
       "      <th>item_cnt_month_lag_1</th>\n",
       "      <th>item_cnt_month_lag_2</th>\n",
       "      <th>item_cnt_month_lag_3</th>\n",
       "      <th>date_block_num_avg_item_cnt_lag_1</th>\n",
       "      <th>date_block_num_and_item_id_avg_item_cnt_lag_1</th>\n",
       "      <th>date_block_num_and_item_id_avg_item_cnt_lag_2</th>\n",
       "      <th>date_block_num_and_item_id_avg_item_cnt_lag_3</th>\n",
       "      <th>date_block_num_and_shop_id_avg_item_cnt_lag_1</th>\n",
       "      <th>date_block_num_and_shop_id_avg_item_cnt_lag_2</th>\n",
       "      <th>date_block_num_and_shop_id_avg_item_cnt_lag_3</th>\n",
       "      <th>date_block_num_and_shop_city_avg_item_cnt_lag_1</th>\n",
       "      <th>date_block_num_and_shop_name1_avg_item_cnt_lag_1</th>\n",
       "      <th>date_block_num_and_shop_type_avg_item_cnt_lag_1</th>\n",
       "      <th>date_block_num_and_item_category_id_avg_item_cnt_lag_1</th>\n",
       "      <th>date_block_num_and_item_type_avg_item_cnt_lag_1</th>\n",
       "      <th>date_block_num_and_item_subtype_avg_item_cnt_lag_1</th>\n",
       "      <th>date_block_num_and_shop_id_and_item_id_avg_item_cnt_lag_1</th>\n",
       "      <th>date_block_num_and_shop_id_and_name_1_avg_item_cnt_lag_1</th>\n",
       "      <th>date_block_num_and_shop_id_and_name_2_avg_item_cnt_lag_1</th>\n",
       "      <th>date_block_num_and_shop_id_and_name_3_avg_item_cnt_lag_1</th>\n",
       "      <th>date_block_num_and_shop_id_and_item_category_id_avg_item_cnt_lag_1</th>\n",
       "      <th>delta_price_lag</th>\n",
       "      <th>item_shop_last_sale</th>\n",
       "      <th>item_last_sale</th>\n",
       "      <th>item_first_sale</th>\n",
       "      <th>year</th>\n",
       "      <th>month</th>\n",
       "      <th>days</th>\n",
       "      <th>week0</th>\n",
       "      <th>week1</th>\n",
       "      <th>week2</th>\n",
       "      <th>week3</th>\n",
       "      <th>week4</th>\n",
       "      <th>week5</th>\n",
       "      <th>week6</th>\n",
       "    </tr>\n",
       "  </thead>\n",
       "  <tbody>\n",
       "    <tr>\n",
       "      <th>0</th>\n",
       "      <td>4</td>\n",
       "      <td>2</td>\n",
       "      <td>27</td>\n",
       "      <td>0.0</td>\n",
       "      <td>0</td>\n",
       "      <td>0</td>\n",
       "      <td>5</td>\n",
       "      <td>19</td>\n",
       "      <td>27</td>\n",
       "      <td>77</td>\n",
       "      <td>42</td>\n",
       "      <td>5</td>\n",
       "      <td>10</td>\n",
       "      <td>0.0</td>\n",
       "      <td>0.0</td>\n",
       "      <td>0.0</td>\n",
       "      <td>0.292969</td>\n",
       "      <td>0.027771</td>\n",
       "      <td>0.083313</td>\n",
       "      <td>0.083313</td>\n",
       "      <td>0.076233</td>\n",
       "      <td>0.095459</td>\n",
       "      <td>0.063599</td>\n",
       "      <td>0.076233</td>\n",
       "      <td>0.076233</td>\n",
       "      <td>0.29126</td>\n",
       "      <td>0.743652</td>\n",
       "      <td>0.616699</td>\n",
       "      <td>0.682129</td>\n",
       "      <td>0.0</td>\n",
       "      <td>0.0</td>\n",
       "      <td>0.564453</td>\n",
       "      <td>0.096985</td>\n",
       "      <td>0.500000</td>\n",
       "      <td>0.345459</td>\n",
       "      <td>1</td>\n",
       "      <td>1</td>\n",
       "      <td>4</td>\n",
       "      <td>2013</td>\n",
       "      <td>4</td>\n",
       "      <td>31</td>\n",
       "      <td>4</td>\n",
       "      <td>4</td>\n",
       "      <td>4</td>\n",
       "      <td>5</td>\n",
       "      <td>5</td>\n",
       "      <td>5</td>\n",
       "      <td>4</td>\n",
       "    </tr>\n",
       "    <tr>\n",
       "      <th>1</th>\n",
       "      <td>4</td>\n",
       "      <td>2</td>\n",
       "      <td>28</td>\n",
       "      <td>0.0</td>\n",
       "      <td>0</td>\n",
       "      <td>0</td>\n",
       "      <td>5</td>\n",
       "      <td>30</td>\n",
       "      <td>28</td>\n",
       "      <td>108</td>\n",
       "      <td>42</td>\n",
       "      <td>8</td>\n",
       "      <td>55</td>\n",
       "      <td>0.0</td>\n",
       "      <td>0.0</td>\n",
       "      <td>0.0</td>\n",
       "      <td>0.292969</td>\n",
       "      <td>0.111084</td>\n",
       "      <td>0.083313</td>\n",
       "      <td>0.194458</td>\n",
       "      <td>0.076233</td>\n",
       "      <td>0.095459</td>\n",
       "      <td>0.063599</td>\n",
       "      <td>0.076233</td>\n",
       "      <td>0.076233</td>\n",
       "      <td>0.29126</td>\n",
       "      <td>1.081055</td>\n",
       "      <td>1.048828</td>\n",
       "      <td>1.081055</td>\n",
       "      <td>0.0</td>\n",
       "      <td>0.0</td>\n",
       "      <td>0.347900</td>\n",
       "      <td>0.096985</td>\n",
       "      <td>0.399902</td>\n",
       "      <td>0.259521</td>\n",
       "      <td>-1</td>\n",
       "      <td>1</td>\n",
       "      <td>4</td>\n",
       "      <td>2013</td>\n",
       "      <td>4</td>\n",
       "      <td>31</td>\n",
       "      <td>4</td>\n",
       "      <td>4</td>\n",
       "      <td>4</td>\n",
       "      <td>5</td>\n",
       "      <td>5</td>\n",
       "      <td>5</td>\n",
       "      <td>4</td>\n",
       "    </tr>\n",
       "    <tr>\n",
       "      <th>2</th>\n",
       "      <td>4</td>\n",
       "      <td>2</td>\n",
       "      <td>29</td>\n",
       "      <td>0.0</td>\n",
       "      <td>0</td>\n",
       "      <td>0</td>\n",
       "      <td>5</td>\n",
       "      <td>23</td>\n",
       "      <td>29</td>\n",
       "      <td>124</td>\n",
       "      <td>42</td>\n",
       "      <td>5</td>\n",
       "      <td>16</td>\n",
       "      <td>0.0</td>\n",
       "      <td>0.0</td>\n",
       "      <td>0.0</td>\n",
       "      <td>0.000000</td>\n",
       "      <td>0.000000</td>\n",
       "      <td>0.000000</td>\n",
       "      <td>0.000000</td>\n",
       "      <td>0.000000</td>\n",
       "      <td>0.000000</td>\n",
       "      <td>0.000000</td>\n",
       "      <td>0.000000</td>\n",
       "      <td>0.000000</td>\n",
       "      <td>0.00000</td>\n",
       "      <td>0.000000</td>\n",
       "      <td>0.000000</td>\n",
       "      <td>0.000000</td>\n",
       "      <td>0.0</td>\n",
       "      <td>0.0</td>\n",
       "      <td>0.000000</td>\n",
       "      <td>0.000000</td>\n",
       "      <td>0.000000</td>\n",
       "      <td>0.000000</td>\n",
       "      <td>-1</td>\n",
       "      <td>4</td>\n",
       "      <td>4</td>\n",
       "      <td>2013</td>\n",
       "      <td>4</td>\n",
       "      <td>31</td>\n",
       "      <td>4</td>\n",
       "      <td>4</td>\n",
       "      <td>4</td>\n",
       "      <td>5</td>\n",
       "      <td>5</td>\n",
       "      <td>5</td>\n",
       "      <td>4</td>\n",
       "    </tr>\n",
       "  </tbody>\n",
       "</table>\n",
       "</div>"
      ],
      "text/plain": [
       "   date_block_num  shop_id  item_id  item_cnt_month  shop_city  shop_name1  \\\n",
       "0               4        2       27             0.0          0           0   \n",
       "1               4        2       28             0.0          0           0   \n",
       "2               4        2       29             0.0          0           0   \n",
       "\n",
       "   shop_type  item_category_id  name_1  name_2  name_3  item_type  \\\n",
       "0          5                19      27      77      42          5   \n",
       "1          5                30      28     108      42          8   \n",
       "2          5                23      29     124      42          5   \n",
       "\n",
       "   item_subtype  item_cnt_month_lag_1  item_cnt_month_lag_2  \\\n",
       "0            10                   0.0                   0.0   \n",
       "1            55                   0.0                   0.0   \n",
       "2            16                   0.0                   0.0   \n",
       "\n",
       "   item_cnt_month_lag_3  date_block_num_avg_item_cnt_lag_1  \\\n",
       "0                   0.0                           0.292969   \n",
       "1                   0.0                           0.292969   \n",
       "2                   0.0                           0.000000   \n",
       "\n",
       "   date_block_num_and_item_id_avg_item_cnt_lag_1  \\\n",
       "0                                       0.027771   \n",
       "1                                       0.111084   \n",
       "2                                       0.000000   \n",
       "\n",
       "   date_block_num_and_item_id_avg_item_cnt_lag_2  \\\n",
       "0                                       0.083313   \n",
       "1                                       0.083313   \n",
       "2                                       0.000000   \n",
       "\n",
       "   date_block_num_and_item_id_avg_item_cnt_lag_3  \\\n",
       "0                                       0.083313   \n",
       "1                                       0.194458   \n",
       "2                                       0.000000   \n",
       "\n",
       "   date_block_num_and_shop_id_avg_item_cnt_lag_1  \\\n",
       "0                                       0.076233   \n",
       "1                                       0.076233   \n",
       "2                                       0.000000   \n",
       "\n",
       "   date_block_num_and_shop_id_avg_item_cnt_lag_2  \\\n",
       "0                                       0.095459   \n",
       "1                                       0.095459   \n",
       "2                                       0.000000   \n",
       "\n",
       "   date_block_num_and_shop_id_avg_item_cnt_lag_3  \\\n",
       "0                                       0.063599   \n",
       "1                                       0.063599   \n",
       "2                                       0.000000   \n",
       "\n",
       "   date_block_num_and_shop_city_avg_item_cnt_lag_1  \\\n",
       "0                                         0.076233   \n",
       "1                                         0.076233   \n",
       "2                                         0.000000   \n",
       "\n",
       "   date_block_num_and_shop_name1_avg_item_cnt_lag_1  \\\n",
       "0                                          0.076233   \n",
       "1                                          0.076233   \n",
       "2                                          0.000000   \n",
       "\n",
       "   date_block_num_and_shop_type_avg_item_cnt_lag_1  \\\n",
       "0                                          0.29126   \n",
       "1                                          0.29126   \n",
       "2                                          0.00000   \n",
       "\n",
       "   date_block_num_and_item_category_id_avg_item_cnt_lag_1  \\\n",
       "0                                           0.743652        \n",
       "1                                           1.081055        \n",
       "2                                           0.000000        \n",
       "\n",
       "   date_block_num_and_item_type_avg_item_cnt_lag_1  \\\n",
       "0                                         0.616699   \n",
       "1                                         1.048828   \n",
       "2                                         0.000000   \n",
       "\n",
       "   date_block_num_and_item_subtype_avg_item_cnt_lag_1  \\\n",
       "0                                           0.682129    \n",
       "1                                           1.081055    \n",
       "2                                           0.000000    \n",
       "\n",
       "   date_block_num_and_shop_id_and_item_id_avg_item_cnt_lag_1  \\\n",
       "0                                                0.0           \n",
       "1                                                0.0           \n",
       "2                                                0.0           \n",
       "\n",
       "   date_block_num_and_shop_id_and_name_1_avg_item_cnt_lag_1  \\\n",
       "0                                                0.0          \n",
       "1                                                0.0          \n",
       "2                                                0.0          \n",
       "\n",
       "   date_block_num_and_shop_id_and_name_2_avg_item_cnt_lag_1  \\\n",
       "0                                           0.564453          \n",
       "1                                           0.347900          \n",
       "2                                           0.000000          \n",
       "\n",
       "   date_block_num_and_shop_id_and_name_3_avg_item_cnt_lag_1  \\\n",
       "0                                           0.096985          \n",
       "1                                           0.096985          \n",
       "2                                           0.000000          \n",
       "\n",
       "   date_block_num_and_shop_id_and_item_category_id_avg_item_cnt_lag_1  \\\n",
       "0                                           0.500000                    \n",
       "1                                           0.399902                    \n",
       "2                                           0.000000                    \n",
       "\n",
       "   delta_price_lag  item_shop_last_sale  item_last_sale  item_first_sale  \\\n",
       "0         0.345459                    1               1                4   \n",
       "1         0.259521                   -1               1                4   \n",
       "2         0.000000                   -1               4                4   \n",
       "\n",
       "   year  month  days  week0  week1  week2  week3  week4  week5  week6  \n",
       "0  2013      4    31      4      4      4      5      5      5      4  \n",
       "1  2013      4    31      4      4      4      5      5      5      4  \n",
       "2  2013      4    31      4      4      4      5      5      5      4  "
      ]
     },
     "execution_count": 2,
     "metadata": {},
     "output_type": "execute_result"
    }
   ],
   "source": [
    "data = pd.read_pickle('E:\\\\文件管理集合\\\\笔记\\\\机器学习\\\\深度之眼_Kaggle\\\\PredictFutureSales\\\\data2.pkl')\n",
    "# data = data[[\n",
    "#     'date_block_num', \n",
    "#     'shop_id', \n",
    "#     'item_id', \n",
    "#     'item_cnt_month',\n",
    "    \n",
    "# #     'shop_city', \n",
    "# #     'shop_name1',\n",
    "# #     'shop_type', \n",
    "    \n",
    "# #     'name_1', \n",
    "# #     'name_2', \n",
    "# #     'name_3',\n",
    "    \n",
    "# #     'item_type', \n",
    "# #     'item_subtype', \n",
    "# #     'item_category_id', \n",
    "    \n",
    "# #     'item_cnt_month_lag_1',\n",
    "# #     'item_cnt_month_lag_2', \n",
    "# #     'item_cnt_month_lag_3',\n",
    "# #     'date_block_num_avg_item_cnt_lag_1',\n",
    "# #     'date_block_num_and_item_id_avg_item_cnt_lag_1',\n",
    "# #     'date_block_num_and_item_id_avg_item_cnt_lag_2',\n",
    "# #     'date_block_num_and_item_id_avg_item_cnt_lag_3',\n",
    "# #     'date_block_num_and_shop_id_avg_item_cnt_lag_1',\n",
    "# #     'date_block_num_and_shop_id_avg_item_cnt_lag_2',\n",
    "# #     'date_block_num_and_shop_id_avg_item_cnt_lag_3',\n",
    "    \n",
    "# #     'date_block_num_and_shop_city_avg_item_cnt_lag_1',\n",
    "# #     'date_block_num_and_shop_name1_avg_item_cnt_lag_1',\n",
    "# #     'date_block_num_and_shop_type_avg_item_cnt_lag_1',\n",
    "    \n",
    "# #     'date_block_num_and_item_category_id_avg_item_cnt_lag_1',\n",
    "# #     'date_block_num_and_item_type_avg_item_cnt_lag_1',\n",
    "# #     'date_block_num_and_item_subtype_avg_item_cnt_lag_1',\n",
    "    \n",
    "# #     'date_block_num_and_shop_id_and_item_id_avg_item_cnt_lag_1',\n",
    "# #     'date_block_num_and_shop_id_and_name_1_avg_item_cnt_lag_1',\n",
    "# #     'date_block_num_and_shop_id_and_name_2_avg_item_cnt_lag_1',\n",
    "# #     'date_block_num_and_shop_id_and_name_3_avg_item_cnt_lag_1',\n",
    "# #     'date_block_num_and_shop_id_and_item_category_id_avg_item_cnt_lag_1',\n",
    "    \n",
    "# #     'delta_price_lag', \n",
    "# #     'item_shop_last_sale', \n",
    "# #     'item_last_sale',\n",
    "# #     'item_first_sale', \n",
    "# #     'year', \n",
    "# #     'month', \n",
    "# #     'days'\n",
    "# ]]\n",
    "\n",
    "print(data.shape)\n",
    "data.head(3)"
   ]
  },
  {
   "cell_type": "code",
   "execution_count": 3,
   "metadata": {
    "ExecuteTime": {
     "end_time": "2019-08-29T09:21:33.369684Z",
     "start_time": "2019-08-29T09:21:25.325224Z"
    }
   },
   "outputs": [
    {
     "name": "stdout",
     "output_type": "stream",
     "text": [
      "[2154.6486486486488, 2463.0, 2351.0810810810813, 2506.7297297297296, 2377.945945945946, 2258.7297297297296, 2416.7837837837837, 3432.815789473684, 2279.1052631578946, 2168.3684210526317, 2128.358974358974, 1720.1, 1770.275, 1814.35, 1673.4878048780488, 1881.8536585365853, 1645.6829268292684, 1702.439024390244, 1962.7560975609756, 2952.170731707317, 1940.0, 1661.2926829268292, 1621.9756097560976, 1397.8536585365853, 1351.9268292682927, 1354.3170731707316, 1371.439024390244, 1484.5853658536585, 1392.0731707317073, 1360.7380952380952]\n"
     ]
    }
   ],
   "source": [
    "##求出每个月的均值销售额##shop_mean_months\n",
    "a = []\n",
    "for i in range(4,34):\n",
    "    b = data[data.date_block_num==i]##取到每一个月\n",
    "    c = b.sum()['item_cnt_month']#求和\n",
    "    d = len(b.shop_id.unique())#长度（个数）\n",
    "    a.append(c/d)#求得均值\n",
    "print(a)"
   ]
  },
  {
   "cell_type": "code",
   "execution_count": 4,
   "metadata": {
    "ExecuteTime": {
     "end_time": "2019-08-29T09:22:58.141533Z",
     "start_time": "2019-08-29T09:22:58.136533Z"
    }
   },
   "outputs": [
    {
     "data": {
      "text/plain": [
       "30"
      ]
     },
     "execution_count": 4,
     "metadata": {},
     "output_type": "execute_result"
    }
   ],
   "source": [
    "len(a)"
   ]
  },
  {
   "cell_type": "code",
   "execution_count": 5,
   "metadata": {
    "ExecuteTime": {
     "end_time": "2019-08-29T09:23:00.707680Z",
     "start_time": "2019-08-29T09:23:00.369660Z"
    }
   },
   "outputs": [
    {
     "data": {
      "image/png": "[encoded data removed]",
      "text/plain": [
       "<Figure size 1008x720 with 1 Axes>"
      ]
     },
     "metadata": {
      "needs_background": "light"
     },
     "output_type": "display_data"
    }
   ],
   "source": [
    "import matplotlib.pyplot as plt\n",
    "from pylab import *                                 #支持中文\n",
    "\n",
    "# ax.plot(range(4,34), a, marker='o', mec='r', mfc='w',label='shop_mean_month')\n",
    "# ax.legend()  # 让图例生效\n",
    "\n",
    "plt.subplots(1,1,figsize=(14,10))\n",
    "plt.plot(range(4,34), a, marker='o', mec='r', mfc='w',label='shop_mean_month')\n",
    "plt.legend()  # 让图例生效\n",
    "plt.xlabel('month') #X轴标签\n",
    "plt.ylabel(\"shop_mean_month\") #Y轴标签\n",
    "plt.title(\"shop_mean_month\") #标题\n",
    "\n",
    "plt.show()"
   ]
  },
  {
   "cell_type": "code",
   "execution_count": 6,
   "metadata": {
    "ExecuteTime": {
     "end_time": "2019-08-29T09:23:08.396119Z",
     "start_time": "2019-08-29T09:23:03.651848Z"
    }
   },
   "outputs": [
    {
     "data": {
      "text/plain": [
       "2532"
      ]
     },
     "execution_count": 6,
     "metadata": {},
     "output_type": "execute_result"
    }
   ],
   "source": [
    "##添加周特征，周的每一天的特征\n",
    "weekarr = []\n",
    "t = 2\n",
    "count = 0\n",
    "for w in range(3):\n",
    "    for i in [31,28,31,30,31,30,31,31,30,31,30,31]:\n",
    "        a = [0,0,0,0,0,0,0,count]\n",
    "        count+=1\n",
    "        for j in range(i):\n",
    "            a[t]+=1\n",
    "            if t==6:\n",
    "                t=-1\n",
    "            t+=1\n",
    "        weekarr.append(a)\n",
    "weekarr = pd.DataFrame(np.vstack(weekarr), columns=['week0','week1','week2','week3','week4','week5','week6','date_block_num'])\n",
    "data = pd.merge(data, weekarr, on=['date_block_num'], how='left')#加进去\n",
    "del weekarr\n",
    "gc.collect()"
   ]
  },
  {
   "cell_type": "code",
   "execution_count": 7,
   "metadata": {
    "ExecuteTime": {
     "end_time": "2019-08-29T09:23:32.174480Z",
     "start_time": "2019-08-29T09:23:28.348261Z"
    }
   },
   "outputs": [
    {
     "data": {
      "text/plain": [
       "7"
      ]
     },
     "execution_count": 7,
     "metadata": {},
     "output_type": "execute_result"
    }
   ],
   "source": [
    "##数据集的划分\n",
    "X_zong = data.drop(['item_cnt_month'], axis=1)#去掉标签\n",
    "Y_train = data[data.date_block_num < 33]['item_cnt_month']#训练集的标签\n",
    "Y_valid = data[data.date_block_num == 33]['item_cnt_month']#交叉验证的标签\n",
    "del data##删除数据集减少占用内存\n",
    "gc.collect()##垃圾回收机制"
   ]
  },
  {
   "cell_type": "code",
   "execution_count": 10,
   "metadata": {
    "ExecuteTime": {
     "end_time": "2019-08-29T09:27:17.870389Z",
     "start_time": "2019-08-29T09:27:17.861388Z"
    }
   },
   "outputs": [
    {
     "data": {
      "text/plain": [
       "Index(['date_block_num', 'shop_id', 'item_id', 'shop_city', 'shop_name1',\n",
       "       'shop_type', 'item_category_id', 'name_1', 'name_2', 'name_3',\n",
       "       'item_type', 'item_subtype', 'item_cnt_month_lag_1',\n",
       "       'item_cnt_month_lag_2', 'item_cnt_month_lag_3',\n",
       "       'date_block_num_avg_item_cnt_lag_1',\n",
       "       'date_block_num_and_item_id_avg_item_cnt_lag_1',\n",
       "       'date_block_num_and_item_id_avg_item_cnt_lag_2',\n",
       "       'date_block_num_and_item_id_avg_item_cnt_lag_3',\n",
       "       'date_block_num_and_shop_id_avg_item_cnt_lag_1',\n",
       "       'date_block_num_and_shop_id_avg_item_cnt_lag_2',\n",
       "       'date_block_num_and_shop_id_avg_item_cnt_lag_3',\n",
       "       'date_block_num_and_shop_city_avg_item_cnt_lag_1',\n",
       "       'date_block_num_and_shop_name1_avg_item_cnt_lag_1',\n",
       "       'date_block_num_and_shop_type_avg_item_cnt_lag_1',\n",
       "       'date_block_num_and_item_category_id_avg_item_cnt_lag_1',\n",
       "       'date_block_num_and_item_type_avg_item_cnt_lag_1',\n",
       "       'date_block_num_and_item_subtype_avg_item_cnt_lag_1',\n",
       "       'date_block_num_and_shop_id_and_item_id_avg_item_cnt_lag_1',\n",
       "       'date_block_num_and_shop_id_and_name_1_avg_item_cnt_lag_1',\n",
       "       'date_block_num_and_shop_id_and_name_2_avg_item_cnt_lag_1',\n",
       "       'date_block_num_and_shop_id_and_name_3_avg_item_cnt_lag_1',\n",
       "       'date_block_num_and_shop_id_and_item_category_id_avg_item_cnt_lag_1',\n",
       "       'delta_price_lag', 'item_shop_last_sale', 'item_last_sale',\n",
       "       'item_first_sale', 'year', 'month', 'days', 'week0_x', 'week1_x',\n",
       "       'week2_x', 'week3_x', 'week4_x', 'week5_x', 'week6_x', 'week0_y',\n",
       "       'week1_y', 'week2_y', 'week3_y', 'week4_y', 'week5_y', 'week6_y'],\n",
       "      dtype='object')"
      ]
     },
     "execution_count": 10,
     "metadata": {},
     "output_type": "execute_result"
    }
   ],
   "source": [
    "X_zong.columns"
   ]
  },
  {
   "cell_type": "code",
   "execution_count": 11,
   "metadata": {
    "ExecuteTime": {
     "end_time": "2019-08-29T09:30:53.601728Z",
     "start_time": "2019-08-29T09:27:47.575088Z"
    }
   },
   "outputs": [
    {
     "data": {
      "text/plain": [
       "803"
      ]
     },
     "execution_count": 11,
     "metadata": {},
     "output_type": "execute_result"
    }
   ],
   "source": [
    "from sklearn.preprocessing import MinMaxScaler ##数据归一化\n",
    "minMax = MinMaxScaler()    \n",
    "\n",
    "\n",
    "X_zong_std = minMax.fit_transform(X_zong.iloc[:,:-7])  ##取所有的行，除了后七列的所有的\n",
    "X_zong.iloc[:,:-7] = pd.DataFrame(np.vstack(X_zong_std),columns=X_zong.columns[:-7])\n",
    "X_zong.iloc[:,:-7] = downcast_dtypes(X_zong.iloc[:,:-7])#转换数据类型，为了减少内存\n",
    "\n",
    "##这就是排除出去的后七列\n",
    "# X_zong['week0'] = X_zong['week0'].astype(np.int8)\n",
    "# X_zong['week1'] = X_zong['week1'].astype(np.int8)\n",
    "# X_zong['week2'] = X_zong['week2'].astype(np.int8)\n",
    "# X_zong['week3'] = X_zong['week3'].astype(np.int8)\n",
    "# X_zong['week4'] = X_zong['week4'].astype(np.int8)\n",
    "# X_zong['week5'] = X_zong['week5'].astype(np.int8)\n",
    "# X_zong['week6'] = X_zong['week6'].astype(np.int8)\n",
    "\n",
    "del X_zong_std\n",
    "gc.collect()"
   ]
  },
  {
   "cell_type": "code",
   "execution_count": 12,
   "metadata": {
    "ExecuteTime": {
     "end_time": "2019-08-29T09:33:15.935869Z",
     "start_time": "2019-08-29T09:33:11.462613Z"
    }
   },
   "outputs": [
    {
     "data": {
      "text/plain": [
       "0"
      ]
     },
     "execution_count": 12,
     "metadata": {},
     "output_type": "execute_result"
    }
   ],
   "source": [
    "X_train = X_zong[X_zong.date_block_num < 0.96679688]\n",
    "X_valid = X_zong[X_zong.date_block_num == 0.96679688]\n",
    "X_test = X_zong[X_zong.date_block_num == 1]\n",
    "del X_zong\n",
    "gc.collect()"
   ]
  },
  {
   "cell_type": "markdown",
   "metadata": {},
   "source": [
    "## 模型的训练--lightgbm、catboost ，集成（堆叠）"
   ]
  },
  {
   "cell_type": "code",
   "execution_count": null,
   "metadata": {
    "ExecuteTime": {
     "start_time": "2019-08-29T09:33:19.937Z"
    }
   },
   "outputs": [
    {
     "name": "stderr",
     "output_type": "stream",
     "text": [
      "d:\\python36\\deeplearning\\lib\\site-packages\\xgboost\\core.py:587: FutureWarning: Series.base is deprecated and will be removed in a future version\n",
      "  if getattr(data, 'base', None) is not None and \\\n",
      "d:\\python36\\deeplearning\\lib\\site-packages\\xgboost\\core.py:588: FutureWarning: Series.base is deprecated and will be removed in a future version\n",
      "  data.base is not None and isinstance(data, np.ndarray) \\\n"
     ]
    },
    {
     "name": "stdout",
     "output_type": "stream",
     "text": [
      "[17:34:15] WARNING: C:/Jenkins/workspace/xgboost-win64_release_0.90/src/objective/regression_obj.cu:152: reg:linear is now deprecated in favor of reg:squarederror.\n",
      "[17:34:17] WARNING: C:\\Jenkins\\workspace\\xgboost-win64_release_0.90\\src\\learner.cc:686: Tree method is automatically selected to be 'approx' for faster speed. To use old behavior (exact greedy algorithm on single machine), set tree_method to 'exact'.\n",
      "[0]\tvalidation_0-rmse:1.18754\tvalidation_1-rmse:1.05314\n",
      "Multiple eval metrics have been passed: 'validation_1-rmse' will be used for early stopping.\n",
      "\n",
      "Will train until validation_1-rmse hasn't improved in 10 rounds.\n",
      "[1]\tvalidation_0-rmse:1.13577\tvalidation_1-rmse:1.00944\n",
      "[2]\tvalidation_0-rmse:1.09064\tvalidation_1-rmse:0.972859\n",
      "[3]\tvalidation_0-rmse:1.05191\tvalidation_1-rmse:0.941881\n",
      "[4]\tvalidation_0-rmse:1.02194\tvalidation_1-rmse:0.919657\n",
      "[5]\tvalidation_0-rmse:0.993192\tvalidation_1-rmse:0.896879\n",
      "[6]\tvalidation_0-rmse:0.968819\tvalidation_1-rmse:0.878388\n",
      "[7]\tvalidation_0-rmse:0.948021\tvalidation_1-rmse:0.86331\n",
      "[8]\tvalidation_0-rmse:0.930284\tvalidation_1-rmse:0.851421\n",
      "[9]\tvalidation_0-rmse:0.915562\tvalidation_1-rmse:0.842109\n",
      "[10]\tvalidation_0-rmse:0.901842\tvalidation_1-rmse:0.832688\n"
     ]
    }
   ],
   "source": [
    "##参数可以自己改\n",
    "ts = time.time()\n",
    "\n",
    "model = XGBRegressor(\n",
    "    max_depth=10,\n",
    "    n_estimators=1000,\n",
    "    min_child_weight=0.5, \n",
    "    colsample_bytree=0.9, \n",
    "    subsample=0.8, \n",
    "    eta=0.1,    \n",
    "    seed=1)\n",
    "\n",
    "model.fit(\n",
    "    X_train, \n",
    "    Y_train, \n",
    "    eval_metric=\"rmse\", \n",
    "    eval_set=[(X_train, Y_train), (X_valid, Y_valid)], \n",
    "    verbose=True, \n",
    "    early_stopping_rounds = 10)\n",
    "\n",
    "time.time() - ts"
   ]
  },
  {
   "cell_type": "code",
   "execution_count": null,
   "metadata": {},
   "outputs": [],
   "source": [
    "plot_features(model, (10,14))"
   ]
  },
  {
   "cell_type": "markdown",
   "metadata": {},
   "source": [
    "## 保存为自己所需要的数据"
   ]
  },
  {
   "cell_type": "code",
   "execution_count": null,
   "metadata": {},
   "outputs": [],
   "source": [
    "Y_test = model.predict(X_test).clip(0, 20)##clip0-20之间\n",
    "test = pd.read_csv('/kaggle/input/competitive-data-science-predict-future-sales/test.csv').set_index('ID')\n",
    "\n",
    "submission = pd.DataFrame({\n",
    "    \"ID\": test.index, \n",
    "    \"item_cnt_month\": Y_test\n",
    "})\n",
    "submission.to_csv('xgb_submission1.csv', index=False)"
   ]
  },
  {
   "cell_type": "markdown",
   "metadata": {},
   "source": [
    "## 自己先查资料、了解地震波的原理，以及以报告的形式，写出地震比赛中的要求以及评估方式，自己可以去探索一下数据（EDA）。"
   ]
  },
  {
   "cell_type": "code",
   "execution_count": null,
   "metadata": {},
   "outputs": [],
   "source": []
  }
 ],
 "metadata": {
  "kernelspec": {
   "display_name": "Python 3",
   "language": "python",
   "name": "python3"
  },
  "language_info": {
   "codemirror_mode": {
    "name": "ipython",
    "version": 3
   },
   "file_extension": ".py",
   "mimetype": "text/x-python",
   "name": "python",
   "nbconvert_exporter": "python",
   "pygments_lexer": "ipython3",
   "version": "3.6.6"
  },
  "toc": {
   "base_numbering": 1,
   "nav_menu": {},
   "number_sections": true,
   "sideBar": true,
   "skip_h1_title": false,
   "title_cell": "Table of Contents",
   "title_sidebar": "Contents",
   "toc_cell": false,
   "toc_position": {},
   "toc_section_display": true,
   "toc_window_display": true
  },
  "varInspector": {
   "cols": {
    "lenName": 16,
    "lenType": 16,
    "lenVar": 40
   },
   "kernels_config": {
    "python": {
     "delete_cmd_postfix": "",
     "delete_cmd_prefix": "del ",
     "library": "var_list.py",
     "varRefreshCmd": "print(var_dic_list())"
    },
    "r": {
     "delete_cmd_postfix": ") ",
     "delete_cmd_prefix": "rm(",
     "library": "var_list.r",
     "varRefreshCmd": "cat(var_dic_list()) "
    }
   },
   "types_to_exclude": [
    "module",
    "function",
    "builtin_function_or_method",
    "instance",
    "_Feature"
   ],
   "window_display": false
  }
 },
 "nbformat": 4,
 "nbformat_minor": 1
}
