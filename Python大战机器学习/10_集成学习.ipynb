{
 "cells": [
  {
   "cell_type": "markdown",
   "metadata": {},
   "source": [
    "### 集成学习\n",
    "- 集成学习把大大小小的多种算法融合在一起，共同协作来解决一个问题。\n",
    "\n",
    "选取个体学习器的准则是：\n",
    "- 个体学习器要有一定的准确性，预测能力不能太差；\n",
    "- 个体学习器之间要有多样性，即学习器之间要有差异。\n",
    "\n",
    "假定基分类器的错误率为$\\epsilon$，即对每个基分类器$h_i$有：$$P(h_i(\\vec{x})\\neq y) = \\epsilon$$\n",
    "\n",
    "假设集成学习结合了$M$个基分类器$h_1,h_2,\\cdots,h_M$，然后通过简单投票法来组合这些基分类器：即若有超过半数的基分类器正确，则集成分类$H(\\vec{x})$就正确。\n",
    "\n",
    "集成学习器预测错误的条件为：$k$个基分类器预测正确，其中$k\\leq \\left \\lfloor M/2 \\right \\rfloor$。假设基分类器的错误率相互独立，则集成学习器预测错误的概率为：$$P(H(\\vec{x})\\neq y)=\\sum_{k=0}^{\\left \\lfloor M/2 \\right \\rfloor}C_M^k(1-\\epsilon)\\epsilon^{M-k} \\leq exp(-\\frac{1}{2}M(1-2\\epsilon)^2)$$\n",
    "随着$M \\rightarrow \\infty$，集成学习器预测错误的概率$P(H(\\vec{x})\\neq y)\\rightarrow 0$\n",
    "\n",
    "Boosting算法：个体学习器之间存在强依赖关系，必须串行生成。\n",
    "\n",
    "Bagging算法：个体学习之间不存在强依赖关系，可同时生成。"
   ]
  },
  {
   "cell_type": "markdown",
   "metadata": {},
   "source": [
    "#### Boosting算法\n",
    "理论基础：强可学习与弱可学习是等价的。Boosting就是一族可以将弱学习器提升为强学习器的算法。 \n",
    "- 强可学习的：若存在一个多项式的学习算法能够学习它，并且正确率很高。\n",
    "- 弱可学习的：若存在一个多项式的学习算法能够学习它，学习的正确率仅比随机猜测略好。\n",
    "\n",
    "工作步骤为：\n",
    "> 1. 先从初始训练集训练出一个基学习器；\n",
    "> 2. 再根据基学习器的表现对训练样本权重进行调整，使得被先前的基学习器误判的训练样本在后续受到更多关注；\n",
    "> 3. 然后基于调整后的样本权重来训练下一个基学习器；\n",
    "> 4. 如此重复，直到基学习器数量达到给定的值$M$为止；\n",
    "> 5. 最终将这$M$个基学习器进行加权组合得到集成学习器。"
   ]
  },
  {
   "cell_type": "markdown",
   "metadata": {},
   "source": [
    "##### AdaBoost算法\n",
    "AdaBoost算法通过更新训练数据集的权重向量，提高那些被前一轮弱分类器错误分类样本的权值，而降低那些被正确分类样本的权值。\n",
    "\n",
    "$$H(\\vec{x})=sign(\\sum_{m=1}^M\\alpha _m h_m(\\vec{x}))$$\n",
    "其中，$\\alpha _m = \\frac{1}{2}log\\frac{1-e_m}{e_m}$，说明误差越小的基分类器，其重要性越高。$e_m$为第$m$个基分类器的分类误差率。\n",
    "\n",
    "- 对于正确分类样本，$h_m(\\vec{x}_i)=y_i$下一轮权重为：$w_i^{<m+1>}=\\frac{w_i^{<m>}}{Z_m}exp(-\\alpha_m)$；\n",
    "- 对于错误分类样本，$h_m(\\vec{x}_i)\\neq y_i$下一轮权重为：$w_i^{<m+1>}=\\frac{w_i^{<m>}}{Z_m}exp(\\alpha_m)$。\n",
    "\n",
    "误分类样本的权重是正确分类样本权重的$exp(2\\alpha_m)=\\frac{e_m}{1-e_m}$倍，且其必须大于1，因此$e_m<\\frac{1}{2}$。\n",
    "- 如果在迭代过程中发现基本分类器的误差率$e_m \\geq \\frac{1}{2}$时，算法终止。\n",
    "\n",
    "##### AdaBoost多类分类（SAMME算法）\n",
    "最终分类器为：$$H(\\vec{x})=arg\\ \\underset{c_k}{max}(\\sum_{m=1}^M\\alpha_mI(h_m(\\vec{x})=c_k))$$\n",
    "其中，$\\alpha _m = \\frac{1}{2}log\\frac{1-e_m}{e_m}+log(K-1)$。\n",
    "\n",
    "- 即由每个个体分类器带权重投票，得分最多的分类就是集成分类器的分类结果。"
   ]
  },
  {
   "cell_type": "markdown",
   "metadata": {},
   "source": [
    "#### 提升树\n",
    "以决策树为基本学习器的提升方法。提升树模型可表示为决策树为基本分类器的加法模型：$$f(\\vec{x})=f_M(\\vec{x})=\\sum_{m=1}^Mh_m(\\vec{x};\\Theta_m)$$\n",
    "\n",
    "采用前向分步算法，则在第$m$步给定当前模型$f_{m-1}(\\vec{x})$，求解：$$\\hat{\\Theta}_m=arg\\ \\underset{\\Theta_m}{min}\\sum_{i=1}^NL(y_i,f_{m-1}(\\vec{x}_i)+h_m(\\vec{x}_i;\\Theta_m))$$"
   ]
  },
  {
   "cell_type": "markdown",
   "metadata": {},
   "source": [
    "##### GBRT（梯度提升回归树）、GBDT（梯度提升决策树）\n"
   ]
  },
  {
   "cell_type": "markdown",
   "metadata": {
    "ExecuteTime": {
     "end_time": "2019-01-04T01:04:25.959908Z",
     "start_time": "2019-01-04T01:04:25.949908Z"
    }
   },
   "source": [
    "#### Bagging算法\n",
    "**自助采样法**（Bootstrap Sampling）：先从$D$中随机取出一个样本放入采样集$D_s$中，再把该样本放回$D$中（有放回的重复独立采样）。经过$N$次随机采样操作，得到包含$N$个样本的采样集$D_s$。\n",
    "\n",
    "Bagging首先采用$M$轮自助采样法，获得$M$个包含$N$个训练样本的采样集。然后，基于这些采样集训练出一个基学习器。最后将这$M$个基学习器进行组合。\n",
    "- 分类任务采取简单投票法，即每个基学习器一票；\n",
    "- 回归任务使用简单平均法，即每个基学习器的预测值取平均值。\n",
    "\n",
    "##### 随机森林（Random Forest）\n",
    "RF是一种以决策树为基学习器的Bagging算法。\n",
    "\n",
    "在RF中构建决策树，选择节点的划分属性时：\n",
    "> 1. 首先从该节点的属性集合中随机选择一个包含$k$个属性的子集；\n",
    "> 2. 然后再从这个子集中选择一个最优属性用于划分。\n",
    "\n",
    "如果$k=n$，则RF中决策树的构建与传统决策树相同。如果$k=1$，则随机选择一个属性用于划分。通常建议$k=log_2n$。\n",
    "\n",
    "个体学习器准确性越高、多样性越大，则集成越好。"
   ]
  },
  {
   "cell_type": "markdown",
   "metadata": {},
   "source": [
    "增大个体学习器多样性的方法：\n",
    "> 1. 数据样本扰动\n",
    "    - 给定初始数据集，可使用采样法从中产生出不同的数据子集。然后再利用不同的数据子集训练出不同的个体学习器。\n",
    "> 2. 输入属性扰动\n",
    "    - 训练样本通常由一组属性来描述，可基于这些属性的不同组合产生不同的数据子集，然后再利用这些数据子集训练出不同的个体学习器。\n",
    "    - 若数据包含了大量的冗余属性，则效果较好。\n",
    "> 3. 算法参数扰动\n",
    "    - 通常可通过随机设置不同的参数，比如对模型参数加入小范围的随机扰动，从而产生差别较大的个体学习器。"
   ]
  },
  {
   "cell_type": "markdown",
   "metadata": {},
   "source": [
    "### 实战"
   ]
  },
  {
   "cell_type": "code",
   "execution_count": 1,
   "metadata": {
    "ExecuteTime": {
     "end_time": "2019-01-16T02:40:35.969732Z",
     "start_time": "2019-01-16T02:40:31.362468Z"
    }
   },
   "outputs": [],
   "source": [
    "import matplotlib.pyplot as plt\n",
    "import numpy as np\n",
    "from sklearn import datasets, ensemble\n",
    "from sklearn.model_selection import train_test_split"
   ]
  },
  {
   "cell_type": "code",
   "execution_count": 2,
   "metadata": {
    "ExecuteTime": {
     "end_time": "2019-01-16T02:40:37.933844Z",
     "start_time": "2019-01-16T02:40:37.928844Z"
    }
   },
   "outputs": [],
   "source": [
    "def load_data_regression():\n",
    "    diabetes = datasets.load_diabetes()\n",
    "    return train_test_split(diabetes.data, diabetes.target, test_size=0.25, random_state=0)"
   ]
  },
  {
   "cell_type": "code",
   "execution_count": 3,
   "metadata": {
    "ExecuteTime": {
     "end_time": "2019-01-16T02:40:39.602940Z",
     "start_time": "2019-01-16T02:40:39.597939Z"
    }
   },
   "outputs": [],
   "source": [
    "def load_data_classification():\n",
    "    digits = datasets.load_digits()\n",
    "    return train_test_split(digits.data, digits.target, test_size=0.25, random_state=0)"
   ]
  },
  {
   "cell_type": "markdown",
   "metadata": {},
   "source": [
    "#### AdaBoostClassifier 分类器\n",
    "**sklearn.ensemble.AdaBoostClassifier(base_estimator=None, n_estimators=50, learning_rate=1.0, algorithm='SAMME.R', random_state=None)**\n",
    "> 1. base_estimator：基分类器对象，默认为DecisionTreeClassifier(max_depth=1)\n",
    "> 2. n_estimators：整数，指定基分类器的数量。\n",
    "> 3. learning_rate：浮点数，用于减少每一步的步长，防止步长太大而跨过了极值点。\n",
    "> 4. algorithm：字符串，指定算法。\n",
    "    - SAMME.R：基分类器对象必须支持计算类别的概率\n",
    "    - SAMME\n",
    "    \n",
    "属性：\n",
    "> 1. estimators_：所有训练过的基分类器\n",
    "> 2. classes_：所有的类别标签\n",
    "> 3. n_classes_：类别数量\n",
    "> 4. estimator_weights_：每个基分类器的权重\n",
    "> 5. estimator_errors_：每个基分类器的分类误差\n",
    "> 6. feature_importances_：每个特征的重要性\n",
    "\n",
    "方法：\n",
    "> 1. fit(X, y[, sample_weight])\n",
    "> 2. predict(X)\n",
    "> 3. predict_log_proba(X)：数组，数组元素依次是$X$预测为各个类别的概率的对数值\n",
    "> 4. predict_proba(X)\n",
    "> 5. score(X, y[, sample_weight])：返回$(X,y)$上预测的准确率\n",
    "> 6. staged_predict(X)：返回数组，其元素依次是每一轮迭代结束时尚未完成的集成分类器的预测值。\n",
    "> 7. staged_predict_proba(X)：返回二维数组，其元素依次是每一轮迭代结束时尚未完成的集成分类器预测$X$为各个类别的概率值。\n",
    "> 8. staged_score(X, y[, sample_weight])：返回数组，其元素依次为每一轮迭代结束时尚未完成的集成分类器的预测准确率。"
   ]
  },
  {
   "cell_type": "code",
   "execution_count": 9,
   "metadata": {
    "ExecuteTime": {
     "end_time": "2019-01-04T02:31:16.799951Z",
     "start_time": "2019-01-04T02:31:16.305923Z"
    }
   },
   "outputs": [
    {
     "data": {
      "image/png": "[encoded data removed]",
      "text/plain": [
       "<Figure size 432x288 with 1 Axes>"
      ]
     },
     "metadata": {
      "needs_background": "light"
     },
     "output_type": "display_data"
    }
   ],
   "source": [
    "def test_AdaBoostClassifier(*data):\n",
    "    X_train, X_test, y_train, y_test = data\n",
    "    clf = ensemble.AdaBoostClassifier(learning_rate=0.1)\n",
    "    clf.fit(X_train, y_train)\n",
    "    \n",
    "    fig = plt.figure()\n",
    "    ax = fig.add_subplot(1,1,1)\n",
    "    estimators_num = len(clf.estimators_)\n",
    "    X = range(1, estimators_num + 1)\n",
    "    ax.plot(list(X), list(clf.staged_score(X_train, y_train)), label='Training score')\n",
    "    ax.plot(list(X), list(clf.staged_score(X_test, y_test)), label='Testing score')\n",
    "    ax.set_xlabel(\"estimator num\")\n",
    "    ax.set_ylabel(\"score\")\n",
    "    ax.legend(loc=\"best\")\n",
    "    ax.set_title(\"AdaBoostClassifier\")\n",
    "    plt.show()\n",
    "    \n",
    "X_train, X_test, y_train, y_test = load_data_classification()\n",
    "test_AdaBoostClassifier(X_train, X_test, y_train, y_test)"
   ]
  },
  {
   "cell_type": "code",
   "execution_count": 13,
   "metadata": {
    "ExecuteTime": {
     "end_time": "2019-01-04T02:39:15.133310Z",
     "start_time": "2019-01-04T02:39:13.453214Z"
    }
   },
   "outputs": [
    {
     "data": {
      "image/png": "[encoded data removed]",
      "text/plain": [
       "<Figure size 432x288 with 2 Axes>"
      ]
     },
     "metadata": {
      "needs_background": "light"
     },
     "output_type": "display_data"
    }
   ],
   "source": [
    "def test_AdaBoostClassifier_base_classifier(*data):\n",
    "    from sklearn.naive_bayes import GaussianNB\n",
    "    X_train, X_test, y_train, y_test = data\n",
    "    fig = plt.figure()\n",
    "    ax = fig.add_subplot(2,1,1)\n",
    "    \n",
    "    clf = ensemble.AdaBoostClassifier(learning_rate=0.1)\n",
    "    clf.fit(X_train, y_train)\n",
    "    \n",
    "    estimators_num = len(clf.estimators_)\n",
    "    X = range(1, estimators_num + 1)\n",
    "    ax.plot(list(X), list(clf.staged_score(X_train, y_train)), label='Training score')\n",
    "    ax.plot(list(X), list(clf.staged_score(X_test, y_test)), label='Testing score')\n",
    "    ax.set_xlabel(\"estimator num\")\n",
    "    ax.set_ylabel(\"score\")\n",
    "    ax.legend(loc=\"lower right\")\n",
    "    ax.set_ylim(0, 1)\n",
    "    ax.set_title(\"AdaBoostClassifier with Decision Tree\")\n",
    "    \n",
    "    ax = fig.add_subplot(2,1,2)\n",
    "    clf = ensemble.AdaBoostClassifier(learning_rate=0.1, base_estimator=GaussianNB())\n",
    "    clf.fit(X_train, y_train)\n",
    "    \n",
    "    estimators_num = len(clf.estimators_)\n",
    "    X = range(1, estimators_num + 1)\n",
    "    ax.plot(list(X), list(clf.staged_score(X_train, y_train)), label='Training score')\n",
    "    ax.plot(list(X), list(clf.staged_score(X_test, y_test)), label='Testing score')\n",
    "    ax.set_xlabel(\"estimator num\")\n",
    "    ax.set_ylabel(\"score\")\n",
    "    ax.legend(loc=\"lower right\")\n",
    "    ax.set_ylim(0, 1)\n",
    "    ax.set_title(\"AdaBoostClassifier with Gaussian Naive Bayes\")\n",
    "    plt.show()\n",
    "    \n",
    "X_train, X_test, y_train, y_test = load_data_classification()\n",
    "test_AdaBoostClassifier_base_classifier(X_train, X_test, y_train, y_test)"
   ]
  },
  {
   "cell_type": "markdown",
   "metadata": {},
   "source": [
    "#### AdaBoostRegressor 回归器\n",
    "**sklearn.ensemble.AdaBoostRegressor(base_estimator=None, n_estimators=50, learning_rate=1.0, loss='linear', random_state=None)**\n",
    "> 1. loss：字符串，指定损失函数\n",
    "    - linear：线性损失函数\n",
    "    - square：平方损失函数\n",
    "    - exponential：指数损失函数\n",
    "    \n",
    "属性：\n",
    "> 1. estimators_：所有训练过的基分类器\n",
    "> 2. estimator_weights_：每个基分类器的权重\n",
    "> 3. estimator_errors_：每个基分类器的分类误差\n",
    "> 4. feature_importances_：每个特征的重要性\n",
    "\n",
    "方法：\n",
    "> 1. fit(X, y[, sample_weight])\n",
    "> 2. predict(X)\n",
    "> 3. score(X, y[, sample_weight])：返回$(X,y)$上预测的准确率\n",
    "> 4. staged_predict(X)：返回数组，其元素依次是每一轮迭代结束时尚未完成的集成分类器的预测值。\n",
    "> 5. staged_score(X, y[, sample_weight])：返回数组，其元素依次为每一轮迭代结束时尚未完成的集成分类器的预测准确率。"
   ]
  },
  {
   "cell_type": "code",
   "execution_count": 17,
   "metadata": {
    "ExecuteTime": {
     "end_time": "2019-01-04T03:29:56.392260Z",
     "start_time": "2019-01-04T03:29:56.058241Z"
    }
   },
   "outputs": [
    {
     "data": {
      "image/png": "[encoded data removed]",
      "text/plain": [
       "<Figure size 432x288 with 1 Axes>"
      ]
     },
     "metadata": {
      "needs_background": "light"
     },
     "output_type": "display_data"
    }
   ],
   "source": [
    "def test_AdaBoostRegressor(*data):\n",
    "    X_train, X_test, y_train, y_test = data\n",
    "    clf = ensemble.AdaBoostRegressor()\n",
    "    clf.fit(X_train, y_train)\n",
    "    \n",
    "    fig = plt.figure()\n",
    "    ax = fig.add_subplot(1,1,1)\n",
    "    estimators_num = len(clf.estimators_)\n",
    "    X = range(1, estimators_num + 1)\n",
    "    ax.plot(list(X), list(clf.staged_score(X_train, y_train)), label='Training score')\n",
    "    ax.plot(list(X), list(clf.staged_score(X_test, y_test)), label='Testing score')\n",
    "    ax.set_xlabel(\"estimator num\")\n",
    "    ax.set_ylabel(\"score\")\n",
    "    ax.legend(loc=\"best\")\n",
    "    ax.set_title(\"AdaBoostRegressor\")\n",
    "    plt.show()\n",
    "    \n",
    "X_train, X_test, y_train, y_test = load_data_regression()\n",
    "test_AdaBoostRegressor(X_train, X_test, y_train, y_test)"
   ]
  },
  {
   "cell_type": "markdown",
   "metadata": {},
   "source": [
    "#### GradientBoostingClassifier（GBDT）\n",
    "**sklearn.ensemble.GradientBoostingClassifier(loss='deviance', learning_rate=0.1, n_estimators=100, subsample=1.0, criterion='friedman_mse', min_samples_split=2, min_samples_leaf=1, min_weight_fraction_leaf=0.0, max_depth=3, min_impurity_decrease=0.0, min_impurity_split=None, init=None, random_state=None, max_features=None, verbose=0, max_leaf_nodes=None, warm_start=False, presort='auto', validation_fraction=0.1, n_iter_no_change=None, tol=0.0001)**\n",
    "> 1. loss：字符串，指定函数函数\n",
    "    - deviance：使用对数损失函数\n",
    "    - exponential：使用指数损失函数\n",
    "> 2. n_estimators：整数，指定基础决策树的数量。\n",
    "> 3. subsample：浮点数，指定了提取原始训练集中的一个子集用于训练基础决策树。若其小于1.0，即为随机梯度提升决策树。\n",
    "> 4. min_samples_split：指定每个基础决策树模型的min_samples_split参数。\n",
    "> 5. min_samples_leaf：指定每个基础决策树模型的min_samples_leaf参数。\n",
    "> 6. min_weight_fraction_leaf：指定每个基础决策树模型的min_weight_fraction_leaf参数。\n",
    "\n",
    "属性：\n",
    "> 1. feature_importances_：数组，给出每个特征的重要性。\n",
    "> 2. oob_improvement_：数组，给出每增加一棵基础决策树，在测试集的损失函数的改善情况。\n",
    "> 3. train_score_：数组，给出每增加一棵基础决策树，在训练集上的损失函数的值。\n",
    "> 4. init：初始预测使用的分类器。\n",
    "> 5. estimators_：数组，给出每棵基础决策树。\n",
    "\n",
    "方法：\n",
    "> 1. fit(X, y[, sample_weight, monitor])\n",
    "> 2. predict(X)\n",
    "> 3. predict_log_proba(X)：数组，数组元素依次是$X$预测为各个类别的概率的对数值\n",
    "> 4. predict_proba(X)\n",
    "> 5. score(X, y[, sample_weight])：返回$(X,y)$上预测的准确率\n",
    "> 6. staged_predict(X)：返回数组，其元素依次是每一轮迭代结束时尚未完成的集成分类器的预测值。\n",
    "> 7. staged_predict_proba(X)：返回二维数组，其元素依次是每一轮迭代结束时尚未完成的集成分类器预测$X$为各个类别的概率值。"
   ]
  },
  {
   "cell_type": "code",
   "execution_count": 20,
   "metadata": {
    "ExecuteTime": {
     "end_time": "2019-01-04T06:12:38.497621Z",
     "start_time": "2019-01-04T06:12:34.974419Z"
    }
   },
   "outputs": [
    {
     "name": "stdout",
     "output_type": "stream",
     "text": [
      "Training Score: 1.0\n",
      "Testing Score: 0.9622222222222222\n"
     ]
    }
   ],
   "source": [
    "def test_GradientBoostingClassifier(*data):\n",
    "    X_train, X_test, y_train, y_test = data\n",
    "    clf = ensemble.GradientBoostingClassifier()\n",
    "    clf.fit(X_train, y_train)\n",
    "    print(\"Training Score: %s\"% clf.score(X_train, y_train))\n",
    "    print(\"Testing Score: %s\"% clf.score(X_test, y_test))\n",
    "    \n",
    "X_train, X_test, y_train, y_test = load_data_classification()\n",
    "test_GradientBoostingClassifier(X_train, X_test, y_train, y_test)"
   ]
  },
  {
   "cell_type": "markdown",
   "metadata": {},
   "source": [
    "#### GradientBoostingRegressor（GBRT）\n",
    "**sklearn.ensemble.GradientBoostingRegressor(loss='ls', learning_rate=0.1, n_estimators=100, subsample=1.0, criterion='friedman_mse', min_samples_split=2, min_samples_leaf=1, min_weight_fraction_leaf=0.0, max_depth=3, min_impurity_decrease=0.0, min_impurity_split=None, init=None, random_state=None, max_features=None, alpha=0.9, verbose=0, max_leaf_nodes=None, warm_start=False, presort='auto', validation_fraction=0.1, n_iter_no_change=None, tol=0.0001)**\n",
    "> 1. loss：字符串，指定损失函数\n",
    "    - ls：平方损失函数\n",
    "    - lad：绝对值损失函数\n",
    "    - huber：为上述两者的结合，通过alpha参数指定比例。\n",
    "    - quantile：分位数回归，通过alpha参数指定分位数。\n",
    "\n",
    "属性：\n",
    "> 1. feature_importances_：数组，给出每个特征的重要性。\n",
    "> 2. oob_improvement_：数组，给出每增加一棵基础决策树，在测试集的损失函数的改善情况。\n",
    "> 3. train_score_：数组，给出每增加一棵基础决策树，在训练集上的损失函数的值。\n",
    "> 4. init：初始预测使用的分类器。\n",
    "> 5. estimators_：数组，给出每棵基础决策树。\n",
    "\n",
    "方法：\n",
    "> 1. fit(X, y[, sample_weight, monitor])\n",
    "> 2. predict(X)\n",
    "> 3. predict_log_proba(X)：数组，数组元素依次是$X$预测为各个类别的概率的对数值\n",
    "> 4. predict_proba(X)\n",
    "> 5. score(X, y[, sample_weight])：返回$(X,y)$上预测的准确率\n",
    "> 6. staged_predict(X)：返回数组，其元素依次是每一轮迭代结束时尚未完成的集成分类器的预测值。"
   ]
  },
  {
   "cell_type": "code",
   "execution_count": 21,
   "metadata": {
    "ExecuteTime": {
     "end_time": "2019-01-04T06:22:42.522169Z",
     "start_time": "2019-01-04T06:22:42.458165Z"
    }
   },
   "outputs": [
    {
     "name": "stdout",
     "output_type": "stream",
     "text": [
      "Training Score: 0.8784713882091157\n",
      "Testing Score: 0.22123008843922765\n"
     ]
    }
   ],
   "source": [
    "def test_GradientBoostingRegressor(*data):\n",
    "    X_train, X_test, y_train, y_test = data\n",
    "    clf = ensemble.GradientBoostingRegressor()\n",
    "    clf.fit(X_train, y_train)\n",
    "    print(\"Training Score: %s\"% clf.score(X_train, y_train))\n",
    "    print(\"Testing Score: %s\"% clf.score(X_test, y_test))\n",
    "    \n",
    "X_train, X_test, y_train, y_test = load_data_regression()\n",
    "test_GradientBoostingRegressor(X_train, X_test, y_train, y_test)"
   ]
  },
  {
   "cell_type": "markdown",
   "metadata": {},
   "source": [
    "#### RandomForestClassifier\n",
    "**sklearn.ensemble.RandomForestClassifier(n_estimators='warn', criterion='gini', max_depth=None, min_samples_split=2, min_samples_leaf=1, min_weight_fraction_leaf=0.0, max_features='auto', max_leaf_nodes=None, min_impurity_decrease=0.0, min_impurity_split=None, bootstrap=True, oob_score=False, n_jobs=None, random_state=None, verbose=0, warm_start=False, class_weight=None)**\n",
    "> 1. n_estimators：整数，指定了随机森林中决策树的数量。\n",
    "> 2. bootstrap：布尔值，若为True，则使用采样法bootstrap sampling来产生决策树的训练数据集。\n",
    "> 3. max_depth：每棵决策树的最大深度。\n",
    "> 4. max_features：每棵决策树的max_features参数。\n",
    "\n",
    "属性：\n",
    "> 1. estimators_：决策树的实例的数组，存放所有训练过的决策树。\n",
    "> 2. classes_：[n_classes]数组，为类别标签。\n",
    "> 3. n_classes_：整数，为类别数量。\n",
    "> 4. n_features_：整数，在训练时使用的特征数量。\n",
    "> 5. n_outputs_：整数，在训练时输出的数量。\n",
    "> 6. feature_importances_：[n_features]数组，给出每个特征的重要性。\n",
    "> 7. oob_score_：浮点数，训练数据使用包外估计时的得分。\n",
    "\n",
    "方法：\n",
    "> 1. fit(X, y[, sample_weight])\n",
    "> 2. predict(X)\n",
    "> 3. predict_log_proba(X)\n",
    "> 4. predict_proba(X)\n",
    "> 5. score(X, y[, sample_weight])"
   ]
  },
  {
   "cell_type": "code",
   "execution_count": 5,
   "metadata": {
    "ExecuteTime": {
     "end_time": "2019-01-16T02:45:02.591982Z",
     "start_time": "2019-01-16T02:45:02.325966Z"
    }
   },
   "outputs": [
    {
     "name": "stdout",
     "output_type": "stream",
     "text": [
      "Training Score: 1.000000\n",
      "Testing Score: 0.977778\n"
     ]
    }
   ],
   "source": [
    "def test_RandomForestClassifier(*data):\n",
    "    X_train, X_test, y_train, y_test = data\n",
    "    clf = ensemble.RandomForestClassifier(n_estimators=50)\n",
    "    clf.fit(X_train, y_train)\n",
    "    print('Training Score: %f' % clf.score(X_train, y_train))\n",
    "    print('Testing Score: %f' % clf.score(X_test, y_test))\n",
    "    \n",
    "X_train, X_test, y_train, y_test = load_data_classification()\n",
    "test_RandomForestClassifier(X_train, X_test, y_train, y_test)"
   ]
  },
  {
   "cell_type": "markdown",
   "metadata": {},
   "source": [
    "#### RandomForestRegressor\n"
   ]
  },
  {
   "cell_type": "markdown",
   "metadata": {
    "ExecuteTime": {
     "end_time": "2019-01-16T05:53:49.973871Z",
     "start_time": "2019-01-16T05:53:49.967871Z"
    }
   },
   "source": [
    "**sklearn.ensemble.RandomForestRegressor(n_estimators='warn', criterion='mse', max_depth=None, min_samples_split=2, min_samples_leaf=1, min_weight_fraction_leaf=0.0, max_features='auto', max_leaf_nodes=None, min_impurity_decrease=0.0, min_impurity_split=None, bootstrap=True, oob_score=False, n_jobs=None, random_state=None, verbose=0, warm_start=False)**\n",
    "\n",
    "属性：\n",
    "> 1. estimators_：决策树的实例的数组，存放所有训练过的决策树。\n",
    "> 2. classes_：[n_classes]数组，为类别标签。\n",
    "> 3. n_outputs_：整数，在训练时输出的数量。\n",
    "> 4. feature_importances_：[n_features]数组，给出每个特征的重要性。\n",
    "> 5. oob_score_：浮点数，训练数据使用包外估计时的得分。\n",
    "> 6. oob_prediction_：数组，训练数据使用外包估计时的预测值。\n",
    "\n",
    "方法：\n",
    "> 1. fit(X, y[, sample_weight])\n",
    "> 2. predict(X)\n",
    "> 3. score(X, y[, sample_weight])"
   ]
  },
  {
   "cell_type": "code",
   "execution_count": 19,
   "metadata": {
    "ExecuteTime": {
     "end_time": "2019-01-16T06:37:25.311460Z",
     "start_time": "2019-01-16T06:37:25.173452Z"
    }
   },
   "outputs": [
    {
     "name": "stdout",
     "output_type": "stream",
     "text": [
      "Training Score: 0.926647\n",
      "Testing Score: 0.221017\n"
     ]
    }
   ],
   "source": [
    "def test_RandomForestRegressor(*data):\n",
    "    X_train, X_test, y_train, y_test = data\n",
    "    regr = ensemble.RandomForestRegressor(n_estimators=50)\n",
    "    regr.fit(X_train, y_train)\n",
    "    print('Training Score: %f' % regr.score(X_train, y_train))\n",
    "    print('Testing Score: %f' % regr.score(X_test, y_test))\n",
    "    \n",
    "X_train, X_test, y_train, y_test = load_data_regression()\n",
    "test_RandomForestRegressor(X_train, X_test, y_train, y_test)"
   ]
  }
 ],
 "metadata": {
  "kernelspec": {
   "display_name": "Python 3",
   "language": "python",
   "name": "python3"
  },
  "language_info": {
   "codemirror_mode": {
    "name": "ipython",
    "version": 3
   },
   "file_extension": ".py",
   "mimetype": "text/x-python",
   "name": "python",
   "nbconvert_exporter": "python",
   "pygments_lexer": "ipython3",
   "version": "3.6.6"
  },
  "toc": {
   "base_numbering": 1,
   "nav_menu": {},
   "number_sections": true,
   "sideBar": true,
   "skip_h1_title": false,
   "title_cell": "Table of Contents",
   "title_sidebar": "Contents",
   "toc_cell": false,
   "toc_position": {},
   "toc_section_display": true,
   "toc_window_display": true
  },
  "varInspector": {
   "cols": {
    "lenName": 16,
    "lenType": 16,
    "lenVar": 40
   },
   "kernels_config": {
    "python": {
     "delete_cmd_postfix": "",
     "delete_cmd_prefix": "del ",
     "library": "var_list.py",
     "varRefreshCmd": "print(var_dic_list())"
    },
    "r": {
     "delete_cmd_postfix": ") ",
     "delete_cmd_prefix": "rm(",
     "library": "var_list.r",
     "varRefreshCmd": "cat(var_dic_list()) "
    }
   },
   "types_to_exclude": [
    "module",
    "function",
    "builtin_function_or_method",
    "instance",
    "_Feature"
   ],
   "window_display": false
  }
 },
 "nbformat": 4,
 "nbformat_minor": 2
}
