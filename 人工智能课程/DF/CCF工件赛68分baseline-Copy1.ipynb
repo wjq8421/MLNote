{
 "cells": [
  {
   "cell_type": "code",
   "execution_count": 2,
   "metadata": {
    "ExecuteTime": {
     "end_time": "2019-09-03T08:32:51.839205Z",
     "start_time": "2019-09-03T08:32:47.744185Z"
    }
   },
   "outputs": [],
   "source": [
    "import pandas as pd\n",
    "import numpy as np\n",
    "from catboost import CatBoostClassifier\n",
    "# catboost安装方式：命令行输入 pip install -i https://pypi.tuna.tsinghua.edu.cn/simple catboost"
   ]
  },
  {
   "cell_type": "code",
   "execution_count": 3,
   "metadata": {
    "ExecuteTime": {
     "end_time": "2019-09-03T08:32:52.029730Z",
     "start_time": "2019-09-03T08:32:51.854707Z"
    }
   },
   "outputs": [],
   "source": [
    "# 读取数据\n",
    "train = pd.read_csv('.\\\\data\\\\first_round_training_data.csv')\n",
    "test = pd.read_csv('.\\\\data\\\\first_round_testing_data.csv')"
   ]
  },
  {
   "cell_type": "code",
   "execution_count": 4,
   "metadata": {
    "ExecuteTime": {
     "end_time": "2019-09-03T08:32:52.094738Z",
     "start_time": "2019-09-03T08:32:52.091237Z"
    }
   },
   "outputs": [],
   "source": [
    "# 特征列表\n",
    "features = [\"Parameter5\",\"Parameter6\",\"Parameter7\",\"Parameter8\",\"Parameter9\",\"Parameter10\"]"
   ]
  },
  {
   "cell_type": "code",
   "execution_count": 5,
   "metadata": {
    "ExecuteTime": {
     "end_time": "2019-09-03T08:32:52.252758Z",
     "start_time": "2019-09-03T08:32:52.152745Z"
    }
   },
   "outputs": [],
   "source": [
    "# 标签转化\n",
    "def quality_encoder(x):\n",
    "    return {'Excellent':0,'Good':1,'Pass':2,'Fail':3}[x]\n",
    "\n",
    "train['label'] = train.Quality_label.apply(quality_encoder)\n",
    "train['label_Excellent'] = 1*(train['label'] == 0)\n",
    "train['label_Good'] = 1*(train['label'] == 1)\n",
    "train['label_Pass'] = 1*(train['label'] == 2)\n",
    "train['label_Fail'] = 1*(train['label'] == 3)"
   ]
  },
  {
   "cell_type": "code",
   "execution_count": 6,
   "metadata": {
    "ExecuteTime": {
     "end_time": "2019-09-03T08:34:51.862946Z",
     "start_time": "2019-09-03T08:32:52.325267Z"
    }
   },
   "outputs": [
    {
     "name": "stdout",
     "output_type": "stream",
     "text": [
      "0:\tlearn: 1.3814611\ttotal: 137ms\tremaining: 4m 34s\n",
      "100:\tlearn: 1.1609463\ttotal: 6.18s\tremaining: 1m 56s\n",
      "200:\tlearn: 1.1042828\ttotal: 12.1s\tremaining: 1m 48s\n",
      "300:\tlearn: 1.0812268\ttotal: 17.8s\tremaining: 1m 40s\n",
      "400:\tlearn: 1.0687255\ttotal: 23.6s\tremaining: 1m 34s\n",
      "500:\tlearn: 1.0594367\ttotal: 29.1s\tremaining: 1m 27s\n",
      "600:\tlearn: 1.0521968\ttotal: 34.8s\tremaining: 1m 21s\n",
      "700:\tlearn: 1.0462422\ttotal: 40.3s\tremaining: 1m 14s\n",
      "800:\tlearn: 1.0408338\ttotal: 45.7s\tremaining: 1m 8s\n",
      "900:\tlearn: 1.0360825\ttotal: 51.2s\tremaining: 1m 2s\n",
      "1000:\tlearn: 1.0310389\ttotal: 57s\tremaining: 56.9s\n",
      "1100:\tlearn: 1.0257770\ttotal: 1m 2s\tremaining: 51.4s\n",
      "1200:\tlearn: 1.0207589\ttotal: 1m 9s\tremaining: 46s\n",
      "1300:\tlearn: 1.0157969\ttotal: 1m 15s\tremaining: 40.6s\n",
      "1400:\tlearn: 1.0113287\ttotal: 1m 21s\tremaining: 34.9s\n",
      "1500:\tlearn: 1.0075482\ttotal: 1m 27s\tremaining: 29.2s\n",
      "1600:\tlearn: 1.0034624\ttotal: 1m 34s\tremaining: 23.5s\n",
      "1700:\tlearn: 0.9998904\ttotal: 1m 40s\tremaining: 17.7s\n",
      "1800:\tlearn: 0.9964848\ttotal: 1m 46s\tremaining: 11.8s\n",
      "1900:\tlearn: 0.9934997\ttotal: 1m 53s\tremaining: 5.89s\n",
      "1999:\tlearn: 0.9907316\ttotal: 1m 59s\tremaining: 0us\n"
     ]
    },
    {
     "data": {
      "text/plain": [
       "0.485"
      ]
     },
     "execution_count": 6,
     "metadata": {},
     "output_type": "execute_result"
    }
   ],
   "source": [
    "# 本地多分类准确率评估\n",
    "local_train = train.iloc[:5000,:].copy()\n",
    "local_valid = train.iloc[5000:,:].copy()\n",
    "\n",
    "model = CatBoostClassifier(iterations=2000,depth=8,learning_rate=0.01,verbose=100,loss_function='MultiClass',random_state=666)\n",
    "model.fit(local_train.loc[:,features],local_train.label)\n",
    "\n",
    "local_valid['prediction'] = model.predict(local_valid.loc[:,features])\n",
    "(local_valid.label == local_valid.prediction).mean()"
   ]
  },
  {
   "cell_type": "code",
   "execution_count": 7,
   "metadata": {
    "ExecuteTime": {
     "end_time": "2019-09-03T08:36:55.760679Z",
     "start_time": "2019-09-03T08:34:51.973961Z"
    }
   },
   "outputs": [
    {
     "name": "stdout",
     "output_type": "stream",
     "text": [
      "0:\tlearn: 1.3817637\ttotal: 68.7ms\tremaining: 2m 17s\n",
      "100:\tlearn: 1.1648519\ttotal: 6.33s\tremaining: 1m 58s\n",
      "200:\tlearn: 1.1100865\ttotal: 12.6s\tremaining: 1m 53s\n",
      "300:\tlearn: 1.0893340\ttotal: 18.7s\tremaining: 1m 45s\n",
      "400:\tlearn: 1.0773263\ttotal: 24.4s\tremaining: 1m 37s\n",
      "500:\tlearn: 1.0688930\ttotal: 30.4s\tremaining: 1m 30s\n",
      "600:\tlearn: 1.0622544\ttotal: 36.2s\tremaining: 1m 24s\n",
      "700:\tlearn: 1.0567301\ttotal: 42.2s\tremaining: 1m 18s\n",
      "800:\tlearn: 1.0516514\ttotal: 48.2s\tremaining: 1m 12s\n",
      "900:\tlearn: 1.0472675\ttotal: 54s\tremaining: 1m 5s\n",
      "1000:\tlearn: 1.0429465\ttotal: 59.8s\tremaining: 59.7s\n",
      "1100:\tlearn: 1.0384945\ttotal: 1m 5s\tremaining: 53.8s\n",
      "1200:\tlearn: 1.0333279\ttotal: 1m 12s\tremaining: 48s\n",
      "1300:\tlearn: 1.0287419\ttotal: 1m 18s\tremaining: 42.3s\n",
      "1400:\tlearn: 1.0247204\ttotal: 1m 25s\tremaining: 36.4s\n",
      "1500:\tlearn: 1.0203804\ttotal: 1m 31s\tremaining: 30.4s\n",
      "1600:\tlearn: 1.0164020\ttotal: 1m 38s\tremaining: 24.4s\n",
      "1700:\tlearn: 1.0127281\ttotal: 1m 44s\tremaining: 18.4s\n",
      "1800:\tlearn: 1.0092687\ttotal: 1m 50s\tremaining: 12.3s\n",
      "1900:\tlearn: 1.0058746\ttotal: 1m 57s\tremaining: 6.11s\n",
      "1999:\tlearn: 1.0028721\ttotal: 2m 3s\tremaining: 0us\n"
     ]
    }
   ],
   "source": [
    "# 线上提交\n",
    "model = CatBoostClassifier(iterations=2000,depth=8,learning_rate=0.01,verbose=100,loss_function='MultiClass',random_state=903)\n",
    "\n",
    "model.fit(train.loc[:,features],train.label)\n",
    "\n",
    "test['prediction'] = model.predict(test.loc[:,features])\n",
    "test['prob_Excellent'] = 0.0\n",
    "test['prob_Good'] = 0.0\n",
    "test['prob_Pass'] = 0.0\n",
    "test['prob_Fail'] = 0.0\n",
    "test.loc[:,['prob_Excellent','prob_Good','prob_Pass','prob_Fail']] = model.predict_proba(test.loc[:,features])"
   ]
  },
  {
   "cell_type": "code",
   "execution_count": 9,
   "metadata": {
    "ExecuteTime": {
     "end_time": "2019-09-03T08:37:02.284508Z",
     "start_time": "2019-09-03T08:37:02.264505Z"
    }
   },
   "outputs": [],
   "source": [
    "# 提交用\n",
    "prediction = test.groupby(['Group'],as_index=False)['prob_Excellent','prob_Good','prob_Pass','prob_Fail'].mean()\n",
    "prediction.columns = ['Group','Excellent ratio','Good ratio','Pass ratio','Fail ratio']\n",
    "prediction.to_csv('baseline.csv',index=False)"
   ]
  },
  {
   "cell_type": "code",
   "execution_count": 13,
   "metadata": {
    "ExecuteTime": {
     "end_time": "2019-09-03T08:58:09.808963Z",
     "start_time": "2019-09-03T08:58:09.771458Z"
    }
   },
   "outputs": [
    {
     "data": {
      "text/html": [
       "<div>\n",
       "<style scoped>\n",
       "    .dataframe tbody tr th:only-of-type {\n",
       "        vertical-align: middle;\n",
       "    }\n",
       "\n",
       "    .dataframe tbody tr th {\n",
       "        vertical-align: top;\n",
       "    }\n",
       "\n",
       "    .dataframe thead th {\n",
       "        text-align: right;\n",
       "    }\n",
       "</style>\n",
       "<table border=\"1\" class=\"dataframe\">\n",
       "  <thead>\n",
       "    <tr style=\"text-align: right;\">\n",
       "      <th></th>\n",
       "      <th>Group</th>\n",
       "      <th>Parameter1</th>\n",
       "      <th>Parameter10</th>\n",
       "      <th>Parameter2</th>\n",
       "      <th>Parameter3</th>\n",
       "      <th>Parameter4</th>\n",
       "      <th>Parameter5</th>\n",
       "      <th>Parameter6</th>\n",
       "      <th>Parameter7</th>\n",
       "      <th>Parameter8</th>\n",
       "      <th>Parameter9</th>\n",
       "      <th>prediction</th>\n",
       "      <th>prob_Excellent</th>\n",
       "      <th>prob_Good</th>\n",
       "      <th>prob_Pass</th>\n",
       "      <th>prob_Fail</th>\n",
       "    </tr>\n",
       "  </thead>\n",
       "  <tbody>\n",
       "    <tr>\n",
       "      <th>0</th>\n",
       "      <td>0</td>\n",
       "      <td>0.235279</td>\n",
       "      <td>0.195680</td>\n",
       "      <td>0.351488</td>\n",
       "      <td>0.186814</td>\n",
       "      <td>0.086456</td>\n",
       "      <td>1.434060</td>\n",
       "      <td>1.230409</td>\n",
       "      <td>0.038483</td>\n",
       "      <td>2.931083</td>\n",
       "      <td>2.005852</td>\n",
       "      <td>0.0</td>\n",
       "      <td>0.428520</td>\n",
       "      <td>0.277435</td>\n",
       "      <td>0.254325</td>\n",
       "      <td>0.039719</td>\n",
       "    </tr>\n",
       "    <tr>\n",
       "      <th>1</th>\n",
       "      <td>0</td>\n",
       "      <td>0.043799</td>\n",
       "      <td>0.523976</td>\n",
       "      <td>32.590688</td>\n",
       "      <td>0.886285</td>\n",
       "      <td>29.702490</td>\n",
       "      <td>0.027434</td>\n",
       "      <td>0.016852</td>\n",
       "      <td>0.600827</td>\n",
       "      <td>0.118077</td>\n",
       "      <td>887.611257</td>\n",
       "      <td>3.0</td>\n",
       "      <td>0.012315</td>\n",
       "      <td>0.152226</td>\n",
       "      <td>0.055159</td>\n",
       "      <td>0.780300</td>\n",
       "    </tr>\n",
       "    <tr>\n",
       "      <th>2</th>\n",
       "      <td>0</td>\n",
       "      <td>21.466737</td>\n",
       "      <td>0.523976</td>\n",
       "      <td>11.847792</td>\n",
       "      <td>79499.554454</td>\n",
       "      <td>13544.605343</td>\n",
       "      <td>0.027434</td>\n",
       "      <td>0.016852</td>\n",
       "      <td>0.600827</td>\n",
       "      <td>0.118077</td>\n",
       "      <td>887.611257</td>\n",
       "      <td>3.0</td>\n",
       "      <td>0.012315</td>\n",
       "      <td>0.152226</td>\n",
       "      <td>0.055159</td>\n",
       "      <td>0.780300</td>\n",
       "    </tr>\n",
       "    <tr>\n",
       "      <th>3</th>\n",
       "      <td>0</td>\n",
       "      <td>0.703795</td>\n",
       "      <td>0.010192</td>\n",
       "      <td>0.018080</td>\n",
       "      <td>317.015599</td>\n",
       "      <td>38.087562</td>\n",
       "      <td>0.428092</td>\n",
       "      <td>0.314162</td>\n",
       "      <td>0.038483</td>\n",
       "      <td>17.850021</td>\n",
       "      <td>0.051850</td>\n",
       "      <td>1.0</td>\n",
       "      <td>0.102019</td>\n",
       "      <td>0.526633</td>\n",
       "      <td>0.126028</td>\n",
       "      <td>0.245321</td>\n",
       "    </tr>\n",
       "    <tr>\n",
       "      <th>4</th>\n",
       "      <td>0</td>\n",
       "      <td>10.447960</td>\n",
       "      <td>0.010192</td>\n",
       "      <td>15.983891</td>\n",
       "      <td>0.996049</td>\n",
       "      <td>16.715690</td>\n",
       "      <td>0.477823</td>\n",
       "      <td>0.464037</td>\n",
       "      <td>0.038483</td>\n",
       "      <td>17.850021</td>\n",
       "      <td>0.051850</td>\n",
       "      <td>1.0</td>\n",
       "      <td>0.095198</td>\n",
       "      <td>0.530673</td>\n",
       "      <td>0.134150</td>\n",
       "      <td>0.239979</td>\n",
       "    </tr>\n",
       "  </tbody>\n",
       "</table>\n",
       "</div>"
      ],
      "text/plain": [
       "   Group  Parameter1  Parameter10  Parameter2    Parameter3    Parameter4  \\\n",
       "0      0    0.235279     0.195680    0.351488      0.186814      0.086456   \n",
       "1      0    0.043799     0.523976   32.590688      0.886285     29.702490   \n",
       "2      0   21.466737     0.523976   11.847792  79499.554454  13544.605343   \n",
       "3      0    0.703795     0.010192    0.018080    317.015599     38.087562   \n",
       "4      0   10.447960     0.010192   15.983891      0.996049     16.715690   \n",
       "\n",
       "   Parameter5  Parameter6  Parameter7  Parameter8  Parameter9  prediction  \\\n",
       "0    1.434060    1.230409    0.038483    2.931083    2.005852         0.0   \n",
       "1    0.027434    0.016852    0.600827    0.118077  887.611257         3.0   \n",
       "2    0.027434    0.016852    0.600827    0.118077  887.611257         3.0   \n",
       "3    0.428092    0.314162    0.038483   17.850021    0.051850         1.0   \n",
       "4    0.477823    0.464037    0.038483   17.850021    0.051850         1.0   \n",
       "\n",
       "   prob_Excellent  prob_Good  prob_Pass  prob_Fail  \n",
       "0        0.428520   0.277435   0.254325   0.039719  \n",
       "1        0.012315   0.152226   0.055159   0.780300  \n",
       "2        0.012315   0.152226   0.055159   0.780300  \n",
       "3        0.102019   0.526633   0.126028   0.245321  \n",
       "4        0.095198   0.530673   0.134150   0.239979  "
      ]
     },
     "execution_count": 13,
     "metadata": {},
     "output_type": "execute_result"
    }
   ],
   "source": [
    "test.head()"
   ]
  },
  {
   "cell_type": "code",
   "execution_count": 21,
   "metadata": {
    "ExecuteTime": {
     "end_time": "2019-09-03T09:50:53.030141Z",
     "start_time": "2019-09-03T09:50:53.009638Z"
    }
   },
   "outputs": [
    {
     "data": {
      "text/html": [
       "<div>\n",
       "<style scoped>\n",
       "    .dataframe tbody tr th:only-of-type {\n",
       "        vertical-align: middle;\n",
       "    }\n",
       "\n",
       "    .dataframe tbody tr th {\n",
       "        vertical-align: top;\n",
       "    }\n",
       "\n",
       "    .dataframe thead th {\n",
       "        text-align: right;\n",
       "    }\n",
       "</style>\n",
       "<table border=\"1\" class=\"dataframe\">\n",
       "  <thead>\n",
       "    <tr style=\"text-align: right;\">\n",
       "      <th></th>\n",
       "      <th>Group</th>\n",
       "      <th>Excellent ratio</th>\n",
       "      <th>Good ratio</th>\n",
       "      <th>Pass ratio</th>\n",
       "      <th>Fail ratio</th>\n",
       "    </tr>\n",
       "  </thead>\n",
       "  <tbody>\n",
       "    <tr>\n",
       "      <th>0</th>\n",
       "      <td>0</td>\n",
       "      <td>0.219070</td>\n",
       "      <td>0.336087</td>\n",
       "      <td>0.249561</td>\n",
       "      <td>0.195282</td>\n",
       "    </tr>\n",
       "    <tr>\n",
       "      <th>1</th>\n",
       "      <td>1</td>\n",
       "      <td>0.181191</td>\n",
       "      <td>0.260221</td>\n",
       "      <td>0.376934</td>\n",
       "      <td>0.181654</td>\n",
       "    </tr>\n",
       "    <tr>\n",
       "      <th>2</th>\n",
       "      <td>2</td>\n",
       "      <td>0.213087</td>\n",
       "      <td>0.303198</td>\n",
       "      <td>0.306363</td>\n",
       "      <td>0.177352</td>\n",
       "    </tr>\n",
       "    <tr>\n",
       "      <th>3</th>\n",
       "      <td>3</td>\n",
       "      <td>0.241189</td>\n",
       "      <td>0.300243</td>\n",
       "      <td>0.352785</td>\n",
       "      <td>0.105783</td>\n",
       "    </tr>\n",
       "    <tr>\n",
       "      <th>4</th>\n",
       "      <td>4</td>\n",
       "      <td>0.180970</td>\n",
       "      <td>0.377722</td>\n",
       "      <td>0.254252</td>\n",
       "      <td>0.187056</td>\n",
       "    </tr>\n",
       "    <tr>\n",
       "      <th>115</th>\n",
       "      <td>115</td>\n",
       "      <td>0.174227</td>\n",
       "      <td>0.247881</td>\n",
       "      <td>0.423375</td>\n",
       "      <td>0.154517</td>\n",
       "    </tr>\n",
       "    <tr>\n",
       "      <th>116</th>\n",
       "      <td>116</td>\n",
       "      <td>0.091107</td>\n",
       "      <td>0.111225</td>\n",
       "      <td>0.725299</td>\n",
       "      <td>0.072369</td>\n",
       "    </tr>\n",
       "    <tr>\n",
       "      <th>117</th>\n",
       "      <td>117</td>\n",
       "      <td>0.192820</td>\n",
       "      <td>0.272478</td>\n",
       "      <td>0.355537</td>\n",
       "      <td>0.179164</td>\n",
       "    </tr>\n",
       "    <tr>\n",
       "      <th>118</th>\n",
       "      <td>118</td>\n",
       "      <td>0.087955</td>\n",
       "      <td>0.101799</td>\n",
       "      <td>0.758373</td>\n",
       "      <td>0.051873</td>\n",
       "    </tr>\n",
       "    <tr>\n",
       "      <th>119</th>\n",
       "      <td>119</td>\n",
       "      <td>0.187666</td>\n",
       "      <td>0.274639</td>\n",
       "      <td>0.387277</td>\n",
       "      <td>0.150417</td>\n",
       "    </tr>\n",
       "  </tbody>\n",
       "</table>\n",
       "</div>"
      ],
      "text/plain": [
       "     Group  Excellent ratio  Good ratio  Pass ratio  Fail ratio\n",
       "0        0         0.219070    0.336087    0.249561    0.195282\n",
       "1        1         0.181191    0.260221    0.376934    0.181654\n",
       "2        2         0.213087    0.303198    0.306363    0.177352\n",
       "3        3         0.241189    0.300243    0.352785    0.105783\n",
       "4        4         0.180970    0.377722    0.254252    0.187056\n",
       "115    115         0.174227    0.247881    0.423375    0.154517\n",
       "116    116         0.091107    0.111225    0.725299    0.072369\n",
       "117    117         0.192820    0.272478    0.355537    0.179164\n",
       "118    118         0.087955    0.101799    0.758373    0.051873\n",
       "119    119         0.187666    0.274639    0.387277    0.150417"
      ]
     },
     "execution_count": 21,
     "metadata": {},
     "output_type": "execute_result"
    }
   ],
   "source": [
    "prediction.head().append(prediction.tail())"
   ]
  }
 ],
 "metadata": {
  "kernelspec": {
   "display_name": "Python 3",
   "language": "python",
   "name": "python3"
  },
  "language_info": {
   "codemirror_mode": {
    "name": "ipython",
    "version": 3
   },
   "file_extension": ".py",
   "mimetype": "text/x-python",
   "name": "python",
   "nbconvert_exporter": "python",
   "pygments_lexer": "ipython3",
   "version": "3.6.6"
  },
  "toc": {
   "base_numbering": 1,
   "nav_menu": {},
   "number_sections": true,
   "sideBar": true,
   "skip_h1_title": false,
   "title_cell": "Table of Contents",
   "title_sidebar": "Contents",
   "toc_cell": false,
   "toc_position": {},
   "toc_section_display": true,
   "toc_window_display": false
  },
  "varInspector": {
   "cols": {
    "lenName": 16,
    "lenType": 16,
    "lenVar": 40
   },
   "kernels_config": {
    "python": {
     "delete_cmd_postfix": "",
     "delete_cmd_prefix": "del ",
     "library": "var_list.py",
     "varRefreshCmd": "print(var_dic_list())"
    },
    "r": {
     "delete_cmd_postfix": ") ",
     "delete_cmd_prefix": "rm(",
     "library": "var_list.r",
     "varRefreshCmd": "cat(var_dic_list()) "
    }
   },
   "types_to_exclude": [
    "module",
    "function",
    "builtin_function_or_method",
    "instance",
    "_Feature"
   ],
   "window_display": false
  }
 },
 "nbformat": 4,
 "nbformat_minor": 2
}
