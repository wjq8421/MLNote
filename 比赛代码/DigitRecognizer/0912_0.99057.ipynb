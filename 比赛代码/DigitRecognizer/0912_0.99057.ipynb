{
 "cells": [
  {
   "cell_type": "code",
   "execution_count": 1,
   "metadata": {
    "ExecuteTime": {
     "end_time": "2019-09-26T07:03:22.133556Z",
     "start_time": "2019-09-26T07:03:21.123257Z"
    }
   },
   "outputs": [
    {
     "name": "stderr",
     "output_type": "stream",
     "text": [
      "d:\\py36_dp\\deeplearning\\lib\\site-packages\\numpy\\core\\__init__.py:29: UserWarning: loaded more than 1 DLL from .libs:\n",
      "d:\\py36_dp\\deeplearning\\lib\\site-packages\\numpy\\.libs\\libopenblas.IPBC74C7KURV7CB2PKT5Z5FNR3SIBV4J.gfortran-win_amd64.dll\n",
      "d:\\py36_dp\\deeplearning\\lib\\site-packages\\numpy\\.libs\\libopenblas.TXA6YQSD3GCQQC22GEQ54J2UDCXDXHWN.gfortran-win_amd64.dll\n",
      "  stacklevel=1)\n"
     ]
    }
   ],
   "source": [
    "from torch import nn, optim\n",
    "from torch.utils.data import DataLoader, TensorDataset\n",
    "from torch.autograd import Variable\n",
    "from sklearn.model_selection import train_test_split\n",
    "from sklearn.preprocessing import LabelBinarizer\n",
    "from torchvision import transforms\n",
    "import pandas as pd\n",
    "import numpy as np\n",
    "import torch\n",
    "from time import sleep\n",
    "from tqdm import tqdm\n",
    "\n",
    "pd.set_option('display.max_columns', 100)"
   ]
  },
  {
   "cell_type": "code",
   "execution_count": 2,
   "metadata": {
    "ExecuteTime": {
     "end_time": "2019-09-26T07:03:32.743551Z",
     "start_time": "2019-09-26T07:03:27.103368Z"
    }
   },
   "outputs": [
    {
     "name": "stdout",
     "output_type": "stream",
     "text": [
      "shape of train: (42000, 784)\n",
      "shape of test: (28000, 784)\n",
      "shape of trainX: (33600, 784)\n",
      "shape of trainY: (33600,)\n",
      "shape of testX: (8400, 784)\n",
      "shape of testY: (8400,)\n"
     ]
    }
   ],
   "source": [
    "train = pd.read_csv('E:\\\\DL_datasets\\\\MNIST\\\\train.csv')\n",
    "train_label = train.label\n",
    "train.drop(['label'], axis=1, inplace=True)\n",
    "test = pd.read_csv('E:\\\\DL_datasets\\\\MNIST\\\\test.csv')\n",
    "\n",
    "trainX, testX, trainY, testY = train_test_split(train, train_label, test_size=0.2, random_state=42)\n",
    "\n",
    "print('shape of train:', train.shape)\n",
    "print('shape of test:', test.shape)\n",
    "print('shape of trainX:', trainX.shape)\n",
    "print('shape of trainY:', trainY.shape)\n",
    "print('shape of testX:', testX.shape)\n",
    "print('shape of testY:', testY.shape)\n",
    "\n",
    "trainX = trainX / 255.0\n",
    "testX = testX / 255.0\n",
    "test = test / 255.0\n",
    "trainY = trainY\n",
    "testY = testY\n",
    "\n",
    "# trainY = LabelBinarizer().fit_transform(trainY) / 1.0\n",
    "# testY = LabelBinarizer().fit_transform(testY) / 1.0\n",
    "\n",
    "trainX = torch.from_numpy(trainX.values).type(torch.FloatTensor)\n",
    "trainY = torch.from_numpy(trainY.values).type(torch.LongTensor)\n",
    "testX = torch.from_numpy(testX.values).type(torch.FloatTensor)\n",
    "testY = torch.from_numpy(testY.values).type(torch.LongTensor)\n",
    "test = torch.from_numpy(test.values).type(torch.FloatTensor)"
   ]
  },
  {
   "cell_type": "code",
   "execution_count": 4,
   "metadata": {
    "ExecuteTime": {
     "end_time": "2019-09-26T07:04:18.839639Z",
     "start_time": "2019-09-26T07:04:18.835674Z"
    }
   },
   "outputs": [
    {
     "data": {
      "text/plain": [
       "tensor([6, 5, 3,  ..., 2, 6, 0])"
      ]
     },
     "execution_count": 4,
     "metadata": {},
     "output_type": "execute_result"
    }
   ],
   "source": [
    "trainY"
   ]
  },
  {
   "cell_type": "code",
   "execution_count": 5,
   "metadata": {
    "ExecuteTime": {
     "end_time": "2019-09-26T07:04:22.543303Z",
     "start_time": "2019-09-26T07:04:22.539290Z"
    }
   },
   "outputs": [],
   "source": [
    "batch_size = 64\n",
    "epochs = 50\n",
    "learning_rate = 1e-2\n",
    "\n",
    "data_tf = transforms.Compose([\n",
    "    transforms.ToTensor()\n",
    "])\n",
    "\n",
    "# 传入的数据必须为torch.Tensor类型的\n",
    "trainX_dataset = TensorDataset(trainX, trainY)\n",
    "testX_dataset = TensorDataset(testX, testY)\n",
    "test_dataset = TensorDataset(test, torch.ones(test.size(0)))\n",
    "\n",
    "trainX_loader = DataLoader(trainX_dataset, batch_size=batch_size, shuffle=True)\n",
    "testX_loader = DataLoader(testX_dataset, batch_size=batch_size, shuffle=True)\n",
    "test_loader = DataLoader(test_dataset, batch_size=batch_size, shuffle=False)"
   ]
  },
  {
   "cell_type": "code",
   "execution_count": 6,
   "metadata": {
    "ExecuteTime": {
     "end_time": "2019-09-26T07:04:26.471211Z",
     "start_time": "2019-09-26T07:04:26.468219Z"
    }
   },
   "outputs": [
    {
     "data": {
      "text/plain": [
       "<torch.utils.data.dataloader.DataLoader at 0x1aa9eccdd30>"
      ]
     },
     "execution_count": 6,
     "metadata": {},
     "output_type": "execute_result"
    }
   ],
   "source": [
    "test_loader"
   ]
  },
  {
   "cell_type": "markdown",
   "metadata": {},
   "source": [
    "#### CNN"
   ]
  },
  {
   "cell_type": "code",
   "execution_count": 7,
   "metadata": {
    "ExecuteTime": {
     "end_time": "2019-09-26T07:04:29.070247Z",
     "start_time": "2019-09-26T07:04:29.060247Z"
    }
   },
   "outputs": [],
   "source": [
    "class CNN(nn.Module):\n",
    "    def __init__(self):\n",
    "        super(CNN, self).__init__()\n",
    "        layer1 = nn.Sequential() # b, 1, 28, 28\n",
    "        layer1.add_module('conv1', nn.Conv2d(1, 16, kernel_size=3)) # b, 16, 26, 26\n",
    "        layer1.add_module('bn1', nn.BatchNorm2d(16))\n",
    "        layer1.add_module('relu1', nn.ReLU(inplace=True))\n",
    "        self.layer1 = layer1\n",
    "        \n",
    "        layer2 = nn.Sequential()\n",
    "        layer2.add_module('conv2', nn.Conv2d(16, 32, kernel_size=3)) # n, 32, 24, 24\n",
    "        layer2.add_module('bn2', nn.BatchNorm2d(32))\n",
    "        layer2.add_module('relu2', nn.ReLU(inplace=True))\n",
    "        layer2.add_module('pool2', nn.MaxPool2d(kernel_size=2, stride=2)) # n, 32, 12, 12\n",
    "        self.layer2 = layer2\n",
    "        \n",
    "        layer3 = nn.Sequential() \n",
    "        layer3.add_module('conv3', nn.Conv2d(32, 64, kernel_size=3)) # b, 64, 10, 10\n",
    "        layer3.add_module('bn3', nn.BatchNorm2d(64))\n",
    "        layer3.add_module('relu3', nn.ReLU(inplace=True)) \n",
    "        self.layer3 = layer3\n",
    "        \n",
    "        layer4 = nn.Sequential()\n",
    "        layer4.add_module('conv4', nn.Conv2d(64, 128, kernel_size=3)) # n, 128, 8, 8\n",
    "        layer4.add_module('bn4', nn.BatchNorm2d(128))\n",
    "        layer4.add_module('relu4', nn.ReLU(inplace=True))\n",
    "        layer4.add_module('pool4', nn.MaxPool2d(kernel_size=2, stride=2)) # n, 128, 4, 4\n",
    "        self.layer4 = layer4\n",
    "        \n",
    "        fc = nn.Sequential()\n",
    "        fc.add_module('fc1', nn.Linear(128*4*4, 1024))\n",
    "        fc.add_module('fc_relu1', nn.ReLU(inplace=True))\n",
    "        fc.add_module('fc2', nn.Linear(1024, 128))\n",
    "        fc.add_module('fc_relu2', nn.ReLU(inplace=True))\n",
    "        fc.add_module('fc3', nn.Linear(128, 10))\n",
    "        self.fc = fc\n",
    "        \n",
    "    def forward(self, x):\n",
    "        out = self.layer1(x)\n",
    "        out = self.layer2(out)\n",
    "        out = self.layer3(out)\n",
    "        out = self.layer4(out)\n",
    "        \n",
    "        out = out.view(out.size(0), -1)\n",
    "        out = self.fc(out)\n",
    "        return out"
   ]
  },
  {
   "cell_type": "code",
   "execution_count": 8,
   "metadata": {
    "ExecuteTime": {
     "end_time": "2019-09-26T07:08:05.799945Z",
     "start_time": "2019-09-26T07:04:39.381387Z"
    },
    "scrolled": true
   },
   "outputs": [
    {
     "name": "stdout",
     "output_type": "stream",
     "text": [
      "Epoch [1/50], train_loss:0.502299, train_acc:0.894137; val_loss:0.132255, val_acc:0.964167\n",
      "Epoch [2/50], train_loss:0.098010, train_acc:0.972649; val_loss:0.082360, val_acc:0.976667\n",
      "Epoch [3/50], train_loss:0.066911, train_acc:0.981161; val_loss:0.065397, val_acc:0.980952\n",
      "Epoch [4/50], train_loss:0.051590, train_acc:0.985179; val_loss:0.053801, val_acc:0.984405\n",
      "Epoch [5/50], train_loss:0.041954, train_acc:0.988214; val_loss:0.047773, val_acc:0.985119\n",
      "Epoch [6/50], train_loss:0.035625, train_acc:0.990149; val_loss:0.043067, val_acc:0.986786\n",
      "Epoch [7/50], train_loss:0.030240, train_acc:0.991607; val_loss:0.040883, val_acc:0.987381\n",
      "Epoch [8/50], train_loss:0.026147, train_acc:0.993214; val_loss:0.037101, val_acc:0.988095\n",
      "Epoch [9/50], train_loss:0.022885, train_acc:0.993839; val_loss:0.039679, val_acc:0.987738\n",
      "Epoch [10/50], train_loss:0.019598, train_acc:0.995149; val_loss:0.035502, val_acc:0.988571\n",
      "Epoch [11/50], train_loss:0.016727, train_acc:0.996280; val_loss:0.032885, val_acc:0.989286\n",
      "Epoch [12/50], train_loss:0.014769, train_acc:0.996726; val_loss:0.033616, val_acc:0.989881\n",
      "Epoch [13/50], train_loss:0.012905, train_acc:0.997292; val_loss:0.034774, val_acc:0.988214\n",
      "Epoch [14/50], train_loss:0.011304, train_acc:0.997708; val_loss:0.032254, val_acc:0.989643\n",
      "Epoch [15/50], train_loss:0.009847, train_acc:0.998363; val_loss:0.031596, val_acc:0.990238\n",
      "Epoch [16/50], train_loss:0.008308, train_acc:0.998750; val_loss:0.033405, val_acc:0.989167\n",
      "Epoch [17/50], train_loss:0.007510, train_acc:0.999048; val_loss:0.030094, val_acc:0.989762\n",
      "Epoch [18/50], train_loss:0.006197, train_acc:0.999435; val_loss:0.029841, val_acc:0.989881\n",
      "Epoch [19/50], train_loss:0.005476, train_acc:0.999583; val_loss:0.029413, val_acc:0.990357\n",
      "Epoch [20/50], train_loss:0.004946, train_acc:0.999643; val_loss:0.028133, val_acc:0.991071\n",
      "Epoch [21/50], train_loss:0.004359, train_acc:0.999673; val_loss:0.028801, val_acc:0.990833\n",
      "Epoch [22/50], train_loss:0.003992, train_acc:0.999821; val_loss:0.029731, val_acc:0.989643\n",
      "Epoch [23/50], train_loss:0.003469, train_acc:0.999970; val_loss:0.028757, val_acc:0.991310\n",
      "Epoch [24/50], train_loss:0.003321, train_acc:0.999911; val_loss:0.027952, val_acc:0.990714\n",
      "Epoch [25/50], train_loss:0.002886, train_acc:0.999911; val_loss:0.029312, val_acc:0.990476\n",
      "Epoch [26/50], train_loss:0.002750, train_acc:0.999911; val_loss:0.028528, val_acc:0.991310\n",
      "Epoch [27/50], train_loss:0.002542, train_acc:0.999970; val_loss:0.027567, val_acc:0.990833\n",
      "Epoch [28/50], train_loss:0.002315, train_acc:0.999940; val_loss:0.030601, val_acc:0.990833\n",
      "Epoch [29/50], train_loss:0.002128, train_acc:0.999940; val_loss:0.027860, val_acc:0.991310\n",
      "Epoch [30/50], train_loss:0.002039, train_acc:0.999970; val_loss:0.028935, val_acc:0.989881\n",
      "Epoch [31/50], train_loss:0.001901, train_acc:0.999970; val_loss:0.028489, val_acc:0.990595\n",
      "Epoch [32/50], train_loss:0.001787, train_acc:0.999970; val_loss:0.028565, val_acc:0.990833\n",
      "Epoch [33/50], train_loss:0.001694, train_acc:0.999970; val_loss:0.028757, val_acc:0.990595\n",
      "Epoch [34/50], train_loss:0.001589, train_acc:0.999970; val_loss:0.028433, val_acc:0.990595\n",
      "Epoch [35/50], train_loss:0.001433, train_acc:0.999970; val_loss:0.028386, val_acc:0.991190\n",
      "Epoch [36/50], train_loss:0.001355, train_acc:0.999970; val_loss:0.028828, val_acc:0.990476\n",
      "Epoch [37/50], train_loss:0.001243, train_acc:0.999970; val_loss:0.028270, val_acc:0.990952\n",
      "Epoch [38/50], train_loss:0.001308, train_acc:0.999970; val_loss:0.028692, val_acc:0.990833\n",
      "Epoch [39/50], train_loss:0.001157, train_acc:0.999970; val_loss:0.028479, val_acc:0.990476\n",
      "Epoch [40/50], train_loss:0.001076, train_acc:0.999970; val_loss:0.029154, val_acc:0.991071\n",
      "Epoch [41/50], train_loss:0.001031, train_acc:0.999970; val_loss:0.028708, val_acc:0.990714\n",
      "Epoch [42/50], train_loss:0.000925, train_acc:1.000000; val_loss:0.028404, val_acc:0.990952\n",
      "Epoch [43/50], train_loss:0.000908, train_acc:1.000000; val_loss:0.028275, val_acc:0.990833\n",
      "Epoch [44/50], train_loss:0.000894, train_acc:1.000000; val_loss:0.029252, val_acc:0.991190\n",
      "Epoch [45/50], train_loss:0.000882, train_acc:0.999970; val_loss:0.029180, val_acc:0.991310\n",
      "Epoch [46/50], train_loss:0.000788, train_acc:1.000000; val_loss:0.028994, val_acc:0.990595\n",
      "Epoch [47/50], train_loss:0.000749, train_acc:1.000000; val_loss:0.030610, val_acc:0.989762\n",
      "Epoch [48/50], train_loss:0.000743, train_acc:1.000000; val_loss:0.028687, val_acc:0.990476\n",
      "Epoch [49/50], train_loss:0.000711, train_acc:1.000000; val_loss:0.028953, val_acc:0.991429\n",
      "Epoch [50/50], train_loss:0.000703, train_acc:1.000000; val_loss:0.029260, val_acc:0.990952\n"
     ]
    }
   ],
   "source": [
    "model = CNN()\n",
    "if torch.cuda.is_available():\n",
    "    model.cuda()\n",
    "    \n",
    "criterion = nn.CrossEntropyLoss()\n",
    "optimizer = optim.SGD(model.parameters(), lr=learning_rate)\n",
    "\n",
    "train_losses = []\n",
    "train_accs = []\n",
    "val_losses = []\n",
    "val_accs = []\n",
    "for epoch in range(epochs):\n",
    "    train_loss = 0.0\n",
    "    train_acc = 0\n",
    "    for data, label in trainX_loader:\n",
    "        data = data.view(data.size(0), 1, 28, 28)\n",
    "        if torch.cuda.is_available():\n",
    "            data = Variable(data).cuda()\n",
    "            label = Variable(label).cuda()\n",
    "        else:\n",
    "            data = Variable(data)\n",
    "            label = Variable(label)\n",
    "        \n",
    "        out = model(data)\n",
    "        loss = criterion(out, label)\n",
    "        \n",
    "        optimizer.zero_grad()\n",
    "        loss.backward()\n",
    "        optimizer.step()\n",
    "        train_loss += loss.data.item() * label.size(0)\n",
    "        _, pred = torch.max(out, 1)\n",
    "        train_acc += (pred == label).sum().item()\n",
    "    \n",
    "    val_loss = 0.0\n",
    "    val_acc = 0\n",
    "    for data, label in testX_loader:\n",
    "        data = data.view(data.size(0), 1, 28, 28)\n",
    "        if torch.cuda.is_available():\n",
    "            data = Variable(data).cuda()\n",
    "            label = Variable(label).cuda()\n",
    "        else:\n",
    "            data = Variable(data)\n",
    "            label = Variable(label)\n",
    "            \n",
    "        out = model(data)\n",
    "        loss = criterion(out, label)\n",
    "        val_loss += loss.data.item() * label.size(0)\n",
    "        _, pred = torch.max(out, 1)\n",
    "        val_acc += (pred == label).sum().item()\n",
    "    \n",
    "    train_losses.append(train_loss/len(trainX_dataset))\n",
    "    train_accs.append(train_acc/len(trainX_dataset))\n",
    "    val_losses.append(val_loss/len(testX_dataset))\n",
    "    val_accs.append(val_acc/len(testX_dataset))\n",
    "    print(\"Epoch [{}/{}], train_loss:{:.6f}, train_acc:{:.6f}; val_loss:{:.6f}, val_acc:{:.6f}\".format(epoch+1, epochs, \n",
    "                                                                      train_loss/len(trainX_dataset),\n",
    "                                                                      train_acc/len(trainX_dataset),\n",
    "                                                                      val_loss/len(testX_dataset),\n",
    "                                                                      val_acc/len(testX_dataset)))"
   ]
  },
  {
   "cell_type": "code",
   "execution_count": 15,
   "metadata": {
    "ExecuteTime": {
     "end_time": "2019-09-18T03:55:02.943218Z",
     "start_time": "2019-09-18T03:55:02.762208Z"
    }
   },
   "outputs": [
    {
     "data": {
      "image/png": "[encoded data removed]",
      "text/plain": [
       "<Figure size 432x288 with 1 Axes>"
      ]
     },
     "metadata": {
      "needs_background": "light"
     },
     "output_type": "display_data"
    }
   ],
   "source": [
    "import matplotlib.pyplot as plt\n",
    "\n",
    "epochs = range(1, len(train_accs)+1)\n",
    "plt.plot(epochs, train_accs, 'b', label='train_acc')\n",
    "plt.plot(epochs, train_losses, 'b', label='train_loss')\n",
    "plt.plot(epochs, val_accs, 'r', label='val_acc')\n",
    "plt.plot(epochs, val_losses, 'r', label='val_loss')\n",
    "plt.show()"
   ]
  },
  {
   "cell_type": "code",
   "execution_count": 32,
   "metadata": {
    "ExecuteTime": {
     "end_time": "2019-09-18T05:57:01.491863Z",
     "start_time": "2019-09-18T05:56:59.800766Z"
    }
   },
   "outputs": [
    {
     "name": "stderr",
     "output_type": "stream",
     "text": [
      "100%|███████████████████████████████| 132/132 [00:01<00:00, 78.80it/s]\n"
     ]
    },
    {
     "name": "stdout",
     "output_type": "stream",
     "text": [
      "Test loss:0.026664, test acc:0.992381\n"
     ]
    }
   ],
   "source": [
    "model.eval()\n",
    "val_acc = 0\n",
    "val_loss = 0.0\n",
    "\n",
    "for data, label in tqdm(testX_loader):\n",
    "    data = data.view(data.size(0), 1, 28, 28)\n",
    "    if torch.cuda.is_available():\n",
    "        data = Variable(data).cuda()\n",
    "        label = Variable(label).cuda()\n",
    "    else:\n",
    "        data = Variable(data)\n",
    "        label = Variable(label)\n",
    "\n",
    "    out = model(data)\n",
    "    loss = criterion(out, label)\n",
    "    val_loss += loss.data.item() * label.size(0)\n",
    "    _, pred = torch.max(out, 1)\n",
    "    val_acc += (pred == label).sum().item()\n",
    "\n",
    "print(\"Test loss:{:.6f}, test acc:{:.6f}\".format(val_loss/len(testX_dataset), val_acc/len(testX_dataset)))"
   ]
  },
  {
   "cell_type": "code",
   "execution_count": 41,
   "metadata": {
    "ExecuteTime": {
     "end_time": "2019-09-12T07:25:16.182148Z",
     "start_time": "2019-09-12T07:25:11.491879Z"
    }
   },
   "outputs": [
    {
     "data": {
      "text/plain": [
       "tensor([2, 0, 9,  ..., 3, 9, 2])"
      ]
     },
     "execution_count": 41,
     "metadata": {},
     "output_type": "execute_result"
    }
   ],
   "source": [
    "model.eval()\n",
    "result = torch.LongTensor()\n",
    "for data, label in test_loader:\n",
    "    data = data.view(data.size(0), 1, 28, 28)\n",
    "    if torch.cuda.is_available():\n",
    "        data = Variable(data).cuda()\n",
    "    else:\n",
    "        data = Variable(data)\n",
    "    \n",
    "    out = model(data)\n",
    "    _, pred = torch.max(out, 1)\n",
    "    result = torch.cat((result, pred.cpu()), dim=0)\n",
    "\n",
    "result"
   ]
  },
  {
   "cell_type": "code",
   "execution_count": 42,
   "metadata": {
    "ExecuteTime": {
     "end_time": "2019-09-12T07:25:18.460278Z",
     "start_time": "2019-09-12T07:25:18.322270Z"
    }
   },
   "outputs": [],
   "source": [
    "result = pd.DataFrame({'ImageId':range(1, result.size(0)+1), 'Label':result.numpy()})\n",
    "result.to_csv('result_0912.csv', index=False)"
   ]
  },
  {
   "cell_type": "code",
   "execution_count": 17,
   "metadata": {
    "ExecuteTime": {
     "end_time": "2019-09-18T05:41:55.522045Z",
     "start_time": "2019-09-18T05:41:55.519044Z"
    }
   },
   "outputs": [],
   "source": [
    "from time import sleep\n",
    "import tqdm"
   ]
  },
  {
   "cell_type": "code",
   "execution_count": 26,
   "metadata": {
    "ExecuteTime": {
     "end_time": "2019-09-18T05:50:15.155622Z",
     "start_time": "2019-09-18T05:50:05.006042Z"
    }
   },
   "outputs": [
    {
     "name": "stderr",
     "output_type": "stream",
     "text": [
      "100%|███████████████████████████████| 100/100 [00:10<00:00,  9.86it/s]\n"
     ]
    }
   ],
   "source": [
    "for i in tqdm(range(100)):\n",
    "    sleep(0.1)"
   ]
  },
  {
   "cell_type": "code",
   "execution_count": 27,
   "metadata": {
    "ExecuteTime": {
     "end_time": "2019-09-18T05:50:58.271088Z",
     "start_time": "2019-09-18T05:50:56.246972Z"
    }
   },
   "outputs": [
    {
     "name": "stderr",
     "output_type": "stream",
     "text": [
      "100%|███████████████████████████████| 100/100 [00:02<00:00, 49.65it/s]\n"
     ]
    }
   ],
   "source": [
    "with tqdm(total=100) as pbar:\n",
    "    for i in range(10):\n",
    "        sleep(0.2)\n",
    "        pbar.update(10)"
   ]
  },
  {
   "cell_type": "code",
   "execution_count": 33,
   "metadata": {
    "ExecuteTime": {
     "end_time": "2019-09-19T03:52:31.431665Z",
     "start_time": "2019-09-19T03:52:31.370662Z"
    }
   },
   "outputs": [],
   "source": [
    "torch.utils.data.random_split?"
   ]
  }
 ],
 "metadata": {
  "kernelspec": {
   "display_name": "Python 3",
   "language": "python",
   "name": "python3"
  },
  "language_info": {
   "codemirror_mode": {
    "name": "ipython",
    "version": 3
   },
   "file_extension": ".py",
   "mimetype": "text/x-python",
   "name": "python",
   "nbconvert_exporter": "python",
   "pygments_lexer": "ipython3",
   "version": "3.6.7"
  },
  "toc": {
   "base_numbering": 1,
   "nav_menu": {},
   "number_sections": true,
   "sideBar": true,
   "skip_h1_title": false,
   "title_cell": "Table of Contents",
   "title_sidebar": "Contents",
   "toc_cell": false,
   "toc_position": {},
   "toc_section_display": true,
   "toc_window_display": true
  },
  "varInspector": {
   "cols": {
    "lenName": 16,
    "lenType": 16,
    "lenVar": 40
   },
   "kernels_config": {
    "python": {
     "delete_cmd_postfix": "",
     "delete_cmd_prefix": "del ",
     "library": "var_list.py",
     "varRefreshCmd": "print(var_dic_list())"
    },
    "r": {
     "delete_cmd_postfix": ") ",
     "delete_cmd_prefix": "rm(",
     "library": "var_list.r",
     "varRefreshCmd": "cat(var_dic_list()) "
    }
   },
   "types_to_exclude": [
    "module",
    "function",
    "builtin_function_or_method",
    "instance",
    "_Feature"
   ],
   "window_display": false
  }
 },
 "nbformat": 4,
 "nbformat_minor": 2
}
