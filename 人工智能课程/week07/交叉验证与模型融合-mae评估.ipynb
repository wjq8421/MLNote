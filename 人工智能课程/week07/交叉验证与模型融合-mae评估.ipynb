{
 "cells": [
  {
   "cell_type": "code",
   "execution_count": 7,
   "metadata": {},
   "outputs": [],
   "source": [
    "import pandas as pd\n",
    "import numpy as np\n",
    "from sklearn.model_selection import KFold\n",
    "from sklearn.model_selection import StratifiedKFold\n",
    "from sklearn.linear_model import LogisticRegression\n",
    "from sklearn.linear_model import LinearRegression\n",
    "from sklearn.linear_model import Ridge\n",
    "from sklearn.linear_model import HuberRegressor\n",
    "import lightgbm as lgb\n",
    "from catboost import CatBoostClassifier\n",
    "from catboost import CatBoostRegressor"
   ]
  },
  {
   "cell_type": "code",
   "execution_count": 8,
   "metadata": {},
   "outputs": [],
   "source": [
    "train = pd.read_csv('first_round_training_data.csv')\n",
    "test = pd.read_csv('first_round_testing_data.csv')\n",
    "\n",
    "def quality_encoder(x):\n",
    "    return {'Excellent':0,'Good':1,'Pass':2,'Fail':3}[x]\n",
    "train['label'] = train.Quality_label.apply(quality_encoder)"
   ]
  },
  {
   "cell_type": "code",
   "execution_count": 9,
   "metadata": {},
   "outputs": [],
   "source": [
    "# 线下验证group 连续构造\n",
    "for group in range(50):\n",
    "    train['group_%s'%group] = (train.index+group)//50%120\n",
    "\n",
    "# 线下验证group 随机构造\n",
    "for group in range(50,500):\n",
    "    name = 'group_%s'%group\n",
    "    train[name] = 0\n",
    "    kfold=KFold(n_splits=120, shuffle=True,random_state=group)\n",
    "    split=kfold.split(train)\n",
    "    i = 0\n",
    "    for train_index,valid_index in split:\n",
    "        train.iloc[valid_index,-1] = i\n",
    "        i+=1\n",
    "        \n",
    "        \n",
    "train['label_Excellent'] = 1*(train['label'] == 0)\n",
    "train['label_Good'] = 1*(train['label'] == 1)\n",
    "train['label_Pass'] = 1*(train['label'] == 2)\n",
    "train['label_Fail'] = 1*(train['label'] == 3)"
   ]
  },
  {
   "cell_type": "code",
   "execution_count": 10,
   "metadata": {},
   "outputs": [
    {
     "name": "stdout",
     "output_type": "stream",
     "text": [
      "0:\tlearn: 1.3367231\ttotal: 37.9ms\tremaining: 3.75s\n",
      "99:\tlearn: 1.0060527\ttotal: 3.3s\tremaining: 0us\n",
      "0:\tlearn: 1.3410821\ttotal: 32.3ms\tremaining: 3.19s\n",
      "99:\tlearn: 1.0321815\ttotal: 2.95s\tremaining: 0us\n",
      "0:\tlearn: 1.3403853\ttotal: 29.8ms\tremaining: 2.95s\n",
      "99:\tlearn: 1.0165788\ttotal: 2.85s\tremaining: 0us\n",
      "0:\tlearn: 1.3465247\ttotal: 30.7ms\tremaining: 3.04s\n",
      "99:\tlearn: 1.0324442\ttotal: 2.88s\tremaining: 0us\n",
      "0:\tlearn: 1.3430928\ttotal: 30.8ms\tremaining: 3.05s\n",
      "99:\tlearn: 1.0140480\ttotal: 2.88s\tremaining: 0us\n"
     ]
    }
   ],
   "source": [
    "# K折交叉验证\n",
    "\n",
    "features = ['Parameter5','Parameter6','Parameter7','Parameter8','Parameter9','Parameter10']\n",
    "\n",
    "kfold=KFold(n_splits=5, shuffle=False)\n",
    "split=kfold.split(train)\n",
    "result = []\n",
    "for train_index,valid_index in split:\n",
    "    \n",
    "    X_train=train.iloc[train_index,:].copy()\n",
    "    X_valid=train.iloc[valid_index,:].copy()\n",
    "    \n",
    "    model = CatBoostClassifier(iterations=100,depth=7,learning_rate=0.1,verbose=100,random_state=0,loss_function='MultiClass')\n",
    "    model.fit(X_train.loc[:,features].values,X_train.label.values)\n",
    "    \n",
    "    # 提前赋值\n",
    "    X_valid['prob_Excellent'] = 0.0\n",
    "    X_valid['prob_Good'] = 0.0\n",
    "    X_valid['prob_Pass'] = 0.0\n",
    "    X_valid['prob_Fail'] = 0.0\n",
    "    \n",
    "    X_valid.loc[:,['prob_Excellent','prob_Good','prob_Pass','prob_Fail']] = model.predict_proba(X_valid.loc[:,features])\n",
    "    X_valid['label_pred'] = model.predict(X_valid.loc[:,features])\n",
    "    \n",
    "    result.append(X_valid)\n",
    "result=pd.concat(result)\n",
    "\n",
    "# mae评估\n",
    "mean = []\n",
    "for group in range(500):\n",
    "    result_mae = result.groupby(['group_%s'%group],as_index=False)['prob_Excellent','prob_Good','prob_Pass','prob_Fail','label_Excellent','label_Good','label_Pass','label_Fail'].mean()\n",
    "    a = np.abs(result_mae.loc[:,['prob_Excellent','prob_Good','prob_Pass','prob_Fail']].values\n",
    "               - result_mae.loc[:,['label_Excellent','label_Good','label_Pass','label_Fail']].values).mean()\n",
    "    mean.append(1/(1+10*a))\n",
    "np.mean(mean)"
   ]
  },
  {
   "cell_type": "code",
   "execution_count": 12,
   "metadata": {},
   "outputs": [
    {
     "name": "stdout",
     "output_type": "stream",
     "text": [
      "0:\tlearn: 1.3367231\ttotal: 34.5ms\tremaining: 3.41s\n",
      "99:\tlearn: 1.0060527\ttotal: 3.22s\tremaining: 0us\n",
      "0:\tlearn: 1.3358802\ttotal: 75ms\tremaining: 7.43s\n",
      "99:\tlearn: 0.9559350\ttotal: 6.94s\tremaining: 0us\n",
      "0:\tlearn: 1.3410821\ttotal: 28.6ms\tremaining: 2.83s\n",
      "99:\tlearn: 1.0321815\ttotal: 2.88s\tremaining: 0us\n",
      "0:\tlearn: 1.3408880\ttotal: 48.4ms\tremaining: 4.79s\n",
      "99:\tlearn: 0.9862171\ttotal: 6.91s\tremaining: 0us\n",
      "0:\tlearn: 1.3403853\ttotal: 32.4ms\tremaining: 3.2s\n",
      "99:\tlearn: 1.0165788\ttotal: 3.09s\tremaining: 0us\n",
      "0:\tlearn: 1.3379317\ttotal: 138ms\tremaining: 13.6s\n",
      "99:\tlearn: 0.9619551\ttotal: 8.6s\tremaining: 0us\n",
      "0:\tlearn: 1.3465247\ttotal: 31.9ms\tremaining: 3.15s\n",
      "99:\tlearn: 1.0324442\ttotal: 2.87s\tremaining: 0us\n",
      "0:\tlearn: 1.3458274\ttotal: 70.9ms\tremaining: 7.01s\n",
      "99:\tlearn: 0.9843060\ttotal: 6.82s\tremaining: 0us\n",
      "0:\tlearn: 1.3430928\ttotal: 34.2ms\tremaining: 3.38s\n",
      "99:\tlearn: 1.0140480\ttotal: 2.85s\tremaining: 0us\n",
      "0:\tlearn: 1.3419605\ttotal: 72.7ms\tremaining: 7.2s\n",
      "99:\tlearn: 0.9668975\ttotal: 6.99s\tremaining: 0us\n"
     ]
    },
    {
     "data": {
      "text/plain": [
       "0.6947700301738983"
      ]
     },
     "execution_count": 12,
     "metadata": {},
     "output_type": "execute_result"
    }
   ],
   "source": [
    "# blending\n",
    "features = ['Parameter5','Parameter6','Parameter7','Parameter8','Parameter9','Parameter10']\n",
    "\n",
    "kfold=KFold(n_splits=5, shuffle=False)\n",
    "split=kfold.split(train)\n",
    "result = []\n",
    "for train_index,valid_index in split:\n",
    "    \n",
    "    X_train=train.iloc[train_index,:].copy()\n",
    "    X_valid=train.iloc[valid_index,:].copy()\n",
    "    \n",
    "    # 模型1\n",
    "    model = CatBoostClassifier(iterations=100,depth=7,learning_rate=0.1,verbose=100,random_state=0,loss_function='MultiClass')\n",
    "    model.fit(X_train.loc[:,features].values,X_train.label.values)\n",
    "    # 提前赋值\n",
    "    X_valid['prob1_Excellent'] = 0.0\n",
    "    X_valid['prob1_Good'] = 0.0\n",
    "    X_valid['prob1_Pass'] = 0.0\n",
    "    X_valid['prob1_Fail'] = 0.0\n",
    "    \n",
    "    X_valid.loc[:,['prob1_Excellent','prob1_Good','prob1_Pass','prob1_Fail']] = model.predict_proba(X_valid.loc[:,features])\n",
    "    \n",
    "    # 模型2\n",
    "    model = CatBoostClassifier(iterations=100,depth=10,learning_rate=0.1,verbose=100,random_state=0,loss_function='MultiClass')\n",
    "    model.fit(X_train.loc[:,features].values,X_train.label.values)\n",
    "    # 提前赋值\n",
    "    X_valid['prob2_Excellent'] = 0.0\n",
    "    X_valid['prob2_Good'] = 0.0\n",
    "    X_valid['prob2_Pass'] = 0.0\n",
    "    X_valid['prob2_Fail'] = 0.0\n",
    "    \n",
    "    X_valid.loc[:,['prob2_Excellent','prob2_Good','prob2_Pass','prob2_Fail']] = model.predict_proba(X_valid.loc[:,features])\n",
    "    \n",
    "    result.append(X_valid)\n",
    "result=pd.concat(result)\n",
    "\n",
    "result['prob_Excellent'] = 0.0\n",
    "result['prob_Good'] = 0.0\n",
    "result['prob_Pass'] = 0.0\n",
    "result['prob_Fail'] = 0.0\n",
    "result.loc[:,['prob_Excellent','prob_Good','prob_Pass','prob_Fail']] = 0.5*result.loc[:,['prob1_Excellent','prob1_Good','prob1_Pass','prob1_Fail']].values+0.5*result.loc[:,['prob2_Excellent','prob2_Good','prob2_Pass','prob2_Fail']].values\n",
    "\n",
    "# mae评估\n",
    "mean = []\n",
    "for group in range(500):\n",
    "    result_mae = result.groupby(['group_%s'%group],as_index=False)['prob_Excellent','prob_Good','prob_Pass','prob_Fail','label_Excellent','label_Good','label_Pass','label_Fail'].mean()\n",
    "    a = np.abs(result_mae.loc[:,['prob_Excellent','prob_Good','prob_Pass','prob_Fail']].values\n",
    "               - result_mae.loc[:,['label_Excellent','label_Good','label_Pass','label_Fail']].values).mean()\n",
    "    mean.append(1/(1+10*a))\n",
    "np.mean(mean)"
   ]
  },
  {
   "cell_type": "code",
   "execution_count": 13,
   "metadata": {},
   "outputs": [
    {
     "name": "stdout",
     "output_type": "stream",
     "text": [
      "0:\tlearn: 1.3367231\ttotal: 30.3ms\tremaining: 3s\n",
      "99:\tlearn: 1.0060527\ttotal: 3.21s\tremaining: 0us\n",
      "0:\tlearn: 1.3358802\ttotal: 78.7ms\tremaining: 7.79s\n",
      "99:\tlearn: 0.9559350\ttotal: 7.03s\tremaining: 0us\n",
      "0:\tlearn: 1.3410821\ttotal: 28ms\tremaining: 2.77s\n",
      "99:\tlearn: 1.0321815\ttotal: 2.87s\tremaining: 0us\n",
      "0:\tlearn: 1.3408880\ttotal: 47.8ms\tremaining: 4.73s\n",
      "99:\tlearn: 0.9862171\ttotal: 6.89s\tremaining: 0us\n",
      "0:\tlearn: 1.3403853\ttotal: 31.2ms\tremaining: 3.09s\n",
      "99:\tlearn: 1.0165788\ttotal: 2.87s\tremaining: 0us\n",
      "0:\tlearn: 1.3379317\ttotal: 68.9ms\tremaining: 6.82s\n",
      "99:\tlearn: 0.9619551\ttotal: 6.98s\tremaining: 0us\n",
      "0:\tlearn: 1.3465247\ttotal: 32.3ms\tremaining: 3.2s\n",
      "99:\tlearn: 1.0324442\ttotal: 2.96s\tremaining: 0us\n",
      "0:\tlearn: 1.3458274\ttotal: 70ms\tremaining: 6.93s\n",
      "99:\tlearn: 0.9843060\ttotal: 6.88s\tremaining: 0us\n",
      "0:\tlearn: 1.3430928\ttotal: 29.1ms\tremaining: 2.88s\n",
      "99:\tlearn: 1.0140480\ttotal: 2.88s\tremaining: 0us\n",
      "0:\tlearn: 1.3419605\ttotal: 69.4ms\tremaining: 6.87s\n",
      "99:\tlearn: 0.9668975\ttotal: 7.84s\tremaining: 0us\n",
      "0:\tlearn: 1.3322463\ttotal: 15.4ms\tremaining: 1.52s\n",
      "99:\tlearn: 1.0503055\ttotal: 1.33s\tremaining: 0us\n",
      "0:\tlearn: 1.3372456\ttotal: 14.4ms\tremaining: 1.43s\n",
      "99:\tlearn: 1.0745935\ttotal: 1.6s\tremaining: 0us\n",
      "0:\tlearn: 1.3332082\ttotal: 15.6ms\tremaining: 1.54s\n",
      "99:\tlearn: 1.0547850\ttotal: 1.52s\tremaining: 0us\n",
      "0:\tlearn: 1.3379880\ttotal: 17.1ms\tremaining: 1.69s\n",
      "99:\tlearn: 1.0736169\ttotal: 1.7s\tremaining: 0us\n",
      "0:\tlearn: 1.3340942\ttotal: 14.7ms\tremaining: 1.46s\n",
      "99:\tlearn: 1.0609538\ttotal: 1.47s\tremaining: 0us\n"
     ]
    }
   ],
   "source": [
    "# stacking\n",
    "features = ['Parameter5','Parameter6','Parameter7','Parameter8','Parameter9','Parameter10']\n",
    "\n",
    "kfold=KFold(n_splits=5, shuffle=False)\n",
    "split=kfold.split(train)\n",
    "result = []\n",
    "for train_index,valid_index in split:\n",
    "    \n",
    "    X_train=train.iloc[train_index,:].copy()\n",
    "    X_valid=train.iloc[valid_index,:].copy()\n",
    "    \n",
    "    # 模型1\n",
    "    model = CatBoostClassifier(iterations=100,depth=7,learning_rate=0.1,verbose=100,random_state=0,loss_function='MultiClass')\n",
    "    model.fit(X_train.loc[:,features].values,X_train.label.values)\n",
    "    # 提前赋值\n",
    "    X_valid['prob1_Excellent'] = 0.0\n",
    "    X_valid['prob1_Good'] = 0.0\n",
    "    X_valid['prob1_Pass'] = 0.0\n",
    "    X_valid['prob1_Fail'] = 0.0\n",
    "    \n",
    "    X_valid.loc[:,['prob1_Excellent','prob1_Good','prob1_Pass','prob1_Fail']] = model.predict_proba(X_valid.loc[:,features])\n",
    "    \n",
    "    # 模型2\n",
    "    model = CatBoostClassifier(iterations=100,depth=10,learning_rate=0.1,verbose=100,random_state=0,loss_function='MultiClass')\n",
    "    model.fit(X_train.loc[:,features].values,X_train.label.values)\n",
    "    # 提前赋值\n",
    "    X_valid['prob2_Excellent'] = 0.0\n",
    "    X_valid['prob2_Good'] = 0.0\n",
    "    X_valid['prob2_Pass'] = 0.0\n",
    "    X_valid['prob2_Fail'] = 0.0\n",
    "    \n",
    "    X_valid.loc[:,['prob2_Excellent','prob2_Good','prob2_Pass','prob2_Fail']] = model.predict_proba(X_valid.loc[:,features])\n",
    "    \n",
    "    result.append(X_valid)\n",
    "result=pd.concat(result)\n",
    "\n",
    "# 第二层交叉验证\n",
    "features = ['prob1_Excellent','prob1_Good','prob1_Pass','prob1_Fail','prob2_Excellent','prob2_Good','prob2_Pass','prob2_Fail']\n",
    "kfold=KFold(n_splits=5, shuffle=False)\n",
    "split=kfold.split(result)\n",
    "result2 = []\n",
    "for train_index,valid_index in split:\n",
    "    \n",
    "    X_train=result.iloc[train_index,:].copy()\n",
    "    X_valid=result.iloc[valid_index,:].copy()\n",
    "    \n",
    "    # 第二层模型\n",
    "    model = CatBoostClassifier(iterations=100,depth=3,learning_rate=0.1,verbose=100,random_state=0,loss_function='MultiClass')\n",
    "    model.fit(X_train.loc[:,features].values,X_train.label.values)\n",
    "    # 提前赋值\n",
    "    X_valid['prob_Excellent'] = 0.0\n",
    "    X_valid['prob_Good'] = 0.0\n",
    "    X_valid['prob_Pass'] = 0.0\n",
    "    X_valid['prob_Fail'] = 0.0\n",
    "    \n",
    "    X_valid.loc[:,['prob_Excellent','prob_Good','prob_Pass','prob_Fail']] = model.predict_proba(X_valid.loc[:,features])\n",
    "    \n",
    "    result2.append(X_valid)\n",
    "result2=pd.concat(result2)"
   ]
  },
  {
   "cell_type": "code",
   "execution_count": 15,
   "metadata": {},
   "outputs": [
    {
     "data": {
      "text/plain": [
       "0.6945368950332439"
      ]
     },
     "execution_count": 15,
     "metadata": {},
     "output_type": "execute_result"
    }
   ],
   "source": [
    "# mae评估\n",
    "mean = []\n",
    "for group in range(500):\n",
    "    result2_mae = result2.groupby(['group_%s'%group],as_index=False)['prob_Excellent','prob_Good','prob_Pass','prob_Fail','label_Excellent','label_Good','label_Pass','label_Fail'].mean()\n",
    "    a = np.abs(result2_mae.loc[:,['prob_Excellent','prob_Good','prob_Pass','prob_Fail']].values\n",
    "               - result2_mae.loc[:,['label_Excellent','label_Good','label_Pass','label_Fail']].values).mean()\n",
    "    mean.append(1/(1+10*a))\n",
    "np.mean(mean)"
   ]
  },
  {
   "cell_type": "code",
   "execution_count": null,
   "metadata": {},
   "outputs": [],
   "source": []
  }
 ],
 "metadata": {
  "kernelspec": {
   "display_name": "Python 3",
   "language": "python",
   "name": "python3"
  },
  "language_info": {
   "codemirror_mode": {
    "name": "ipython",
    "version": 3
   },
   "file_extension": ".py",
   "mimetype": "text/x-python",
   "name": "python",
   "nbconvert_exporter": "python",
   "pygments_lexer": "ipython3",
   "version": "3.7.3"
  }
 },
 "nbformat": 4,
 "nbformat_minor": 2
}
