{
 "cells": [
  {
   "cell_type": "code",
   "execution_count": 1,
   "metadata": {
    "ExecuteTime": {
     "end_time": "2019-08-20T01:55:56.504106Z",
     "start_time": "2019-08-20T01:55:54.823393Z"
    }
   },
   "outputs": [],
   "source": [
    "import cv2\n",
    "import random\n",
    "import numpy as np\n",
    "import matplotlib.pyplot as plt"
   ]
  },
  {
   "cell_type": "code",
   "execution_count": 14,
   "metadata": {
    "ExecuteTime": {
     "end_time": "2019-08-20T02:09:36.116684Z",
     "start_time": "2019-08-20T02:09:35.110056Z"
    },
    "scrolled": true
   },
   "outputs": [
    {
     "name": "stdout",
     "output_type": "stream",
     "text": [
      "[[[126 136 223]\n",
      "  [127 137 224]\n",
      "  [128 138 226]\n",
      "  ...\n",
      "  [119 146 233]\n",
      "  [ 99 132 218]\n",
      "  [ 70 105 191]]\n",
      "\n",
      " [[127 137 224]\n",
      "  [127 137 224]\n",
      "  [127 137 225]\n",
      "  ...\n",
      "  [123 147 235]\n",
      "  [106 134 221]\n",
      "  [ 77 107 194]]\n",
      "\n",
      " [[125 137 225]\n",
      "  [125 137 225]\n",
      "  [125 137 225]\n",
      "  ...\n",
      "  [126 144 233]\n",
      "  [113 131 220]\n",
      "  [ 84 104 192]]\n",
      "\n",
      " ...\n",
      "\n",
      " [[ 56  22  83]\n",
      "  [ 53  19  80]\n",
      "  [ 64  30  94]\n",
      "  ...\n",
      "  [ 81  70 174]\n",
      "  [ 77  66 176]\n",
      "  [ 75  66 176]]\n",
      "\n",
      " [[ 55  21  82]\n",
      "  [ 53  19  80]\n",
      "  [ 68  34  98]\n",
      "  ...\n",
      "  [ 83  71 177]\n",
      "  [ 81  72 183]\n",
      "  [ 79  72 183]]\n",
      "\n",
      " [[ 56  22  83]\n",
      "  [ 54  20  81]\n",
      "  [ 68  34  98]\n",
      "  ...\n",
      "  [ 79  69 176]\n",
      "  [ 83  74 185]\n",
      "  [ 82  74 188]]]\n"
     ]
    }
   ],
   "source": [
    "img = cv2.imread('lenna.jpg')\n",
    "cv2.imshow('lenna', img)\n",
    "key = cv2.waitKey()\n",
    "if key == 27: # ESC键\n",
    "    cv2.destroyAllWindows()\n",
    "print(img)\n",
    "# 数字范围：[0, 255]，0代表黑，255代表白 - Intensity\n",
    "# uint: unsigned integer\n",
    "# int8: int类型只占了8位"
   ]
  },
  {
   "cell_type": "code",
   "execution_count": 10,
   "metadata": {
    "ExecuteTime": {
     "end_time": "2019-08-20T02:06:01.020370Z",
     "start_time": "2019-08-20T02:06:01.014869Z"
    }
   },
   "outputs": [
    {
     "data": {
      "text/plain": [
       "(512, 512, 3)"
      ]
     },
     "execution_count": 10,
     "metadata": {},
     "output_type": "execute_result"
    }
   ],
   "source": [
    "img_gray.shape  # 第一个代表高度，第二个代表宽度"
   ]
  },
  {
   "cell_type": "markdown",
   "metadata": {
    "ExecuteTime": {
     "end_time": "2019-08-20T02:06:58.008107Z",
     "start_time": "2019-08-20T02:06:58.000606Z"
    }
   },
   "source": [
    "#### image crop"
   ]
  },
  {
   "cell_type": "code",
   "execution_count": 13,
   "metadata": {
    "ExecuteTime": {
     "end_time": "2019-08-20T02:08:16.773608Z",
     "start_time": "2019-08-20T02:08:13.687717Z"
    }
   },
   "outputs": [],
   "source": [
    "img_crop = img_gray[0:100, 0:200]\n",
    "cv2.imshow('lenna', img_crop)\n",
    "key = cv2.waitKey()\n",
    "if key == 27: # ESC键\n",
    "    cv2.destroyAllWindows()"
   ]
  },
  {
   "cell_type": "markdown",
   "metadata": {},
   "source": [
    "#### 通道"
   ]
  },
  {
   "cell_type": "code",
   "execution_count": 15,
   "metadata": {
    "ExecuteTime": {
     "end_time": "2019-08-20T02:12:31.720483Z",
     "start_time": "2019-08-20T02:12:24.737096Z"
    }
   },
   "outputs": [],
   "source": [
    "# 显示每个单独的通道\n",
    "B, G, R = cv2.split(img_gray)\n",
    "cv2.imshow('B', B)\n",
    "cv2.imshow('G', G)\n",
    "cv2.imshow('R', R)\n",
    "key = cv2.waitKey()\n",
    "if key == 27:\n",
    "    cv2.destroyAllWindows()"
   ]
  },
  {
   "cell_type": "markdown",
   "metadata": {},
   "source": [
    "#### Basic Operation\n",
    "- Change color\n",
    "- Gamma Correction\n",
    "- histogram：对图像像素进行统计\n",
    "- 图像的旋转\n",
    "- scale：图像变大变小\n",
    "- translation：平移\n",
    "- Affine（仿射） Transform：90度不再是90度，但平行线还是平行的\n",
    "- perspertive（投影） transform：平行线可不平行，90度不再是90度，直线仍然是直线。\n",
    "- 其目的主要是为了Data Augmentation"
   ]
  },
  {
   "cell_type": "code",
   "execution_count": 20,
   "metadata": {
    "ExecuteTime": {
     "end_time": "2019-08-20T03:32:14.201281Z",
     "start_time": "2019-08-20T03:32:08.308032Z"
    }
   },
   "outputs": [],
   "source": [
    "# change color\n",
    "def random_light_color(img):\n",
    "    B, G, R = cv2.split(img)\n",
    "    \n",
    "    b_rand = random.randint(-50, 50)\n",
    "    if b_rand == 0:\n",
    "        pass\n",
    "    elif b_rand > 0:\n",
    "        lim = 255 - b_rand\n",
    "        B[B > lim] = 255\n",
    "        B[B <= lim] = (b_rand + B[B <= lim]).astype(img.dtype)\n",
    "    elif b_rand < 0:\n",
    "        lim = 0 - b_rand\n",
    "        B[B < lim] = 0\n",
    "        B[B >= lim] = (b_rand + B[B >= lim]).astype(img.dtype)\n",
    "        \n",
    "    g_rand = random.randint(-50, 50)\n",
    "    if g_rand == 0:\n",
    "        pass\n",
    "    elif g_rand > 0:\n",
    "        lim = 255 - g_rand\n",
    "        G[G > lim] = 255\n",
    "        G[G <= lim] = (g_rand + G[G <= lim]).astype(img.dtype)\n",
    "    elif g_rand < 0:\n",
    "        lim = 0 - g_rand\n",
    "        G[G < lim] = 0\n",
    "        G[G >= lim] = (b_rand + G[G >= lim]).astype(img.dtype)\n",
    "        \n",
    "    r_rand = random.randint(-50, 50)\n",
    "    if r_rand == 0:\n",
    "        pass\n",
    "    elif r_rand > 0:\n",
    "        lim = 255 - r_rand\n",
    "        R[R > lim] = 255\n",
    "        R[R <= lim] = (r_rand + R[R <= lim]).astype(img.dtype)\n",
    "    elif r_rand < 0:\n",
    "        lim = 0 - r_rand\n",
    "        R[R < lim] = 0\n",
    "        R[R >= lim] = (r_rand + R[R >= lim]).astype(img.dtype)\n",
    "        \n",
    "    img_merge = cv2.merge((B, G, R))\n",
    "    return img_merge\n",
    "\n",
    "img_random_color = random_light_color(img)\n",
    "cv2.imshow('img_random_color', img_random_color)\n",
    "cv2.imshow('img_original', img)\n",
    "key = cv2.waitKey()\n",
    "if key == 27:\n",
    "    cv2.destroyAllWindows()"
   ]
  },
  {
   "cell_type": "code",
   "execution_count": 21,
   "metadata": {
    "ExecuteTime": {
     "end_time": "2019-08-20T03:39:15.891328Z",
     "start_time": "2019-08-20T03:39:10.263114Z"
    }
   },
   "outputs": [],
   "source": [
    "# gamma correction\n",
    "def adjust_gamma(img, gamma=1.0):\n",
    "    invGamma = 1.0 / gamma\n",
    "    table = []\n",
    "    for i in range(256):\n",
    "        table.append(((i / 255.0) ** invGamma) * 255)\n",
    "    table = np.array(table).astype('uint8')\n",
    "    return cv2.LUT(img, table)\n",
    "\n",
    "img_brighter = adjust_gamma(img, 2)\n",
    "cv2.imshow('img_brighter', img_brighter)\n",
    "cv2.imshow('img_original', img)\n",
    "key = cv2.waitKey()\n",
    "if key == 27:\n",
    "    cv2.destroyAllWindows()"
   ]
  },
  {
   "cell_type": "code",
   "execution_count": 26,
   "metadata": {
    "ExecuteTime": {
     "end_time": "2019-08-20T06:14:41.582541Z",
     "start_time": "2019-08-20T06:13:50.650073Z"
    }
   },
   "outputs": [
    {
     "data": {
      "image/png": "[encoded data removed]",
      "text/plain": [
       "<Figure size 432x288 with 1 Axes>"
      ]
     },
     "metadata": {
      "needs_background": "light"
     },
     "output_type": "display_data"
    }
   ],
   "source": [
    "# histogram\n",
    "img_small_brighter = cv2.resize(img_brighter, (int(img_brighter.shape[0]*0.5), int(img_brighter.shape[1]*0.5)))\n",
    "plt.hist(img_brighter.flatten(), 255, [0, 256], color='r')\n",
    "img_yuv = cv2.cvtColor(img_small_brighter, cv2.COLOR_BGR2YUV)\n",
    "img_yuv[:,:,0] = cv2.equalizeHist(img_yuv[:,:,0]) # 直方图均衡\n",
    "# y: Luminance(明亮度)，u&v：色度&饱和度\n",
    "img_output = cv2.cvtColor(img_yuv, cv2.COLOR_YUV2BGR)\n",
    "\n",
    "cv2.imshow(\"Color input image\", img_small_brighter)\n",
    "cv2.imshow('Histogram equalized', img_output)\n",
    "key = cv2.waitKey()\n",
    "if key == 27:\n",
    "    cv2.destroyAllWindows()"
   ]
  },
  {
   "cell_type": "code",
   "execution_count": 28,
   "metadata": {
    "ExecuteTime": {
     "end_time": "2019-08-20T06:21:33.686871Z",
     "start_time": "2019-08-20T06:21:25.534336Z"
    }
   },
   "outputs": [],
   "source": [
    "# rotation\n",
    "M = cv2.getRotationMatrix2D((img.shape[1]/2, img.shape[1]/2), 30, 1) # center, angle, scale\n",
    "img_rotate = cv2.warpAffine(img, M, (img.shape[1], img.shape[0])) # 将产生的M作用到img图像上\n",
    "\n",
    "cv2.imshow('rotated lenne', img_rotate)\n",
    "key = cv2.waitKey()\n",
    "if key == 27:\n",
    "    cv2.destroyAllWindows()"
   ]
  },
  {
   "cell_type": "code",
   "execution_count": 29,
   "metadata": {
    "ExecuteTime": {
     "end_time": "2019-08-20T06:25:02.956445Z",
     "start_time": "2019-08-20T06:24:59.091454Z"
    }
   },
   "outputs": [],
   "source": [
    "# scale + rotation + translation = similarity transform 直角不变，平行线不变\n",
    "M = cv2.getRotationMatrix2D((img.shape[1]/2, img.shape[1]/2), 30, 0.5)\n",
    "img_rotate = cv2.warpAffine(img, M, (img.shape[1], img.shape[0]))\n",
    "\n",
    "cv2.imshow('rotated lenne', img_rotate)\n",
    "key = cv2.waitKey()\n",
    "if key == 27:\n",
    "    cv2.destroyAllWindows()"
   ]
  },
  {
   "cell_type": "code",
   "execution_count": 34,
   "metadata": {
    "ExecuteTime": {
     "end_time": "2019-08-20T06:30:48.249792Z",
     "start_time": "2019-08-20T06:30:44.217780Z"
    }
   },
   "outputs": [],
   "source": [
    "# affine transform\n",
    "rows, cols, ch = img.shape\n",
    "pts1 = np.float32([[0, 0], [cols - 1, 0], [0, rows - 1]])\n",
    "pts2 = np.float32([[cols * 0.2, rows * 0.1], [cols * 0.9, rows * 0.2], [cols * 0.1, rows * 0.9]])\n",
    "M = cv2.getAffineTransform(pts1, pts2)\n",
    "dst = cv2.warpAffine(img, M, (cols, rows))\n",
    "\n",
    "cv2.imshow('affine lenne', dst)\n",
    "key = cv2.waitKey()\n",
    "if key == 27:\n",
    "    cv2.destroyAllWindows()"
   ]
  },
  {
   "cell_type": "code",
   "execution_count": 40,
   "metadata": {
    "ExecuteTime": {
     "end_time": "2019-08-20T06:43:24.616338Z",
     "start_time": "2019-08-20T06:43:21.831985Z"
    }
   },
   "outputs": [],
   "source": [
    "# perspective transform\n",
    "def random_warp(img, row, col):\n",
    "    height, width, channel = img.shape\n",
    "    \n",
    "    # warp:\n",
    "    random_margin = 60\n",
    "    x1 = random.randint(-random_margin, random_margin)\n",
    "    y1 = random.randint(-random_margin, random_margin)\n",
    "    x2 = random.randint(width - random_margin - 1, width - 1)\n",
    "    y2 = random.randint(-random_margin, random_margin)\n",
    "    x3 = random.randint(width - random_margin - 1, width - 1)\n",
    "    y3 = random.randint(height - random_margin - 1, height - 1)\n",
    "    x4 = random.randint(-random_margin, random_margin)\n",
    "    y4 = random.randint(height - random_margin - 1, height - 1)\n",
    "    \n",
    "    dx1 = random.randint(-random_margin, random_margin)\n",
    "    dy1 = random.randint(-random_margin, random_margin)\n",
    "    dx2 = random.randint(width - random_margin - 1, width - 1)\n",
    "    dy2 = random.randint(-random_margin, random_margin)\n",
    "    dx3 = random.randint(width - random_margin - 1, width - 1)\n",
    "    dy3 = random.randint(height - random_margin - 1, height - 1)\n",
    "    dx4 = random.randint(-random_margin, random_margin)\n",
    "    dy4 = random.randint(height - random_margin - 1, height - 1)\n",
    "    \n",
    "    pts1 = np.float32([[x1, y1], [x2, y2], [x3, y3], [x4, y4]])\n",
    "    pts2 = np.float32([[dx1, dy1], [dx2, dy2], [dx3, dy3], [dx4, dy4]])\n",
    "    M_warp = cv2.getPerspectiveTransform(pts1, pts2)\n",
    "    img_warp = cv2.warpPerspective(img, M_warp, (width, height))\n",
    "    return M_warp, img_warp\n",
    "\n",
    "M_warp, img_wrap = random_warp(img, img.shape[0], img.shape[1])\n",
    "cv2.imshow('lenne_warp', img_wrap)\n",
    "key = cv2.waitKey()\n",
    "if key == 27:\n",
    "    cv2.destroyAllWindows()"
   ]
  },
  {
   "cell_type": "code",
   "execution_count": null,
   "metadata": {},
   "outputs": [],
   "source": []
  },
  {
   "cell_type": "code",
   "execution_count": 33,
   "metadata": {
    "ExecuteTime": {
     "end_time": "2019-08-20T06:29:41.657336Z",
     "start_time": "2019-08-20T06:29:41.652835Z"
    }
   },
   "outputs": [],
   "source": [
    "cv2.warpAffine?"
   ]
  }
 ],
 "metadata": {
  "kernelspec": {
   "display_name": "Python 3",
   "language": "python",
   "name": "python3"
  },
  "language_info": {
   "codemirror_mode": {
    "name": "ipython",
    "version": 3
   },
   "file_extension": ".py",
   "mimetype": "text/x-python",
   "name": "python",
   "nbconvert_exporter": "python",
   "pygments_lexer": "ipython3",
   "version": "3.6.6"
  },
  "toc": {
   "base_numbering": 1,
   "nav_menu": {},
   "number_sections": true,
   "sideBar": true,
   "skip_h1_title": false,
   "title_cell": "Table of Contents",
   "title_sidebar": "Contents",
   "toc_cell": false,
   "toc_position": {},
   "toc_section_display": true,
   "toc_window_display": true
  },
  "varInspector": {
   "cols": {
    "lenName": 16,
    "lenType": 16,
    "lenVar": 40
   },
   "kernels_config": {
    "python": {
     "delete_cmd_postfix": "",
     "delete_cmd_prefix": "del ",
     "library": "var_list.py",
     "varRefreshCmd": "print(var_dic_list())"
    },
    "r": {
     "delete_cmd_postfix": ") ",
     "delete_cmd_prefix": "rm(",
     "library": "var_list.r",
     "varRefreshCmd": "cat(var_dic_list()) "
    }
   },
   "types_to_exclude": [
    "module",
    "function",
    "builtin_function_or_method",
    "instance",
    "_Feature"
   ],
   "window_display": false
  }
 },
 "nbformat": 4,
 "nbformat_minor": 2
}
