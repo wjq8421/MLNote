{
 "cells": [
  {
   "cell_type": "markdown",
   "metadata": {},
   "source": [
    "集成学习（ensemble learning）：指训练多个学习器并将它们组合起来使用的方法。"
   ]
  },
  {
   "cell_type": "markdown",
   "metadata": {},
   "source": [
    "#### 数据层面\n",
    "1. 测试阶段数据扩充\n",
    "\n",
    "以随机扣取为例，对某张测试图像可得到$n$张随机扣取图像，测试阶段只需用训练好的深度网络模型对$n$张图分别做预测，之后将预测的各类置信度平均作为该测试图像最终预测结果即可。\n",
    "\n",
    "2. 简易集成法\n",
    "\n",
    "对于样本较多的类采取降采样，每次采样数依照样本数目最少的类别而定，这样每类取到的样本数可保持均等。采样结束后，针对每次采样得到的子数据集训练模型，如此采样、训练反复进行多次。最后对测试数据的预测则依据训练得到若干个模型的结果取平均或投票获得。"
   ]
  },
  {
   "cell_type": "markdown",
   "metadata": {},
   "source": [
    "_____\n",
    "#### 模型层面\n",
    "1. 多层特征融合（multi-layer ensemble）\n",
    "\n",
    "可直接将不同层网络特征级联。而对于特征融合选取的网络层，最好使用靠近目标函数的几层卷积特征，因为愈深层特征包含的高层予以性愈强。、分辨能力也愈强；相反，网络较浅层的特征较普适，用于特征融合很可能起不到作用有时甚至会起到反作用。\n",
    "\n",
    "2. 网络快照集成法\n",
    "\n",
    "深度神经网络模型复杂的解空间中存在非常多的局部最优解。网络快照集成法（snapshot ensemble）便利用了网络解空间中的这些局部最优解来对单个网络做模型集成。通过循环调整网络学习率可使网络依次收敛到不同的局部最优解处。"
   ]
  },
  {
   "cell_type": "markdown",
   "metadata": {},
   "source": [
    "_________\n",
    "3. 同一模型不同初始化\n",
    "\n",
    "对同一模型进行不同初始化，之后将得到的网络模型进行结果集成会大幅缓减其随机性。\n",
    "\n",
    "4. 同一模型不同训练轮数\n",
    "\n",
    "深度模型随着网络训练的进行会逐步趋于收敛，可将最后几轮训练模型结果做集成。\n",
    "\n",
    "5. 不同目标函数\n",
    "\n",
    "以分类任务为例，可将“交叉熵损失函数”、“合页损失函数”、“大间隔交叉熵损失函数”和“中心损失函数”作为目标函数分别训练模型。在预测阶段，可直接对不同模型预测结果做“置信度级别”的平均或投票。\n",
    "\n",
    "6. 不同网络结构\n",
    "\n",
    "操作时可在如VGG网络、深度残差网络等不同网络架构的网络上训练模型，最后将不同架构网络得到的结果做以集成。"
   ]
  },
  {
   "cell_type": "markdown",
   "metadata": {},
   "source": [
    "#### 多模型集成方法\n",
    "假设共有$N$个模型待集成，对某测试样本$x$，其预测结果为$N$个$C$维向量：$s_1,s_2,\\cdots,s_N$\n",
    "\n",
    "1. 直接平均法（simple averaging）\n",
    "$$Final\\ score = \\frac{\\sum_{i=1}^Ns_i}{N}$$\n",
    "\n",
    "2. 加权平均法（weighted averaging）\n",
    "$$Final\\ score=\\frac{\\sum_{i=1}^Nw_is_i}{N}$$\n",
    "其中，$w_i\\geq 0$，且$\\sum_{i=1}^Nw_i=1$。关于权重$w_i$的取值可根据不同模型在验证集上各自单独的准确率而定，高准确率的模型权重较高，低准确率的模型可设置稍小权重。\n",
    "\n",
    "3. 投票法（voting）\n",
    "\n",
    "表决前需先将各自模型返回的预测置信度$s_i$转化为预测类别，即最高置信度对应的类别标记$c_i\\in \\{1,2,\\cdots,C\\}$作为该模型的预测结果。**多数表决法**中在得到样本$x$的最终预测时，若某预测类别获得一半以上模型投票，则该样本预测结果为该类别；若对该样本无任何类别获得一半以上投票，则拒绝作出预测。\n",
    "\n",
    "相对多数表决法（plurality voting）：选取投票数最高的类别作为最后预测结果。\n",
    "\n",
    "4. 堆叠法（Stacking）\n",
    "\n",
    "以一阶学习过程的输出作为输入开展二阶学习过程。\n",
    "\n",
    "对于样本$x$，堆叠法的输入是$N$个模型的预测置信度$[s_1s_2\\cdots s_N]$，这些置信度可以级联作为新的特征表示。之后基于这样的“特征表示”训练学习器将其映射到样本原本的标记空间。"
   ]
  },
  {
   "cell_type": "code",
   "execution_count": null,
   "metadata": {},
   "outputs": [],
   "source": []
  }
 ],
 "metadata": {
  "kernelspec": {
   "display_name": "Python 3",
   "language": "python",
   "name": "python3"
  },
  "language_info": {
   "codemirror_mode": {
    "name": "ipython",
    "version": 3
   },
   "file_extension": ".py",
   "mimetype": "text/x-python",
   "name": "python",
   "nbconvert_exporter": "python",
   "pygments_lexer": "ipython3",
   "version": "3.6.6"
  },
  "toc": {
   "base_numbering": 1,
   "nav_menu": {},
   "number_sections": true,
   "sideBar": true,
   "skip_h1_title": false,
   "title_cell": "Table of Contents",
   "title_sidebar": "Contents",
   "toc_cell": false,
   "toc_position": {},
   "toc_section_display": true,
   "toc_window_display": false
  },
  "varInspector": {
   "cols": {
    "lenName": 16,
    "lenType": 16,
    "lenVar": 40
   },
   "kernels_config": {
    "python": {
     "delete_cmd_postfix": "",
     "delete_cmd_prefix": "del ",
     "library": "var_list.py",
     "varRefreshCmd": "print(var_dic_list())"
    },
    "r": {
     "delete_cmd_postfix": ") ",
     "delete_cmd_prefix": "rm(",
     "library": "var_list.r",
     "varRefreshCmd": "cat(var_dic_list()) "
    }
   },
   "types_to_exclude": [
    "module",
    "function",
    "builtin_function_or_method",
    "instance",
    "_Feature"
   ],
   "window_display": false
  }
 },
 "nbformat": 4,
 "nbformat_minor": 2
}
