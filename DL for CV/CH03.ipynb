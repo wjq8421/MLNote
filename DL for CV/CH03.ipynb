{
 "cells": [
  {
   "cell_type": "code",
   "execution_count": 2,
   "metadata": {
    "ExecuteTime": {
     "end_time": "2019-07-31T07:40:30.489204Z",
     "start_time": "2019-07-31T07:40:30.458203Z"
    }
   },
   "outputs": [],
   "source": [
    "import cv2"
   ]
  },
  {
   "cell_type": "code",
   "execution_count": 4,
   "metadata": {
    "ExecuteTime": {
     "end_time": "2019-07-31T07:40:47.448174Z",
     "start_time": "2019-07-31T07:40:43.682959Z"
    }
   },
   "outputs": [
    {
     "name": "stdout",
     "output_type": "stream",
     "text": [
      "(768, 1024, 3)\n"
     ]
    },
    {
     "data": {
      "text/plain": [
       "-1"
      ]
     },
     "execution_count": 4,
     "metadata": {},
     "output_type": "execute_result"
    }
   ],
   "source": [
    "img = cv2.imread('example.jpg')\n",
    "print(img.shape)\n",
    "cv2.imshow(\"Image\", img)\n",
    "cv2.waitKey(0)"
   ]
  },
  {
   "cell_type": "code",
   "execution_count": 6,
   "metadata": {
    "ExecuteTime": {
     "end_time": "2019-07-31T07:43:09.473298Z",
     "start_time": "2019-07-31T07:43:09.467297Z"
    }
   },
   "outputs": [
    {
     "name": "stdout",
     "output_type": "stream",
     "text": [
      "255 198 147\n"
     ]
    }
   ],
   "source": [
    "(b, g, r) = img[20, 100]\n",
    "print(b, g, r)"
   ]
  },
  {
   "cell_type": "code",
   "execution_count": 24,
   "metadata": {
    "ExecuteTime": {
     "end_time": "2019-08-01T09:34:09.907444Z",
     "start_time": "2019-08-01T09:34:09.899444Z"
    }
   },
   "outputs": [
    {
     "data": {
      "text/plain": [
       "['E:',\n",
       " '文件管理集合',\n",
       " '代码',\n",
       " 'Python',\n",
       " 'DL_for_CV',\n",
       " 'cats_dogs',\n",
       " 'dog',\n",
       " 'dog.10999.jpg']"
      ]
     },
     "execution_count": 24,
     "metadata": {},
     "output_type": "execute_result"
    }
   ],
   "source": [
    "import os\n",
    "\n",
    "d = 'E:\\\\文件管理集合\\\\代码\\\\Python\\\\DL_for_CV\\\\cats_dogs\\\\dog\\\\dog.10999.jpg'\n",
    "d.split(os.path.sep)"
   ]
  },
  {
   "cell_type": "code",
   "execution_count": 11,
   "metadata": {
    "ExecuteTime": {
     "end_time": "2019-08-01T09:27:29.227527Z",
     "start_time": "2019-08-01T09:27:29.222526Z"
    }
   },
   "outputs": [],
   "source": [
    "import imutils\n",
    "import numpy as np"
   ]
  },
  {
   "cell_type": "code",
   "execution_count": 30,
   "metadata": {
    "ExecuteTime": {
     "end_time": "2019-08-01T09:47:20.854684Z",
     "start_time": "2019-08-01T09:47:20.844683Z"
    }
   },
   "outputs": [
    {
     "data": {
      "text/plain": [
       "115335"
      ]
     },
     "execution_count": 30,
     "metadata": {},
     "output_type": "execute_result"
    }
   ],
   "source": [
    "a = cv2.imread('E:\\\\DL_datasets\\\\cats_dogs\\\\dog\\\\dog.10997.jpg')\n",
    "a.nbytes"
   ]
  },
  {
   "cell_type": "code",
   "execution_count": 37,
   "metadata": {
    "ExecuteTime": {
     "end_time": "2019-08-02T08:51:17.184136Z",
     "start_time": "2019-08-02T08:51:16.617104Z"
    }
   },
   "outputs": [],
   "source": [
    "from math import exp, log\n",
    "import matplotlib.pyplot as plt"
   ]
  },
  {
   "cell_type": "code",
   "execution_count": 38,
   "metadata": {
    "ExecuteTime": {
     "end_time": "2019-08-02T08:51:23.983525Z",
     "start_time": "2019-08-02T08:51:23.903521Z"
    }
   },
   "outputs": [],
   "source": [
    "plt.scatter?"
   ]
  },
  {
   "cell_type": "code",
   "execution_count": 36,
   "metadata": {
    "ExecuteTime": {
     "end_time": "2019-08-02T06:56:43.403979Z",
     "start_time": "2019-08-02T06:56:43.396978Z"
    }
   },
   "outputs": [
    {
     "data": {
      "text/plain": [
       "0.06262036198166732"
      ]
     },
     "execution_count": 36,
     "metadata": {},
     "output_type": "execute_result"
    }
   ],
   "source": [
    "a = exp(-3.44)\n",
    "b = exp(1.16)\n",
    "c = exp(3.91)\n",
    "a, b, c\n",
    "\n"
   ]
  }
 ],
 "metadata": {
  "kernelspec": {
   "display_name": "Python 3",
   "language": "python",
   "name": "python3"
  },
  "language_info": {
   "codemirror_mode": {
    "name": "ipython",
    "version": 3
   },
   "file_extension": ".py",
   "mimetype": "text/x-python",
   "name": "python",
   "nbconvert_exporter": "python",
   "pygments_lexer": "ipython3",
   "version": "3.6.6"
  },
  "toc": {
   "base_numbering": 1,
   "nav_menu": {},
   "number_sections": true,
   "sideBar": true,
   "skip_h1_title": false,
   "title_cell": "Table of Contents",
   "title_sidebar": "Contents",
   "toc_cell": false,
   "toc_position": {},
   "toc_section_display": true,
   "toc_window_display": false
  },
  "varInspector": {
   "cols": {
    "lenName": 16,
    "lenType": 16,
    "lenVar": 40
   },
   "kernels_config": {
    "python": {
     "delete_cmd_postfix": "",
     "delete_cmd_prefix": "del ",
     "library": "var_list.py",
     "varRefreshCmd": "print(var_dic_list())"
    },
    "r": {
     "delete_cmd_postfix": ") ",
     "delete_cmd_prefix": "rm(",
     "library": "var_list.r",
     "varRefreshCmd": "cat(var_dic_list()) "
    }
   },
   "types_to_exclude": [
    "module",
    "function",
    "builtin_function_or_method",
    "instance",
    "_Feature"
   ],
   "window_display": false
  }
 },
 "nbformat": 4,
 "nbformat_minor": 2
}
