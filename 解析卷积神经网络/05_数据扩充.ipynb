{
 "cells": [
  {
   "cell_type": "markdown",
   "metadata": {},
   "source": [
    "#### 普通数据扩充方法\n",
    "1. 图像水平翻转（horizontally flipping）；\n",
    "2. 随机抠取（random crops）：一般用较大（约0.8至0.9倍原图大小）的正方形在原图的随机位置处抠取图像块。\n",
    "3. 尺度变换（scaling）：将图像分辨率变为原图的0.8、0.9、1.1、1.2、1.3等倍数。\n",
    "4. 旋转（rotating）\n",
    "5. 色彩抖动（color jittering）：在RGB颜色空间对原有RGB色彩分布进行轻微的扰动，也可在HSV颜色空间尝试随机改变图像原有的饱和度和透明度，或对色调进行微调。"
   ]
  },
  {
   "cell_type": "markdown",
   "metadata": {},
   "source": [
    "#### 特殊的数据扩充方法\n",
    "1. Fancy PCA\n",
    "> 首先对所有训练数据的R、G、B像素值进行主成分分析操作，得到对应的特征向量$p_i$和特征值$\\lambda_i(i=1,2,3)$，然后根据特征向量和特征值可以计算一组随机值$[p_1,p_2,p_3][\\alpha_1\\lambda_1,\\alpha_2\\lambda_2,\\alpha_3\\lambda_3]^T$，将其作为扰动加到原像素值中即可。\n",
    "\n",
    "其中，$\\alpha_i$为取自以$0$为均值，标准差为$0.1$高斯分布的随机值。在每经过一轮训练（一个epoch）后，$\\alpha_i$将重新随机选取并重复上述操作对原像素值进行扰动。\n",
    "\n",
    "2. 监督式数据扩充\n",
    "> 首先根据原数据训练一个分类的初始模型。而后，利用该模型，对每张图生成对应的特征图或热力图。其可指示图像区域与场景标记间的相关概率。之后，可根据此概率映射回原图选择较强相关的图像区域作为抠取的图像块。"
   ]
  },
  {
   "cell_type": "code",
   "execution_count": null,
   "metadata": {},
   "outputs": [],
   "source": []
  }
 ],
 "metadata": {
  "kernelspec": {
   "display_name": "Python 3",
   "language": "python",
   "name": "python3"
  },
  "language_info": {
   "codemirror_mode": {
    "name": "ipython",
    "version": 3
   },
   "file_extension": ".py",
   "mimetype": "text/x-python",
   "name": "python",
   "nbconvert_exporter": "python",
   "pygments_lexer": "ipython3",
   "version": "3.6.6"
  },
  "toc": {
   "base_numbering": 1,
   "nav_menu": {},
   "number_sections": true,
   "sideBar": true,
   "skip_h1_title": false,
   "title_cell": "Table of Contents",
   "title_sidebar": "Contents",
   "toc_cell": false,
   "toc_position": {},
   "toc_section_display": true,
   "toc_window_display": false
  },
  "varInspector": {
   "cols": {
    "lenName": 16,
    "lenType": 16,
    "lenVar": 40
   },
   "kernels_config": {
    "python": {
     "delete_cmd_postfix": "",
     "delete_cmd_prefix": "del ",
     "library": "var_list.py",
     "varRefreshCmd": "print(var_dic_list())"
    },
    "r": {
     "delete_cmd_postfix": ") ",
     "delete_cmd_prefix": "rm(",
     "library": "var_list.r",
     "varRefreshCmd": "cat(var_dic_list()) "
    }
   },
   "types_to_exclude": [
    "module",
    "function",
    "builtin_function_or_method",
    "instance",
    "_Feature"
   ],
   "window_display": false
  }
 },
 "nbformat": 4,
 "nbformat_minor": 2
}
