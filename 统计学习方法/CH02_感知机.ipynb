{
 "cells": [
  {
   "cell_type": "markdown",
   "metadata": {},
   "source": [
    "### 感知机\n",
    "- 目的：旨在求出将训练数据进行线性划分的分离超平面。\n",
    "- 假设空间：定义在特征空间中的所有线性分类模型，即函数集合$\\{f|f(x)=w\\cdot x + b\\}$\n",
    "\n",
    "假设特征空间是$X\\in \\mathbb{R}^n$，输出空间时$y=\\{+1, -1\\}$，由输入空间到输出空间的函数为：\n",
    "$$f(x)=sign(w\\cdot x + b)$$"
   ]
  },
  {
   "cell_type": "markdown",
   "metadata": {
    "ExecuteTime": {
     "end_time": "2019-03-20T06:19:54.554768Z",
     "start_time": "2019-03-20T06:19:54.547767Z"
    }
   },
   "source": [
    "#### 线性可分数据集\n",
    "> 存在某个超平面$w\\cdot x + b = 0$，能将数据集的正实例点和负实例点完全正确地划分到超平面的两侧，即对所有$y_i=+1$的实例$i$，有$w\\cdot x_i + b > 0$；对所有$y_i=-1$的实例$i$，有$w\\cdot x_i + b < 0$。\n",
    "\n",
    "- 特征空间中任一点$x_0$到超平面$S$的距离为：\n",
    "$$\\frac{1}{||w||}|w\\cdot x_0 +b|$$\n",
    "- 对于误分类点来说：$-y_i(w\\cdot x_i + b) > 0$，因此，误分类点$x_i$到超平面$S$的距离为：\n",
    "$$-\\frac{1}{||w||}y_i(w\\cdot x_i +b)$$\n",
    "- 假设误分类点集合为$M$，则所有误分类点到超平面$S$的总距离为：\n",
    "$$-\\frac{1}{||w||}\\sum_{x_i\\in M}y_i(w\\cdot x_i +b)$$\n",
    "- 不考虑$\\frac{1}{||w||}$，得到感知机学习的损失函数为：\n",
    "$$L(w,b)=-\\sum_{x_i\\in M}y_i(w\\cdot x_i +b)$$\n",
    "- 感知器学习策略：即在假设空间中选取使损失函数最小的模型参数$w,b$。"
   ]
  },
  {
   "cell_type": "markdown",
   "metadata": {},
   "source": [
    "#### 原始形式\n",
    "- **随机梯度下降法**：\n",
    "- 任意选取一个超平面$w_0,b_0$，然后用梯度下降法不断地极小化目标函数$L(w,b)$。极小化过程中不是一次使$M$中所有误分类点的梯度下降，而是一次随机选取一个误分类点使其梯度下降。\n",
    "- 损失函数$L(w,b)$的梯度为：\n",
    "$$\\bigtriangledown _wL(w,b)=-\\sum_{x_i\\in M}y_ix_i$$\n",
    "$$\\bigtriangledown _bL(w,b)=-\\sum_{x_i\\in M}y_i$$\n",
    "- 随机选取一个误分类点$(x_i,y_i)$，对$w,b$进行更新：\n",
    "$$w\\leftarrow w+\\eta y_ix_i$$\n",
    "$$b\\leftarrow b+\\eta y_i$$\n",
    "- 其中$\\eta(0<\\eta\\leq 1)$是步长，即学习率。通过迭代，可是损失函数$L(w,b)$不断减小，直到为0。\n",
    "\n",
    "_____\n",
    "1. 感知机学习算法由于采用不同的初值或选取不同的误分类点，解可以不同。\n",
    "2. 当训练集线性不可分时，感知机学习算法不收敛，迭代结果会发生震荡。"
   ]
  },
  {
   "cell_type": "markdown",
   "metadata": {},
   "source": [
    "#### 对偶形式\n",
    "- 基本思想：将$w$和$b$表示为实例$x_i$和标记$y_i$的线性组合的形式，通过求解其系数而求得$w$和$b$。\n",
    "\n",
    "假设初始值$w_0,b_0$均为0，对误分类点$(x_i,y_i)$通过：\n",
    "$$w \\leftarrow w + \\eta y_ix_i$$\n",
    "$$b \\leftarrow b + \\eta y_i$$\n",
    "逐步逼近$w,b$。设修改$n$次，则$w_i,b_i$关于$(x_i,y_i)$的增量分别是$\\alpha_i y_ix_i$和$\\alpha_i y_i$，最后学习到的$w,b$可分别表示为：\n",
    "$$w=\\sum_{i=1}^{N}\\alpha_i y_ix_i$$\n",
    "$$b=\\sum_{i=1}^{N}\\alpha_i y_i$$\n",
    "此处，$\\alpha_i \\geq 0, i=1,2,\\cdots,N$，当$\\eta =1$时，表示第$i$个实例点由于误分而进行更新的次数。实例点更新次数越多，意味着它距离分离超平面越近，也就越难正确分类。\n",
    "\n",
    "感知机模型为$f(x)=sign(\\sum_{j=1}^{N}\\alpha_j y_ix_i\\cdots+b)$，其中$\\alpha=(\\alpha_1,\\alpha_2,\\cdots,\\alpha_N)^T$。\n",
    "1. $\\alpha \\leftarrow 0, b \\leftarrow 0$；\n",
    "2. 在训练集中选取数据$(x_i,y_i)$；\n",
    "3. 如果$y_i (\\sum_{j=1}^{N}\\alpha_j y_ix_i\\cdots+b) \\leq 0$：\n",
    "$$\\alpha_i \\leftarrow \\alpha_i + \\eta$$\n",
    "$$b \\leftarrow b + \\eta y_i$$\n",
    "4. 转至2直到没有误分类数据。"
   ]
  },
  {
   "cell_type": "markdown",
   "metadata": {},
   "source": [
    "____\n",
    "- **Gram矩阵**：$n$维欧式空间中任意$k(k\\leq n)$个向量$\\alpha_1,\\alpha_2,\\cdots,\\alpha_k$的内积所组成的矩阵。\n",
    "$$G(\\alpha_1,\\alpha_2,\\cdots,\\alpha_k)=\\begin{bmatrix}\n",
    "(\\alpha_1,\\alpha_1) & (\\alpha_1,\\alpha_2) & \\cdots & (\\alpha_1,\\alpha_k)\\\\ \n",
    "(\\alpha_2,\\alpha_1) & (\\alpha_2,\\alpha_2) & \\cdots & (\\alpha_2,\\alpha_k)\\\\ \n",
    "\\cdots & \\cdots & \\cdots & \\cdots\\\\ \n",
    "(\\alpha_k,\\alpha_1) & (\\alpha_k,\\alpha_2) & \\cdots & (\\alpha_k,\\alpha_k)\n",
    "\\end{bmatrix}$$\n",
    "\n",
    "可看作feature之间的偏心协方差矩阵（即没有减去均值的协方差矩阵）。在feature map中，每个数字代表一个特征的强度，而Gram计算的实际上是两两特征之间的相关性。其对角线元素，还体现了每个特征在图像中出现的量。"
   ]
  },
  {
   "cell_type": "code",
   "execution_count": null,
   "metadata": {},
   "outputs": [],
   "source": []
  }
 ],
 "metadata": {
  "kernelspec": {
   "display_name": "Python 3",
   "language": "python",
   "name": "python3"
  },
  "language_info": {
   "codemirror_mode": {
    "name": "ipython",
    "version": 3
   },
   "file_extension": ".py",
   "mimetype": "text/x-python",
   "name": "python",
   "nbconvert_exporter": "python",
   "pygments_lexer": "ipython3",
   "version": "3.6.6"
  },
  "toc": {
   "base_numbering": 1,
   "nav_menu": {},
   "number_sections": true,
   "sideBar": true,
   "skip_h1_title": false,
   "title_cell": "Table of Contents",
   "title_sidebar": "Contents",
   "toc_cell": false,
   "toc_position": {
    "height": "calc(100% - 180px)",
    "left": "10px",
    "top": "150px",
    "width": "252.797px"
   },
   "toc_section_display": true,
   "toc_window_display": true
  },
  "varInspector": {
   "cols": {
    "lenName": 16,
    "lenType": 16,
    "lenVar": 40
   },
   "kernels_config": {
    "python": {
     "delete_cmd_postfix": "",
     "delete_cmd_prefix": "del ",
     "library": "var_list.py",
     "varRefreshCmd": "print(var_dic_list())"
    },
    "r": {
     "delete_cmd_postfix": ") ",
     "delete_cmd_prefix": "rm(",
     "library": "var_list.r",
     "varRefreshCmd": "cat(var_dic_list()) "
    }
   },
   "types_to_exclude": [
    "module",
    "function",
    "builtin_function_or_method",
    "instance",
    "_Feature"
   ],
   "window_display": false
  }
 },
 "nbformat": 4,
 "nbformat_minor": 2
}
