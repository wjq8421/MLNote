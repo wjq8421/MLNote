{
 "cells": [
  {
   "cell_type": "markdown",
   "metadata": {},
   "source": [
    "### 生成式半监督模型\n",
    "- 假设训练数据集$D$中的样本都是由同一个潜在的模型生成的。\n",
    "\n",
    "缺点：假设的生成式模型必须与真实数据分布吻合。如果不吻合则可能效果很差。\n",
    "\n",
    "#### 生成式高斯混合模型"
   ]
  },
  {
   "cell_type": "markdown",
   "metadata": {},
   "source": [
    "### 图半监督学习\n",
    "用图$G(V,E)$来表示一个样本集$D$：\n",
    "> 1. 顶点$V$：代表每个样本$\\vec{x}_i$\n",
    "> 2. 边$E$：代表样本之间的相似度。若两个样本相似度高，则对应的顶点之间存在一条边。边的权重正比于样本之间的相似度。\n",
    "\n",
    "#### 标记传播算法（Label Propagation）\n",
    "缺点：存储开销大，难以直接处理大规模数据；而且对于新的样本加入，需要对原图重构并进行标记传播。\n",
    "\n",
    "基本思想：将一个节点的邻居节点的标签中数量最多的标签作为该节点自身的标签。给每个节点添加标签以代表它所属的社区，并通过标签的传播形成同一标签的社区结构。\n",
    "\n",
    "传播过程：\n",
    "> 1. 初始时，给每个节点一个唯一的标签；\n",
    "> 2. 每个节点使用其邻居节点的标签中最多的标签来更新自身的标签；\n",
    "> 3. 反复执行步骤2，直到每个节点的标签都不再发生变化为止。\n",
    "\n",
    "边集$E$用矩阵表示为：$$(W)_{i,j}=\\left\\{\\begin{matrix}\n",
    "exp(-\\frac{||\\vec{x}_i-\\vec{x}_j||_2^2}{2\\sigma ^2}),\\ \\ if i\\neq j\\\\ \n",
    "0,\\ \\ \\ otherwise\n",
    "\\end{matrix}\\right.$$\n",
    "$$i,j\\in \\{1,2,\\cdots,N\\}$$\n",
    "其中，$\\sigma$为超参数。"
   ]
  },
  {
   "cell_type": "markdown",
   "metadata": {},
   "source": [
    "### 实战"
   ]
  },
  {
   "cell_type": "code",
   "execution_count": 13,
   "metadata": {
    "ExecuteTime": {
     "end_time": "2019-01-03T08:21:17.489325Z",
     "start_time": "2019-01-03T08:21:17.485324Z"
    }
   },
   "outputs": [],
   "source": [
    "import numpy as np\n",
    "import matplotlib.pyplot as plt\n",
    "from sklearn import metrics\n",
    "from sklearn import datasets\n",
    "from sklearn.semi_supervised import LabelPropagation, LabelSpreading"
   ]
  },
  {
   "cell_type": "code",
   "execution_count": 2,
   "metadata": {
    "ExecuteTime": {
     "end_time": "2019-01-03T07:53:35.353256Z",
     "start_time": "2019-01-03T07:53:35.346255Z"
    }
   },
   "outputs": [],
   "source": [
    "def load_data():\n",
    "    digits = datasets.load_digits()\n",
    "    rng = np.random.RandomState(0)\n",
    "    indices = np.arange(len(digits.data))\n",
    "    rng.shuffle(indices)\n",
    "    X = digits.data[indices]\n",
    "    y = digits.target[indices]\n",
    "    n_labeled_points = int(len(y)/10)  # 只有10%的样本有标记\n",
    "    unlabeled_indices = np.arange(len(y))[n_labeled_points:]  # 后面90%的样本未标记\n",
    "    return X, y, unlabeled_indices"
   ]
  },
  {
   "cell_type": "markdown",
   "metadata": {},
   "source": [
    "#### LabelPropagation\n",
    "**sklearn.semi_supervised.LabelPropagation(kernel='rbf', gamma=20, n_neighbors=7, alpha=None, max_iter=1000, tol=0.001, n_jobs=None)**\n",
    "> 1. kernel：字符串，指定核函数\n",
    "    - rbf：距离为$exp(-\\gamma |x-y|^2),\\ \\gamma > 0$\n",
    "    - knn：如果$x$是$y$的$k$近邻，则距离为1,；否则距离为0。\n",
    "    - rbf核计算量较大，且距离矩阵是对称的；knn核计算量较小，距离矩阵是稀疏矩阵，且距离矩阵是不对称的。\n",
    "> 2. gamma：浮点数，rbf核的参数\n",
    "> 3. n_neighbors：整数，knn核的参数\n",
    "> 4. alpha：浮点数，为折中系数$\\alpha$\n",
    "\n",
    "属性：\n",
    "> 1. X_：输入数组\n",
    "> 2. classes_：分类问题中，类别标记数组\n",
    "> 3. label_distributions_：数组，给出了每个样本的标记分布\n",
    "> 4. transduction_：给出每个样本计算出的标记\n",
    "> 5. n_iter_：给出迭代次数\n",
    "\n",
    "方法：\n",
    "> 1. fit(X, y)：训练模型\n",
    "> 2. predict(X)：预测标记\n",
    "> 3. predict_proba(X)：预测对于每个标记出现的概率\n",
    "> 4. score(X, y[, sample_weight])：评估在测试集上的预测准确率"
   ]
  },
  {
   "cell_type": "code",
   "execution_count": 15,
   "metadata": {
    "ExecuteTime": {
     "end_time": "2019-01-03T08:21:32.255169Z",
     "start_time": "2019-01-03T08:21:31.958152Z"
    }
   },
   "outputs": [
    {
     "name": "stdout",
     "output_type": "stream",
     "text": [
      "Accuracy: 0.948084\n"
     ]
    }
   ],
   "source": [
    "def test_LabelPropagation(*data):\n",
    "    X, y, unlabeled_indices = data\n",
    "    y_train = np.copy(y)\n",
    "    y_train[unlabeled_indices] = -1\n",
    "    clf = LabelPropagation(max_iter=100, kernel='rbf', gamma=0.1)\n",
    "    clf.fit(X, y_train)\n",
    "    true_labels = y[unlabeled_indices]  # 真实标记\n",
    "    print(\"Accuracy: %f\"% clf.score(X[unlabeled_indices], true_labels))\n",
    "    \n",
    "data = load_data()\n",
    "test_LabelPropagation(*data)"
   ]
  },
  {
   "cell_type": "markdown",
   "metadata": {},
   "source": [
    "#### LabelSpreading\n",
    "**sklearn.semi_supervised.LabelSpreading(kernel='rbf', gamma=20, n_neighbors=7, alpha=0.2, max_iter=30, tol=0.001, n_jobs=None)**\n"
   ]
  },
  {
   "cell_type": "code",
   "execution_count": null,
   "metadata": {},
   "outputs": [],
   "source": []
  }
 ],
 "metadata": {
  "kernelspec": {
   "display_name": "Python 3",
   "language": "python",
   "name": "python3"
  },
  "language_info": {
   "codemirror_mode": {
    "name": "ipython",
    "version": 3
   },
   "file_extension": ".py",
   "mimetype": "text/x-python",
   "name": "python",
   "nbconvert_exporter": "python",
   "pygments_lexer": "ipython3",
   "version": "3.6.6"
  },
  "toc": {
   "base_numbering": 1,
   "nav_menu": {},
   "number_sections": true,
   "sideBar": true,
   "skip_h1_title": false,
   "title_cell": "Table of Contents",
   "title_sidebar": "Contents",
   "toc_cell": false,
   "toc_position": {},
   "toc_section_display": true,
   "toc_window_display": true
  },
  "varInspector": {
   "cols": {
    "lenName": 16,
    "lenType": 16,
    "lenVar": 40
   },
   "kernels_config": {
    "python": {
     "delete_cmd_postfix": "",
     "delete_cmd_prefix": "del ",
     "library": "var_list.py",
     "varRefreshCmd": "print(var_dic_list())"
    },
    "r": {
     "delete_cmd_postfix": ") ",
     "delete_cmd_prefix": "rm(",
     "library": "var_list.r",
     "varRefreshCmd": "cat(var_dic_list()) "
    }
   },
   "types_to_exclude": [
    "module",
    "function",
    "builtin_function_or_method",
    "instance",
    "_Feature"
   ],
   "window_display": false
  }
 },
 "nbformat": 4,
 "nbformat_minor": 2
}
