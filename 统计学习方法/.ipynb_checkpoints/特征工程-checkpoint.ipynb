{
 "cells": [
  {
   "cell_type": "markdown",
   "metadata": {},
   "source": [
    "##### 时间截\n",
    "- 通常需要分离成多个维度，如年、月、日、小时、分钟、秒。在呈现时间的时候，试着保证你所提供的所有数据是你的模型所需要的。\n",
    "\n",
    "_____\n",
    "##### 分解类别属性\n",
    "- 对于类别型数据，如{红，绿，蓝}，把每个类别属性转换成二元属性，因此，增加的属性等于相应数目的类别，即独热(one-hot)编码。如果尝试将类别属性转换成一个标量值，如用{1,2,3}表示{红，绿，蓝}，可能会误导你的模型，如使得统计指标(如均值)无意义。\n",
    "\n",
    "_________\n",
    "##### 分箱/分区\n",
    "- 有时将数值型属性转换成类别属性，用标量值呈现更有意义，同时能使算法减少对噪声的干扰。如预测一个人是否拥有某款衣服，可将年龄这个因子划分成1-10,11-18,19-25,26-40等。\n",
    "\n",
    "_____\n",
    "##### 交叉特征\n",
    "- 将两个或更多的类别属性组合成一个。如特征A有两个可能值{A1,A2}，特征B也存在两个可能值{B1,B2}，A&B的交叉特征为：{(A1,B1), (A1,B2), (A2,B1), (A2, B2)}。"
   ]
  },
  {
   "cell_type": "markdown",
   "metadata": {},
   "source": [
    "________\n",
    "##### 特征选择\n",
    "- 用相关性或其他确定特征重要性的方法，搜索出特征子集。\n",
    "\n",
    "________\n",
    "##### 特征缩放\n",
    "- 某些特征比其他特征拥有高得多的跨度值，如一个人的收入和年龄，通过缩放，可避免某些特征比其他特征获得大小非常悬殊的权重值。\n",
    "\n",
    "______\n",
    "##### 特征提取\n",
    "- 从原始属性中自动生成一些新的特征集，如通过降维算法、主成分分析、无监督聚类算法。"
   ]
  },
  {
   "cell_type": "markdown",
   "metadata": {
    "ExecuteTime": {
     "end_time": "2019-04-17T09:15:34.069089Z",
     "start_time": "2019-04-17T09:15:34.058088Z"
    }
   },
   "source": [
    "![j](https://images2015.cnblogs.com/blog/927391/201604/927391-20160430145122660-830141495.jpg)"
   ]
  },
  {
   "cell_type": "markdown",
   "metadata": {},
   "source": [
    "___________\n"
   ]
  }
 ],
 "metadata": {
  "kernelspec": {
   "display_name": "Python 3",
   "language": "python",
   "name": "python3"
  },
  "language_info": {
   "codemirror_mode": {
    "name": "ipython",
    "version": 3
   },
   "file_extension": ".py",
   "mimetype": "text/x-python",
   "name": "python",
   "nbconvert_exporter": "python",
   "pygments_lexer": "ipython3",
   "version": "3.6.6"
  },
  "toc": {
   "base_numbering": 1,
   "nav_menu": {},
   "number_sections": true,
   "sideBar": true,
   "skip_h1_title": false,
   "title_cell": "Table of Contents",
   "title_sidebar": "Contents",
   "toc_cell": false,
   "toc_position": {},
   "toc_section_display": true,
   "toc_window_display": true
  },
  "varInspector": {
   "cols": {
    "lenName": 16,
    "lenType": 16,
    "lenVar": 40
   },
   "kernels_config": {
    "python": {
     "delete_cmd_postfix": "",
     "delete_cmd_prefix": "del ",
     "library": "var_list.py",
     "varRefreshCmd": "print(var_dic_list())"
    },
    "r": {
     "delete_cmd_postfix": ") ",
     "delete_cmd_prefix": "rm(",
     "library": "var_list.r",
     "varRefreshCmd": "cat(var_dic_list()) "
    }
   },
   "types_to_exclude": [
    "module",
    "function",
    "builtin_function_or_method",
    "instance",
    "_Feature"
   ],
   "window_display": false
  }
 },
 "nbformat": 4,
 "nbformat_minor": 2
}
