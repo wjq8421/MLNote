{
 "cells": [
  {
   "cell_type": "markdown",
   "metadata": {},
   "source": [
    "LRN（Local Response Normalization）\n",
    "\n",
    "$$b_{x,y}^i=a_{x,y}^i / (k+\\alpha \\sum_{j=max(0,i-n/2)}^{min(N-1,i+n/2)}(a_{x,y}^j)^2)^{\\beta}$$\n",
    "\n",
    "1. $b_{x,y}^i$是归一化后的值；$i$是通道的位置，代表更新第几个通道的值；$x$和$y$代表待更新像素的位置。\n",
    "2. $a_{x,y}^i$是输入值，是激活函数ReLU的输出值。\n",
    "3. $N$是总的通道数。\n",
    "4. $k$、$\\alpha$、$\\beta$、$n/2$都是自定义系数。\n",
    "5. $N$：每个feature map里最内层向量的列数。"
   ]
  },
  {
   "cell_type": "code",
   "execution_count": 4,
   "metadata": {
    "ExecuteTime": {
     "end_time": "2019-06-24T09:28:54.591753Z",
     "start_time": "2019-06-24T09:28:53.814709Z"
    }
   },
   "outputs": [
    {
     "name": "stdout",
     "output_type": "stream",
     "text": [
      "[[[[ 1  2  3  4]\n",
      "   [ 5  6  7  8]]\n",
      "\n",
      "  [[ 9 10 11 12]\n",
      "   [13 14 15 16]]]\n",
      "\n",
      "\n",
      " [[[17 18 19 20]\n",
      "   [21 22 23 24]]\n",
      "\n",
      "  [[25 26 27 28]\n",
      "   [29 30 31 32]]]]\n",
      "+++++++++++++++\n",
      "[[[[0.07142857 0.06666667 0.10000001 0.13793103]\n",
      "   [0.04545454 0.03448276 0.04022989 0.05369128]]\n",
      "\n",
      "  [[0.02980132 0.02242153 0.02466368 0.03287672]\n",
      "   [0.0220339  0.01654846 0.0177305  0.02363368]]]\n",
      "\n",
      "\n",
      " [[[0.0174538  0.01310044 0.01382824 0.01843318]\n",
      "   [0.01444292 0.01083744 0.01133005 0.01510384]]\n",
      "\n",
      "  [[0.01231527 0.00923952 0.00959488 0.01279123]\n",
      "   [0.01073279 0.00805153 0.00831991 0.01109185]]]]\n"
     ]
    }
   ],
   "source": [
    "import tensorflow as tf\n",
    "import numpy as np\n",
    "\n",
    "x = np.array([i for i in range(1, 33)]).reshape([2,2,2,4])\n",
    "y = tf.nn.lrn(input=x, depth_radius=2, bias=0, alpha=1, beta=1)\n",
    "\n",
    "with tf.Session() as sess:\n",
    "    print(x)\n",
    "    print('+++++++++++++++')\n",
    "    print(y.eval())"
   ]
  },
  {
   "cell_type": "markdown",
   "metadata": {},
   "source": [
    "上例中，$\\frac{n}{2}=2$、$k=0$、$\\alpha=1$、$\\beta=1$、$N=4$"
   ]
  },
  {
   "cell_type": "code",
   "execution_count": 7,
   "metadata": {
    "ExecuteTime": {
     "end_time": "2019-06-24T09:38:55.714135Z",
     "start_time": "2019-06-24T09:38:55.706135Z"
    }
   },
   "outputs": [
    {
     "data": {
      "text/plain": [
       "0.017453798767967144"
      ]
     },
     "execution_count": 7,
     "metadata": {},
     "output_type": "execute_result"
    }
   ],
   "source": [
    "17 / (17**2 + 18**2 + 19**2)"
   ]
  }
 ],
 "metadata": {
  "kernelspec": {
   "display_name": "Python 3",
   "language": "python",
   "name": "python3"
  },
  "language_info": {
   "codemirror_mode": {
    "name": "ipython",
    "version": 3
   },
   "file_extension": ".py",
   "mimetype": "text/x-python",
   "name": "python",
   "nbconvert_exporter": "python",
   "pygments_lexer": "ipython3",
   "version": "3.6.6"
  },
  "toc": {
   "base_numbering": 1,
   "nav_menu": {},
   "number_sections": true,
   "sideBar": true,
   "skip_h1_title": false,
   "title_cell": "Table of Contents",
   "title_sidebar": "Contents",
   "toc_cell": false,
   "toc_position": {},
   "toc_section_display": true,
   "toc_window_display": false
  },
  "varInspector": {
   "cols": {
    "lenName": 16,
    "lenType": 16,
    "lenVar": 40
   },
   "kernels_config": {
    "python": {
     "delete_cmd_postfix": "",
     "delete_cmd_prefix": "del ",
     "library": "var_list.py",
     "varRefreshCmd": "print(var_dic_list())"
    },
    "r": {
     "delete_cmd_postfix": ") ",
     "delete_cmd_prefix": "rm(",
     "library": "var_list.r",
     "varRefreshCmd": "cat(var_dic_list()) "
    }
   },
   "types_to_exclude": [
    "module",
    "function",
    "builtin_function_or_method",
    "instance",
    "_Feature"
   ],
   "window_display": false
  }
 },
 "nbformat": 4,
 "nbformat_minor": 2
}
