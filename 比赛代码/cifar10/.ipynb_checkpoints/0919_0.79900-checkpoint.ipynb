{
 "cells": [
  {
   "cell_type": "code",
   "execution_count": 59,
   "metadata": {
    "ExecuteTime": {
     "end_time": "2019-09-20T01:05:02.497984Z",
     "start_time": "2019-09-20T01:05:01.881949Z"
    }
   },
   "outputs": [],
   "source": [
    "from torchvision.datasets import ImageFolder\n",
    "from torchvision import transforms\n",
    "from torch import nn, optim\n",
    "from torch.utils.data import DataLoader\n",
    "from torch.autograd import Variable\n",
    "from tqdm import tqdm\n",
    "from time import sleep\n",
    "import matplotlib.pyplot as plt\n",
    "import pandas as pd\n",
    "import numpy as np\n",
    "import torch\n",
    "import shutil\n",
    "import os"
   ]
  },
  {
   "cell_type": "code",
   "execution_count": 2,
   "metadata": {
    "ExecuteTime": {
     "end_time": "2019-09-19T02:31:30.561624Z",
     "start_time": "2019-09-19T02:31:28.606512Z"
    }
   },
   "outputs": [],
   "source": [
    "train_image_dir = 'E:\\\\DL_datasets\\\\cifar10\\\\preprocess_train'\n",
    "test_image_dir = 'E:\\\\DL_datasets\\\\cifar10\\\\test'\n",
    "\n",
    "train_transform = transforms.Compose([\n",
    "    transforms.Resize(40),\n",
    "    transforms.RandomHorizontalFlip(),\n",
    "    transforms.RandomCrop(32),\n",
    "    transforms.ToTensor(),\n",
    "    transforms.Normalize([0.5, 0.5, 0.5], [0.5, 0.5, 0.5])\n",
    "])\n",
    "\n",
    "test_transform = transforms.Compose([\n",
    "    transforms.ToTensor(),\n",
    "    transforms.Normalize([0.5, 0.5, 0.5], [0.5, 0.5, 0.5])\n",
    "])\n",
    "\n",
    "train_dataset = ImageFolder(train_image_dir, transform=train_transform)\n",
    "test_dataset = ImageFolder(test_image_dir, transform=test_transform)"
   ]
  },
  {
   "cell_type": "code",
   "execution_count": 46,
   "metadata": {
    "ExecuteTime": {
     "end_time": "2019-09-19T07:09:26.113529Z",
     "start_time": "2019-09-19T07:09:26.108529Z"
    }
   },
   "outputs": [
    {
     "data": {
      "text/plain": [
       "50000"
      ]
     },
     "execution_count": 46,
     "metadata": {},
     "output_type": "execute_result"
    }
   ],
   "source": [
    "len(train_dataset)"
   ]
  },
  {
   "cell_type": "code",
   "execution_count": 48,
   "metadata": {
    "ExecuteTime": {
     "end_time": "2019-09-19T07:13:00.776807Z",
     "start_time": "2019-09-19T07:13:00.741805Z"
    }
   },
   "outputs": [],
   "source": [
    "train_dataset, val_dataset = torch.utils.data.random_split(train_dataset, [40000, 10000])"
   ]
  },
  {
   "cell_type": "code",
   "execution_count": 51,
   "metadata": {
    "ExecuteTime": {
     "end_time": "2019-09-19T07:14:16.647147Z",
     "start_time": "2019-09-19T07:14:16.643147Z"
    }
   },
   "outputs": [],
   "source": [
    "train_loader = DataLoader(train_dataset, batch_size=64, shuffle=True)\n",
    "val_loader = DataLoader(val_dataset, batch_size=64, shuffle=False)\n",
    "test_loader = DataLoader(test_dataset, batch_size=64, shuffle=False)"
   ]
  },
  {
   "cell_type": "code",
   "execution_count": 52,
   "metadata": {
    "ExecuteTime": {
     "end_time": "2019-09-19T07:14:17.969222Z",
     "start_time": "2019-09-19T07:14:17.964222Z"
    }
   },
   "outputs": [],
   "source": [
    "def conv3x3(in_channels, out_channels, kernel_size=3, stride=1):\n",
    "    return nn.Conv2d(in_channels, out_channels, kernel_size=kernel_size, stride=stride, padding=1, bias=False)"
   ]
  },
  {
   "cell_type": "code",
   "execution_count": 53,
   "metadata": {
    "ExecuteTime": {
     "end_time": "2019-09-19T07:14:19.034283Z",
     "start_time": "2019-09-19T07:14:19.020283Z"
    }
   },
   "outputs": [],
   "source": [
    "class ResidualBlock(nn.Module):\n",
    "    def __init__(self, in_channels, out_channels, stride=1, downsample=None):\n",
    "        super(ResidualBlock, self).__init__()\n",
    "        self.conv1 = conv3x3(in_channels, out_channels, stride=stride)\n",
    "        self.bn1 = nn.BatchNorm2d(out_channels)\n",
    "        self.relu = nn.ReLU(inplace=True)\n",
    "        self.conv2 = conv3x3(out_channels, out_channels, stride=1)\n",
    "        self.bn2 = nn.BatchNorm2d(out_channels)\n",
    "        if in_channels != out_channels:\n",
    "            self.downsample = nn.Sequential(\n",
    "                nn.Conv2d(in_channels, out_channels, kernel_size=1, stride=2),\n",
    "                nn.BatchNorm2d(out_channels))\n",
    "        else:\n",
    "            self.downsample = downsample\n",
    "        \n",
    "    def forward(self, x):\n",
    "        residual = x\n",
    "        out = self.conv1(x)\n",
    "        out = self.bn1(out)\n",
    "        out = self.relu(out)\n",
    "        out = self.conv2(out)\n",
    "        out = self.bn2(out)\n",
    "        if self.downsample is not None:\n",
    "            residual = self.downsample(x)\n",
    "        \n",
    "        out += residual\n",
    "        out = self.relu(out)\n",
    "        return out"
   ]
  },
  {
   "cell_type": "code",
   "execution_count": 54,
   "metadata": {
    "ExecuteTime": {
     "end_time": "2019-09-19T07:14:20.774383Z",
     "start_time": "2019-09-19T07:14:20.674377Z"
    }
   },
   "outputs": [
    {
     "name": "stdout",
     "output_type": "stream",
     "text": [
      "input:torch.Size([1, 64, 96, 96])\n",
      "output:torch.Size([1, 128, 48, 48])\n"
     ]
    }
   ],
   "source": [
    "test_net = ResidualBlock(64, 128, 2)\n",
    "test_x = Variable(torch.zeros(1, 64, 96, 96))\n",
    "print('input:{}'.format(test_x.shape))\n",
    "\n",
    "test_y = test_net(test_x)\n",
    "print('output:{}'.format(test_y.shape))"
   ]
  },
  {
   "cell_type": "code",
   "execution_count": 55,
   "metadata": {
    "ExecuteTime": {
     "end_time": "2019-09-19T07:14:22.701493Z",
     "start_time": "2019-09-19T07:14:22.692493Z"
    }
   },
   "outputs": [],
   "source": [
    "class ResNet(nn.Module):\n",
    "    def __init__(self, block, num_classes=10):\n",
    "        super(ResNet, self).__init__()  # b, 3, 32, 32\n",
    "        self.first = nn.Sequential(\n",
    "            nn.Conv2d(3, 64, kernel_size=7, stride=2, padding=3),\n",
    "            nn.BatchNorm2d(64),\n",
    "            nn.ReLU(inplace=True), \n",
    "            nn.MaxPool2d(3, 1, 1)) # b, 64, \n",
    "        self.layer1 = self.make_layer(block, 64, 64, 3, 1)\n",
    "        self.layer2 = self.make_layer(block, 64, 128, 4, 2)\n",
    "        self.layer3 = self.make_layer(block, 128, 256, 6, 2)\n",
    "        self.layer4 = self.make_layer(block, 256, 512, 3, 2)\n",
    "        self.avg_pool = nn.AvgPool2d(2)\n",
    "        self.fc = nn.Linear(512, 10)\n",
    "        \n",
    "    def make_layer(self, block, in_channels, out_channels, block_num, stride):\n",
    "        layers = []\n",
    "        layers.append(block(in_channels, out_channels, stride))\n",
    "        for i in range(block_num - 1):\n",
    "            layers.append(block(out_channels, out_channels, 1))\n",
    "        return nn.Sequential(*layers)\n",
    "        \n",
    "    def forward(self, x):\n",
    "        out = self.first(x)\n",
    "        out = self.layer1(out)\n",
    "        out = self.layer2(out)\n",
    "        out = self.layer3(out)\n",
    "        out = self.layer4(out)\n",
    "        out = self.avg_pool(out)\n",
    "        out = out.view(out.size(0), -1)\n",
    "        return out"
   ]
  },
  {
   "cell_type": "code",
   "execution_count": 57,
   "metadata": {
    "ExecuteTime": {
     "end_time": "2019-09-19T10:09:09.877380Z",
     "start_time": "2019-09-19T07:35:51.397221Z"
    },
    "scrolled": true
   },
   "outputs": [
    {
     "name": "stderr",
     "output_type": "stream",
     "text": [
      "100%|███████████████████████████████| 625/625 [02:45<00:00,  3.78it/s]\n"
     ]
    },
    {
     "name": "stdout",
     "output_type": "stream",
     "text": [
      "Epoch [1/50], train_loss:2.670547, train_acc:0.420150; val_loss:1.960924, val_acc:0.502700\n"
     ]
    },
    {
     "name": "stderr",
     "output_type": "stream",
     "text": [
      "100%|███████████████████████████████| 625/625 [02:36<00:00,  4.00it/s]\n"
     ]
    },
    {
     "name": "stdout",
     "output_type": "stream",
     "text": [
      "Epoch [2/50], train_loss:1.660545, train_acc:0.553150; val_loss:1.444959, val_acc:0.592800\n"
     ]
    },
    {
     "name": "stderr",
     "output_type": "stream",
     "text": [
      "100%|███████████████████████████████| 625/625 [02:44<00:00,  3.80it/s]\n"
     ]
    },
    {
     "name": "stdout",
     "output_type": "stream",
     "text": [
      "Epoch [3/50], train_loss:1.294951, train_acc:0.624550; val_loss:1.257279, val_acc:0.626800\n"
     ]
    },
    {
     "name": "stderr",
     "output_type": "stream",
     "text": [
      "100%|███████████████████████████████| 625/625 [02:45<00:00,  3.77it/s]\n"
     ]
    },
    {
     "name": "stdout",
     "output_type": "stream",
     "text": [
      "Epoch [4/50], train_loss:1.100719, train_acc:0.663075; val_loss:1.066235, val_acc:0.668100\n"
     ]
    },
    {
     "name": "stderr",
     "output_type": "stream",
     "text": [
      "100%|███████████████████████████████| 625/625 [02:42<00:00,  3.85it/s]\n"
     ]
    },
    {
     "name": "stdout",
     "output_type": "stream",
     "text": [
      "Epoch [5/50], train_loss:0.979209, train_acc:0.691550; val_loss:0.979901, val_acc:0.692800\n"
     ]
    },
    {
     "name": "stderr",
     "output_type": "stream",
     "text": [
      "100%|███████████████████████████████| 625/625 [02:44<00:00,  3.80it/s]\n"
     ]
    },
    {
     "name": "stdout",
     "output_type": "stream",
     "text": [
      "Epoch [6/50], train_loss:0.891958, train_acc:0.714125; val_loss:0.912945, val_acc:0.706800\n"
     ]
    },
    {
     "name": "stderr",
     "output_type": "stream",
     "text": [
      "100%|███████████████████████████████| 625/625 [02:42<00:00,  3.85it/s]\n"
     ]
    },
    {
     "name": "stdout",
     "output_type": "stream",
     "text": [
      "Epoch [7/50], train_loss:0.823049, train_acc:0.733600; val_loss:0.899381, val_acc:0.709700\n"
     ]
    },
    {
     "name": "stderr",
     "output_type": "stream",
     "text": [
      "100%|███████████████████████████████| 625/625 [02:42<00:00,  3.84it/s]\n"
     ]
    },
    {
     "name": "stdout",
     "output_type": "stream",
     "text": [
      "Epoch [8/50], train_loss:0.763869, train_acc:0.749250; val_loss:0.842068, val_acc:0.727000\n"
     ]
    },
    {
     "name": "stderr",
     "output_type": "stream",
     "text": [
      "100%|███████████████████████████████| 625/625 [02:42<00:00,  3.85it/s]\n"
     ]
    },
    {
     "name": "stdout",
     "output_type": "stream",
     "text": [
      "Epoch [9/50], train_loss:0.719424, train_acc:0.762475; val_loss:0.832406, val_acc:0.729500\n"
     ]
    },
    {
     "name": "stderr",
     "output_type": "stream",
     "text": [
      "100%|███████████████████████████████| 625/625 [02:42<00:00,  3.85it/s]\n"
     ]
    },
    {
     "name": "stdout",
     "output_type": "stream",
     "text": [
      "Epoch [10/50], train_loss:0.693588, train_acc:0.769475; val_loss:0.777108, val_acc:0.748900\n"
     ]
    },
    {
     "name": "stderr",
     "output_type": "stream",
     "text": [
      "100%|███████████████████████████████| 625/625 [02:43<00:00,  3.83it/s]\n"
     ]
    },
    {
     "name": "stdout",
     "output_type": "stream",
     "text": [
      "Epoch [11/50], train_loss:0.651575, train_acc:0.781525; val_loss:0.745500, val_acc:0.759000\n"
     ]
    },
    {
     "name": "stderr",
     "output_type": "stream",
     "text": [
      "100%|███████████████████████████████| 625/625 [02:43<00:00,  3.83it/s]\n"
     ]
    },
    {
     "name": "stdout",
     "output_type": "stream",
     "text": [
      "Epoch [12/50], train_loss:0.615856, train_acc:0.792300; val_loss:0.709281, val_acc:0.768200\n"
     ]
    },
    {
     "name": "stderr",
     "output_type": "stream",
     "text": [
      "100%|███████████████████████████████| 625/625 [02:42<00:00,  3.84it/s]\n"
     ]
    },
    {
     "name": "stdout",
     "output_type": "stream",
     "text": [
      "Epoch [13/50], train_loss:0.595191, train_acc:0.799400; val_loss:0.712122, val_acc:0.766000\n"
     ]
    },
    {
     "name": "stderr",
     "output_type": "stream",
     "text": [
      "100%|███████████████████████████████| 625/625 [02:43<00:00,  3.83it/s]\n"
     ]
    },
    {
     "name": "stdout",
     "output_type": "stream",
     "text": [
      "Epoch [14/50], train_loss:0.569376, train_acc:0.806525; val_loss:0.695486, val_acc:0.776400\n"
     ]
    },
    {
     "name": "stderr",
     "output_type": "stream",
     "text": [
      "100%|███████████████████████████████| 625/625 [02:44<00:00,  3.80it/s]\n"
     ]
    },
    {
     "name": "stdout",
     "output_type": "stream",
     "text": [
      "Epoch [15/50], train_loss:0.542258, train_acc:0.817200; val_loss:0.678402, val_acc:0.772300\n"
     ]
    },
    {
     "name": "stderr",
     "output_type": "stream",
     "text": [
      "100%|███████████████████████████████| 625/625 [02:50<00:00,  3.67it/s]\n"
     ]
    },
    {
     "name": "stdout",
     "output_type": "stream",
     "text": [
      "Epoch [16/50], train_loss:0.525233, train_acc:0.822975; val_loss:0.655147, val_acc:0.783300\n"
     ]
    },
    {
     "name": "stderr",
     "output_type": "stream",
     "text": [
      "100%|███████████████████████████████| 625/625 [02:47<00:00,  3.73it/s]\n"
     ]
    },
    {
     "name": "stdout",
     "output_type": "stream",
     "text": [
      "Epoch [17/50], train_loss:0.501928, train_acc:0.829100; val_loss:0.659518, val_acc:0.782400\n"
     ]
    },
    {
     "name": "stderr",
     "output_type": "stream",
     "text": [
      "100%|███████████████████████████████| 625/625 [02:52<00:00,  3.63it/s]\n"
     ]
    },
    {
     "name": "stdout",
     "output_type": "stream",
     "text": [
      "Epoch [18/50], train_loss:0.481383, train_acc:0.836800; val_loss:0.661665, val_acc:0.786900\n"
     ]
    },
    {
     "name": "stderr",
     "output_type": "stream",
     "text": [
      "100%|███████████████████████████████| 625/625 [02:44<00:00,  3.81it/s]\n"
     ]
    },
    {
     "name": "stdout",
     "output_type": "stream",
     "text": [
      "Epoch [19/50], train_loss:0.460351, train_acc:0.842375; val_loss:0.646282, val_acc:0.792300\n"
     ]
    },
    {
     "name": "stderr",
     "output_type": "stream",
     "text": [
      "100%|███████████████████████████████| 625/625 [02:44<00:00,  3.80it/s]\n"
     ]
    },
    {
     "name": "stdout",
     "output_type": "stream",
     "text": [
      "Epoch [20/50], train_loss:0.449584, train_acc:0.846725; val_loss:0.640982, val_acc:0.794400\n"
     ]
    },
    {
     "name": "stderr",
     "output_type": "stream",
     "text": [
      "100%|███████████████████████████████| 625/625 [02:50<00:00,  3.66it/s]\n"
     ]
    },
    {
     "name": "stdout",
     "output_type": "stream",
     "text": [
      "Epoch [21/50], train_loss:0.436292, train_acc:0.851900; val_loss:0.625926, val_acc:0.798200\n"
     ]
    },
    {
     "name": "stderr",
     "output_type": "stream",
     "text": [
      "100%|███████████████████████████████| 625/625 [02:42<00:00,  3.84it/s]\n"
     ]
    },
    {
     "name": "stdout",
     "output_type": "stream",
     "text": [
      "Epoch [22/50], train_loss:0.418281, train_acc:0.856925; val_loss:0.614317, val_acc:0.803500\n"
     ]
    },
    {
     "name": "stderr",
     "output_type": "stream",
     "text": [
      "100%|███████████████████████████████| 625/625 [02:43<00:00,  3.82it/s]\n"
     ]
    },
    {
     "name": "stdout",
     "output_type": "stream",
     "text": [
      "Epoch [23/50], train_loss:0.406525, train_acc:0.861325; val_loss:0.627109, val_acc:0.799800\n"
     ]
    },
    {
     "name": "stderr",
     "output_type": "stream",
     "text": [
      "100%|███████████████████████████████| 625/625 [02:42<00:00,  3.85it/s]\n"
     ]
    },
    {
     "name": "stdout",
     "output_type": "stream",
     "text": [
      "Epoch [24/50], train_loss:0.400486, train_acc:0.861450; val_loss:0.615404, val_acc:0.804300\n"
     ]
    },
    {
     "name": "stderr",
     "output_type": "stream",
     "text": [
      "100%|███████████████████████████████| 625/625 [02:41<00:00,  3.86it/s]\n"
     ]
    },
    {
     "name": "stdout",
     "output_type": "stream",
     "text": [
      "Epoch [25/50], train_loss:0.379670, train_acc:0.868850; val_loss:0.629404, val_acc:0.803600\n"
     ]
    },
    {
     "name": "stderr",
     "output_type": "stream",
     "text": [
      "100%|███████████████████████████████| 625/625 [02:41<00:00,  3.86it/s]\n"
     ]
    },
    {
     "name": "stdout",
     "output_type": "stream",
     "text": [
      "Epoch [26/50], train_loss:0.370150, train_acc:0.873175; val_loss:0.609608, val_acc:0.807800\n"
     ]
    },
    {
     "name": "stderr",
     "output_type": "stream",
     "text": [
      "100%|███████████████████████████████| 625/625 [02:42<00:00,  3.85it/s]\n"
     ]
    },
    {
     "name": "stdout",
     "output_type": "stream",
     "text": [
      "Epoch [27/50], train_loss:0.361717, train_acc:0.876850; val_loss:0.610317, val_acc:0.807800\n"
     ]
    },
    {
     "name": "stderr",
     "output_type": "stream",
     "text": [
      "100%|███████████████████████████████| 625/625 [02:41<00:00,  3.86it/s]\n"
     ]
    },
    {
     "name": "stdout",
     "output_type": "stream",
     "text": [
      "Epoch [28/50], train_loss:0.345001, train_acc:0.880175; val_loss:0.630814, val_acc:0.802500\n"
     ]
    },
    {
     "name": "stderr",
     "output_type": "stream",
     "text": [
      "100%|███████████████████████████████| 625/625 [02:46<00:00,  3.76it/s]\n"
     ]
    },
    {
     "name": "stdout",
     "output_type": "stream",
     "text": [
      "Epoch [29/50], train_loss:0.340853, train_acc:0.882450; val_loss:0.587049, val_acc:0.817700\n"
     ]
    },
    {
     "name": "stderr",
     "output_type": "stream",
     "text": [
      "100%|███████████████████████████████| 625/625 [02:47<00:00,  3.74it/s]\n"
     ]
    },
    {
     "name": "stdout",
     "output_type": "stream",
     "text": [
      "Epoch [30/50], train_loss:0.323888, train_acc:0.888650; val_loss:0.594194, val_acc:0.815900\n"
     ]
    },
    {
     "name": "stderr",
     "output_type": "stream",
     "text": [
      "100%|███████████████████████████████| 625/625 [02:45<00:00,  3.77it/s]\n"
     ]
    },
    {
     "name": "stdout",
     "output_type": "stream",
     "text": [
      "Epoch [31/50], train_loss:0.313861, train_acc:0.891950; val_loss:0.618405, val_acc:0.805100\n"
     ]
    },
    {
     "name": "stderr",
     "output_type": "stream",
     "text": [
      "100%|███████████████████████████████| 625/625 [02:50<00:00,  3.66it/s]\n"
     ]
    },
    {
     "name": "stdout",
     "output_type": "stream",
     "text": [
      "Epoch [32/50], train_loss:0.306427, train_acc:0.893275; val_loss:0.616637, val_acc:0.806200\n"
     ]
    },
    {
     "name": "stderr",
     "output_type": "stream",
     "text": [
      "100%|███████████████████████████████| 625/625 [02:54<00:00,  3.58it/s]\n"
     ]
    },
    {
     "name": "stdout",
     "output_type": "stream",
     "text": [
      "Epoch [33/50], train_loss:0.301074, train_acc:0.897275; val_loss:0.590077, val_acc:0.819800\n"
     ]
    },
    {
     "name": "stderr",
     "output_type": "stream",
     "text": [
      "100%|███████████████████████████████| 625/625 [02:38<00:00,  3.93it/s]\n"
     ]
    },
    {
     "name": "stdout",
     "output_type": "stream",
     "text": [
      "Epoch [34/50], train_loss:0.291606, train_acc:0.899075; val_loss:0.618907, val_acc:0.810900\n"
     ]
    },
    {
     "name": "stderr",
     "output_type": "stream",
     "text": [
      "100%|███████████████████████████████| 625/625 [02:53<00:00,  3.60it/s]\n"
     ]
    },
    {
     "name": "stdout",
     "output_type": "stream",
     "text": [
      "Epoch [35/50], train_loss:0.277071, train_acc:0.904075; val_loss:0.597710, val_acc:0.818500\n"
     ]
    },
    {
     "name": "stderr",
     "output_type": "stream",
     "text": [
      "100%|███████████████████████████████| 625/625 [02:42<00:00,  3.84it/s]\n"
     ]
    },
    {
     "name": "stdout",
     "output_type": "stream",
     "text": [
      "Epoch [36/50], train_loss:0.270854, train_acc:0.907450; val_loss:0.628755, val_acc:0.816800\n"
     ]
    },
    {
     "name": "stderr",
     "output_type": "stream",
     "text": [
      "100%|███████████████████████████████| 625/625 [02:38<00:00,  3.95it/s]\n"
     ]
    },
    {
     "name": "stdout",
     "output_type": "stream",
     "text": [
      "Epoch [37/50], train_loss:0.259956, train_acc:0.909450; val_loss:0.620433, val_acc:0.813800\n"
     ]
    },
    {
     "name": "stderr",
     "output_type": "stream",
     "text": [
      "100%|███████████████████████████████| 625/625 [02:41<00:00,  3.86it/s]\n"
     ]
    },
    {
     "name": "stdout",
     "output_type": "stream",
     "text": [
      "Epoch [38/50], train_loss:0.257166, train_acc:0.909600; val_loss:0.635615, val_acc:0.809700\n"
     ]
    },
    {
     "name": "stderr",
     "output_type": "stream",
     "text": [
      "100%|███████████████████████████████| 625/625 [02:44<00:00,  3.79it/s]\n"
     ]
    },
    {
     "name": "stdout",
     "output_type": "stream",
     "text": [
      "Epoch [39/50], train_loss:0.245650, train_acc:0.916200; val_loss:0.617599, val_acc:0.820700\n"
     ]
    },
    {
     "name": "stderr",
     "output_type": "stream",
     "text": [
      "100%|███████████████████████████████| 625/625 [02:41<00:00,  3.86it/s]\n"
     ]
    },
    {
     "name": "stdout",
     "output_type": "stream",
     "text": [
      "Epoch [40/50], train_loss:0.240843, train_acc:0.916550; val_loss:0.603206, val_acc:0.820700\n"
     ]
    },
    {
     "name": "stderr",
     "output_type": "stream",
     "text": [
      "100%|███████████████████████████████| 625/625 [02:46<00:00,  3.76it/s]\n"
     ]
    },
    {
     "name": "stdout",
     "output_type": "stream",
     "text": [
      "Epoch [41/50], train_loss:0.235780, train_acc:0.918950; val_loss:0.600640, val_acc:0.822600\n"
     ]
    },
    {
     "name": "stderr",
     "output_type": "stream",
     "text": [
      "100%|███████████████████████████████| 625/625 [02:50<00:00,  3.67it/s]\n"
     ]
    },
    {
     "name": "stdout",
     "output_type": "stream",
     "text": [
      "Epoch [42/50], train_loss:0.225157, train_acc:0.922025; val_loss:0.593003, val_acc:0.825700\n"
     ]
    },
    {
     "name": "stderr",
     "output_type": "stream",
     "text": [
      "100%|███████████████████████████████| 625/625 [02:58<00:00,  3.51it/s]\n"
     ]
    },
    {
     "name": "stdout",
     "output_type": "stream",
     "text": [
      "Epoch [43/50], train_loss:0.226198, train_acc:0.920875; val_loss:0.626405, val_acc:0.818700\n"
     ]
    },
    {
     "name": "stderr",
     "output_type": "stream",
     "text": [
      "100%|███████████████████████████████| 625/625 [02:39<00:00,  3.93it/s]\n"
     ]
    },
    {
     "name": "stdout",
     "output_type": "stream",
     "text": [
      "Epoch [44/50], train_loss:0.213097, train_acc:0.926900; val_loss:0.599601, val_acc:0.824600\n"
     ]
    },
    {
     "name": "stderr",
     "output_type": "stream",
     "text": [
      "100%|███████████████████████████████| 625/625 [02:39<00:00,  3.93it/s]\n"
     ]
    },
    {
     "name": "stdout",
     "output_type": "stream",
     "text": [
      "Epoch [45/50], train_loss:0.209826, train_acc:0.926600; val_loss:0.639478, val_acc:0.818600\n"
     ]
    },
    {
     "name": "stderr",
     "output_type": "stream",
     "text": [
      "100%|███████████████████████████████| 625/625 [02:44<00:00,  3.80it/s]\n"
     ]
    },
    {
     "name": "stdout",
     "output_type": "stream",
     "text": [
      "Epoch [46/50], train_loss:0.204562, train_acc:0.928725; val_loss:0.619541, val_acc:0.821600\n"
     ]
    },
    {
     "name": "stderr",
     "output_type": "stream",
     "text": [
      "100%|███████████████████████████████| 625/625 [02:55<00:00,  3.56it/s]\n"
     ]
    },
    {
     "name": "stdout",
     "output_type": "stream",
     "text": [
      "Epoch [47/50], train_loss:0.197211, train_acc:0.930575; val_loss:0.610225, val_acc:0.827700\n"
     ]
    },
    {
     "name": "stderr",
     "output_type": "stream",
     "text": [
      "100%|███████████████████████████████| 625/625 [02:57<00:00,  3.52it/s]\n"
     ]
    },
    {
     "name": "stdout",
     "output_type": "stream",
     "text": [
      "Epoch [48/50], train_loss:0.192801, train_acc:0.932325; val_loss:0.638239, val_acc:0.823300\n"
     ]
    },
    {
     "name": "stderr",
     "output_type": "stream",
     "text": [
      "100%|███████████████████████████████| 625/625 [03:01<00:00,  3.45it/s]\n"
     ]
    },
    {
     "name": "stdout",
     "output_type": "stream",
     "text": [
      "Epoch [49/50], train_loss:0.195134, train_acc:0.931650; val_loss:0.601477, val_acc:0.829300\n"
     ]
    },
    {
     "name": "stderr",
     "output_type": "stream",
     "text": [
      "100%|███████████████████████████████| 625/625 [03:02<00:00,  3.42it/s]\n"
     ]
    },
    {
     "name": "stdout",
     "output_type": "stream",
     "text": [
      "Epoch [50/50], train_loss:0.176468, train_acc:0.939375; val_loss:0.629736, val_acc:0.828900\n"
     ]
    }
   ],
   "source": [
    "batch_size = 64\n",
    "learning_rate = 1e-2\n",
    "epochs = 50\n",
    "\n",
    "model = ResNet(ResidualBlock)\n",
    "if torch.cuda.is_available():\n",
    "    model.cuda()\n",
    "    \n",
    "criterion = nn.CrossEntropyLoss()\n",
    "optimizer = optim.SGD(model.parameters(), lr=learning_rate)\n",
    "\n",
    "train_losses = []\n",
    "train_accs = []\n",
    "val_losses = []\n",
    "val_accs = []\n",
    "for epoch in range(epochs):\n",
    "    train_loss = 0.0\n",
    "    train_acc = 0\n",
    "    for data, label in tqdm(train_loader):\n",
    "        data = data.view(data.size(0), 3, 32, 32)\n",
    "        if torch.cuda.is_available():\n",
    "            data = Variable(data).cuda()\n",
    "            label = Variable(label).cuda()\n",
    "        else:\n",
    "            data = Variable(data)\n",
    "            label = Variable(label)\n",
    "        \n",
    "        out = model(data)\n",
    "        loss = criterion(out, label)\n",
    "        \n",
    "        optimizer.zero_grad()\n",
    "        loss.backward()\n",
    "        optimizer.step()\n",
    "        train_loss += loss.data.item() * label.size(0)\n",
    "        _, pred = torch.max(out, 1)\n",
    "        train_acc += (pred == label).sum().item()\n",
    "    \n",
    "    val_loss = 0.0\n",
    "    val_acc = 0\n",
    "    for data, label in val_loader:\n",
    "        data = data.view(data.size(0), 3, 32, 32)\n",
    "        if torch.cuda.is_available():\n",
    "            data = Variable(data).cuda()\n",
    "            label = Variable(label).cuda()\n",
    "        else:\n",
    "            data = Variable(data)\n",
    "            label = Variable(label)\n",
    "        \n",
    "        out = model(data)\n",
    "        loss = criterion(out, label)\n",
    "        val_loss += loss.data.item() * label.size(0)\n",
    "        _, pred = torch.max(out, 1)\n",
    "        val_acc += (pred == label).sum().item()\n",
    "    \n",
    "    train_losses.append(train_loss/len(train_dataset))\n",
    "    train_accs.append(train_acc/len(train_dataset))\n",
    "    val_losses.append(val_loss/len(val_dataset))\n",
    "    val_accs.append(val_acc/len(val_dataset))\n",
    "    print(\"Epoch [{}/{}], train_loss:{:.6f}, train_acc:{:.6f}; val_loss:{:.6f}, val_acc:{:.6f}\".format(epoch+1, epochs, \n",
    "                                            train_loss/len(train_dataset), train_acc/len(train_dataset),\n",
    "                                            val_loss/len(val_dataset), val_acc/len(val_dataset)))"
   ]
  },
  {
   "cell_type": "code",
   "execution_count": 64,
   "metadata": {
    "ExecuteTime": {
     "end_time": "2019-09-20T01:11:01.153498Z",
     "start_time": "2019-09-20T01:11:00.959487Z"
    }
   },
   "outputs": [
    {
     "data": {
      "image/png": "[encoded data removed]",
      "text/plain": [
       "<Figure size 432x288 with 1 Axes>"
      ]
     },
     "metadata": {
      "needs_background": "light"
     },
     "output_type": "display_data"
    }
   ],
   "source": [
    "epochs = range(1, len(train_losses) + 1)\n",
    "plt.plot(epochs, train_losses, 'r', label='train_loss')\n",
    "plt.plot(epochs, val_losses, 'b', label='val_loss')\n",
    "plt.legend()\n",
    "plt.show()"
   ]
  },
  {
   "cell_type": "code",
   "execution_count": 63,
   "metadata": {
    "ExecuteTime": {
     "end_time": "2019-09-20T01:10:58.887369Z",
     "start_time": "2019-09-20T01:10:58.701358Z"
    }
   },
   "outputs": [
    {
     "data": {
      "image/png": "[encoded data removed]",
      "text/plain": [
       "<Figure size 432x288 with 1 Axes>"
      ]
     },
     "metadata": {
      "needs_background": "light"
     },
     "output_type": "display_data"
    }
   ],
   "source": [
    "plt.plot(epochs, train_accs, 'r', label='train_acc')\n",
    "plt.plot(epochs, val_accs, 'b', label='val_acc')\n",
    "plt.legend()\n",
    "plt.show()"
   ]
  },
  {
   "cell_type": "code",
   "execution_count": 17,
   "metadata": {
    "ExecuteTime": {
     "end_time": "2019-09-19T05:48:18.210064Z",
     "start_time": "2019-09-19T05:39:06.654517Z"
    }
   },
   "outputs": [
    {
     "name": "stderr",
     "output_type": "stream",
     "text": [
      "100%|█████████████████████████████| 4688/4688 [09:11<00:00,  8.50it/s]\n"
     ]
    }
   ],
   "source": [
    "model.eval()\n",
    "result = torch.LongTensor()\n",
    "for data, label in tqdm(test_loader):\n",
    "    if torch.cuda.is_available():\n",
    "        data = Variable(data).cuda()\n",
    "        label = Variable(label).cuda()\n",
    "    else:\n",
    "        data = Variable(data)\n",
    "        label = Variable(label)\n",
    "    \n",
    "    out = model(data)\n",
    "    _, pred = torch.max(out, 1)\n",
    "    result = torch.cat((result, pred.cpu()), dim=0)"
   ]
  },
  {
   "cell_type": "code",
   "execution_count": 18,
   "metadata": {
    "ExecuteTime": {
     "end_time": "2019-09-19T05:48:27.834615Z",
     "start_time": "2019-09-19T05:48:27.826614Z"
    }
   },
   "outputs": [
    {
     "data": {
      "text/plain": [
       "tensor([4, 6, 2,  ..., 9, 6, 6])"
      ]
     },
     "execution_count": 18,
     "metadata": {},
     "output_type": "execute_result"
    }
   ],
   "source": [
    "result"
   ]
  },
  {
   "cell_type": "code",
   "execution_count": 34,
   "metadata": {
    "ExecuteTime": {
     "end_time": "2019-09-19T05:58:03.955571Z",
     "start_time": "2019-09-19T05:58:03.752559Z"
    }
   },
   "outputs": [],
   "source": [
    "images = os.listdir('E:\\\\DL_datasets\\\\cifar10\\\\test\\\\other')\n",
    "result_df = pd.DataFrame({'id':images, 'label':result})"
   ]
  },
  {
   "cell_type": "code",
   "execution_count": 35,
   "metadata": {
    "ExecuteTime": {
     "end_time": "2019-09-19T05:58:04.731615Z",
     "start_time": "2019-09-19T05:58:04.721615Z"
    }
   },
   "outputs": [
    {
     "data": {
      "text/html": [
       "<div>\n",
       "<style scoped>\n",
       "    .dataframe tbody tr th:only-of-type {\n",
       "        vertical-align: middle;\n",
       "    }\n",
       "\n",
       "    .dataframe tbody tr th {\n",
       "        vertical-align: top;\n",
       "    }\n",
       "\n",
       "    .dataframe thead th {\n",
       "        text-align: right;\n",
       "    }\n",
       "</style>\n",
       "<table border=\"1\" class=\"dataframe\">\n",
       "  <thead>\n",
       "    <tr style=\"text-align: right;\">\n",
       "      <th></th>\n",
       "      <th>id</th>\n",
       "      <th>label</th>\n",
       "    </tr>\n",
       "  </thead>\n",
       "  <tbody>\n",
       "    <tr>\n",
       "      <th>0</th>\n",
       "      <td>1.png</td>\n",
       "      <td>4</td>\n",
       "    </tr>\n",
       "    <tr>\n",
       "      <th>1</th>\n",
       "      <td>10.png</td>\n",
       "      <td>6</td>\n",
       "    </tr>\n",
       "    <tr>\n",
       "      <th>2</th>\n",
       "      <td>100.png</td>\n",
       "      <td>2</td>\n",
       "    </tr>\n",
       "    <tr>\n",
       "      <th>3</th>\n",
       "      <td>1000.png</td>\n",
       "      <td>4</td>\n",
       "    </tr>\n",
       "    <tr>\n",
       "      <th>4</th>\n",
       "      <td>10000.png</td>\n",
       "      <td>6</td>\n",
       "    </tr>\n",
       "  </tbody>\n",
       "</table>\n",
       "</div>"
      ],
      "text/plain": [
       "          id  label\n",
       "0      1.png      4\n",
       "1     10.png      6\n",
       "2    100.png      2\n",
       "3   1000.png      4\n",
       "4  10000.png      6"
      ]
     },
     "execution_count": 35,
     "metadata": {},
     "output_type": "execute_result"
    }
   ],
   "source": [
    "result_df.head()"
   ]
  },
  {
   "cell_type": "code",
   "execution_count": 45,
   "metadata": {
    "ExecuteTime": {
     "end_time": "2019-09-19T06:01:37.326775Z",
     "start_time": "2019-09-19T06:01:36.870749Z"
    }
   },
   "outputs": [],
   "source": [
    "result_df['id'] = result_df.id.apply(lambda x: x.split('.')[0])\n",
    "labels = train_dataset.classes\n",
    "result_df['label'] = result_df.label.apply(lambda x: labels[x])\n",
    "result_df.to_csv('20190919_submission.csv', index=False)"
   ]
  },
  {
   "cell_type": "code",
   "execution_count": 27,
   "metadata": {
    "ExecuteTime": {
     "end_time": "2019-09-19T05:54:43.923130Z",
     "start_time": "2019-09-19T05:54:43.917129Z"
    }
   },
   "outputs": [
    {
     "name": "stdout",
     "output_type": "stream",
     "text": [
      "['airplane', 'automobile', 'bird', 'cat', 'deer', 'dog', 'frog', 'horse', 'ship', 'truck']\n"
     ]
    },
    {
     "data": {
      "text/plain": [
       "{'airplane': 0,\n",
       " 'automobile': 1,\n",
       " 'bird': 2,\n",
       " 'cat': 3,\n",
       " 'deer': 4,\n",
       " 'dog': 5,\n",
       " 'frog': 6,\n",
       " 'horse': 7,\n",
       " 'ship': 8,\n",
       " 'truck': 9}"
      ]
     },
     "execution_count": 27,
     "metadata": {},
     "output_type": "execute_result"
    }
   ],
   "source": [
    "print(train_dataset.classes)\n",
    "train_dataset.class_to_idx"
   ]
  },
  {
   "cell_type": "markdown",
   "metadata": {},
   "source": [
    "参考链接：\n",
    "1. PyTorch识别CIFAR10：https://www.cnblogs.com/zhengbiqing/p/10432169.html"
   ]
  }
 ],
 "metadata": {
  "kernelspec": {
   "display_name": "Python 3",
   "language": "python",
   "name": "python3"
  },
  "language_info": {
   "codemirror_mode": {
    "name": "ipython",
    "version": 3
   },
   "file_extension": ".py",
   "mimetype": "text/x-python",
   "name": "python",
   "nbconvert_exporter": "python",
   "pygments_lexer": "ipython3",
   "version": "3.6.6"
  },
  "toc": {
   "base_numbering": 1,
   "nav_menu": {},
   "number_sections": true,
   "sideBar": true,
   "skip_h1_title": false,
   "title_cell": "Table of Contents",
   "title_sidebar": "Contents",
   "toc_cell": false,
   "toc_position": {},
   "toc_section_display": true,
   "toc_window_display": false
  },
  "varInspector": {
   "cols": {
    "lenName": 16,
    "lenType": 16,
    "lenVar": 40
   },
   "kernels_config": {
    "python": {
     "delete_cmd_postfix": "",
     "delete_cmd_prefix": "del ",
     "library": "var_list.py",
     "varRefreshCmd": "print(var_dic_list())"
    },
    "r": {
     "delete_cmd_postfix": ") ",
     "delete_cmd_prefix": "rm(",
     "library": "var_list.r",
     "varRefreshCmd": "cat(var_dic_list()) "
    }
   },
   "position": {
    "height": "254px",
    "left": "846px",
    "right": "20px",
    "top": "133px",
    "width": "350px"
   },
   "types_to_exclude": [
    "module",
    "function",
    "builtin_function_or_method",
    "instance",
    "_Feature"
   ],
   "window_display": false
  }
 },
 "nbformat": 4,
 "nbformat_minor": 2
}
