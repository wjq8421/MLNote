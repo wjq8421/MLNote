{
 "cells": [
  {
   "cell_type": "markdown",
   "metadata": {},
   "source": [
    "**维度灾难**(Curse of Dimensionality)：指在高维情形下出现的数据样本稀疏、距离计算困难等问题。\n",
    "\n",
    "降维的目的：环节维度灾难、对数据进行可视化。\n",
    "\n",
    "### 主成分分析\n",
    "**主成分分析**(Principal Component Analysis, PCA)的最优化问题就是求解$XX^T$的特征值，将求得的特征值排序：$\\lambda_1\\geq \\lambda_2 \\geq \\cdots \\geq \\lambda_n$，然后取前$d$个特征值对应的特征向量构成$W=(w_1,w_2,\\cdots,w_d)$。\n",
    "\n",
    "PCA算法\n",
    "输入：样本集$D=\\{\\vec{x}_1,\\vec{x}_2,\\cdots,\\vec{x}_N\\}$；低维空间维数$d$。\n",
    "输出：投影矩阵$W=\\{\\vec{w}_1,\\vec{w}_2,\\cdots,\\vec{w}_d\\}$。\n",
    "\n",
    "算法步骤：\n",
    "> 1. 对所有样本进行中心化操作：$$\\vec{x}_i \\leftarrow \\vec{x}_i-\\frac{1}{N}\\sum_{j=1}^N\\vec{x}_j$$\n",
    "> 2. 计算样本的协方差矩阵$XX^T$\n",
    "> 3. 对协方差矩阵$XX^T$做特征值分解\n",
    "> 4. 取最大的$d$个特征值对应的特征向量$\\vec{w}_1,\\vec{w}_2,\\cdots,\\vec{w}_d$，构造投影矩阵$W$\n",
    "\n",
    "低维空间维数$d$的选取方法：\n",
    "- 通过交叉验证法选取较好的$d$（在降维后的学习器的性能比较好）\n",
    "- 从算法原理的角度设置一个阈值，如$t = 95%$，然后选取使得下式成立的最小的$d$的值：$$\\frac{\\sum_{i=1}^d\\lambda_i}{\\sum_{i=1}^n\\lambda_i}\\geq t$$"
   ]
  },
  {
   "cell_type": "markdown",
   "metadata": {},
   "source": [
    "### 奇异值分解(SVD)\n",
    "SVD奇异值分解等价于PCA主成分分析，核心就是求解$XX^T$的特征值以及对应的特征向量。"
   ]
  },
  {
   "cell_type": "markdown",
   "metadata": {},
   "source": [
    "### 核主成分分析(Kernelized PCA，KPCA)\n",
    "- 非线性降维"
   ]
  },
  {
   "cell_type": "markdown",
   "metadata": {},
   "source": [
    "### 流形学习降维"
   ]
  },
  {
   "cell_type": "markdown",
   "metadata": {},
   "source": [
    "### 多维缩放降维(Multiple Dimensional Scaling, MDS)\n",
    "- 要求原始空间中样本之间的距离在低维空间中得到保持。"
   ]
  },
  {
   "cell_type": "markdown",
   "metadata": {},
   "source": [
    "### 等度量映射降维(Isomap)"
   ]
  },
  {
   "cell_type": "markdown",
   "metadata": {},
   "source": [
    "### 局部线性嵌入(Locally Linear Embedding, LLE)\n",
    "- 目标：保持邻域内样本之间的线性关系。"
   ]
  },
  {
   "cell_type": "code",
   "execution_count": 1,
   "metadata": {
    "ExecuteTime": {
     "end_time": "2018-12-26T06:45:04.425709Z",
     "start_time": "2018-12-26T06:45:01.026515Z"
    }
   },
   "outputs": [],
   "source": [
    "import numpy as np\n",
    "import matplotlib.pyplot as plt\n",
    "from sklearn import datasets, decomposition, manifold"
   ]
  },
  {
   "cell_type": "code",
   "execution_count": 2,
   "metadata": {
    "ExecuteTime": {
     "end_time": "2018-12-26T06:51:51.935017Z",
     "start_time": "2018-12-26T06:51:51.928017Z"
    }
   },
   "outputs": [],
   "source": [
    "def load_data():\n",
    "    iris = datasets.load_iris()\n",
    "    return iris.data, iris.target"
   ]
  },
  {
   "cell_type": "markdown",
   "metadata": {},
   "source": [
    "____\n",
    "### 实战\n",
    "#### PCA\n",
    "**sklearn.decomposition.PCA(n_components=None, copy=True, whiten=False, svd_solver=’auto’, tol=0.0, iterated_power=’auto’, random_state=None)**\n",
    "> 1. n_components：指定降维后的维数。\n",
    "    - 若为None，其值为min(n_samples, n_features)\n",
    "    - 若为字符串mle，使用Minka's MLE算法来猜测降维后的维数。\n",
    "    - 若为大于0、小于1的浮点数，则降维后的维数占原始维数的百分比。\n",
    "> 2. copy：若为False，则直接使用原始数据来训练，结果会覆盖原始数据所在的数组。\n",
    "    \n",
    "属性：\n",
    "> 1. components_：主成分数组；\n",
    "> 2. explained_variance_ratio_：一个数组，元素是每个主成分的explained variance的比例；\n",
    "> 3. mean_：一个数组，元素是每个特征的统计平均值；\n",
    "> 4. n_components_：一个整数，指示主成分有多少个元素。\n",
    "\n",
    "方法：\n",
    "> 1. fit(X[, y])：训练模型；\n",
    "> 2. transform(X)：执行降维；\n",
    "> 3. fit_transform(X[, y])：训练模型并且降维；\n",
    "> 4. inverse_transform(X)：执行升维，将数据从低位空间逆向转换到原始空间。\n",
    "\n",
    "> decomposition.PCA基于scipy.linalg来实现SVD分解，因此它不能应用于稀疏矩阵，并且**无法适用于超大规模数据**。"
   ]
  },
  {
   "cell_type": "code",
   "execution_count": 4,
   "metadata": {
    "ExecuteTime": {
     "end_time": "2018-12-26T07:27:09.527137Z",
     "start_time": "2018-12-26T07:27:09.515136Z"
    }
   },
   "outputs": [
    {
     "name": "stdout",
     "output_type": "stream",
     "text": [
      "explained variance ratio: [0.92461872 0.05306648 0.01710261 0.00521218]\n"
     ]
    }
   ],
   "source": [
    "def test_PCA(*data):\n",
    "    X, y = data\n",
    "    pca = decomposition.PCA(n_components=None)\n",
    "    pca.fit(X)\n",
    "    print('explained variance ratio: %s' % str(pca.explained_variance_ratio_))\n",
    "    \n",
    "X, y = load_data()\n",
    "test_PCA(X, y)"
   ]
  },
  {
   "cell_type": "markdown",
   "metadata": {},
   "source": [
    "四个特征值的比例如上述，可将其原始特征降低到2维。"
   ]
  },
  {
   "cell_type": "code",
   "execution_count": 14,
   "metadata": {
    "ExecuteTime": {
     "end_time": "2018-12-26T07:46:49.766642Z",
     "start_time": "2018-12-26T07:46:49.557630Z"
    }
   },
   "outputs": [
    {
     "data": {
      "image/png": "[encoded data removed]",
      "text/plain": [
       "<Figure size 432x288 with 1 Axes>"
      ]
     },
     "metadata": {
      "needs_background": "light"
     },
     "output_type": "display_data"
    }
   ],
   "source": [
    "def plot_PCA(*data):\n",
    "    X, y = data\n",
    "    pca = decomposition.PCA(n_components=2)\n",
    "    pca.fit(X)\n",
    "    X_r = pca.transform(X)\n",
    "    \n",
    "    fig = plt.figure()\n",
    "    ax = fig.add_subplot(1, 1, 1)\n",
    "    colors = ((1,0,0),(0,1,0),(0,0,1),(0.5,0.5,0),(0,0.5,0.5),(0.5,0,0.5),(0.4,0.6,0),(0.6,0.4,0),\n",
    "             (0,0.6,0.4),(0.5,0.3,0.2),)\n",
    "    for label, color in zip(np.unique(y), colors):\n",
    "        position = y == label\n",
    "        # 绘制label为y的数据\n",
    "        ax.scatter(X_r[position, 0], X_r[position, 1], label=\"target= %d\"%label, color=color)\n",
    "    \n",
    "    ax.set_xlabel(\"X[0]\")\n",
    "    ax.set_ylabel(\"Y[0]\")\n",
    "    ax.legend(loc=\"best\")\n",
    "    ax.set_title(\"PCA\")\n",
    "    plt.show()\n",
    "    \n",
    "plot_PCA(X, y)"
   ]
  },
  {
   "cell_type": "markdown",
   "metadata": {},
   "source": [
    "#### IncrementalPCA\n",
    "- 适用于超大规模数据，可将数据分批加载进内存。\n",
    "\n",
    "**sklearn.decomposition.IncrementalPCA(n_components=None, whiten=False, copy=True, batch_size=None)**\n",
    "> 1. batch_size：整数或者None，指定每个批次训练时，使用的样本数量。只有当调用fit()/partial_fit()方法时会用到该参数。\n",
    "\n",
    "属性：\n",
    "> 1. components_：主成分数组；\n",
    "> 2. explained_variance_：每个成分对应的explained variance。\n",
    "> 3. explained_variance_ratio_：一个数组，元素是每个主成分的explained variance的比例；\n",
    "> 4. mean_：一个数组，元素是每个特征的统计平均值；\n",
    "> 5. var_：一个数组，元素是每个特征的经验方差。每调用一次partial_fit()，就会更新一次该属性。\n",
    "> 6. n_components_：一个整数，指示主成分有多少个元素。\n",
    "> 7. n_samples_seen_：一个整数，指示目前已经处理了多少个样本。\n",
    "\n",
    "方法：\n",
    "> 1. fit(X[, y])：训练模型，使用batch_size个样本；\n",
    "> 2. partial_fit(X[, y, check_input])：继续训练模型，使用batch_size个样本。\n",
    "> 3. transform(X)：执行降维；\n",
    "> 4. fit_transform(X[, y])：训练模型并且降维；\n",
    "> 5. inverse_transform(X)：执行升维，将数据从低位空间逆向转换到原始空间。"
   ]
  },
  {
   "cell_type": "markdown",
   "metadata": {},
   "source": [
    "#### KernelPCA\n",
    "**sklearn.decomposition.KernelPCA(n_components=None, kernel='linear', gamma=None, degree=3, coef0=1, kernel_params=None, alpha=1.0, fit_inverse_transform=False, eigen_solver='auto', tol=0, max_iter=None, remove_zero_eig=False, random_state=None, copy_X=True, n_jobs=None)**\n",
    "> 1. kernel：字符串，指定核函数。\n",
    "    - linear：线性核$K(\\vec{x},\\vec{x})=\\vec{x}\\cdot \\vec{z}$\n",
    "    - poly：多项式核，$K(\\vec{x},\\vec{x})=(\\gamma(\\vec{x}\\cdot\\vec{z}+1)+r)^p$，其中$p$由degree参数决定，$\\gamma$由gamma参数决定，$r$由coef0参数决定。\n",
    "    - rbf(默认值)：高斯核函数，$K(\\vec{x},\\vec{x})=exp(-\\gamma ||\\vec{x}-\\vec{z}||^2)$。\n",
    "    - sigmoid：$K(\\vec{x},\\vec{x})=tanh(\\gamma(\\vec{x}\\vec{z})+r)$。\n",
    "> 2. degree：一个整数，当核函数是多项式核函数时，指定多项式的系数。\n",
    "> 3. gamma：一个浮点数，为核函数的系数。默认为1/n_features。\n",
    "> 4. coef0：浮点数，指定核函数中的自由项。\n",
    "> 5. alpha：整数，岭回归的超参数，用于计算逆转换矩阵。\n",
    "> 6. fit_inverse_transform：布尔值。若为True，需要计算逆转换矩阵。\n",
    "> 7. eigen_solver：字符串，指定求解特征值的算法。\n",
    "    - auto：自动选择\n",
    "    - dense：dense特征值求解器\n",
    "    - arpack：用于当特征数量远小于样本数量的情形。\n",
    "> 8. remove_zero_eig：布尔值，若为True，则移除所有为零的特征值。\n",
    "\n",
    "属性：\n",
    "> 1. lambdas_：核化矩阵的特征值。\n",
    "> 2. alphas_：核化矩阵的特征向量。\n",
    "> 3. dual_coef_：逆转换矩阵。\n",
    "\n",
    "方法：\n",
    "> 1. fit(X[, y])：训练模型；\n",
    "> 2. transform(X)：执行降维；\n",
    "> 3. fit_transform(X[, y])：训练模型并且降维；\n",
    "> 4. inverse_transform(X)：执行升维，将数据从低位空间逆向转换到原始空间。"
   ]
  },
  {
   "cell_type": "code",
   "execution_count": 15,
   "metadata": {
    "ExecuteTime": {
     "end_time": "2018-12-26T08:23:40.848109Z",
     "start_time": "2018-12-26T08:23:40.575093Z"
    },
    "scrolled": true
   },
   "outputs": [
    {
     "name": "stdout",
     "output_type": "stream",
     "text": [
      "kernel=linear --> lambdas: [6.30008014e+02 3.61579414e+01 1.16532155e+01 3.55142885e+00\n",
      " 3.06082097e-12 5.63790036e-13 3.18245866e-13 2.55128333e-13\n",
      " 1.47174261e-13 1.29117404e-13 3.73034936e-14 3.05656444e-14\n",
      " 2.58839702e-14 2.41416397e-14 2.38111984e-14 2.02222845e-14\n",
      " 1.91413038e-14 1.87583132e-14 1.77270180e-14 1.67505553e-14\n",
      " 1.57741834e-14 1.54718590e-14 1.51273467e-14 1.49809726e-14\n",
      " 1.49525867e-14 1.40734466e-14 1.29744807e-14 1.17093097e-14\n",
      " 1.15239361e-14 1.01571997e-14 1.00368989e-14 9.39153260e-15\n",
      " 8.89391845e-15 8.85093011e-15 8.73631790e-15 8.53926516e-15\n",
      " 8.47484161e-15 7.94933028e-15 7.87583121e-15 7.01108030e-15\n",
      " 6.86940203e-15 6.56297015e-15 6.51034551e-15 6.10127051e-15\n",
      " 5.96850469e-15 5.64737698e-15 5.48912477e-15 5.09524380e-15\n",
      " 4.81881460e-15 4.66981998e-15 4.63960054e-15 4.62297487e-15\n",
      " 4.50454373e-15 4.38458971e-15 4.32426773e-15 4.28220895e-15\n",
      " 4.20925740e-15 3.97481650e-15 3.94881332e-15 3.82253584e-15\n",
      " 3.79672289e-15 3.55105836e-15 3.02690691e-15 2.77729392e-15\n",
      " 2.76217726e-15 2.60897804e-15 2.58673413e-15 2.23673442e-15\n",
      " 1.92515649e-15 1.79487285e-15 1.66716220e-15 1.24545563e-15\n",
      " 1.13940128e-15 5.99496051e-16 5.24606817e-16 5.01936477e-16\n",
      " 3.90915320e-16 2.91142449e-16 2.42204405e-16 2.21277458e-16]\n",
      "kernel=poly --> lambdas: [2.51928541e+05 7.35435058e+03 3.57612531e+03 1.07601782e+03\n",
      " 1.00430318e+03 1.23927073e+02 5.31424994e+01 1.82298368e+01\n",
      " 5.86282268e+00 4.73403574e+00 2.42089774e+00 1.83389369e+00\n",
      " 1.67205375e+00 8.27342089e-01 6.38085913e-01 5.15330092e-01\n",
      " 2.41152045e-01 1.72550305e-01 7.27218174e-02 2.01522285e-02\n",
      " 1.87851989e-02 1.15024936e-02 5.61692891e-03 3.61093105e-03\n",
      " 3.30383785e-03 1.09369563e-03 8.86454129e-04 6.60303993e-04\n",
      " 4.98712362e-04 4.25297850e-04 3.65141436e-04 1.56589414e-04\n",
      " 9.84529812e-05 4.63311726e-05 1.06135026e-10 8.42796048e-12\n",
      " 7.29152791e-12 6.60728430e-12 4.54188598e-12 4.46927025e-12\n",
      " 4.19567492e-12 4.07397794e-12 3.51318794e-12 3.40299839e-12\n",
      " 3.16163245e-12 2.81962694e-12 2.77663066e-12 2.47203270e-12\n",
      " 2.37837839e-12 1.81700645e-12 1.79991834e-12 1.69987619e-12\n",
      " 1.69926042e-12 1.66353134e-12 1.62605389e-12 1.52678599e-12\n",
      " 1.43900387e-12 1.41911253e-12 1.39162339e-12 1.34316596e-12\n",
      " 1.28562430e-12 1.28273948e-12 1.24522665e-12 1.24089404e-12\n",
      " 1.23207259e-12 9.67202305e-13 9.11905337e-13 8.98479594e-13\n",
      " 8.37576386e-13 7.94215785e-13 7.72343800e-13 7.14479079e-13\n",
      " 6.81869806e-13 5.98972063e-13 5.22478762e-13 5.20429178e-13\n",
      " 5.12853541e-13 4.90375515e-13 4.78066536e-13 4.62746220e-13\n",
      " 3.69930431e-13 3.52309468e-13 2.86966689e-13 2.43899066e-13\n",
      " 2.00108650e-13 1.77409508e-13 1.43870931e-13 1.41048287e-13\n",
      " 1.26034675e-13 1.17926682e-13]\n",
      "kernel=rbf --> lambdas: [4.81105156e+01 1.90942943e+01 6.63327814e+00 4.27532381e+00\n",
      " 3.72845420e+00 2.24464170e+00 1.77079340e+00 9.44214447e-01\n",
      " 7.25914910e-01 6.97530196e-01 6.67902413e-01 5.84593474e-01\n",
      " 4.54895182e-01 3.12831388e-01 2.59333091e-01 2.21387826e-01\n",
      " 1.95869290e-01 1.56233733e-01 1.12351059e-01 8.51317038e-02\n",
      " 7.44007701e-02 7.21179475e-02 6.53233061e-02 5.74980276e-02\n",
      " 4.72417647e-02 3.82381119e-02 3.60981431e-02 3.13072318e-02\n",
      " 2.94632028e-02 2.23881872e-02 1.96194388e-02 1.67258975e-02\n",
      " 1.50239222e-02 1.33471213e-02 1.17453042e-02 8.62521231e-03\n",
      " 8.26753141e-03 7.84883681e-03 7.00779442e-03 6.07620859e-03\n",
      " 5.58035236e-03 4.71476958e-03 3.77094037e-03 3.47694202e-03\n",
      " 3.05334112e-03 2.97993473e-03 2.27278059e-03 2.17290198e-03\n",
      " 2.08088222e-03 1.85334049e-03 1.58977710e-03 1.54059997e-03\n",
      " 1.48714883e-03 1.36884833e-03 1.16684194e-03 1.07883276e-03\n",
      " 9.67672806e-04 9.27738409e-04 8.96060072e-04 6.85795698e-04\n",
      " 6.05383567e-04 5.71170600e-04 4.92874987e-04 4.40463501e-04\n",
      " 3.98234658e-04 3.07218908e-04 2.73662810e-04 2.55246202e-04\n",
      " 2.39699679e-04 2.09044775e-04 1.97538799e-04 1.75943483e-04\n",
      " 1.32967490e-04 1.20045008e-04 1.12340486e-04 1.04354308e-04\n",
      " 8.89417666e-05 7.92700607e-05 7.42560524e-05 6.27052422e-05\n",
      " 5.65151613e-05 5.53771031e-05 4.75927343e-05 4.31963632e-05\n",
      " 4.17670870e-05 3.46306018e-05 3.16940288e-05 3.06188766e-05\n",
      " 2.89785302e-05 2.24877716e-05 2.06214506e-05 1.71042419e-05\n",
      " 1.58992346e-05 1.38088636e-05 1.28356520e-05 1.23013943e-05\n",
      " 1.15158343e-05 1.06059469e-05 9.66068591e-06 8.44257769e-06\n",
      " 7.54232907e-06 7.13261969e-06 6.47241054e-06 6.22857501e-06\n",
      " 5.37603290e-06 3.98755720e-06 3.93917033e-06 3.10038923e-06\n",
      " 2.80167136e-06 2.43893015e-06 2.30456450e-06 2.19129849e-06\n",
      " 1.91016883e-06 1.87412160e-06 1.67755056e-06 1.62828468e-06\n",
      " 1.23599670e-06 1.17156209e-06 9.44108444e-07 7.72574806e-07\n",
      " 7.40698890e-07 6.32400020e-07 5.86055027e-07 5.28570526e-07\n",
      " 4.75781098e-07 4.21633759e-07 3.74214727e-07 3.39250366e-07\n",
      " 2.74780566e-07 2.15418650e-07 1.93631529e-07 1.68386035e-07\n",
      " 1.55224745e-07 1.42092202e-07 1.02784184e-07 8.97784285e-08\n",
      " 7.16170123e-08 6.38186661e-08 5.65263654e-08 3.89971481e-08\n",
      " 3.24133891e-08 2.93881866e-08 2.07502164e-08 1.85529561e-08\n",
      " 1.25924461e-08 6.64224628e-09 3.97388306e-09 9.59634307e-10]\n",
      "kernel=sigmoid --> lambdas: [7.07451992e-08 2.48656038e-08 4.12916319e-09 6.96287858e-10\n",
      " 2.79363879e-10 2.08191837e-10 3.14556525e-11 1.00555303e-11\n",
      " 6.97545179e-12 3.56385642e-12 2.24558359e-12 1.86221746e-12\n",
      " 1.58395669e-12 5.69507465e-13 4.69526477e-13 2.13923263e-13\n",
      " 1.68245749e-13 8.05235817e-14 7.37576227e-14 4.17072298e-14\n",
      " 2.85355440e-14 2.35950017e-14 1.91716477e-14 1.28443663e-14\n",
      " 1.15610418e-14 9.52268978e-15 5.23536080e-15 4.37136158e-15\n",
      " 3.52391831e-15 2.65945796e-15 2.22022370e-15 2.04095856e-15\n",
      " 1.73519198e-15 1.30362301e-15 1.19960996e-15 1.08815717e-15\n",
      " 9.28946800e-16 8.45925998e-16 7.42154663e-16 6.89695740e-16\n",
      " 6.34714138e-16 6.01725230e-16 5.57619761e-16 5.28860812e-16\n",
      " 5.04152080e-16 4.49472662e-16 4.41615308e-16 3.96434630e-16\n",
      " 3.75015003e-16 3.65106048e-16 3.39251995e-16 3.22243904e-16\n",
      " 3.12818961e-16 2.87449109e-16 2.57159020e-16 2.42869657e-16\n",
      " 2.07800873e-16 2.01599363e-16 1.76085669e-16 1.70185748e-16\n",
      " 1.55799258e-16 1.39738665e-16 1.19161159e-16 1.10880542e-16\n",
      " 9.50709525e-17 7.92901530e-17 7.25462768e-17 6.58637102e-17\n",
      " 4.74310918e-17 3.41334308e-17 2.36331487e-17 2.17106921e-17\n",
      " 1.49009723e-17 1.10886154e-17 6.03522493e-18]\n"
     ]
    }
   ],
   "source": [
    "def test_KPCA(*data):\n",
    "    X, y = data\n",
    "    kernels = ['linear', 'poly', 'rbf', 'sigmoid']\n",
    "    for kernel in kernels:\n",
    "        kpca = decomposition.KernelPCA(n_components=None, kernel=kernel)\n",
    "        kpca.fit(X)\n",
    "        print('kernel=%s --> lambdas: %s' % (kernel, kpca.lambdas_))\n",
    "        \n",
    "test_KPCA(X, y)"
   ]
  },
  {
   "cell_type": "code",
   "execution_count": 19,
   "metadata": {
    "ExecuteTime": {
     "end_time": "2018-12-26T08:33:08.459575Z",
     "start_time": "2018-12-26T08:33:07.502520Z"
    },
    "scrolled": false
   },
   "outputs": [
    {
     "data": {
      "image/png": "[encoded data removed]",
      "text/plain": [
       "<Figure size 1152x576 with 4 Axes>"
      ]
     },
     "metadata": {
      "needs_background": "light"
     },
     "output_type": "display_data"
    }
   ],
   "source": [
    "def plot_KPCA(*data):\n",
    "    X, y = data\n",
    "    kernels = ['linear', 'poly', 'rbf', 'sigmoid']\n",
    "    fig = plt.figure(figsize=(16, 8))\n",
    "    colors = ((1,0,0),(0,1,0),(0,0,1),(0.5,0.5,0),(0,0.5,0.5),(0.5,0,0.5),(0.4,0.6,0),(0.6,0.4,0),\n",
    "             (0,0.6,0.4),(0.5,0.3,0.2),)\n",
    "    \n",
    "    for i, kernel in enumerate(kernels):\n",
    "        kpca = decomposition.KernelPCA(n_components=2, kernel=kernel)\n",
    "        kpca.fit(X)\n",
    "        X_r = kpca.transform(X)\n",
    "        ax = fig.add_subplot(2, 2, i+1)\n",
    "        for label, color in zip(np.unique(y), colors):\n",
    "            position = y == label\n",
    "            ax.scatter(X_r[position, 0], X_r[position, 1], label=\"target=%d\"%label, color=color)\n",
    "        ax.set_xlabel(\"X[0]\")\n",
    "        ax.set_ylabel(\"X[1]\")\n",
    "        ax.legend(loc=\"best\")\n",
    "        ax.set_title(\"kernel=%s\"%kernel)\n",
    "    plt.suptitle(\"KPCA\")\n",
    "    plt.show()\n",
    "    \n",
    "plot_KPCA(X, y)"
   ]
  },
  {
   "cell_type": "markdown",
   "metadata": {},
   "source": [
    "#### MDS\n",
    "**sklearn.manifold.MDS(n_components=2, metric=True, n_init=4, max_iter=300, verbose=0, eps=0.001, n_jobs=None, random_state=None, dissimilarity='euclidean')**\n",
    "> 1. metric：布尔值。若为True，则使用距离度量；否则使用非距离度量SMACOF。\n",
    "> 2. n_init：整数。指定初始化的次数。在使用SMACOF算法时，会选择n_init次不同的初始值，然后选择这些结果中最好的那个作为最终结果。\n",
    "> 3. eps：浮点数，指定收敛阈值。\n",
    "> 4. dissimilarity：字符串。定义如何计算不相似度。\n",
    "    - euclidean：欧式距离\n",
    "    - precomputed：由使用者提供距离矩阵。\n",
    "    \n",
    "属性：\n",
    "> 1. embedding_：给出原始数据集在低维空间中的嵌入矩阵。\n",
    "> 2. stress_：浮点数，给出了不一致的距离的总和。其不能用于判定降维效果的好坏，只是一个中性指标。\n",
    "\n",
    "方法：\n",
    "> 1. fit(X[, y, init])：训练模型；\n",
    "> 2. fit_transform(X[, y, init])：训练模型并返回转换后的低维坐标。"
   ]
  },
  {
   "cell_type": "code",
   "execution_count": 20,
   "metadata": {
    "ExecuteTime": {
     "end_time": "2018-12-26T08:46:41.153058Z",
     "start_time": "2018-12-26T08:46:39.573968Z"
    }
   },
   "outputs": [
    {
     "name": "stdout",
     "output_type": "stream",
     "text": [
      "stress(n_components=4) : 11.417579206747908\n",
      "stress(n_components=3) : 13.61003363541966\n",
      "stress(n_components=2) : 133.7953792955243\n",
      "stress(n_components=1) : 3398.140030839844\n"
     ]
    }
   ],
   "source": [
    "def test_MDS(*data):\n",
    "    X, y = data\n",
    "    for n in [4, 3, 2, 1]:\n",
    "        mds = manifold.MDS(n_components=n)\n",
    "        mds.fit(X)\n",
    "        print(\"stress(n_components=%d) : %s\"% (n, str(mds.stress_)))\n",
    "        \n",
    "test_MDS(X, y)"
   ]
  },
  {
   "cell_type": "markdown",
   "metadata": {
    "ExecuteTime": {
     "end_time": "2018-12-26T08:49:38.818220Z",
     "start_time": "2018-12-26T08:49:37.833163Z"
    }
   },
   "source": [
    "#### Isomap\n",
    "**sklearn.manifold.Isomap(n_neighbors=5, n_components=2, eigen_solver='auto', tol=0, max_iter=None, path_method='auto', neighbors_algorithm='auto')**\n",
    "> 1. n_neighbors：整数，指定近邻参数$k$；\n",
    "> 2. tol：浮点数。指定求解特征值算法的收敛阈值；当eigen_solver为dense时，该参数无用。\n",
    "> 3. path_method：字符串。指定寻找最短路径算法。\n",
    "    - auto：由算法自动选取。\n",
    "    - FW：使用Floyd_Warshall算法\n",
    "    - D：使用Dijkstra算法\n",
    "> 4. neighbors_algorithm：字符串。指定计算最近邻的算法。\n",
    "    - ball_tree：使用BallTree算法\n",
    "    - kd_tree：使用KDTree算法\n",
    "    - brute：使用暴力搜索法\n",
    "    - auto：自动决定最合适的算法\n",
    "    \n",
    "属性：\n",
    "> 1. embedding_：给出原始数据集在低维空间中的嵌入矩阵\n",
    "> 2. training_data_：存储原始训练数据\n",
    "> 3. dist_matrix_：存储原始训练数据的距离矩阵\n",
    "\n",
    "方法：\n",
    "> 1. fit(X[, y])：训练模型\n",
    "> 2. transform(X)：转换X到低维空间\n",
    "> 3. fit_transform(X[, y])：训练模型并将原始数据集转换到低维空间\n",
    "> 4. reconstruction_error()：计算重构误差"
   ]
  },
  {
   "cell_type": "code",
   "execution_count": 22,
   "metadata": {
    "ExecuteTime": {
     "end_time": "2018-12-26T09:08:50.709104Z",
     "start_time": "2018-12-26T09:08:50.564096Z"
    }
   },
   "outputs": [
    {
     "name": "stdout",
     "output_type": "stream",
     "text": [
      "reconstruction_error(n_components=4) : 1.0094929893039135\n",
      "reconstruction_error(n_components=3) : 1.0181252006659842\n",
      "reconstruction_error(n_components=2) : 1.0275229261937573\n",
      "reconstruction_error(n_components=1) : 1.0715321251523142\n"
     ]
    }
   ],
   "source": [
    "def test_Isomap(*data):\n",
    "    X, y = data\n",
    "    for n in [4, 3, 2, 1]:\n",
    "        isomap = manifold.Isomap(n_components=n)\n",
    "        isomap.fit(X)\n",
    "        print('reconstruction_error(n_components=%d) : %s' % (n, isomap.reconstruction_error()))\n",
    "        \n",
    "test_Isomap(X, y)"
   ]
  },
  {
   "cell_type": "markdown",
   "metadata": {},
   "source": [
    "#### LLE\n",
    "**sklearn.manifold.LocallyLinearEmbedding(n_neighbors=5, n_components=2, reg=0.001, eigen_solver='auto', tol=1e-06, max_iter=100, method='standard', hessian_tol=0.0001, modified_tol=1e-12, neighbors_algorithm='auto', random_state=None, n_jobs=None)**\n",
    "> 1. reg：浮点数，正则化项的系数。\n",
    "> 2. method：字符串，指定LLE算法的形式。\n",
    "    - standard：使用标准的LLE算法\n",
    "    - hessian：使用Hessian eignmap算法\n",
    "    - modified：使用modified LLE算法\n",
    "    - ltsa：使用local tangent space alignment算法\n",
    "    \n",
    "属性：\n",
    "> 1. embedding_vectors_：给出原始数据在低维空间的嵌入矩阵\n",
    "> 2. reconstruction_error_：给出重构误差\n",
    "\n",
    "方法：\n",
    "> 1. fit(X[, y])：训练模型\n",
    "> 2. transform(X)：转换X到低维空间\n",
    "> 3. fit_transform(X[, y])：训练模型并将原始数据集转换到低维空间"
   ]
  },
  {
   "cell_type": "code",
   "execution_count": 23,
   "metadata": {
    "ExecuteTime": {
     "end_time": "2018-12-26T09:41:27.338017Z",
     "start_time": "2018-12-26T09:41:27.109004Z"
    }
   },
   "outputs": [
    {
     "name": "stdout",
     "output_type": "stream",
     "text": [
      "reconstruction_error(n_components=4) : 1.7884357073700856e-06\n",
      "reconstruction_error(n_components=3) : 3.992905833832323e-07\n",
      "reconstruction_error(n_components=2) : 6.641419804939965e-08\n",
      "reconstruction_error(n_components=1) : -7.327727551613664e-16\n"
     ]
    }
   ],
   "source": [
    "def test_LocallyLinearEmbedding(*data):\n",
    "    X, y = data\n",
    "    for n in [4, 3, 2, 1]:\n",
    "        lle = manifold.LocallyLinearEmbedding(n_components=n)\n",
    "        lle.fit(X)\n",
    "        print('reconstruction_error(n_components=%d) : %s' % (n, lle.reconstruction_error_))\n",
    "        \n",
    "test_LocallyLinearEmbedding(X, y)"
   ]
  },
  {
   "cell_type": "code",
   "execution_count": 27,
   "metadata": {
    "ExecuteTime": {
     "end_time": "2018-12-26T09:51:19.744901Z",
     "start_time": "2018-12-26T09:51:18.608836Z"
    }
   },
   "outputs": [
    {
     "data": {
      "image/png": "[encoded data removed]",
      "text/plain": [
       "<Figure size 1152x576 with 4 Axes>"
      ]
     },
     "metadata": {
      "needs_background": "light"
     },
     "output_type": "display_data"
    }
   ],
   "source": [
    "def plot_LocallyLinearEmbedding_k_d1(*data):\n",
    "    X, y = data\n",
    "    Ks = [1, 5, 25, y.size - 1]\n",
    "    fig = plt.figure(figsize=(16, 8))\n",
    "    for i, k in enumerate(Ks):\n",
    "        lle = manifold.LocallyLinearEmbedding(n_components=1, n_neighbors=k)\n",
    "        X_r = lle.fit_transform(X)\n",
    "        \n",
    "        ax = fig.add_subplot(2, 2, i + 1)\n",
    "        colors = ((1,0,0),(0,1,0),(0,0,1),(0.5,0.5,0),(0,0.5,0.5),(0.5,0,0.5),(0.4,0.6,0),(0.6,0.4,0),\n",
    "             (0,0.6,0.4),(0.5,0.3,0.2),)\n",
    "        for label, color in zip(np.unique(y), colors):\n",
    "            position = y == label\n",
    "            ax.scatter(X_r[position], np.zeros_like(X_r[position]), label=\"target=%d\"%label, color=color)\n",
    "        \n",
    "        ax.set_xlabel(\"X\")\n",
    "        ax.set_ylabel(\"Y\")\n",
    "        ax.legend(loc=\"best\")\n",
    "        ax.set_title(\"d=%d\"%k)\n",
    "    plt.suptitle(\"LocallyLinearEmbedding\")\n",
    "    plt.show()\n",
    "    \n",
    "plot_LocallyLinearEmbedding_k_d1(X, y)"
   ]
  },
  {
   "cell_type": "code",
   "execution_count": null,
   "metadata": {},
   "outputs": [],
   "source": []
  }
 ],
 "metadata": {
  "kernelspec": {
   "display_name": "Python 3",
   "language": "python",
   "name": "python3"
  },
  "language_info": {
   "codemirror_mode": {
    "name": "ipython",
    "version": 3
   },
   "file_extension": ".py",
   "mimetype": "text/x-python",
   "name": "python",
   "nbconvert_exporter": "python",
   "pygments_lexer": "ipython3",
   "version": "3.6.6"
  },
  "toc": {
   "base_numbering": 1,
   "nav_menu": {},
   "number_sections": true,
   "sideBar": true,
   "skip_h1_title": false,
   "title_cell": "Table of Contents",
   "title_sidebar": "Contents",
   "toc_cell": false,
   "toc_position": {},
   "toc_section_display": true,
   "toc_window_display": true
  },
  "varInspector": {
   "cols": {
    "lenName": 16,
    "lenType": 16,
    "lenVar": 40
   },
   "kernels_config": {
    "python": {
     "delete_cmd_postfix": "",
     "delete_cmd_prefix": "del ",
     "library": "var_list.py",
     "varRefreshCmd": "print(var_dic_list())"
    },
    "r": {
     "delete_cmd_postfix": ") ",
     "delete_cmd_prefix": "rm(",
     "library": "var_list.r",
     "varRefreshCmd": "cat(var_dic_list()) "
    }
   },
   "types_to_exclude": [
    "module",
    "function",
    "builtin_function_or_method",
    "instance",
    "_Feature"
   ],
   "window_display": false
  }
 },
 "nbformat": 4,
 "nbformat_minor": 2
}
