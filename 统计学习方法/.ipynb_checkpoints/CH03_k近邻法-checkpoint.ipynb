{
 "cells": [
  {
   "cell_type": "markdown",
   "metadata": {},
   "source": [
    "**k近邻法**：利用效率数据集对特征空间进行划分，并作为其分类的“模型”。\n",
    "\n",
    "- 三个基本要素：**k值的选择**，**距离度量**，**分类决策规则**。"
   ]
  },
  {
   "cell_type": "markdown",
   "metadata": {},
   "source": [
    "1. 根据给定的距离度量，在训练集$T$中找出与$x$最邻近的$k$个点，涵盖这$k$个点的$x$的邻域记作$N_k(x)$；\n",
    "2. 在$N_k(x)$中根据分类决策规则（如多数表决）决定$x$的类别$y$：\n",
    "$$y=arg\\ \\underset{c_j}{max}\\sum_{x_i\\in N_k(x)}I(y_i=c_j),\\ i=1,2,\\cdots,N;\\ j=1,2,\\cdots,K$$"
   ]
  },
  {
   "cell_type": "markdown",
   "metadata": {},
   "source": [
    "#### 距离度量\n",
    "> 特征空间中两个实例点的距离是两个实例点相似程度的反映。\n",
    "\n",
    "- $L_p$距离：\n",
    "$$L_p(x_i,x_j)=(\\sum_{l=1}^n|x_i^{(l)}-x_j^{(l)}|^p)^{\\frac{1}{p}}$$\n",
    "\n",
    "当$p=2$时，为欧式距离。当$p=1$时，为曼哈顿距离。当$p=\\infty$。为各个坐标距离的最大值。"
   ]
  },
  {
   "cell_type": "markdown",
   "metadata": {
    "ExecuteTime": {
     "end_time": "2019-03-28T09:32:53.677832Z",
     "start_time": "2019-03-28T09:32:53.672832Z"
    }
   },
   "source": [
    "_____\n",
    "#### k值的选择\n"
   ]
  }
 ],
 "metadata": {
  "kernelspec": {
   "display_name": "Python 3",
   "language": "python",
   "name": "python3"
  },
  "language_info": {
   "codemirror_mode": {
    "name": "ipython",
    "version": 3
   },
   "file_extension": ".py",
   "mimetype": "text/x-python",
   "name": "python",
   "nbconvert_exporter": "python",
   "pygments_lexer": "ipython3",
   "version": "3.6.6"
  },
  "toc": {
   "base_numbering": 1,
   "nav_menu": {},
   "number_sections": true,
   "sideBar": true,
   "skip_h1_title": false,
   "title_cell": "Table of Contents",
   "title_sidebar": "Contents",
   "toc_cell": false,
   "toc_position": {},
   "toc_section_display": true,
   "toc_window_display": false
  },
  "varInspector": {
   "cols": {
    "lenName": 16,
    "lenType": 16,
    "lenVar": 40
   },
   "kernels_config": {
    "python": {
     "delete_cmd_postfix": "",
     "delete_cmd_prefix": "del ",
     "library": "var_list.py",
     "varRefreshCmd": "print(var_dic_list())"
    },
    "r": {
     "delete_cmd_postfix": ") ",
     "delete_cmd_prefix": "rm(",
     "library": "var_list.r",
     "varRefreshCmd": "cat(var_dic_list()) "
    }
   },
   "types_to_exclude": [
    "module",
    "function",
    "builtin_function_or_method",
    "instance",
    "_Feature"
   ],
   "window_display": false
  }
 },
 "nbformat": 4,
 "nbformat_minor": 2
}
