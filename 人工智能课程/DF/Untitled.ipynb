{
 "cells": [
  {
   "cell_type": "code",
   "execution_count": 1,
   "metadata": {
    "ExecuteTime": {
     "end_time": "2019-09-24T03:34:38.695337Z",
     "start_time": "2019-09-24T03:34:27.980724Z"
    }
   },
   "outputs": [],
   "source": [
    "from sklearn.preprocessing import PolynomialFeatures\n",
    "from sklearn.preprocessing import StandardScaler\n",
    "from sklearn.preprocessing import MinMaxScaler\n",
    "from sklearn.preprocessing import LabelEncoder\n",
    "from sklearn.feature_selection import VarianceThreshold\n",
    "from sklearn.feature_selection import RFE\n",
    "from sklearn.decomposition import PCA\n",
    "from sklearn.model_selection import train_test_split\n",
    "from sklearn.model_selection import GridSearchCV\n",
    "from sklearn.linear_model import LogisticRegression\n",
    "from sklearn.ensemble import AdaBoostClassifier\n",
    "from sklearn.ensemble import GradientBoostingClassifier\n",
    "from sklearn.svm import SVC\n",
    "from catboost import CatBoostClassifier\n",
    "import xgboost as xgb\n",
    "import lightgbm as lgb\n",
    "import pandas_profiling as ppf\n",
    "import matplotlib.pyplot as plt\n",
    "import seaborn as sns\n",
    "import pandas as pd\n",
    "import numpy as np\n",
    "import warnings\n",
    "import os\n",
    "import gc\n",
    "\n",
    "pd.set_option('display.max_columns', 50)\n",
    "warnings.filterwarnings('ignore')"
   ]
  },
  {
   "cell_type": "code",
   "execution_count": 2,
   "metadata": {
    "ExecuteTime": {
     "end_time": "2019-09-24T03:34:43.744626Z",
     "start_time": "2019-09-24T03:34:43.570616Z"
    }
   },
   "outputs": [
    {
     "name": "stdout",
     "output_type": "stream",
     "text": [
      "shape of train: (6000, 21)\n",
      "shape of test: (6000, 11)\n",
      "shape of submit: (120, 5)\n"
     ]
    }
   ],
   "source": [
    "train = pd.read_csv('.\\\\data\\\\first_round_training_data.csv')\n",
    "test = pd.read_csv('.\\\\data\\\\first_round_testing_data.csv')\n",
    "submit_example = pd.read_csv('.\\\\data\\\\submit_example.csv')\n",
    "\n",
    "print('shape of train:', train.shape)\n",
    "print('shape of test:', test.shape)\n",
    "print('shape of submit:', submit_example.shape)"
   ]
  },
  {
   "cell_type": "code",
   "execution_count": 3,
   "metadata": {
    "ExecuteTime": {
     "end_time": "2019-09-24T03:34:47.204824Z",
     "start_time": "2019-09-24T03:34:47.130820Z"
    },
    "scrolled": true
   },
   "outputs": [
    {
     "data": {
      "text/html": [
       "<div>\n",
       "<style scoped>\n",
       "    .dataframe tbody tr th:only-of-type {\n",
       "        vertical-align: middle;\n",
       "    }\n",
       "\n",
       "    .dataframe tbody tr th {\n",
       "        vertical-align: top;\n",
       "    }\n",
       "\n",
       "    .dataframe thead th {\n",
       "        text-align: right;\n",
       "    }\n",
       "</style>\n",
       "<table border=\"1\" class=\"dataframe\">\n",
       "  <thead>\n",
       "    <tr style=\"text-align: right;\">\n",
       "      <th></th>\n",
       "      <th>Parameter1</th>\n",
       "      <th>Parameter2</th>\n",
       "      <th>Parameter3</th>\n",
       "      <th>Parameter4</th>\n",
       "      <th>Parameter5</th>\n",
       "      <th>Parameter6</th>\n",
       "      <th>Parameter7</th>\n",
       "      <th>Parameter8</th>\n",
       "      <th>Parameter9</th>\n",
       "      <th>Parameter10</th>\n",
       "      <th>Attribute1</th>\n",
       "      <th>Attribute2</th>\n",
       "      <th>Attribute3</th>\n",
       "      <th>Attribute4</th>\n",
       "      <th>Attribute5</th>\n",
       "      <th>Attribute6</th>\n",
       "      <th>Attribute7</th>\n",
       "      <th>Attribute8</th>\n",
       "      <th>Attribute9</th>\n",
       "      <th>Attribute10</th>\n",
       "      <th>Quality_label</th>\n",
       "    </tr>\n",
       "  </thead>\n",
       "  <tbody>\n",
       "    <tr>\n",
       "      <th>0</th>\n",
       "      <td>0.001660</td>\n",
       "      <td>0.591013</td>\n",
       "      <td>147.608373</td>\n",
       "      <td>38.186345</td>\n",
       "      <td>0.000421</td>\n",
       "      <td>0.000612</td>\n",
       "      <td>2286.523413</td>\n",
       "      <td>0.035407</td>\n",
       "      <td>0.593081</td>\n",
       "      <td>1.010385</td>\n",
       "      <td>6.856075</td>\n",
       "      <td>0.168761</td>\n",
       "      <td>1.098755</td>\n",
       "      <td>36.955992</td>\n",
       "      <td>8.454598</td>\n",
       "      <td>11.438066</td>\n",
       "      <td>177.243120</td>\n",
       "      <td>338.729256</td>\n",
       "      <td>2.021704</td>\n",
       "      <td>0.079526</td>\n",
       "      <td>Pass</td>\n",
       "    </tr>\n",
       "    <tr>\n",
       "      <th>1</th>\n",
       "      <td>1.601749</td>\n",
       "      <td>0.015052</td>\n",
       "      <td>0.035864</td>\n",
       "      <td>51.130326</td>\n",
       "      <td>0.000909</td>\n",
       "      <td>0.002397</td>\n",
       "      <td>2286.523413</td>\n",
       "      <td>0.035407</td>\n",
       "      <td>0.593081</td>\n",
       "      <td>1.010385</td>\n",
       "      <td>0.000362</td>\n",
       "      <td>11.649033</td>\n",
       "      <td>0.066671</td>\n",
       "      <td>225.632949</td>\n",
       "      <td>0.481860</td>\n",
       "      <td>20597.447822</td>\n",
       "      <td>3.723330</td>\n",
       "      <td>15.376190</td>\n",
       "      <td>0.986973</td>\n",
       "      <td>4.634376</td>\n",
       "      <td>Fail</td>\n",
       "    </tr>\n",
       "    <tr>\n",
       "      <th>2</th>\n",
       "      <td>0.098039</td>\n",
       "      <td>69.233685</td>\n",
       "      <td>0.080920</td>\n",
       "      <td>0.112265</td>\n",
       "      <td>0.000909</td>\n",
       "      <td>0.001972</td>\n",
       "      <td>2286.523413</td>\n",
       "      <td>0.035407</td>\n",
       "      <td>0.593081</td>\n",
       "      <td>1.010385</td>\n",
       "      <td>0.022201</td>\n",
       "      <td>0.078213</td>\n",
       "      <td>110.079689</td>\n",
       "      <td>2.208138</td>\n",
       "      <td>0.073525</td>\n",
       "      <td>236.079314</td>\n",
       "      <td>0.064196</td>\n",
       "      <td>0.576302</td>\n",
       "      <td>33.875790</td>\n",
       "      <td>1.813727</td>\n",
       "      <td>Fail</td>\n",
       "    </tr>\n",
       "    <tr>\n",
       "      <th>3</th>\n",
       "      <td>18.181860</td>\n",
       "      <td>0.047325</td>\n",
       "      <td>0.018061</td>\n",
       "      <td>1.098102</td>\n",
       "      <td>0.000909</td>\n",
       "      <td>0.002397</td>\n",
       "      <td>2286.523413</td>\n",
       "      <td>0.035407</td>\n",
       "      <td>0.593081</td>\n",
       "      <td>1.010385</td>\n",
       "      <td>1.459004</td>\n",
       "      <td>0.380281</td>\n",
       "      <td>0.011491</td>\n",
       "      <td>0.654517</td>\n",
       "      <td>0.025872</td>\n",
       "      <td>176.948915</td>\n",
       "      <td>0.029777</td>\n",
       "      <td>0.246726</td>\n",
       "      <td>27.117165</td>\n",
       "      <td>0.081819</td>\n",
       "      <td>Fail</td>\n",
       "    </tr>\n",
       "    <tr>\n",
       "      <th>4</th>\n",
       "      <td>0.012085</td>\n",
       "      <td>0.008749</td>\n",
       "      <td>0.005509</td>\n",
       "      <td>524.327396</td>\n",
       "      <td>0.000909</td>\n",
       "      <td>0.002397</td>\n",
       "      <td>2286.523413</td>\n",
       "      <td>0.035407</td>\n",
       "      <td>0.593081</td>\n",
       "      <td>1.010385</td>\n",
       "      <td>11.576647</td>\n",
       "      <td>1.555672</td>\n",
       "      <td>38.613386</td>\n",
       "      <td>0.260989</td>\n",
       "      <td>0.009380</td>\n",
       "      <td>194.798039</td>\n",
       "      <td>0.055053</td>\n",
       "      <td>0.014725</td>\n",
       "      <td>13.569707</td>\n",
       "      <td>18.138496</td>\n",
       "      <td>Fail</td>\n",
       "    </tr>\n",
       "  </tbody>\n",
       "</table>\n",
       "</div>"
      ],
      "text/plain": [
       "   Parameter1  Parameter2  Parameter3  Parameter4  Parameter5  Parameter6  \\\n",
       "0    0.001660    0.591013  147.608373   38.186345    0.000421    0.000612   \n",
       "1    1.601749    0.015052    0.035864   51.130326    0.000909    0.002397   \n",
       "2    0.098039   69.233685    0.080920    0.112265    0.000909    0.001972   \n",
       "3   18.181860    0.047325    0.018061    1.098102    0.000909    0.002397   \n",
       "4    0.012085    0.008749    0.005509  524.327396    0.000909    0.002397   \n",
       "\n",
       "    Parameter7  Parameter8  Parameter9  Parameter10  Attribute1  Attribute2  \\\n",
       "0  2286.523413    0.035407    0.593081     1.010385    6.856075    0.168761   \n",
       "1  2286.523413    0.035407    0.593081     1.010385    0.000362   11.649033   \n",
       "2  2286.523413    0.035407    0.593081     1.010385    0.022201    0.078213   \n",
       "3  2286.523413    0.035407    0.593081     1.010385    1.459004    0.380281   \n",
       "4  2286.523413    0.035407    0.593081     1.010385   11.576647    1.555672   \n",
       "\n",
       "   Attribute3  Attribute4  Attribute5    Attribute6  Attribute7  Attribute8  \\\n",
       "0    1.098755   36.955992    8.454598     11.438066  177.243120  338.729256   \n",
       "1    0.066671  225.632949    0.481860  20597.447822    3.723330   15.376190   \n",
       "2  110.079689    2.208138    0.073525    236.079314    0.064196    0.576302   \n",
       "3    0.011491    0.654517    0.025872    176.948915    0.029777    0.246726   \n",
       "4   38.613386    0.260989    0.009380    194.798039    0.055053    0.014725   \n",
       "\n",
       "   Attribute9  Attribute10 Quality_label  \n",
       "0    2.021704     0.079526          Pass  \n",
       "1    0.986973     4.634376          Fail  \n",
       "2   33.875790     1.813727          Fail  \n",
       "3   27.117165     0.081819          Fail  \n",
       "4   13.569707    18.138496          Fail  "
      ]
     },
     "execution_count": 3,
     "metadata": {},
     "output_type": "execute_result"
    }
   ],
   "source": [
    "train.head()"
   ]
  },
  {
   "cell_type": "code",
   "execution_count": null,
   "metadata": {
    "ExecuteTime": {
     "end_time": "2019-09-23T01:37:18.363008Z",
     "start_time": "2019-09-23T01:37:18.344007Z"
    }
   },
   "outputs": [],
   "source": [
    "test.head().append(test.tail())"
   ]
  },
  {
   "cell_type": "code",
   "execution_count": null,
   "metadata": {
    "ExecuteTime": {
     "end_time": "2019-09-23T01:37:23.323291Z",
     "start_time": "2019-09-23T01:37:23.311291Z"
    }
   },
   "outputs": [],
   "source": [
    "submit_example.head()"
   ]
  },
  {
   "cell_type": "code",
   "execution_count": 4,
   "metadata": {
    "ExecuteTime": {
     "end_time": "2019-09-24T03:34:56.732369Z",
     "start_time": "2019-09-24T03:34:56.727369Z"
    }
   },
   "outputs": [
    {
     "data": {
      "text/plain": [
       "array(['Pass', 'Fail', 'Good', 'Excellent'], dtype=object)"
      ]
     },
     "execution_count": 4,
     "metadata": {},
     "output_type": "execute_result"
    }
   ],
   "source": [
    "train.Quality_label.unique()"
   ]
  },
  {
   "cell_type": "code",
   "execution_count": 6,
   "metadata": {
    "ExecuteTime": {
     "end_time": "2019-09-24T03:35:45.842178Z",
     "start_time": "2019-09-24T03:35:45.835177Z"
    }
   },
   "outputs": [],
   "source": [
    "features = ['Parameter1', 'Parameter2', 'Parameter3', 'Parameter4', 'Parameter5',\n",
    "            'Parameter6', 'Parameter7', 'Parameter8', 'Parameter9', 'Parameter10']\n",
    "test_features = ['Parameter1', 'Parameter10', 'Parameter2', 'Parameter3',\n",
    "                 'Parameter4', 'Parameter5', 'Parameter6', 'Parameter7', \n",
    "                 'Parameter8', 'Parameter9']"
   ]
  },
  {
   "cell_type": "markdown",
   "metadata": {},
   "source": [
    "### 特征类别观察"
   ]
  },
  {
   "cell_type": "code",
   "execution_count": 7,
   "metadata": {
    "ExecuteTime": {
     "end_time": "2019-09-24T03:35:47.651281Z",
     "start_time": "2019-09-24T03:35:47.621280Z"
    }
   },
   "outputs": [
    {
     "name": "stdout",
     "output_type": "stream",
     "text": [
      "Parameter1 6000\n",
      "Parameter2 6000\n",
      "Parameter3 6000\n",
      "Parameter4 6000\n",
      "Parameter5 132\n",
      "Parameter6 80\n",
      "Parameter7 14\n",
      "Parameter8 23\n",
      "Parameter9 16\n",
      "Parameter10 41\n"
     ]
    }
   ],
   "source": [
    "for feature in features:\n",
    "    print(feature, len(train[feature].value_counts().tolist()))"
   ]
  },
  {
   "cell_type": "code",
   "execution_count": 8,
   "metadata": {
    "ExecuteTime": {
     "end_time": "2019-09-24T03:36:15.966901Z",
     "start_time": "2019-09-24T03:36:15.926899Z"
    }
   },
   "outputs": [
    {
     "data": {
      "text/html": [
       "<div>\n",
       "<style scoped>\n",
       "    .dataframe tbody tr th:only-of-type {\n",
       "        vertical-align: middle;\n",
       "    }\n",
       "\n",
       "    .dataframe tbody tr th {\n",
       "        vertical-align: top;\n",
       "    }\n",
       "\n",
       "    .dataframe thead th {\n",
       "        text-align: right;\n",
       "    }\n",
       "</style>\n",
       "<table border=\"1\" class=\"dataframe\">\n",
       "  <thead>\n",
       "    <tr style=\"text-align: right;\">\n",
       "      <th></th>\n",
       "      <th>Parameter1</th>\n",
       "      <th>Parameter2</th>\n",
       "      <th>Parameter3</th>\n",
       "      <th>Parameter4</th>\n",
       "      <th>Parameter5</th>\n",
       "      <th>Parameter6</th>\n",
       "      <th>Parameter7</th>\n",
       "      <th>Parameter8</th>\n",
       "      <th>Parameter9</th>\n",
       "      <th>Parameter10</th>\n",
       "      <th>Attribute1</th>\n",
       "      <th>Attribute2</th>\n",
       "      <th>Attribute3</th>\n",
       "      <th>Attribute4</th>\n",
       "      <th>Attribute5</th>\n",
       "      <th>Attribute6</th>\n",
       "      <th>Attribute7</th>\n",
       "      <th>Attribute8</th>\n",
       "      <th>Attribute9</th>\n",
       "      <th>Attribute10</th>\n",
       "      <th>Quality_label</th>\n",
       "      <th>label</th>\n",
       "    </tr>\n",
       "  </thead>\n",
       "  <tbody>\n",
       "    <tr>\n",
       "      <th>0</th>\n",
       "      <td>0.001660</td>\n",
       "      <td>0.591013</td>\n",
       "      <td>147.608373</td>\n",
       "      <td>38.186345</td>\n",
       "      <td>0.000421</td>\n",
       "      <td>0.000612</td>\n",
       "      <td>2286.523413</td>\n",
       "      <td>0.035407</td>\n",
       "      <td>0.593081</td>\n",
       "      <td>1.010385</td>\n",
       "      <td>6.856075</td>\n",
       "      <td>0.168761</td>\n",
       "      <td>1.098755</td>\n",
       "      <td>36.955992</td>\n",
       "      <td>8.454598</td>\n",
       "      <td>11.438066</td>\n",
       "      <td>177.243120</td>\n",
       "      <td>338.729256</td>\n",
       "      <td>2.021704</td>\n",
       "      <td>0.079526</td>\n",
       "      <td>Pass</td>\n",
       "      <td>3</td>\n",
       "    </tr>\n",
       "    <tr>\n",
       "      <th>1</th>\n",
       "      <td>1.601749</td>\n",
       "      <td>0.015052</td>\n",
       "      <td>0.035864</td>\n",
       "      <td>51.130326</td>\n",
       "      <td>0.000909</td>\n",
       "      <td>0.002397</td>\n",
       "      <td>2286.523413</td>\n",
       "      <td>0.035407</td>\n",
       "      <td>0.593081</td>\n",
       "      <td>1.010385</td>\n",
       "      <td>0.000362</td>\n",
       "      <td>11.649033</td>\n",
       "      <td>0.066671</td>\n",
       "      <td>225.632949</td>\n",
       "      <td>0.481860</td>\n",
       "      <td>20597.447822</td>\n",
       "      <td>3.723330</td>\n",
       "      <td>15.376190</td>\n",
       "      <td>0.986973</td>\n",
       "      <td>4.634376</td>\n",
       "      <td>Fail</td>\n",
       "      <td>4</td>\n",
       "    </tr>\n",
       "    <tr>\n",
       "      <th>2</th>\n",
       "      <td>0.098039</td>\n",
       "      <td>69.233685</td>\n",
       "      <td>0.080920</td>\n",
       "      <td>0.112265</td>\n",
       "      <td>0.000909</td>\n",
       "      <td>0.001972</td>\n",
       "      <td>2286.523413</td>\n",
       "      <td>0.035407</td>\n",
       "      <td>0.593081</td>\n",
       "      <td>1.010385</td>\n",
       "      <td>0.022201</td>\n",
       "      <td>0.078213</td>\n",
       "      <td>110.079689</td>\n",
       "      <td>2.208138</td>\n",
       "      <td>0.073525</td>\n",
       "      <td>236.079314</td>\n",
       "      <td>0.064196</td>\n",
       "      <td>0.576302</td>\n",
       "      <td>33.875790</td>\n",
       "      <td>1.813727</td>\n",
       "      <td>Fail</td>\n",
       "      <td>4</td>\n",
       "    </tr>\n",
       "    <tr>\n",
       "      <th>3</th>\n",
       "      <td>18.181860</td>\n",
       "      <td>0.047325</td>\n",
       "      <td>0.018061</td>\n",
       "      <td>1.098102</td>\n",
       "      <td>0.000909</td>\n",
       "      <td>0.002397</td>\n",
       "      <td>2286.523413</td>\n",
       "      <td>0.035407</td>\n",
       "      <td>0.593081</td>\n",
       "      <td>1.010385</td>\n",
       "      <td>1.459004</td>\n",
       "      <td>0.380281</td>\n",
       "      <td>0.011491</td>\n",
       "      <td>0.654517</td>\n",
       "      <td>0.025872</td>\n",
       "      <td>176.948915</td>\n",
       "      <td>0.029777</td>\n",
       "      <td>0.246726</td>\n",
       "      <td>27.117165</td>\n",
       "      <td>0.081819</td>\n",
       "      <td>Fail</td>\n",
       "      <td>4</td>\n",
       "    </tr>\n",
       "    <tr>\n",
       "      <th>4</th>\n",
       "      <td>0.012085</td>\n",
       "      <td>0.008749</td>\n",
       "      <td>0.005509</td>\n",
       "      <td>524.327396</td>\n",
       "      <td>0.000909</td>\n",
       "      <td>0.002397</td>\n",
       "      <td>2286.523413</td>\n",
       "      <td>0.035407</td>\n",
       "      <td>0.593081</td>\n",
       "      <td>1.010385</td>\n",
       "      <td>11.576647</td>\n",
       "      <td>1.555672</td>\n",
       "      <td>38.613386</td>\n",
       "      <td>0.260989</td>\n",
       "      <td>0.009380</td>\n",
       "      <td>194.798039</td>\n",
       "      <td>0.055053</td>\n",
       "      <td>0.014725</td>\n",
       "      <td>13.569707</td>\n",
       "      <td>18.138496</td>\n",
       "      <td>Fail</td>\n",
       "      <td>4</td>\n",
       "    </tr>\n",
       "  </tbody>\n",
       "</table>\n",
       "</div>"
      ],
      "text/plain": [
       "   Parameter1  Parameter2  Parameter3  Parameter4  Parameter5  Parameter6  \\\n",
       "0    0.001660    0.591013  147.608373   38.186345    0.000421    0.000612   \n",
       "1    1.601749    0.015052    0.035864   51.130326    0.000909    0.002397   \n",
       "2    0.098039   69.233685    0.080920    0.112265    0.000909    0.001972   \n",
       "3   18.181860    0.047325    0.018061    1.098102    0.000909    0.002397   \n",
       "4    0.012085    0.008749    0.005509  524.327396    0.000909    0.002397   \n",
       "\n",
       "    Parameter7  Parameter8  Parameter9  Parameter10  Attribute1  Attribute2  \\\n",
       "0  2286.523413    0.035407    0.593081     1.010385    6.856075    0.168761   \n",
       "1  2286.523413    0.035407    0.593081     1.010385    0.000362   11.649033   \n",
       "2  2286.523413    0.035407    0.593081     1.010385    0.022201    0.078213   \n",
       "3  2286.523413    0.035407    0.593081     1.010385    1.459004    0.380281   \n",
       "4  2286.523413    0.035407    0.593081     1.010385   11.576647    1.555672   \n",
       "\n",
       "   Attribute3  Attribute4  Attribute5    Attribute6  Attribute7  Attribute8  \\\n",
       "0    1.098755   36.955992    8.454598     11.438066  177.243120  338.729256   \n",
       "1    0.066671  225.632949    0.481860  20597.447822    3.723330   15.376190   \n",
       "2  110.079689    2.208138    0.073525    236.079314    0.064196    0.576302   \n",
       "3    0.011491    0.654517    0.025872    176.948915    0.029777    0.246726   \n",
       "4   38.613386    0.260989    0.009380    194.798039    0.055053    0.014725   \n",
       "\n",
       "   Attribute9  Attribute10 Quality_label  label  \n",
       "0    2.021704     0.079526          Pass      3  \n",
       "1    0.986973     4.634376          Fail      4  \n",
       "2   33.875790     1.813727          Fail      4  \n",
       "3   27.117165     0.081819          Fail      4  \n",
       "4   13.569707    18.138496          Fail      4  "
      ]
     },
     "execution_count": 8,
     "metadata": {},
     "output_type": "execute_result"
    }
   ],
   "source": [
    "def label_map(x):\n",
    "    labels = {'Excellent':1, 'Good':2, 'Pass':3, 'Fail':4}\n",
    "    return labels[x]\n",
    "\n",
    "train['label'] = train.Quality_label.apply(label_map)\n",
    "train.head()"
   ]
  },
  {
   "cell_type": "markdown",
   "metadata": {},
   "source": [
    "### 异常点观察"
   ]
  },
  {
   "cell_type": "code",
   "execution_count": null,
   "metadata": {
    "ExecuteTime": {
     "end_time": "2019-09-04T02:31:31.064034Z",
     "start_time": "2019-09-04T02:31:30.840506Z"
    }
   },
   "outputs": [],
   "source": [
    "plt.scatter(train.Quality_label, train.Parameter1)\n",
    "# 剔除train.Parameter1>12的数据"
   ]
  },
  {
   "cell_type": "code",
   "execution_count": null,
   "metadata": {
    "ExecuteTime": {
     "end_time": "2019-09-04T02:31:31.431581Z",
     "start_time": "2019-09-04T02:31:31.427080Z"
    }
   },
   "outputs": [],
   "source": [
    "train = train[train.Parameter1<=200000]"
   ]
  },
  {
   "cell_type": "code",
   "execution_count": null,
   "metadata": {
    "ExecuteTime": {
     "end_time": "2019-09-04T02:31:32.009654Z",
     "start_time": "2019-09-04T02:31:31.784626Z"
    }
   },
   "outputs": [],
   "source": [
    "plt.scatter(train.Quality_label, train.Parameter2)\n",
    "# 剔除train.Parameter2>14的数据"
   ]
  },
  {
   "cell_type": "code",
   "execution_count": null,
   "metadata": {
    "ExecuteTime": {
     "end_time": "2019-09-04T02:31:32.358699Z",
     "start_time": "2019-09-04T02:31:32.352698Z"
    }
   },
   "outputs": [],
   "source": [
    "train = train[train.Parameter2<=1000000]"
   ]
  },
  {
   "cell_type": "code",
   "execution_count": null,
   "metadata": {
    "ExecuteTime": {
     "end_time": "2019-09-04T02:31:32.909769Z",
     "start_time": "2019-09-04T02:31:32.703743Z"
    }
   },
   "outputs": [],
   "source": [
    "plt.scatter(train.Quality_label, train.Parameter3)\n",
    "# 剔除train.Parameter3>12的数据"
   ]
  },
  {
   "cell_type": "code",
   "execution_count": null,
   "metadata": {
    "ExecuteTime": {
     "end_time": "2019-09-04T02:31:33.258313Z",
     "start_time": "2019-09-04T02:31:33.253312Z"
    }
   },
   "outputs": [],
   "source": [
    "train = train[train.Parameter3<=200000]"
   ]
  },
  {
   "cell_type": "code",
   "execution_count": null,
   "metadata": {
    "ExecuteTime": {
     "end_time": "2019-09-04T02:31:33.822385Z",
     "start_time": "2019-09-04T02:31:33.604357Z"
    }
   },
   "outputs": [],
   "source": [
    "plt.scatter(train.Quality_label, train.Parameter4)"
   ]
  },
  {
   "cell_type": "code",
   "execution_count": null,
   "metadata": {
    "ExecuteTime": {
     "end_time": "2019-09-04T02:31:34.179430Z",
     "start_time": "2019-09-04T02:31:34.173429Z"
    }
   },
   "outputs": [],
   "source": [
    "train = train[train.Parameter4<=80000]"
   ]
  },
  {
   "cell_type": "code",
   "execution_count": null,
   "metadata": {
    "ExecuteTime": {
     "end_time": "2019-09-04T02:31:41.911412Z",
     "start_time": "2019-09-04T02:31:41.670381Z"
    }
   },
   "outputs": [],
   "source": [
    "plt.scatter(train.Quality_label, train.Parameter5)\n",
    "# 剔除train.Parameter5>4的数据"
   ]
  },
  {
   "cell_type": "code",
   "execution_count": null,
   "metadata": {
    "ExecuteTime": {
     "end_time": "2019-09-04T02:31:42.319464Z",
     "start_time": "2019-09-04T02:31:42.313963Z"
    }
   },
   "outputs": [],
   "source": [
    "train = train[train.Parameter5<=60]"
   ]
  },
  {
   "cell_type": "code",
   "execution_count": null,
   "metadata": {
    "ExecuteTime": {
     "end_time": "2019-09-04T02:31:42.951044Z",
     "start_time": "2019-09-04T02:31:42.731516Z"
    }
   },
   "outputs": [],
   "source": [
    "plt.scatter(train.Quality_label, train.Parameter6)"
   ]
  },
  {
   "cell_type": "code",
   "execution_count": null,
   "metadata": {
    "ExecuteTime": {
     "end_time": "2019-09-04T02:31:43.556121Z",
     "start_time": "2019-09-04T02:31:43.323091Z"
    }
   },
   "outputs": [],
   "source": [
    "plt.scatter(train.Quality_label, train.Parameter7)"
   ]
  },
  {
   "cell_type": "code",
   "execution_count": null,
   "metadata": {
    "ExecuteTime": {
     "end_time": "2019-09-04T02:31:43.915666Z",
     "start_time": "2019-09-04T02:31:43.910166Z"
    }
   },
   "outputs": [],
   "source": [
    "train = train[train.Parameter7<=30000]"
   ]
  },
  {
   "cell_type": "code",
   "execution_count": null,
   "metadata": {
    "ExecuteTime": {
     "end_time": "2019-09-04T02:31:44.495240Z",
     "start_time": "2019-09-04T02:31:44.264711Z"
    }
   },
   "outputs": [],
   "source": [
    "plt.scatter(train.Quality_label, train.Parameter8)\n",
    "# 剔除train.Parameter8>8的数据"
   ]
  },
  {
   "cell_type": "code",
   "execution_count": null,
   "metadata": {
    "ExecuteTime": {
     "end_time": "2019-09-04T02:31:44.844784Z",
     "start_time": "2019-09-04T02:31:44.839784Z"
    }
   },
   "outputs": [],
   "source": [
    "train = train[train.Parameter8<=5000]"
   ]
  },
  {
   "cell_type": "code",
   "execution_count": null,
   "metadata": {
    "ExecuteTime": {
     "end_time": "2019-09-04T02:31:45.474864Z",
     "start_time": "2019-09-04T02:31:45.232834Z"
    }
   },
   "outputs": [],
   "source": [
    "plt.scatter(train.Quality_label, train.Parameter9)\n",
    "# 剔除train.Parameter9>12的数据"
   ]
  },
  {
   "cell_type": "code",
   "execution_count": null,
   "metadata": {
    "ExecuteTime": {
     "end_time": "2019-09-04T02:31:48.268719Z",
     "start_time": "2019-09-04T02:31:48.258718Z"
    }
   },
   "outputs": [],
   "source": [
    "train = train[train.Parameter9<=1e8]"
   ]
  },
  {
   "cell_type": "code",
   "execution_count": null,
   "metadata": {
    "ExecuteTime": {
     "end_time": "2019-09-04T02:31:48.970308Z",
     "start_time": "2019-09-04T02:31:48.744780Z"
    }
   },
   "outputs": [],
   "source": [
    "plt.scatter(train.Quality_label, train.Parameter10)"
   ]
  },
  {
   "cell_type": "code",
   "execution_count": null,
   "metadata": {
    "ExecuteTime": {
     "end_time": "2019-09-04T02:31:50.630019Z",
     "start_time": "2019-09-04T02:31:50.624018Z"
    }
   },
   "outputs": [],
   "source": [
    "train.shape"
   ]
  },
  {
   "cell_type": "code",
   "execution_count": null,
   "metadata": {
    "ExecuteTime": {
     "end_time": "2019-09-04T02:31:51.828671Z",
     "start_time": "2019-09-04T02:31:51.110580Z"
    }
   },
   "outputs": [],
   "source": [
    "plt.figure(figsize=(8,6))\n",
    "sns.heatmap(train[test_features].corr(), vmax=0.8, vmin=-0.8, linewidths=0.2, annot=True)"
   ]
  },
  {
   "cell_type": "markdown",
   "metadata": {},
   "source": [
    "### 构建数据组合"
   ]
  },
  {
   "cell_type": "code",
   "execution_count": 34,
   "metadata": {
    "ExecuteTime": {
     "end_time": "2019-09-24T06:04:01.400975Z",
     "start_time": "2019-09-24T06:04:01.392974Z"
    }
   },
   "outputs": [],
   "source": [
    "selected_features = ['Parameter1', 'Parameter2', 'Parameter3',\n",
    "                     'Parameter4', 'Parameter6', 'Parameter7', \n",
    "                     'Parameter8', 'Parameter9', 'Parameter10', 'Parameter5']\n",
    "features = ['Parameter5', 'Parameter6', 'Parameter7', 'Parameter8', \n",
    "            'Parameter9', 'Parameter10']\n",
    "full = pd.concat([train[selected_features], test[selected_features]], ignore_index=True)"
   ]
  },
  {
   "cell_type": "code",
   "execution_count": 12,
   "metadata": {
    "ExecuteTime": {
     "end_time": "2019-09-24T03:38:29.771554Z",
     "start_time": "2019-09-24T03:38:29.766554Z"
    }
   },
   "outputs": [
    {
     "name": "stdout",
     "output_type": "stream",
     "text": [
      "shape of full: (12000, 10)\n",
      "shape of train: (6000, 22)\n",
      "shape of test: (6000, 11)\n"
     ]
    }
   ],
   "source": [
    "print('shape of full:', full.shape)\n",
    "print('shape of train:', train.shape)\n",
    "print('shape of test:', test.shape)"
   ]
  },
  {
   "cell_type": "markdown",
   "metadata": {},
   "source": [
    "#### Label Encoding"
   ]
  },
  {
   "cell_type": "code",
   "execution_count": null,
   "metadata": {
    "ExecuteTime": {
     "end_time": "2019-09-05T03:23:18.444783Z",
     "start_time": "2019-09-05T03:23:18.431282Z"
    }
   },
   "outputs": [],
   "source": [
    "for feature in features:\n",
    "    le_feature = feature + '_le'\n",
    "    full[le_feature] = LabelEncoder().fit_transform(full[feature])"
   ]
  },
  {
   "cell_type": "code",
   "execution_count": null,
   "metadata": {
    "ExecuteTime": {
     "end_time": "2019-09-23T01:36:15.264399Z",
     "start_time": "2019-09-23T01:36:15.137391Z"
    }
   },
   "outputs": [],
   "source": [
    "full.head()"
   ]
  },
  {
   "cell_type": "code",
   "execution_count": null,
   "metadata": {
    "ExecuteTime": {
     "end_time": "2019-09-05T03:23:21.682694Z",
     "start_time": "2019-09-05T03:23:21.599184Z"
    }
   },
   "outputs": [],
   "source": [
    "trainX = full[:train.shape[0]]\n",
    "trainX['label'] = train.label\n",
    "testX = full[train.shape[0]:]\n",
    "\n",
    "print('shape of trainX:', trainX.shape)\n",
    "print('shape of testX:', testX.shape)"
   ]
  },
  {
   "cell_type": "markdown",
   "metadata": {},
   "source": [
    "#### Target Encoding"
   ]
  },
  {
   "cell_type": "code",
   "execution_count": null,
   "metadata": {
    "ExecuteTime": {
     "end_time": "2019-09-05T03:23:35.172407Z",
     "start_time": "2019-09-05T03:23:30.702340Z"
    },
    "scrolled": true
   },
   "outputs": [],
   "source": [
    "def parameter_ctr(train, test, col, label):\n",
    "    # train: 数据集\n",
    "    # col: 类别型特征\n",
    "    # label：标签值\n",
    "    new_col = col + '_ctr_' + str(label)\n",
    "    train[new_col] = 0.0\n",
    "    \n",
    "    ctr = train[col+'_le'].value_counts() \n",
    "    k_map = {}\n",
    "    values = train[col+'_le'].unique().tolist()\n",
    "    values.extend(test[col+'_le'].unique().tolist())\n",
    "    for elem in set(values):\n",
    "        try:\n",
    "            k_map[elem] = train[(train[col+'_le']==elem)&(train['label']==label)].shape[0] / ctr[elem]\n",
    "        except:\n",
    "            k_map[elem] = sum(k_map.values()) / len(k_map.values())\n",
    "    train[new_col] = train[col+'_le'].apply(lambda x: k_map[x])\n",
    "    test[new_col] = test[col+'_le'].apply(lambda x: k_map[x])\n",
    "    return train, test\n",
    "\n",
    "features = ['Parameter6', 'Parameter7', 'Parameter8', \n",
    "            'Parameter9', 'Parameter10']\n",
    "labels = [1, 2, 3, 4]\n",
    "for feature in features:\n",
    "    for label in labels:\n",
    "        print(feature, label)\n",
    "        trainX, testX = parameter_ctr(trainX, testX, feature, label)"
   ]
  },
  {
   "cell_type": "code",
   "execution_count": null,
   "metadata": {
    "ExecuteTime": {
     "end_time": "2019-09-05T03:23:41.368194Z",
     "start_time": "2019-09-05T03:23:41.362193Z"
    },
    "scrolled": true
   },
   "outputs": [],
   "source": [
    "print('shape of trainX:', trainX.shape)\n",
    "print('shape of testX:', testX.shape)"
   ]
  },
  {
   "cell_type": "code",
   "execution_count": null,
   "metadata": {
    "ExecuteTime": {
     "end_time": "2019-09-05T03:23:44.481590Z",
     "start_time": "2019-09-05T03:23:44.435084Z"
    }
   },
   "outputs": [],
   "source": [
    "trainX.head()"
   ]
  },
  {
   "cell_type": "code",
   "execution_count": null,
   "metadata": {
    "ExecuteTime": {
     "end_time": "2019-09-05T03:23:52.958666Z",
     "start_time": "2019-09-05T03:23:52.826649Z"
    }
   },
   "outputs": [],
   "source": [
    "drop_cols = ['Parameter1', 'Parameter2', 'Parameter3', 'Parameter4',\n",
    "             'Parameter6_le', 'Parameter7_le', 'Parameter8_le', \n",
    "             'Parameter9_le', 'Parameter10_le']\n",
    "trainX.drop(drop_cols, axis=1, inplace=True)\n",
    "testX.drop(drop_cols, axis=1, inplace=True)"
   ]
  },
  {
   "cell_type": "markdown",
   "metadata": {},
   "source": [
    "#### Frequency Encoding"
   ]
  },
  {
   "cell_type": "code",
   "execution_count": null,
   "metadata": {
    "ExecuteTime": {
     "end_time": "2019-09-03T09:24:09.289492Z",
     "start_time": "2019-09-03T09:23:51.671255Z"
    }
   },
   "outputs": [],
   "source": [
    "full['Parameter6_fre'] = LabelEncoder().fit_transform(full.Parameter6)\n",
    "\n",
    "def parameter6_fre(x):\n",
    "    ct = full.Parameter6_fre.value_counts() / full.shape[0]\n",
    "    return ct[x]\n",
    "full['Parameter6_fre'] = full.Parameter6_fre.apply(parameter6_fre)"
   ]
  },
  {
   "cell_type": "code",
   "execution_count": null,
   "metadata": {
    "ExecuteTime": {
     "end_time": "2019-09-03T09:24:27.188765Z",
     "start_time": "2019-09-03T09:24:09.738549Z"
    }
   },
   "outputs": [],
   "source": [
    "full['Parameter7_fre'] = LabelEncoder().fit_transform(full.Parameter7)\n",
    "\n",
    "def parameter7_fre(x):\n",
    "    ct = full.Parameter7_fre.value_counts() / full.shape[0]\n",
    "    return ct[x]\n",
    "full['Parameter7_fre'] = full.Parameter7_fre.apply(parameter7_fre)"
   ]
  },
  {
   "cell_type": "code",
   "execution_count": null,
   "metadata": {
    "ExecuteTime": {
     "end_time": "2019-09-03T09:24:44.969023Z",
     "start_time": "2019-09-03T09:24:27.629821Z"
    }
   },
   "outputs": [],
   "source": [
    "full['Parameter8_fre'] = LabelEncoder().fit_transform(full.Parameter8)\n",
    "\n",
    "def parameter8_fre(x):\n",
    "    ct = full.Parameter8_fre.value_counts() / full.shape[0]\n",
    "    return ct[x]\n",
    "full['Parameter8_fre'] = full.Parameter8_fre.apply(parameter8_fre)"
   ]
  },
  {
   "cell_type": "code",
   "execution_count": null,
   "metadata": {
    "ExecuteTime": {
     "end_time": "2019-09-03T09:25:02.620264Z",
     "start_time": "2019-09-03T09:24:45.412079Z"
    }
   },
   "outputs": [],
   "source": [
    "full['Parameter9_fre'] = LabelEncoder().fit_transform(full.Parameter9)\n",
    "\n",
    "def parameter9_fre(x):\n",
    "    ct = full.Parameter9_fre.value_counts() / full.shape[0]\n",
    "    return ct[x]\n",
    "full['Parameter9_fre'] = full.Parameter9_fre.apply(parameter9_fre)"
   ]
  },
  {
   "cell_type": "code",
   "execution_count": null,
   "metadata": {
    "ExecuteTime": {
     "end_time": "2019-09-03T09:25:19.926962Z",
     "start_time": "2019-09-03T09:25:03.130829Z"
    }
   },
   "outputs": [],
   "source": [
    "full['Parameter10_fre'] = LabelEncoder().fit_transform(full.Parameter10)\n",
    "\n",
    "def parameter10_fre(x):\n",
    "    ct = full.Parameter10_fre.value_counts() / full.shape[0]\n",
    "    return ct[x]\n",
    "full['Parameter10_fre'] = full.Parameter10_fre.apply(parameter10_fre)"
   ]
  },
  {
   "cell_type": "code",
   "execution_count": null,
   "metadata": {
    "ExecuteTime": {
     "end_time": "2019-09-03T09:26:29.823337Z",
     "start_time": "2019-09-03T09:26:29.817837Z"
    }
   },
   "outputs": [],
   "source": [
    "full2 = full.copy()"
   ]
  },
  {
   "cell_type": "code",
   "execution_count": null,
   "metadata": {
    "ExecuteTime": {
     "end_time": "2019-09-03T09:26:33.766338Z",
     "start_time": "2019-09-03T09:26:33.726833Z"
    }
   },
   "outputs": [],
   "source": [
    "full2.head()"
   ]
  },
  {
   "cell_type": "markdown",
   "metadata": {},
   "source": [
    "#### WOE"
   ]
  },
  {
   "cell_type": "code",
   "execution_count": 16,
   "metadata": {
    "ExecuteTime": {
     "end_time": "2019-09-24T03:47:41.476110Z",
     "start_time": "2019-09-24T03:47:41.472110Z"
    }
   },
   "outputs": [],
   "source": [
    "from keras.models import Sequential\n",
    "from keras.models import Model as KerasModel\n",
    "from keras.layers import Input, Dense, Activation, Reshape\n",
    "from keras.layers import Concatenate\n",
    "from keras.layers.embeddings import Embedding\n",
    "import pickle\n",
    "import csv"
   ]
  },
  {
   "cell_type": "code",
   "execution_count": 15,
   "metadata": {
    "ExecuteTime": {
     "end_time": "2019-09-24T03:46:20.483477Z",
     "start_time": "2019-09-24T03:46:20.453476Z"
    }
   },
   "outputs": [
    {
     "data": {
      "text/html": [
       "<div>\n",
       "<style scoped>\n",
       "    .dataframe tbody tr th:only-of-type {\n",
       "        vertical-align: middle;\n",
       "    }\n",
       "\n",
       "    .dataframe tbody tr th {\n",
       "        vertical-align: top;\n",
       "    }\n",
       "\n",
       "    .dataframe thead th {\n",
       "        text-align: right;\n",
       "    }\n",
       "</style>\n",
       "<table border=\"1\" class=\"dataframe\">\n",
       "  <thead>\n",
       "    <tr style=\"text-align: right;\">\n",
       "      <th></th>\n",
       "      <th>Parameter1</th>\n",
       "      <th>Parameter2</th>\n",
       "      <th>Parameter3</th>\n",
       "      <th>Parameter4</th>\n",
       "      <th>Parameter5</th>\n",
       "      <th>Parameter6</th>\n",
       "      <th>Parameter7</th>\n",
       "      <th>Parameter8</th>\n",
       "      <th>Parameter9</th>\n",
       "      <th>Parameter10</th>\n",
       "      <th>Attribute1</th>\n",
       "      <th>Attribute2</th>\n",
       "      <th>Attribute3</th>\n",
       "      <th>Attribute4</th>\n",
       "      <th>Attribute5</th>\n",
       "      <th>Attribute6</th>\n",
       "      <th>Attribute7</th>\n",
       "      <th>Attribute8</th>\n",
       "      <th>Attribute9</th>\n",
       "      <th>Attribute10</th>\n",
       "      <th>Quality_label</th>\n",
       "      <th>label</th>\n",
       "    </tr>\n",
       "  </thead>\n",
       "  <tbody>\n",
       "    <tr>\n",
       "      <th>0</th>\n",
       "      <td>0.001660</td>\n",
       "      <td>0.591013</td>\n",
       "      <td>147.608373</td>\n",
       "      <td>38.186345</td>\n",
       "      <td>0.000421</td>\n",
       "      <td>0.000612</td>\n",
       "      <td>2286.523413</td>\n",
       "      <td>0.035407</td>\n",
       "      <td>0.593081</td>\n",
       "      <td>1.010385</td>\n",
       "      <td>6.856075</td>\n",
       "      <td>0.168761</td>\n",
       "      <td>1.098755</td>\n",
       "      <td>36.955992</td>\n",
       "      <td>8.454598</td>\n",
       "      <td>11.438066</td>\n",
       "      <td>177.243120</td>\n",
       "      <td>338.729256</td>\n",
       "      <td>2.021704</td>\n",
       "      <td>0.079526</td>\n",
       "      <td>Pass</td>\n",
       "      <td>3</td>\n",
       "    </tr>\n",
       "    <tr>\n",
       "      <th>1</th>\n",
       "      <td>1.601749</td>\n",
       "      <td>0.015052</td>\n",
       "      <td>0.035864</td>\n",
       "      <td>51.130326</td>\n",
       "      <td>0.000909</td>\n",
       "      <td>0.002397</td>\n",
       "      <td>2286.523413</td>\n",
       "      <td>0.035407</td>\n",
       "      <td>0.593081</td>\n",
       "      <td>1.010385</td>\n",
       "      <td>0.000362</td>\n",
       "      <td>11.649033</td>\n",
       "      <td>0.066671</td>\n",
       "      <td>225.632949</td>\n",
       "      <td>0.481860</td>\n",
       "      <td>20597.447822</td>\n",
       "      <td>3.723330</td>\n",
       "      <td>15.376190</td>\n",
       "      <td>0.986973</td>\n",
       "      <td>4.634376</td>\n",
       "      <td>Fail</td>\n",
       "      <td>4</td>\n",
       "    </tr>\n",
       "    <tr>\n",
       "      <th>2</th>\n",
       "      <td>0.098039</td>\n",
       "      <td>69.233685</td>\n",
       "      <td>0.080920</td>\n",
       "      <td>0.112265</td>\n",
       "      <td>0.000909</td>\n",
       "      <td>0.001972</td>\n",
       "      <td>2286.523413</td>\n",
       "      <td>0.035407</td>\n",
       "      <td>0.593081</td>\n",
       "      <td>1.010385</td>\n",
       "      <td>0.022201</td>\n",
       "      <td>0.078213</td>\n",
       "      <td>110.079689</td>\n",
       "      <td>2.208138</td>\n",
       "      <td>0.073525</td>\n",
       "      <td>236.079314</td>\n",
       "      <td>0.064196</td>\n",
       "      <td>0.576302</td>\n",
       "      <td>33.875790</td>\n",
       "      <td>1.813727</td>\n",
       "      <td>Fail</td>\n",
       "      <td>4</td>\n",
       "    </tr>\n",
       "    <tr>\n",
       "      <th>3</th>\n",
       "      <td>18.181860</td>\n",
       "      <td>0.047325</td>\n",
       "      <td>0.018061</td>\n",
       "      <td>1.098102</td>\n",
       "      <td>0.000909</td>\n",
       "      <td>0.002397</td>\n",
       "      <td>2286.523413</td>\n",
       "      <td>0.035407</td>\n",
       "      <td>0.593081</td>\n",
       "      <td>1.010385</td>\n",
       "      <td>1.459004</td>\n",
       "      <td>0.380281</td>\n",
       "      <td>0.011491</td>\n",
       "      <td>0.654517</td>\n",
       "      <td>0.025872</td>\n",
       "      <td>176.948915</td>\n",
       "      <td>0.029777</td>\n",
       "      <td>0.246726</td>\n",
       "      <td>27.117165</td>\n",
       "      <td>0.081819</td>\n",
       "      <td>Fail</td>\n",
       "      <td>4</td>\n",
       "    </tr>\n",
       "    <tr>\n",
       "      <th>4</th>\n",
       "      <td>0.012085</td>\n",
       "      <td>0.008749</td>\n",
       "      <td>0.005509</td>\n",
       "      <td>524.327396</td>\n",
       "      <td>0.000909</td>\n",
       "      <td>0.002397</td>\n",
       "      <td>2286.523413</td>\n",
       "      <td>0.035407</td>\n",
       "      <td>0.593081</td>\n",
       "      <td>1.010385</td>\n",
       "      <td>11.576647</td>\n",
       "      <td>1.555672</td>\n",
       "      <td>38.613386</td>\n",
       "      <td>0.260989</td>\n",
       "      <td>0.009380</td>\n",
       "      <td>194.798039</td>\n",
       "      <td>0.055053</td>\n",
       "      <td>0.014725</td>\n",
       "      <td>13.569707</td>\n",
       "      <td>18.138496</td>\n",
       "      <td>Fail</td>\n",
       "      <td>4</td>\n",
       "    </tr>\n",
       "  </tbody>\n",
       "</table>\n",
       "</div>"
      ],
      "text/plain": [
       "   Parameter1  Parameter2  Parameter3  Parameter4  Parameter5  Parameter6  \\\n",
       "0    0.001660    0.591013  147.608373   38.186345    0.000421    0.000612   \n",
       "1    1.601749    0.015052    0.035864   51.130326    0.000909    0.002397   \n",
       "2    0.098039   69.233685    0.080920    0.112265    0.000909    0.001972   \n",
       "3   18.181860    0.047325    0.018061    1.098102    0.000909    0.002397   \n",
       "4    0.012085    0.008749    0.005509  524.327396    0.000909    0.002397   \n",
       "\n",
       "    Parameter7  Parameter8  Parameter9  Parameter10  Attribute1  Attribute2  \\\n",
       "0  2286.523413    0.035407    0.593081     1.010385    6.856075    0.168761   \n",
       "1  2286.523413    0.035407    0.593081     1.010385    0.000362   11.649033   \n",
       "2  2286.523413    0.035407    0.593081     1.010385    0.022201    0.078213   \n",
       "3  2286.523413    0.035407    0.593081     1.010385    1.459004    0.380281   \n",
       "4  2286.523413    0.035407    0.593081     1.010385   11.576647    1.555672   \n",
       "\n",
       "   Attribute3  Attribute4  Attribute5    Attribute6  Attribute7  Attribute8  \\\n",
       "0    1.098755   36.955992    8.454598     11.438066  177.243120  338.729256   \n",
       "1    0.066671  225.632949    0.481860  20597.447822    3.723330   15.376190   \n",
       "2  110.079689    2.208138    0.073525    236.079314    0.064196    0.576302   \n",
       "3    0.011491    0.654517    0.025872    176.948915    0.029777    0.246726   \n",
       "4   38.613386    0.260989    0.009380    194.798039    0.055053    0.014725   \n",
       "\n",
       "   Attribute9  Attribute10 Quality_label  label  \n",
       "0    2.021704     0.079526          Pass      3  \n",
       "1    0.986973     4.634376          Fail      4  \n",
       "2   33.875790     1.813727          Fail      4  \n",
       "3   27.117165     0.081819          Fail      4  \n",
       "4   13.569707    18.138496          Fail      4  "
      ]
     },
     "execution_count": 15,
     "metadata": {},
     "output_type": "execute_result"
    }
   ],
   "source": [
    "train.head()"
   ]
  },
  {
   "cell_type": "code",
   "execution_count": null,
   "metadata": {},
   "outputs": [],
   "source": [
    "def woe_preprocess(train, test, col, label):\n",
    "    cnt = train.label.value_counts()"
   ]
  },
  {
   "cell_type": "markdown",
   "metadata": {},
   "source": [
    "#### cv"
   ]
  },
  {
   "cell_type": "code",
   "execution_count": 17,
   "metadata": {
    "ExecuteTime": {
     "end_time": "2019-09-24T05:55:37.105131Z",
     "start_time": "2019-09-24T05:55:37.101130Z"
    }
   },
   "outputs": [],
   "source": [
    "from sklearn.model_selection import KFold"
   ]
  },
  {
   "cell_type": "code",
   "execution_count": 20,
   "metadata": {
    "ExecuteTime": {
     "end_time": "2019-09-24T05:57:22.865180Z",
     "start_time": "2019-09-24T05:57:22.858179Z"
    }
   },
   "outputs": [],
   "source": [
    "kfold.split?"
   ]
  },
  {
   "cell_type": "code",
   "execution_count": 54,
   "metadata": {
    "ExecuteTime": {
     "end_time": "2019-09-24T09:44:21.105099Z",
     "start_time": "2019-09-24T08:18:57.161026Z"
    },
    "scrolled": true
   },
   "outputs": [
    {
     "name": "stdout",
     "output_type": "stream",
     "text": [
      "0:\tlearn: 1.3754394\ttotal: 256ms\tremaining: 21m 19s\n",
      "500:\tlearn: 0.9872785\ttotal: 1m 15s\tremaining: 11m 18s\n",
      "1000:\tlearn: 0.9255206\ttotal: 2m 48s\tremaining: 11m 14s\n",
      "1500:\tlearn: 0.8930087\ttotal: 4m 29s\tremaining: 10m 27s\n",
      "2000:\tlearn: 0.8697867\ttotal: 6m 13s\tremaining: 9m 19s\n",
      "2500:\tlearn: 0.8525119\ttotal: 7m 59s\tremaining: 7m 58s\n",
      "3000:\tlearn: 0.8347634\ttotal: 9m 44s\tremaining: 6m 29s\n",
      "3500:\tlearn: 0.8208507\ttotal: 11m 30s\tremaining: 4m 55s\n",
      "4000:\tlearn: 0.8070770\ttotal: 13m 15s\tremaining: 3m 18s\n",
      "4500:\tlearn: 0.7971018\ttotal: 15m\tremaining: 1m 39s\n",
      "4999:\tlearn: 0.7873111\ttotal: 16m 45s\tremaining: 0us\n",
      "0:\tlearn: 1.3767111\ttotal: 272ms\tremaining: 22m 40s\n",
      "500:\tlearn: 1.0182878\ttotal: 1m 15s\tremaining: 11m 17s\n",
      "1000:\tlearn: 0.9557123\ttotal: 2m 52s\tremaining: 11m 27s\n",
      "1500:\tlearn: 0.9211547\ttotal: 4m 43s\tremaining: 11m 1s\n",
      "2000:\tlearn: 0.8977087\ttotal: 6m 38s\tremaining: 9m 57s\n",
      "2500:\tlearn: 0.8775090\ttotal: 8m 23s\tremaining: 8m 23s\n",
      "3000:\tlearn: 0.8631270\ttotal: 10m 8s\tremaining: 6m 45s\n",
      "3500:\tlearn: 0.8499669\ttotal: 11m 53s\tremaining: 5m 5s\n",
      "4000:\tlearn: 0.8368030\ttotal: 13m 38s\tremaining: 3m 24s\n",
      "4500:\tlearn: 0.8240014\ttotal: 15m 25s\tremaining: 1m 42s\n",
      "4999:\tlearn: 0.8146619\ttotal: 17m 9s\tremaining: 0us\n",
      "0:\tlearn: 1.3756858\ttotal: 152ms\tremaining: 12m 40s\n",
      "500:\tlearn: 0.9935256\ttotal: 1m 16s\tremaining: 11m 22s\n",
      "1000:\tlearn: 0.9321814\ttotal: 2m 51s\tremaining: 11m 23s\n",
      "1500:\tlearn: 0.8961214\ttotal: 4m 34s\tremaining: 10m 39s\n",
      "2000:\tlearn: 0.8712324\ttotal: 6m 19s\tremaining: 9m 28s\n",
      "2500:\tlearn: 0.8507377\ttotal: 8m 3s\tremaining: 8m 2s\n",
      "3000:\tlearn: 0.8348305\ttotal: 9m 48s\tremaining: 6m 32s\n",
      "3500:\tlearn: 0.8213137\ttotal: 11m 35s\tremaining: 4m 57s\n",
      "4000:\tlearn: 0.8071078\ttotal: 13m 21s\tremaining: 3m 20s\n",
      "4500:\tlearn: 0.7929041\ttotal: 15m 7s\tremaining: 1m 40s\n",
      "4999:\tlearn: 0.7813303\ttotal: 16m 53s\tremaining: 0us\n",
      "0:\tlearn: 1.3764216\ttotal: 242ms\tremaining: 20m 8s\n",
      "500:\tlearn: 1.0120955\ttotal: 1m 20s\tremaining: 11m 59s\n",
      "1000:\tlearn: 0.9504248\ttotal: 2m 56s\tremaining: 11m 45s\n",
      "1500:\tlearn: 0.9164897\ttotal: 4m 38s\tremaining: 10m 49s\n",
      "2000:\tlearn: 0.8917767\ttotal: 6m 21s\tremaining: 9m 31s\n",
      "2500:\tlearn: 0.8731765\ttotal: 8m 7s\tremaining: 8m 7s\n",
      "3000:\tlearn: 0.8546351\ttotal: 9m 55s\tremaining: 6m 36s\n",
      "3500:\tlearn: 0.8373933\ttotal: 11m 43s\tremaining: 5m 1s\n",
      "4000:\tlearn: 0.8223393\ttotal: 13m 30s\tremaining: 3m 22s\n",
      "4500:\tlearn: 0.8073776\ttotal: 15m 16s\tremaining: 1m 41s\n",
      "4999:\tlearn: 0.7947893\ttotal: 17m 3s\tremaining: 0us\n",
      "0:\tlearn: 1.3757428\ttotal: 244ms\tremaining: 20m 17s\n",
      "500:\tlearn: 0.9980031\ttotal: 1m 19s\tremaining: 11m 51s\n",
      "1000:\tlearn: 0.9388615\ttotal: 2m 55s\tremaining: 11m 39s\n",
      "1500:\tlearn: 0.9007792\ttotal: 4m 39s\tremaining: 10m 51s\n",
      "2000:\tlearn: 0.8750683\ttotal: 6m 25s\tremaining: 9m 38s\n",
      "2500:\tlearn: 0.8554963\ttotal: 8m 11s\tremaining: 8m 11s\n",
      "3000:\tlearn: 0.8379662\ttotal: 9m 59s\tremaining: 6m 39s\n",
      "3500:\tlearn: 0.8228843\ttotal: 11m 47s\tremaining: 5m 2s\n",
      "4000:\tlearn: 0.8077692\ttotal: 13m 35s\tremaining: 3m 23s\n",
      "4500:\tlearn: 0.7934236\ttotal: 15m 25s\tremaining: 1m 42s\n",
      "4999:\tlearn: 0.7817279\ttotal: 17m 15s\tremaining: 0us\n"
     ]
    }
   ],
   "source": [
    "train['prob_Excellent'] = 0.0\n",
    "train['prob_Good'] = 0.0\n",
    "train['prob_Pass'] = 0.0\n",
    "train['prob_Fail'] = 0.0\n",
    "\n",
    "kfold = KFold(n_splits=5, shuffle=False)\n",
    "split = kfold.split(train, train.label)\n",
    "result_stage1 = []\n",
    "for train_index, val_index in split:\n",
    "    X_train = train.iloc[train_index]\n",
    "    X_val = train.iloc[val_index]\n",
    "    model = CatBoostClassifier(iterations=5000, depth=10, learning_rate=0.02, \n",
    "                           verbose=500, loss_function='MultiClass', \n",
    "                           random_state=924, l2_leaf_reg=0.01)\n",
    "    model.fit(X_train[features], X_train.label)\n",
    "    # X_val.loc[:, ['prob_Excellent', 'prob_Good', 'prob_Pass', 'prob_Fail']] = model.predict_proba(X_val[features])\n",
    "    pred = model.predict_proba(test[features])\n",
    "    result_stage1.append(pred)"
   ]
  },
  {
   "cell_type": "code",
   "execution_count": 63,
   "metadata": {
    "ExecuteTime": {
     "end_time": "2019-09-24T09:53:01.844883Z",
     "start_time": "2019-09-24T09:53:01.746878Z"
    }
   },
   "outputs": [],
   "source": [
    "result_submission = np.zeros((6000, 4))\n",
    "for i in range(result_submission.shape[0]):\n",
    "    for j in range(result_submission.shape[1]):\n",
    "        elem_sum = 0.0\n",
    "        for k in range(5):\n",
    "            elem_sum += result_stage1[k][i, j]\n",
    "        result_submission[i, j] = elem_sum / 5.0"
   ]
  },
  {
   "cell_type": "code",
   "execution_count": 76,
   "metadata": {
    "ExecuteTime": {
     "end_time": "2019-09-24T10:01:58.597584Z",
     "start_time": "2019-09-24T10:01:58.591583Z"
    }
   },
   "outputs": [],
   "source": [
    "result_df = pd.DataFrame(result_submission, columns=['prob_Excellent', 'prob_Good', 'prob_Pass', 'prob_Fail'])\n",
    "result_df['Group'] = test.Group"
   ]
  },
  {
   "cell_type": "code",
   "execution_count": 79,
   "metadata": {
    "ExecuteTime": {
     "end_time": "2019-09-24T10:02:26.341171Z",
     "start_time": "2019-09-24T10:02:26.274167Z"
    }
   },
   "outputs": [],
   "source": [
    "result_df = result_df.groupby(['Group'], as_index=False)['prob_Excellent', 'prob_Good', 'prob_Pass', 'prob_Fail'].mean()\n",
    "result_df.columns = ['Group','Excellent ratio','Good ratio','Pass ratio','Fail ratio']\n",
    "result_df.to_csv('submission17.csv', index=False)"
   ]
  },
  {
   "cell_type": "code",
   "execution_count": null,
   "metadata": {
    "ExecuteTime": {
     "end_time": "2019-09-24T10:02:06.509036Z",
     "start_time": "2019-09-24T10:02:06.471034Z"
    }
   },
   "outputs": [],
   "source": []
  },
  {
   "cell_type": "markdown",
   "metadata": {},
   "source": [
    "#### 取log"
   ]
  },
  {
   "cell_type": "code",
   "execution_count": null,
   "metadata": {
    "ExecuteTime": {
     "end_time": "2019-09-05T03:24:05.477256Z",
     "start_time": "2019-09-05T03:24:04.857177Z"
    }
   },
   "outputs": [],
   "source": [
    "features = ['Parameter6', 'Parameter7', 'Parameter8', \n",
    "            'Parameter9', 'Parameter10']\n",
    "for feature in features:\n",
    "    trainX[feature] = np.log(trainX[feature])\n",
    "    testX[feature] = np.log(testX[feature])"
   ]
  },
  {
   "cell_type": "code",
   "execution_count": null,
   "metadata": {
    "ExecuteTime": {
     "end_time": "2019-09-05T03:24:07.912065Z",
     "start_time": "2019-09-05T03:24:07.839056Z"
    }
   },
   "outputs": [],
   "source": [
    "full2.head()"
   ]
  },
  {
   "cell_type": "markdown",
   "metadata": {},
   "source": [
    "#### 数据分割"
   ]
  },
  {
   "cell_type": "code",
   "execution_count": null,
   "metadata": {
    "ExecuteTime": {
     "end_time": "2019-09-05T03:24:18.905461Z",
     "start_time": "2019-09-05T03:24:18.829951Z"
    }
   },
   "outputs": [],
   "source": [
    "trainY = trainX.label\n",
    "trainX.drop(['label'], axis=1, inplace=True)\n",
    "\n",
    "print('shape of trainX:', trainX.shape)\n",
    "print('shape of trainY:', trainY.shape)\n",
    "print('shape of testX:', testX.shape)"
   ]
  },
  {
   "cell_type": "code",
   "execution_count": null,
   "metadata": {
    "ExecuteTime": {
     "end_time": "2019-09-06T01:21:11.193247Z",
     "start_time": "2019-09-06T01:21:11.057230Z"
    }
   },
   "outputs": [],
   "source": [
    "trainX.drop(['Parameter6', 'Parameter7', 'Parameter8', 'Parameter9', 'Parameter10'], axis=1, inplace=True)\n",
    "trainX.head()"
   ]
  },
  {
   "cell_type": "code",
   "execution_count": null,
   "metadata": {
    "ExecuteTime": {
     "end_time": "2019-09-06T01:22:44.182055Z",
     "start_time": "2019-09-06T01:22:44.093544Z"
    }
   },
   "outputs": [],
   "source": [
    "testX.drop(['Parameter6', 'Parameter7', 'Parameter8', 'Parameter9', 'Parameter10'], axis=1, inplace=True)\n",
    "testX.head()"
   ]
  },
  {
   "cell_type": "code",
   "execution_count": null,
   "metadata": {
    "ExecuteTime": {
     "end_time": "2019-09-03T09:33:56.100007Z",
     "start_time": "2019-09-03T09:33:56.093507Z"
    },
    "scrolled": true
   },
   "outputs": [],
   "source": [
    "trainX = full2[:train.shape[0]]\n",
    "trainY = train.label\n",
    "testX = full2[train.shape[0]:]\n",
    "\n",
    "print('shape of trainX:', trainX.shape)\n",
    "print('shape of trainY:', trainY.shape)\n",
    "print('shape of testX:', testX.shape)"
   ]
  },
  {
   "cell_type": "markdown",
   "metadata": {},
   "source": [
    "#### 划分训练集和验证集"
   ]
  },
  {
   "cell_type": "code",
   "execution_count": null,
   "metadata": {
    "ExecuteTime": {
     "end_time": "2019-09-04T04:02:03.784902Z",
     "start_time": "2019-09-04T04:02:03.758399Z"
    }
   },
   "outputs": [],
   "source": [
    "X_train, X_test, y_train, y_test = train_test_split(trainX, trainY, test_size=0.2, random_state=42)\n",
    "X_train.shape"
   ]
  },
  {
   "cell_type": "code",
   "execution_count": null,
   "metadata": {
    "ExecuteTime": {
     "end_time": "2019-09-04T04:04:12.728776Z",
     "start_time": "2019-09-04T04:02:05.166078Z"
    }
   },
   "outputs": [],
   "source": [
    "model = CatBoostClassifier(iterations=2000, depth=8, learning_rate=0.01, verbose=100, loss_function='MultiClass', random_state=42)\n",
    "model.fit(X_train, y_train)\n",
    "\n",
    "predY = model.predict(X_test)"
   ]
  },
  {
   "cell_type": "code",
   "execution_count": null,
   "metadata": {
    "ExecuteTime": {
     "end_time": "2019-09-05T02:59:42.102931Z",
     "start_time": "2019-09-05T01:14:49.978177Z"
    },
    "scrolled": true
   },
   "outputs": [],
   "source": [
    "model = CatBoostClassifier(iterations=2000, depth=8, learning_rate=0.01, verbose=1000, loss_function='MultiClass', random_state=42)\n",
    "\n",
    "param = {'depth':[6, 8, 10], 'l2_leaf_reg':[0.01, 0.1]}\n",
    "cv = GridSearchCV(model, param_grid=param, verbose=1, cv=5, scoring='accuracy')\n",
    "cv.fit(trainX, trainY)"
   ]
  },
  {
   "cell_type": "code",
   "execution_count": null,
   "metadata": {
    "ExecuteTime": {
     "end_time": "2019-09-05T03:02:58.309846Z",
     "start_time": "2019-09-05T03:02:58.302345Z"
    }
   },
   "outputs": [],
   "source": [
    "cv.best_params_"
   ]
  },
  {
   "cell_type": "code",
   "execution_count": null,
   "metadata": {
    "ExecuteTime": {
     "end_time": "2019-09-05T03:03:05.000695Z",
     "start_time": "2019-09-05T03:03:04.992694Z"
    }
   },
   "outputs": [],
   "source": [
    "cv.best_score_"
   ]
  },
  {
   "cell_type": "code",
   "execution_count": null,
   "metadata": {},
   "outputs": [],
   "source": [
    "model = lgb.LGBMClassifier()\n",
    "model.fit(X_train, y_train)\n",
    "predY = model.predict(X_test)"
   ]
  },
  {
   "cell_type": "code",
   "execution_count": null,
   "metadata": {
    "ExecuteTime": {
     "end_time": "2019-09-04T05:47:38.676331Z",
     "start_time": "2019-09-04T05:47:38.660829Z"
    },
    "scrolled": true
   },
   "outputs": [],
   "source": [
    "sum(np.array(y_test.tolist()).reshape(-1,1) == predY) / predY.shape[0]"
   ]
  },
  {
   "cell_type": "markdown",
   "metadata": {
    "ExecuteTime": {
     "end_time": "2019-08-26T06:49:46.859248Z",
     "start_time": "2019-08-26T06:49:46.836247Z"
    }
   },
   "source": [
    "### 模型构建"
   ]
  },
  {
   "cell_type": "markdown",
   "metadata": {},
   "source": [
    "#### LogisticRegression"
   ]
  },
  {
   "cell_type": "code",
   "execution_count": null,
   "metadata": {
    "ExecuteTime": {
     "end_time": "2019-08-30T02:26:17.295084Z",
     "start_time": "2019-08-30T02:26:16.679049Z"
    }
   },
   "outputs": [],
   "source": [
    "lr = LogisticRegression()\n",
    "lr.fit(trainX, trainY)\n",
    "predY = lr.predict(testX)\n",
    "proba = lr.predict_proba(testX)"
   ]
  },
  {
   "cell_type": "markdown",
   "metadata": {},
   "source": [
    "#### AdaBoostClassifier"
   ]
  },
  {
   "cell_type": "code",
   "execution_count": null,
   "metadata": {
    "ExecuteTime": {
     "end_time": "2019-08-27T02:44:51.872276Z",
     "start_time": "2019-08-27T02:44:51.223239Z"
    }
   },
   "outputs": [],
   "source": [
    "ada = AdaBoostClassifier()\n",
    "ada.fit(trainX, trainY)\n",
    "predY = ada.predict(testX)"
   ]
  },
  {
   "cell_type": "markdown",
   "metadata": {},
   "source": [
    "#### xgboost"
   ]
  },
  {
   "cell_type": "code",
   "execution_count": null,
   "metadata": {
    "ExecuteTime": {
     "end_time": "2019-08-30T01:51:25.649449Z",
     "start_time": "2019-08-30T01:51:21.375204Z"
    }
   },
   "outputs": [],
   "source": [
    "xgbc = xgb.XGBClassifier()\n",
    "xgbc.fit(trainX, trainY)\n",
    "predY = xgbc.predict(testX)"
   ]
  },
  {
   "cell_type": "markdown",
   "metadata": {},
   "source": [
    "#### lightgbm"
   ]
  },
  {
   "cell_type": "code",
   "execution_count": null,
   "metadata": {},
   "outputs": [],
   "source": [
    "lgbc = lgb.LGBMClassifier()\n",
    "lgbc.fit(trainX, trainY)\n",
    "predY = lgbc.predict(testX)"
   ]
  },
  {
   "cell_type": "markdown",
   "metadata": {},
   "source": [
    "#### catboost"
   ]
  },
  {
   "cell_type": "code",
   "execution_count": null,
   "metadata": {
    "ExecuteTime": {
     "end_time": "2019-09-06T01:35:28.964670Z",
     "start_time": "2019-09-06T01:23:05.117214Z"
    }
   },
   "outputs": [],
   "source": [
    "model = CatBoostClassifier(iterations=4000, depth=10, learning_rate=0.01, \n",
    "                           verbose=500, loss_function='MultiClass', \n",
    "                           random_state=42, l2_leaf_reg=0.01)\n",
    "model.fit(trainX, trainY)\n",
    "predY = model.predict(testX)"
   ]
  },
  {
   "cell_type": "markdown",
   "metadata": {},
   "source": [
    "_______"
   ]
  },
  {
   "cell_type": "code",
   "execution_count": null,
   "metadata": {
    "ExecuteTime": {
     "end_time": "2019-09-05T03:06:00.528485Z",
     "start_time": "2019-09-05T03:06:00.479978Z"
    }
   },
   "outputs": [],
   "source": [
    "proba = model.predict_proba(testX)\n",
    "proba"
   ]
  },
  {
   "cell_type": "code",
   "execution_count": null,
   "metadata": {
    "ExecuteTime": {
     "end_time": "2019-09-06T01:40:36.164680Z",
     "start_time": "2019-09-06T01:40:36.023662Z"
    },
    "scrolled": true
   },
   "outputs": [],
   "source": [
    "test['pred'] = predY\n",
    "test['prob_Excellent'] = 0.0\n",
    "test['prob_Good'] = 0.0\n",
    "test['prob_Pass'] = 0.0\n",
    "test['prob_Fail'] = 0.0\n",
    "test.loc[:, ['prob_Excellent', 'prob_Good', 'prob_Pass', 'prob_Fail']] = model.predict_proba(testX)\n",
    "test.head(10)"
   ]
  },
  {
   "cell_type": "code",
   "execution_count": null,
   "metadata": {
    "ExecuteTime": {
     "end_time": "2019-09-06T01:40:46.501992Z",
     "start_time": "2019-09-06T01:40:46.484490Z"
    },
    "scrolled": true
   },
   "outputs": [],
   "source": [
    "result = test.groupby(['Group'], as_index=False)['prob_Excellent', 'prob_Good', 'prob_Pass', 'prob_Fail'].mean()\n",
    "result.columns = ['Group','Excellent ratio','Good ratio','Pass ratio','Fail ratio']\n",
    "result.to_csv('submission17.csv', index=False)"
   ]
  },
  {
   "cell_type": "code",
   "execution_count": null,
   "metadata": {
    "ExecuteTime": {
     "end_time": "2019-09-05T03:09:44.947482Z",
     "start_time": "2019-09-05T03:09:44.784962Z"
    }
   },
   "outputs": [],
   "source": []
  },
  {
   "cell_type": "markdown",
   "metadata": {},
   "source": [
    "_________"
   ]
  },
  {
   "cell_type": "code",
   "execution_count": null,
   "metadata": {
    "ExecuteTime": {
     "end_time": "2019-09-05T05:37:44.092991Z",
     "start_time": "2019-09-05T05:37:44.084489Z"
    }
   },
   "outputs": [],
   "source": [
    "20000/14584 * 11000"
   ]
  }
 ],
 "metadata": {
  "kernelspec": {
   "display_name": "Python 3",
   "language": "python",
   "name": "python3"
  },
  "language_info": {
   "codemirror_mode": {
    "name": "ipython",
    "version": 3
   },
   "file_extension": ".py",
   "mimetype": "text/x-python",
   "name": "python",
   "nbconvert_exporter": "python",
   "pygments_lexer": "ipython3",
   "version": "3.6.6"
  },
  "toc": {
   "base_numbering": 1,
   "nav_menu": {},
   "number_sections": true,
   "sideBar": true,
   "skip_h1_title": false,
   "title_cell": "Table of Contents",
   "title_sidebar": "Contents",
   "toc_cell": false,
   "toc_position": {
    "height": "calc(100% - 180px)",
    "left": "10px",
    "top": "150px",
    "width": "286.391px"
   },
   "toc_section_display": true,
   "toc_window_display": true
  },
  "varInspector": {
   "cols": {
    "lenName": 16,
    "lenType": 16,
    "lenVar": 40
   },
   "kernels_config": {
    "python": {
     "delete_cmd_postfix": "",
     "delete_cmd_prefix": "del ",
     "library": "var_list.py",
     "varRefreshCmd": "print(var_dic_list())"
    },
    "r": {
     "delete_cmd_postfix": ") ",
     "delete_cmd_prefix": "rm(",
     "library": "var_list.r",
     "varRefreshCmd": "cat(var_dic_list()) "
    }
   },
   "types_to_exclude": [
    "module",
    "function",
    "builtin_function_or_method",
    "instance",
    "_Feature"
   ],
   "window_display": false
  }
 },
 "nbformat": 4,
 "nbformat_minor": 2
}
