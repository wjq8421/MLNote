{
 "cells": [
  {
   "cell_type": "markdown",
   "metadata": {},
   "source": [
    "- **朴素贝叶斯**：对于给定的训练数据集，首先基于特征条件独立假设学习输入\\输出的联合概率分布；然后基于此模型，对给定的输入$x$，利用贝叶斯定理求出后验概率最大的输出$y$。\n",
    "\n",
    "1. 朴素贝叶斯对条件概率分布作了条件独立性的假设，即：\n",
    "$$P(X=x|Y=c_k)=P(x^{(1)}=x^{(1)},\\cdots,X^{(n)}=x^{(n)}|Y=c_k)=\\prod_{j=1}^nP(X^{(j)}=x^{(j)}|Y=c_k)$$\n",
    "2. 分类时，对给定的输入$x$，通过学习到的模型计算后验概率分布$P(Y=c_k|X=x)$，将**后验概率**最大的类作为$x$的类输出。\n",
    "$$P(Y=c_k|X=x)=\\frac{P(X=x|Y=c_k)P(Y=c_k)}{\\sum_kP(X=x|Y=c_k)P(Y=c_k)}$$\n",
    "3. 朴素贝叶斯分类器可表示为：\n",
    "$$y=arg\\ \\underset{c_k}{max}P(Y=c_k)\\prod_jP(X^{(j)}=x^{(j)}|Y=c_k)$$"
   ]
  },
  {
   "cell_type": "markdown",
   "metadata": {},
   "source": [
    "_______\n",
    "##### 极大似然估计\n",
    "1. **先验概率**$P(Y=c_k)$的极大似然估计为：\n",
    "$$P(Y=c_k)=\\frac{\\sum_{i=1}^NI(y_i=c_k)}{N},\\ k=1,2,\\cdots,K$$\n",
    "\n",
    "2. 设第$j$个特征$x^{(j)}$可能取值的集合为$\\{a_{j1},a_{j2},\\cdots, a_{jS_j}\\}$，**条件概率**$P(X^{(j)}=a_{jl}|Y=c_k)$的极大似然估计为：\n",
    "$$P(X^{(j)}=a_{jl}|Y=c_k)=\\frac{\\sum_{i=1}^NI(x_i^{(j)}=a_{jl},y_i=c_k)}{\\sum_{i=1}^NI(y_i=c_k)}$$\n",
    "其中，$x_i^{(j)}$是第$i$个样本的第$j$个特征；$a_{jl}$是第$j$个特征可能取的第$l$个值。\n",
    "\n",
    "3. 存在的问题：\n",
    "    - 可能会出现所要估计的概率值为0的情况，此时会影响到后验概率的计算结果，使分类产生偏差。此时，可使用贝叶斯估计。"
   ]
  },
  {
   "cell_type": "markdown",
   "metadata": {},
   "source": [
    "___________\n",
    "##### 贝叶斯估计\n",
    "1. **先验概率**$P(Y=c_k)$的贝叶斯估计为：\n",
    "$$P(Y=c_k)=\\frac{\\sum_{i=1}^NI(y_i=c_k)+\\lambda}{N+K\\lambda},\\ k=1,2,\\cdots,K$$\n",
    "\n",
    "2. 设第$j$个特征$x^{(j)}$可能取值的集合为$\\{a_{j1},a_{j2},\\cdots, a_{jS_j}\\}$，**条件概率**$P(X^{(j)}=a_{jl}|Y=c_k)$的极大似然估计为：\n",
    "$$P(X^{(j)}=a_{jl}|Y=c_k)=\\frac{\\sum_{i=1}^NI(x_i^{(j)}=a_{jl},y_i=c_k)+\\lambda}{\\sum_{i=1}^NI(y_i=c_k)+S_j\\lambda}$$\n",
    "\n",
    "式中$\\lambda \\geq 0$，等价于在随机变量各个取值的频数上赋予一个正数，常取$\\lambda = 1$"
   ]
  },
  {
   "cell_type": "markdown",
   "metadata": {},
   "source": [
    "_____________\n",
    "- **联合概率分布**：\n",
    "$$P(X,Y)=P(Y)P(X|Y)$$\n",
    "\n",
    "$$P(Y|X)=\\frac{P(X,Y)}{P(X)}$$"
   ]
  }
 ],
 "metadata": {
  "kernelspec": {
   "display_name": "Python 3",
   "language": "python",
   "name": "python3"
  },
  "language_info": {
   "codemirror_mode": {
    "name": "ipython",
    "version": 3
   },
   "file_extension": ".py",
   "mimetype": "text/x-python",
   "name": "python",
   "nbconvert_exporter": "python",
   "pygments_lexer": "ipython3",
   "version": "3.6.6"
  },
  "toc": {
   "base_numbering": 1,
   "nav_menu": {},
   "number_sections": true,
   "sideBar": true,
   "skip_h1_title": false,
   "title_cell": "Table of Contents",
   "title_sidebar": "Contents",
   "toc_cell": false,
   "toc_position": {},
   "toc_section_display": true,
   "toc_window_display": false
  },
  "varInspector": {
   "cols": {
    "lenName": 16,
    "lenType": 16,
    "lenVar": 40
   },
   "kernels_config": {
    "python": {
     "delete_cmd_postfix": "",
     "delete_cmd_prefix": "del ",
     "library": "var_list.py",
     "varRefreshCmd": "print(var_dic_list())"
    },
    "r": {
     "delete_cmd_postfix": ") ",
     "delete_cmd_prefix": "rm(",
     "library": "var_list.r",
     "varRefreshCmd": "cat(var_dic_list()) "
    }
   },
   "types_to_exclude": [
    "module",
    "function",
    "builtin_function_or_method",
    "instance",
    "_Feature"
   ],
   "window_display": false
  }
 },
 "nbformat": 4,
 "nbformat_minor": 2
}
