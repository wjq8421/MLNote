{
 "cells": [
  {
   "cell_type": "markdown",
   "metadata": {},
   "source": [
    "数据预处理常用流程：\n",
    "### 去除唯一属性\n",
    "通常是添加的一些id属性，并不能刻画样本自身的分布规律，只需要简单地删除即可。"
   ]
  },
  {
   "cell_type": "markdown",
   "metadata": {},
   "source": [
    "### 处理缺失值\n",
    "> 1. 直接使用\n",
    "> 2. 删除特征：该属性含有大量的缺失值，仅仅包含极少量的有效值。\n",
    "> 3. 缺失值补全：用最可能的值来插补缺失值。\n",
    "\n",
    "#### 均值插补\n",
    "> 1. 样本属性的距离是可度量的，如身高、体重。其缺失值就以该属性有效值的**平均值**来插补缺失的值。\n",
    "> 2. 样本属性的距离是不可度量的，如性别、国籍。其缺失值就以该属性有效值的**众数**来插补缺失的值。\n",
    "\n",
    "缺点：含有缺失值的属性上的所有缺失值都填补为同样的值。\n",
    "\n",
    "#### 用同类均值插补\n",
    "> 首先将样本进行分类，然后以该类中样本的均值来插补缺失值。\n",
    "\n",
    "将数据划分为$D_l$和$D_u$，其中$x^{(t)}$在$D_l$上含有有效数据，在$D_u$上有缺失值。\n",
    "\n",
    "首先利用层次聚类算法对$D_l$进行聚类，设聚类的结果为$K$个簇$C_1,C_2,\\cdots,C_K$，计算这$K$个簇在$X^{(t)}$上的均值$\\mu_1,\\mu_2,\\cdots,\\mu_K$。\n",
    "\n",
    "对于$\\vec{x}_i\\in D_u$，先对其进行聚类预测，设它被判定为属于簇$C_k$，则有$\\hat{x}^{(t)}_i=\\mu_k$。\n",
    "\n",
    "#### 建模预测\n",
    "> 将缺失的属性作为预测目标来预测。\n",
    "\n",
    "构建新的训练数据集为$D_l$，待预测数据集为$D_u$。利用现有的机器学习算法从$D_l$中学习，设学到的算法为$f$，则$\\vec{x}_i\\in D_u=f(\\hat{\\vec{x}}_i)$\n",
    "\n",
    "缺点：如果其他属性和缺失属性$x^{(t)}$无关，则预测的结果毫无意义。但是如果预测结果相当准确，则说明这个缺失属性是没必要考虑纳入数据集中的。\n",
    "\n",
    "#### 高维映射\n",
    "$x^{(t)}$属性的取值为离散值$\\{a_{t,1},a_{t,2},\\cdots,a_{t,K}\\}$，共$K$个取值，将该属性扩展为$K+1$个属性$(x^{(t,1)},x^{(t,2)},\\cdots,x^{(t,K)},x^{(t,K+1)})$，其中：\n",
    "> 1. 若$x^{(t)}=a_{t,j},j=1,2,\\cdots,K$，则$x^{(t,j)}=1$\n",
    "> 2. 若$x^{(t)}$属性值缺失，则$x^{(t,K+1)}=1$\n",
    "> 3. 其他情况下$x^{(t,j)}=0$\n",
    "\n",
    "优点：完整保留了原始数据的全部数据、不用考虑缺失值。\n",
    "\n",
    "缺点：计算量大大提升，而且只有在样本量非常大的时候效果才好，否则会因为过于稀疏，效果很差。\n",
    "\n",
    "#### 多重插补\n",
    "\n",
    "#### 极大似然估计\n",
    "\n",
    "#### 压缩感知及矩阵补全"
   ]
  },
  {
   "cell_type": "markdown",
   "metadata": {},
   "source": [
    "### 特征编码\n",
    "#### 特征二元化\n",
    "> 将数值型的属性转换为布尔值的属性，通常用于假设属性取值分布为伯努利分布的情形。\n",
    "\n",
    "对于某个属性$x^{(j)}$，其取值集合为$\\{x^{(j)}_1,x^{(j)}_2,\\cdots,x^{(j)}_N\\}$，若指定一个阈值$\\epsilon$，则：\n",
    "- 当$x^{(j)}\\geq \\epsilon$时，该属性二元化后的值为1，即$\\hat{x}^{(j)}=1$；\n",
    "- 当$x^{(j)}< \\epsilon$时，$\\hat{x}^{(j)}=0$。\n",
    "\n",
    "#### 独热编码（One-Hot Encoding）\n",
    "> 采用$N$位状态寄存器来对$N$个可能的取值进行编码，每个状态都由独立的寄存器位来表示，并且在任意时刻只有其中的一位有效。\n",
    "\n",
    "假设某个属性的取值为非数值的离散集合[离散值1，离散值2，$\\cdots$，离散值m]，则针对该属性的编码为一个$m$元的元组：\n",
    "$$(v_1,v_2,\\cdots,v_m)\\ v_i \\in \\{0,1\\},\\ i=1,2,\\cdots,m$$\n",
    "且$(v_1,v_2,\\cdots,v_m)$的分量有且仅有一个为1，其余的分量均为0。\n",
    "\n",
    "如对于性别编码：男编码为$(1,0)$，女编码为$(0,1)$。\n",
    "\n",
    "优点：\n",
    "> 1. 能够处理非数值属性；\n",
    "> 2. 在一定程度上扩充了特征；\n",
    "> 3. 编码后的属性是稀疏的，存在大量的零元分量。"
   ]
  },
  {
   "cell_type": "markdown",
   "metadata": {},
   "source": [
    "### 数据标准化、正则化\n"
   ]
  },
  {
   "cell_type": "markdown",
   "metadata": {},
   "source": [
    "\n",
    "4. 数据标准化、正则化\n",
    "5. 特征选择\n",
    "6. 主成分分析"
   ]
  }
 ],
 "metadata": {
  "kernelspec": {
   "display_name": "Python 3",
   "language": "python",
   "name": "python3"
  },
  "toc": {
   "base_numbering": 1,
   "nav_menu": {},
   "number_sections": true,
   "sideBar": true,
   "skip_h1_title": false,
   "title_cell": "Table of Contents",
   "title_sidebar": "Contents",
   "toc_cell": false,
   "toc_position": {},
   "toc_section_display": true,
   "toc_window_display": true
  },
  "varInspector": {
   "cols": {
    "lenName": 16,
    "lenType": 16,
    "lenVar": 40
   },
   "kernels_config": {
    "python": {
     "delete_cmd_postfix": "",
     "delete_cmd_prefix": "del ",
     "library": "var_list.py",
     "varRefreshCmd": "print(var_dic_list())"
    },
    "r": {
     "delete_cmd_postfix": ") ",
     "delete_cmd_prefix": "rm(",
     "library": "var_list.r",
     "varRefreshCmd": "cat(var_dic_list()) "
    }
   },
   "types_to_exclude": [
    "module",
    "function",
    "builtin_function_or_method",
    "instance",
    "_Feature"
   ],
   "window_display": false
  }
 },
 "nbformat": 4,
 "nbformat_minor": 2
}
